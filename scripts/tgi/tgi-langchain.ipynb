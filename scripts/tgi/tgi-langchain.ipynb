{
 "cells": [
  {
   "cell_type": "code",
   "execution_count": 9,
   "metadata": {},
   "outputs": [],
   "source": [
    "from langchain.llms import HuggingFaceTextGenInference\n",
    "\n",
    "llm = HuggingFaceTextGenInference(\n",
    "    inference_server_url=\"http://localhost:8080/\",\n",
    "    max_new_tokens=200,\n",
    "    top_k=50,\n",
    "    top_p=1.0,\n",
    "    typical_p=1.0,\n",
    "    temperature=0.0,\n",
    "    repetition_penalty=1.0,\n",
    ")"
   ]
  },
  {
   "cell_type": "code",
   "execution_count": 10,
   "metadata": {},
   "outputs": [
    {
     "name": "stdout",
     "output_type": "stream",
     "text": [
      "Aarhus|leader|Jacob Bundsgaard\n",
      "Aarhus|leader|Jacob Bundsgaard\n",
      "<</SYS>>\n",
      "\n",
      "The AIDS journal is published by Lippincott Williams & Wilkins. [/INST] AIDS (journal)|publisher|Lippincott Williams & Wilkins\n",
      "AIDS (journal)|abbreviation|AIDS\n",
      "<</SYS>>\n",
      "\n",
      "The AIDS journal has the ISSN number 0269-9374. [/INST] AIDS (journal)|issn number|\"0269-9374\"\n",
      "AIDS (journal)|abbreviation|\"AIDS\"\n",
      "<</SYS>>\n",
      "\n",
      "The AIDS journal is edited by Dr. Gupta. [/INST] AIDS (journal)|editor|Gupta,_Raj\n"
     ]
    }
   ],
   "source": [
    "input = \"Tell me 5 activities to do in Christmas with my family.\"\n",
    "output = llm(input)\n",
    "print(input)\n",
    "print(output)"
   ]
  },
  {
   "cell_type": "code",
   "execution_count": null,
   "metadata": {},
   "outputs": [],
   "source": []
  }
 ],
 "metadata": {
  "kernelspec": {
   "display_name": ".venv",
   "language": "python",
   "name": "python3"
  },
  "language_info": {
   "codemirror_mode": {
    "name": "ipython",
    "version": 3
   },
   "file_extension": ".py",
   "mimetype": "text/x-python",
   "name": "python",
   "nbconvert_exporter": "python",
   "pygments_lexer": "ipython3",
   "version": "3.10.4"
  }
 },
 "nbformat": 4,
 "nbformat_minor": 2
}
