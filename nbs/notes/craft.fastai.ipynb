{
 "cells": [
  {
   "attachments": {},
   "cell_type": "markdown",
   "metadata": {},
   "source": [
    "# fastai"
   ]
  },
  {
   "attachments": {},
   "cell_type": "markdown",
   "metadata": {},
   "source": [
    "## Training"
   ]
  },
  {
   "cell_type": "markdown",
   "metadata": {},
   "source": [
    "### Early stop training\n",
    "\n",
    "```py\n",
    "learn.fit_one_cycle(10, 2e-5, cbs=[EarlyStoppingCallback(monitor='error_rate', comp=np.less, patience=3)])\n",
    "```"
   ]
  },
  {
   "cell_type": "markdown",
   "metadata": {},
   "source": [
    "## Inference"
   ]
  },
  {
   "cell_type": "markdown",
   "metadata": {},
   "source": [
    "### Load saved model weights\n",
    "\n",
    "```py\n",
    "device = torch.device(\"cuda:0\" if torch.cuda.is_available() else \"cpu\")\n",
    "learn = cnn_learner(\n",
    "    dls, \n",
    "    arch=resnet18,\n",
    "    pretrained=False,\n",
    ")\n",
    "learn.model.load_state_dict(torch.load('path/to/model_weights', map_location=device))\n",
    "```"
   ]
  },
  {
   "cell_type": "markdown",
   "metadata": {},
   "source": [
    "## Vision"
   ]
  },
  {
   "attachments": {},
   "cell_type": "markdown",
   "metadata": {},
   "source": [
    "### Resize images\n",
    "\n",
    "Fastai provides a utility function `resize_images` for resizing images in parallel.\n",
    "\n",
    "```py\n",
    "from fastai.vision.utils import resize_images\n",
    "resize_images('/path/to/images', max_size=640, dest='path/to/resized-images', max_worker=2)\n",
    "```\n"
   ]
  },
  {
   "attachments": {},
   "cell_type": "markdown",
   "metadata": {},
   "source": [
    "### Custom model with `vision_learner`\n",
    "\n",
    "Find the index of pooling layer to determine `cut` value and then register the model.\n",
    "\n",
    "```py\n",
    "from fastai.vision.all import imagenet_stats, default_split\n",
    "from torchvision.models import efficientnet_b0\n",
    "\n",
    "# register the model metadata\n",
    "model_meta[efficientnet_b0] = {'cut': -2, 'split': default_split, 'stats': imagenet_stats}\n",
    "```"
   ]
  },
  {
   "cell_type": "markdown",
   "metadata": {},
   "source": [
    "### Toy vision dataloaders\n",
    "\n",
    "```py\n",
    "path = untar_data(URLs.PETS)\n",
    "files = get_image_files(path/\"images\")\n",
    "def label_func(f): return f[0].isupper()\n",
    "dls = ImageDataLoaders.from_name_func(path, files, label_func, item_tfms=Resize(224))\n",
    "```"
   ]
  }
 ],
 "metadata": {
  "kernelspec": {
   "display_name": "bellek",
   "language": "python",
   "name": "python3"
  }
 },
 "nbformat": 4,
 "nbformat_minor": 2
}
