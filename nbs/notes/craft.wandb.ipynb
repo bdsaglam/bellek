{
 "cells": [
  {
   "attachments": {},
   "cell_type": "markdown",
   "metadata": {},
   "source": [
    "# W&B (Weights and Biases)"
   ]
  },
  {
   "cell_type": "markdown",
   "metadata": {},
   "source": [
    "[Fastai integration](https://docs.wandb.ai/guides/integrations/fastai)"
   ]
  },
  {
   "attachments": {},
   "cell_type": "markdown",
   "metadata": {},
   "source": [
    "## Recipes\n",
    "\n",
    "### Setup\n",
    "```py\n",
    "import wandb\n",
    "from getpass import getpass\n",
    "\n",
    "wandb_username = \"bdsaglam\"\n",
    "wandb_token = \"WANDB_TOKEN\"\n",
    "\n",
    "wandb.login() \n",
    "# !wandb login --relogin $wandb_token\n",
    "\n",
    "wandb.init(project=\"PROJECT-NAME\", entity=wandb_username)\n",
    "```\n",
    "\n",
    "### Download an artifact\n",
    "```py\n",
    "run = wandb.init(project=\"di504\", entity=\"bdsaglam\")\n",
    "artifact = run.use_artifact('bdsaglam/di504/run-1rub7bk8-model:v1', type='model')\n",
    "artifact_dir = artifact.download()\n",
    "```"
   ]
  }
 ],
 "metadata": {},
 "nbformat": 4,
 "nbformat_minor": 2
}
