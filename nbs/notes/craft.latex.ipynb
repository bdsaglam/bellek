{
 "cells": [
  {
   "cell_type": "markdown",
   "metadata": {},
   "source": [
    "# LaTeX"
   ]
  },
  {
   "cell_type": "markdown",
   "metadata": {},
   "source": [
    "## Recipes\n",
    "\n",
    "### Embed image\n",
    "\n",
    "Install package and set the directory for images\n",
    "\n",
    "```latex\n",
    "\n",
    "\\usepackage{graphicx}\n",
    "\\graphicspath{ {./images/} }\n",
    "\n",
    "```\n",
    "\n",
    "Then, in the body, embed the image by\n",
    "\n",
    "```latex\n",
    "\n",
    "\\includegraphics[width=16cm]{image_filename_without_extension}\n",
    "\n",
    "```"
   ]
  },
  {
   "cell_type": "markdown",
   "metadata": {},
   "source": []
  }
 ],
 "metadata": {
  "kernelspec": {
   "display_name": "fastmsc",
   "language": "python",
   "name": "python3"
  }
 },
 "nbformat": 4,
 "nbformat_minor": 2
}
