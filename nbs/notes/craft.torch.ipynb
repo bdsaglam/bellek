{
 "cells": [
  {
   "attachments": {},
   "cell_type": "markdown",
   "metadata": {},
   "source": [
    "# Torch"
   ]
  },
  {
   "cell_type": "markdown",
   "metadata": {},
   "source": [
    "\n",
    "\n",
    "## Memory\n",
    "\n",
    "\n",
    "\n",
    "- Reset CUDA GPU memory\n",
    "\n",
    "    ```py\n",
    "\n",
    "    torch.cuda.reset_max_memory_cached()\n",
    "\n",
    "    torch.cuda.reset_max_memory_allocated()\n",
    "\n",
    "    torch.cuda.reset_accumulated_memory_stats()\n",
    "\n",
    "    ```"
   ]
  }
 ],
 "metadata": {
  "kernelspec": {
   "display_name": "bellek",
   "language": "python",
   "name": "python3"
  }
 },
 "nbformat": 4,
 "nbformat_minor": 2
}
