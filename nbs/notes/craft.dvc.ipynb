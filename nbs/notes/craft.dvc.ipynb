{
 "cells": [
  {
   "attachments": {},
   "cell_type": "markdown",
   "metadata": {},
   "source": [
    "# DVC"
   ]
  },
  {
   "cell_type": "markdown",
   "metadata": {},
   "source": [
    "## Recipes\n",
    "\n",
    "### Hyperparameter sweep\n",
    "```sh\n",
    "dvc exp run --queue -S prompt='cte' -S model='llama-3-70b-tgi' -S 'temperature=range(0.0,0.1,2.0)' -S run='1,2,3'\n",
    "dvc queue start --jobs 4\n",
    "dvc queue status\n",
    "```\n",
    "\n",
    "### Compare experiments\n",
    "```sh\n",
    "dvc exp show\n",
    "```"
   ]
  }
 ],
 "metadata": {
  "kernelspec": {
   "display_name": "python3",
   "language": "python",
   "name": "python3"
  }
 },
 "nbformat": 4,
 "nbformat_minor": 2
}
