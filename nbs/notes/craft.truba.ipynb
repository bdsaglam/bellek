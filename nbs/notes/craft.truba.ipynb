{
 "cells": [
  {
   "attachments": {},
   "cell_type": "markdown",
   "metadata": {},
   "source": [
    "# TRUBA\n",
    "\n",
    "> Recipes for TRUBA, mostly slurm snippets\n"
   ]
  },
  {
   "cell_type": "markdown",
   "metadata": {},
   "source": [
    "## Rules\n",
    "\n",
    "1. Use `/truba_scratch/basaglam` directory to execute long-running scripts; otherwise, your account may be suspended.\n",
    "2. Specify time limit for each job based on the estimated execution time so that the job is optimally prioritized.\n",
    "3. Use `debug` partition for debugging jobs.\n"
   ]
  },
  {
   "cell_type": "markdown",
   "metadata": {},
   "source": [
    "## Slurm"
   ]
  },
  {
   "cell_type": "markdown",
   "metadata": {},
   "source": [
    "Here is a \"Hello World\" Slurm script for TRUBA. This script prints a few things and create new files in the directory that it's executed."
   ]
  },
  {
   "cell_type": "markdown",
   "metadata": {},
   "source": [
    "```sh\n",
    "#!/bin/bash\n",
    "\n",
    "#SBATCH -J hello-truba    # job name\n",
    "#SBATCH -A basaglam       # username\n",
    "#SBATCH -p debug          # partition\n",
    "#SBATCH --nodes 1\n",
    "#SBATCH --ntasks 2\n",
    "#SBATCH --cpus 1\n",
    "#SBATCH --time=0:03       # time limit, 3 seconds\n",
    "#SBATCH --threads 1       # no hyperthreading\n",
    "\n",
    "date\n",
    "\n",
    "echo \"Hello Truba\"\n",
    "echo \"Current working directory: $(pwd)\"\n",
    "echo \"Host: $(hostname)\"\n",
    "echo \"Python3 version: $(python3 --version)\"\n",
    "ls -al > directory-content.txt\n",
    "touch example.txt\n",
    "\n",
    "date\n",
    "exit\n",
    "```"
   ]
  },
  {
   "cell_type": "markdown",
   "metadata": {},
   "source": [
    "There are sample Slurm scripts in `/truba/sw/scripts/` directory."
   ]
  },
  {
   "attachments": {},
   "cell_type": "markdown",
   "metadata": {},
   "source": [
    "## Recipes"
   ]
  },
  {
   "attachments": {},
   "cell_type": "markdown",
   "metadata": {},
   "source": [
    "### Interactive GPU instance\n",
    "[Guide](https://docs.truba.gov.tr/how-to-guides/deep-learning/container.html)\n",
    "\n",
    "1. Request a host with GPU\n",
    "```sh\n",
    "srun -N 1 -n 1 -c 10 --gres=gpu:1 -p akya-cuda --time 1:00:00 --pty /bin/bash\n",
    "```\n",
    "\n",
    "2. Get host name.\n",
    "```sh\n",
    "hostname\n",
    "```\n",
    "\n",
    "3. On your local device, port forward with ssh\n",
    "```sh\n",
    "ssh -N -L localhost:8889:{hostname}:8888 basaglam@172.16.7.1\n",
    "```"
   ]
  },
  {
   "cell_type": "markdown",
   "metadata": {},
   "source": [
    "## Resources\n",
    "\n",
    "[Introduction to TRUBA](https://www.youtube.com/watch?v=JkxdXKCVtSw)"
   ]
  },
  {
   "cell_type": "markdown",
   "metadata": {},
   "source": []
  }
 ],
 "metadata": {
  "kernelspec": {
   "display_name": "python3",
   "language": "python",
   "name": "python3"
  }
 },
 "nbformat": 4,
 "nbformat_minor": 4
}
