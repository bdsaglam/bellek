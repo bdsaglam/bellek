{
 "cells": [
  {
   "cell_type": "markdown",
   "metadata": {},
   "source": [
    "# Conda"
   ]
  },
  {
   "cell_type": "markdown",
   "metadata": {},
   "source": [
    "\n",
    "\n",
    "## Environment management\n",
    "\n",
    "\n",
    "\n",
    "- List environments \n",
    "\n",
    "    ```sh\n",
    "\n",
    "    conda env list\n",
    "\n",
    "    ```\n",
    "\n",
    "\n",
    "\n",
    "- Create new environment\n",
    "\n",
    "    ```sh\n",
    "\n",
    "    conda env create -f environment.yml\n",
    "\n",
    "    ```\n",
    "\n",
    "\n",
    "\n",
    "- Update an environment\n",
    "\n",
    "    ```sh\n",
    "\n",
    "    conda env update -f environment.yml --prune\n",
    "\n",
    "    ```\n",
    "\n",
    "\n",
    "\n",
    "- Delete an environment\n",
    "\n",
    "    ```sh\n",
    "\n",
    "    conda env remove --name myenv\n",
    "\n",
    "    ```\n"
   ]
  }
 ],
 "metadata": {
  "kernelspec": {
   "display_name": "python3",
   "language": "python",
   "name": "python3"
  }
 },
 "nbformat": 4,
 "nbformat_minor": 2
}
