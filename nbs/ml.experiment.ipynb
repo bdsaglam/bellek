{
 "cells": [
  {
   "attachments": {},
   "cell_type": "markdown",
   "metadata": {},
   "source": [
    "# Experiment"
   ]
  },
  {
   "cell_type": "code",
   "execution_count": null,
   "metadata": {},
   "outputs": [],
   "source": [
    "#| default_exp ml.experiment"
   ]
  },
  {
   "cell_type": "code",
   "execution_count": null,
   "metadata": {},
   "outputs": [],
   "source": [
    "#| hide\n",
    "from fastcore.test import *\n",
    "from nbdev.showdoc import *"
   ]
  },
  {
   "cell_type": "code",
   "execution_count": null,
   "metadata": {},
   "outputs": [],
   "source": [
    "#| export\n",
    "\n",
    "from pathlib import Path\n",
    "import torch\n",
    "from bellek.utils import Tree, flatten_dict"
   ]
  },
  {
   "cell_type": "code",
   "execution_count": null,
   "metadata": {},
   "outputs": [],
   "source": [
    "#| export\n",
    "\n",
    "def make_experiment_dir(root=\"./experiments\", name=None):\n",
    "    if name is None:\n",
    "        from bellek.utils import generate_time_id\n",
    "        name = generate_time_id()\n",
    "    experiment_dir = Path(root) / name\n",
    "    experiment_dir.mkdir(parents=True, exist_ok=True)\n",
    "    return experiment_dir"
   ]
  },
  {
   "cell_type": "code",
   "execution_count": null,
   "metadata": {},
   "outputs": [],
   "source": [
    "#| export\n",
    "\n",
    "def prepare_config(config):\n",
    "    if \"device\" not in config:\n",
    "        config[\"device\"] = torch.device(\"cuda\" if torch.cuda.is_available() else \"cpu\")\n",
    "    \n",
    "    for k, v in config.flat().items():\n",
    "        if isinstance(k, str) and k.endswith(\"path\"):\n",
    "            config.set(k, str(Path(v).resolve()))\n",
    "    return config"
   ]
  },
  {
   "cell_type": "code",
   "execution_count": null,
   "metadata": {},
   "outputs": [],
   "source": [
    "#| export\n",
    "\n",
    "def merge_config_with_sweep_config(base_config, sweep_config, sep='.'):\n",
    "    return Tree.from_flat_dict({**flatten_dict(base_config, sep=sep), **flatten_dict(sweep_config, sep=sep)}, sep=sep)"
   ]
  },
  {
   "cell_type": "code",
   "execution_count": null,
   "metadata": {},
   "outputs": [],
   "source": [
    "#| hide\n",
    "config = merge_config_with_sweep_config({'a.b': 1, 'c': {'d': 2}}, {'c.d': 3})\n",
    "test_eq(config, {'a': {'b': 1}, 'c': {'d': 3}})"
   ]
  },
  {
   "cell_type": "code",
   "execution_count": null,
   "metadata": {},
   "outputs": [],
   "source": [
    "#| hide\n",
    "import nbdev; nbdev.nbdev_export()"
   ]
  }
 ],
 "metadata": {
  "kernelspec": {
   "display_name": "bellek",
   "language": "python",
   "name": "python3"
  }
 },
 "nbformat": 4,
 "nbformat_minor": 2
}
