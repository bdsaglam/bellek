{
 "cells": [
  {
   "attachments": {},
   "cell_type": "markdown",
   "metadata": {},
   "source": [
    "# Experiment"
   ]
  },
  {
   "cell_type": "code",
   "execution_count": null,
   "metadata": {},
   "outputs": [],
   "source": [
    "#| default_exp ml.experiment"
   ]
  },
  {
   "cell_type": "code",
   "execution_count": null,
   "metadata": {},
   "outputs": [],
   "source": [
    "#| hide\n",
    "from fastcore.test import *\n",
    "from nbdev.showdoc import *"
   ]
  },
  {
   "cell_type": "code",
   "execution_count": null,
   "metadata": {},
   "outputs": [],
   "source": [
    "#| export\n",
    "\n",
    "from pathlib import Path\n",
    "import torch\n",
    "import wandb\n",
    "import json\n",
    "from bellek.utils import context_chdir, NestedDict, flatten_dict"
   ]
  },
  {
   "cell_type": "code",
   "execution_count": null,
   "metadata": {},
   "outputs": [],
   "source": [
    "#| export\n",
    "\n",
    "def make_experiment_dir(root=\"./experiments\", name=None):\n",
    "    if name is None:\n",
    "        from bellek.utils import generate_time_id\n",
    "        name = generate_time_id()\n",
    "    experiment_dir = Path(root) / name\n",
    "    experiment_dir.mkdir(parents=True, exist_ok=True)\n",
    "    return experiment_dir"
   ]
  },
  {
   "cell_type": "code",
   "execution_count": null,
   "metadata": {},
   "outputs": [],
   "source": [
    "#| export\n",
    "\n",
    "def prepare_config(config):\n",
    "    if \"device\" not in config:\n",
    "        config[\"device\"] = torch.device(\"cuda\" if torch.cuda.is_available() else \"cpu\")\n",
    "    \n",
    "    for k, v in config.flat().items():\n",
    "        if isinstance(k, str) and k.endswith(\"path\"):\n",
    "            config.set(k, str(Path(v).resolve()))\n",
    "    return config"
   ]
  },
  {
   "cell_type": "code",
   "execution_count": null,
   "metadata": {},
   "outputs": [],
   "source": [
    "#| export\n",
    "\n",
    "def make_run_experiment_sweep(run_experiment, config_defaults):\n",
    "    def func():\n",
    "        wandb_params = config_defaults[\"wandb\"]\n",
    "        with wandb.init(config=flatten_dict(config_defaults), **wandb_params) as wandb_run:\n",
    "            run_experiment(wandb_run)\n",
    "    return func\n",
    "\n",
    "def main(run_experiment, args):\n",
    "    with open(args.cfg) as f:\n",
    "        config = prepare_config(NestedDict(json.load(f)))\n",
    "\n",
    "    if args.sweep_cfg:\n",
    "        with open(args.sweep_cfg) as f:\n",
    "            sweep_config = json.load(f)\n",
    "    else:\n",
    "        sweep_config = {}\n",
    "\n",
    "    run_experiment_sweep = make_run_experiment_sweep(run_experiment, config)\n",
    "    with context_chdir(make_experiment_dir()):\n",
    "        wandb_params = config[\"wandb\"]\n",
    "        if args.sweep_cfg:\n",
    "            count = sweep_config.pop(\"count\")\n",
    "            sweep_id = wandb.sweep(\n",
    "                sweep_config,\n",
    "                entity=wandb_params[\"entity\"],\n",
    "                project=wandb_params[\"project\"],\n",
    "            )\n",
    "            wandb.agent(sweep_id, run_experiment_sweep, count=count)\n",
    "        else:\n",
    "            run_experiment_sweep()\n"
   ]
  },
  {
   "cell_type": "code",
   "execution_count": null,
   "metadata": {},
   "outputs": [],
   "source": [
    "#| hide\n",
    "import nbdev; nbdev.nbdev_export()"
   ]
  }
 ],
 "metadata": {
  "kernelspec": {
   "display_name": "python3",
   "language": "python",
   "name": "python3"
  }
 },
 "nbformat": 4,
 "nbformat_minor": 2
}
