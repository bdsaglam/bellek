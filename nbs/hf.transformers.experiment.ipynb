{
 "cells": [
  {
   "attachments": {},
   "cell_type": "markdown",
   "metadata": {},
   "source": [
    "# Transformers utils for experiments"
   ]
  },
  {
   "cell_type": "code",
   "execution_count": null,
   "metadata": {},
   "outputs": [],
   "source": [
    "#|default_exp hf.transformers.experiment"
   ]
  },
  {
   "cell_type": "code",
   "execution_count": null,
   "metadata": {},
   "outputs": [],
   "source": [
    "#|hide\n",
    "from fastcore.test import *\n",
    "from nbdev.showdoc import *"
   ]
  },
  {
   "cell_type": "code",
   "execution_count": null,
   "metadata": {},
   "outputs": [],
   "source": [
    "#|export\n",
    "from copy import deepcopy\n",
    "import torch\n",
    "from bellek.utils import NestedDict, generate_time_id\n",
    "from bellek.logging import get_logger\n",
    "from bellek.hf.transformers.utils import load_tokenizer_model\n",
    "\n",
    "log = get_logger(__name__)"
   ]
  },
  {
   "cell_type": "code",
   "execution_count": null,
   "metadata": {},
   "outputs": [],
   "source": [
    "#|export\n",
    "\n",
    "def preprocess_config(config: NestedDict):\n",
    "    config = deepcopy(config)\n",
    "\n",
    "    # Set float precision\n",
    "    major, _ = torch.cuda.get_device_capability()\n",
    "    if major >= 8:\n",
    "        log.info(\"GPU supports bfloat16.\")\n",
    "        torch_dtype, bf16, fp16, bnb_4bit_compute_dtype = (\"bfloat16\", True, False, \"bfloat16\")\n",
    "    else:\n",
    "        log.info(\"GPU does not support bfloat16.\")\n",
    "        torch_dtype, bf16, fp16, bnb_4bit_compute_dtype = (\"float16\", False, True, \"float16\")\n",
    "\n",
    "    if config.at(\"pretrained_model.torch_dtype\"):\n",
    "        config.set(\"pretrained_model.torch_dtype\", torch_dtype)\n",
    "    if config.at(\"pretrained_model.quantization_config.load_in_4bit\"):\n",
    "        config.set(\"pretrained_model.quantization_config.bnb_4bit_compute_dtype\", bnb_4bit_compute_dtype)\n",
    "    if config.at(\"trainer.training_args.bf16\") or config.at(\"trainer.training_args.fp16\"):\n",
    "        config.set(\"trainer.training_args.bf16\", bf16)\n",
    "        config.set(\"trainer.training_args.fp16\", fp16)\n",
    "    \n",
    "    # Generate unique model id\n",
    "    model_id = config.at(\"hfhub.model_id\")\n",
    "    if config.at(\"trainer.lora\") and \"-peft\" not in model_id:\n",
    "        model_id += \"-peft\"\n",
    "    if \"debug\" not in model_id:\n",
    "        model_id += f\"-{generate_time_id()}\"\n",
    "    config.set(\"hfhub.model_id\", model_id)\n",
    "\n",
    "    return config\n"
   ]
  },
  {
   "cell_type": "code",
   "execution_count": null,
   "metadata": {},
   "outputs": [],
   "source": [
    "#|export\n",
    "\n",
    "def fine_tune(config: NestedDict):\n",
    "    from math import ceil\n",
    "    from datasets import load_dataset\n",
    "    from peft import LoraConfig\n",
    "    from transformers import TrainingArguments\n",
    "    from trl import DataCollatorForCompletionOnlyLM, SFTTrainer\n",
    "\n",
    "    # Base model\n",
    "    pretrained_model_config = config[\"pretrained_model\"]\n",
    "    model_id = pretrained_model_config.pop(\"model_name_or_path\")\n",
    "    tokenizer, base_model = load_tokenizer_model(model_id, **pretrained_model_config)\n",
    "    log.info(f\"Loaded base model {model_id}\")\n",
    "\n",
    "    if \"llama\" in model_id:\n",
    "        from bellek.hf.transformers.llama import prepare_llama2_for_training\n",
    "\n",
    "        log.info(\"Base model is a LLAMA model, preparing it for training.\")\n",
    "        prepare_llama2_for_training(tokenizer, base_model)\n",
    "\n",
    "    # Train dataset\n",
    "    train_ds = load_dataset(**config.at(\"dataset.train\"))\n",
    "    log.info(f\"Loaded training dataset with {len(train_ds)} samples.\")\n",
    "\n",
    "    # Inspect token counts\n",
    "    tokenized_train_ds = train_ds.map(lambda examples: tokenizer(examples[\"text\"]), batched=True)\n",
    "    token_counts = [len(input_ids) for input_ids in tokenized_train_ds[\"input_ids\"]]\n",
    "    log.info(f\"Input token counts: min={min(token_counts)}, max={max(token_counts)}\")\n",
    "\n",
    "    # Supervised fine-tuning\n",
    "    if config.at(\"trainer.max_seq_length\") is None:\n",
    "        config.set(\"trainer.max_seq_length\", ceil(max(token_counts) / 8) * 8)\n",
    "    max_seq_length = config.at(\"trainer.max_seq_length\")\n",
    "    log.info(f\"Setting max_seq_length={max_seq_length}\")\n",
    "\n",
    "    packing = config.at(\"trainer.packing\", False)\n",
    "\n",
    "    if response_template := config.at(\"trainer.response_template\"):\n",
    "        log.info(f\"Using completion-only data collator with response template '{response_template}'\")\n",
    "        data_collator = DataCollatorForCompletionOnlyLM(response_template, tokenizer=tokenizer)\n",
    "    else:\n",
    "        data_collator = None\n",
    "    \n",
    "    peft_config = LoraConfig(**config.at(\"trainer.lora\", {}))\n",
    "    training_args = TrainingArguments(\n",
    "        output_dir=\"./results\",\n",
    "        **config.at(\"trainer.training_args\"),\n",
    "    )\n",
    "    trainer = SFTTrainer(\n",
    "        model=base_model,\n",
    "        tokenizer=tokenizer,\n",
    "        peft_config=peft_config,\n",
    "        train_dataset=train_ds,\n",
    "        dataset_text_field=\"text\",\n",
    "        max_seq_length=max_seq_length,\n",
    "        packing=packing,\n",
    "        data_collator=data_collator,\n",
    "        args=training_args,\n",
    "    )\n",
    "    log.info(\"Starting training...\")\n",
    "    trainer.train()\n",
    "\n",
    "    # Save trained model\n",
    "    log.info(\"Saving model...\")\n",
    "    final_model_id = config.at(\"hfhub.model_id\")\n",
    "    trainer.model.push_to_hub(final_model_id)\n",
    "    tokenizer.push_to_hub(final_model_id)\n",
    "    log.info(f\"Uploaded PEFT adapters to HF Hub as {final_model_id}\")\n",
    "\n",
    "    return trainer\n"
   ]
  },
  {
   "cell_type": "code",
   "execution_count": null,
   "metadata": {},
   "outputs": [],
   "source": [
    "#|hide\n",
    "import nbdev; nbdev.nbdev_export()"
   ]
  }
 ],
 "metadata": {
  "kernelspec": {
   "display_name": "python3",
   "language": "python",
   "name": "python3"
  }
 },
 "nbformat": 4,
 "nbformat_minor": 2
}
