{
 "cells": [
  {
   "attachments": {},
   "cell_type": "markdown",
   "metadata": {},
   "source": [
    "# MCD\n",
    "> Maximum Classifier Discrepancy for Unsupervised Domain Adaptation"
   ]
  },
  {
   "cell_type": "code",
   "execution_count": null,
   "metadata": {},
   "outputs": [],
   "source": [
    "#| default_exp ml.mcd"
   ]
  },
  {
   "cell_type": "code",
   "execution_count": null,
   "metadata": {},
   "outputs": [],
   "source": [
    "#| hide\n",
    "from fastcore.test import *\n",
    "from nbdev.showdoc import *"
   ]
  },
  {
   "cell_type": "code",
   "execution_count": null,
   "metadata": {},
   "outputs": [],
   "source": [
    "#| export\n",
    "\n",
    "import torch\n",
    "import torch.nn as nn\n",
    "import torch.nn.functional as F\n",
    "from bellek.ml.layer import GradReverse"
   ]
  },
  {
   "cell_type": "code",
   "execution_count": null,
   "metadata": {},
   "outputs": [],
   "source": [
    "#| export\n",
    "\n",
    "def discrepancy(a, b):\n",
    "    return torch.mean(torch.abs(F.softmax(a, dim=-1) - F.softmax(b, dim=-1)))"
   ]
  },
  {
   "cell_type": "code",
   "execution_count": null,
   "metadata": {},
   "outputs": [],
   "source": [
    "#| hide\n",
    "\n",
    "a = torch.tensor([1.0, 2.0, 3.0])\n",
    "\n",
    "test_eq(discrepancy(a, a).item(), 0.0)\n",
    "assert discrepancy(a, -a).item() > 0"
   ]
  },
  {
   "cell_type": "code",
   "execution_count": null,
   "metadata": {},
   "outputs": [],
   "source": [
    "#| export\n",
    "\n",
    "class Feature(nn.Module):\n",
    "    def __init__(self):\n",
    "        super().__init__()\n",
    "        self.conv1 = nn.Conv2d(3, 64, kernel_size=5, stride=1, padding=2)\n",
    "        self.bn1 = nn.BatchNorm2d(64)\n",
    "        self.conv2 = nn.Conv2d(64, 64, kernel_size=5, stride=1, padding=2)\n",
    "        self.bn2 = nn.BatchNorm2d(64)\n",
    "        self.conv3 = nn.Conv2d(64, 128, kernel_size=5, stride=1, padding=2)\n",
    "        self.bn3 = nn.BatchNorm2d(128)\n",
    "        self.fc1 = nn.Linear(8192, 3072)\n",
    "        self.bn1_fc = nn.BatchNorm1d(3072)\n",
    "\n",
    "    def forward(self, x):\n",
    "        x = F.max_pool2d(F.relu(self.bn1(self.conv1(x))), stride=2, kernel_size=3, padding=1)\n",
    "        x = F.max_pool2d(F.relu(self.bn2(self.conv2(x))), stride=2, kernel_size=3, padding=1)\n",
    "        x = F.relu(self.bn3(self.conv3(x)))\n",
    "        x = x.view(x.size(0), 8192)\n",
    "        x = F.relu(self.bn1_fc(self.fc1(x)))\n",
    "        x = F.dropout(x, training=self.training)\n",
    "        return x\n",
    "\n",
    "\n",
    "class Predictor(nn.Module):\n",
    "    def __init__(self, prob=0.5, lambd=1.0):\n",
    "        super().__init__()\n",
    "        self.prob = prob\n",
    "        self.lambd = lambd\n",
    "        self.fc1 = nn.Linear(8192, 3072)\n",
    "        self.bn1_fc = nn.BatchNorm1d(3072)\n",
    "        self.fc2 = nn.Linear(3072, 2048)\n",
    "        self.bn2_fc = nn.BatchNorm1d(2048)\n",
    "        self.fc3 = nn.Linear(2048, 10)\n",
    "        self.bn_fc3 = nn.BatchNorm1d(10)\n",
    "        self.gr = GradReverse(lambd)\n",
    "\n",
    "    def forward(self, x, reverse=False):\n",
    "        if reverse:\n",
    "            x = self.gr(x)\n",
    "        x = F.relu(self.bn2_fc(self.fc2(x)))\n",
    "        x = self.fc3(x)\n",
    "        return x\n"
   ]
  },
  {
   "cell_type": "code",
   "execution_count": null,
   "metadata": {},
   "outputs": [],
   "source": [
    "#| hide\n",
    "import nbdev; nbdev.nbdev_export()"
   ]
  }
 ],
 "metadata": {
  "kernelspec": {
   "display_name": "bellek",
   "language": "python",
   "name": "python3"
  }
 },
 "nbformat": 4,
 "nbformat_minor": 2
}
