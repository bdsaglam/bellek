{
 "cells": [
  {
   "cell_type": "markdown",
   "metadata": {},
   "source": [
    "# Vision \n",
    "> Computer vision utilities"
   ]
  },
  {
   "cell_type": "code",
   "execution_count": null,
   "metadata": {},
   "outputs": [],
   "source": [
    "#| default_exp ml.vision"
   ]
  },
  {
   "cell_type": "code",
   "execution_count": null,
   "metadata": {},
   "outputs": [],
   "source": [
    "#| hide\n",
    "from fastcore.test import *\n",
    "from nbdev.showdoc import *"
   ]
  },
  {
   "cell_type": "code",
   "execution_count": null,
   "metadata": {},
   "outputs": [],
   "source": [
    "#| export\n",
    "\n",
    "from PIL.Image import Image \n",
    "from torchvision.transforms import Compose\n",
    "\n",
    "from fastcore.transform import Transform\n",
    "from fastai.vision.core import PILImage"
   ]
  },
  {
   "cell_type": "code",
   "execution_count": null,
   "metadata": {},
   "outputs": [],
   "source": [
    "#| export\n",
    "\n",
    "class Make3Channel:\n",
    "    '''Tiles 1 channel image to 3 channel'''\n",
    "\n",
    "    def __call__(self, x):\n",
    "        if isinstance(x, Image):\n",
    "            return x.convert(mode='RGB')\n",
    "        rpts = (3, 1, 1) if x.ndim == 3 else (1, 3, 1, 1)\n",
    "        return x.repeat(*rpts)\n",
    "    \n",
    "    def __repr__(self):\n",
    "        return \"Make3Channel()\""
   ]
  },
  {
   "cell_type": "code",
   "execution_count": null,
   "metadata": {},
   "outputs": [],
   "source": [
    "#| export \n",
    "\n",
    "class TorchVisionTransform(Transform):\n",
    "    def __init__(self, transform):\n",
    "        self.tfm = transform\n",
    "\n",
    "    def encodes(self, o: PILImage): \n",
    "        return self.tfm(o)"
   ]
  },
  {
   "cell_type": "code",
   "execution_count": null,
   "metadata": {},
   "outputs": [],
   "source": [
    "from fastai.vision.core import PILImage\n",
    "from torchvision.transforms import Resize\n",
    "\n",
    "target_size = (224, 224)\n",
    "img = PILImage.create('fixtures/puppy.jpeg')\n",
    "tfm = TorchVisionTransform(Resize(size=target_size))\n",
    "out = tfm(img)\n",
    "test_eq(out.size, target_size)"
   ]
  }
 ],
 "metadata": {
  "kernelspec": {
   "display_name": "bellek",
   "language": "python",
   "name": "python3"
  },
  "language_info": {
   "codemirror_mode": {
    "name": "ipython",
    "version": 3
   },
   "file_extension": ".py",
   "mimetype": "text/x-python",
   "name": "python",
   "nbconvert_exporter": "python",
   "pygments_lexer": "ipython3",
   "version": "3.10.8 (main, Nov 24 2022, 08:09:04) [Clang 14.0.6 ]"
  },
  "vscode": {
   "interpreter": {
    "hash": "c9be4b9c775e24689788535d3880aa367a8a0d55102c76922f1012ba61a3bdc9"
   }
  }
 },
 "nbformat": 4,
 "nbformat_minor": 2
}
