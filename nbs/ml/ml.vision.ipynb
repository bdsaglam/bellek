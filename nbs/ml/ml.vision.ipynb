{
 "cells": [
  {
   "cell_type": "markdown",
   "metadata": {},
   "source": [
    "# Vision \n",
    "> Computer vision utilities"
   ]
  },
  {
   "cell_type": "code",
   "execution_count": null,
   "metadata": {},
   "outputs": [],
   "source": [
    "#| default_exp ml.vision"
   ]
  },
  {
   "cell_type": "code",
   "execution_count": null,
   "metadata": {},
   "outputs": [],
   "source": [
    "#| hide\n",
    "from fastcore.test import *\n",
    "from nbdev.showdoc import *"
   ]
  },
  {
   "cell_type": "code",
   "execution_count": null,
   "metadata": {},
   "outputs": [],
   "source": [
    "#| export\n",
    "\n",
    "from PIL.Image import Image "
   ]
  },
  {
   "cell_type": "code",
   "execution_count": null,
   "metadata": {},
   "outputs": [],
   "source": [
    "#| export\n",
    "\n",
    "class Make3Channel:\n",
    "    '''Tiles 1 channel image to 3 channel'''\n",
    "\n",
    "    def __call__(self, x):\n",
    "        if isinstance(x, Image):\n",
    "            return x.convert(mode='RGB')\n",
    "        rpts = (3, 1, 1) if x.ndim == 3 else (1, 3, 1, 1)\n",
    "        return x.repeat(*rpts)\n",
    "    \n",
    "    def __repr__(self):\n",
    "        return \"Make3Channel()\""
   ]
  },
  {
   "cell_type": "code",
   "execution_count": null,
   "metadata": {},
   "outputs": [],
   "source": []
  }
 ],
 "metadata": {
  "kernelspec": {
   "display_name": "bellek",
   "language": "python",
   "name": "python3"
  }
 },
 "nbformat": 4,
 "nbformat_minor": 2
}
