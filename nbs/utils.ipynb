{
 "cells": [
  {
   "cell_type": "code",
   "execution_count": null,
   "metadata": {},
   "outputs": [],
   "source": [
    "#| default_exp utils"
   ]
  },
  {
   "attachments": {},
   "cell_type": "markdown",
   "metadata": {},
   "source": [
    "# General utilities"
   ]
  },
  {
   "cell_type": "code",
   "execution_count": null,
   "metadata": {},
   "outputs": [],
   "source": [
    "#| hide\n",
    "from fastcore.test import *\n",
    "from nbdev.showdoc import *"
   ]
  },
  {
   "cell_type": "code",
   "execution_count": null,
   "metadata": {},
   "outputs": [],
   "source": [
    "#| export\n",
    "\n",
    "import os\n",
    "from contextlib import contextmanager\n",
    "from pathlib import Path\n",
    "from typing import Dict, Union, List\n",
    "\n",
    "import pandas as pd\n",
    "from fastcore.basics import patch"
   ]
  },
  {
   "cell_type": "code",
   "execution_count": null,
   "metadata": {},
   "outputs": [],
   "source": [
    "#| export\n",
    "\n",
    "@patch\n",
    "def ls_sorted(self:Path):\n",
    "    \"ls but sorts files by name numerically\"\n",
    "    return self.ls().sorted(key=lambda f: int(f.with_suffix('').name))"
   ]
  },
  {
   "cell_type": "code",
   "execution_count": null,
   "metadata": {},
   "outputs": [],
   "source": [
    "#| export\n",
    "\n",
    "def flatten_dict(d: Dict, sep='.') -> Dict:\n",
    "    return pd.json_normalize(d, sep=sep).to_dict(orient='records')[0]\n",
    "\n",
    "def make_nested_dict(subkeys: List, value):\n",
    "    d = {}\n",
    "    for k, v in d.items():\n",
    "        pass\n",
    "\n",
    "def unflatten_dict(d: Dict, sep='.') -> Dict:\n",
    "    res = {}\n",
    "    for k, v in d.items():\n",
    "        subkeys = k.split(sep)\n",
    "        container = res\n",
    "        for subkey in subkeys[:-1]:\n",
    "            if subkey not in container:\n",
    "                container[subkey] = {}\n",
    "            container = container[subkey]\n",
    "        container[subkeys[-1]] = v\n",
    "    return res\n"
   ]
  },
  {
   "cell_type": "code",
   "execution_count": null,
   "metadata": {},
   "outputs": [],
   "source": [
    "#| hide\n",
    "\n",
    "nested_dict = {\n",
    "    'dataset_path': 'a/b/c/d',\n",
    "    'train': {\n",
    "        'lr': 1e-4,\n",
    "        'n_epoch': 10,\n",
    "        'early_stop': {\n",
    "            'patience': 10,\n",
    "            'metric': 'val_loss',\n",
    "        }\n",
    "    },\n",
    "    'wandb': {\n",
    "        'username': 'bdsaglam',\n",
    "        'project': 'project-x',\n",
    "    }\n",
    "}\n",
    "\n",
    "flat_dict = {\n",
    "    'dataset_path': 'a/b/c/d',\n",
    "    'train/lr': 0.0001,\n",
    "    'train/n_epoch': 10,\n",
    "    'train/early_stop/patience': 10,\n",
    "    'train/early_stop/metric': 'val_loss',\n",
    "    'wandb/username': 'bdsaglam',\n",
    "    'wandb/project': 'project-x',\n",
    "}\n",
    "\n",
    "test_eq(flatten_dict(nested_dict, sep='/'), flat_dict)\n",
    "test_eq(unflatten_dict(flat_dict, sep='/'), nested_dict)"
   ]
  },
  {
   "cell_type": "code",
   "execution_count": null,
   "metadata": {},
   "outputs": [],
   "source": [
    "#| export\n",
    "from collections import Counter\n",
    "\n",
    "def most_common(lst):\n",
    "    \"\"\"returns the most common element of a collection\"\"\"\n",
    "    return Counter(lst).most_common(1)[0][0]"
   ]
  },
  {
   "cell_type": "code",
   "execution_count": null,
   "metadata": {},
   "outputs": [],
   "source": [
    "#| hide\n",
    "test_eq(most_common([1,1,1,2,2,3,3,3,3,4,4]), 3)\n",
    "test_eq(most_common([1,1,1,2,2,3,3,3,4,4]), 1)\n",
    "test_eq(most_common([0]), 0)"
   ]
  },
  {
   "cell_type": "code",
   "execution_count": null,
   "metadata": {},
   "outputs": [],
   "source": [
    "#| export\n",
    "\n",
    "# ref: https://dev.to/teckert/changing-directory-with-a-python-context-manager-2bj8\n",
    "@contextmanager\n",
    "def set_dir(path: Union[Path, str]):\n",
    "    \"\"\"Sets the cwd within the context\"\"\"\n",
    "    origin = Path().absolute()\n",
    "    try:\n",
    "        os.chdir(path)\n",
    "        yield\n",
    "    finally:\n",
    "        os.chdir(origin)"
   ]
  },
  {
   "cell_type": "code",
   "execution_count": null,
   "metadata": {},
   "outputs": [],
   "source": [
    "#| export\n",
    "from datetime import datetime\n",
    "\n",
    "def generate_time_id(dt=None):\n",
    "    \"\"\"generates a string id from given datetime or now\"\"\"\n",
    "    return (dt or datetime.now()).isoformat().rsplit('.', 1)[0].replace(':', '-')"
   ]
  },
  {
   "cell_type": "code",
   "execution_count": null,
   "metadata": {},
   "outputs": [],
   "source": [
    "#| hide\n",
    "\n",
    "test_eq(generate_time_id(datetime(2022, 1, 1, 1, 1, 1)), '2022-01-01T01-01-01')\n",
    "\n",
    "time_id = generate_time_id()\n",
    "test_eq(len(time_id), 19)\n",
    "test_eq(time_id.count('-'), 4)"
   ]
  },
  {
   "cell_type": "code",
   "execution_count": null,
   "metadata": {},
   "outputs": [],
   "source": [
    "#| export\n",
    "\n",
    "def get_node(\n",
    "    tree: Dict, # tree to traverse\n",
    "    path: str, # path of node\n",
    "    sep: str = '.' # separator used in path\n",
    "): # the node\n",
    "    \"\"\"returns the node from a tree (dict) by path\"\"\"\n",
    "    if path is None or path == '':\n",
    "        return tree\n",
    "    node = tree\n",
    "    for field in path.split(sep):\n",
    "        if field in node:\n",
    "            node = node[field]\n",
    "        else:\n",
    "            return None\n",
    "    return node\n"
   ]
  },
  {
   "cell_type": "code",
   "execution_count": null,
   "metadata": {},
   "outputs": [],
   "source": [
    "#| hide\n",
    "tree = {\n",
    "    'a': 1,\n",
    "    'b': {\n",
    "        'c': {\n",
    "            'd': 2,\n",
    "        },\n",
    "        'e': 3,\n",
    "    },\n",
    "    'f': 4,\n",
    "}\n",
    "\n",
    "test_eq(get_node(tree, 'a'), 1)\n",
    "test_eq(get_node(tree, 'b.c.d'), 2)\n",
    "test_eq(get_node(tree, 'b.c.z'), None)\n",
    "test_eq(get_node(tree, 'b.e'), 3)\n",
    "test_eq(get_node(tree, 'b/e', sep='/'), 3)\n",
    "test_eq(get_node(tree, None), tree)"
   ]
  },
  {
   "cell_type": "code",
   "execution_count": null,
   "metadata": {},
   "outputs": [],
   "source": [
    "#| export\n",
    "def apply_nested(tree: dict, path: str, func, sep: str = '.'):\n",
    "    parts = path.split(sep)\n",
    "    parent_node = get_node(tree, sep.join(parts[:-1]))\n",
    "    parent_node[parts[-1]] = func(parent_node[parts[-1]])\n",
    "    return tree"
   ]
  },
  {
   "cell_type": "code",
   "execution_count": null,
   "metadata": {},
   "outputs": [],
   "source": [
    "#| hide\n",
    "tree = {\n",
    "    'a': 5,\n",
    "    'b': {\n",
    "        'c': {\n",
    "            'd': 2,\n",
    "        },\n",
    "        'e': 3,\n",
    "    },\n",
    "    'f': 4,\n",
    "}\n",
    "\n",
    "func = lambda x: x*x\n",
    "\n",
    "for path in ['a', 'b.c.d', 'f']:\n",
    "    apply_nested(tree, path, func)\n",
    "\n",
    "test_eq(tree['a'], 25)\n",
    "test_eq(tree['b']['c']['d'], 4)\n",
    "test_eq(tree['b']['e'], 3)\n",
    "test_eq(tree['f'], 16)"
   ]
  },
  {
   "cell_type": "code",
   "execution_count": null,
   "metadata": {},
   "outputs": [],
   "source": [
    "#| export\n",
    "\n",
    "def resolve_path(config, field_path, sep='.'):\n",
    "    func = lambda s: str(Path(s).resolve())\n",
    "    return apply_nested(config, field_path, func, sep)"
   ]
  },
  {
   "cell_type": "code",
   "execution_count": null,
   "metadata": {},
   "outputs": [],
   "source": [
    "#| hide\n",
    "config = {\n",
    "    'data_path': './a/b/c',\n",
    "    'model': {\n",
    "        'save_path': './path/to/artifact'\n",
    "    }\n",
    "}\n",
    "\n",
    "resolve_path(config, 'data_path')\n",
    "resolve_path(config, 'model.save_path')\n",
    "\n",
    "assert not config['data_path'].startswith('.')\n",
    "assert not config['model']['save_path'].startswith('.')"
   ]
  },
  {
   "cell_type": "code",
   "execution_count": null,
   "metadata": {},
   "outputs": [],
   "source": [
    "#| hide\n",
    "origin = os.getcwd()\n",
    "with set_dir('/opt'):\n",
    "    test_eq(os.getcwd(), '/opt')\n",
    "test_eq(os.getcwd(), origin)"
   ]
  },
  {
   "cell_type": "code",
   "execution_count": null,
   "metadata": {},
   "outputs": [],
   "source": [
    "#| hide\n",
    "import nbdev; nbdev.nbdev_export()"
   ]
  }
 ],
 "metadata": {
  "kernelspec": {
   "display_name": "bellek",
   "language": "python",
   "name": "python3"
  }
 },
 "nbformat": 4,
 "nbformat_minor": 2
}
