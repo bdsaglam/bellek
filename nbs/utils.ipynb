{
 "cells": [
  {
   "cell_type": "code",
   "execution_count": null,
   "metadata": {},
   "outputs": [],
   "source": [
    "#|default_exp utils"
   ]
  },
  {
   "attachments": {},
   "cell_type": "markdown",
   "metadata": {},
   "source": [
    "# General utilities"
   ]
  },
  {
   "cell_type": "code",
   "execution_count": null,
   "metadata": {},
   "outputs": [],
   "source": [
    "#|hide\n",
    "from fastcore.test import *\n",
    "from nbdev.showdoc import *"
   ]
  },
  {
   "cell_type": "code",
   "execution_count": null,
   "metadata": {},
   "outputs": [],
   "source": [
    "#|export\n",
    "\n",
    "import json\n",
    "import os\n",
    "import random\n",
    "import re\n",
    "from contextlib import contextmanager\n",
    "from operator import eq\n",
    "from pathlib import Path\n",
    "from typing import Dict, List, Tuple, Union, Iterable, TypeVar, Generator\n",
    "\n",
    "import numpy as np\n",
    "import pandas as pd\n",
    "from fastcore.basics import patch"
   ]
  },
  {
   "cell_type": "code",
   "execution_count": null,
   "metadata": {},
   "outputs": [],
   "source": [
    "#|export\n",
    "\n",
    "def set_seed(seed):\n",
    "    np.random.seed(seed%(2**32-1))\n",
    "    random.seed(seed)"
   ]
  },
  {
   "cell_type": "code",
   "execution_count": null,
   "metadata": {},
   "outputs": [],
   "source": [
    "#|hide\n",
    "set_seed(42)"
   ]
  },
  {
   "cell_type": "code",
   "execution_count": null,
   "metadata": {},
   "outputs": [],
   "source": [
    "#|export\n",
    "from collections import Counter\n",
    "\n",
    "def most_common(lst):\n",
    "    \"\"\"returns the most common element of a collection\"\"\"\n",
    "    return Counter(lst).most_common(1)[0][0]"
   ]
  },
  {
   "cell_type": "code",
   "execution_count": null,
   "metadata": {},
   "outputs": [],
   "source": [
    "#|hide\n",
    "test_eq(most_common([1,1,1,2,2,3,3,3,3,4,4]), 3)\n",
    "test_eq(most_common([1,1,1,2,2,3,3,3,4,4]), 1)\n",
    "test_eq(most_common([0]), 0)"
   ]
  },
  {
   "cell_type": "code",
   "execution_count": null,
   "metadata": {},
   "outputs": [],
   "source": [
    "#|export\n",
    "\n",
    "@patch\n",
    "def ls_sorted(self:Path):\n",
    "    \"ls but sorts files by name numerically\"\n",
    "    return self.ls().sorted(key=lambda f: int(f.with_suffix('').name))"
   ]
  },
  {
   "cell_type": "code",
   "execution_count": null,
   "metadata": {},
   "outputs": [],
   "source": [
    "#|export\n",
    "\n",
    "# ref: https://dev.to/teckert/changing-directory-with-a-python-context-manager-2bj8\n",
    "@contextmanager\n",
    "def context_chdir(path: Union[Path, str]):\n",
    "    \"\"\"Sets the cwd within the context\"\"\"\n",
    "    origin = Path().absolute()\n",
    "    try:\n",
    "        os.chdir(path)\n",
    "        yield\n",
    "    finally:\n",
    "        os.chdir(origin)"
   ]
  },
  {
   "cell_type": "code",
   "execution_count": null,
   "metadata": {},
   "outputs": [],
   "source": [
    "#|hide\n",
    "origin = os.getcwd()\n",
    "with context_chdir('/opt'):\n",
    "    test_eq(os.getcwd(), '/opt')\n",
    "test_eq(os.getcwd(), origin)"
   ]
  },
  {
   "cell_type": "code",
   "execution_count": null,
   "metadata": {},
   "outputs": [],
   "source": [
    "#|export\n",
    "from datetime import datetime\n",
    "\n",
    "def generate_time_id(dt=None):\n",
    "    \"\"\"generates a string id from given datetime or now\"\"\"\n",
    "    return (dt or datetime.now()).isoformat().rsplit('.', 1)[0].replace(':', '-')"
   ]
  },
  {
   "cell_type": "code",
   "execution_count": null,
   "metadata": {},
   "outputs": [],
   "source": [
    "#|hide\n",
    "\n",
    "test_eq(generate_time_id(datetime(2022, 1, 1, 1, 1, 1)), '2022-01-01T01-01-01')\n",
    "\n",
    "time_id = generate_time_id()\n",
    "test_eq(len(time_id), 19)\n",
    "test_eq(time_id.count('-'), 4)"
   ]
  },
  {
   "cell_type": "code",
   "execution_count": null,
   "metadata": {},
   "outputs": [],
   "source": [
    "#|export\n",
    "\n",
    "T = TypeVar(\"T\")\n",
    "\n",
    "\n",
    "def chunk_random(lst: List[T], min_chunk: int = 2, max_chunk: int = 4) -> Generator[List[T], None, None]:\n",
    "    \"\"\"\n",
    "    Splits a list into random-sized chunks.\n",
    "\n",
    "    Args:\n",
    "        lst (list): The list to be split into chunks.\n",
    "        min_chunk (int, optional): The minimum size of each chunk. Defaults to 2.\n",
    "        max_chunk (int, optional): The maximum size of each chunk. Defaults to 4.\n",
    "\n",
    "    Yields:\n",
    "        list: A chunk of the original list.\n",
    "\n",
    "    Returns:\n",
    "        list: A list of chunks.\n",
    "\n",
    "    \"\"\"\n",
    "    # Ensure the list has at least the minimum number of elements required for a chunk\n",
    "    if len(lst) < min_chunk:\n",
    "        return [lst]\n",
    "\n",
    "    i = 0  # Initialize an index to traverse the list\n",
    "    while i < len(lst):\n",
    "        if len(lst) - i < min_chunk:\n",
    "            break\n",
    "        # Determine the size of the next chunk\n",
    "        chunk_size = random.randint(min_chunk, min(max_chunk, len(lst) - i))\n",
    "        # Add the chunk to the list of chunks\n",
    "        yield lst[i : i + chunk_size]\n",
    "        # Increment the index by the size of the chunk just added\n",
    "        i += chunk_size\n"
   ]
  },
  {
   "cell_type": "code",
   "execution_count": null,
   "metadata": {},
   "outputs": [
    {
     "data": {
      "text/plain": [
       "[[0, 1, 2, 3],\n",
       " [4, 5],\n",
       " [6, 7],\n",
       " [8, 9, 10, 11],\n",
       " [12, 13, 14],\n",
       " [15, 16],\n",
       " [17, 18],\n",
       " [19, 20],\n",
       " [21, 22]]"
      ]
     },
     "execution_count": null,
     "metadata": {},
     "output_type": "execute_result"
    }
   ],
   "source": [
    "#|hide\n",
    "list(chunk_random(list(range(24))))"
   ]
  },
  {
   "cell_type": "code",
   "execution_count": null,
   "metadata": {},
   "outputs": [],
   "source": [
    "#|export\n",
    "\n",
    "def jprint(obj, indent=2, **kwargs):\n",
    "    print(json.dumps(obj, indent=indent), **kwargs)"
   ]
  },
  {
   "cell_type": "code",
   "execution_count": null,
   "metadata": {},
   "outputs": [
    {
     "name": "stdout",
     "output_type": "stream",
     "text": [
      "{\n",
      "  \"a\": 1,\n",
      "  \"b\": {\n",
      "    \"c\": 2,\n",
      "    \"d\": {\n",
      "      \"e\": 3,\n",
      "      \"f\": 4\n",
      "    }\n",
      "  }\n",
      "}\n"
     ]
    }
   ],
   "source": [
    "jprint({\"a\": 1, \"b\": {\"c\": 2, \"d\": {\"e\": 3, \"f\": 4}}})"
   ]
  },
  {
   "cell_type": "code",
   "execution_count": null,
   "metadata": {},
   "outputs": [],
   "source": [
    "#|export\n",
    "\n",
    "def is_in(target, collection: Iterable, eq_fn=eq) -> bool:\n",
    "    for item in collection:\n",
    "        if eq_fn(item, target):\n",
    "            return True\n",
    "    return False"
   ]
  },
  {
   "cell_type": "code",
   "execution_count": null,
   "metadata": {},
   "outputs": [],
   "source": [
    "#|export\n",
    "\n",
    "def split_camel_case(input_str):\n",
    "    # Use regular expression to find word boundaries in camel case\n",
    "    matches = re.finditer('.+?(?:(?<=[a-z])(?=[A-Z])|(?<=[A-Z])(?=[A-Z][a-z])|$)', input_str)\n",
    "    # Extract the words and return as a list\n",
    "    return [m.group(0) for m in matches]"
   ]
  },
  {
   "cell_type": "code",
   "execution_count": null,
   "metadata": {},
   "outputs": [],
   "source": [
    "test_eq(split_camel_case(\"camelCase\"), [\"camel\", \"Case\"])\n",
    "test_eq(split_camel_case(\"CamelCase\"), [\"Camel\", \"Case\"])\n",
    "test_eq(split_camel_case(\"camel\"), [\"camel\"])\n",
    "test_eq(split_camel_case(\"Camel\"), [\"Camel\"])\n",
    "test_eq(split_camel_case(\"\"), [])\n",
    "test_eq(split_camel_case(\"snake_case\"), [\"snake_case\"])"
   ]
  },
  {
   "cell_type": "code",
   "execution_count": null,
   "metadata": {},
   "outputs": [],
   "source": [
    "#|export\n",
    "\n",
    "def print_dict_schema(d, indent=0):\n",
    "    \"\"\"\n",
    "    Recursively prints the structure of a nested dictionary with indentation.\n",
    "\n",
    "    :param d: The dictionary to print.\n",
    "    :param indent: Current indentation level (used internally for recursion).\n",
    "    \"\"\"\n",
    "    if not isinstance(d, dict):\n",
    "        print('  ' * indent + str(d))\n",
    "        return\n",
    "\n",
    "    for key, value in d.items():\n",
    "        print('  ' * indent + str(key) + \" \" + f\"({type(value).__name__})\")\n",
    "        if isinstance(value, dict):\n",
    "            print_dict_schema(value, indent + 1)\n",
    "        elif isinstance(value, list):\n",
    "            for index, item in enumerate(value[:1]):\n",
    "                print('  ' * (indent + 1) + f'[{index}]' + \" \" + f\"({type(item).__name__})\")\n",
    "                if isinstance(item, dict):\n",
    "                    print_dict_schema(item, indent + 2)\n",
    "                else:\n",
    "                    print('  ' * (indent + 2) + str(item))"
   ]
  },
  {
   "cell_type": "code",
   "execution_count": null,
   "metadata": {},
   "outputs": [
    {
     "name": "stdout",
     "output_type": "stream",
     "text": [
      "a (int)\n",
      "b (dict)\n",
      "  c (int)\n",
      "  d (dict)\n",
      "    e (int)\n",
      "    f (int)\n",
      "g (list)\n",
      "  [0] (dict)\n",
      "    h (int)\n",
      "    i (int)\n"
     ]
    }
   ],
   "source": [
    "obj = {\n",
    "    \"a\": 1,\n",
    "    \"b\": {\n",
    "        \"c\": 2,\n",
    "        \"d\": {\n",
    "            \"e\": 3,\n",
    "            \"f\": 4\n",
    "        }\n",
    "    },\n",
    "    \"g\": [\n",
    "        {\n",
    "            \"h\": 5,\n",
    "            \"i\": 6\n",
    "        }\n",
    "    ]\n",
    "}\n",
    "\n",
    "print_dict_schema(obj)"
   ]
  },
  {
   "cell_type": "code",
   "execution_count": null,
   "metadata": {},
   "outputs": [],
   "source": [
    "#|hide\n",
    "import nbdev; nbdev.nbdev_export()"
   ]
  }
 ],
 "metadata": {
  "kernelspec": {
   "display_name": "python3",
   "language": "python",
   "name": "python3"
  }
 },
 "nbformat": 4,
 "nbformat_minor": 2
}
