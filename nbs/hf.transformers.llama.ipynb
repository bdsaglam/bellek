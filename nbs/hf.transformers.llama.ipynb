{
 "cells": [
  {
   "attachments": {},
   "cell_type": "markdown",
   "metadata": {},
   "source": [
    "# LLAMA-2 utils"
   ]
  },
  {
   "cell_type": "code",
   "execution_count": null,
   "metadata": {},
   "outputs": [],
   "source": [
    "#|default_exp hf.transformers.llama"
   ]
  },
  {
   "cell_type": "code",
   "execution_count": null,
   "metadata": {},
   "outputs": [],
   "source": [
    "#|hide\n",
    "from fastcore.test import *\n",
    "from nbdev.showdoc import *"
   ]
  },
  {
   "cell_type": "code",
   "execution_count": null,
   "metadata": {},
   "outputs": [],
   "source": [
    "#|export\n",
    "\n",
    "def prepare_llama2_for_training(tokenizer, model):\n",
    "    tokenizer.pad_token = tokenizer.eos_token\n",
    "    tokenizer.padding_side = \"right\" # Fix weird overflow issue with fp16 training\n",
    "    model.config.pretraining_tp = 1\n",
    "    model.config.use_cache = False\n",
    "\n",
    "def prepare_llama2_for_inference(tokenizer, model):\n",
    "    tokenizer.pad_token = tokenizer.eos_token\n",
    "    tokenizer.padding_side = \"left\"\n",
    "    model.config.use_cache = True"
   ]
  },
  {
   "cell_type": "code",
   "execution_count": null,
   "metadata": {},
   "outputs": [],
   "source": [
    "#|export\n",
    "\n",
    "def chat2text(example, key=\"messages\", tokenizer=None):\n",
    "    if tokenizer is None:\n",
    "        from transformers import AutoTokenizer\n",
    "\n",
    "        tokenizer = AutoTokenizer.from_pretrained(\"NousResearch/Llama-2-7b-chat-hf\")\n",
    "    text = tokenizer.apply_chat_template(example[key], tokenize=False)\n",
    "    return {\"text\": text}\n"
   ]
  },
  {
   "cell_type": "code",
   "execution_count": null,
   "metadata": {},
   "outputs": [],
   "source": [
    "#|export\n",
    "\n",
    "def _remove_special_tokens(text):\n",
    "    for token in [\"</s>\", \"<s>[INST]\", \"[/INST]\", \"<<SYS>>\",  \"<</SYS>>\"]:\n",
    "        text = text.replace(token, \"\")\n",
    "    return text.strip()\n",
    "\n",
    "def _extract_messages_from_conv(conv):\n",
    "    inp, out = conv.split(\" [/INST] \")\n",
    "    inp_messages = inp.split(r\" <</SYS>> \")\n",
    "    if len(inp_messages) == 1:\n",
    "        system_message, user_message = \"\", inp_messages[0]\n",
    "    else:\n",
    "        system_message, user_message = inp_messages\n",
    "    system_message = _remove_special_tokens(system_message)\n",
    "    user_message = _remove_special_tokens(user_message)\n",
    "    assistant_message = _remove_special_tokens(out)\n",
    "    if system_message:\n",
    "        yield {'role': 'system', 'content': system_message}\n",
    "    yield {'role': 'user', 'content': user_message}\n",
    "    if assistant_message:\n",
    "        yield {'role': 'assistant', 'content': assistant_message}\n",
    "\n",
    "def _split_into_interactions(prompt):\n",
    "    for conv in prompt.split(\"</s>\"):\n",
    "        conv = conv.strip()\n",
    "        if not conv:\n",
    "            continue\n",
    "        yield conv\n",
    "\n",
    "def text2chat(text: str):\n",
    "    messages = [message for conv in _split_into_interactions(text) for message in _extract_messages_from_conv(conv)]\n",
    "    return {\"messages\": messages}"
   ]
  },
  {
   "cell_type": "code",
   "execution_count": null,
   "metadata": {},
   "outputs": [
    {
     "data": {
      "text/plain": [
       "{'messages': [{'role': 'system',\n",
       "   'content': \"You are a helpful assistant that extracts up to 12 entity-relation-entity triplets from given text. Use '|' as delimiter and provide one triplet per line. The entities in a triplet must be different.\"},\n",
       "  {'role': 'user',\n",
       "   'content': \"Alison O'Donnell plays jazz and has been signed to Static Caravan Recordings and Deram Records in London. Funk is a derivative of jazz. Beef kway teow is commonly found in Singapore and Indonesia. Kway teow, beef tender loin, gula Melaka, sliced, dried black beans, garlic, dark soy sauce, lengkuas, oyster sauce, soya sauce, chilli and sesame oil are the main ingredients of Beef kway teow.\"},\n",
       "  {'role': 'assistant',\n",
       "   'content': \"Alison O'Donnell|genre|Jazz Alison O'Donnell|record label|Deram Records Alison O'Donnell|record label|Static Caravan Recordings Beef kway teow|country|Singapore and Indonesia Beef kway teow|ingredient|Sesame oil Beef kway teow|main ingredient|Kway teow, beef tender loin, gula Melaka, sliced, dried black beans, garlic, dark soy sauce, lengkuas, oyster sauce, soya sauce, chilli and sesame oil Beef kway teow|region|Indonesia Deram Records|location|London Jazz|derivative|Funk\"},\n",
       "  {'role': 'user',\n",
       "   'content': 'Abraham A. Ribicoff was born in Connecticut and died in the U.S. He was Governor of that state and his successor was John N. Dempsey. 1634: The Ram Rebellion has 512 pages. Albany, Oregon in the United States, is part of Linn County. English is spoken in the country which is home to Africans Americans and has Washington, D.C. as its capital. The OCLC number of \"A Glastonbury Romance\" is 76798317, and it is available in print.'},\n",
       "  {'role': 'assistant',\n",
       "   'content': '1634: The Ram Rebellion|number of pages|512 A Glastonbury Romance|media type|Print A Glastonbury Romance|oclc number|76798317 Abraham A. Ribicoff|birth place|Connecticut Abraham A. Ribicoff|death place|United States Abraham A. Ribicoff|office|Governor of Connecticut Abraham A. Ribicoff|successor|John N. Dempsey Albany, Oregon|country|United States Albany, Oregon|is part of|Linn County, Oregon United States|capital|Washington, D.C. United States|ethnic group|African Americans United States|language|English language'}]}"
      ]
     },
     "execution_count": null,
     "metadata": {},
     "output_type": "execute_result"
    }
   ],
   "source": [
    "#|hide\n",
    "prompt = \"\"\"<s>[INST] <<SYS>> You are a helpful assistant that extracts up to 12 entity-relation-entity triplets from given text. Use '|' as delimiter and provide one triplet per line. The entities in a triplet must be different. <</SYS>> Alison O'Donnell plays jazz and has been signed to Static Caravan Recordings and Deram Records in London. Funk is a derivative of jazz. Beef kway teow is commonly found in Singapore and Indonesia. Kway teow, beef tender loin, gula Melaka, sliced, dried black beans, garlic, dark soy sauce, lengkuas, oyster sauce, soya sauce, chilli and sesame oil are the main ingredients of Beef kway teow. [/INST] Alison O'Donnell|genre|Jazz Alison O'Donnell|record label|Deram Records Alison O'Donnell|record label|Static Caravan Recordings Beef kway teow|country|Singapore and Indonesia Beef kway teow|ingredient|Sesame oil Beef kway teow|main ingredient|Kway teow, beef tender loin, gula Melaka, sliced, dried black beans, garlic, dark soy sauce, lengkuas, oyster sauce, soya sauce, chilli and sesame oil Beef kway teow|region|Indonesia Deram Records|location|London Jazz|derivative|Funk </s><s>[INST] Abraham A. Ribicoff was born in Connecticut and died in the U.S. He was Governor of that state and his successor was John N. Dempsey. 1634: The Ram Rebellion has 512 pages. Albany, Oregon in the United States, is part of Linn County. English is spoken in the country which is home to Africans Americans and has Washington, D.C. as its capital. The OCLC number of \"A Glastonbury Romance\" is 76798317, and it is available in print. [/INST] 1634: The Ram Rebellion|number of pages|512 A Glastonbury Romance|media type|Print A Glastonbury Romance|oclc number|76798317 Abraham A. Ribicoff|birth place|Connecticut Abraham A. Ribicoff|death place|United States Abraham A. Ribicoff|office|Governor of Connecticut Abraham A. Ribicoff|successor|John N. Dempsey Albany, Oregon|country|United States Albany, Oregon|is part of|Linn County, Oregon United States|capital|Washington, D.C. United States|ethnic group|African Americans United States|language|English language </s>\"\"\"\n",
    "\n",
    "text2chat(prompt)"
   ]
  },
  {
   "cell_type": "code",
   "execution_count": null,
   "metadata": {},
   "outputs": [],
   "source": [
    "#|hide\n",
    "import nbdev; nbdev.nbdev_export()"
   ]
  }
 ],
 "metadata": {
  "kernelspec": {
   "display_name": "python3",
   "language": "python",
   "name": "python3"
  }
 },
 "nbformat": 4,
 "nbformat_minor": 2
}
