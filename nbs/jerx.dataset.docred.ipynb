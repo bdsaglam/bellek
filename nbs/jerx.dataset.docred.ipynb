{
 "cells": [
  {
   "cell_type": "markdown",
   "metadata": {},
   "source": [
    "# Dataset utils for joint entity relation extraction"
   ]
  },
  {
   "cell_type": "code",
   "execution_count": null,
   "metadata": {},
   "outputs": [],
   "source": [
    "#|default_exp jerx.dataset.docred"
   ]
  },
  {
   "cell_type": "code",
   "execution_count": null,
   "metadata": {},
   "outputs": [],
   "source": [
    "#|hide\n",
    "from fastcore.test import *\n",
    "from nbdev.showdoc import *"
   ]
  },
  {
   "cell_type": "code",
   "execution_count": null,
   "metadata": {},
   "outputs": [],
   "source": [
    "#|export\n",
    "\n",
    "import string"
   ]
  },
  {
   "cell_type": "code",
   "execution_count": null,
   "metadata": {},
   "outputs": [],
   "source": [
    "#|export\n",
    "\n",
    "puncts = set(string.punctuation)\n",
    "\n",
    "def join_tokens(tokens):\n",
    "    return ''.join(token if token in puncts else \" \" + token for token in tokens).strip()\n",
    "\n",
    "def extract_sentences(example):\n",
    "    for sent_tokens in example['sents']:\n",
    "        yield join_tokens(sent_tokens).replace(\"- \", \"-\")\n",
    "\n",
    "def extract_text(example):\n",
    "    return ' '.join(extract_sentences(example))\n",
    "\n",
    "def extract_triplets(example):\n",
    "    for head, rel, tail in zip(example['labels']['head'], example['labels']['relation_text'], example['labels']['tail']):\n",
    "        yield [example['vertexSet'][head][0]['name'], rel, example['vertexSet'][tail][0]['name']]\n",
    "\n",
    "def transform_docred(example, delimiter=\"|\"):\n",
    "    triplets = [delimiter.join(triplet) for triplet in extract_triplets(example)]\n",
    "    text = extract_text(example)\n",
    "    return {'text': text, 'triplets': triplets}"
   ]
  },
  {
   "cell_type": "code",
   "execution_count": null,
   "metadata": {},
   "outputs": [
    {
     "data": {
      "text/plain": [
       "{'text': \"Skai TV is a Greek free-to-air television network based in Piraeus. It is part of the Skai Group, one of the largest media groups in the country. It was relaunched in its present form on 1st of April 2006 in the Athens metropolitan area, and gradually spread its coverage nationwide. Besides digital terrestrial transmission, it is available on the subscription-based encrypted services of Nova and Cosmote TV. Skai TV is also a member of Digea, a consortium of private television networks introducing digital terrestrial transmission in Greece. At launch, Skai TV opted for dubbing all foreign language content into Greek, instead of using subtitles. This is very uncommon in Greece for anything except documentaries( using voiceover dubbing) and children 's programmes( using lip-synced dubbing), so after intense criticism the station switched to using subtitles for almost all foreign shows.\",\n",
       " 'triplets': ['Piraeus|country|Greece',\n",
       "  'Skai Group|country|Greece',\n",
       "  'Athens|country|Greece',\n",
       "  'Skai TV|headquarters location|Piraeus',\n",
       "  'Skai TV|owned by|Skai Group',\n",
       "  'Skai TV|headquarters location|Athens',\n",
       "  'Skai TV|country|Greece']}"
      ]
     },
     "execution_count": null,
     "metadata": {},
     "output_type": "execute_result"
    }
   ],
   "source": [
    "#|hide\n",
    "from datasets import load_dataset\n",
    "\n",
    "ds = load_dataset(\"docred\", split=\"validation[:10]\")\n",
    "jerx_ds = ds.map(transform_docred, remove_columns=ds.column_names)\n",
    "\n",
    "assert 'text' in jerx_ds.features\n",
    "assert 'triplets' in jerx_ds.features\n",
    "assert isinstance(jerx_ds[0]['triplets'], list)\n",
    "assert isinstance(jerx_ds[0]['triplets'][0], str)\n",
    "jerx_ds[0]"
   ]
  },
  {
   "cell_type": "code",
   "execution_count": null,
   "metadata": {},
   "outputs": [],
   "source": [
    "#|hide\n",
    "import nbdev; nbdev.nbdev_export()"
   ]
  }
 ],
 "metadata": {
  "kernelspec": {
   "display_name": "python3",
   "language": "python",
   "name": "python3"
  }
 },
 "nbformat": 4,
 "nbformat_minor": 2
}
