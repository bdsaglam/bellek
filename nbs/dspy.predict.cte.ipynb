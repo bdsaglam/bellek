{
 "cells": [
  {
   "attachments": {},
   "cell_type": "markdown",
   "metadata": {},
   "source": [
    "# DSPy CTE"
   ]
  },
  {
   "cell_type": "code",
   "execution_count": null,
   "metadata": {},
   "outputs": [],
   "source": [
    "#|default_exp dspy.predict.cte"
   ]
  },
  {
   "cell_type": "code",
   "execution_count": null,
   "metadata": {},
   "outputs": [],
   "source": [
    "#|hide\n",
    "from fastcore.test import *\n",
    "from nbdev.showdoc import *"
   ]
  },
  {
   "cell_type": "code",
   "execution_count": null,
   "metadata": {},
   "outputs": [],
   "source": [
    "#|export\n",
    "\n",
    "import dspy\n",
    "from dspy.primitives.program import Module\n",
    "from dspy.signatures.signature import ensure_signature\n",
    "\n",
    "from bellek.logging import get_logger\n",
    "\n",
    "log = get_logger(__name__)"
   ]
  },
  {
   "cell_type": "code",
   "execution_count": null,
   "metadata": {},
   "outputs": [],
   "source": [
    "#|export\n",
    "\n",
    "class ConnectTheEntities(Module):\n",
    "    def __init__(self, signature, rationale_type=None, activated=True, **config):\n",
    "        super().__init__()\n",
    "\n",
    "        self.activated = activated\n",
    "\n",
    "        self.signature = signature = ensure_signature(signature)\n",
    "\n",
    "        prefix = \"Let's identify the relevant entity-relation-entity triples in the format of 'subj;relation;obj'\\n\"\n",
    "        desc = \"${triples}\"\n",
    "        rationale_type = rationale_type or dspy.OutputField(prefix=prefix, desc=desc)\n",
    "\n",
    "        # Add \"triples\" field to the output signature.\n",
    "        extended_signature = signature.prepend(\"triples\", rationale_type, type_=str)\n",
    "\n",
    "        self._predict = dspy.Predict(extended_signature, **config)\n",
    "        self._predict.extended_signature = extended_signature\n",
    "\n",
    "    def forward(self, **kwargs):\n",
    "        assert self.activated in [True, False]\n",
    "\n",
    "        signature = kwargs.pop(\"new_signature\", self._predict.extended_signature if self.activated else self.signature)\n",
    "        return self._predict(signature=signature, **kwargs)\n",
    "\n",
    "    @property\n",
    "    def demos(self):\n",
    "        return self._predict.demos\n",
    "\n",
    "    @property\n",
    "    def extended_signature(self):\n",
    "        return self._predict.extended_signature"
   ]
  },
  {
   "cell_type": "code",
   "execution_count": null,
   "metadata": {},
   "outputs": [],
   "source": [
    "#|hide\n",
    "import nbdev; nbdev.nbdev_export()"
   ]
  }
 ],
 "metadata": {
  "kernelspec": {
   "display_name": "python3",
   "language": "python",
   "name": "python3"
  }
 },
 "nbformat": 4,
 "nbformat_minor": 2
}
