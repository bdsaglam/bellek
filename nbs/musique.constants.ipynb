{
 "cells": [
  {
   "cell_type": "markdown",
   "metadata": {},
   "source": [
    "# MuSiQue constants"
   ]
  },
  {
   "cell_type": "code",
   "execution_count": null,
   "metadata": {},
   "outputs": [],
   "source": [
    "#|default_exp musique.constants"
   ]
  },
  {
   "cell_type": "code",
   "execution_count": null,
   "metadata": {},
   "outputs": [],
   "source": [
    "#|hide\n",
    "from fastcore.test import *\n",
    "from nbdev.showdoc import *"
   ]
  },
  {
   "cell_type": "code",
   "execution_count": null,
   "metadata": {},
   "outputs": [],
   "source": [
    "# |export\n",
    "\n",
    "SKIPPED_RECORD_IDS = {\n",
    "    \"2hop__235471_565925\",\n",
    "    \"2hop__837090_278127\",\n",
    "    \"2hop__477348_278127\",\n",
    "    \"2hop__667079_278127\",\n",
    "    \"2hop__232500_278127\",\n",
    "    \"2hop__326799_278127\",\n",
    "    \"2hop__618322_278127\",\n",
    "    \"2hop__620104_278127\",\n",
    "    \"2hop__66167_88526\",\n",
    "    \"2hop__562154_69048\",\n",
    "    \"2hop__391258_161450\",\n",
    "    \"2hop__387199_217649\",\n",
    "    \"2hop__613542_52135\",\n",
    "}"
   ]
  },
  {
   "cell_type": "code",
   "execution_count": null,
   "metadata": {},
   "outputs": [],
   "source": [
    "#|hide\n",
    "import nbdev; nbdev.nbdev_export()"
   ]
  }
 ],
 "metadata": {
  "kernelspec": {
   "display_name": "python3",
   "language": "python",
   "name": "python3"
  }
 },
 "nbformat": 4,
 "nbformat_minor": 2
}
