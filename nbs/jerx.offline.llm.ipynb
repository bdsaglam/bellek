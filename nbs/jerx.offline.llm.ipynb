{
 "cells": [
  {
   "cell_type": "markdown",
   "metadata": {},
   "source": [
    "# Few-shot JERX task offline inference"
   ]
  },
  {
   "cell_type": "code",
   "execution_count": null,
   "metadata": {},
   "outputs": [],
   "source": [
    "#|default_exp jerx.offline.llm"
   ]
  },
  {
   "cell_type": "code",
   "execution_count": null,
   "metadata": {},
   "outputs": [],
   "source": [
    "#|hide\n",
    "from fastcore.test import *\n",
    "from nbdev.showdoc import *"
   ]
  },
  {
   "cell_type": "code",
   "execution_count": null,
   "metadata": {},
   "outputs": [],
   "source": [
    "#|export\n",
    "from pathlib import Path\n",
    "import pandas as pd\n",
    "from bellek.jerx.utils import parse_triplets\n",
    "from bellek.logging import get_logger\n",
    "\n",
    "log = get_logger(__name__)"
   ]
  },
  {
   "cell_type": "code",
   "execution_count": null,
   "metadata": {},
   "outputs": [
    {
     "data": {
      "text/plain": [
       "True"
      ]
     },
     "execution_count": null,
     "metadata": {},
     "output_type": "execute_result"
    }
   ],
   "source": [
    "#|hide\n",
    "from dotenv import load_dotenv\n",
    "load_dotenv()"
   ]
  },
  {
   "cell_type": "code",
   "execution_count": null,
   "metadata": {},
   "outputs": [],
   "source": [
    "# |export\n",
    "\n",
    "\n",
    "def parse_triplet_response(response: str, *args, **kwargs) -> list[tuple[str, str, str]]:\n",
    "    triplets = parse_triplets(response.strip())\n",
    "    return [(e1, rel, e2) if e1 != e2 else (e1, rel, e2 + \"(obj)\") for e1, rel, e2 in triplets]\n",
    "\n",
    "\n",
    "def make_kg_triplet_extract_fn(inference_cache_filepath: Path):\n",
    "    df = pd.read_json(inference_cache_filepath, lines=True)\n",
    "    mapping = {text: generation for text, generation in zip(df[\"text\"], df[\"generation\"])}\n",
    "    del df\n",
    "\n",
    "    def extract_kg_triplets(text: str) -> list[tuple[str, str, str]]:\n",
    "        return parse_triplet_response(mapping[text])\n",
    "\n",
    "    return extract_kg_triplets"
   ]
  },
  {
   "cell_type": "code",
   "execution_count": null,
   "metadata": {},
   "outputs": [
    {
     "data": {
      "text/html": [
       "<div>\n",
       "<style scoped>\n",
       "    .dataframe tbody tr th:only-of-type {\n",
       "        vertical-align: middle;\n",
       "    }\n",
       "\n",
       "    .dataframe tbody tr th {\n",
       "        vertical-align: top;\n",
       "    }\n",
       "\n",
       "    .dataframe thead th {\n",
       "        text-align: right;\n",
       "    }\n",
       "</style>\n",
       "<table border=\"1\" class=\"dataframe\">\n",
       "  <thead>\n",
       "    <tr style=\"text-align: right;\">\n",
       "      <th></th>\n",
       "      <th>id</th>\n",
       "      <th>paragraph_idx</th>\n",
       "      <th>is_supporting</th>\n",
       "      <th>text</th>\n",
       "      <th>__index_level_0__</th>\n",
       "      <th>input</th>\n",
       "      <th>output</th>\n",
       "      <th>generation</th>\n",
       "    </tr>\n",
       "  </thead>\n",
       "  <tbody>\n",
       "    <tr>\n",
       "      <th>0</th>\n",
       "      <td>2hop__128801_205185</td>\n",
       "      <td>1</td>\n",
       "      <td>True</td>\n",
       "      <td># Midland, Texas\\nMidland is a city in and the...</td>\n",
       "      <td>0</td>\n",
       "      <td>[{'content': 'You are an excellent knowledge g...</td>\n",
       "      <td>[]</td>\n",
       "      <td>Midland | location | Texas\\nMidland | county s...</td>\n",
       "    </tr>\n",
       "    <tr>\n",
       "      <th>1</th>\n",
       "      <td>2hop__128801_205185</td>\n",
       "      <td>11</td>\n",
       "      <td>True</td>\n",
       "      <td># KNFM\\nKNFM (92.3 FM), branded as \"Lonestar 9...</td>\n",
       "      <td>1</td>\n",
       "      <td>[{'content': 'You are an excellent knowledge g...</td>\n",
       "      <td>[]</td>\n",
       "      <td>KNFM | frequency | 92.3 FM\\nKNFM | broadcastin...</td>\n",
       "    </tr>\n",
       "    <tr>\n",
       "      <th>2</th>\n",
       "      <td>2hop__128806_205185</td>\n",
       "      <td>5</td>\n",
       "      <td>True</td>\n",
       "      <td># KQRX\\nKQRX (95.1 FM, \"Rock 95.1\") is a comme...</td>\n",
       "      <td>2</td>\n",
       "      <td>[{'content': 'You are an excellent knowledge g...</td>\n",
       "      <td>[]</td>\n",
       "      <td>KQRX | broadcast frequency | 95.1 FM\\nKQRX | b...</td>\n",
       "    </tr>\n",
       "    <tr>\n",
       "      <th>3</th>\n",
       "      <td>2hop__128895_11424</td>\n",
       "      <td>3</td>\n",
       "      <td>True</td>\n",
       "      <td># Atlantic City, New Jersey\\nThere were 15,504...</td>\n",
       "      <td>4</td>\n",
       "      <td>[{'content': 'You are an excellent knowledge g...</td>\n",
       "      <td>[]</td>\n",
       "      <td>Atlantic City, New Jersey | location | New Jer...</td>\n",
       "    </tr>\n",
       "    <tr>\n",
       "      <th>4</th>\n",
       "      <td>2hop__128895_11424</td>\n",
       "      <td>12</td>\n",
       "      <td>True</td>\n",
       "      <td># WPUR\\nWPUR (107.3 FM) is a country music for...</td>\n",
       "      <td>5</td>\n",
       "      <td>[{'content': 'You are an excellent knowledge g...</td>\n",
       "      <td>[]</td>\n",
       "      <td>WPUR | location | Atlantic City, New Jersey\\nW...</td>\n",
       "    </tr>\n",
       "    <tr>\n",
       "      <th>...</th>\n",
       "      <td>...</td>\n",
       "      <td>...</td>\n",
       "      <td>...</td>\n",
       "      <td>...</td>\n",
       "      <td>...</td>\n",
       "      <td>...</td>\n",
       "      <td>...</td>\n",
       "      <td>...</td>\n",
       "    </tr>\n",
       "    <tr>\n",
       "      <th>78</th>\n",
       "      <td>2hop__651488_94210</td>\n",
       "      <td>12</td>\n",
       "      <td>True</td>\n",
       "      <td># Uffizi\\nThe building of Uffizi complex was b...</td>\n",
       "      <td>104</td>\n",
       "      <td>[{'content': 'You are an excellent knowledge g...</td>\n",
       "      <td>[]</td>\n",
       "      <td>Uffizi | building architect | Giorgio Vasari\\n...</td>\n",
       "    </tr>\n",
       "    <tr>\n",
       "      <th>79</th>\n",
       "      <td>2hop__651488_94210</td>\n",
       "      <td>18</td>\n",
       "      <td>True</td>\n",
       "      <td># Pietà (Perugino)\\nPietà is a painting by the...</td>\n",
       "      <td>105</td>\n",
       "      <td>[{'content': 'You are an excellent knowledge g...</td>\n",
       "      <td>[]</td>\n",
       "      <td>Pietà | artist | Pietro Perugino\\nPietà | year...</td>\n",
       "    </tr>\n",
       "    <tr>\n",
       "      <th>80</th>\n",
       "      <td>2hop__525596_543261</td>\n",
       "      <td>18</td>\n",
       "      <td>True</td>\n",
       "      <td># Jim Norton (defensive lineman)\\nJames Alfred...</td>\n",
       "      <td>107</td>\n",
       "      <td>[{'content': 'You are an excellent knowledge g...</td>\n",
       "      <td>[]</td>\n",
       "      <td>Jim Norton (Athlete) | birth date | November 1...</td>\n",
       "    </tr>\n",
       "    <tr>\n",
       "      <th>81</th>\n",
       "      <td>2hop__415654_46042</td>\n",
       "      <td>0</td>\n",
       "      <td>True</td>\n",
       "      <td># El Yunque National Forest\\nEl Yunque Nationa...</td>\n",
       "      <td>108</td>\n",
       "      <td>[{'content': 'You are an excellent knowledge g...</td>\n",
       "      <td>[]</td>\n",
       "      <td>El Yunque National Rainforest | location | Sie...</td>\n",
       "    </tr>\n",
       "    <tr>\n",
       "      <th>82</th>\n",
       "      <td>2hop__415654_46042</td>\n",
       "      <td>1</td>\n",
       "      <td>True</td>\n",
       "      <td># El Cimarrón (film)\\nThe film El Cimarrón fol...</td>\n",
       "      <td>109</td>\n",
       "      <td>[{'content': 'You are an excellent knowledge g...</td>\n",
       "      <td>[]</td>\n",
       "      <td>El Cimarrón (film) | subject matter | lives of...</td>\n",
       "    </tr>\n",
       "  </tbody>\n",
       "</table>\n",
       "<p>83 rows × 8 columns</p>\n",
       "</div>"
      ],
      "text/plain": [
       "                     id  paragraph_idx  is_supporting  \\\n",
       "0   2hop__128801_205185              1           True   \n",
       "1   2hop__128801_205185             11           True   \n",
       "2   2hop__128806_205185              5           True   \n",
       "3    2hop__128895_11424              3           True   \n",
       "4    2hop__128895_11424             12           True   \n",
       "..                  ...            ...            ...   \n",
       "78   2hop__651488_94210             12           True   \n",
       "79   2hop__651488_94210             18           True   \n",
       "80  2hop__525596_543261             18           True   \n",
       "81   2hop__415654_46042              0           True   \n",
       "82   2hop__415654_46042              1           True   \n",
       "\n",
       "                                                 text  __index_level_0__  \\\n",
       "0   # Midland, Texas\\nMidland is a city in and the...                  0   \n",
       "1   # KNFM\\nKNFM (92.3 FM), branded as \"Lonestar 9...                  1   \n",
       "2   # KQRX\\nKQRX (95.1 FM, \"Rock 95.1\") is a comme...                  2   \n",
       "3   # Atlantic City, New Jersey\\nThere were 15,504...                  4   \n",
       "4   # WPUR\\nWPUR (107.3 FM) is a country music for...                  5   \n",
       "..                                                ...                ...   \n",
       "78  # Uffizi\\nThe building of Uffizi complex was b...                104   \n",
       "79  # Pietà (Perugino)\\nPietà is a painting by the...                105   \n",
       "80  # Jim Norton (defensive lineman)\\nJames Alfred...                107   \n",
       "81  # El Yunque National Forest\\nEl Yunque Nationa...                108   \n",
       "82  # El Cimarrón (film)\\nThe film El Cimarrón fol...                109   \n",
       "\n",
       "                                                input output  \\\n",
       "0   [{'content': 'You are an excellent knowledge g...     []   \n",
       "1   [{'content': 'You are an excellent knowledge g...     []   \n",
       "2   [{'content': 'You are an excellent knowledge g...     []   \n",
       "3   [{'content': 'You are an excellent knowledge g...     []   \n",
       "4   [{'content': 'You are an excellent knowledge g...     []   \n",
       "..                                                ...    ...   \n",
       "78  [{'content': 'You are an excellent knowledge g...     []   \n",
       "79  [{'content': 'You are an excellent knowledge g...     []   \n",
       "80  [{'content': 'You are an excellent knowledge g...     []   \n",
       "81  [{'content': 'You are an excellent knowledge g...     []   \n",
       "82  [{'content': 'You are an excellent knowledge g...     []   \n",
       "\n",
       "                                           generation  \n",
       "0   Midland | location | Texas\\nMidland | county s...  \n",
       "1   KNFM | frequency | 92.3 FM\\nKNFM | broadcastin...  \n",
       "2   KQRX | broadcast frequency | 95.1 FM\\nKQRX | b...  \n",
       "3   Atlantic City, New Jersey | location | New Jer...  \n",
       "4   WPUR | location | Atlantic City, New Jersey\\nW...  \n",
       "..                                                ...  \n",
       "78  Uffizi | building architect | Giorgio Vasari\\n...  \n",
       "79  Pietà | artist | Pietro Perugino\\nPietà | year...  \n",
       "80  Jim Norton (Athlete) | birth date | November 1...  \n",
       "81  El Yunque National Rainforest | location | Sie...  \n",
       "82  El Cimarrón (film) | subject matter | lives of...  \n",
       "\n",
       "[83 rows x 8 columns]"
      ]
     },
     "execution_count": null,
     "metadata": {},
     "output_type": "execute_result"
    }
   ],
   "source": [
    "#|hide\n",
    "jerx_inferences_filepath = Path(\"../data/raw/musique-kg-llm/train/jerx-inferences/llama3-base.jsonl\")\n",
    "\n",
    "df = pd.read_json(jerx_inferences_filepath, lines=True)\n",
    "df"
   ]
  },
  {
   "cell_type": "code",
   "execution_count": null,
   "metadata": {},
   "outputs": [
    {
     "name": "stdout",
     "output_type": "stream",
     "text": [
      "[('Midland', 'location', 'Texas'), ('Midland', 'county seat', 'Midland County'), ('Midland', 'city', 'Midland(obj)'), ('Midland', 'region', 'Southern Plains'), ('Midland', 'area', 'Western')]\n"
     ]
    }
   ],
   "source": [
    "#|hide\n",
    "func = make_kg_triplet_extract_fn(jerx_inferences_filepath)\n",
    "text = df.iloc[0]['text']\n",
    "print(func(text))"
   ]
  },
  {
   "cell_type": "code",
   "execution_count": null,
   "metadata": {},
   "outputs": [
    {
     "data": {
      "text/plain": [
       "id                                                 2hop__145162_126070\n",
       "paragraph_idx                                                        7\n",
       "is_supporting                                                     True\n",
       "text                 # Leon Ichaso\\nLeon Ichaso was born in Havana ...\n",
       "__index_level_0__                                                   64\n",
       "input                [{'content': 'You are an excellent knowledge g...\n",
       "output                                                              []\n",
       "generation           Leon Ichaso | birth date | August 3, 1948\\nLeo...\n",
       "Name: 53, dtype: object"
      ]
     },
     "execution_count": null,
     "metadata": {},
     "output_type": "execute_result"
    }
   ],
   "source": [
    "row = df[df['id']=='2hop__145162_126070'].iloc[0]\n",
    "row"
   ]
  },
  {
   "cell_type": "code",
   "execution_count": null,
   "metadata": {},
   "outputs": [],
   "source": [
    "#|hide\n",
    "import nbdev; nbdev.nbdev_export()"
   ]
  }
 ],
 "metadata": {
  "kernelspec": {
   "display_name": "python3",
   "language": "python",
   "name": "python3"
  }
 },
 "nbformat": 4,
 "nbformat_minor": 2
}
