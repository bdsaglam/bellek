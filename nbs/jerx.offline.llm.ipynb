{
 "cells": [
  {
   "cell_type": "markdown",
   "metadata": {},
   "source": [
    "# Few-shot JERX task offline inference"
   ]
  },
  {
   "cell_type": "code",
   "execution_count": null,
   "metadata": {},
   "outputs": [],
   "source": [
    "#|default_exp jerx.offline.llm"
   ]
  },
  {
   "cell_type": "code",
   "execution_count": null,
   "metadata": {},
   "outputs": [],
   "source": [
    "#|hide\n",
    "from fastcore.test import *\n",
    "from nbdev.showdoc import *"
   ]
  },
  {
   "cell_type": "code",
   "execution_count": null,
   "metadata": {},
   "outputs": [],
   "source": [
    "#|export\n",
    "from pathlib import Path\n",
    "import pandas as pd\n",
    "from bellek.jerx.utils import parse_triplets\n",
    "from bellek.logging import get_logger\n",
    "\n",
    "log = get_logger(__name__)"
   ]
  },
  {
   "cell_type": "code",
   "execution_count": null,
   "metadata": {},
   "outputs": [
    {
     "data": {
      "text/plain": [
       "True"
      ]
     },
     "execution_count": null,
     "metadata": {},
     "output_type": "execute_result"
    }
   ],
   "source": [
    "#|hide\n",
    "from dotenv import load_dotenv\n",
    "load_dotenv()"
   ]
  },
  {
   "cell_type": "code",
   "execution_count": null,
   "metadata": {},
   "outputs": [],
   "source": [
    "# |export\n",
    "\n",
    "def parse_triplet_response(response: str, *args, **kwargs) -> list[tuple[str, str, str]]:\n",
    "    triplets = parse_triplets(response.strip())\n",
    "    return [(e1, rel, e2) if e1 != e2 else (e1, rel, e2 + \"(obj)\") for e1, rel, e2 in triplets]\n",
    "\n",
    "\n",
    "def make_kg_triplet_extract_fn(inference_cache_filepath: Path):\n",
    "    df = pd.read_json(inference_cache_filepath, lines=True, orient=\"records\")\n",
    "    df.set_index(\"text\", inplace=True)\n",
    "\n",
    "    def extract_kg_triplets(text: str) -> list[tuple[str, str, str]]:\n",
    "        return parse_triplet_response(df.loc[text]['generation'])\n",
    "\n",
    "    return extract_kg_triplets"
   ]
  },
  {
   "cell_type": "code",
   "execution_count": null,
   "metadata": {},
   "outputs": [
    {
     "name": "stdout",
     "output_type": "stream",
     "text": [
      "/Users/bdsaglam/dev/repos/bellek/nbs\n"
     ]
    }
   ],
   "source": [
    "!pwd"
   ]
  },
  {
   "cell_type": "code",
   "execution_count": null,
   "metadata": {},
   "outputs": [
    {
     "data": {
      "text/html": [
       "<div>\n",
       "<style scoped>\n",
       "    .dataframe tbody tr th:only-of-type {\n",
       "        vertical-align: middle;\n",
       "    }\n",
       "\n",
       "    .dataframe tbody tr th {\n",
       "        vertical-align: top;\n",
       "    }\n",
       "\n",
       "    .dataframe thead th {\n",
       "        text-align: right;\n",
       "    }\n",
       "</style>\n",
       "<table border=\"1\" class=\"dataframe\">\n",
       "  <thead>\n",
       "    <tr style=\"text-align: right;\">\n",
       "      <th></th>\n",
       "      <th>id</th>\n",
       "      <th>paragraph_idx</th>\n",
       "      <th>generation</th>\n",
       "    </tr>\n",
       "    <tr>\n",
       "      <th>text</th>\n",
       "      <th></th>\n",
       "      <th></th>\n",
       "      <th></th>\n",
       "    </tr>\n",
       "  </thead>\n",
       "  <tbody>\n",
       "    <tr>\n",
       "      <th># Midland, Texas\\nMidland is a city in and the county seat of Midland County, Texas, United States, on the Southern Plains of the state's western area. A small portion of the city extends into Martin County.</th>\n",
       "      <td>2hop__128801_205185</td>\n",
       "      <td>1</td>\n",
       "      <td>Midland, Texas | is part of | Midland County, ...</td>\n",
       "    </tr>\n",
       "    <tr>\n",
       "      <th># KNFM\\nKNFM (92.3 FM), branded as \"Lonestar 92\", is a Country music formatted radio station that serves the Midland–Odessa metropolitan area. The station broadcasts on FM frequency 92.3 and is under ownership of Townsquare Media.</th>\n",
       "      <td>2hop__128801_205185</td>\n",
       "      <td>11</td>\n",
       "      <td>KNFM | owner | Townsquare Media\\nKNFM | broadc...</td>\n",
       "    </tr>\n",
       "    <tr>\n",
       "      <th># KQRX\\nKQRX (95.1 FM, \"Rock 95.1\") is a commercial radio station located in Midland, Texas, broadcasting to the Midland-Odessa market. KQRX airs an active rock music format.</th>\n",
       "      <td>2hop__128806_205185</td>\n",
       "      <td>5</td>\n",
       "      <td>KQRX | broadcast area | Midland–Odessa\\nKQRX |...</td>\n",
       "    </tr>\n",
       "    <tr>\n",
       "      <th># Atlantic City, New Jersey\\nThere were 15,504 households, of which 27.3% had children under the age of 18 living with them, 25.9% were married couples living together, 22.2% had a female householder with no husband present, and 44.8% were non-families. 37.5% of all households were made up of individuals, and 14.3% had someone living alone who was 65 years of age or older. The average household size was 2.50 and the average family size was 3.34.</th>\n",
       "      <td>2hop__128895_11424</td>\n",
       "      <td>3</td>\n",
       "      <td>Atlantic City, New Jersey | area of households...</td>\n",
       "    </tr>\n",
       "    <tr>\n",
       "      <th># WPUR\\nWPUR (107.3 FM) is a country music formatted radio station in Atlantic City, New Jersey. WPUR is more commonly known as \"Cat Country 107.3\". Its transmitter is located in Atlantic City, while studios are in Northfield, New Jersey.</th>\n",
       "      <td>2hop__128895_11424</td>\n",
       "      <td>12</td>\n",
       "      <td>WPUR (107.3 FM) | location | Atlantic City, Ne...</td>\n",
       "    </tr>\n",
       "    <tr>\n",
       "      <th>...</th>\n",
       "      <td>...</td>\n",
       "      <td>...</td>\n",
       "      <td>...</td>\n",
       "    </tr>\n",
       "    <tr>\n",
       "      <th># Uffizi\\nThe building of Uffizi complex was begun by Giorgio Vasari in 1560 for Cosimo I de' Medici so as to accommodate the offices of the Florentine magistrates, hence the name , \"offices\". The construction was later continued by Alfonso Parigi and Bernardo Buontalenti; it was completed in 1581. The top floor was made into a gallery for the family and their guests and included their collection of Roman sculptures.</th>\n",
       "      <td>2hop__651488_94210</td>\n",
       "      <td>12</td>\n",
       "      <td>Uffizi | architect | Alfonso Parigi\\nUffizi | ...</td>\n",
       "    </tr>\n",
       "    <tr>\n",
       "      <th># Pietà (Perugino)\\nPietà is a painting by the Italian Renaissance artist Pietro Perugino, executed around 1483-1493, and housed in the Uffizi Gallery, Florence.</th>\n",
       "      <td>2hop__651488_94210</td>\n",
       "      <td>18</td>\n",
       "      <td>Pietà (Perugino) | creator | Pietro Perugino\\n...</td>\n",
       "    </tr>\n",
       "    <tr>\n",
       "      <th># Jim Norton (defensive lineman)\\nJames Alfred Norton (born November 18, 1942 in Wilmington, North Carolina) is a former American football defensive lineman in the National Football League for the San Francisco 49ers, Atlanta Falcons, Philadelphia Eagles, Washington Redskins, and New York Giants. He played college football at the University of Washington and was drafted in the third round of the 1965 NFL Draft.</th>\n",
       "      <td>2hop__525596_543261</td>\n",
       "      <td>18</td>\n",
       "      <td>James Alfred Norton (American football) | coll...</td>\n",
       "    </tr>\n",
       "    <tr>\n",
       "      <th># El Yunque National Forest\\nEl Yunque National Rainforest is located on the slopes of the Sierra de Luquillo mountains, encompassing 28,000 acres (43.753 mi or 113.32 km) of land, making it the largest block of public land in Puerto Rico.</th>\n",
       "      <td>2hop__415654_46042</td>\n",
       "      <td>0</td>\n",
       "      <td>El Yunque National Forest | country | Puerto R...</td>\n",
       "    </tr>\n",
       "    <tr>\n",
       "      <th># El Cimarrón (film)\\nThe film El Cimarrón follows the lives of two African slaves brought to Puerto Rico during the era of slavery in the 19th Century. It is based on the life of Marcos Xiorro who conspired and planned a slave revolt in 1821.</th>\n",
       "      <td>2hop__415654_46042</td>\n",
       "      <td>1</td>\n",
       "      <td>El Cimarrón | based on | Marcos Xiorro\\nEl Cim...</td>\n",
       "    </tr>\n",
       "  </tbody>\n",
       "</table>\n",
       "<p>83 rows × 3 columns</p>\n",
       "</div>"
      ],
      "text/plain": [
       "                                                                     id  \\\n",
       "text                                                                      \n",
       "# Midland, Texas\\nMidland is a city in and the ...  2hop__128801_205185   \n",
       "# KNFM\\nKNFM (92.3 FM), branded as \"Lonestar 92...  2hop__128801_205185   \n",
       "# KQRX\\nKQRX (95.1 FM, \"Rock 95.1\") is a commer...  2hop__128806_205185   \n",
       "# Atlantic City, New Jersey\\nThere were 15,504 ...   2hop__128895_11424   \n",
       "# WPUR\\nWPUR (107.3 FM) is a country music form...   2hop__128895_11424   \n",
       "...                                                                 ...   \n",
       "# Uffizi\\nThe building of Uffizi complex was be...   2hop__651488_94210   \n",
       "# Pietà (Perugino)\\nPietà is a painting by the ...   2hop__651488_94210   \n",
       "# Jim Norton (defensive lineman)\\nJames Alfred ...  2hop__525596_543261   \n",
       "# El Yunque National Forest\\nEl Yunque National...   2hop__415654_46042   \n",
       "# El Cimarrón (film)\\nThe film El Cimarrón foll...   2hop__415654_46042   \n",
       "\n",
       "                                                    paragraph_idx  \\\n",
       "text                                                                \n",
       "# Midland, Texas\\nMidland is a city in and the ...              1   \n",
       "# KNFM\\nKNFM (92.3 FM), branded as \"Lonestar 92...             11   \n",
       "# KQRX\\nKQRX (95.1 FM, \"Rock 95.1\") is a commer...              5   \n",
       "# Atlantic City, New Jersey\\nThere were 15,504 ...              3   \n",
       "# WPUR\\nWPUR (107.3 FM) is a country music form...             12   \n",
       "...                                                           ...   \n",
       "# Uffizi\\nThe building of Uffizi complex was be...             12   \n",
       "# Pietà (Perugino)\\nPietà is a painting by the ...             18   \n",
       "# Jim Norton (defensive lineman)\\nJames Alfred ...             18   \n",
       "# El Yunque National Forest\\nEl Yunque National...              0   \n",
       "# El Cimarrón (film)\\nThe film El Cimarrón foll...              1   \n",
       "\n",
       "                                                                                           generation  \n",
       "text                                                                                                   \n",
       "# Midland, Texas\\nMidland is a city in and the ...  Midland, Texas | is part of | Midland County, ...  \n",
       "# KNFM\\nKNFM (92.3 FM), branded as \"Lonestar 92...  KNFM | owner | Townsquare Media\\nKNFM | broadc...  \n",
       "# KQRX\\nKQRX (95.1 FM, \"Rock 95.1\") is a commer...  KQRX | broadcast area | Midland–Odessa\\nKQRX |...  \n",
       "# Atlantic City, New Jersey\\nThere were 15,504 ...  Atlantic City, New Jersey | area of households...  \n",
       "# WPUR\\nWPUR (107.3 FM) is a country music form...  WPUR (107.3 FM) | location | Atlantic City, Ne...  \n",
       "...                                                                                               ...  \n",
       "# Uffizi\\nThe building of Uffizi complex was be...  Uffizi | architect | Alfonso Parigi\\nUffizi | ...  \n",
       "# Pietà (Perugino)\\nPietà is a painting by the ...  Pietà (Perugino) | creator | Pietro Perugino\\n...  \n",
       "# Jim Norton (defensive lineman)\\nJames Alfred ...  James Alfred Norton (American football) | coll...  \n",
       "# El Yunque National Forest\\nEl Yunque National...  El Yunque National Forest | country | Puerto R...  \n",
       "# El Cimarrón (film)\\nThe film El Cimarrón foll...  El Cimarrón | based on | Marcos Xiorro\\nEl Cim...  \n",
       "\n",
       "[83 rows x 3 columns]"
      ]
     },
     "execution_count": null,
     "metadata": {},
     "output_type": "execute_result"
    }
   ],
   "source": [
    "df = pd.read_json('/Users/bdsaglam/dev/repos/bellek/data/generated/musique-kg-llm/train/jerx-inferences.jsonl', lines=True)\n",
    "df.set_index(\"text\", inplace=True)\n",
    "df"
   ]
  },
  {
   "cell_type": "code",
   "execution_count": null,
   "metadata": {},
   "outputs": [
    {
     "data": {
      "text/plain": [
       "[('Midland, Texas', 'is part of', 'Midland County, Texas'),\n",
       " ('Midland, Texas', 'is part of', 'Texas'),\n",
       " ('Midland, Texas', 'is part of', 'Martin County, Texas'),\n",
       " ('Texas', 'has to its west', 'Southern Plains'),\n",
       " ('Texas', 'country', 'United States')]"
      ]
     },
     "execution_count": null,
     "metadata": {},
     "output_type": "execute_result"
    }
   ],
   "source": [
    "func = make_kg_triplet_extract_fn('/Users/bdsaglam/dev/repos/bellek/data/generated/musique-kg-llm/train/jerx-inferences.jsonl')\n",
    "func(df.index[0])"
   ]
  },
  {
   "cell_type": "code",
   "execution_count": null,
   "metadata": {},
   "outputs": [],
   "source": [
    "#|hide\n",
    "import nbdev; nbdev.nbdev_export()"
   ]
  }
 ],
 "metadata": {
  "kernelspec": {
   "display_name": "python3",
   "language": "python",
   "name": "python3"
  }
 },
 "nbformat": 4,
 "nbformat_minor": 2
}
