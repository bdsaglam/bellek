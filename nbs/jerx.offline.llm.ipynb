{
 "cells": [
  {
   "cell_type": "markdown",
   "metadata": {},
   "source": [
    "# Few-shot JERX task offline inference"
   ]
  },
  {
   "cell_type": "code",
   "execution_count": null,
   "metadata": {},
   "outputs": [],
   "source": [
    "#|default_exp jerx.offline.llm"
   ]
  },
  {
   "cell_type": "code",
   "execution_count": null,
   "metadata": {},
   "outputs": [],
   "source": [
    "#|hide\n",
    "from fastcore.test import *\n",
    "from nbdev.showdoc import *"
   ]
  },
  {
   "cell_type": "code",
   "execution_count": null,
   "metadata": {},
   "outputs": [],
   "source": [
    "#|export\n",
    "from pathlib import Path\n",
    "import pandas as pd\n",
    "from bellek.jerx.utils import parse_triplets\n",
    "from bellek.logging import get_logger\n",
    "\n",
    "log = get_logger(__name__)"
   ]
  },
  {
   "cell_type": "code",
   "execution_count": null,
   "metadata": {},
   "outputs": [
    {
     "data": {
      "text/plain": [
       "True"
      ]
     },
     "execution_count": null,
     "metadata": {},
     "output_type": "execute_result"
    }
   ],
   "source": [
    "#|hide\n",
    "from dotenv import load_dotenv\n",
    "load_dotenv()"
   ]
  },
  {
   "cell_type": "code",
   "execution_count": null,
   "metadata": {},
   "outputs": [],
   "source": [
    "# |export\n",
    "\n",
    "\n",
    "def parse_triplet_response(response: str, *args, **kwargs) -> list[tuple[str, str, str]]:\n",
    "    triplets = parse_triplets(response.strip())\n",
    "    return [(e1, rel, e2) if e1 != e2 else (e1, rel, e2 + \"(obj)\") for e1, rel, e2 in triplets]\n",
    "\n",
    "\n",
    "def make_kg_triplet_extract_fn(inference_cache_filepath: Path):\n",
    "    df = pd.read_json(inference_cache_filepath, orient='records', lines=True)\n",
    "    mapping = {text: generation for text, generation in zip(df[\"text\"], df[\"generation\"])}\n",
    "    del df\n",
    "\n",
    "    def extract_kg_triplets(text: str) -> list[tuple[str, str, str]]:\n",
    "        return parse_triplet_response(mapping[text])\n",
    "\n",
    "    return extract_kg_triplets"
   ]
  },
  {
   "cell_type": "code",
   "execution_count": null,
   "metadata": {},
   "outputs": [
    {
     "data": {
      "text/html": [
       "<div>\n",
       "<style scoped>\n",
       "    .dataframe tbody tr th:only-of-type {\n",
       "        vertical-align: middle;\n",
       "    }\n",
       "\n",
       "    .dataframe tbody tr th {\n",
       "        vertical-align: top;\n",
       "    }\n",
       "\n",
       "    .dataframe thead th {\n",
       "        text-align: right;\n",
       "    }\n",
       "</style>\n",
       "<table border=\"1\" class=\"dataframe\">\n",
       "  <thead>\n",
       "    <tr style=\"text-align: right;\">\n",
       "      <th></th>\n",
       "      <th>id</th>\n",
       "      <th>paragraph_idx</th>\n",
       "      <th>is_supporting</th>\n",
       "      <th>text</th>\n",
       "      <th>__index_level_0__</th>\n",
       "      <th>input</th>\n",
       "      <th>generation</th>\n",
       "    </tr>\n",
       "  </thead>\n",
       "  <tbody>\n",
       "    <tr>\n",
       "      <th>0</th>\n",
       "      <td>2hop__131818_161450</td>\n",
       "      <td>1</td>\n",
       "      <td>True</td>\n",
       "      <td># Golestan Province\\nGolestān Province (Persia...</td>\n",
       "      <td>0</td>\n",
       "      <td>[{'content': 'You are an excellent knowledge g...</td>\n",
       "      <td>Golestan Province | location | north-east of I...</td>\n",
       "    </tr>\n",
       "    <tr>\n",
       "      <th>1</th>\n",
       "      <td>2hop__131818_161450</td>\n",
       "      <td>2</td>\n",
       "      <td>True</td>\n",
       "      <td># Voshmgir District\\nVoshmgir District () is a...</td>\n",
       "      <td>1</td>\n",
       "      <td>[{'content': 'You are an excellent knowledge g...</td>\n",
       "      <td>Voshmgir District | location | Aqqala County, ...</td>\n",
       "    </tr>\n",
       "    <tr>\n",
       "      <th>2</th>\n",
       "      <td>2hop__444265_82341</td>\n",
       "      <td>0</td>\n",
       "      <td>True</td>\n",
       "      <td># Ocala, Florida\\nOcala (/ oʊ ˈkælə / oh - KAL...</td>\n",
       "      <td>2</td>\n",
       "      <td>[{'content': 'You are an excellent knowledge g...</td>\n",
       "      <td>Ocala | location | Florida\\nOcala | location t...</td>\n",
       "    </tr>\n",
       "    <tr>\n",
       "      <th>3</th>\n",
       "      <td>2hop__444265_82341</td>\n",
       "      <td>12</td>\n",
       "      <td>True</td>\n",
       "      <td># Tom Denney\\nTom Denney (born November 23, 19...</td>\n",
       "      <td>3</td>\n",
       "      <td>[{'content': 'You are an excellent knowledge g...</td>\n",
       "      <td>Tom Denney | born on | November 23, 1982\\nTom ...</td>\n",
       "    </tr>\n",
       "    <tr>\n",
       "      <th>4</th>\n",
       "      <td>2hop__711946_269414</td>\n",
       "      <td>3</td>\n",
       "      <td>True</td>\n",
       "      <td># All Your Faded Things\\nAll Your Faded Things...</td>\n",
       "      <td>4</td>\n",
       "      <td>[{'content': 'You are an excellent knowledge g...</td>\n",
       "      <td>All Your Faded Things | album title | \\nAll Yo...</td>\n",
       "    </tr>\n",
       "    <tr>\n",
       "      <th>...</th>\n",
       "      <td>...</td>\n",
       "      <td>...</td>\n",
       "      <td>...</td>\n",
       "      <td>...</td>\n",
       "      <td>...</td>\n",
       "      <td>...</td>\n",
       "      <td>...</td>\n",
       "    </tr>\n",
       "    <tr>\n",
       "      <th>1593</th>\n",
       "      <td>2hop__22431_16335</td>\n",
       "      <td>18</td>\n",
       "      <td>True</td>\n",
       "      <td># Switzerland\\nIn 2012, resident foreigners ma...</td>\n",
       "      <td>2497</td>\n",
       "      <td>[{'content': 'You are an excellent knowledge g...</td>\n",
       "      <td>Switzerland | percentage of population | 23.3 ...</td>\n",
       "    </tr>\n",
       "    <tr>\n",
       "      <th>1594</th>\n",
       "      <td>2hop__132469_533882</td>\n",
       "      <td>17</td>\n",
       "      <td>True</td>\n",
       "      <td># AAM-N-4 Oriole\\nThe AAM-N-4 Oriole was an ea...</td>\n",
       "      <td>2499</td>\n",
       "      <td>[{'content': 'You are an excellent knowledge g...</td>\n",
       "      <td>AAM-N-4 Oriole | developer | Glenn L. Martin C...</td>\n",
       "    </tr>\n",
       "    <tr>\n",
       "      <th>1595</th>\n",
       "      <td>2hop__68981_39234</td>\n",
       "      <td>16</td>\n",
       "      <td>True</td>\n",
       "      <td># Tajikistan\\nThe Kushan Empire, a collection ...</td>\n",
       "      <td>2500</td>\n",
       "      <td>[{'content': 'You are an excellent knowledge g...</td>\n",
       "      <td>Tajikistan | location | Central Asia\\nKushan E...</td>\n",
       "    </tr>\n",
       "    <tr>\n",
       "      <th>1596</th>\n",
       "      <td>2hop__68981_39234</td>\n",
       "      <td>17</td>\n",
       "      <td>True</td>\n",
       "      <td># Religion in Asia\\nCountry Population Christi...</td>\n",
       "      <td>2501</td>\n",
       "      <td>[{'content': 'You are an excellent knowledge g...</td>\n",
       "      <td>Brunei | population | 400,000\\nBrunei | Christ...</td>\n",
       "    </tr>\n",
       "    <tr>\n",
       "      <th>1597</th>\n",
       "      <td>2hop__16267_25719</td>\n",
       "      <td>9</td>\n",
       "      <td>True</td>\n",
       "      <td># Ashkenazi Jews\\nIn an ethnic sense, an Ashke...</td>\n",
       "      <td>2503</td>\n",
       "      <td>[{'content': 'You are an excellent knowledge g...</td>\n",
       "      <td>Ashkenazi Jew | ethnicity | Central European\\n...</td>\n",
       "    </tr>\n",
       "  </tbody>\n",
       "</table>\n",
       "<p>1598 rows × 7 columns</p>\n",
       "</div>"
      ],
      "text/plain": [
       "                       id  paragraph_idx  is_supporting  \\\n",
       "0     2hop__131818_161450              1           True   \n",
       "1     2hop__131818_161450              2           True   \n",
       "2      2hop__444265_82341              0           True   \n",
       "3      2hop__444265_82341             12           True   \n",
       "4     2hop__711946_269414              3           True   \n",
       "...                   ...            ...            ...   \n",
       "1593    2hop__22431_16335             18           True   \n",
       "1594  2hop__132469_533882             17           True   \n",
       "1595    2hop__68981_39234             16           True   \n",
       "1596    2hop__68981_39234             17           True   \n",
       "1597    2hop__16267_25719              9           True   \n",
       "\n",
       "                                                   text  __index_level_0__  \\\n",
       "0     # Golestan Province\\nGolestān Province (Persia...                  0   \n",
       "1     # Voshmgir District\\nVoshmgir District () is a...                  1   \n",
       "2     # Ocala, Florida\\nOcala (/ oʊ ˈkælə / oh - KAL...                  2   \n",
       "3     # Tom Denney\\nTom Denney (born November 23, 19...                  3   \n",
       "4     # All Your Faded Things\\nAll Your Faded Things...                  4   \n",
       "...                                                 ...                ...   \n",
       "1593  # Switzerland\\nIn 2012, resident foreigners ma...               2497   \n",
       "1594  # AAM-N-4 Oriole\\nThe AAM-N-4 Oriole was an ea...               2499   \n",
       "1595  # Tajikistan\\nThe Kushan Empire, a collection ...               2500   \n",
       "1596  # Religion in Asia\\nCountry Population Christi...               2501   \n",
       "1597  # Ashkenazi Jews\\nIn an ethnic sense, an Ashke...               2503   \n",
       "\n",
       "                                                  input  \\\n",
       "0     [{'content': 'You are an excellent knowledge g...   \n",
       "1     [{'content': 'You are an excellent knowledge g...   \n",
       "2     [{'content': 'You are an excellent knowledge g...   \n",
       "3     [{'content': 'You are an excellent knowledge g...   \n",
       "4     [{'content': 'You are an excellent knowledge g...   \n",
       "...                                                 ...   \n",
       "1593  [{'content': 'You are an excellent knowledge g...   \n",
       "1594  [{'content': 'You are an excellent knowledge g...   \n",
       "1595  [{'content': 'You are an excellent knowledge g...   \n",
       "1596  [{'content': 'You are an excellent knowledge g...   \n",
       "1597  [{'content': 'You are an excellent knowledge g...   \n",
       "\n",
       "                                             generation  \n",
       "0     Golestan Province | location | north-east of I...  \n",
       "1     Voshmgir District | location | Aqqala County, ...  \n",
       "2     Ocala | location | Florida\\nOcala | location t...  \n",
       "3     Tom Denney | born on | November 23, 1982\\nTom ...  \n",
       "4     All Your Faded Things | album title | \\nAll Yo...  \n",
       "...                                                 ...  \n",
       "1593  Switzerland | percentage of population | 23.3 ...  \n",
       "1594  AAM-N-4 Oriole | developer | Glenn L. Martin C...  \n",
       "1595  Tajikistan | location | Central Asia\\nKushan E...  \n",
       "1596  Brunei | population | 400,000\\nBrunei | Christ...  \n",
       "1597  Ashkenazi Jew | ethnicity | Central European\\n...  \n",
       "\n",
       "[1598 rows x 7 columns]"
      ]
     },
     "execution_count": null,
     "metadata": {},
     "output_type": "execute_result"
    }
   ],
   "source": [
    "#|hide\n",
    "jerx_inferences_filepath = Path(\"../data/raw/musique-evaluation/jerx-inferences/llama3-base.jsonl\")\n",
    "\n",
    "df = pd.read_json(jerx_inferences_filepath, orient='records', lines=True)\n",
    "\n",
    "df"
   ]
  },
  {
   "cell_type": "code",
   "execution_count": null,
   "metadata": {},
   "outputs": [
    {
     "name": "stdout",
     "output_type": "stream",
     "text": [
      "[('Golestan Province', 'location', 'north-east of Iran'), ('Golestan Province', 'location relative to Caspian Sea', 'south'), ('Golestan Province', 'capital', 'Gorgan')]\n"
     ]
    }
   ],
   "source": [
    "#|hide\n",
    "func = make_kg_triplet_extract_fn(jerx_inferences_filepath)\n",
    "text = df.iloc[0]['text']\n",
    "print(func(text))"
   ]
  },
  {
   "cell_type": "code",
   "execution_count": null,
   "metadata": {},
   "outputs": [
    {
     "data": {
      "text/plain": [
       "id                                                 2hop__131818_161450\n",
       "paragraph_idx                                                        1\n",
       "is_supporting                                                     True\n",
       "text                 # Golestan Province\\nGolestān Province (Persia...\n",
       "__index_level_0__                                                    0\n",
       "input                [{'content': 'You are an excellent knowledge g...\n",
       "generation           Golestan Province | location | north-east of I...\n",
       "Name: 0, dtype: object"
      ]
     },
     "execution_count": null,
     "metadata": {},
     "output_type": "execute_result"
    }
   ],
   "source": [
    "row = df.iloc[0]\n",
    "row"
   ]
  },
  {
   "cell_type": "code",
   "execution_count": null,
   "metadata": {},
   "outputs": [],
   "source": [
    "#|hide\n",
    "import nbdev; nbdev.nbdev_export()"
   ]
  }
 ],
 "metadata": {
  "kernelspec": {
   "display_name": "python3",
   "language": "python",
   "name": "python3"
  }
 },
 "nbformat": 4,
 "nbformat_minor": 2
}
