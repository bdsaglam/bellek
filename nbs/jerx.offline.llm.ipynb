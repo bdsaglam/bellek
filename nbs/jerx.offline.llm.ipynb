{
 "cells": [
  {
   "cell_type": "markdown",
   "metadata": {},
   "source": [
    "# Few-shot JERX task offline inference"
   ]
  },
  {
   "cell_type": "code",
   "execution_count": null,
   "metadata": {},
   "outputs": [],
   "source": [
    "#|default_exp jerx.offline.llm"
   ]
  },
  {
   "cell_type": "code",
   "execution_count": null,
   "metadata": {},
   "outputs": [],
   "source": [
    "#|hide\n",
    "from fastcore.test import *\n",
    "from nbdev.showdoc import *"
   ]
  },
  {
   "cell_type": "code",
   "execution_count": null,
   "metadata": {},
   "outputs": [],
   "source": [
    "#|export\n",
    "from pathlib import Path\n",
    "import pandas as pd\n",
    "from bellek.jerx.utils import parse_triplets\n",
    "from bellek.logging import get_logger\n",
    "\n",
    "log = get_logger(__name__)"
   ]
  },
  {
   "cell_type": "code",
   "execution_count": null,
   "metadata": {},
   "outputs": [
    {
     "data": {
      "text/plain": [
       "True"
      ]
     },
     "execution_count": null,
     "metadata": {},
     "output_type": "execute_result"
    }
   ],
   "source": [
    "#|hide\n",
    "from dotenv import load_dotenv\n",
    "load_dotenv()"
   ]
  },
  {
   "cell_type": "code",
   "execution_count": null,
   "metadata": {},
   "outputs": [],
   "source": [
    "# |export\n",
    "\n",
    "def parse_triplet_response(response: str, *args, **kwargs) -> list[tuple[str, str, str]]:\n",
    "    triplets = parse_triplets(response.strip())\n",
    "    return [(e1, rel, e2) if e1 != e2 else (e1, rel, e2 + \"(obj)\") for e1, rel, e2 in triplets]\n",
    "\n",
    "\n",
    "def make_kg_triplet_extract_fn(inference_cache_filepath: Path):\n",
    "    df = pd.read_json(inference_cache_filepath, lines=True, orient=\"records\")\n",
    "    df.set_index(\"text\", inplace=True)\n",
    "\n",
    "    def extract_kg_triplets(text: str) -> list[tuple[str, str, str]]:\n",
    "        return parse_triplet_response(df.loc[text]['generation'])\n",
    "\n",
    "    return extract_kg_triplets"
   ]
  },
  {
   "cell_type": "code",
   "execution_count": null,
   "metadata": {},
   "outputs": [],
   "source": [
    "#|hide\n",
    "import nbdev; nbdev.nbdev_export()"
   ]
  }
 ],
 "metadata": {
  "kernelspec": {
   "display_name": "python3",
   "language": "python",
   "name": "python3"
  }
 },
 "nbformat": 4,
 "nbformat_minor": 2
}
