{
 "cells": [
  {
   "attachments": {},
   "cell_type": "markdown",
   "metadata": {},
   "source": [
    "# Language dataset utils"
   ]
  },
  {
   "cell_type": "code",
   "execution_count": null,
   "metadata": {},
   "outputs": [],
   "source": [
    "#|default_exp lang.dataset"
   ]
  },
  {
   "cell_type": "code",
   "execution_count": null,
   "metadata": {},
   "outputs": [],
   "source": [
    "#|hide\n",
    "from fastcore.test import *\n",
    "from nbdev.showdoc import *"
   ]
  },
  {
   "cell_type": "code",
   "execution_count": null,
   "metadata": {},
   "outputs": [],
   "source": [
    "#|export\n",
    "\n",
    "\n",
    "def alpaca2sharegpt(example):\n",
    "    messages = []\n",
    "    if \"instruction\" in example:\n",
    "        messages.append({\"from\": \"system\", \"value\": example[\"instruction\"]})\n",
    "    messages.append({\"from\": \"human\", \"value\": example[\"input\"]})\n",
    "    messages.append({\"from\": \"gpt\", \"value\": example[\"output\"]})\n",
    "    return {\"messages\": messages}\n",
    "\n",
    "\n",
    "def alpaca2openai(example):\n",
    "    messages = []\n",
    "    if \"instruction\" in example:\n",
    "        messages.append({\"role\": \"system\", \"content\": example[\"instruction\"]})\n",
    "    messages.append({\"role\": \"user\", \"content\": example[\"input\"]})\n",
    "    messages.append({\"role\": \"assistant\", \"content\": example[\"output\"]})\n",
    "    return {\"messages\": messages}\n",
    "\n",
    "\n",
    "def sharegpt2openai_message(message):\n",
    "    role = {\"system\": \"system\", \"human\": \"user\", \"gpt\": \"assistant\"}[message[\"from\"]]\n",
    "    return {\"role\": role, \"content\": message[\"value\"]}\n",
    "\n",
    "\n",
    "def openai2sharegpt_message(message):\n",
    "    frm = {\"system\": \"system\", \"user\": \"human\", \"assistant\": \"gpt\"}[message[\"role\"]]\n",
    "    return {\"from\": frm, \"value\": message[\"content\"]}\n",
    "\n",
    "\n",
    "def sharegpt2openai(example):\n",
    "    return {\n",
    "        \"messages\": [sharegpt2openai_message(message) for message in example[\"messages\"]],\n",
    "    }\n",
    "\n",
    "\n",
    "def openai2sharegpt(example):\n",
    "    return {\n",
    "        \"messages\": [openai2sharegpt_message(message) for message in example[\"messages\"]],\n",
    "    }"
   ]
  },
  {
   "cell_type": "code",
   "execution_count": null,
   "metadata": {},
   "outputs": [],
   "source": [
    "alpaca_example = {\n",
    "    \"instruction\": \"You are a helpful assistant.\",\n",
    "    \"input\": \"What is love?\",\n",
    "    \"output\": \"Baby, don't hurt me!\"\n",
    "}"
   ]
  },
  {
   "cell_type": "code",
   "execution_count": null,
   "metadata": {},
   "outputs": [
    {
     "data": {
      "text/plain": [
       "{'messages': [{'from': 'system', 'value': 'You are a helpful assistant.'},\n",
       "  {'from': 'human', 'value': 'What is love?'},\n",
       "  {'from': 'gpt', 'value': \"Baby, don't hurt me!\"}]}"
      ]
     },
     "execution_count": null,
     "metadata": {},
     "output_type": "execute_result"
    }
   ],
   "source": [
    "sharegpt_example = alpaca2sharegpt(alpaca_example)\n",
    "sharegpt_example"
   ]
  },
  {
   "cell_type": "code",
   "execution_count": null,
   "metadata": {},
   "outputs": [
    {
     "data": {
      "text/plain": [
       "{'messages': [{'role': 'system', 'content': 'You are a helpful assistant.'},\n",
       "  {'role': 'user', 'content': 'What is love?'},\n",
       "  {'role': 'assistant', 'content': \"Baby, don't hurt me!\"}]}"
      ]
     },
     "execution_count": null,
     "metadata": {},
     "output_type": "execute_result"
    }
   ],
   "source": [
    "openai_example = alpaca2openai(alpaca_example)\n",
    "openai_example"
   ]
  },
  {
   "cell_type": "code",
   "execution_count": null,
   "metadata": {},
   "outputs": [],
   "source": [
    "test_eq(openai_example, sharegpt2openai(sharegpt_example))"
   ]
  },
  {
   "cell_type": "code",
   "execution_count": null,
   "metadata": {},
   "outputs": [],
   "source": [
    "test_eq(sharegpt_example, openai2sharegpt(openai_example))"
   ]
  },
  {
   "cell_type": "code",
   "execution_count": null,
   "metadata": {},
   "outputs": [],
   "source": [
    "#|hide\n",
    "import nbdev; nbdev.nbdev_export()"
   ]
  }
 ],
 "metadata": {
  "kernelspec": {
   "display_name": "python3",
   "language": "python",
   "name": "python3"
  }
 },
 "nbformat": 4,
 "nbformat_minor": 2
}
