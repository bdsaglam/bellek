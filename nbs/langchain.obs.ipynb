{
 "cells": [
  {
   "attachments": {},
   "cell_type": "markdown",
   "metadata": {},
   "source": [
    "# Langchain observability"
   ]
  },
  {
   "cell_type": "code",
   "execution_count": null,
   "metadata": {},
   "outputs": [],
   "source": [
    "#|default_exp langchain.obs"
   ]
  },
  {
   "cell_type": "code",
   "execution_count": null,
   "metadata": {},
   "outputs": [],
   "source": [
    "#|hide\n",
    "from fastcore.test import *\n",
    "from nbdev.showdoc import *"
   ]
  },
  {
   "cell_type": "code",
   "execution_count": null,
   "metadata": {},
   "outputs": [],
   "source": [
    "#|export\n",
    "\n",
    "from typing import Optional"
   ]
  },
  {
   "cell_type": "code",
   "execution_count": null,
   "metadata": {},
   "outputs": [],
   "source": [
    "#|export\n",
    "\n",
    "def _serialize_io(run_inputs: Optional[dict]) -> dict:\n",
    "    \"\"\"Different to the original function, this also handles the serialization of Pydantic output from llms.\"\"\"\n",
    "    if not run_inputs:\n",
    "        return {}\n",
    "    from google.protobuf.json_format import MessageToJson\n",
    "    from google.protobuf.message import Message\n",
    "    from langchain_core.pydantic_v1 import BaseModel\n",
    "\n",
    "    serialized_inputs = {}\n",
    "    for key, value in run_inputs.items():\n",
    "        if isinstance(value, Message):\n",
    "            serialized_inputs[key] = MessageToJson(value)\n",
    "        elif key == \"input_documents\":\n",
    "            serialized_inputs.update(\n",
    "                {f\"input_document_{i}\": doc.json() for i, doc in enumerate(value)}\n",
    "            )\n",
    "        elif isinstance(value, BaseModel): # this is added\n",
    "            serialized_inputs[key] = value.json()\n",
    "        else:\n",
    "            serialized_inputs[key] = value\n",
    "    return serialized_inputs\n",
    "\n",
    "def patch_wandb_tracer_serialize_io():\n",
    "    from langchain.callbacks.tracers import wandb\n",
    "    wandb._serialize_io = _serialize_io"
   ]
  },
  {
   "cell_type": "code",
   "execution_count": null,
   "metadata": {},
   "outputs": [],
   "source": [
    "#|hide\n",
    "\n",
    "patch_wandb_tracer_serialize_io()"
   ]
  },
  {
   "cell_type": "code",
   "execution_count": null,
   "metadata": {},
   "outputs": [],
   "source": [
    "#|hide\n",
    "import nbdev; nbdev.nbdev_export()"
   ]
  }
 ],
 "metadata": {
  "kernelspec": {
   "display_name": "python3",
   "language": "python",
   "name": "python3"
  }
 },
 "nbformat": 4,
 "nbformat_minor": 2
}
