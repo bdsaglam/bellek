{
 "cells": [
  {
   "cell_type": "markdown",
   "metadata": {},
   "source": [
    "# MuSiQue single-hop baseline"
   ]
  },
  {
   "cell_type": "code",
   "execution_count": null,
   "metadata": {},
   "outputs": [],
   "source": [
    "#|default_exp musique.singlehop"
   ]
  },
  {
   "cell_type": "code",
   "execution_count": null,
   "metadata": {},
   "outputs": [],
   "source": [
    "#|hide\n",
    "from fastcore.test import *\n",
    "from nbdev.showdoc import *"
   ]
  },
  {
   "cell_type": "code",
   "execution_count": null,
   "metadata": {},
   "outputs": [],
   "source": [
    "#|export\n",
    "\n",
    "from typing import Callable\n",
    "\n",
    "import pandas as pd\n",
    "from tqdm.auto import tqdm\n",
    "\n",
    "from bellek.musique.eval import calculate_metrics, compare_answers\n",
    "\n",
    "tqdm.pandas()"
   ]
  },
  {
   "cell_type": "code",
   "execution_count": null,
   "metadata": {},
   "outputs": [],
   "source": [
    "#|export\n",
    "\n",
    "def make_docs(example):\n",
    "    ps = example[\"paragraphs\"]\n",
    "    for p in ps:\n",
    "        idx = p[\"idx\"]\n",
    "        title = p[\"title\"]\n",
    "        body = p[\"paragraph_text\"]\n",
    "        is_supporting = p[\"is_supporting\"]\n",
    "        text = f\"# {title}\\n{body}\"\n",
    "        yield dict(\n",
    "            text=text,\n",
    "            is_supporting=is_supporting,\n",
    "            parent_id=example[\"id\"],\n",
    "            idx=idx,\n",
    "        )"
   ]
  },
  {
   "cell_type": "code",
   "execution_count": null,
   "metadata": {},
   "outputs": [],
   "source": [
    "#|export\n",
    "\n",
    "class BaselineSingleHop:\n",
    "    def __init__(self, qa_func, retrieval_func):\n",
    "        self.qa_func = qa_func\n",
    "        self.retrieval_func = retrieval_func\n",
    "\n",
    "    def _call(self, example) -> dict:\n",
    "        docs = list(make_docs(example))\n",
    "        question = example[\"question\"]\n",
    "        query = question\n",
    "        retrieved_docs = self.retrieval_func(docs, query)\n",
    "        context = \"\\n\\n\".join(doc['text'] for doc in retrieved_docs)\n",
    "        qa_result = self.qa_func(context=context, question=question)\n",
    "        answer = qa_result.get(\"answer\")\n",
    "        hop = {\n",
    "            \"question\": question,\n",
    "            \"query\" : query,\n",
    "            \"retrieved_docs\": retrieved_docs,\n",
    "            \"context\": context,\n",
    "            \"answer\": answer,\n",
    "            \"qa_result\": qa_result,\n",
    "        }\n",
    "        return {'answer': answer, 'hops': [hop]}\n",
    "\n",
    "    def __call__(self, example, ignore_errors: bool = False) -> dict:\n",
    "        try:\n",
    "            output = self._call(example)\n",
    "        except Exception as exc:\n",
    "            if ignore_errors:\n",
    "                id = example[\"id\"]\n",
    "                print(f\"Failed to answer the question {id}\\n{exc}\")\n",
    "                output = dict(answer=\"N/A\", hops=[{'error': str(exc)}])\n",
    "            else:\n",
    "                raise\n",
    "        return output"
   ]
  },
  {
   "cell_type": "code",
   "execution_count": null,
   "metadata": {},
   "outputs": [],
   "source": [
    "#|export\n",
    "\n",
    "def benchmark(\n",
    "    dataf: pd.DataFrame,\n",
    "    qa_func: Callable,\n",
    "    retrieval_func: Callable,\n",
    "    ignore_errors: bool = False,\n",
    ") -> tuple[pd.DataFrame, dict]:\n",
    "    pipeline = BaselineSingleHop(qa_func, retrieval_func)\n",
    "\n",
    "    def process(example):\n",
    "        output = pipeline(example, ignore_errors=ignore_errors)\n",
    "        example[\"predicted_answer\"] = output['answer']\n",
    "        example[\"raw_output\"] = output\n",
    "        return example\n",
    "\n",
    "    dataf = dataf.progress_apply(process, axis=1)\n",
    "    dataf = compare_answers(dataf)\n",
    "    scores = calculate_metrics(dataf)\n",
    "    scores[\"fuzzy_match\"] = dataf[\"fuzzy_match\"].mean()\n",
    "    return dataf, scores"
   ]
  },
  {
   "cell_type": "code",
   "execution_count": null,
   "metadata": {},
   "outputs": [
    {
     "name": "stdout",
     "output_type": "stream",
     "text": [
      "100\n"
     ]
    },
    {
     "data": {
      "text/html": [
       "<div>\n",
       "<style scoped>\n",
       "    .dataframe tbody tr th:only-of-type {\n",
       "        vertical-align: middle;\n",
       "    }\n",
       "\n",
       "    .dataframe tbody tr th {\n",
       "        vertical-align: top;\n",
       "    }\n",
       "\n",
       "    .dataframe thead th {\n",
       "        text-align: right;\n",
       "    }\n",
       "</style>\n",
       "<table border=\"1\" class=\"dataframe\">\n",
       "  <thead>\n",
       "    <tr style=\"text-align: right;\">\n",
       "      <th></th>\n",
       "      <th>id</th>\n",
       "      <th>paragraphs</th>\n",
       "      <th>question</th>\n",
       "      <th>question_decomposition</th>\n",
       "      <th>answer</th>\n",
       "      <th>answer_aliases</th>\n",
       "      <th>answerable</th>\n",
       "      <th>answers</th>\n",
       "    </tr>\n",
       "  </thead>\n",
       "  <tbody>\n",
       "    <tr>\n",
       "      <th>0</th>\n",
       "      <td>2hop__131818_161450</td>\n",
       "      <td>[{'idx': 0, 'title': 'Maria Carrillo High Scho...</td>\n",
       "      <td>Where is the Voshmgir District located?</td>\n",
       "      <td>[{'id': 131818, 'question': 'Which state is Vo...</td>\n",
       "      <td>in the north-east of the country south of the ...</td>\n",
       "      <td>[Caspian Sea, in the north-east of the country...</td>\n",
       "      <td>True</td>\n",
       "      <td>[Caspian Sea, in the north-east of the country...</td>\n",
       "    </tr>\n",
       "    <tr>\n",
       "      <th>1</th>\n",
       "      <td>2hop__711946_269414</td>\n",
       "      <td>[{'idx': 0, 'title': 'Wild Thing (Tone Lōc son...</td>\n",
       "      <td>What record label is the performer who release...</td>\n",
       "      <td>[{'id': 711946, 'question': 'All Your Faded Th...</td>\n",
       "      <td>Kill Rock Stars</td>\n",
       "      <td>[Kill Rock Stars]</td>\n",
       "      <td>True</td>\n",
       "      <td>[Kill Rock Stars]</td>\n",
       "    </tr>\n",
       "    <tr>\n",
       "      <th>2</th>\n",
       "      <td>2hop__311931_417706</td>\n",
       "      <td>[{'idx': 0, 'title': 'The Main Attraction (alb...</td>\n",
       "      <td>What record label does the performer of Emotio...</td>\n",
       "      <td>[{'id': 311931, 'question': 'Emotional Rain &gt;&gt;...</td>\n",
       "      <td>Attic Records</td>\n",
       "      <td>[Attic, Attic Records]</td>\n",
       "      <td>True</td>\n",
       "      <td>[Attic, Attic Records]</td>\n",
       "    </tr>\n",
       "    <tr>\n",
       "      <th>3</th>\n",
       "      <td>2hop__358582_189042</td>\n",
       "      <td>[{'idx': 0, 'title': 'The Main Attraction (alb...</td>\n",
       "      <td>What is the record label of the Thrill of a Li...</td>\n",
       "      <td>[{'id': 358582, 'question': 'Thrill of a Lifet...</td>\n",
       "      <td>New Renaissance Records</td>\n",
       "      <td>[New Renaissance Records]</td>\n",
       "      <td>True</td>\n",
       "      <td>[New Renaissance Records]</td>\n",
       "    </tr>\n",
       "    <tr>\n",
       "      <th>4</th>\n",
       "      <td>2hop__341176_711757</td>\n",
       "      <td>[{'idx': 0, 'title': 'Gmina Pabianice', 'parag...</td>\n",
       "      <td>What other district is found in the same count...</td>\n",
       "      <td>[{'id': 341176, 'question': 'Gmina Stężyca, Lu...</td>\n",
       "      <td>Gmina Ryki</td>\n",
       "      <td>[Ryki, Gmina Ryki]</td>\n",
       "      <td>True</td>\n",
       "      <td>[Ryki, Gmina Ryki]</td>\n",
       "    </tr>\n",
       "  </tbody>\n",
       "</table>\n",
       "</div>"
      ],
      "text/plain": [
       "                    id                                         paragraphs  \\\n",
       "0  2hop__131818_161450  [{'idx': 0, 'title': 'Maria Carrillo High Scho...   \n",
       "1  2hop__711946_269414  [{'idx': 0, 'title': 'Wild Thing (Tone Lōc son...   \n",
       "2  2hop__311931_417706  [{'idx': 0, 'title': 'The Main Attraction (alb...   \n",
       "3  2hop__358582_189042  [{'idx': 0, 'title': 'The Main Attraction (alb...   \n",
       "4  2hop__341176_711757  [{'idx': 0, 'title': 'Gmina Pabianice', 'parag...   \n",
       "\n",
       "                                            question  \\\n",
       "0            Where is the Voshmgir District located?   \n",
       "1  What record label is the performer who release...   \n",
       "2  What record label does the performer of Emotio...   \n",
       "3  What is the record label of the Thrill of a Li...   \n",
       "4  What other district is found in the same count...   \n",
       "\n",
       "                              question_decomposition  \\\n",
       "0  [{'id': 131818, 'question': 'Which state is Vo...   \n",
       "1  [{'id': 711946, 'question': 'All Your Faded Th...   \n",
       "2  [{'id': 311931, 'question': 'Emotional Rain >>...   \n",
       "3  [{'id': 358582, 'question': 'Thrill of a Lifet...   \n",
       "4  [{'id': 341176, 'question': 'Gmina Stężyca, Lu...   \n",
       "\n",
       "                                              answer  \\\n",
       "0  in the north-east of the country south of the ...   \n",
       "1                                    Kill Rock Stars   \n",
       "2                                      Attic Records   \n",
       "3                            New Renaissance Records   \n",
       "4                                         Gmina Ryki   \n",
       "\n",
       "                                      answer_aliases  answerable  \\\n",
       "0  [Caspian Sea, in the north-east of the country...        True   \n",
       "1                                  [Kill Rock Stars]        True   \n",
       "2                             [Attic, Attic Records]        True   \n",
       "3                          [New Renaissance Records]        True   \n",
       "4                                 [Ryki, Gmina Ryki]        True   \n",
       "\n",
       "                                             answers  \n",
       "0  [Caspian Sea, in the north-east of the country...  \n",
       "1                                  [Kill Rock Stars]  \n",
       "2                             [Attic, Attic Records]  \n",
       "3                          [New Renaissance Records]  \n",
       "4                                 [Ryki, Gmina Ryki]  "
      ]
     },
     "execution_count": null,
     "metadata": {},
     "output_type": "execute_result"
    }
   ],
   "source": [
    "df = pd.read_json('../data/generated/musique-evaluation/dataset.jsonl', orient='records', lines=True)\n",
    "print(len(df))\n",
    "df.head()"
   ]
  },
  {
   "cell_type": "code",
   "execution_count": null,
   "metadata": {},
   "outputs": [],
   "source": [
    "from bellek.musique.qa import answer_question_standard\n",
    "\n",
    "qa_func = answer_question_standard\n",
    "retrieval_func = lambda docs, query: docs\n",
    "pipeline = BaselineSingleHop(qa_func, retrieval_func)"
   ]
  },
  {
   "cell_type": "code",
   "execution_count": null,
   "metadata": {},
   "outputs": [
    {
     "name": "stdout",
     "output_type": "stream",
     "text": [
      "Question: What record label is the performer who released All Your Faded Things on?\n",
      "Reference answer: Kill Rock Stars\n",
      "Predicted answer: \n",
      "Reasoning: [{'question': 'What record label is the performer who released All Your Faded Things on?', 'query': 'What record label is the performer who released All Your Faded Things on?', 'context': '# Wild Thing (Tone Lōc song)\\n``Wild Thing \\'\\'Single by Tone Lōc from the album Lōc - ed After Dark Released January 1989 Recorded Genre Rap rock Length 4: 23 Label Delicious Vinyl Songwriter (s) Anthony Terrell Smith, Matt Dike, Marvin Young Producer (s) Matt Dike, Michael Ross Tone Lōc singles chronology`` Wild Thing\\'\\' (1989) ``Funky Cold Medina \\'\\'(1989)`` Wild Thing\\'\\' (1989) ``Funky Cold Medina \\'\\'(1989)\\n# Jazz Contemporary\\nJazz Contemporary is an album by American jazz trumpeter Kenny Dorham featuring performances recorded in 1960 and released on the Time label. The album features the recording debut of pianist Steve Kuhn.\\n# It\\'s What\\'s Happenin\\'\\nIt\\'s What\\'s Happenin\\' (subtitled The Varitone Sound of Clark Terry) is an album by American jazz trumpeter Clark Terry featuring performances recorded in 1967 for the Impulse! label. Remastered in 2012 to commemorate the 50th anniversary of Impulse! Records, it was reissued together with Terry\\'s only other record for the label as a solo leader, \"The Happy Horns of Clark Terry\".\\n# All Your Faded Things\\nAll Your Faded Things is an album released by Anna Oxygen on July 22, 2003 under the Cold Crush Records label. It was produced by Justin Trosper.\\n# This Is an Exercise\\nThis Is an Exercise is an album by experimental electropop artist Anna Oxygen, released in 2006 on Kill Rock Stars. Allmusic described the album as \"just as fascinating as it is chilly and alienating. In her songs, Oxygen explores some of the same issues of authenticity, creation, and consumption that Tracy + the Plastics do, but with a sci-fi/fantasy bent.\"\\n# The Jazz Skyline\\nThe Jazz Skyline is an album by American jazz vibraphonist Milt Jackson featuring performances recorded in 1956 and released on the Savoy label.\\n# Crystal (Ahmad Jamal album)\\nCrystal is an album by American jazz pianist Ahmad Jamal featuring performances recorded in 1987 and released on the Atlantic label.\\n# Plenty, Plenty Soul\\nPlenty, Plenty Soul is an album by American jazz vibraphonist Milt Jackson featuring performances recorded in 1957 and released on the Atlantic label.\\n# All Things in Time\\nAll Things in Time is an album by American R&B singer Lou Rawls, released in June 1976 on the Philadelphia International Records label. Coming after a career lull in the years immediately preceding, \"All Things in Time\" was Rawls\\' first album for PIR; at the time he was the first artist to sign with PIR after having already enjoyed a substantial recording career and chart success with other record labels. The album includes Rawls\\' most famous hit song \"You\\'ll Never Find Another Love Like Mine\".\\n# Groovin\\' with Golson\\nGroovin\\' with Golson is the sixth album by saxophonist Benny Golson featuring performances recorded in 1959 and originally released on the New Jazz label.\\n# More Blues and the Abstract Truth\\nMore Blues and the Abstract Truth is an album by American jazz composer, conductor and arranger Oliver Nelson featuring performances recorded in 1964 for the Impulse! label.\\n# 2 Horns / 2 Rhythm\\n2 Horns / 2 Rhythm is an album by American jazz trumpeter Kenny Dorham featuring performances with Ernie Henry recorded in 1957 and released on the Riverside label. This was Henry\\'s last recording session.\\n# Three for Shepp\\nThree for Shepp is the debut album by American saxophonist Marion Brown featuring performances recorded in 1966 for the Impulse! label.\\n# Soundsigns\\nSoundsigns is an album by the American jazz saxophonist Dewey Redman of performances recorded in 1978 for the Galaxy label.\\n# The Main Attraction (album)\\nThe Main Attraction is an album by American jazz guitarist Grant Green featuring performances recorded in 1976 and released on the Kudu label.\\n# Foolin\\' Myself\\nFoolin\\' Myself is an album of trio performances by the American jazz pianist Jaki Byard recorded in 1988 and released on the Italian Soul Note label.\\n# Tijuana Jazz\\nTijuana Jazz is an album by American jazz vibraphonist Gary McFarland and trumpeter Clark Terry featuring performances recorded in 1965 for the Impulse! label. The album was also released in the UK on the HMV label as CLP3541.\\n# Waterfalls (album)\\nWaterfalls is a live album by American saxophonist and composer John Klemmer featuring studio enhanced live performances recorded in Los Angeles for the Impulse! label.\\n# Something Personal\\nSomething Personal is an album by American jazz pianist Jack Wilson featuring performances recorded and released on the Blue Note label in 1967.\\n# The Real Thing (Dizzy Gillespie album)\\nThe Real Thing is an album by American jazz trumpeter Dizzy Gillespie featuring James Moody recorded in 1969 and originally released on the Perception label.', 'answer': '', 'llm_output': {'answer': '', 'generation': 'Cold Crush Records'}}]\n"
     ]
    }
   ],
   "source": [
    "i = 1\n",
    "example = df.iloc[i].to_dict()\n",
    "output = pipeline(example)\n",
    "print(\"Question:\", example['question'])\n",
    "print(\"Reference answer:\", example['answer'])\n",
    "print(\"Predicted answer:\", output['answer'])\n",
    "print(\"Reasoning:\", output['hops'])"
   ]
  },
  {
   "cell_type": "code",
   "execution_count": null,
   "metadata": {},
   "outputs": [
    {
     "data": {
      "application/vnd.jupyter.widget-view+json": {
       "model_id": "802886f674bb454ca6bdcf47b25dc482",
       "version_major": 2,
       "version_minor": 0
      },
      "text/plain": [
       "  0%|          | 0/2 [00:00<?, ?it/s]"
      ]
     },
     "metadata": {},
     "output_type": "display_data"
    },
    {
     "name": "stdout",
     "output_type": "stream",
     "text": [
      "{'exact_match': 0.0, 'f1': 0.0, 'fuzzy_match': 0.5}\n"
     ]
    },
    {
     "data": {
      "text/html": [
       "<div>\n",
       "<style scoped>\n",
       "    .dataframe tbody tr th:only-of-type {\n",
       "        vertical-align: middle;\n",
       "    }\n",
       "\n",
       "    .dataframe tbody tr th {\n",
       "        vertical-align: top;\n",
       "    }\n",
       "\n",
       "    .dataframe thead th {\n",
       "        text-align: right;\n",
       "    }\n",
       "</style>\n",
       "<table border=\"1\" class=\"dataframe\">\n",
       "  <thead>\n",
       "    <tr style=\"text-align: right;\">\n",
       "      <th></th>\n",
       "      <th>id</th>\n",
       "      <th>paragraphs</th>\n",
       "      <th>question</th>\n",
       "      <th>question_decomposition</th>\n",
       "      <th>answer</th>\n",
       "      <th>answer_aliases</th>\n",
       "      <th>answerable</th>\n",
       "      <th>answers</th>\n",
       "      <th>predicted_answer</th>\n",
       "      <th>raw_output</th>\n",
       "      <th>exact_match</th>\n",
       "      <th>fuzzy_match</th>\n",
       "    </tr>\n",
       "  </thead>\n",
       "  <tbody>\n",
       "    <tr>\n",
       "      <th>58</th>\n",
       "      <td>2hop__731584_700117</td>\n",
       "      <td>[{'idx': 0, 'title': 'KAPE', 'paragraph_text':...</td>\n",
       "      <td>In which county is the city to which KKVU is l...</td>\n",
       "      <td>[{'id': 731584, 'question': 'KKVU &gt;&gt; licensed ...</td>\n",
       "      <td>Berrien County</td>\n",
       "      <td>[Berrien County]</td>\n",
       "      <td>True</td>\n",
       "      <td>[Berrien County]</td>\n",
       "      <td></td>\n",
       "      <td>{'answer': '', 'hops': [{'question': 'In which...</td>\n",
       "      <td>False</td>\n",
       "      <td>True</td>\n",
       "    </tr>\n",
       "    <tr>\n",
       "      <th>8</th>\n",
       "      <td>2hop__271045_68633</td>\n",
       "      <td>[{'idx': 0, 'title': 'Julio César Benítez', 'p...</td>\n",
       "      <td>Who is the president of the organization Julio...</td>\n",
       "      <td>[{'id': 271045, 'question': 'Julio Maglione &gt;&gt;...</td>\n",
       "      <td>Thomas Bach</td>\n",
       "      <td>[Thomas Bach]</td>\n",
       "      <td>True</td>\n",
       "      <td>[Thomas Bach]</td>\n",
       "      <td>International Olympic Committee</td>\n",
       "      <td>{'answer': 'International Olympic Committee', ...</td>\n",
       "      <td>False</td>\n",
       "      <td>False</td>\n",
       "    </tr>\n",
       "  </tbody>\n",
       "</table>\n",
       "</div>"
      ],
      "text/plain": [
       "                     id                                         paragraphs  \\\n",
       "58  2hop__731584_700117  [{'idx': 0, 'title': 'KAPE', 'paragraph_text':...   \n",
       "8    2hop__271045_68633  [{'idx': 0, 'title': 'Julio César Benítez', 'p...   \n",
       "\n",
       "                                             question  \\\n",
       "58  In which county is the city to which KKVU is l...   \n",
       "8   Who is the president of the organization Julio...   \n",
       "\n",
       "                               question_decomposition          answer  \\\n",
       "58  [{'id': 731584, 'question': 'KKVU >> licensed ...  Berrien County   \n",
       "8   [{'id': 271045, 'question': 'Julio Maglione >>...     Thomas Bach   \n",
       "\n",
       "      answer_aliases  answerable           answers  \\\n",
       "58  [Berrien County]        True  [Berrien County]   \n",
       "8      [Thomas Bach]        True     [Thomas Bach]   \n",
       "\n",
       "                   predicted_answer  \\\n",
       "58                                    \n",
       "8   International Olympic Committee   \n",
       "\n",
       "                                           raw_output  exact_match  \\\n",
       "58  {'answer': '', 'hops': [{'question': 'In which...        False   \n",
       "8   {'answer': 'International Olympic Committee', ...        False   \n",
       "\n",
       "    fuzzy_match  \n",
       "58         True  \n",
       "8         False  "
      ]
     },
     "execution_count": null,
     "metadata": {},
     "output_type": "execute_result"
    }
   ],
   "source": [
    "mdf, scores = benchmark(df.sample(2), qa_func, retrieval_func)\n",
    "print(scores)\n",
    "mdf"
   ]
  },
  {
   "cell_type": "code",
   "execution_count": null,
   "metadata": {},
   "outputs": [],
   "source": [
    "#|hide\n",
    "import nbdev; nbdev.nbdev_export()"
   ]
  }
 ],
 "metadata": {
  "kernelspec": {
   "display_name": "python3",
   "language": "python",
   "name": "python3"
  }
 },
 "nbformat": 4,
 "nbformat_minor": 2
}
