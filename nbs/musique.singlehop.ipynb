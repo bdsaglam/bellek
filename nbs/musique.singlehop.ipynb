{
 "cells": [
  {
   "cell_type": "markdown",
   "metadata": {},
   "source": [
    "# MuSiQue single-hop baseline"
   ]
  },
  {
   "cell_type": "code",
   "execution_count": null,
   "metadata": {},
   "outputs": [],
   "source": [
    "#|default_exp musique.singlehop"
   ]
  },
  {
   "cell_type": "code",
   "execution_count": null,
   "metadata": {},
   "outputs": [],
   "source": [
    "#|hide\n",
    "from fastcore.test import *\n",
    "from nbdev.showdoc import *"
   ]
  },
  {
   "cell_type": "code",
   "execution_count": null,
   "metadata": {},
   "outputs": [],
   "source": [
    "#|export\n",
    "\n",
    "from typing import Callable\n",
    "\n",
    "import pandas as pd\n",
    "from tqdm.auto import tqdm\n",
    "\n",
    "from bellek.jerx.reward.llm import QuestionAnsweringResult\n",
    "from bellek.musique.eval import calculate_metrics, compare_answers\n",
    "\n",
    "tqdm.pandas()"
   ]
  },
  {
   "cell_type": "code",
   "execution_count": null,
   "metadata": {},
   "outputs": [],
   "source": [
    "#|export\n",
    "\n",
    "def make_docs(example):\n",
    "    ps = example[\"paragraphs\"]\n",
    "    for p in ps:\n",
    "        idx = p[\"idx\"]\n",
    "        title = p[\"title\"]\n",
    "        body = p[\"paragraph_text\"]\n",
    "        is_supporting = p[\"is_supporting\"]\n",
    "        text = f\"# {title}\\n{body}\"\n",
    "        yield dict(\n",
    "            text=text,\n",
    "            metadata={\"parent_id\": example[\"id\"], \"idx\": idx, \"is_supporting\": is_supporting},\n",
    "        )"
   ]
  },
  {
   "cell_type": "code",
   "execution_count": null,
   "metadata": {},
   "outputs": [],
   "source": [
    "#|export\n",
    "\n",
    "class BaselineSingleHop:\n",
    "    def __init__(self, qa_func, retrieval_func):\n",
    "        self.qa_func = qa_func\n",
    "        self.retrieval_func = retrieval_func\n",
    "\n",
    "    def _call(self, example) -> QuestionAnsweringResult:\n",
    "        docs = list(make_docs(example))\n",
    "        retrieved_docs = self.retrieval_func(docs, example['question'])\n",
    "        context = \"\\n\\n\".join([doc[\"text\"] for doc in retrieved_docs])\n",
    "        return self.qa_func(context=context, question=example['question'])\n",
    "\n",
    "    def __call__(self, example, ignore_errors: bool = False) -> QuestionAnsweringResult:\n",
    "        try:\n",
    "            output = self._call(example)\n",
    "        except Exception as exc:\n",
    "            if ignore_errors:\n",
    "                id = example['id']\n",
    "                print(f\"Failed to answer the question {id}\\n{exc}\")\n",
    "                output = QuestionAnsweringResult(reasoning=\"\", answer=\"N/A\", raw_output=str(exc))\n",
    "            else:\n",
    "                raise\n",
    "        return output"
   ]
  },
  {
   "cell_type": "code",
   "execution_count": null,
   "metadata": {},
   "outputs": [],
   "source": [
    "#|export\n",
    "\n",
    "def benchmark(\n",
    "    dataf: pd.DataFrame,\n",
    "    qa_func: Callable,\n",
    "    retrieval_func: Callable,\n",
    "    only_supporting: bool = True,\n",
    "    ignore_errors: bool = False,\n",
    ") -> tuple[pd.DataFrame, dict]:\n",
    "    pipeline = BaselineSingleHop(qa_func, retrieval_func)\n",
    "\n",
    "    def process(example):\n",
    "        output = pipeline(example, ignore_errors=ignore_errors)\n",
    "        example[\"predicted_answer\"] = output.answer\n",
    "        example[\"raw_llm_output\"] = output\n",
    "        return example\n",
    "\n",
    "    dataf = dataf.progress_apply(process, axis=1)\n",
    "    dataf = compare_answers(dataf)\n",
    "    scores = calculate_metrics(dataf)\n",
    "    scores[\"fuzzy_match\"] = dataf[\"fuzzy_match\"].mean()\n",
    "    return dataf, scores"
   ]
  },
  {
   "cell_type": "code",
   "execution_count": null,
   "metadata": {},
   "outputs": [
    {
     "name": "stdout",
     "output_type": "stream",
     "text": [
      "100\n"
     ]
    },
    {
     "data": {
      "text/html": [
       "<div>\n",
       "<style scoped>\n",
       "    .dataframe tbody tr th:only-of-type {\n",
       "        vertical-align: middle;\n",
       "    }\n",
       "\n",
       "    .dataframe tbody tr th {\n",
       "        vertical-align: top;\n",
       "    }\n",
       "\n",
       "    .dataframe thead th {\n",
       "        text-align: right;\n",
       "    }\n",
       "</style>\n",
       "<table border=\"1\" class=\"dataframe\">\n",
       "  <thead>\n",
       "    <tr style=\"text-align: right;\">\n",
       "      <th></th>\n",
       "      <th>id</th>\n",
       "      <th>paragraphs</th>\n",
       "      <th>question</th>\n",
       "      <th>question_decomposition</th>\n",
       "      <th>answer</th>\n",
       "      <th>answer_aliases</th>\n",
       "      <th>answerable</th>\n",
       "      <th>answers</th>\n",
       "    </tr>\n",
       "  </thead>\n",
       "  <tbody>\n",
       "    <tr>\n",
       "      <th>0</th>\n",
       "      <td>2hop__131818_161450</td>\n",
       "      <td>[{'idx': 0, 'title': 'Maria Carrillo High Scho...</td>\n",
       "      <td>Where is the Voshmgir District located?</td>\n",
       "      <td>[{'id': 131818, 'question': 'Which state is Vo...</td>\n",
       "      <td>in the north-east of the country south of the ...</td>\n",
       "      <td>[Caspian Sea, in the north-east of the country...</td>\n",
       "      <td>True</td>\n",
       "      <td>[Caspian Sea, in the north-east of the country...</td>\n",
       "    </tr>\n",
       "    <tr>\n",
       "      <th>1</th>\n",
       "      <td>2hop__444265_82341</td>\n",
       "      <td>[{'idx': 0, 'title': 'Ocala, Florida', 'paragr...</td>\n",
       "      <td>In what part of Florida is Tom Denney's birthp...</td>\n",
       "      <td>[{'id': 444265, 'question': 'Tom Denney &gt;&gt; pla...</td>\n",
       "      <td>in Northern Florida</td>\n",
       "      <td>[in Northern Florida, Northern Florida]</td>\n",
       "      <td>True</td>\n",
       "      <td>[in Northern Florida, Northern Florida]</td>\n",
       "    </tr>\n",
       "    <tr>\n",
       "      <th>2</th>\n",
       "      <td>2hop__711946_269414</td>\n",
       "      <td>[{'idx': 0, 'title': 'Wild Thing (Tone Lōc son...</td>\n",
       "      <td>What record label is the performer who release...</td>\n",
       "      <td>[{'id': 711946, 'question': 'All Your Faded Th...</td>\n",
       "      <td>Kill Rock Stars</td>\n",
       "      <td>[Kill Rock Stars]</td>\n",
       "      <td>True</td>\n",
       "      <td>[Kill Rock Stars]</td>\n",
       "    </tr>\n",
       "    <tr>\n",
       "      <th>3</th>\n",
       "      <td>2hop__311931_417706</td>\n",
       "      <td>[{'idx': 0, 'title': 'The Main Attraction (alb...</td>\n",
       "      <td>What record label does the performer of Emotio...</td>\n",
       "      <td>[{'id': 311931, 'question': 'Emotional Rain &gt;&gt;...</td>\n",
       "      <td>Attic Records</td>\n",
       "      <td>[Attic, Attic Records]</td>\n",
       "      <td>True</td>\n",
       "      <td>[Attic, Attic Records]</td>\n",
       "    </tr>\n",
       "    <tr>\n",
       "      <th>4</th>\n",
       "      <td>2hop__809785_606637</td>\n",
       "      <td>[{'idx': 0, 'title': 'The Main Attraction (alb...</td>\n",
       "      <td>What record label does the performer of Advent...</td>\n",
       "      <td>[{'id': 809785, 'question': 'Adventures in You...</td>\n",
       "      <td>Secret City Records</td>\n",
       "      <td>[Secret City Records]</td>\n",
       "      <td>True</td>\n",
       "      <td>[Secret City Records]</td>\n",
       "    </tr>\n",
       "  </tbody>\n",
       "</table>\n",
       "</div>"
      ],
      "text/plain": [
       "                    id                                         paragraphs  \\\n",
       "0  2hop__131818_161450  [{'idx': 0, 'title': 'Maria Carrillo High Scho...   \n",
       "1   2hop__444265_82341  [{'idx': 0, 'title': 'Ocala, Florida', 'paragr...   \n",
       "2  2hop__711946_269414  [{'idx': 0, 'title': 'Wild Thing (Tone Lōc son...   \n",
       "3  2hop__311931_417706  [{'idx': 0, 'title': 'The Main Attraction (alb...   \n",
       "4  2hop__809785_606637  [{'idx': 0, 'title': 'The Main Attraction (alb...   \n",
       "\n",
       "                                            question  \\\n",
       "0            Where is the Voshmgir District located?   \n",
       "1  In what part of Florida is Tom Denney's birthp...   \n",
       "2  What record label is the performer who release...   \n",
       "3  What record label does the performer of Emotio...   \n",
       "4  What record label does the performer of Advent...   \n",
       "\n",
       "                              question_decomposition  \\\n",
       "0  [{'id': 131818, 'question': 'Which state is Vo...   \n",
       "1  [{'id': 444265, 'question': 'Tom Denney >> pla...   \n",
       "2  [{'id': 711946, 'question': 'All Your Faded Th...   \n",
       "3  [{'id': 311931, 'question': 'Emotional Rain >>...   \n",
       "4  [{'id': 809785, 'question': 'Adventures in You...   \n",
       "\n",
       "                                              answer  \\\n",
       "0  in the north-east of the country south of the ...   \n",
       "1                                in Northern Florida   \n",
       "2                                    Kill Rock Stars   \n",
       "3                                      Attic Records   \n",
       "4                                Secret City Records   \n",
       "\n",
       "                                      answer_aliases  answerable  \\\n",
       "0  [Caspian Sea, in the north-east of the country...        True   \n",
       "1            [in Northern Florida, Northern Florida]        True   \n",
       "2                                  [Kill Rock Stars]        True   \n",
       "3                             [Attic, Attic Records]        True   \n",
       "4                              [Secret City Records]        True   \n",
       "\n",
       "                                             answers  \n",
       "0  [Caspian Sea, in the north-east of the country...  \n",
       "1            [in Northern Florida, Northern Florida]  \n",
       "2                                  [Kill Rock Stars]  \n",
       "3                             [Attic, Attic Records]  \n",
       "4                              [Secret City Records]  "
      ]
     },
     "execution_count": null,
     "metadata": {},
     "output_type": "execute_result"
    }
   ],
   "source": [
    "df = pd.read_json('../data/generated/musique-evaluation/dataset.jsonl', orient='records', lines=True)\n",
    "print(len(df))\n",
    "df.head()"
   ]
  },
  {
   "cell_type": "code",
   "execution_count": null,
   "metadata": {},
   "outputs": [],
   "source": [
    "from bellek.jerx.reward.llm import make_question_answer_func\n",
    "\n",
    "qa_func = make_question_answer_func()\n",
    "retrieval_func = lambda docs, query: docs\n",
    "pipeline = BaselineSingleHop(qa_func, retrieval_func)"
   ]
  },
  {
   "cell_type": "code",
   "execution_count": null,
   "metadata": {},
   "outputs": [
    {
     "name": "stdout",
     "output_type": "stream",
     "text": [
      "Question: Where is the Voshmgir District located?\n",
      "Reference answer: in the north-east of the country south of the Caspian Sea\n",
      "Predicted answer: Asia\n",
      "Reasoning: Voshmgir District is a district in Golestan Province. Golestan Province is located in Iran. Iran is located in Asia.\n"
     ]
    }
   ],
   "source": [
    "i = 0\n",
    "example = df.iloc[i].to_dict()\n",
    "output = pipeline(example).dict()\n",
    "print(\"Question:\", example['question'])\n",
    "print(\"Reference answer:\", example['answer'])\n",
    "print(\"Predicted answer:\", output['answer'])\n",
    "print(\"Reasoning:\", output['reasoning'])"
   ]
  },
  {
   "cell_type": "code",
   "execution_count": null,
   "metadata": {},
   "outputs": [
    {
     "data": {
      "application/vnd.jupyter.widget-view+json": {
       "model_id": "b52dc0637c804da99b959d660306aafa",
       "version_major": 2,
       "version_minor": 0
      },
      "text/plain": [
       "  0%|          | 0/2 [00:00<?, ?it/s]"
      ]
     },
     "metadata": {},
     "output_type": "display_data"
    },
    {
     "name": "stdout",
     "output_type": "stream",
     "text": [
      "{'exact_match': 0.5, 'f1': 0.75, 'fuzzy_match': 0.5}\n"
     ]
    },
    {
     "data": {
      "text/html": [
       "<div>\n",
       "<style scoped>\n",
       "    .dataframe tbody tr th:only-of-type {\n",
       "        vertical-align: middle;\n",
       "    }\n",
       "\n",
       "    .dataframe tbody tr th {\n",
       "        vertical-align: top;\n",
       "    }\n",
       "\n",
       "    .dataframe thead th {\n",
       "        text-align: right;\n",
       "    }\n",
       "</style>\n",
       "<table border=\"1\" class=\"dataframe\">\n",
       "  <thead>\n",
       "    <tr style=\"text-align: right;\">\n",
       "      <th></th>\n",
       "      <th>id</th>\n",
       "      <th>paragraphs</th>\n",
       "      <th>question</th>\n",
       "      <th>question_decomposition</th>\n",
       "      <th>answer</th>\n",
       "      <th>answer_aliases</th>\n",
       "      <th>answerable</th>\n",
       "      <th>answers</th>\n",
       "      <th>predicted_answer</th>\n",
       "      <th>raw_llm_output</th>\n",
       "      <th>exact_match</th>\n",
       "      <th>fuzzy_match</th>\n",
       "    </tr>\n",
       "  </thead>\n",
       "  <tbody>\n",
       "    <tr>\n",
       "      <th>18</th>\n",
       "      <td>2hop__424908_500483</td>\n",
       "      <td>[{'idx': 0, 'title': 'Tur Dolny', 'paragraph_t...</td>\n",
       "      <td>What shares a border with the administrative d...</td>\n",
       "      <td>[{'id': 424908, 'question': 'Bieliny, Świętokr...</td>\n",
       "      <td>Gmina Daleszyce</td>\n",
       "      <td>[Gmina Daleszyce]</td>\n",
       "      <td>True</td>\n",
       "      <td>[Gmina Daleszyce]</td>\n",
       "      <td>Gmina Pierzchnica.</td>\n",
       "      <td>reasoning='Bieliny is the capital of Gmina Bie...</td>\n",
       "      <td>False</td>\n",
       "      <td>False</td>\n",
       "    </tr>\n",
       "    <tr>\n",
       "      <th>97</th>\n",
       "      <td>2hop__739909_807845</td>\n",
       "      <td>[{'idx': 0, 'title': 'The Journal of Life Scie...</td>\n",
       "      <td>What publisher was formed from the owner of th...</td>\n",
       "      <td>[{'id': 739909, 'question': 'The Daily News &gt;&gt;...</td>\n",
       "      <td>Digital First Media</td>\n",
       "      <td>[Digital First Media, MediaNews Group]</td>\n",
       "      <td>True</td>\n",
       "      <td>[Digital First Media, MediaNews Group]</td>\n",
       "      <td>Digital First Media</td>\n",
       "      <td>reasoning='The Daily News is owned by MediaNew...</td>\n",
       "      <td>True</td>\n",
       "      <td>True</td>\n",
       "    </tr>\n",
       "  </tbody>\n",
       "</table>\n",
       "</div>"
      ],
      "text/plain": [
       "                     id                                         paragraphs  \\\n",
       "18  2hop__424908_500483  [{'idx': 0, 'title': 'Tur Dolny', 'paragraph_t...   \n",
       "97  2hop__739909_807845  [{'idx': 0, 'title': 'The Journal of Life Scie...   \n",
       "\n",
       "                                             question  \\\n",
       "18  What shares a border with the administrative d...   \n",
       "97  What publisher was formed from the owner of th...   \n",
       "\n",
       "                               question_decomposition               answer  \\\n",
       "18  [{'id': 424908, 'question': 'Bieliny, Świętokr...      Gmina Daleszyce   \n",
       "97  [{'id': 739909, 'question': 'The Daily News >>...  Digital First Media   \n",
       "\n",
       "                            answer_aliases  answerable  \\\n",
       "18                       [Gmina Daleszyce]        True   \n",
       "97  [Digital First Media, MediaNews Group]        True   \n",
       "\n",
       "                                   answers     predicted_answer  \\\n",
       "18                       [Gmina Daleszyce]   Gmina Pierzchnica.   \n",
       "97  [Digital First Media, MediaNews Group]  Digital First Media   \n",
       "\n",
       "                                       raw_llm_output  exact_match  \\\n",
       "18  reasoning='Bieliny is the capital of Gmina Bie...        False   \n",
       "97  reasoning='The Daily News is owned by MediaNew...         True   \n",
       "\n",
       "    fuzzy_match  \n",
       "18        False  \n",
       "97         True  "
      ]
     },
     "execution_count": null,
     "metadata": {},
     "output_type": "execute_result"
    }
   ],
   "source": [
    "mdf, scores = benchmark(df.sample(2), qa_func, retrieval_func)\n",
    "print(scores)\n",
    "mdf"
   ]
  },
  {
   "cell_type": "code",
   "execution_count": null,
   "metadata": {},
   "outputs": [],
   "source": [
    "#|hide\n",
    "import nbdev; nbdev.nbdev_export()"
   ]
  }
 ],
 "metadata": {
  "kernelspec": {
   "display_name": "python3",
   "language": "python",
   "name": "python3"
  }
 },
 "nbformat": 4,
 "nbformat_minor": 2
}
