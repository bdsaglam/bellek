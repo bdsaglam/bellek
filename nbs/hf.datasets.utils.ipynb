{
 "cells": [
  {
   "attachments": {},
   "cell_type": "markdown",
   "metadata": {},
   "source": [
    "# Datasets utils"
   ]
  },
  {
   "cell_type": "code",
   "execution_count": null,
   "metadata": {},
   "outputs": [],
   "source": [
    "#|default_exp hf.datasets.utils"
   ]
  },
  {
   "cell_type": "code",
   "execution_count": null,
   "metadata": {},
   "outputs": [],
   "source": [
    "#|hide\n",
    "from fastcore.test import *\n",
    "from nbdev.showdoc import *"
   ]
  },
  {
   "cell_type": "code",
   "execution_count": null,
   "metadata": {},
   "outputs": [],
   "source": [
    "#|export\n",
    "\n",
    "from datasets import concatenate_datasets, DatasetDict, load_dataset, Dataset\n",
    "\n",
    "from bellek.logging import get_logger\n",
    "\n",
    "log = get_logger(__name__)"
   ]
  },
  {
   "cell_type": "code",
   "execution_count": null,
   "metadata": {},
   "outputs": [],
   "source": [
    "#|export\n",
    "\n",
    "def load_datasets(dataset_kwargs_list: list[dict]) -> Dataset:\n",
    "    datasets = []\n",
    "    for dataset_kwargs in dataset_kwargs_list:\n",
    "        dataset = load_dataset(**dataset_kwargs)\n",
    "        datasets.append(dataset)\n",
    "    return concatenate_datasets(datasets)"
   ]
  },
  {
   "cell_type": "code",
   "execution_count": null,
   "metadata": {},
   "outputs": [],
   "source": [
    "#|export\n",
    "\n",
    "def concatenate_dataset_dicts(dataset_dicts: list[DatasetDict]):\n",
    "    \"\"\"\n",
    "    Concatenate multiple `DatasetDict` objects into a single `DatasetDict`.\n",
    "    \"\"\"\n",
    "    splits = {key for dd in dataset_dicts for key in dd.keys()}\n",
    "    output_dsd = {}\n",
    "    for split in splits:\n",
    "        dataset_list = []\n",
    "        for dd in dataset_dicts:\n",
    "            if split in dd.keys():\n",
    "                dataset_list.append(dd[split])\n",
    "        output_dsd[split] = concatenate_datasets(dataset_list)\n",
    "    return DatasetDict(output_dsd)\n"
   ]
  },
  {
   "cell_type": "code",
   "execution_count": null,
   "metadata": {},
   "outputs": [],
   "source": [
    "dsds = [\n",
    "    load_dataset(\"bdsaglam/webnlg-jerx-sft-st-ms-openai\"),\n",
    "    load_dataset(\"bdsaglam/musique-jerx-sft-st-ms-openai\"),\n",
    "]\n",
    "dsd = concatenate_dataset_dicts(dsds)\n",
    "print(len(dsd['train']))"
   ]
  },
  {
   "cell_type": "code",
   "execution_count": null,
   "metadata": {},
   "outputs": [],
   "source": [
    "#|hide\n",
    "import nbdev; nbdev.nbdev_export()"
   ]
  }
 ],
 "metadata": {
  "kernelspec": {
   "display_name": "python3",
   "language": "python",
   "name": "python3"
  }
 },
 "nbformat": 4,
 "nbformat_minor": 2
}
