{
 "cells": [
  {
   "cell_type": "markdown",
   "metadata": {},
   "source": [
    "# Question answering with LLM"
   ]
  },
  {
   "cell_type": "code",
   "execution_count": null,
   "metadata": {},
   "outputs": [],
   "source": [
    "#|default_exp musique.qa"
   ]
  },
  {
   "cell_type": "code",
   "execution_count": null,
   "metadata": {},
   "outputs": [],
   "source": [
    "#|hide\n",
    "from fastcore.test import *\n",
    "from nbdev.showdoc import *"
   ]
  },
  {
   "cell_type": "code",
   "execution_count": null,
   "metadata": {},
   "outputs": [
    {
     "data": {
      "text/plain": [
       "True"
      ]
     },
     "execution_count": null,
     "metadata": {},
     "output_type": "execute_result"
    }
   ],
   "source": [
    "#|hide\n",
    "from dotenv import load_dotenv\n",
    "\n",
    "load_dotenv()"
   ]
  },
  {
   "cell_type": "code",
   "execution_count": null,
   "metadata": {},
   "outputs": [],
   "source": [
    "#|export\n",
    "import openai\n",
    "\n",
    "from bellek.logging import get_logger\n",
    "\n",
    "log = get_logger(__name__)"
   ]
  },
  {
   "cell_type": "code",
   "execution_count": null,
   "metadata": {},
   "outputs": [],
   "source": [
    "# |export\n",
    "\n",
    "DEFAULT_MODEL = \"gpt-3.5-turbo\"\n",
    "# DEFAULT_MODEL = \"gpt-4-turbo\"\n",
    "DEFAULT_COMPLETION_KWARGS = {\"temperature\": 0.1}"
   ]
  },
  {
   "cell_type": "code",
   "execution_count": null,
   "metadata": {},
   "outputs": [],
   "source": [
    "#|export\n",
    "\n",
    "FEW_SHOT_EXAMPLES = [\n",
    "    {\n",
    "        \"id\": \"2hop__784447_126070\",\n",
    "        \"context\": 'Glenhis Hernández (born 7 October 1990 in Havana) is a taekwondo practitioner from Cuba. She was the 2013 World\\nChampion in middleweight.\\n\\nThe current mayor of Havana (\"President of the People\\'s Power Provincial Assembly\") is Marta Hernández Romero, she\\nwas elected on March 5, 2011.',\n",
    "        \"question\": \"Who is the current mayor of Havana?\",\n",
    "        \"cte_generation\": \"Triplets: \\nGlenhis Hernández | birth place | Havana\\nMarta Hernández Romero | serves as | mayor of Havana\\n\\nAnswer: Marta Hernández Romero\",\n",
    "        \"cot_generation\": \"Reasoning:\\n- The context provides that Glenhis Hernández was born in Havana.\\n- The context also specifies that the current mayor of Havana is Marta Hernández Romero, who was elected on March 5, 2011.\\n- Since there is no information indicating a change in mayoral leadership since that election, it can be inferred that Marta Hernández Romero remains the mayor.\\n\",\n",
    "    },\n",
    "]"
   ]
  },
  {
   "cell_type": "code",
   "execution_count": null,
   "metadata": {},
   "outputs": [],
   "source": [
    "test_context = \"\"\"Sings America is an album released by David Hasselhoff in August 2004 (see 2004 in music). The album contains covers of songs originally made famous by artists such as Elvis Presley, The Beach Boys, Glen Campbell, Burt Bacharach and Madonna. The German release contains a bonus track, \"More Than Words Can Say\", which is the only original Hasselhoff composition on the album (written in conjunction with Wade Hubbard and Glenn Morrow).\"\"\"\n",
    "\n",
    "test_question = \"Which artist, known for covering songs by The Beach Boys and Glen Campbell in an album from 2004, included his own original song in the German version of this album?\"\n",
    "\n",
    "test_answer = \"David Hasselhoff\""
   ]
  },
  {
   "cell_type": "code",
   "execution_count": null,
   "metadata": {},
   "outputs": [],
   "source": [
    "#|export\n",
    "\n",
    "USER_PROMPT = \"\"\"The context information is provided below.\n",
    "---------------------\n",
    "{context}\n",
    "---------------------\n",
    "Given the context information and not prior knowledge, answer the question.\n",
    "{question}\n",
    "\"\"\""
   ]
  },
  {
   "cell_type": "code",
   "execution_count": null,
   "metadata": {},
   "outputs": [],
   "source": [
    "#|export\n",
    "\n",
    "EXAMPLE_CONTEXT = \"\"\"\n",
    "Glenhis Hernández (born 7 October 1990 in Havana) is a taekwondo practitioner from Cuba. She was the 2013 World\n",
    "Champion in middleweight.\n",
    "\n",
    "The current mayor of Havana (\"President of the People's Power Provincial Assembly\") is Marta Hernández Romero, she\n",
    "was elected on March 5, 2011.\n",
    "\"\"\".strip()\n",
    "\n",
    "EXAMPLE_QUESTION = \"Who is the current mayor of the city Glenhis Hernández was born?\"\n"
   ]
  },
  {
   "cell_type": "markdown",
   "metadata": {},
   "source": [
    "### Standard prompt"
   ]
  },
  {
   "cell_type": "code",
   "execution_count": null,
   "metadata": {},
   "outputs": [],
   "source": [
    "#|export\n",
    "\n",
    "SYSTEM_PROMPT_STANDARD = \"\"\"\n",
    "You are an excellent question-answering system known for providing accurate and reliable answers. Your responses should be solely based on the context information given, without drawing on prior knowledge. \n",
    "\n",
    "# Output format\n",
    "Answer: [answer in 2-4 words]\n",
    "\"\"\".strip()\n",
    "\n",
    "def answer_question_standard(\n",
    "    context: str,\n",
    "    question: str,\n",
    "    model_name: str = DEFAULT_MODEL,\n",
    "    completion_kwargs: dict | None = None,\n",
    "    client = None\n",
    ") -> dict:\n",
    "    \n",
    "    if client is None:\n",
    "        client = openai.Client()\n",
    "    \n",
    "    if completion_kwargs is None: \n",
    "        completion_kwargs = DEFAULT_COMPLETION_KWARGS\n",
    "    \n",
    "    # Prepare the messages\n",
    "    messages = [\n",
    "        {\n",
    "            \"role\": \"system\",\n",
    "            \"content\": SYSTEM_PROMPT_STANDARD,\n",
    "        },\n",
    "        {\n",
    "            \"role\": \"user\",\n",
    "            \"content\": USER_PROMPT.format(context=context, question=question),\n",
    "        },\n",
    "    ]\n",
    "    chat_completion = client.chat.completions.create(\n",
    "            model=model_name,\n",
    "            messages=messages,\n",
    "            **completion_kwargs,\n",
    "        )\n",
    "    generation = chat_completion.choices[0].message.content\n",
    "    parts = generation.split(\"Answer:\")\n",
    "    if len(parts) < 2:\n",
    "        return dict(answer=\"\", generation=generation)\n",
    "    answer = parts[1].strip()\n",
    "    return dict(answer=answer, generation=generation)"
   ]
  },
  {
   "cell_type": "code",
   "execution_count": null,
   "metadata": {},
   "outputs": [
    {
     "name": "stdout",
     "output_type": "stream",
     "text": [
      "Answer: David Hasselhoff\n",
      "David Hasselhoff\n"
     ]
    }
   ],
   "source": [
    "result = answer_question_standard(test_context, test_question)\n",
    "print(result['generation'])\n",
    "print(result['answer'])"
   ]
  },
  {
   "cell_type": "markdown",
   "metadata": {},
   "source": [
    "### Chain-of-thought prompt"
   ]
  },
  {
   "cell_type": "code",
   "execution_count": null,
   "metadata": {},
   "outputs": [],
   "source": [
    "# |export\n",
    "\n",
    "SYSTEM_PROMPT_COT_FS = \"\"\"You are an excellent question-answering system known for providing accurate and reliable answers. Your responses should be solely based on the context information given, without drawing on prior knowledge. Always provide clear and logical step-by-step reasoning in your response.\n",
    "\n",
    "# Output format\n",
    "Reasoning: [Step-by-step reasoning for the answer.]\n",
    "Answer: [answer in 2-4 words]\n",
    "\"\"\"\n",
    "\n",
    "def answer_question_cot_fs(\n",
    "    context: str,\n",
    "    question: str,\n",
    "    examples: list[dict] = FEW_SHOT_EXAMPLES,\n",
    "    model_name: str = DEFAULT_MODEL,\n",
    "    completion_kwargs: dict | None = None,\n",
    "    client=None,\n",
    ") -> dict:\n",
    "    if client is None:\n",
    "        client = openai.Client()\n",
    "\n",
    "    if completion_kwargs is None:\n",
    "        completion_kwargs = DEFAULT_COMPLETION_KWARGS\n",
    "\n",
    "    # Prepare the messages\n",
    "    messages = [\n",
    "        {\n",
    "            \"role\": \"system\",\n",
    "            \"content\": SYSTEM_PROMPT_COT_FS,\n",
    "        },\n",
    "    ]\n",
    "    for example in examples:\n",
    "        messages.append(\n",
    "            {\n",
    "                \"role\": \"user\",\n",
    "                \"content\": USER_PROMPT.format(context=example[\"context\"], question=example[\"question\"]),\n",
    "            }\n",
    "        )\n",
    "        messages.append({\"role\": \"assistant\", \"content\": example[\"cot_generation\"]})\n",
    "\n",
    "    messages.append(\n",
    "        {\n",
    "            \"role\": \"user\",\n",
    "            \"content\": USER_PROMPT.format(context=context, question=question),\n",
    "        },\n",
    "    )\n",
    "\n",
    "    chat_completion = client.chat.completions.create(\n",
    "        model=model_name,\n",
    "        messages=messages,\n",
    "        **completion_kwargs,\n",
    "    )\n",
    "    generation = chat_completion.choices[0].message.content\n",
    "    # Parse the response\n",
    "    answer = \"\"\n",
    "    reasoning = \"\"\n",
    "    for line in generation.splitlines():\n",
    "        if line.startswith(\"Answer:\"):\n",
    "            answer = line.split(\"Answer:\")[1].strip()\n",
    "        else:\n",
    "            reasoning += line.replace(\"Reasoning:\", \"\") + \"\\n\"\n",
    "    return dict(reasoning=reasoning.strip(), answer=answer, generation=generation)"
   ]
  },
  {
   "cell_type": "code",
   "execution_count": null,
   "metadata": {},
   "outputs": [
    {
     "name": "stdout",
     "output_type": "stream",
     "text": [
      "Reasoning:\n",
      "- The context mentions that David Hasselhoff released an album called \"Sings America\" in August 2004.\n",
      "- The album includes covers of songs by artists like The Beach Boys and Glen Campbell.\n",
      "- The German release of the album contains a bonus track titled \"More Than Words Can Say,\" which is the only original Hasselhoff composition on the album.\n",
      "- Therefore, the artist known for covering songs by The Beach Boys and Glen Campbell in an album from 2004, who included his own original song in the German version of the album, is **David Hasselhoff**.\n",
      "================================================================================\n",
      "- The context mentions that David Hasselhoff released an album called \"Sings America\" in August 2004.\n",
      "- The album includes covers of songs by artists like The Beach Boys and Glen Campbell.\n",
      "- The German release of the album contains a bonus track titled \"More Than Words Can Say,\" which is the only original Hasselhoff composition on the album.\n",
      "- Therefore, the artist known for covering songs by The Beach Boys and Glen Campbell in an album from 2004, who included his own original song in the German version of the album, is **David Hasselhoff**.\n",
      "\n"
     ]
    }
   ],
   "source": [
    "result = answer_question_cot_fs(test_context, test_question)\n",
    "print(result['generation'])\n",
    "print(\"=\"*80)\n",
    "print(result['reasoning'])\n",
    "print(result['answer'])"
   ]
  },
  {
   "cell_type": "code",
   "execution_count": null,
   "metadata": {},
   "outputs": [],
   "source": [
    "def answer_question_cot(\n",
    "    context: str,\n",
    "    question: str,\n",
    "    model_name: str = DEFAULT_MODEL,\n",
    "    completion_kwargs: dict | None = None,\n",
    "    client=None,\n",
    ") -> dict:\n",
    "    return answer_question_cot_fs(context, question, [], model_name, completion_kwargs, client)"
   ]
  },
  {
   "cell_type": "code",
   "execution_count": null,
   "metadata": {},
   "outputs": [
    {
     "name": "stdout",
     "output_type": "stream",
     "text": [
      "Reasoning: \n",
      "1. The artist known for covering songs by The Beach Boys and Glen Campbell in an album from 2004 is David Hasselhoff.\n",
      "2. The German release of David Hasselhoff's album \"Sings America\" contains a bonus track, \"More Than Words Can Say\", which is the only original Hasselhoff composition on the album.\n",
      "\n",
      "Answer: David Hasselhoff\n",
      "================================================================================\n",
      "1. The artist known for covering songs by The Beach Boys and Glen Campbell in an album from 2004 is David Hasselhoff.\n",
      "2. The German release of David Hasselhoff's album \"Sings America\" contains a bonus track, \"More Than Words Can Say\", which is the only original Hasselhoff composition on the album.\n",
      "David Hasselhoff\n"
     ]
    }
   ],
   "source": [
    "result = answer_question_cot(test_context, test_question)\n",
    "print(result['generation'])\n",
    "print(\"=\"*80)\n",
    "print(result['reasoning'])\n",
    "print(result['answer'])"
   ]
  },
  {
   "cell_type": "markdown",
   "metadata": {},
   "source": [
    "### Connect-the-Entities prompt"
   ]
  },
  {
   "cell_type": "code",
   "execution_count": null,
   "metadata": {},
   "outputs": [],
   "source": [
    "#|export\n",
    "\n",
    "SYSTEM_PROMPT_CTE = \"\"\"\n",
    "You are an excellent question-answering system known for providing accurate and reliable answers. Your responses should be solely based on the context information given, without drawing on prior knowledge.\n",
    "\n",
    "Before answering the question, first, you extract relevant entity-relation-entity triplets from the context. Then, you answer the question based on the triplets.\n",
    "\n",
    "# Output format\n",
    "Triplets: [A list of entity-relation-entity triplets extracted from the context.]\n",
    "Answer: [answer in 2-4 words]\n",
    "\"\"\".strip()\n",
    "\n",
    "def answer_question_cte(\n",
    "    context: str,\n",
    "    question: str,\n",
    "    examples: list[dict] = FEW_SHOT_EXAMPLES,\n",
    "    model_name: str = DEFAULT_MODEL,\n",
    "    completion_kwargs: dict | None = None,\n",
    "    client=None,\n",
    ") -> dict:\n",
    "    if client is None:\n",
    "        client = openai.Client()\n",
    "\n",
    "    if completion_kwargs is None: \n",
    "        completion_kwargs = DEFAULT_COMPLETION_KWARGS\n",
    "    \n",
    "    # Prepare the messages\n",
    "    messages = [\n",
    "        {\n",
    "            \"role\": \"system\",\n",
    "            \"content\": SYSTEM_PROMPT_CTE,\n",
    "        },\n",
    "    ]\n",
    "    for example in examples:\n",
    "        messages.append(\n",
    "            {\n",
    "                \"role\": \"user\",\n",
    "                \"content\": USER_PROMPT.format(context=example[\"context\"], question=example[\"question\"]),\n",
    "            }\n",
    "        )\n",
    "        messages.append(\n",
    "            {\n",
    "                \"role\": \"assistant\",\n",
    "                \"content\": example[\"cte_generation\"],\n",
    "            }\n",
    "        )\n",
    "    messages.append(\n",
    "        {\n",
    "            \"role\": \"user\",\n",
    "            \"content\": USER_PROMPT.format(context=context, question=question),\n",
    "        },\n",
    "    )\n",
    "    \n",
    "    # Generate the response\n",
    "    chat_completion = client.chat.completions.create(\n",
    "        model=model_name,\n",
    "        messages=messages,\n",
    "        **completion_kwargs,\n",
    "    )\n",
    "    generation = chat_completion.choices[0].message.content\n",
    "    \n",
    "    # Parse the response\n",
    "    answer = \"\"\n",
    "    triplets = []\n",
    "    for line in generation.splitlines():\n",
    "        if line.startswith(\"Answer:\"):\n",
    "            answer = line.split(\"Answer:\")[1].strip()\n",
    "        elif \"|\" in line:\n",
    "            triplets.append(line.strip())\n",
    "    return dict(triplets=triplets, answer=answer, generation=generation)"
   ]
  },
  {
   "cell_type": "code",
   "execution_count": null,
   "metadata": {},
   "outputs": [
    {
     "name": "stdout",
     "output_type": "stream",
     "text": [
      "Triplets:\n",
      "David Hasselhoff | released | Sings America\n",
      "David Hasselhoff | covered songs by | The Beach Boys\n",
      "David Hasselhoff | covered songs by | Glen Campbell\n",
      "David Hasselhoff | included | original song \"More Than Words Can Say\" in German release\n",
      "\n",
      "Answer: David Hasselhoff\n",
      "================================================================================\n",
      "['David Hasselhoff | released | Sings America', 'David Hasselhoff | covered songs by | The Beach Boys', 'David Hasselhoff | covered songs by | Glen Campbell', 'David Hasselhoff | included | original song \"More Than Words Can Say\" in German release']\n",
      "David Hasselhoff\n"
     ]
    }
   ],
   "source": [
    "result = answer_question_cte(test_context, test_question)\n",
    "print(result['generation'])\n",
    "print(\"=\"*80)\n",
    "print(result['triplets'])\n",
    "print(result['answer'])"
   ]
  },
  {
   "cell_type": "code",
   "execution_count": null,
   "metadata": {},
   "outputs": [],
   "source": [
    "#|hide\n",
    "import nbdev; nbdev.nbdev_export()"
   ]
  }
 ],
 "metadata": {
  "kernelspec": {
   "display_name": "python3",
   "language": "python",
   "name": "python3"
  }
 },
 "nbformat": 4,
 "nbformat_minor": 2
}
