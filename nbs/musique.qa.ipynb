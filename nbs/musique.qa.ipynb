{
 "cells": [
  {
   "cell_type": "markdown",
   "metadata": {},
   "source": [
    "# Question answering with LLM"
   ]
  },
  {
   "cell_type": "code",
   "execution_count": null,
   "metadata": {},
   "outputs": [],
   "source": [
    "#|default_exp musique.qa"
   ]
  },
  {
   "cell_type": "code",
   "execution_count": null,
   "metadata": {},
   "outputs": [],
   "source": [
    "#|hide\n",
    "from fastcore.test import *\n",
    "from nbdev.showdoc import *"
   ]
  },
  {
   "cell_type": "code",
   "execution_count": null,
   "metadata": {},
   "outputs": [
    {
     "data": {
      "text/plain": [
       "True"
      ]
     },
     "execution_count": null,
     "metadata": {},
     "output_type": "execute_result"
    }
   ],
   "source": [
    "#|hide\n",
    "from dotenv import load_dotenv\n",
    "load_dotenv()"
   ]
  },
  {
   "cell_type": "code",
   "execution_count": null,
   "metadata": {},
   "outputs": [],
   "source": [
    "#|export\n",
    "import openai\n",
    "\n",
    "from bellek.logging import get_logger\n",
    "\n",
    "log = get_logger(__name__)"
   ]
  },
  {
   "cell_type": "code",
   "execution_count": null,
   "metadata": {},
   "outputs": [],
   "source": [
    "context = \"\"\"Sings America is an album released by David Hasselhoff in August 2004 (see 2004 in music). The album contains covers of songs originally made famous by artists such as Elvis Presley, The Beach Boys, Glen Campbell, Burt Bacharach and Madonna. The German release contains a bonus track, \"More Than Words Can Say\", which is the only original Hasselhoff composition on the album (written in conjunction with Wade Hubbard and Glenn Morrow).\"\"\"\n",
    "\n",
    "question = \"Which artist, known for covering songs by The Beach Boys and Glen Campbell in an album from 2004, included his own original song in the German version of this album?\"\n",
    "\n",
    "answer = \"David Hasselhoff\""
   ]
  },
  {
   "cell_type": "code",
   "execution_count": null,
   "metadata": {},
   "outputs": [],
   "source": [
    "#|export\n",
    "\n",
    "USER_PROMPT = \"\"\"The context information is provided below.\n",
    "---------------------\n",
    "{context}\n",
    "---------------------\n",
    "Given the context information and not prior knowledge, answer the question.\n",
    "{question}\n",
    "\"\"\""
   ]
  },
  {
   "cell_type": "code",
   "execution_count": null,
   "metadata": {},
   "outputs": [],
   "source": [
    "#|export\n",
    "\n",
    "EXAMPLE_CONTEXT = \"\"\"\n",
    "Glenhis Hernández (born 7 October 1990 in Havana) is a taekwondo practitioner from Cuba. She was the 2013 World\n",
    "Champion in middleweight.\n",
    "\n",
    "The current mayor of Havana (\"President of the People's Power Provincial Assembly\") is Marta Hernández Romero, she\n",
    "was elected on March 5, 2011.\n",
    "\"\"\".strip()\n",
    "\n",
    "EXAMPLE_QUESTION = \"Who is the current mayor of the city Glenhis Hernández was born?\"\n"
   ]
  },
  {
   "cell_type": "markdown",
   "metadata": {},
   "source": [
    "### Standard prompt"
   ]
  },
  {
   "cell_type": "code",
   "execution_count": null,
   "metadata": {},
   "outputs": [],
   "source": [
    "#|export\n",
    "\n",
    "SYSTEM_PROMPT_STANDARD = \"\"\"\n",
    "You are an excellent question-answering system known for providing accurate and reliable answers. Your responses should be solely based on the context information given, without drawing on prior knowledge. \n",
    "\n",
    "# Output format\n",
    "Answer: [answer in 2-4 words]\n",
    "\"\"\".strip()\n",
    "\n",
    "def answer_question_standard(\n",
    "    context: str,\n",
    "    question: str,\n",
    "    model_name: str = \"gpt-3.5-turbo\",\n",
    "    completion_kwargs: dict | None = None,\n",
    "    client = None\n",
    ") -> dict:\n",
    "    \n",
    "    if client is None:\n",
    "        client = openai.Client()\n",
    "    \n",
    "    completion_kwargs = completion_kwargs or {}\n",
    "    messages = [\n",
    "        {\n",
    "            \"role\": \"system\",\n",
    "            \"content\": SYSTEM_PROMPT_STANDARD,\n",
    "        },\n",
    "        {\n",
    "            \"role\": \"user\",\n",
    "            \"content\": USER_PROMPT.format(context=context, question=question),\n",
    "        },\n",
    "    ]\n",
    "    chat_completion = client.chat.completions.create(\n",
    "            model=model_name,\n",
    "            messages=messages,\n",
    "            **completion_kwargs,\n",
    "        )\n",
    "    generation = chat_completion.choices[0].message.content\n",
    "    if \"Answer:\" not in generation:\n",
    "        return dict(answer=\"\", generation=generation)\n",
    "    answer = generation.split(\"Answer: \")[1].strip()\n",
    "    return dict(answer=answer, generation=generation)"
   ]
  },
  {
   "cell_type": "code",
   "execution_count": null,
   "metadata": {},
   "outputs": [
    {
     "name": "stdout",
     "output_type": "stream",
     "text": [
      "David Hasselhoff\n",
      "Answer: David Hasselhoff\n"
     ]
    }
   ],
   "source": [
    "result = answer_question_standard(context, question)\n",
    "print(result['answer'])\n",
    "print(result['generation'])"
   ]
  },
  {
   "cell_type": "markdown",
   "metadata": {},
   "source": [
    "### Chain-of-thought prompt"
   ]
  },
  {
   "cell_type": "code",
   "execution_count": null,
   "metadata": {},
   "outputs": [],
   "source": [
    "#|export\n",
    "\n",
    "SYSTEM_PROMPT_COT = \"\"\"\n",
    "You are an excellent question-answering system known for providing accurate and reliable answers. Your responses should be solely based on the context information given, without drawing on prior knowledge. Always provide clear and logical step-by-step reasoning in your response.\n",
    "\n",
    "# Output format\n",
    "Reasoning: [Step-by-step reasoning for the answer.]\n",
    "Answer: [answer in 2-4 words]\n",
    "\"\"\".strip()\n",
    "\n",
    "def answer_question_cot(\n",
    "    context: str,\n",
    "    question: str,\n",
    "    model_name: str = \"gpt-3.5-turbo\",\n",
    "    completion_kwargs: dict | None = None,\n",
    "    client = None\n",
    ") -> dict:\n",
    "\n",
    "    if client is None:\n",
    "        client = openai.Client()\n",
    "    \n",
    "    completion_kwargs = completion_kwargs or {}\n",
    "    messages = [\n",
    "        {\n",
    "            \"role\": \"system\",\n",
    "            \"content\": SYSTEM_PROMPT_COT,\n",
    "        },\n",
    "        {\n",
    "            \"role\": \"user\",\n",
    "            \"content\": USER_PROMPT.format(context=context, question=question),\n",
    "        },\n",
    "    ]\n",
    "    chat_completion = client.chat.completions.create(\n",
    "            model=model_name,\n",
    "            messages=messages,\n",
    "            **completion_kwargs,\n",
    "        )\n",
    "    generation = chat_completion.choices[0].message.content\n",
    "    # Parse the response\n",
    "    answer = \"\"\n",
    "    reasoning = \"\"\n",
    "    for line in generation.splitlines():\n",
    "        if line.startswith(\"Answer:\"):\n",
    "            answer = line.split(\"Answer:\")[1].strip()\n",
    "        else:\n",
    "            reasoning += line.replace(\"Reasoning:\", \"\").strip()\n",
    "    return dict(reasoning=reasoning, answer=answer, generation=generation)"
   ]
  },
  {
   "cell_type": "code",
   "execution_count": null,
   "metadata": {},
   "outputs": [
    {
     "name": "stdout",
     "output_type": "stream",
     "text": [
      "1. The artist known for covering songs by The Beach Boys and Glen Campbell in an album from 2004 is David Hasselhoff.2. The German release of the album \"Sings America\" by David Hasselhoff contains a bonus track, \"More Than Words Can Say\", which is the only original Hasselhoff composition on the album.\n",
      "David Hasselhoff\n",
      "Reasoning: \n",
      "1. The artist known for covering songs by The Beach Boys and Glen Campbell in an album from 2004 is David Hasselhoff.\n",
      "2. The German release of the album \"Sings America\" by David Hasselhoff contains a bonus track, \"More Than Words Can Say\", which is the only original Hasselhoff composition on the album.\n",
      "\n",
      "Answer: David Hasselhoff\n"
     ]
    }
   ],
   "source": [
    "result = answer_question_cot(context, question)\n",
    "print(result['reasoning'])\n",
    "print(result['answer'])\n",
    "print(result['generation'])"
   ]
  },
  {
   "cell_type": "code",
   "execution_count": null,
   "metadata": {},
   "outputs": [],
   "source": [
    "#|export\n",
    "\n",
    "SYSTEM_PROMPT_COT_FS = \"\"\"You are an excellent question-answering system known for providing accurate and reliable answers. Your responses should be solely based on the context information given, without drawing on prior knowledge. Always provide clear and logical step-by-step reasoning in your response.\n",
    "\n",
    "# Output format\n",
    "Reasoning: [Step-by-step reasoning for the answer.]\n",
    "Answer: [answer in 2-4 words]\n",
    "\"\"\"\n",
    "\n",
    "EXAMPLE_COT_RESPONSE = \"\"\"\n",
    "Reasoning:\n",
    "1. The context states that Glenhis Hernández was born in Havana.\n",
    "2. It also mentions that the current mayor (President of the People's Power Provincial Assembly) of Havana is Marta Hernández Romero.\n",
    "3. Marta Hernández Romero has been the mayor since her election on March 5, 2011.\n",
    "\n",
    "Answer: Marta Hernández Romero\n",
    "\"\"\".strip()\n",
    "\n",
    "def answer_question_cot_fs(\n",
    "    context: str,\n",
    "    question: str,\n",
    "    model_name: str = \"gpt-3.5-turbo\",\n",
    "    completion_kwargs: dict | None = None,\n",
    "    client = None\n",
    ") -> dict:\n",
    "\n",
    "    if client is None:\n",
    "        client = openai.Client()\n",
    "    \n",
    "    completion_kwargs = completion_kwargs or {}\n",
    "    messages = [\n",
    "        {\n",
    "            \"role\": \"system\",\n",
    "            \"content\": SYSTEM_PROMPT_COT_FS,\n",
    "        },\n",
    "        {\n",
    "            \"role\": \"user\",\n",
    "            \"content\": USER_PROMPT.format(context=EXAMPLE_CONTEXT, question=EXAMPLE_QUESTION),\n",
    "        },\n",
    "        {\n",
    "            \"role\": \"assistant\",\n",
    "            \"content\": EXAMPLE_COT_RESPONSE\n",
    "        },\n",
    "        {\n",
    "            \"role\": \"user\",\n",
    "            \"content\": USER_PROMPT.format(context=context, question=question),\n",
    "        },\n",
    "    ]\n",
    "    chat_completion = client.chat.completions.create(\n",
    "            model=model_name,\n",
    "            messages=messages,\n",
    "            **completion_kwargs,\n",
    "        )\n",
    "    generation = chat_completion.choices[0].message.content\n",
    "    # Parse the response\n",
    "    answer = \"\"\n",
    "    reasoning = \"\"\n",
    "    for line in generation.splitlines():\n",
    "        if line.startswith(\"Answer:\"):\n",
    "            answer = line.split(\"Answer:\")[1].strip()\n",
    "        else:\n",
    "            reasoning += line.replace(\"Reasoning:\", \"\") + \"\\n\"\n",
    "    return dict(reasoning=reasoning.strip(), answer=answer, generation=generation)"
   ]
  },
  {
   "cell_type": "code",
   "execution_count": null,
   "metadata": {},
   "outputs": [
    {
     "name": "stdout",
     "output_type": "stream",
     "text": [
      "1. The context mentions that David Hasselhoff released an album called \"Sings America\" in August 2004.\n",
      "2. The album contains covers of songs originally made famous by artists such as Elvis Presley, The Beach Boys, Glen Campbell, Burt Bacharach, and Madonna.\n",
      "3. The German release of the album includes a bonus track, \"More Than Words Can Say\", which is the only original composition by David Hasselhoff along with Wade Hubbard and Glenn Morrow.\n",
      "David Hasselhoff\n",
      "Reasoning:\n",
      "1. The context mentions that David Hasselhoff released an album called \"Sings America\" in August 2004.\n",
      "2. The album contains covers of songs originally made famous by artists such as Elvis Presley, The Beach Boys, Glen Campbell, Burt Bacharach, and Madonna.\n",
      "3. The German release of the album includes a bonus track, \"More Than Words Can Say\", which is the only original composition by David Hasselhoff along with Wade Hubbard and Glenn Morrow.\n",
      "\n",
      "Answer: David Hasselhoff\n"
     ]
    }
   ],
   "source": [
    "result = answer_question_cot_fs(context, question)\n",
    "print(result['reasoning'])\n",
    "print(result['answer'])\n",
    "print(result['generation'])"
   ]
  },
  {
   "cell_type": "markdown",
   "metadata": {},
   "source": [
    "### Connect-the-Entities prompt"
   ]
  },
  {
   "cell_type": "code",
   "execution_count": null,
   "metadata": {},
   "outputs": [],
   "source": [
    "#|export\n",
    "\n",
    "SYSTEM_PROMPT_CTE = \"\"\"\n",
    "You are an excellent question-answering system known for providing accurate and reliable answers. Your responses should be solely based on the context information given, without drawing on prior knowledge.\n",
    "\n",
    "Before answering the question, first, you extract relevant entity-relation-entity triplets from the context. Then, you answer the question based on the triplets.\n",
    "\n",
    "# Output format\n",
    "Triplets: [A list of entity-relation-entity triplets extracted from the context.]\n",
    "Answer: [answer in 2-4 words]\n",
    "\"\"\".strip()\n",
    "\n",
    "FEW_SHOT_EXAMPLES_CTE = [\n",
    "    {\n",
    "        \"context\": 'Glenhis Hernández (born 7 October 1990 in Havana) is a taekwondo practitioner from Cuba. She was the 2013 World\\nChampion in middleweight.\\n\\nThe current mayor of Havana (\"President of the People\\'s Power Provincial Assembly\") is Marta Hernández Romero, she\\nwas elected on March 5, 2011.',\n",
    "        \"question\": \"Who is the current mayor of Havana?\",\n",
    "        \"generation\": \"Triplets: \\nGlenhis Hernández | birth place | Havana\\nMarta Hernández Romero | serves as | mayor of Havana\\n\\nAnswer: Marta Hernández Romero\",\n",
    "    },\n",
    "    {\n",
    "        \"context\": \"# Andrzej Sławiński\\nAndrzej Sławiński (born July 31, 1951 in Warsaw) is a Polish economist and Professor of Economics at the Warsaw School of Economics. He is a member of the Council of Monetary Policies since 2004 and a fellow of Collegium Invisibile.\\n# Warsaw\\nLegislative power in Warsaw is vested in a unicameral Warsaw City Council (Rada Miasta), which comprises 60 members. Council members are elected directly every four years. Like most legislative bodies, the City Council divides itself into committees which have the oversight of various functions of the city government. Bills passed by a simple majority are sent to the mayor (the President of Warsaw), who may sign them into law. If the mayor vetoes a bill, the Council has 30 days to override the veto by a two-thirds majority vote.\",\n",
    "        \"question\": \"Who in the birthplace of Andrzej Sławiński has the power of legislative action?\",\n",
    "        \"generation\": \"Triplets:\\nAndrzej Sławiński | born in | Warsaw\\nWarsaw City Council | legislative power | Warsaw\\n\\nAnswer: Warsaw City Council\",\n",
    "    },\n",
    "]\n",
    "\n",
    "def answer_question_cte(\n",
    "    context: str,\n",
    "    question: str,\n",
    "    model_name: str = \"gpt-3.5-turbo\",\n",
    "    completion_kwargs: dict | None = None,\n",
    "    client=None,\n",
    "    examples: list = FEW_SHOT_EXAMPLES_CTE,\n",
    ") -> dict:\n",
    "    if client is None:\n",
    "        client = openai.Client()\n",
    "\n",
    "    completion_kwargs = completion_kwargs or {}\n",
    "    \n",
    "    # Prepare the messages\n",
    "    messages = [\n",
    "        {\n",
    "            \"role\": \"system\",\n",
    "            \"content\": SYSTEM_PROMPT_CTE,\n",
    "        },\n",
    "    ]\n",
    "    for example in examples:\n",
    "        messages.append(\n",
    "            {\n",
    "                \"role\": \"user\",\n",
    "                \"content\": USER_PROMPT.format(context=example[\"context\"], question=example[\"question\"]),\n",
    "            }\n",
    "        )\n",
    "        messages.append(\n",
    "            {\n",
    "                \"role\": \"assistant\",\n",
    "                \"content\": example[\"generation\"],\n",
    "            }\n",
    "        )\n",
    "    messages.append(\n",
    "        {\n",
    "            \"role\": \"user\",\n",
    "            \"content\": USER_PROMPT.format(context=context, question=question),\n",
    "        },\n",
    "    )\n",
    "    \n",
    "    # Generate the response\n",
    "    chat_completion = client.chat.completions.create(\n",
    "        model=model_name,\n",
    "        messages=messages,\n",
    "        **completion_kwargs,\n",
    "    )\n",
    "    generation = chat_completion.choices[0].message.content\n",
    "    \n",
    "    # Parse the response\n",
    "    answer = \"\"\n",
    "    triplets = []\n",
    "    for line in generation.splitlines():\n",
    "        if line.startswith(\"Answer:\"):\n",
    "            answer = line.split(\"Answer:\")[1].strip()\n",
    "        elif \"|\" in line:\n",
    "            triplets.append(line.strip())\n",
    "    return dict(triplets=triplets, answer=answer, generation=generation)"
   ]
  },
  {
   "cell_type": "code",
   "execution_count": null,
   "metadata": {},
   "outputs": [
    {
     "name": "stdout",
     "output_type": "stream",
     "text": [
      "['David Hasselhoff | released | Sings America', 'David Hasselhoff | covers | songs by The Beach Boys and Glen Campbell', 'David Hasselhoff | includes | original song in German album']\n",
      "David Hasselhoff\n",
      "Triplets:\n",
      "David Hasselhoff | released | Sings America\n",
      "David Hasselhoff | covers | songs by The Beach Boys and Glen Campbell\n",
      "David Hasselhoff | includes | original song in German album\n",
      "\n",
      "Answer: David Hasselhoff\n"
     ]
    }
   ],
   "source": [
    "result = answer_question_cte(context, question)\n",
    "print(result['triplets'])\n",
    "print(result['answer'])\n",
    "print(result['generation'])"
   ]
  },
  {
   "cell_type": "code",
   "execution_count": null,
   "metadata": {},
   "outputs": [],
   "source": [
    "#|hide\n",
    "import nbdev; nbdev.nbdev_export()"
   ]
  }
 ],
 "metadata": {
  "kernelspec": {
   "display_name": "python3",
   "language": "python",
   "name": "python3"
  }
 },
 "nbformat": 4,
 "nbformat_minor": 2
}
