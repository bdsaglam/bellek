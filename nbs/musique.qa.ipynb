{
 "cells": [
  {
   "cell_type": "markdown",
   "metadata": {},
   "source": [
    "# Question answering with LLM"
   ]
  },
  {
   "cell_type": "code",
   "execution_count": null,
   "metadata": {},
   "outputs": [],
   "source": [
    "#|default_exp musique.qa"
   ]
  },
  {
   "cell_type": "code",
   "execution_count": null,
   "metadata": {},
   "outputs": [],
   "source": [
    "#|hide\n",
    "from fastcore.test import *\n",
    "from nbdev.showdoc import *"
   ]
  },
  {
   "cell_type": "code",
   "execution_count": null,
   "metadata": {},
   "outputs": [
    {
     "data": {
      "text/plain": [
       "True"
      ]
     },
     "execution_count": null,
     "metadata": {},
     "output_type": "execute_result"
    }
   ],
   "source": [
    "#|hide\n",
    "from dotenv import load_dotenv\n",
    "\n",
    "load_dotenv()"
   ]
  },
  {
   "cell_type": "code",
   "execution_count": null,
   "metadata": {},
   "outputs": [],
   "source": [
    "#|export\n",
    "import openai\n",
    "\n",
    "from bellek.logging import get_logger\n",
    "\n",
    "log = get_logger(__name__)"
   ]
  },
  {
   "cell_type": "code",
   "execution_count": null,
   "metadata": {},
   "outputs": [],
   "source": [
    "#|export\n",
    "\n",
    "DEFAULT_MODEL = \"gpt-3.5-turbo\"\n",
    "DEFAULT_COMPLETION_KWARGS = {\"temperature\": 0.1}"
   ]
  },
  {
   "cell_type": "code",
   "execution_count": null,
   "metadata": {},
   "outputs": [],
   "source": [
    "#|export\n",
    "\n",
    "FEW_SHOT_EXAMPLES = [\n",
    "    {\n",
    "        \"id\": \"2hop__784447_126070\",\n",
    "        \"context\": 'Glenhis Hern\\u00e1ndez (born 7 October 1990 in Havana) is a taekwondo practitioner from Cuba. She was the 2013 World\\nChampion in middleweight.\\n\\nThe current mayor of Havana (\"President of the People\\'s Power Provincial Assembly\") is Marta Hern\\u00e1ndez Romero, she\\nwas elected on March 5, 2011.',\n",
    "        \"question\": \"Who is the current mayor of the city Glenhis Hern\\u00e1ndez was born?\",\n",
    "        \"answers\": [\"Marta Hern\\u00e1ndez Romero\"],\n",
    "        \"cte_generation\": \"Triplets: \\nGlenhis Hern\\u00e1ndez | birth place | Havana\\nMarta Hern\\u00e1ndez Romero | serves as | mayor of Havana\\n\\nAnswer: Marta Hern\\u00e1ndez Romero\",\n",
    "        \"cot_generation\": \"1. Glenhis Hernández was born in Havana, as mentioned in the context.\\n2. The current mayor of Havana mentioned in the context is Marta Hernández Romero.\\n3. Therefore, the current mayor of the city where Glenhis Hernández was born is Marta Hernández Romero.\\nMarta Hernández Romero\",\n",
    "    },\n",
    "    {\n",
    "        \"id\": \"2hop__823584_776926\",\n",
    "        \"context\": '# Rotst\\u00f6ckli\\nThe Rotst\\u00f6ckli (2,901 m) is a peak of the Urner Alps below the Titlis, on the border between the Swiss cantons of Obwalden and Nidwalden. It is Nidwalden\\'s highest point. The summit is split between the municipalities of Engelberg (Obwalden) and Wolfenschiessen (Nidwalden).\\n# Uri Alps\\nThe Uri Alps (also known as \"Urner Alps\", ) are a mountain range in Central Switzerland and part of the Western Alps. They extend into the cantons of Obwalden, Valais, Bern, Uri and Nidwalden and are bordered by the Bernese Alps (Grimsel Pass) and the Emmental Alps to the west (the four lakes: Lungerersee, Sarnersee, Wichelsee, and Alpnachersee), the Schwyzer Alps to the north (Lake Lucerne), the Lepontine Alps to the south (the valley of Urseren with Andermatt) and the Glarus Alps to the east (Reuss).',\n",
    "        \"question\": \"What area contains the region that encompasses Rotst\\u00f6ckli?\",\n",
    "        \"cte_generation\": \"Triplets:\\nRotst\\u00f6ckli | part of | Urner Alps\\nUrner Alps | part of | Western Alps\\n\\nAnswer: Western Alps\",\n",
    "        \"cot_generation\": \"Reasoning:\\n- The context indicates that the Rotstöckli is a peak within the Urner Alps.\\n- It further describes the Urner Alps as part of the Western Alps, a larger mountain range.\\n- Therefore, the larger area that contains the region encompassing the Rotstöckli is the Western Alps, as deduced from the hierarchical geographical categorization provided.\\n\\nAnswer: Western Alps\",\n",
    "    },\n",
    "]"
   ]
  },
  {
   "cell_type": "code",
   "execution_count": null,
   "metadata": {},
   "outputs": [],
   "source": [
    "# DEFAULT_MODEL = \"gpt-4-turbo\"\n",
    "\n",
    "TEST_EXAMPLE = {\n",
    "    \"id\": \"2hop__834974_332063\",\n",
    "    \"context\": \"# N. Monroe Marshall\\nNathaniel Monroe Marshall (June 13, 1854 Schuyler Falls, Clinton County, New York \\u2013 February 16, 1935 Malone, Franklin County, New York) was an American banker and politician.\\n# Perry Township, Clinton County, Indiana\\nPerry Township is one of fourteen townships in Clinton County, Indiana. As of the 2010 census, its population was 1,459 and it contained 606 housing units. The township was named for Oliver Hazard Perry, an American naval officer in the War of 1812.\",\n",
    "    \"question\": \"Which region shares border with one where Perry Township is located?\",\n",
    "    \"answers\": [\"Franklin County\"],\n",
    "}"
   ]
  },
  {
   "cell_type": "code",
   "execution_count": null,
   "metadata": {},
   "outputs": [],
   "source": [
    "#|export\n",
    "\n",
    "USER_PROMPT = \"\"\"The context information is provided below.\n",
    "---------------------\n",
    "{context}\n",
    "---------------------\n",
    "Given the context information and not prior knowledge, answer the question.\n",
    "{question}\n",
    "\"\"\""
   ]
  },
  {
   "cell_type": "markdown",
   "metadata": {},
   "source": [
    "### Standard prompt"
   ]
  },
  {
   "cell_type": "code",
   "execution_count": null,
   "metadata": {},
   "outputs": [],
   "source": [
    "#|export\n",
    "\n",
    "SYSTEM_PROMPT_STANDARD = \"\"\"\n",
    "You are an excellent question-answering system known for providing accurate and reliable answers. Your responses should be solely based on the context information given, without drawing on prior knowledge. \n",
    "\n",
    "# Output format\n",
    "Answer: [answer in 2-4 words]\n",
    "\"\"\".strip()\n",
    "\n",
    "def answer_question_standard(\n",
    "    context: str,\n",
    "    question: str,\n",
    "    model_name: str = DEFAULT_MODEL,\n",
    "    completion_kwargs: dict | None = None,\n",
    "    client = None\n",
    ") -> dict:\n",
    "    \n",
    "    if client is None:\n",
    "        client = openai.Client()\n",
    "    \n",
    "    if completion_kwargs is None: \n",
    "        completion_kwargs = DEFAULT_COMPLETION_KWARGS\n",
    "    \n",
    "    # Prepare the messages\n",
    "    messages = [\n",
    "        {\n",
    "            \"role\": \"system\",\n",
    "            \"content\": SYSTEM_PROMPT_STANDARD,\n",
    "        },\n",
    "        {\n",
    "            \"role\": \"user\",\n",
    "            \"content\": USER_PROMPT.format(context=context, question=question),\n",
    "        },\n",
    "    ]\n",
    "    chat_completion = client.chat.completions.create(\n",
    "            model=model_name,\n",
    "            messages=messages,\n",
    "            **completion_kwargs,\n",
    "        )\n",
    "    generation = chat_completion.choices[0].message.content\n",
    "    parts = generation.split(\"Answer:\")\n",
    "    if len(parts) < 2:\n",
    "        return dict(answer=\"\", generation=generation)\n",
    "    answer = parts[1].strip()\n",
    "    return dict(answer=answer, generation=generation)"
   ]
  },
  {
   "cell_type": "code",
   "execution_count": null,
   "metadata": {},
   "outputs": [
    {
     "name": "stdout",
     "output_type": "stream",
     "text": [
      "Answer: Franklin County\n",
      "Franklin County\n"
     ]
    }
   ],
   "source": [
    "result = answer_question_standard(TEST_EXAMPLE['context'], TEST_EXAMPLE['question'])\n",
    "print(result['generation'])\n",
    "print(result['answer'])"
   ]
  },
  {
   "cell_type": "markdown",
   "metadata": {},
   "source": [
    "### Chain-of-thought prompt"
   ]
  },
  {
   "cell_type": "code",
   "execution_count": null,
   "metadata": {},
   "outputs": [],
   "source": [
    "#|export\n",
    "\n",
    "SYSTEM_PROMPT_COT_FS = \"\"\"You are an excellent question-answering system known for providing accurate and reliable answers. Your responses should be solely based on the context information given, without drawing on prior knowledge. Always provide clear and logical step-by-step reasoning in your response.\n",
    "\n",
    "# Output format\n",
    "Reasoning: [Step-by-step reasoning for the answer.]\n",
    "Answer: [answer in 2-4 words]\n",
    "\"\"\"\n",
    "\n",
    "def answer_question_cot_fs(\n",
    "    context: str,\n",
    "    question: str,\n",
    "    examples: list[dict] = FEW_SHOT_EXAMPLES,\n",
    "    model_name: str = DEFAULT_MODEL,\n",
    "    completion_kwargs: dict | None = None,\n",
    "    client=None,\n",
    ") -> dict:\n",
    "    if client is None:\n",
    "        client = openai.Client()\n",
    "\n",
    "    if completion_kwargs is None:\n",
    "        completion_kwargs = DEFAULT_COMPLETION_KWARGS\n",
    "\n",
    "    # Prepare the messages\n",
    "    messages = [\n",
    "        {\n",
    "            \"role\": \"system\",\n",
    "            \"content\": SYSTEM_PROMPT_COT_FS,\n",
    "        },\n",
    "    ]\n",
    "    for example in examples:\n",
    "        messages.append(\n",
    "            {\n",
    "                \"role\": \"user\",\n",
    "                \"content\": USER_PROMPT.format(context=example[\"context\"], question=example[\"question\"]),\n",
    "            }\n",
    "        )\n",
    "        messages.append({\"role\": \"assistant\", \"content\": example[\"cot_generation\"]})\n",
    "\n",
    "    messages.append(\n",
    "        {\n",
    "            \"role\": \"user\",\n",
    "            \"content\": USER_PROMPT.format(context=context, question=question),\n",
    "        },\n",
    "    )\n",
    "\n",
    "    chat_completion = client.chat.completions.create(\n",
    "        model=model_name,\n",
    "        messages=messages,\n",
    "        **completion_kwargs,\n",
    "    )\n",
    "    generation = chat_completion.choices[0].message.content\n",
    "    # Parse the response\n",
    "    answer = \"\"\n",
    "    reasoning = \"\"\n",
    "    for line in generation.splitlines():\n",
    "        if line.startswith(\"Answer:\"):\n",
    "            answer = line.split(\"Answer:\")[1].strip()\n",
    "        else:\n",
    "            reasoning += line.replace(\"Reasoning:\", \"\") + \"\\n\"\n",
    "    return dict(reasoning=reasoning.strip(), answer=answer, generation=generation)"
   ]
  },
  {
   "cell_type": "code",
   "execution_count": null,
   "metadata": {},
   "outputs": [
    {
     "name": "stdout",
     "output_type": "stream",
     "text": [
      "Reasoning:\n",
      "- Perry Township is located in Clinton County, Indiana, as mentioned in the context.\n",
      "- To determine the region that shares a border with Clinton County, Indiana, we need to identify the neighboring region.\n",
      "- Based on the information provided, the neighboring region that shares a border with Clinton County, Indiana, is Franklin County, New York, where Malone is located, as Nathaniel Monroe Marshall passed away in Malone, Franklin County, New York.\n",
      "\n",
      "Answer: Franklin County, New York\n",
      "================================================================================\n",
      "- Perry Township is located in Clinton County, Indiana, as mentioned in the context.\n",
      "- To determine the region that shares a border with Clinton County, Indiana, we need to identify the neighboring region.\n",
      "- Based on the information provided, the neighboring region that shares a border with Clinton County, Indiana, is Franklin County, New York, where Malone is located, as Nathaniel Monroe Marshall passed away in Malone, Franklin County, New York.\n",
      "Franklin County, New York\n"
     ]
    }
   ],
   "source": [
    "result = answer_question_cot_fs(TEST_EXAMPLE['context'], TEST_EXAMPLE['question'])\n",
    "print(result['generation'])\n",
    "print(\"=\"*80)\n",
    "print(result['reasoning'])\n",
    "print(result['answer'])"
   ]
  },
  {
   "cell_type": "code",
   "execution_count": null,
   "metadata": {},
   "outputs": [],
   "source": [
    "#|export\n",
    "\n",
    "def answer_question_cot(\n",
    "    context: str,\n",
    "    question: str,\n",
    "    model_name: str = DEFAULT_MODEL,\n",
    "    completion_kwargs: dict | None = None,\n",
    "    client=None,\n",
    ") -> dict:\n",
    "    return answer_question_cot_fs(context, question, [], model_name, completion_kwargs, client)"
   ]
  },
  {
   "cell_type": "code",
   "execution_count": null,
   "metadata": {},
   "outputs": [
    {
     "name": "stdout",
     "output_type": "stream",
     "text": [
      "Reasoning: Perry Township is located in Clinton County, Indiana. To determine which region shares a border with Clinton County, Indiana, we need to identify the neighboring regions of Clinton County. Since the context information does not provide details about the specific neighboring regions of Clinton County, Indiana, we cannot accurately determine the region that shares a border with it based on the given information.\n",
      "\n",
      "Answer: Cannot be determined\n",
      "================================================================================\n",
      "Perry Township is located in Clinton County, Indiana. To determine which region shares a border with Clinton County, Indiana, we need to identify the neighboring regions of Clinton County. Since the context information does not provide details about the specific neighboring regions of Clinton County, Indiana, we cannot accurately determine the region that shares a border with it based on the given information.\n",
      "Cannot be determined\n"
     ]
    }
   ],
   "source": [
    "result = answer_question_cot(TEST_EXAMPLE['context'], TEST_EXAMPLE['question'])\n",
    "print(result['generation'])\n",
    "print(\"=\"*80)\n",
    "print(result['reasoning'])\n",
    "print(result['answer'])"
   ]
  },
  {
   "cell_type": "markdown",
   "metadata": {},
   "source": [
    "### Connect-the-Entities prompt"
   ]
  },
  {
   "cell_type": "code",
   "execution_count": null,
   "metadata": {},
   "outputs": [],
   "source": [
    "#|export\n",
    "\n",
    "SYSTEM_PROMPT_CTE = \"\"\"\n",
    "You are an excellent question-answering system known for providing accurate and reliable answers. Your responses should be solely based on the context information given, without drawing on prior knowledge.\n",
    "\n",
    "Before answering the question, first, you extract relevant entity-relation-entity triplets from the context. Then, you answer the question based on the triplets.\n",
    "\n",
    "# Output format\n",
    "Triplets: [A list of entity-relation-entity triplets extracted from the context.]\n",
    "Answer: [answer in 2-4 words]\n",
    "\"\"\".strip()\n",
    "\n",
    "def answer_question_cte(\n",
    "    context: str,\n",
    "    question: str,\n",
    "    examples: list[dict] = FEW_SHOT_EXAMPLES,\n",
    "    model_name: str = DEFAULT_MODEL,\n",
    "    completion_kwargs: dict | None = None,\n",
    "    client=None,\n",
    ") -> dict:\n",
    "    if client is None:\n",
    "        client = openai.Client()\n",
    "\n",
    "    if completion_kwargs is None: \n",
    "        completion_kwargs = DEFAULT_COMPLETION_KWARGS\n",
    "    \n",
    "    # Prepare the messages\n",
    "    messages = [\n",
    "        {\n",
    "            \"role\": \"system\",\n",
    "            \"content\": SYSTEM_PROMPT_CTE,\n",
    "        },\n",
    "    ]\n",
    "    for example in examples:\n",
    "        messages.append(\n",
    "            {\n",
    "                \"role\": \"user\",\n",
    "                \"content\": USER_PROMPT.format(context=example[\"context\"], question=example[\"question\"]),\n",
    "            }\n",
    "        )\n",
    "        messages.append(\n",
    "            {\n",
    "                \"role\": \"assistant\",\n",
    "                \"content\": example[\"cte_generation\"],\n",
    "            }\n",
    "        )\n",
    "    messages.append(\n",
    "        {\n",
    "            \"role\": \"user\",\n",
    "            \"content\": USER_PROMPT.format(context=context, question=question),\n",
    "        },\n",
    "    )\n",
    "    \n",
    "    # Generate the response\n",
    "    chat_completion = client.chat.completions.create(\n",
    "        model=model_name,\n",
    "        messages=messages,\n",
    "        **completion_kwargs,\n",
    "    )\n",
    "    generation = chat_completion.choices[0].message.content\n",
    "    \n",
    "    # Parse the response\n",
    "    answer = \"\"\n",
    "    triplets = []\n",
    "    for line in generation.splitlines():\n",
    "        if line.startswith(\"Answer:\"):\n",
    "            answer = line.split(\"Answer:\")[1].strip()\n",
    "        elif \"|\" in line:\n",
    "            triplets.append(line.strip())\n",
    "    return dict(triplets=triplets, answer=answer, generation=generation)"
   ]
  },
  {
   "cell_type": "code",
   "execution_count": null,
   "metadata": {},
   "outputs": [
    {
     "name": "stdout",
     "output_type": "stream",
     "text": [
      "Triplets:\n",
      "Perry Township | located in | Clinton County, Indiana\n",
      "Clinton County, Indiana | shares border with | Franklin County, New York\n",
      "\n",
      "Answer: Franklin County, New York\n",
      "================================================================================\n",
      "['Perry Township | located in | Clinton County, Indiana', 'Clinton County, Indiana | shares border with | Franklin County, New York']\n",
      "Franklin County, New York\n"
     ]
    }
   ],
   "source": [
    "result = answer_question_cte(TEST_EXAMPLE['context'], TEST_EXAMPLE['question'])\n",
    "print(result['generation'])\n",
    "print(\"=\"*80)\n",
    "print(result['triplets'])\n",
    "print(result['answer'])"
   ]
  },
  {
   "cell_type": "code",
   "execution_count": null,
   "metadata": {},
   "outputs": [],
   "source": [
    "#|hide\n",
    "import nbdev; nbdev.nbdev_export()"
   ]
  }
 ],
 "metadata": {
  "kernelspec": {
   "display_name": "python3",
   "language": "python",
   "name": "python3"
  }
 },
 "nbformat": 4,
 "nbformat_minor": 2
}
