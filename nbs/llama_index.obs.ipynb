{
 "cells": [
  {
   "attachments": {},
   "cell_type": "markdown",
   "metadata": {},
   "source": [
    "# LLM observability"
   ]
  },
  {
   "cell_type": "code",
   "execution_count": null,
   "metadata": {},
   "outputs": [],
   "source": [
    "#|default_exp llama_index.obs"
   ]
  },
  {
   "cell_type": "code",
   "execution_count": null,
   "metadata": {},
   "outputs": [],
   "source": [
    "#|hide\n",
    "from fastcore.test import *\n",
    "from nbdev.showdoc import *"
   ]
  },
  {
   "cell_type": "code",
   "execution_count": null,
   "metadata": {},
   "outputs": [],
   "source": [
    "#|export\n",
    "\n",
    "from io import TextIOBase\n",
    "from pathlib import Path\n",
    "from phoenix.trace.llama_index import OpenInferenceTraceCallbackHandler\n",
    "from phoenix.trace.schemas import Span\n",
    "from phoenix.trace.span_json_encoder import spans_to_jsonl\n",
    "from typing import Iterator"
   ]
  },
  {
   "cell_type": "code",
   "execution_count": null,
   "metadata": {},
   "outputs": [],
   "source": [
    "#|export\n",
    "\n",
    "class TraceRecorder:\n",
    "    def __init__(self, f: TextIOBase | Path):\n",
    "        if isinstance(f, Path):\n",
    "            f.parent.mkdir(parents=True, exist_ok=True)\n",
    "            self.f = open(f, \"a\")\n",
    "        else:\n",
    "            self.f = f\n",
    "\n",
    "    def __call__(self, spans: Iterator[Span]) -> None:\n",
    "        self.f.write(\"\\n\")\n",
    "        self.f.write(spans_to_jsonl(spans))\n",
    "\n",
    "\n",
    "def make_phoenix_trace_callback_handler(output_filepath: Path):\n",
    "    return OpenInferenceTraceCallbackHandler(callback=TraceRecorder(output_filepath))"
   ]
  },
  {
   "cell_type": "code",
   "execution_count": null,
   "metadata": {},
   "outputs": [],
   "source": [
    "#|hide\n",
    "import nbdev; nbdev.nbdev_export()"
   ]
  }
 ],
 "metadata": {
  "kernelspec": {
   "display_name": "python3",
   "language": "python",
   "name": "python3"
  }
 },
 "nbformat": 4,
 "nbformat_minor": 2
}
