{
 "cells": [
  {
   "attachments": {},
   "cell_type": "markdown",
   "metadata": {},
   "source": [
    "# LLM observability"
   ]
  },
  {
   "cell_type": "code",
   "execution_count": null,
   "metadata": {},
   "outputs": [],
   "source": [
    "#|default_exp llama_index.obs"
   ]
  },
  {
   "cell_type": "code",
   "execution_count": null,
   "metadata": {},
   "outputs": [],
   "source": [
    "#|hide\n",
    "from fastcore.test import *\n",
    "from nbdev.showdoc import *"
   ]
  },
  {
   "cell_type": "code",
   "execution_count": null,
   "metadata": {},
   "outputs": [],
   "source": [
    "#|export\n",
    "\n",
    "from uuid import uuid4\n",
    "from datetime import datetime\n",
    "from pathlib import Path\n",
    "from phoenix.trace.llama_index import OpenInferenceTraceCallbackHandler\n",
    "from phoenix.trace.schemas import Span\n",
    "from phoenix.trace.span_json_encoder import spans_to_jsonl\n",
    "from phoenix.trace.tracer import SpanExporter"
   ]
  },
  {
   "cell_type": "code",
   "execution_count": null,
   "metadata": {},
   "outputs": [],
   "source": [
    "#|export\n",
    "\n",
    "class FileSpanExporter(SpanExporter):\n",
    "    def __init__(self, filepath: Path | str | None = None):\n",
    "        if filepath is None:\n",
    "            filepath = Path(\"/tmp/llm-traces\") / self._generate_filename()\n",
    "        self.filepath = Path(filepath)\n",
    "        self.filepath.parent.mkdir(exist_ok=True, parents=True)\n",
    "\n",
    "    def export(self, span: Span) -> None:\n",
    "        self.filepath.parent.mkdir(exist_ok=True, parents=True)\n",
    "        with open(self.filepath, \"a\") as f:\n",
    "            f.write(\"\\n\")\n",
    "            f.write(spans_to_jsonl([span]))\n",
    "            f.write(\"\\n\")\n",
    "\n",
    "    def _generate_filename(self):\n",
    "        return f\"{datetime.utcnow().strftime('%Y_%m_%dT%H_%M_%SZ')}-{uuid4()}.jsonl\"\n"
   ]
  },
  {
   "cell_type": "code",
   "execution_count": null,
   "metadata": {},
   "outputs": [],
   "source": [
    "#|export\n",
    "\n",
    "def make_phoenix_trace_callback_handler(output_filepath: Path | str | None = None):\n",
    "    return OpenInferenceTraceCallbackHandler(exporter=FileSpanExporter(output_filepath))"
   ]
  },
  {
   "cell_type": "code",
   "execution_count": null,
   "metadata": {},
   "outputs": [],
   "source": [
    "#|hide\n",
    "import nbdev; nbdev.nbdev_export()"
   ]
  }
 ],
 "metadata": {
  "kernelspec": {
   "display_name": "python3",
   "language": "python",
   "name": "python3"
  }
 },
 "nbformat": 4,
 "nbformat_minor": 2
}
