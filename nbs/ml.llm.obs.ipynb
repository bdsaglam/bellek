{
 "cells": [
  {
   "attachments": {},
   "cell_type": "markdown",
   "metadata": {},
   "source": [
    "# LLM observability"
   ]
  },
  {
   "cell_type": "code",
   "execution_count": null,
   "metadata": {},
   "outputs": [],
   "source": [
    "#|default_exp ml.llm.obs"
   ]
  },
  {
   "cell_type": "code",
   "execution_count": null,
   "metadata": {},
   "outputs": [],
   "source": [
    "#|hide\n",
    "from fastcore.test import *\n",
    "from nbdev.showdoc import *"
   ]
  },
  {
   "cell_type": "code",
   "execution_count": null,
   "metadata": {},
   "outputs": [],
   "source": [
    "#|export\n",
    "\n",
    "from pathlib import Path\n",
    "from phoenix.trace.llama_index import OpenInferenceTraceCallbackHandler\n",
    "from phoenix.trace.schemas import Span\n",
    "from phoenix.trace.span_json_encoder import spans_to_jsonl\n",
    "from typing import Iterator"
   ]
  },
  {
   "cell_type": "code",
   "execution_count": null,
   "metadata": {},
   "outputs": [],
   "source": [
    "#|export\n",
    "\n",
    "class TracePersister:\n",
    "    def __init__(self, output_filepath: Path):\n",
    "        self.output_filepath = output_filepath\n",
    "        self.output_filepath.parent.mkdir(parents=True, exist_ok=True)\n",
    "\n",
    "    def __call__(self, spans: Iterator[Span]) -> None:\n",
    "        with open(self.output_filepath, \"a\") as f:\n",
    "            f.write(\"\\n\")\n",
    "            f.write(spans_to_jsonl(spans))\n",
    "\n",
    "\n",
    "def make_phoenix_trace_callback_handler(output_filepath: Path):\n",
    "    return OpenInferenceTraceCallbackHandler(callback=TracePersister(output_filepath))"
   ]
  },
  {
   "cell_type": "code",
   "execution_count": null,
   "metadata": {},
   "outputs": [],
   "source": [
    "#|hide\n",
    "import nbdev; nbdev.nbdev_export()"
   ]
  }
 ],
 "metadata": {
  "kernelspec": {
   "display_name": "python3",
   "language": "python",
   "name": "python3"
  }
 },
 "nbformat": 4,
 "nbformat_minor": 2
}
