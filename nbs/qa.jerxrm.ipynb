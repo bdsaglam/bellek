{
 "cells": [
  {
   "cell_type": "markdown",
   "metadata": {},
   "source": [
    "# Question answering with LLM"
   ]
  },
  {
   "cell_type": "code",
   "execution_count": 1,
   "metadata": {},
   "outputs": [],
   "source": [
    "#|default_exp qa.jerxrm"
   ]
  },
  {
   "cell_type": "code",
   "execution_count": 2,
   "metadata": {},
   "outputs": [],
   "source": [
    "#|hide\n",
    "from fastcore.test import *\n",
    "from nbdev.showdoc import *"
   ]
  },
  {
   "cell_type": "code",
   "execution_count": 3,
   "metadata": {},
   "outputs": [
    {
     "data": {
      "text/plain": [
       "True"
      ]
     },
     "execution_count": 3,
     "metadata": {},
     "output_type": "execute_result"
    }
   ],
   "source": [
    "#|hide\n",
    "from dotenv import load_dotenv\n",
    "load_dotenv()"
   ]
  },
  {
   "cell_type": "code",
   "execution_count": 4,
   "metadata": {},
   "outputs": [],
   "source": [
    "#|export\n",
    "import magentic\n",
    "from pydantic import BaseModel, Field\n",
    "\n",
    "from bellek.logging import get_logger\n",
    "\n",
    "log = get_logger(__name__)"
   ]
  },
  {
   "cell_type": "code",
   "execution_count": 5,
   "metadata": {},
   "outputs": [],
   "source": [
    "#|export\n",
    "DEFAULT_MODEL = magentic.OpenaiChatModel(\"gpt-3.5-turbo\", temperature=0.1)"
   ]
  },
  {
   "cell_type": "code",
   "execution_count": 6,
   "metadata": {},
   "outputs": [],
   "source": [
    "#|export\n",
    "\n",
    "USER_PROMPT = \"\"\"The context information is provided below.\n",
    "---------------------\n",
    "{context}\n",
    "---------------------\n",
    "Given the context information and not prior knowledge, answer the question.\n",
    "{question}\n",
    "\"\"\""
   ]
  },
  {
   "cell_type": "code",
   "execution_count": 7,
   "metadata": {},
   "outputs": [],
   "source": [
    "#|export\n",
    "\n",
    "SYSTEM_PROMPT = \"\"\"You are an excellent question-answering system known for providing accurate and reliable answers. Your responses should be solely based on the context information given, without drawing on prior knowledge.\"\"\"\n",
    "\n",
    "class QuestionAnsweringResult(BaseModel):\n",
    "    \"\"\"Data model for answering the question.\"\"\"\n",
    "\n",
    "    answer: str = Field(description=\"The answer to the question in 2-4 words.\")\n",
    "\n",
    "\n",
    "@magentic.chatprompt(\n",
    "    magentic.SystemMessage(SYSTEM_PROMPT), \n",
    "    magentic.UserMessage(USER_PROMPT),\n",
    "    model=DEFAULT_MODEL,\n",
    ")\n",
    "def answer_question(\n",
    "    context: str,\n",
    "    question: str,\n",
    ") -> QuestionAnsweringResult: ..."
   ]
  },
  {
   "cell_type": "code",
   "execution_count": 8,
   "metadata": {},
   "outputs": [],
   "source": [
    "#|export\n",
    "\n",
    "SYSTEM_PROMPT_REASONING = \"\"\"You are an excellent question-answering system known for providing accurate and reliable answers. Your responses should be solely based on the context information given, without drawing on prior knowledge. Always provide clear and logical step-by-step reasoning in your answers.\"\"\"\n",
    "\n",
    "class QuestionAnsweringResultWithReasoning(BaseModel):\n",
    "    \"\"\"Data model for answering the question.\"\"\"\n",
    "\n",
    "    reasoning: str = Field(description=\"Step-by-step reasoning for the answer.\")\n",
    "    answer: str = Field(description=\"The answer to the question in 2-4 words.\")\n",
    "\n",
    "\n",
    "@magentic.chatprompt(\n",
    "    magentic.SystemMessage(SYSTEM_PROMPT_REASONING), \n",
    "    magentic.UserMessage(USER_PROMPT),\n",
    "    model=DEFAULT_MODEL,\n",
    ")\n",
    "def answer_question_with_reasoning(\n",
    "    context: str,\n",
    "    question: str,\n",
    ") -> QuestionAnsweringResultWithReasoning: ..."
   ]
  },
  {
   "cell_type": "code",
   "execution_count": 9,
   "metadata": {},
   "outputs": [],
   "source": [
    "#|export\n",
    "\n",
    "SYSTEM_PROMPT_WITH_TRIPLETS = \"\"\"You are an excellent question-answering system known for providing accurate and reliable answers. Your responses should be solely based on the context information given, without drawing on prior knowledge.\n",
    "\n",
    "Before answering the question, first, you extract relevant entity-relation-entity triplets from the context. Then, you answer the question based on the triplets. For instance, \n",
    "\n",
    "# Example\n",
    "Context: \"Glenhis Hernández (born 7 October 1990 in Havana) is a taekwondo practitioner from Cuba. She was the 2013 World\n",
    "Champion in middleweight.\n",
    "\n",
    "The current mayor of Havana (\"President of the People's Power Provincial Assembly\") is Marta Hernández Romero, she\n",
    "was elected on March 5, 2011.\"\n",
    "\n",
    "Question: \"Who is the current mayor of city Glenhis Hernández?\"\n",
    "\n",
    "Triplets: \"Glenhis Hernández (Athlete) | born on | October 7, 1990\n",
    "Glenhis Hernández (Athlete) | birth place | Havana\n",
    "Glenhis Hernández (Athlete) | specializes in | taekwondo\n",
    "Glenhis Hernández (Athlete) | won | 2013 World Champion title (Middleweight)\n",
    "Marta Hernández Romero (Politician) | serves as | mayor of Havana\n",
    "Marta Hernández Romero (Politician) | holds | the position of \"President of the People's Power Provincial Assembly\"\n",
    "Marta Hernández Romero (Politician) | elected on | March 5, 2011.\"\n",
    "\n",
    "Answer: \"Marta Hernández Romero\"\n",
    "\"\"\"\n",
    "\n",
    "class _QuestionAnsweringResultWithTriplets(BaseModel):\n",
    "    \"\"\"Data model for answering the question.\"\"\"\n",
    "\n",
    "    triplets: list[str] = Field(description=\"A list of entity-relation-entity triplets extracted from the context.\")\n",
    "    answer: str = Field(description=\"The answer to the question in 2-4 words.\")\n",
    "\n",
    "class QuestionAnsweringResultWithTriplets(_QuestionAnsweringResultWithTriplets):\n",
    "    reasoning: str = \"\"\n",
    "\n",
    "@magentic.chatprompt(\n",
    "    magentic.SystemMessage(SYSTEM_PROMPT_WITH_TRIPLETS), \n",
    "    magentic.UserMessage(USER_PROMPT),\n",
    "    model=DEFAULT_MODEL,\n",
    ")\n",
    "def _answer_question_with_triplets(\n",
    "    context: str,\n",
    "    question: str,\n",
    ") -> _QuestionAnsweringResultWithTriplets: ...\n",
    "\n",
    "def answer_question_with_triplets(\n",
    "    context: str,\n",
    "    question: str,\n",
    ") -> QuestionAnsweringResultWithTriplets: \n",
    "    result = _answer_question_with_triplets(context, question)\n",
    "    return QuestionAnsweringResultWithTriplets(triplets=result.triplets, answer=result.answer)"
   ]
  },
  {
   "cell_type": "code",
   "execution_count": 10,
   "metadata": {},
   "outputs": [],
   "source": [
    "#|export\n",
    "\n",
    "SYSTEM_PROMPT_REASONING_WITH_TRIPLETS = \"\"\"You are an excellent question-answering system known for providing accurate and reliable answers. Your responses should be solely based on context the information given, without drawing on prior knowledge. Always provide clear and logical step-by-step reasoning in your answers.\n",
    "\n",
    "Before answering the question, first, you extract relevant entity-relation-entity triplets from the context. Then, you answer the question based on the triplets. For instance, \n",
    "\n",
    "# Example\n",
    "Context: \"Glenhis Hernández (born 7 October 1990 in Havana) is a taekwondo practitioner from Cuba. She was the 2013 World\n",
    "Champion in middleweight.\n",
    "\n",
    "The current mayor of Havana (\"President of the People's Power Provincial Assembly\") is Marta Hernández Romero, she\n",
    "was elected on March 5, 2011.\"\n",
    "\n",
    "Question: \"Who is the current mayor of city Glenhis Hernández?\"\n",
    "\n",
    "Triplets: \"Glenhis Hernández (Athlete) | born on | October 7, 1990\n",
    "Glenhis Hernández (Athlete) | birth place | Havana\n",
    "Glenhis Hernández (Athlete) | specializes in | taekwondo\n",
    "Glenhis Hernández (Athlete) | won | 2013 World Champion title (Middleweight)\n",
    "Marta Hernández Romero (Politician) | serves as | mayor of Havana\n",
    "Marta Hernández Romero (Politician) | holds | the position of \"President of the People's Power Provincial Assembly\"\n",
    "Marta Hernández Romero (Politician) | elected on | March 5, 2011.\"\n",
    "\n",
    "Reasoning: Glenhis Hernández (Athlete) | birth place | Havana\n",
    "This indicates that Glenhis Hernández was born in Havana.\n",
    "\n",
    "Marta Hernández Romero (Politician) | serves as | mayor of Havana\n",
    "This states that Marta Hernández Romero is the mayor of Havana.\n",
    "\n",
    "From these triplets, we conclude that Marta Hernández Romero is the mayor of Havana.\n",
    "\n",
    "Answer: \"Marta Hernández Romero\"\n",
    "\"\"\"\n",
    "\n",
    "class QuestionAnsweringResultReasoningWithTriplets(BaseModel):\n",
    "    \"\"\"Data model for answering the question.\"\"\"\n",
    "\n",
    "    triplets: list[str] = Field(description=\"A list of entity-relation-entity triplets extracted from the context.\")\n",
    "    reasoning: str = Field(description=\"Step-by-step reasoning for the answer.\")\n",
    "    answer: str = Field(description=\"The answer to the question in 2-4 words.\")\n",
    "\n",
    "\n",
    "@magentic.chatprompt(\n",
    "    magentic.SystemMessage(SYSTEM_PROMPT_REASONING_WITH_TRIPLETS), \n",
    "    magentic.UserMessage(USER_PROMPT),\n",
    "    model=DEFAULT_MODEL,\n",
    ")\n",
    "def answer_question_reasoning_with_triplets(\n",
    "    context: str,\n",
    "    question: str,\n",
    ") -> QuestionAnsweringResultReasoningWithTriplets: ..."
   ]
  },
  {
   "cell_type": "code",
   "execution_count": 11,
   "metadata": {},
   "outputs": [],
   "source": [
    "context = \"\"\"Sings America is an album released by David Hasselhoff in August 2004 (see 2004 in music). The album contains covers of songs originally made famous by artists such as Elvis Presley, The Beach Boys, Glen Campbell, Burt Bacharach and Madonna. The German release contains a bonus track, \"More Than Words Can Say\", which is the only original Hasselhoff composition on the album (written in conjunction with Wade Hubbard and Glenn Morrow).\"\"\"\n",
    "question = \"Who performed Sings America?\"\n",
    "answer = \"David Hasselhoff\""
   ]
  },
  {
   "cell_type": "code",
   "execution_count": 12,
   "metadata": {},
   "outputs": [
    {
     "name": "stdout",
     "output_type": "stream",
     "text": [
      "David Hasselhoff\n"
     ]
    }
   ],
   "source": [
    "result = answer_question(context=context, question=question)\n",
    "print(result.answer)"
   ]
  },
  {
   "cell_type": "code",
   "execution_count": 13,
   "metadata": {},
   "outputs": [
    {
     "name": "stdout",
     "output_type": "stream",
     "text": [
      "David Hasselhoff\n",
      "\n",
      "The album 'Sings America' was released by David Hasselhoff in August 2004. The context explicitly states that David Hasselhoff performed the songs on this album.\n"
     ]
    }
   ],
   "source": [
    "result = answer_question_with_reasoning(context=context, question=question)\n",
    "print(result.answer)\n",
    "print()\n",
    "print(result.reasoning)"
   ]
  },
  {
   "cell_type": "code",
   "execution_count": 15,
   "metadata": {},
   "outputs": [
    {
     "name": "stdout",
     "output_type": "stream",
     "text": [
      "David Hasselhoff\n",
      "\n",
      "David Hasselhoff (Musician) | released | Sings America album in August 2004\n",
      "David Hasselhoff (Musician) | album contains | covers of songs by various artists like Elvis Presley, The Beach Boys, Glen Campbell, Burt Bacharach, and Madonna\n",
      "David Hasselhoff (Musician) | composed | bonus track 'More Than Words Can Say' in conjunction with Wade Hubbard and Glenn Morrow\n",
      "\n",
      "\n"
     ]
    }
   ],
   "source": [
    "result = answer_question_with_triplets(context=context, question=question)\n",
    "print(result.answer)\n",
    "print()\n",
    "for triplet in result.triplets:\n",
    "    print(triplet)\n",
    "print()\n",
    "print(result.reasoning)"
   ]
  },
  {
   "cell_type": "code",
   "execution_count": null,
   "metadata": {},
   "outputs": [],
   "source": [
    "result = answer_question_reasoning_with_triplets(context=context, question=question)\n",
    "print(result.answer)\n",
    "print()\n",
    "for triplet in result.triplets:\n",
    "    print(triplet)\n",
    "print()\n",
    "print(result.reasoning)"
   ]
  },
  {
   "cell_type": "code",
   "execution_count": 16,
   "metadata": {},
   "outputs": [],
   "source": [
    "#|hide\n",
    "import nbdev; nbdev.nbdev_export()"
   ]
  }
 ],
 "metadata": {
  "kernelspec": {
   "display_name": "python3",
   "language": "python",
   "name": "python3"
  },
  "language_info": {
   "codemirror_mode": {
    "name": "ipython",
    "version": 3
   },
   "file_extension": ".py",
   "mimetype": "text/x-python",
   "name": "python",
   "nbconvert_exporter": "python",
   "pygments_lexer": "ipython3",
   "version": "3.10.14"
  }
 },
 "nbformat": 4,
 "nbformat_minor": 2
}
