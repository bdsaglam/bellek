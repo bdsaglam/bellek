{
 "cells": [
  {
   "attachments": {},
   "cell_type": "markdown",
   "metadata": {},
   "source": [
    "# Layers\n",
    "> Custom Torch layers"
   ]
  },
  {
   "cell_type": "code",
   "execution_count": null,
   "metadata": {},
   "outputs": [],
   "source": [
    "#| default_exp ml.layer"
   ]
  },
  {
   "cell_type": "code",
   "execution_count": null,
   "metadata": {},
   "outputs": [],
   "source": [
    "#| hide\n",
    "from fastcore.test import *\n",
    "from nbdev.showdoc import *"
   ]
  },
  {
   "cell_type": "code",
   "execution_count": null,
   "metadata": {},
   "outputs": [],
   "source": [
    "#| export\n",
    "\n",
    "import torch\n",
    "import torch.nn as nn\n",
    "from torch.autograd import Function"
   ]
  },
  {
   "cell_type": "code",
   "execution_count": null,
   "metadata": {},
   "outputs": [],
   "source": [
    "#| export\n",
    "\n",
    "class reverse_grad(Function):\n",
    "    @staticmethod\n",
    "    def forward(ctx, x, lambd):\n",
    "        ctx.lambd = lambd\n",
    "        return x\n",
    "\n",
    "    @staticmethod\n",
    "    def backward(ctx, grad_out):\n",
    "        return - grad_out * ctx.lambd, None\n",
    "\n",
    "class GradReverse(nn.Module):\n",
    "    def __init__(self, lambd=1.):\n",
    "        super().__init__()\n",
    "        self.lambd = torch.tensor(lambd, requires_grad=False)\n",
    "\n",
    "    def forward(self, x):\n",
    "        return reverse_grad.apply(x, self.lambd)"
   ]
  },
  {
   "cell_type": "code",
   "execution_count": null,
   "metadata": {},
   "outputs": [],
   "source": [
    "gr = GradReverse(lambd=2.0)\n",
    "\n",
    "x = torch.tensor(1.0)\n",
    "x.requires_grad_()\n",
    "\n",
    "y = gr(x)\n",
    "y.retain_grad()\n",
    "\n",
    "z = torch.pow(y, 2)\n",
    "z.backward()\n",
    "\n",
    "test_eq(y.grad.item(), 2.0)\n",
    "test_eq(x.grad.item(), -4.0)"
   ]
  },
  {
   "cell_type": "code",
   "execution_count": null,
   "metadata": {},
   "outputs": [],
   "source": [
    "#| hide\n",
    "import nbdev; nbdev.nbdev_export()"
   ]
  }
 ],
 "metadata": {
  "kernelspec": {
   "display_name": "bellek",
   "language": "python",
   "name": "python3"
  }
 },
 "nbformat": 4,
 "nbformat_minor": 2
}
