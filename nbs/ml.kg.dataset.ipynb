{
 "cells": [
  {
   "cell_type": "markdown",
   "metadata": {},
   "source": [
    "# Dataset utils for Knowledge Graph Construction"
   ]
  },
  {
   "cell_type": "code",
   "execution_count": null,
   "metadata": {},
   "outputs": [],
   "source": [
    "#| default_exp ml.kg.dataset"
   ]
  },
  {
   "cell_type": "code",
   "execution_count": null,
   "metadata": {},
   "outputs": [],
   "source": [
    "#| hide\n",
    "from fastcore.test import *\n",
    "from nbdev.showdoc import *"
   ]
  },
  {
   "cell_type": "code",
   "execution_count": null,
   "metadata": {},
   "outputs": [],
   "source": [
    "#|export\n",
    "\n",
    "def _batch_transform_webnlg(examples):\n",
    "    for lex, mts in zip(examples['lex'], examples['modified_triple_sets']):\n",
    "        for text in lex['text']:\n",
    "            yield dict(text=text, triplets=mts['mtriple_set'][0])\n",
    "\n",
    "def batch_transform_webnlg(examples):\n",
    "    records = list(_batch_transform_webnlg(examples))\n",
    "    return {\n",
    "        'text': [record['text'] for record in records],\n",
    "        'triplets': [record['triplets'] for record in records],\n",
    "    }"
   ]
  },
  {
   "cell_type": "code",
   "execution_count": null,
   "metadata": {},
   "outputs": [],
   "source": [
    "#| hide\n",
    "import nbdev; nbdev.nbdev_export()"
   ]
  }
 ],
 "metadata": {
  "kernelspec": {
   "display_name": "python3",
   "language": "python",
   "name": "python3"
  }
 },
 "nbformat": 4,
 "nbformat_minor": 2
}
