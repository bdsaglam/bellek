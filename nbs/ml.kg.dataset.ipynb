{
 "cells": [
  {
   "cell_type": "markdown",
   "metadata": {},
   "source": [
    "# Dataset utils for Knowledge Graph Construction"
   ]
  },
  {
   "cell_type": "code",
   "execution_count": null,
   "metadata": {},
   "outputs": [],
   "source": [
    "#| default_exp ml.kg.dataset"
   ]
  },
  {
   "cell_type": "code",
   "execution_count": null,
   "metadata": {},
   "outputs": [],
   "source": [
    "#| hide\n",
    "from fastcore.test import *\n",
    "from nbdev.showdoc import *"
   ]
  },
  {
   "cell_type": "code",
   "execution_count": null,
   "metadata": {},
   "outputs": [],
   "source": [
    "#|export\n",
    "\n",
    "def _batch_transform_webnlg(examples):\n",
    "    for lex, mts in zip(examples['lex'], examples['modified_triple_sets']):\n",
    "        for text in lex['text']:\n",
    "            yield dict(text=text, triplets=mts['mtriple_set'][0])\n",
    "\n",
    "def batch_transform_webnlg(examples):\n",
    "    records = list(_batch_transform_webnlg(examples))\n",
    "    return {\n",
    "        'text': [record['text'] for record in records],\n",
    "        'triplets': [record['triplets'] for record in records],\n",
    "    }"
   ]
  },
  {
   "cell_type": "code",
   "execution_count": null,
   "metadata": {},
   "outputs": [],
   "source": [
    "#|hide\n",
    "from datasets import load_dataset\n",
    "ds = load_dataset(\"web_nlg\", \"release_v3.0_en\", split=\"train[:10]\")\n",
    "erx_ds = ds.map(batch_transform_webnlg, batched=True, remove_columns=ds.column_names)\n",
    "\n",
    "assert 'text' in erx_ds.features\n",
    "assert 'triplets' in erx_ds.features\n",
    "assert isinstance(erx_ds[0]['triplets'], list)"
   ]
  },
  {
   "cell_type": "code",
   "execution_count": null,
   "metadata": {},
   "outputs": [],
   "source": [
    "#| hide\n",
    "import nbdev; nbdev.nbdev_export()"
   ]
  }
 ],
 "metadata": {
  "kernelspec": {
   "display_name": "python3",
   "language": "python",
   "name": "python3"
  }
 },
 "nbformat": 4,
 "nbformat_minor": 2
}
