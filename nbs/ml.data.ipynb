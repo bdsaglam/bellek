{
 "cells": [
  {
   "attachments": {},
   "cell_type": "markdown",
   "metadata": {},
   "source": [
    "# Data\n",
    "> Data utilities"
   ]
  },
  {
   "cell_type": "code",
   "execution_count": null,
   "metadata": {},
   "outputs": [],
   "source": [
    "#| default_exp ml.data"
   ]
  },
  {
   "cell_type": "code",
   "execution_count": null,
   "metadata": {},
   "outputs": [],
   "source": [
    "#| hide\n",
    "from fastcore.test import *\n",
    "from nbdev.showdoc import *"
   ]
  },
  {
   "cell_type": "code",
   "execution_count": null,
   "metadata": {},
   "outputs": [],
   "source": [
    "#| export\n",
    "\n",
    "class ZippedDataset:\n",
    "    def __init__(self, *datasets):\n",
    "        self.datasets = datasets\n",
    "    \n",
    "    def __getitem__(self, idx):\n",
    "        return tuple(ds[idx] for ds in self.datasets)\n",
    "    \n",
    "    def __len__(self):\n",
    "        return min(len(ds) for ds in self.datasets)"
   ]
  },
  {
   "cell_type": "code",
   "execution_count": null,
   "metadata": {},
   "outputs": [],
   "source": [
    "#| export\n",
    "\n",
    "class ZippedDataLoader:\n",
    "    def __init__(self, *data_loaders):\n",
    "        self.data_loaders = data_loaders\n",
    "\n",
    "    def __iter__(self):\n",
    "        self.it = iter(zip(*self.data_loaders))\n",
    "        return self\n",
    "\n",
    "    def __next__(self):\n",
    "        return next(self.it)"
   ]
  },
  {
   "cell_type": "code",
   "execution_count": null,
   "metadata": {},
   "outputs": [],
   "source": [
    "#| hide\n",
    "import nbdev; nbdev.nbdev_export()"
   ]
  }
 ],
 "metadata": {
  "kernelspec": {
   "display_name": "bellek",
   "language": "python",
   "name": "python3"
  }
 },
 "nbformat": 4,
 "nbformat_minor": 2
}
