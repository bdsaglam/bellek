{
 "cells": [
  {
   "attachments": {},
   "cell_type": "markdown",
   "metadata": {},
   "source": [
    "# Data\n",
    "> Data utilities"
   ]
  },
  {
   "cell_type": "code",
   "execution_count": null,
   "metadata": {},
   "outputs": [],
   "source": [
    "#| default_exp ml.data"
   ]
  },
  {
   "cell_type": "code",
   "execution_count": null,
   "metadata": {},
   "outputs": [],
   "source": [
    "#| hide\n",
    "from fastcore.test import *\n",
    "from nbdev.showdoc import *"
   ]
  },
  {
   "cell_type": "code",
   "execution_count": null,
   "metadata": {},
   "outputs": [],
   "source": [
    "#| export\n",
    "from functools import lru_cache"
   ]
  },
  {
   "cell_type": "code",
   "execution_count": null,
   "metadata": {},
   "outputs": [],
   "source": [
    "#| export\n",
    "\n",
    "class ZippedDataset:\n",
    "    def __init__(self, *datasets):\n",
    "        self.datasets = datasets\n",
    "    \n",
    "    def __getitem__(self, idx):\n",
    "        return tuple(ds[idx] for ds in self.datasets)\n",
    "    \n",
    "    def __len__(self):\n",
    "        return min(len(ds) for ds in self.datasets)"
   ]
  },
  {
   "cell_type": "code",
   "execution_count": null,
   "metadata": {},
   "outputs": [],
   "source": [
    "#| export\n",
    "\n",
    "class ZippedDataLoader:\n",
    "    def __init__(self, *data_loaders):\n",
    "        self.data_loaders = data_loaders\n",
    "\n",
    "    def __iter__(self):\n",
    "        self.it = iter(zip(*self.data_loaders))\n",
    "        return self\n",
    "\n",
    "    def __next__(self):\n",
    "        return next(self.it)"
   ]
  },
  {
   "cell_type": "code",
   "execution_count": null,
   "metadata": {},
   "outputs": [],
   "source": [
    "#| export \n",
    "\n",
    "def fetch_imagenet_label_synsets(url='https://raw.githubusercontent.com/torch/tutorials/master/7_imagenet_classification/synset_words.txt'):\n",
    "    from urllib.request import urlopen\n",
    "    with urlopen(url) as f:\n",
    "        return f.read().decode()\n",
    "\n",
    "def make_imagenet_label_map(label_synset):\n",
    "    lines = label_synset.splitlines()\n",
    "    return dict(line.strip().split(' ', 1) for line in lines if line.strip())\n",
    "\n",
    "@lru_cache(maxsize=1)\n",
    "def get_imagenet_label_map():\n",
    "    return make_imagenet_label_map(fetch_imagenet_label_synsets())"
   ]
  },
  {
   "cell_type": "code",
   "execution_count": null,
   "metadata": {},
   "outputs": [],
   "source": [
    "#| hide\n",
    "imagenet_label_id_to_synset = get_imagenet_label_map()\n",
    "test_eq(len(imagenet_label_id_to_synset), 1000)\n",
    "test_eq(imagenet_label_id_to_synset[\"n02111889\"], \"Samoyed, Samoyede\")"
   ]
  },
  {
   "cell_type": "code",
   "execution_count": null,
   "metadata": {},
   "outputs": [],
   "source": [
    "#| hide\n",
    "import nbdev; nbdev.nbdev_export()"
   ]
  }
 ],
 "metadata": {
  "kernelspec": {
   "display_name": "bellek",
   "language": "python",
   "name": "python3"
  }
 },
 "nbformat": 4,
 "nbformat_minor": 2
}
