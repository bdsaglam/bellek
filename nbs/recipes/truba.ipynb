{
 "cells": [
  {
   "cell_type": "markdown",
   "metadata": {},
   "source": [
    "# TRUBA\n",
    "\n",
    "> Recipes for TRUBA, mostly slurm snippets\n"
   ]
  },
  {
   "cell_type": "markdown",
   "metadata": {},
   "source": [
    "## Rules\n",
    "\n",
    "1. Use `/truba_scratch/basaglam` directory to execute long-running scripts; otherwise, your account may be suspended.\n",
    "2. Specify time limit for each job based on the estimated execution time so that the job is optimally prioritized.\n",
    "3. Use `debug` partition for debugging jobs.\n"
   ]
  },
  {
   "cell_type": "markdown",
   "metadata": {},
   "source": [
    "## Slurm"
   ]
  },
  {
   "cell_type": "markdown",
   "metadata": {},
   "source": [
    "Here is a \"Hello World\" Slurm script for TRUBA. This script prints a few things and create new files in the directory that it's executed."
   ]
  },
  {
   "cell_type": "markdown",
   "metadata": {},
   "source": [
    "```sh\n",
    "#!/bin/bash\n",
    "\n",
    "#SBATCH -J hello-truba    # job name\n",
    "#SBATCH -A basaglam       # username\n",
    "#SBATCH -p debug          # partition\n",
    "#SBATCH -N 1              # num server\n",
    "#SBATCH -n 2              # num threads\n",
    "#SBATCH -c 1              # num of copy\n",
    "#SBATCH --threads 1       # no hyperthreading\n",
    "\n",
    "date\n",
    "\n",
    "echo \"Hello Truba\"\n",
    "echo \"Current working directory: $(pwd)\"\n",
    "echo \"Host: $(hostname)\"\n",
    "echo \"Python3 version: $(python3 --version)\"\n",
    "ls -al > directory-content.txt\n",
    "touch example.txt\n",
    "\n",
    "date\n",
    "exit\n",
    "```"
   ]
  },
  {
   "cell_type": "markdown",
   "metadata": {},
   "source": [
    "There are sample Slurm scripts in `/truba/sw/scripts/` directory."
   ]
  },
  {
   "cell_type": "markdown",
   "metadata": {},
   "source": []
  }
 ],
 "metadata": {
  "kernelspec": {
   "display_name": "Python 3.10.8 ('fastmsc')",
   "language": "python",
   "name": "python3"
  },
  "language_info": {
   "name": "python",
   "version": "3.10.8"
  },
  "vscode": {
   "interpreter": {
    "hash": "91fd64a9f82c08b5b9c4eefd5eb8df7ed43624715c92da0c2ee59e7ef694c39c"
   }
  }
 },
 "nbformat": 4,
 "nbformat_minor": 4
}
