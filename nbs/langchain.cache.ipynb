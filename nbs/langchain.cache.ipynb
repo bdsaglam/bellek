{
 "cells": [
  {
   "attachments": {},
   "cell_type": "markdown",
   "metadata": {},
   "source": [
    "# Langchain caching"
   ]
  },
  {
   "cell_type": "code",
   "execution_count": null,
   "metadata": {},
   "outputs": [],
   "source": [
    "#|default_exp langchain.cache"
   ]
  },
  {
   "cell_type": "code",
   "execution_count": null,
   "metadata": {},
   "outputs": [],
   "source": [
    "#|hide\n",
    "from fastcore.test import *\n",
    "from nbdev.showdoc import *"
   ]
  },
  {
   "cell_type": "code",
   "execution_count": null,
   "metadata": {},
   "outputs": [],
   "source": [
    "#|export\n",
    "import os\n",
    "from pathlib import Path\n",
    "from typing import Optional\n",
    "from langchain_core.caches import BaseCache\n",
    "from langchain.globals import set_llm_cache as _set_llm_cache"
   ]
  },
  {
   "cell_type": "code",
   "execution_count": null,
   "metadata": {},
   "outputs": [],
   "source": [
    "#|export\n",
    "\n",
    "def _resolve_cache_path(path: str | Path | None = None) -> Path:\n",
    "    if path: \n",
    "        return path\n",
    "    default_path = Path.home() / \".cache/langchain.db\"\n",
    "    return Path(os.getenv(\"LANGCHAIN_CACHE_PATH\", default_path))\n",
    "\n",
    "\n",
    "def set_llm_cache(value: Optional[\"BaseCache\"], path: Path | str = None):\n",
    "    if value is None:\n",
    "        from langchain.cache import SQLiteCache\n",
    "        value = SQLiteCache(database_path=str(_resolve_cache_path(path)))\n",
    "\n",
    "    return _set_llm_cache(value)\n",
    "\n",
    "def unset_llm_cache():\n",
    "    return _set_llm_cache(None)"
   ]
  },
  {
   "cell_type": "code",
   "execution_count": null,
   "metadata": {},
   "outputs": [],
   "source": [
    "#|hide\n",
    "test_eq(str(_resolve_cache_path(\"/tmp/llm.db\")), \"/tmp/llm.db\")\n",
    "\n",
    "os.environ['LANGCHAIN_CACHE_PATH'] = \"/tmp/sqlite.db\"\n",
    "test_eq(str(_resolve_cache_path()), \"/tmp/sqlite.db\")\n",
    "\n",
    "del os.environ['LANGCHAIN_CACHE_PATH']\n",
    "test_eq(str(_resolve_cache_path()), str(Path.home() / \".cache/langchain.db\"))"
   ]
  },
  {
   "cell_type": "code",
   "execution_count": null,
   "metadata": {},
   "outputs": [],
   "source": [
    "#|hide\n",
    "import nbdev; nbdev.nbdev_export()"
   ]
  },
  {
   "cell_type": "code",
   "execution_count": null,
   "metadata": {},
   "outputs": [],
   "source": []
  }
 ],
 "metadata": {
  "kernelspec": {
   "display_name": "python3",
   "language": "python",
   "name": "python3"
  }
 },
 "nbformat": 4,
 "nbformat_minor": 2
}
