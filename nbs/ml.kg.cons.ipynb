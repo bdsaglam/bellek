{
 "cells": [
  {
   "cell_type": "markdown",
   "metadata": {},
   "source": [
    "# Knowledge Graph Construction\n",
    "> Relation and entity extraction from text"
   ]
  },
  {
   "cell_type": "code",
   "execution_count": null,
   "metadata": {},
   "outputs": [],
   "source": [
    "#| default_exp ml.kg.cons"
   ]
  },
  {
   "cell_type": "code",
   "execution_count": null,
   "metadata": {},
   "outputs": [],
   "source": [
    "#| hide\n",
    "from fastcore.test import *\n",
    "from nbdev.showdoc import *"
   ]
  },
  {
   "cell_type": "code",
   "execution_count": null,
   "metadata": {},
   "outputs": [],
   "source": [
    "#|export\n",
    "from typing import TypeAlias, Iterable, List, Set\n",
    "import numpy as np"
   ]
  },
  {
   "cell_type": "code",
   "execution_count": null,
   "metadata": {},
   "outputs": [],
   "source": [
    "#|export\n",
    "\n",
    "Entity: TypeAlias = tuple[str, str]\n",
    "Relation: TypeAlias = str\n",
    "Triplet: TypeAlias = tuple[Entity, Relation, Entity]"
   ]
  },
  {
   "cell_type": "code",
   "execution_count": null,
   "metadata": {},
   "outputs": [],
   "source": [
    "#|export\n",
    "\n",
    "def evaluate_joint_er_extraction(*, reference: Iterable[Triplet], prediction: Iterable[Triplet]):\n",
    "    \"\"\"\n",
    "    Example: [(('John', 'PERSON'), 'works_at', ('Google', 'ORG'))]\n",
    "    \"\"\"\n",
    "\n",
    "    reference_set = set(reference)\n",
    "    prediction_set = set(prediction)\n",
    "    assert len(reference) == len(reference_set), \"Duplicates found in references\"\n",
    "\n",
    "    TP = len(reference_set & prediction_set)\n",
    "    FP = len(prediction_set - reference_set)\n",
    "    FN = len(reference_set - prediction_set)\n",
    "    \n",
    "    # Calculate metrics\n",
    "    precision = TP / (TP + FP) if TP + FP > 0 else 0\n",
    "    recall = TP / (TP + FN) if TP + FN > 0 else 0\n",
    "    f1_score = 2 * (precision * recall) / (precision + recall) if precision + recall > 0 else 0\n",
    "    \n",
    "    return {\n",
    "        'precision': precision,\n",
    "        'recall': recall,\n",
    "        'f1': f1_score\n",
    "    }\n",
    "\n",
    "def evaluate_joint_er_extractions(*, references: Iterable[Iterable[Triplet]], predictions: Iterable[Iterable[Triplet]]):\n",
    "    score_dicts = [\n",
    "        evaluate_joint_er_extraction(reference=reference, prediction=prediction) \n",
    "        for reference, prediction in zip(references, predictions)\n",
    "    ]\n",
    "    return {('mean_' + key): np.mean([scores[key] for scores in score_dicts]) for key in score_dicts[0].keys()}"
   ]
  },
  {
   "cell_type": "code",
   "execution_count": null,
   "metadata": {},
   "outputs": [
    {
     "name": "stdout",
     "output_type": "stream",
     "text": [
      "{'precision': 0.5, 'recall': 0.3333333333333333, 'f1': 0.4}\n"
     ]
    }
   ],
   "source": [
    "reference = [(('John', 'PERSON'), 'works_at', ('Google', 'ORG')), (('Mike', 'PERSON'), 'lives_in', ('Paris', 'LOC')), (('Dwight', 'PERSON'), 'sells', ('Paper', 'OBJ'))]\n",
    "prediction = [(('John', 'PERSON'), 'works_at', ('Google', 'ORG')), (('Mike', 'PERSON'), 'lives_in', ('New York', 'LOC'))]\n",
    "\n",
    "scores = evaluate_joint_er_extraction(reference=reference, prediction=prediction)\n",
    "test_eq(scores, {'precision': 0.5, 'recall': 0.3333333333333333, 'f1': 0.4})\n",
    "print(scores)"
   ]
  },
  {
   "cell_type": "code",
   "execution_count": null,
   "metadata": {},
   "outputs": [
    {
     "name": "stdout",
     "output_type": "stream",
     "text": [
      "{'mean_precision': 0.25, 'mean_recall': 0.16666666666666666, 'mean_f1': 0.2}\n"
     ]
    }
   ],
   "source": [
    "references = [\n",
    "    [(('John', 'PERSON'), 'works_at', ('Google', 'ORG')), (('Mike', 'PERSON'), 'lives_in', ('Paris', 'LOC')), (('Dwight', 'PERSON'), 'sells', ('Paper', 'OBJ'))],\n",
    "    [(('Henry', 'PERSON'), 'founded', ('Ford', 'ORG'))],\n",
    "]\n",
    "predictions = [\n",
    "    [(('John', 'PERSON'), 'works_at', ('Google', 'ORG')), (('Mike', 'PERSON'), 'lives_in', ('New York', 'LOC'))],\n",
    "    [(('Henry', 'PERSON'), 'founded', ('Boston Dynamics', 'ORG'))],\n",
    "]\n",
    "\n",
    "scores = evaluate_joint_er_extractions(references=references, predictions=predictions)\n",
    "test_eq(scores, {'mean_precision': 0.25, 'mean_recall': 0.16666666666666666, 'mean_f1': 0.2})\n",
    "print(scores)"
   ]
  },
  {
   "cell_type": "code",
   "execution_count": null,
   "metadata": {},
   "outputs": [],
   "source": [
    "#| hide\n",
    "import nbdev; nbdev.nbdev_export()"
   ]
  }
 ],
 "metadata": {
  "kernelspec": {
   "display_name": "python3",
   "language": "python",
   "name": "python3"
  }
 },
 "nbformat": 4,
 "nbformat_minor": 2
}
