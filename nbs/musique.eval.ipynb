{
 "cells": [
  {
   "attachments": {},
   "cell_type": "markdown",
   "metadata": {},
   "source": [
    "# MuSiQue evaluation utilities"
   ]
  },
  {
   "cell_type": "code",
   "execution_count": null,
   "metadata": {},
   "outputs": [],
   "source": [
    "#|default_exp musique.eval"
   ]
  },
  {
   "cell_type": "code",
   "execution_count": null,
   "metadata": {},
   "outputs": [],
   "source": [
    "#|hide\n",
    "from fastcore.test import *\n",
    "from nbdev.showdoc import *"
   ]
  },
  {
   "cell_type": "code",
   "execution_count": null,
   "metadata": {},
   "outputs": [],
   "source": [
    "#|export\n",
    "\n",
    "import evaluate\n",
    "import pandas as pd\n",
    "\n",
    "from bellek.text.utils import fuzzy_match"
   ]
  },
  {
   "cell_type": "code",
   "execution_count": null,
   "metadata": {},
   "outputs": [],
   "source": [
    "#|export\n",
    "\n",
    "def calculate_metrics(dataf: pd.DataFrame) -> dict:\n",
    "    metric = evaluate.load(\"bdsaglam/musique\")\n",
    "    predictions = dataf[\"predicted_answer\"].tolist()\n",
    "    references = dataf[\"answers\"].tolist()\n",
    "    scores = metric.compute(predictions=predictions, references=references)\n",
    "    return scores"
   ]
  },
  {
   "cell_type": "code",
   "execution_count": null,
   "metadata": {},
   "outputs": [],
   "source": [
    "#|export\n",
    "\n",
    "def _exact_match(example):\n",
    "    pred = example['predicted_answer']\n",
    "    return pred is not None and any(pred == ref for ref in example['answers'])\n",
    "\n",
    "def _fuzzy_match(example):\n",
    "    pred = example['predicted_answer']\n",
    "    return pred is not None and any((pred in ref) or (ref in pred) or fuzzy_match(pred, ref) for ref in example['answers'])\n",
    "\n",
    "\n",
    "def compare_answers(dataf: pd.DataFrame) -> pd.DataFrame:\n",
    "    dataf['exact_match'] = dataf.apply(_exact_match, axis=1)\n",
    "    dataf['fuzzy_match'] = dataf.apply(_fuzzy_match, axis=1)\n",
    "    return dataf"
   ]
  },
  {
   "cell_type": "code",
   "execution_count": null,
   "metadata": {},
   "outputs": [],
   "source": [
    "#|hide\n",
    "import nbdev; nbdev.nbdev_export()"
   ]
  }
 ],
 "metadata": {
  "kernelspec": {
   "display_name": "python3",
   "language": "python",
   "name": "python3"
  }
 },
 "nbformat": 4,
 "nbformat_minor": 2
}
