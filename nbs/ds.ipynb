{
 "cells": [
  {
   "cell_type": "code",
   "execution_count": null,
   "metadata": {},
   "outputs": [],
   "source": [
    "#|default_exp ds"
   ]
  },
  {
   "attachments": {},
   "cell_type": "markdown",
   "metadata": {},
   "source": [
    "# Data Structures"
   ]
  },
  {
   "cell_type": "code",
   "execution_count": null,
   "metadata": {},
   "outputs": [],
   "source": [
    "#|hide\n",
    "from fastcore.test import *\n",
    "from nbdev.showdoc import *"
   ]
  },
  {
   "attachments": {},
   "cell_type": "markdown",
   "metadata": {},
   "source": [
    "## Nested dictionary "
   ]
  },
  {
   "cell_type": "code",
   "execution_count": null,
   "metadata": {},
   "outputs": [],
   "source": [
    "#|export\n",
    "\n",
    "def flatten_dict(d: dict, sep='.') -> dict:\n",
    "    def recurse(subdict, parent_key=None):\n",
    "        result = {}\n",
    "        for k, v in subdict.items():\n",
    "            new_key = f\"{parent_key}{sep}{k}\" if parent_key else k\n",
    "            if isinstance(v, dict):\n",
    "                result.update(recurse(v, new_key))\n",
    "            else:\n",
    "                result[new_key] = v\n",
    "        return result\n",
    "\n",
    "    return recurse(d)\n",
    "\n",
    "def unflatten_dict(d: dict, sep='.') -> dict:\n",
    "    res = {}\n",
    "    for k, v in d.items():\n",
    "        subkeys = k.split(sep)\n",
    "        container = res\n",
    "        for subkey in subkeys[:-1]:\n",
    "            if subkey not in container:\n",
    "                container[subkey] = {}\n",
    "            container = container[subkey]\n",
    "        container[subkeys[-1]] = v\n",
    "    return res"
   ]
  },
  {
   "cell_type": "code",
   "execution_count": null,
   "metadata": {},
   "outputs": [],
   "source": [
    "#|hide\n",
    "\n",
    "noop_cases = [{}, {'a': 1, 'b': 2}]\n",
    "for d in noop_cases:\n",
    "    test_eq(flatten_dict(d), d)\n",
    "    test_eq(unflatten_dict(d), d)"
   ]
  },
  {
   "cell_type": "code",
   "execution_count": null,
   "metadata": {},
   "outputs": [],
   "source": [
    "#|hide\n",
    "\n",
    "nested_dict = {\n",
    "    'dataset_path': 'a/b/c/d',\n",
    "    'train': {\n",
    "        'lr': 1e-4,\n",
    "        'n_epoch': 10,\n",
    "        'early_stop': {\n",
    "            'patience': 10,\n",
    "            'metric': 'val_loss',\n",
    "        }\n",
    "    },\n",
    "    'wandb': {\n",
    "        'username': 'bdsaglam',\n",
    "        'project': 'project-x',\n",
    "    }\n",
    "}\n",
    "\n",
    "flat_dict = {\n",
    "    'dataset_path': 'a/b/c/d',\n",
    "    'train/lr': 0.0001,\n",
    "    'train/n_epoch': 10,\n",
    "    'train/early_stop/patience': 10,\n",
    "    'train/early_stop/metric': 'val_loss',\n",
    "    'wandb/username': 'bdsaglam',\n",
    "    'wandb/project': 'project-x',\n",
    "}\n",
    "\n",
    "test_eq(flatten_dict(nested_dict, sep='/'), flat_dict)\n",
    "test_eq(unflatten_dict(flat_dict, sep='/'), nested_dict)"
   ]
  },
  {
   "cell_type": "code",
   "execution_count": null,
   "metadata": {},
   "outputs": [],
   "source": [
    "#|export\n",
    "\n",
    "class NestedDict(dict):\n",
    "    def __init__(self, data, sep='.'):\n",
    "        super().__init__(data)\n",
    "        self.sep = sep\n",
    "    \n",
    "    def at(self, keys: str | list | tuple, default=None):\n",
    "        if isinstance(keys, str):\n",
    "            keys = keys.split(self.sep)\n",
    "        node = self\n",
    "        for key in keys:\n",
    "            if key not in node:\n",
    "                return default\n",
    "            node = node.get(key)\n",
    "        return node\n",
    "\n",
    "    def set(self, keys: str | list | tuple, value):\n",
    "        if isinstance(keys, str):\n",
    "            keys = keys.split(self.sep)\n",
    "        node = self\n",
    "        last_key = keys.pop()\n",
    "        for key in keys:\n",
    "            if key not in node:\n",
    "                node[key] = dict()\n",
    "            node = node[key]\n",
    "        node[last_key] = value\n",
    "\n",
    "    def flat(self) -> dict:\n",
    "        return flatten_dict(self, sep=self.sep)\n",
    "    \n",
    "    @classmethod\n",
    "    def from_flat_dict(cls, data, sep='.'):\n",
    "        return cls(unflatten_dict(data, sep=sep))\n",
    "     "
   ]
  },
  {
   "cell_type": "code",
   "execution_count": null,
   "metadata": {},
   "outputs": [],
   "source": [
    "#|hide\n",
    "nested_dict = NestedDict(nested_dict, sep='.')\n",
    "\n",
    "test_eq(nested_dict.at('wandb'), nested_dict['wandb'])\n",
    "test_eq(nested_dict.at(['wandb']), nested_dict['wandb'])\n",
    "test_eq(nested_dict.at('wandb.username'), 'bdsaglam')\n",
    "test_eq(nested_dict.at(['train', 'lr']), nested_dict['train']['lr'])\n",
    "test_eq(nested_dict.at('a.b.c'), None)\n",
    "test_eq(nested_dict.at('train.non-existing-field'), None)\n",
    "test_eq(nested_dict.at('train.non-existing-field', 0), 0)\n",
    "\n",
    "nested_dict.set('dataset_path', '/newpath')\n",
    "test_eq(nested_dict.at('dataset_path'), '/newpath')\n",
    "nested_dict.set('train.lr', 1)\n",
    "test_eq(nested_dict.at('train.lr'), 1)\n",
    "nested_dict.set('train.optimizer.name', 'adam')\n",
    "nested_dict.set('train.optimizer.momentum', 0.9)\n",
    "test_eq(nested_dict.at('train.optimizer.name'), 'adam')\n",
    "test_eq(nested_dict.at('train.optimizer.momentum'), 0.9)"
   ]
  },
  {
   "cell_type": "code",
   "execution_count": null,
   "metadata": {},
   "outputs": [],
   "source": [
    "#|hide\n",
    "nested_dict = NestedDict.from_flat_dict({'a/b/c': 1, 'd': 2}, sep='/')\n",
    "test_eq(dict(nested_dict), {'a': {'b': {'c': 1}}, 'd': 2})"
   ]
  },
  {
   "cell_type": "code",
   "execution_count": null,
   "metadata": {},
   "outputs": [],
   "source": [
    "#|hide\n",
    "import nbdev; nbdev.nbdev_export()"
   ]
  }
 ],
 "metadata": {
  "kernelspec": {
   "display_name": "python3",
   "language": "python",
   "name": "python3"
  }
 },
 "nbformat": 4,
 "nbformat_minor": 2
}
