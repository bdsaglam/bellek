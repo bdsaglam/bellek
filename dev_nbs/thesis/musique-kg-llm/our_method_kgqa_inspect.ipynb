{
 "cells": [
  {
   "cell_type": "code",
   "execution_count": null,
   "metadata": {},
   "outputs": [],
   "source": [
    "import json\n",
    "import logging\n",
    "from copy import deepcopy\n",
    "from datetime import datetime\n",
    "from functools import partial\n",
    "from pathlib import Path\n",
    "\n",
    "import pandas as pd\n",
    "from dotenv import load_dotenv\n",
    "from tqdm.auto import tqdm\n",
    "from IPython.display import clear_output\n",
    "\n",
    "from bellek.utils import set_seed\n",
    "\n",
    "load_dotenv()\n",
    "\n",
    "tqdm.pandas()\n",
    "pd.options.display.float_format = \"{:,.3f}\".format\n",
    "\n",
    "set_seed(89)"
   ]
  },
  {
   "cell_type": "code",
   "execution_count": null,
   "metadata": {},
   "outputs": [],
   "source": [
    "import textwrap\n",
    "\n",
    "def format_paragraph(paragraph):\n",
    "    return f\"Paragraph {paragraph['idx']} - {paragraph['paragraph_text']}\"\n",
    "\n",
    "def present_row(row):\n",
    "    outcome = \"Success\" if row['fuzzy_match'] else \"Fail\"\n",
    "    print(row['id'])\n",
    "    print(f\"Outcome: {outcome}\")\n",
    "    print()\n",
    "    print(\"# Question decomposition\")\n",
    "    print(\"## Reference\")\n",
    "    print(row['question'])\n",
    "    for item in row['question_decomposition_original']:\n",
    "        q = item['question']\n",
    "        a = item['answer']\n",
    "        print(f\"\\t{q}\")\n",
    "        print(f\"\\t\\t{a}\")\n",
    "    print()\n",
    "    print(\"## Prediction\")\n",
    "    for item in row['question_decomposition']:\n",
    "        q = item['question']\n",
    "        a = item['answer']\n",
    "        print(f\"\\t{q}\")\n",
    "        print(f\"\\t\\t{a}\")\n",
    "    print()\n",
    "    print(\"# Answer\")\n",
    "    print(f\"Reference: {row['answers']}\")\n",
    "    print(f\"Prediction: {row['predicted_answer']}\")\n",
    "    print()\n",
    "    print(\"# Context\")\n",
    "    print(\"# Reference\")\n",
    "    for p in row['paragraphs_original']:\n",
    "        if p['is_supporting']:\n",
    "            for line in textwrap.wrap(format_paragraph(p), width=120):\n",
    "                print(line)\n",
    "            print()\n",
    "\n",
    "    print(\"# Prediction\")\n",
    "    for p in row['paragraphs']:\n",
    "        if p['is_supporting']:\n",
    "            for line in textwrap.wrap(format_paragraph(p), width=120):\n",
    "                print(line)\n",
    "            print()"
   ]
  },
  {
   "cell_type": "code",
   "execution_count": null,
   "metadata": {},
   "outputs": [],
   "source": [
    "def partition_by_success(dataf):\n",
    "    fail_dataf = dataf.loc[~dataf['fuzzy_match']]\n",
    "    success_dataf = dataf.loc[dataf['fuzzy_match']]\n",
    "    print(len(success_dataf), len(fail_dataf))\n",
    "    print(f\"{len(success_dataf)/len(dataf):.2f}\", f\"{len(fail_dataf)/len(dataf):.2f}\")\n",
    "    return success_dataf, fail_dataf"
   ]
  },
  {
   "cell_type": "code",
   "execution_count": null,
   "metadata": {},
   "outputs": [],
   "source": [
    "res_df = pd.read_json('our-method-kgqa-results-20240908-134424.jsonl', lines=True)\n",
    "original_df = pd.read_json(\"../../data/generated/musique-evaluation/dataset.jsonl\", orient=\"records\", lines=True)\n",
    "df = pd.merge(res_df, original_df[['id', 'paragraphs', 'question_decomposition']], on=\"id\", suffixes=(\"\", \"_original\"))\n",
    "df.head()"
   ]
  },
  {
   "cell_type": "code",
   "execution_count": null,
   "metadata": {},
   "outputs": [],
   "source": [
    "success_df, fail_df = partition_by_success(df)"
   ]
  },
  {
   "cell_type": "code",
   "execution_count": null,
   "metadata": {},
   "outputs": [],
   "source": [
    "i = 0\n",
    "row = fail_df.iloc[i]\n",
    "present_row(row)"
   ]
  },
  {
   "cell_type": "code",
   "execution_count": null,
   "metadata": {},
   "outputs": [],
   "source": [
    "failure_reasons = {}"
   ]
  },
  {
   "cell_type": "code",
   "execution_count": null,
   "metadata": {},
   "outputs": [],
   "source": [
    "for i in range(len(fail_df.sort_values('id'))):\n",
    "    row = fail_df.iloc[i]\n",
    "    id = row['id']\n",
    "    if id in failure_reasons:\n",
    "        continue\n",
    "    present_row(row)\n",
    "    reason = input(\"Reason: \")\n",
    "    if reason.lower() == 'quit':\n",
    "        break\n",
    "    failure_reasons[id] = reason\n",
    "    clear_output(wait=True)"
   ]
  },
  {
   "cell_type": "code",
   "execution_count": null,
   "metadata": {},
   "outputs": [],
   "source": [
    "failure_reasons"
   ]
  },
  {
   "cell_type": "code",
   "execution_count": null,
   "metadata": {},
   "outputs": [],
   "source": [
    "with open('kgqa-inspect-failure-reasons.json', 'w') as f:\n",
    "    json.dump(failure_reasons, f, indent=2)"
   ]
  }
 ],
 "metadata": {
  "kernelspec": {
   "display_name": "baris",
   "language": "python",
   "name": "python3"
  },
  "language_info": {
   "codemirror_mode": {
    "name": "ipython",
    "version": 3
   },
   "file_extension": ".py",
   "mimetype": "text/x-python",
   "name": "python",
   "nbconvert_exporter": "python",
   "pygments_lexer": "ipython3",
   "version": "undefined.undefined.undefined"
  }
 },
 "nbformat": 4,
 "nbformat_minor": 2
}
