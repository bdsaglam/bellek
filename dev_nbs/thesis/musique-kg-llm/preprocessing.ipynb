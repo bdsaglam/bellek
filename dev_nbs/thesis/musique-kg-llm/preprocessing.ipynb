{
 "cells": [
  {
   "cell_type": "code",
   "execution_count": null,
   "id": "382d897e-c88b-4af5-bcbf-df8a74497166",
   "metadata": {},
   "outputs": [],
   "source": [
    "from datasets import load_dataset\n",
    "\n",
    "dataset_config = {\n",
    "    \"path\": \"bdsaglam/musique-answerable-2hop\",\n",
    "    \"split\": \"train[:200]\"\n",
    "}\n",
    "\n",
    "ds = load_dataset(**dataset_config)"
   ]
  },
  {
   "cell_type": "code",
   "execution_count": null,
   "id": "b9e2824c-7e11-4567-9b95-46348e25c105",
   "metadata": {},
   "outputs": [],
   "source": [
    "def is_about_record_label(example):\n",
    "    document = ' '.join([p['paragraph_text'] for p in example['paragraphs'] if p['is_supporting']])\n",
    "    question = example['question']\n",
    "    keywords = [\"record label\"]\n",
    "    return any(keyword in question.lower() or keyword in document for keyword in keywords)\n",
    "    \n",
    "new_ds = ds.filter(lambda example: not is_about_record_label(example))"
   ]
  },
  {
   "cell_type": "code",
   "execution_count": null,
   "id": "1818c72f-a39d-4a00-8ba5-27792c7f1f42",
   "metadata": {},
   "outputs": [
    {
     "data": {
      "text/plain": [
       "(200, 143)"
      ]
     },
     "execution_count": null,
     "metadata": {},
     "output_type": "execute_result"
    }
   ],
   "source": [
    "len(ds), len(new_ds)"
   ]
  },
  {
   "cell_type": "code",
   "execution_count": null,
   "id": "00f6ba90-582f-495b-8130-676d167c8a56",
   "metadata": {},
   "outputs": [],
   "source": []
  }
 ],
 "metadata": {
  "kernelspec": {
   "display_name": "python3",
   "language": "python",
   "name": "python3"
  }
 },
 "nbformat": 4,
 "nbformat_minor": 5
}
