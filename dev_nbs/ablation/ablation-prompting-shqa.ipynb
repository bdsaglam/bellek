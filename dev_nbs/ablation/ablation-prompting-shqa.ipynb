{
 "cells": [
  {
   "cell_type": "code",
   "execution_count": 1,
   "metadata": {},
   "outputs": [
    {
     "data": {
      "text/plain": [
       "True"
      ]
     },
     "execution_count": 1,
     "metadata": {},
     "output_type": "execute_result"
    }
   ],
   "source": [
    "from dotenv import load_dotenv\n",
    "load_dotenv()"
   ]
  },
  {
   "cell_type": "code",
   "execution_count": 2,
   "metadata": {},
   "outputs": [
    {
     "name": "stderr",
     "output_type": "stream",
     "text": [
      "/home/pc/anaconda3/envs/baris/lib/python3.10/site-packages/torch/cuda/__init__.py:619: UserWarning: Can't initialize NVML\n",
      "  warnings.warn(\"Can't initialize NVML\")\n"
     ]
    }
   ],
   "source": [
    "import json\n",
    "import pandas as pd\n",
    "from pathlib import Path\n",
    "from copy import deepcopy\n",
    "from functools import partial\n",
    "\n",
    "from bellek.qa.ablation import answer_question, answer_question_with_reasoning, answer_question_with_triplets, answer_question_reasoning_with_triplets\n",
    "from bellek.utils import set_seed, jprint\n",
    "from bellek.musique.singlehop import benchmark\n",
    "\n",
    "set_seed(89)"
   ]
  },
  {
   "cell_type": "code",
   "execution_count": 3,
   "metadata": {},
   "outputs": [],
   "source": [
    "from tqdm.auto import tqdm\n",
    "tqdm.pandas()"
   ]
  },
  {
   "cell_type": "code",
   "execution_count": 4,
   "metadata": {},
   "outputs": [
    {
     "name": "stdout",
     "output_type": "stream",
     "text": [
      "(100, 8)\n"
     ]
    },
    {
     "data": {
      "text/html": [
       "<div>\n",
       "<style scoped>\n",
       "    .dataframe tbody tr th:only-of-type {\n",
       "        vertical-align: middle;\n",
       "    }\n",
       "\n",
       "    .dataframe tbody tr th {\n",
       "        vertical-align: top;\n",
       "    }\n",
       "\n",
       "    .dataframe thead th {\n",
       "        text-align: right;\n",
       "    }\n",
       "</style>\n",
       "<table border=\"1\" class=\"dataframe\">\n",
       "  <thead>\n",
       "    <tr style=\"text-align: right;\">\n",
       "      <th></th>\n",
       "      <th>id</th>\n",
       "      <th>paragraphs</th>\n",
       "      <th>answer</th>\n",
       "      <th>answer_aliases</th>\n",
       "      <th>answerable</th>\n",
       "      <th>answers</th>\n",
       "      <th>question</th>\n",
       "      <th>question_decomposition</th>\n",
       "    </tr>\n",
       "  </thead>\n",
       "  <tbody>\n",
       "    <tr>\n",
       "      <th>0</th>\n",
       "      <td>2hop__575188_342798</td>\n",
       "      <td>[{'idx': 0, 'title': 'Liliana Mumy', 'paragrap...</td>\n",
       "      <td>Ahmad Shah Qajar</td>\n",
       "      <td>[Ahmad Shah Qajar]</td>\n",
       "      <td>True</td>\n",
       "      <td>[Ahmad Shah Qajar]</td>\n",
       "      <td>Who is the child of Mahmoud Mirza's father?</td>\n",
       "      <td>[{'id': 575188, 'question': 'Who is Mahmoud Mi...</td>\n",
       "    </tr>\n",
       "    <tr>\n",
       "      <th>1</th>\n",
       "      <td>2hop__731584_700117</td>\n",
       "      <td>[{'idx': 0, 'title': 'KAPE', 'paragraph_text':...</td>\n",
       "      <td>Berrien County</td>\n",
       "      <td>[Berrien County]</td>\n",
       "      <td>True</td>\n",
       "      <td>[Berrien County]</td>\n",
       "      <td>In which county is the city to which KKVU is l...</td>\n",
       "      <td>[{'id': 731584, 'question': 'To which city is ...</td>\n",
       "    </tr>\n",
       "    <tr>\n",
       "      <th>2</th>\n",
       "      <td>2hop__690412_526810</td>\n",
       "      <td>[{'idx': 0, 'title': 'Cabramatta Creek', 'para...</td>\n",
       "      <td>Chao Phraya River</td>\n",
       "      <td>[Chao Phraya River]</td>\n",
       "      <td>True</td>\n",
       "      <td>[Chao Phraya River]</td>\n",
       "      <td>For what river does the river on which Pa Sak ...</td>\n",
       "      <td>[{'id': 690412, 'question': 'On which river is...</td>\n",
       "    </tr>\n",
       "    <tr>\n",
       "      <th>3</th>\n",
       "      <td>2hop__263638_69048</td>\n",
       "      <td>[{'idx': 0, 'title': 'Michael J. Barron', 'par...</td>\n",
       "      <td>Honorable Justice Abiodun Smith</td>\n",
       "      <td>[Honorable Justice Abiodun Smith]</td>\n",
       "      <td>True</td>\n",
       "      <td>[Honorable Justice Abiodun Smith]</td>\n",
       "      <td>Who is the Chief Judge of the Tebesa Nemine's ...</td>\n",
       "      <td>[{'id': 263638, 'question': 'Where was Tebesa ...</td>\n",
       "    </tr>\n",
       "    <tr>\n",
       "      <th>4</th>\n",
       "      <td>2hop__142842_68489</td>\n",
       "      <td>[{'idx': 0, 'title': 'Perfect Night: Live in L...</td>\n",
       "      <td>Snapper Foster</td>\n",
       "      <td>[Snapper Foster]</td>\n",
       "      <td>True</td>\n",
       "      <td>[Snapper Foster]</td>\n",
       "      <td>Who did the performer of Night Rocker play on ...</td>\n",
       "      <td>[{'id': 142842, 'question': 'Who performed Nig...</td>\n",
       "    </tr>\n",
       "  </tbody>\n",
       "</table>\n",
       "</div>"
      ],
      "text/plain": [
       "                    id                                         paragraphs  \\\n",
       "0  2hop__575188_342798  [{'idx': 0, 'title': 'Liliana Mumy', 'paragrap...   \n",
       "1  2hop__731584_700117  [{'idx': 0, 'title': 'KAPE', 'paragraph_text':...   \n",
       "2  2hop__690412_526810  [{'idx': 0, 'title': 'Cabramatta Creek', 'para...   \n",
       "3   2hop__263638_69048  [{'idx': 0, 'title': 'Michael J. Barron', 'par...   \n",
       "4   2hop__142842_68489  [{'idx': 0, 'title': 'Perfect Night: Live in L...   \n",
       "\n",
       "                            answer                     answer_aliases  \\\n",
       "0                 Ahmad Shah Qajar                 [Ahmad Shah Qajar]   \n",
       "1                   Berrien County                   [Berrien County]   \n",
       "2                Chao Phraya River                [Chao Phraya River]   \n",
       "3  Honorable Justice Abiodun Smith  [Honorable Justice Abiodun Smith]   \n",
       "4                   Snapper Foster                   [Snapper Foster]   \n",
       "\n",
       "   answerable                            answers  \\\n",
       "0        True                 [Ahmad Shah Qajar]   \n",
       "1        True                   [Berrien County]   \n",
       "2        True                [Chao Phraya River]   \n",
       "3        True  [Honorable Justice Abiodun Smith]   \n",
       "4        True                   [Snapper Foster]   \n",
       "\n",
       "                                            question  \\\n",
       "0        Who is the child of Mahmoud Mirza's father?   \n",
       "1  In which county is the city to which KKVU is l...   \n",
       "2  For what river does the river on which Pa Sak ...   \n",
       "3  Who is the Chief Judge of the Tebesa Nemine's ...   \n",
       "4  Who did the performer of Night Rocker play on ...   \n",
       "\n",
       "                              question_decomposition  \n",
       "0  [{'id': 575188, 'question': 'Who is Mahmoud Mi...  \n",
       "1  [{'id': 731584, 'question': 'To which city is ...  \n",
       "2  [{'id': 690412, 'question': 'On which river is...  \n",
       "3  [{'id': 263638, 'question': 'Where was Tebesa ...  \n",
       "4  [{'id': 142842, 'question': 'Who performed Nig...  "
      ]
     },
     "execution_count": 4,
     "metadata": {},
     "output_type": "execute_result"
    }
   ],
   "source": [
    "from bellek.musique.constants import ABLATION_RECORD_IDS\n",
    "\n",
    "df = pd.read_json('../../data/generated/musique-evaluation/dataset.jsonl', orient='records', lines=True)\n",
    "df = df.set_index('id', drop=False).loc[ABLATION_RECORD_IDS].copy().reset_index(drop=True)\n",
    "qd_df = pd.read_json('../../data/generated/musique-evaluation/question-decomposition.jsonl', orient='records', lines=True)\n",
    "df = pd.merge(df.drop(columns=['question', 'question_decomposition']), qd_df, on='id', suffixes=('', ''))\n",
    "# df = df.head(10)\n",
    "\n",
    "print(df.shape)\n",
    "df.head()"
   ]
  },
  {
   "cell_type": "code",
   "execution_count": 5,
   "metadata": {},
   "outputs": [],
   "source": [
    "perfect_retrieval_func = lambda docs, query: [doc for doc in docs if doc['is_supporting']]"
   ]
  },
  {
   "cell_type": "code",
   "execution_count": 6,
   "metadata": {},
   "outputs": [],
   "source": [
    "N_RUNS = 3\n",
    "results = []"
   ]
  },
  {
   "cell_type": "code",
   "execution_count": 7,
   "metadata": {},
   "outputs": [
    {
     "data": {
      "application/vnd.jupyter.widget-view+json": {
       "model_id": "f0fc0aad22b14aa3b63ec66346baf5e2",
       "version_major": 2,
       "version_minor": 0
      },
      "text/plain": [
       "  0%|          | 0/100 [00:00<?, ?it/s]"
      ]
     },
     "metadata": {},
     "output_type": "display_data"
    },
    {
     "name": "stdout",
     "output_type": "stream",
     "text": [
      "{\n",
      "  \"exact_match\": 0.58,\n",
      "  \"f1\": 0.6739117287940816,\n",
      "  \"fuzzy_match\": 0.7\n",
      "}\n"
     ]
    },
    {
     "data": {
      "application/vnd.jupyter.widget-view+json": {
       "model_id": "27f02ce9045f4f47bcc11e4a53068bc3",
       "version_major": 2,
       "version_minor": 0
      },
      "text/plain": [
       "  0%|          | 0/100 [00:00<?, ?it/s]"
      ]
     },
     "metadata": {},
     "output_type": "display_data"
    },
    {
     "name": "stdout",
     "output_type": "stream",
     "text": [
      "{\n",
      "  \"exact_match\": 0.6,\n",
      "  \"f1\": 0.6859117287940816,\n",
      "  \"fuzzy_match\": 0.72\n",
      "}\n"
     ]
    },
    {
     "data": {
      "application/vnd.jupyter.widget-view+json": {
       "model_id": "864b51f5f852499a913f6bdd9b422501",
       "version_major": 2,
       "version_minor": 0
      },
      "text/plain": [
       "  0%|          | 0/100 [00:00<?, ?it/s]"
      ]
     },
     "metadata": {},
     "output_type": "display_data"
    },
    {
     "name": "stdout",
     "output_type": "stream",
     "text": [
      "{\n",
      "  \"exact_match\": 0.58,\n",
      "  \"f1\": 0.6699117287940817,\n",
      "  \"fuzzy_match\": 0.7\n",
      "}\n"
     ]
    }
   ],
   "source": [
    "for i in range(1, N_RUNS+1):\n",
    "    df_standard, scores = benchmark(df, answer_question, perfect_retrieval_func, ignore_errors=True)\n",
    "    results.append({**scores, \"retrieval\": \"groundtruth\", \"context\": \"paragraphs\", \"qa\": \"standard\", \"run\": i})\n",
    "    jprint(scores)"
   ]
  },
  {
   "cell_type": "code",
   "execution_count": 8,
   "metadata": {},
   "outputs": [
    {
     "data": {
      "application/vnd.jupyter.widget-view+json": {
       "model_id": "8bb4e06b894c4d8d9e157cb44a0701ff",
       "version_major": 2,
       "version_minor": 0
      },
      "text/plain": [
       "  0%|          | 0/100 [00:00<?, ?it/s]"
      ]
     },
     "metadata": {},
     "output_type": "display_data"
    },
    {
     "name": "stdout",
     "output_type": "stream",
     "text": [
      "{\n",
      "  \"exact_match\": 0.45,\n",
      "  \"f1\": 0.5936246110211627,\n",
      "  \"fuzzy_match\": 0.59\n",
      "}\n"
     ]
    },
    {
     "data": {
      "application/vnd.jupyter.widget-view+json": {
       "model_id": "4803f9758f0045b2ad41d67e762dfc58",
       "version_major": 2,
       "version_minor": 0
      },
      "text/plain": [
       "  0%|          | 0/100 [00:00<?, ?it/s]"
      ]
     },
     "metadata": {},
     "output_type": "display_data"
    },
    {
     "name": "stdout",
     "output_type": "stream",
     "text": [
      "{\n",
      "  \"exact_match\": 0.45,\n",
      "  \"f1\": 0.5761277056277057,\n",
      "  \"fuzzy_match\": 0.59\n",
      "}\n"
     ]
    },
    {
     "data": {
      "application/vnd.jupyter.widget-view+json": {
       "model_id": "89e37d84addc49a6ae032a59326b1d2b",
       "version_major": 2,
       "version_minor": 0
      },
      "text/plain": [
       "  0%|          | 0/100 [00:00<?, ?it/s]"
      ]
     },
     "metadata": {},
     "output_type": "display_data"
    },
    {
     "name": "stdout",
     "output_type": "stream",
     "text": [
      "{\n",
      "  \"exact_match\": 0.46,\n",
      "  \"f1\": 0.5999610389610389,\n",
      "  \"fuzzy_match\": 0.62\n",
      "}\n"
     ]
    }
   ],
   "source": [
    "for i in range(1, N_RUNS+1):\n",
    "    df_cot, scores = benchmark(df, answer_question_with_reasoning, perfect_retrieval_func, ignore_errors=True)\n",
    "    results.append({**scores, \"retrieval\": \"groundtruth\", \"context\": \"paragraphs\", \"qa\": \"cot\", \"run\": i})\n",
    "    jprint(scores)"
   ]
  },
  {
   "cell_type": "code",
   "execution_count": 9,
   "metadata": {},
   "outputs": [
    {
     "data": {
      "application/vnd.jupyter.widget-view+json": {
       "model_id": "935eae8e4f0742af9eb84f284b565ddb",
       "version_major": 2,
       "version_minor": 0
      },
      "text/plain": [
       "  0%|          | 0/100 [00:00<?, ?it/s]"
      ]
     },
     "metadata": {},
     "output_type": "display_data"
    },
    {
     "name": "stdout",
     "output_type": "stream",
     "text": [
      "{\n",
      "  \"exact_match\": 0.59,\n",
      "  \"f1\": 0.7154314764183185,\n",
      "  \"fuzzy_match\": 0.73\n",
      "}\n"
     ]
    },
    {
     "data": {
      "application/vnd.jupyter.widget-view+json": {
       "model_id": "ff2427d815214dfd873aa51e0cf8987e",
       "version_major": 2,
       "version_minor": 0
      },
      "text/plain": [
       "  0%|          | 0/100 [00:00<?, ?it/s]"
      ]
     },
     "metadata": {},
     "output_type": "display_data"
    },
    {
     "name": "stdout",
     "output_type": "stream",
     "text": [
      "{\n",
      "  \"exact_match\": 0.58,\n",
      "  \"f1\": 0.7056391647568119,\n",
      "  \"fuzzy_match\": 0.71\n",
      "}\n"
     ]
    },
    {
     "data": {
      "application/vnd.jupyter.widget-view+json": {
       "model_id": "0dbb1e0257ed449ca1f8840489889ed4",
       "version_major": 2,
       "version_minor": 0
      },
      "text/plain": [
       "  0%|          | 0/100 [00:00<?, ?it/s]"
      ]
     },
     "metadata": {},
     "output_type": "display_data"
    },
    {
     "name": "stdout",
     "output_type": "stream",
     "text": [
      "{\n",
      "  \"exact_match\": 0.59,\n",
      "  \"f1\": 0.7224011733880156,\n",
      "  \"fuzzy_match\": 0.73\n",
      "}\n"
     ]
    }
   ],
   "source": [
    "for i in range(1, N_RUNS+1):\n",
    "    df_cte, scores = benchmark(df, answer_question_with_triplets, perfect_retrieval_func, ignore_errors=True)\n",
    "    results.append({**scores, \"retrieval\": \"groundtruth\", \"context\": \"paragraphs\", \"qa\": \"cte\", \"run\": i})\n",
    "    jprint(scores)"
   ]
  },
  {
   "cell_type": "code",
   "execution_count": 10,
   "metadata": {},
   "outputs": [
    {
     "data": {
      "application/vnd.jupyter.widget-view+json": {
       "model_id": "9cee9ddd603b49eea8e53153e3f06bce",
       "version_major": 2,
       "version_minor": 0
      },
      "text/plain": [
       "  0%|          | 0/100 [00:00<?, ?it/s]"
      ]
     },
     "metadata": {},
     "output_type": "display_data"
    },
    {
     "name": "stdout",
     "output_type": "stream",
     "text": [
      "{\n",
      "  \"exact_match\": 0.53,\n",
      "  \"f1\": 0.6636184764760477,\n",
      "  \"fuzzy_match\": 0.68\n",
      "}\n"
     ]
    },
    {
     "data": {
      "application/vnd.jupyter.widget-view+json": {
       "model_id": "8f76857b8cb54a45b59087bb40124c35",
       "version_major": 2,
       "version_minor": 0
      },
      "text/plain": [
       "  0%|          | 0/100 [00:00<?, ?it/s]"
      ]
     },
     "metadata": {},
     "output_type": "display_data"
    },
    {
     "name": "stdout",
     "output_type": "stream",
     "text": [
      "{\n",
      "  \"exact_match\": 0.5,\n",
      "  \"f1\": 0.6489337474120082,\n",
      "  \"fuzzy_match\": 0.69\n",
      "}\n"
     ]
    },
    {
     "data": {
      "application/vnd.jupyter.widget-view+json": {
       "model_id": "5ece74ffb26e4857a5c664c2fc35c430",
       "version_major": 2,
       "version_minor": 0
      },
      "text/plain": [
       "  0%|          | 0/100 [00:00<?, ?it/s]"
      ]
     },
     "metadata": {},
     "output_type": "display_data"
    },
    {
     "name": "stdout",
     "output_type": "stream",
     "text": [
      "{\n",
      "  \"exact_match\": 0.55,\n",
      "  \"f1\": 0.6791877156659766,\n",
      "  \"fuzzy_match\": 0.7\n",
      "}\n"
     ]
    }
   ],
   "source": [
    "for i in range(1, N_RUNS+1):\n",
    "    df_cte_cot, scores = benchmark(df, answer_question_reasoning_with_triplets, perfect_retrieval_func, ignore_errors=True)\n",
    "    results.append({**scores, \"retrieval\": \"groundtruth\", \"context\": \"paragraphs\", \"qa\": \"cte+cot\", \"run\": i})\n",
    "    jprint(scores)"
   ]
  },
  {
   "cell_type": "markdown",
   "metadata": {},
   "source": [
    "# Report"
   ]
  },
  {
   "cell_type": "code",
   "execution_count": 11,
   "metadata": {},
   "outputs": [
    {
     "data": {
      "text/html": [
       "<div>\n",
       "<style scoped>\n",
       "    .dataframe tbody tr th:only-of-type {\n",
       "        vertical-align: middle;\n",
       "    }\n",
       "\n",
       "    .dataframe tbody tr th {\n",
       "        vertical-align: top;\n",
       "    }\n",
       "\n",
       "    .dataframe thead th {\n",
       "        text-align: right;\n",
       "    }\n",
       "</style>\n",
       "<table border=\"1\" class=\"dataframe\">\n",
       "  <thead>\n",
       "    <tr style=\"text-align: right;\">\n",
       "      <th></th>\n",
       "      <th>context</th>\n",
       "      <th>retrieval</th>\n",
       "      <th>qa</th>\n",
       "      <th>run</th>\n",
       "      <th>exact_match</th>\n",
       "      <th>f1</th>\n",
       "    </tr>\n",
       "  </thead>\n",
       "  <tbody>\n",
       "    <tr>\n",
       "      <th>0</th>\n",
       "      <td>paragraphs</td>\n",
       "      <td>groundtruth</td>\n",
       "      <td>standard</td>\n",
       "      <td>1</td>\n",
       "      <td>0.58</td>\n",
       "      <td>0.673912</td>\n",
       "    </tr>\n",
       "    <tr>\n",
       "      <th>1</th>\n",
       "      <td>paragraphs</td>\n",
       "      <td>groundtruth</td>\n",
       "      <td>standard</td>\n",
       "      <td>2</td>\n",
       "      <td>0.60</td>\n",
       "      <td>0.685912</td>\n",
       "    </tr>\n",
       "    <tr>\n",
       "      <th>2</th>\n",
       "      <td>paragraphs</td>\n",
       "      <td>groundtruth</td>\n",
       "      <td>standard</td>\n",
       "      <td>3</td>\n",
       "      <td>0.58</td>\n",
       "      <td>0.669912</td>\n",
       "    </tr>\n",
       "    <tr>\n",
       "      <th>3</th>\n",
       "      <td>paragraphs</td>\n",
       "      <td>groundtruth</td>\n",
       "      <td>cot</td>\n",
       "      <td>1</td>\n",
       "      <td>0.45</td>\n",
       "      <td>0.593625</td>\n",
       "    </tr>\n",
       "    <tr>\n",
       "      <th>4</th>\n",
       "      <td>paragraphs</td>\n",
       "      <td>groundtruth</td>\n",
       "      <td>cot</td>\n",
       "      <td>2</td>\n",
       "      <td>0.45</td>\n",
       "      <td>0.576128</td>\n",
       "    </tr>\n",
       "    <tr>\n",
       "      <th>5</th>\n",
       "      <td>paragraphs</td>\n",
       "      <td>groundtruth</td>\n",
       "      <td>cot</td>\n",
       "      <td>3</td>\n",
       "      <td>0.46</td>\n",
       "      <td>0.599961</td>\n",
       "    </tr>\n",
       "    <tr>\n",
       "      <th>6</th>\n",
       "      <td>paragraphs</td>\n",
       "      <td>groundtruth</td>\n",
       "      <td>cte</td>\n",
       "      <td>1</td>\n",
       "      <td>0.59</td>\n",
       "      <td>0.715431</td>\n",
       "    </tr>\n",
       "    <tr>\n",
       "      <th>7</th>\n",
       "      <td>paragraphs</td>\n",
       "      <td>groundtruth</td>\n",
       "      <td>cte</td>\n",
       "      <td>2</td>\n",
       "      <td>0.58</td>\n",
       "      <td>0.705639</td>\n",
       "    </tr>\n",
       "    <tr>\n",
       "      <th>8</th>\n",
       "      <td>paragraphs</td>\n",
       "      <td>groundtruth</td>\n",
       "      <td>cte</td>\n",
       "      <td>3</td>\n",
       "      <td>0.59</td>\n",
       "      <td>0.722401</td>\n",
       "    </tr>\n",
       "    <tr>\n",
       "      <th>9</th>\n",
       "      <td>paragraphs</td>\n",
       "      <td>groundtruth</td>\n",
       "      <td>cte+cot</td>\n",
       "      <td>1</td>\n",
       "      <td>0.53</td>\n",
       "      <td>0.663618</td>\n",
       "    </tr>\n",
       "    <tr>\n",
       "      <th>10</th>\n",
       "      <td>paragraphs</td>\n",
       "      <td>groundtruth</td>\n",
       "      <td>cte+cot</td>\n",
       "      <td>2</td>\n",
       "      <td>0.50</td>\n",
       "      <td>0.648934</td>\n",
       "    </tr>\n",
       "    <tr>\n",
       "      <th>11</th>\n",
       "      <td>paragraphs</td>\n",
       "      <td>groundtruth</td>\n",
       "      <td>cte+cot</td>\n",
       "      <td>3</td>\n",
       "      <td>0.55</td>\n",
       "      <td>0.679188</td>\n",
       "    </tr>\n",
       "  </tbody>\n",
       "</table>\n",
       "</div>"
      ],
      "text/plain": [
       "       context    retrieval        qa  run  exact_match        f1\n",
       "0   paragraphs  groundtruth  standard    1         0.58  0.673912\n",
       "1   paragraphs  groundtruth  standard    2         0.60  0.685912\n",
       "2   paragraphs  groundtruth  standard    3         0.58  0.669912\n",
       "3   paragraphs  groundtruth       cot    1         0.45  0.593625\n",
       "4   paragraphs  groundtruth       cot    2         0.45  0.576128\n",
       "5   paragraphs  groundtruth       cot    3         0.46  0.599961\n",
       "6   paragraphs  groundtruth       cte    1         0.59  0.715431\n",
       "7   paragraphs  groundtruth       cte    2         0.58  0.705639\n",
       "8   paragraphs  groundtruth       cte    3         0.59  0.722401\n",
       "9   paragraphs  groundtruth   cte+cot    1         0.53  0.663618\n",
       "10  paragraphs  groundtruth   cte+cot    2         0.50  0.648934\n",
       "11  paragraphs  groundtruth   cte+cot    3         0.55  0.679188"
      ]
     },
     "execution_count": 11,
     "metadata": {},
     "output_type": "execute_result"
    }
   ],
   "source": [
    "report_df = pd.DataFrame.from_records(results, columns=['context', 'retrieval', 'qa', 'run', 'exact_match', 'f1'])\n",
    "report_df"
   ]
  },
  {
   "cell_type": "code",
   "execution_count": 12,
   "metadata": {},
   "outputs": [
    {
     "data": {
      "text/html": [
       "<div>\n",
       "<style scoped>\n",
       "    .dataframe tbody tr th:only-of-type {\n",
       "        vertical-align: middle;\n",
       "    }\n",
       "\n",
       "    .dataframe tbody tr th {\n",
       "        vertical-align: top;\n",
       "    }\n",
       "\n",
       "    .dataframe thead th {\n",
       "        text-align: right;\n",
       "    }\n",
       "</style>\n",
       "<table border=\"1\" class=\"dataframe\">\n",
       "  <thead>\n",
       "    <tr style=\"text-align: right;\">\n",
       "      <th></th>\n",
       "      <th>exact_match</th>\n",
       "      <th>f1</th>\n",
       "    </tr>\n",
       "    <tr>\n",
       "      <th>qa</th>\n",
       "      <th></th>\n",
       "      <th></th>\n",
       "    </tr>\n",
       "  </thead>\n",
       "  <tbody>\n",
       "    <tr>\n",
       "      <th>standard</th>\n",
       "      <td>0.586667</td>\n",
       "      <td>0.676578</td>\n",
       "    </tr>\n",
       "    <tr>\n",
       "      <th>cot</th>\n",
       "      <td>0.453333</td>\n",
       "      <td>0.589904</td>\n",
       "    </tr>\n",
       "    <tr>\n",
       "      <th>cte</th>\n",
       "      <td>0.586667</td>\n",
       "      <td>0.714491</td>\n",
       "    </tr>\n",
       "    <tr>\n",
       "      <th>cte+cot</th>\n",
       "      <td>0.526667</td>\n",
       "      <td>0.663913</td>\n",
       "    </tr>\n",
       "  </tbody>\n",
       "</table>\n",
       "</div>"
      ],
      "text/plain": [
       "          exact_match        f1\n",
       "qa                             \n",
       "standard     0.586667  0.676578\n",
       "cot          0.453333  0.589904\n",
       "cte          0.586667  0.714491\n",
       "cte+cot      0.526667  0.663913"
      ]
     },
     "execution_count": 12,
     "metadata": {},
     "output_type": "execute_result"
    }
   ],
   "source": [
    "report_df.drop(columns=['context', 'retrieval', 'run']).groupby(['qa']).mean().loc[['standard', 'cot', 'cte', 'cte+cot']]"
   ]
  },
  {
   "cell_type": "code",
   "execution_count": 24,
   "metadata": {},
   "outputs": [
    {
     "name": "stdout",
     "output_type": "stream",
     "text": [
      "For what river does the river on which Pa Sak Jolasid Dam is located serve as the mouth?\n",
      "['Chao Phraya River']\n",
      "Chao Phraya River\n",
      "The Pa Sak Jolasid Dam impounds the Pa Sak River. The Pa Sak River is one of the principal tributaries of the Chao Phraya River in Thailand. Therefore, the river on which the Pa Sak Jolasid Dam is located serves as a tributary to the Chao Phraya River.\n"
     ]
    }
   ],
   "source": [
    "i = 2\n",
    "row = df_cot.iloc[i]\n",
    "hop = row['raw_output']['hops'][0]\n",
    "print(row['question'])\n",
    "print(row['answers'])\n",
    "print(hop['llm_output'].answer)\n",
    "print(hop['llm_output'].reasoning)"
   ]
  },
  {
   "cell_type": "code",
   "execution_count": null,
   "metadata": {},
   "outputs": [],
   "source": []
  }
 ],
 "metadata": {
  "kernelspec": {
   "display_name": "python3",
   "language": "python",
   "name": "python3"
  },
  "language_info": {
   "codemirror_mode": {
    "name": "ipython",
    "version": 3
   },
   "file_extension": ".py",
   "mimetype": "text/x-python",
   "name": "python",
   "nbconvert_exporter": "python",
   "pygments_lexer": "ipython3",
   "version": "3.10.14"
  }
 },
 "nbformat": 4,
 "nbformat_minor": 4
}
