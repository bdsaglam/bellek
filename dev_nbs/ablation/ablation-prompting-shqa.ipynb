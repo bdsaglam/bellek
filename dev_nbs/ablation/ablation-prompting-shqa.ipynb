{
 "cells": [
  {
   "cell_type": "code",
   "execution_count": 1,
   "metadata": {},
   "outputs": [
    {
     "data": {
      "text/plain": [
       "True"
      ]
     },
     "execution_count": 1,
     "metadata": {},
     "output_type": "execute_result"
    }
   ],
   "source": [
    "from dotenv import load_dotenv\n",
    "load_dotenv()"
   ]
  },
  {
   "cell_type": "code",
   "execution_count": 2,
   "metadata": {},
   "outputs": [
    {
     "name": "stderr",
     "output_type": "stream",
     "text": [
      "/home/pc/anaconda3/envs/baris/lib/python3.10/site-packages/torch/cuda/__init__.py:619: UserWarning: Can't initialize NVML\n",
      "  warnings.warn(\"Can't initialize NVML\")\n"
     ]
    }
   ],
   "source": [
    "import json\n",
    "import pandas as pd\n",
    "from pathlib import Path\n",
    "from copy import deepcopy\n",
    "from functools import partial\n",
    "\n",
    "from bellek.qa.ablation import answer_question, answer_question_with_reasoning, answer_question_with_triplets, answer_question_reasoning_with_triplets\n",
    "from bellek.utils import set_seed, jprint\n",
    "from bellek.musique.singlehop import benchmark\n",
    "\n",
    "set_seed(89)"
   ]
  },
  {
   "cell_type": "code",
   "execution_count": 3,
   "metadata": {},
   "outputs": [],
   "source": [
    "from tqdm.auto import tqdm\n",
    "tqdm.pandas()"
   ]
  },
  {
   "cell_type": "code",
   "execution_count": 4,
   "metadata": {},
   "outputs": [
    {
     "name": "stdout",
     "output_type": "stream",
     "text": [
      "(100, 8)\n"
     ]
    },
    {
     "data": {
      "text/html": [
       "<div>\n",
       "<style scoped>\n",
       "    .dataframe tbody tr th:only-of-type {\n",
       "        vertical-align: middle;\n",
       "    }\n",
       "\n",
       "    .dataframe tbody tr th {\n",
       "        vertical-align: top;\n",
       "    }\n",
       "\n",
       "    .dataframe thead th {\n",
       "        text-align: right;\n",
       "    }\n",
       "</style>\n",
       "<table border=\"1\" class=\"dataframe\">\n",
       "  <thead>\n",
       "    <tr style=\"text-align: right;\">\n",
       "      <th></th>\n",
       "      <th>id</th>\n",
       "      <th>paragraphs</th>\n",
       "      <th>answer</th>\n",
       "      <th>answer_aliases</th>\n",
       "      <th>answerable</th>\n",
       "      <th>answers</th>\n",
       "      <th>question</th>\n",
       "      <th>question_decomposition</th>\n",
       "    </tr>\n",
       "  </thead>\n",
       "  <tbody>\n",
       "    <tr>\n",
       "      <th>0</th>\n",
       "      <td>2hop__575188_342798</td>\n",
       "      <td>[{'idx': 0, 'title': 'Liliana Mumy', 'paragrap...</td>\n",
       "      <td>Ahmad Shah Qajar</td>\n",
       "      <td>[Ahmad Shah Qajar]</td>\n",
       "      <td>True</td>\n",
       "      <td>[Ahmad Shah Qajar]</td>\n",
       "      <td>Who is the child of Mahmoud Mirza's father?</td>\n",
       "      <td>[{'id': 575188, 'question': 'Who is Mahmoud Mi...</td>\n",
       "    </tr>\n",
       "    <tr>\n",
       "      <th>1</th>\n",
       "      <td>2hop__731584_700117</td>\n",
       "      <td>[{'idx': 0, 'title': 'KAPE', 'paragraph_text':...</td>\n",
       "      <td>Berrien County</td>\n",
       "      <td>[Berrien County]</td>\n",
       "      <td>True</td>\n",
       "      <td>[Berrien County]</td>\n",
       "      <td>In which county is the city to which KKVU is l...</td>\n",
       "      <td>[{'id': 731584, 'question': 'To which city is ...</td>\n",
       "    </tr>\n",
       "    <tr>\n",
       "      <th>2</th>\n",
       "      <td>2hop__690412_526810</td>\n",
       "      <td>[{'idx': 0, 'title': 'Cabramatta Creek', 'para...</td>\n",
       "      <td>Chao Phraya River</td>\n",
       "      <td>[Chao Phraya River]</td>\n",
       "      <td>True</td>\n",
       "      <td>[Chao Phraya River]</td>\n",
       "      <td>For what river does the river on which Pa Sak ...</td>\n",
       "      <td>[{'id': 690412, 'question': 'On which river is...</td>\n",
       "    </tr>\n",
       "    <tr>\n",
       "      <th>3</th>\n",
       "      <td>2hop__263638_69048</td>\n",
       "      <td>[{'idx': 0, 'title': 'Michael J. Barron', 'par...</td>\n",
       "      <td>Honorable Justice Abiodun Smith</td>\n",
       "      <td>[Honorable Justice Abiodun Smith]</td>\n",
       "      <td>True</td>\n",
       "      <td>[Honorable Justice Abiodun Smith]</td>\n",
       "      <td>Who is the Chief Judge of the Tebesa Nemine's ...</td>\n",
       "      <td>[{'id': 263638, 'question': 'Where was Tebesa ...</td>\n",
       "    </tr>\n",
       "    <tr>\n",
       "      <th>4</th>\n",
       "      <td>2hop__142842_68489</td>\n",
       "      <td>[{'idx': 0, 'title': 'Perfect Night: Live in L...</td>\n",
       "      <td>Snapper Foster</td>\n",
       "      <td>[Snapper Foster]</td>\n",
       "      <td>True</td>\n",
       "      <td>[Snapper Foster]</td>\n",
       "      <td>Who did the performer of Night Rocker play on ...</td>\n",
       "      <td>[{'id': 142842, 'question': 'Who performed Nig...</td>\n",
       "    </tr>\n",
       "  </tbody>\n",
       "</table>\n",
       "</div>"
      ],
      "text/plain": [
       "                    id                                         paragraphs  \\\n",
       "0  2hop__575188_342798  [{'idx': 0, 'title': 'Liliana Mumy', 'paragrap...   \n",
       "1  2hop__731584_700117  [{'idx': 0, 'title': 'KAPE', 'paragraph_text':...   \n",
       "2  2hop__690412_526810  [{'idx': 0, 'title': 'Cabramatta Creek', 'para...   \n",
       "3   2hop__263638_69048  [{'idx': 0, 'title': 'Michael J. Barron', 'par...   \n",
       "4   2hop__142842_68489  [{'idx': 0, 'title': 'Perfect Night: Live in L...   \n",
       "\n",
       "                            answer                     answer_aliases  \\\n",
       "0                 Ahmad Shah Qajar                 [Ahmad Shah Qajar]   \n",
       "1                   Berrien County                   [Berrien County]   \n",
       "2                Chao Phraya River                [Chao Phraya River]   \n",
       "3  Honorable Justice Abiodun Smith  [Honorable Justice Abiodun Smith]   \n",
       "4                   Snapper Foster                   [Snapper Foster]   \n",
       "\n",
       "   answerable                            answers  \\\n",
       "0        True                 [Ahmad Shah Qajar]   \n",
       "1        True                   [Berrien County]   \n",
       "2        True                [Chao Phraya River]   \n",
       "3        True  [Honorable Justice Abiodun Smith]   \n",
       "4        True                   [Snapper Foster]   \n",
       "\n",
       "                                            question  \\\n",
       "0        Who is the child of Mahmoud Mirza's father?   \n",
       "1  In which county is the city to which KKVU is l...   \n",
       "2  For what river does the river on which Pa Sak ...   \n",
       "3  Who is the Chief Judge of the Tebesa Nemine's ...   \n",
       "4  Who did the performer of Night Rocker play on ...   \n",
       "\n",
       "                              question_decomposition  \n",
       "0  [{'id': 575188, 'question': 'Who is Mahmoud Mi...  \n",
       "1  [{'id': 731584, 'question': 'To which city is ...  \n",
       "2  [{'id': 690412, 'question': 'On which river is...  \n",
       "3  [{'id': 263638, 'question': 'Where was Tebesa ...  \n",
       "4  [{'id': 142842, 'question': 'Who performed Nig...  "
      ]
     },
     "execution_count": 4,
     "metadata": {},
     "output_type": "execute_result"
    }
   ],
   "source": [
    "from bellek.musique.constants import ABLATION_RECORD_IDS\n",
    "\n",
    "df = pd.read_json('../../data/generated/musique-evaluation/dataset.jsonl', orient='records', lines=True)\n",
    "df = df.set_index('id', drop=False).loc[ABLATION_RECORD_IDS].copy().reset_index(drop=True)\n",
    "qd_df = pd.read_json('../../data/generated/musique-evaluation/question-decomposition.jsonl', orient='records', lines=True)\n",
    "df = pd.merge(df.drop(columns=['question', 'question_decomposition']), qd_df, on='id', suffixes=('', ''))\n",
    "# df = df.head(10)\n",
    "\n",
    "print(df.shape)\n",
    "df.head()"
   ]
  },
  {
   "cell_type": "code",
   "execution_count": 5,
   "metadata": {},
   "outputs": [],
   "source": [
    "perfect_retrieval_func = lambda docs, query: [doc for doc in docs if doc['is_supporting']]"
   ]
  },
  {
   "cell_type": "code",
   "execution_count": 6,
   "metadata": {},
   "outputs": [],
   "source": [
    "N_RUNS = 3\n",
    "results = []"
   ]
  },
  {
   "cell_type": "code",
   "execution_count": 7,
   "metadata": {},
   "outputs": [
    {
     "data": {
      "application/vnd.jupyter.widget-view+json": {
       "model_id": "765dde847c0247e49c7844d2c7a7d059",
       "version_major": 2,
       "version_minor": 0
      },
      "text/plain": [
       "  0%|          | 0/100 [00:00<?, ?it/s]"
      ]
     },
     "metadata": {},
     "output_type": "display_data"
    },
    {
     "name": "stdout",
     "output_type": "stream",
     "text": [
      "{\n",
      "  \"exact_match\": 0.56,\n",
      "  \"f1\": 0.6527385686209215,\n",
      "  \"fuzzy_match\": 0.67\n",
      "}\n"
     ]
    },
    {
     "data": {
      "application/vnd.jupyter.widget-view+json": {
       "model_id": "5b7dc92160b0475ba996d8533fa25934",
       "version_major": 2,
       "version_minor": 0
      },
      "text/plain": [
       "  0%|          | 0/100 [00:00<?, ?it/s]"
      ]
     },
     "metadata": {},
     "output_type": "display_data"
    },
    {
     "name": "stdout",
     "output_type": "stream",
     "text": [
      "{\n",
      "  \"exact_match\": 0.55,\n",
      "  \"f1\": 0.6570573870573871,\n",
      "  \"fuzzy_match\": 0.69\n",
      "}\n"
     ]
    },
    {
     "data": {
      "application/vnd.jupyter.widget-view+json": {
       "model_id": "3a052efc52644314bd38147915c2c2ac",
       "version_major": 2,
       "version_minor": 0
      },
      "text/plain": [
       "  0%|          | 0/100 [00:00<?, ?it/s]"
      ]
     },
     "metadata": {},
     "output_type": "display_data"
    },
    {
     "name": "stdout",
     "output_type": "stream",
     "text": [
      "{\n",
      "  \"exact_match\": 0.54,\n",
      "  \"f1\": 0.6478814257637786,\n",
      "  \"fuzzy_match\": 0.67\n",
      "}\n"
     ]
    }
   ],
   "source": [
    "for i in range(1, N_RUNS+1):\n",
    "    _, scores = benchmark(df, answer_question, perfect_retrieval_func, ignore_errors=True)\n",
    "    results.append({**scores, \"retrieval\": \"groundtruth\", \"context\": \"paragraphs\", \"qa\": \"direct\", \"run\": i})\n",
    "    jprint(scores)"
   ]
  },
  {
   "cell_type": "code",
   "execution_count": 8,
   "metadata": {},
   "outputs": [
    {
     "data": {
      "application/vnd.jupyter.widget-view+json": {
       "model_id": "d1f51461c21946688a9b96c5550dd120",
       "version_major": 2,
       "version_minor": 0
      },
      "text/plain": [
       "  0%|          | 0/100 [00:00<?, ?it/s]"
      ]
     },
     "metadata": {},
     "output_type": "display_data"
    },
    {
     "name": "stdout",
     "output_type": "stream",
     "text": [
      "{\n",
      "  \"exact_match\": 0.51,\n",
      "  \"f1\": 0.6258702212819859,\n",
      "  \"fuzzy_match\": 0.61\n",
      "}\n"
     ]
    },
    {
     "data": {
      "application/vnd.jupyter.widget-view+json": {
       "model_id": "87ce32efa4644341ba0977db6ad36551",
       "version_major": 2,
       "version_minor": 0
      },
      "text/plain": [
       "  0%|          | 0/100 [00:00<?, ?it/s]"
      ]
     },
     "metadata": {},
     "output_type": "display_data"
    },
    {
     "name": "stdout",
     "output_type": "stream",
     "text": [
      "{\n",
      "  \"exact_match\": 0.55,\n",
      "  \"f1\": 0.6750116354234003,\n",
      "  \"fuzzy_match\": 0.69\n",
      "}\n"
     ]
    },
    {
     "data": {
      "application/vnd.jupyter.widget-view+json": {
       "model_id": "1b0a35649d13403b8f0d8812562892ac",
       "version_major": 2,
       "version_minor": 0
      },
      "text/plain": [
       "  0%|          | 0/100 [00:00<?, ?it/s]"
      ]
     },
     "metadata": {},
     "output_type": "display_data"
    },
    {
     "name": "stdout",
     "output_type": "stream",
     "text": [
      "{\n",
      "  \"exact_match\": 0.53,\n",
      "  \"f1\": 0.6733146657264304,\n",
      "  \"fuzzy_match\": 0.67\n",
      "}\n"
     ]
    }
   ],
   "source": [
    "for i in range(1, N_RUNS+1):\n",
    "    _, scores = benchmark(df, answer_question_with_reasoning, perfect_retrieval_func, ignore_errors=True)\n",
    "    results.append({**scores, \"retrieval\": \"groundtruth\", \"context\": \"paragraphs\", \"qa\": \"reasoning\", \"run\": i})\n",
    "    jprint(scores)"
   ]
  },
  {
   "cell_type": "code",
   "execution_count": 9,
   "metadata": {},
   "outputs": [
    {
     "data": {
      "application/vnd.jupyter.widget-view+json": {
       "model_id": "7083dd87085548189ca2bccdb13a3958",
       "version_major": 2,
       "version_minor": 0
      },
      "text/plain": [
       "  0%|          | 0/100 [00:00<?, ?it/s]"
      ]
     },
     "metadata": {},
     "output_type": "display_data"
    },
    {
     "name": "stdout",
     "output_type": "stream",
     "text": [
      "{\n",
      "  \"exact_match\": 0.61,\n",
      "  \"f1\": 0.711921802054155,\n",
      "  \"fuzzy_match\": 0.74\n",
      "}\n"
     ]
    },
    {
     "data": {
      "application/vnd.jupyter.widget-view+json": {
       "model_id": "8de1a241273240aab2d8d5498a79afe0",
       "version_major": 2,
       "version_minor": 0
      },
      "text/plain": [
       "  0%|          | 0/100 [00:00<?, ?it/s]"
      ]
     },
     "metadata": {},
     "output_type": "display_data"
    },
    {
     "name": "stdout",
     "output_type": "stream",
     "text": [
      "{\n",
      "  \"exact_match\": 0.59,\n",
      "  \"f1\": 0.6837273576097105,\n",
      "  \"fuzzy_match\": 0.7\n",
      "}\n"
     ]
    },
    {
     "data": {
      "application/vnd.jupyter.widget-view+json": {
       "model_id": "b52d58846acb4227a414ecd36cdf524e",
       "version_major": 2,
       "version_minor": 0
      },
      "text/plain": [
       "  0%|          | 0/100 [00:00<?, ?it/s]"
      ]
     },
     "metadata": {},
     "output_type": "display_data"
    },
    {
     "name": "stdout",
     "output_type": "stream",
     "text": [
      "{\n",
      "  \"exact_match\": 0.6,\n",
      "  \"f1\": 0.6956247338777048,\n",
      "  \"fuzzy_match\": 0.72\n",
      "}\n"
     ]
    }
   ],
   "source": [
    "for i in range(1, N_RUNS+1):\n",
    "    _, scores = benchmark(df, answer_question_with_triplets, perfect_retrieval_func, ignore_errors=True)\n",
    "    results.append({**scores, \"retrieval\": \"groundtruth\", \"context\": \"paragraphs\", \"qa\": \"triplets\", \"run\": i})\n",
    "    jprint(scores)"
   ]
  },
  {
   "cell_type": "code",
   "execution_count": 10,
   "metadata": {},
   "outputs": [
    {
     "data": {
      "application/vnd.jupyter.widget-view+json": {
       "model_id": "55eec9b29b4f42929a6c62b0568958e9",
       "version_major": 2,
       "version_minor": 0
      },
      "text/plain": [
       "  0%|          | 0/100 [00:00<?, ?it/s]"
      ]
     },
     "metadata": {},
     "output_type": "display_data"
    },
    {
     "name": "stdout",
     "output_type": "stream",
     "text": [
      "{\n",
      "  \"exact_match\": 0.57,\n",
      "  \"f1\": 0.6867976000607579,\n",
      "  \"fuzzy_match\": 0.7\n",
      "}\n"
     ]
    },
    {
     "data": {
      "application/vnd.jupyter.widget-view+json": {
       "model_id": "31911e4f7f9b456197bf4fd1300db5ed",
       "version_major": 2,
       "version_minor": 0
      },
      "text/plain": [
       "  0%|          | 0/100 [00:00<?, ?it/s]"
      ]
     },
     "metadata": {},
     "output_type": "display_data"
    },
    {
     "name": "stdout",
     "output_type": "stream",
     "text": [
      "{\n",
      "  \"exact_match\": 0.59,\n",
      "  \"f1\": 0.7099034037857568,\n",
      "  \"fuzzy_match\": 0.71\n",
      "}\n"
     ]
    },
    {
     "data": {
      "application/vnd.jupyter.widget-view+json": {
       "model_id": "ff06fe9d58624c29b70e167588caffd9",
       "version_major": 2,
       "version_minor": 0
      },
      "text/plain": [
       "  0%|          | 0/100 [00:00<?, ?it/s]"
      ]
     },
     "metadata": {},
     "output_type": "display_data"
    },
    {
     "name": "stdout",
     "output_type": "stream",
     "text": [
      "{\n",
      "  \"exact_match\": 0.56,\n",
      "  \"f1\": 0.703116053852896,\n",
      "  \"fuzzy_match\": 0.7\n",
      "}\n"
     ]
    }
   ],
   "source": [
    "for i in range(1, N_RUNS+1):\n",
    "    _, scores = benchmark(df, answer_question_reasoning_with_triplets, perfect_retrieval_func, ignore_errors=True)\n",
    "    results.append({**scores, \"retrieval\": \"groundtruth\", \"context\": \"paragraphs\", \"qa\": \"reasoning+triplets\", \"run\": i})\n",
    "    jprint(scores)"
   ]
  },
  {
   "cell_type": "markdown",
   "metadata": {},
   "source": [
    "# Report"
   ]
  },
  {
   "cell_type": "code",
   "execution_count": 11,
   "metadata": {},
   "outputs": [
    {
     "data": {
      "text/html": [
       "<div>\n",
       "<style scoped>\n",
       "    .dataframe tbody tr th:only-of-type {\n",
       "        vertical-align: middle;\n",
       "    }\n",
       "\n",
       "    .dataframe tbody tr th {\n",
       "        vertical-align: top;\n",
       "    }\n",
       "\n",
       "    .dataframe thead th {\n",
       "        text-align: right;\n",
       "    }\n",
       "</style>\n",
       "<table border=\"1\" class=\"dataframe\">\n",
       "  <thead>\n",
       "    <tr style=\"text-align: right;\">\n",
       "      <th></th>\n",
       "      <th>context</th>\n",
       "      <th>retrieval</th>\n",
       "      <th>qa</th>\n",
       "      <th>run</th>\n",
       "      <th>exact_match</th>\n",
       "      <th>f1</th>\n",
       "    </tr>\n",
       "  </thead>\n",
       "  <tbody>\n",
       "    <tr>\n",
       "      <th>0</th>\n",
       "      <td>paragraphs</td>\n",
       "      <td>groundtruth</td>\n",
       "      <td>direct</td>\n",
       "      <td>1</td>\n",
       "      <td>0.56</td>\n",
       "      <td>0.652739</td>\n",
       "    </tr>\n",
       "    <tr>\n",
       "      <th>1</th>\n",
       "      <td>paragraphs</td>\n",
       "      <td>groundtruth</td>\n",
       "      <td>direct</td>\n",
       "      <td>2</td>\n",
       "      <td>0.55</td>\n",
       "      <td>0.657057</td>\n",
       "    </tr>\n",
       "    <tr>\n",
       "      <th>2</th>\n",
       "      <td>paragraphs</td>\n",
       "      <td>groundtruth</td>\n",
       "      <td>direct</td>\n",
       "      <td>3</td>\n",
       "      <td>0.54</td>\n",
       "      <td>0.647881</td>\n",
       "    </tr>\n",
       "    <tr>\n",
       "      <th>3</th>\n",
       "      <td>paragraphs</td>\n",
       "      <td>groundtruth</td>\n",
       "      <td>reasoning</td>\n",
       "      <td>1</td>\n",
       "      <td>0.51</td>\n",
       "      <td>0.625870</td>\n",
       "    </tr>\n",
       "    <tr>\n",
       "      <th>4</th>\n",
       "      <td>paragraphs</td>\n",
       "      <td>groundtruth</td>\n",
       "      <td>reasoning</td>\n",
       "      <td>2</td>\n",
       "      <td>0.55</td>\n",
       "      <td>0.675012</td>\n",
       "    </tr>\n",
       "    <tr>\n",
       "      <th>5</th>\n",
       "      <td>paragraphs</td>\n",
       "      <td>groundtruth</td>\n",
       "      <td>reasoning</td>\n",
       "      <td>3</td>\n",
       "      <td>0.53</td>\n",
       "      <td>0.673315</td>\n",
       "    </tr>\n",
       "    <tr>\n",
       "      <th>6</th>\n",
       "      <td>paragraphs</td>\n",
       "      <td>groundtruth</td>\n",
       "      <td>triplets</td>\n",
       "      <td>1</td>\n",
       "      <td>0.61</td>\n",
       "      <td>0.711922</td>\n",
       "    </tr>\n",
       "    <tr>\n",
       "      <th>7</th>\n",
       "      <td>paragraphs</td>\n",
       "      <td>groundtruth</td>\n",
       "      <td>triplets</td>\n",
       "      <td>2</td>\n",
       "      <td>0.59</td>\n",
       "      <td>0.683727</td>\n",
       "    </tr>\n",
       "    <tr>\n",
       "      <th>8</th>\n",
       "      <td>paragraphs</td>\n",
       "      <td>groundtruth</td>\n",
       "      <td>triplets</td>\n",
       "      <td>3</td>\n",
       "      <td>0.60</td>\n",
       "      <td>0.695625</td>\n",
       "    </tr>\n",
       "    <tr>\n",
       "      <th>9</th>\n",
       "      <td>paragraphs</td>\n",
       "      <td>groundtruth</td>\n",
       "      <td>reasoning+triplets</td>\n",
       "      <td>1</td>\n",
       "      <td>0.57</td>\n",
       "      <td>0.686798</td>\n",
       "    </tr>\n",
       "    <tr>\n",
       "      <th>10</th>\n",
       "      <td>paragraphs</td>\n",
       "      <td>groundtruth</td>\n",
       "      <td>reasoning+triplets</td>\n",
       "      <td>2</td>\n",
       "      <td>0.59</td>\n",
       "      <td>0.709903</td>\n",
       "    </tr>\n",
       "    <tr>\n",
       "      <th>11</th>\n",
       "      <td>paragraphs</td>\n",
       "      <td>groundtruth</td>\n",
       "      <td>reasoning+triplets</td>\n",
       "      <td>3</td>\n",
       "      <td>0.56</td>\n",
       "      <td>0.703116</td>\n",
       "    </tr>\n",
       "  </tbody>\n",
       "</table>\n",
       "</div>"
      ],
      "text/plain": [
       "       context    retrieval                  qa  run  exact_match        f1\n",
       "0   paragraphs  groundtruth              direct    1         0.56  0.652739\n",
       "1   paragraphs  groundtruth              direct    2         0.55  0.657057\n",
       "2   paragraphs  groundtruth              direct    3         0.54  0.647881\n",
       "3   paragraphs  groundtruth           reasoning    1         0.51  0.625870\n",
       "4   paragraphs  groundtruth           reasoning    2         0.55  0.675012\n",
       "5   paragraphs  groundtruth           reasoning    3         0.53  0.673315\n",
       "6   paragraphs  groundtruth            triplets    1         0.61  0.711922\n",
       "7   paragraphs  groundtruth            triplets    2         0.59  0.683727\n",
       "8   paragraphs  groundtruth            triplets    3         0.60  0.695625\n",
       "9   paragraphs  groundtruth  reasoning+triplets    1         0.57  0.686798\n",
       "10  paragraphs  groundtruth  reasoning+triplets    2         0.59  0.709903\n",
       "11  paragraphs  groundtruth  reasoning+triplets    3         0.56  0.703116"
      ]
     },
     "execution_count": 11,
     "metadata": {},
     "output_type": "execute_result"
    }
   ],
   "source": [
    "report_df = pd.DataFrame.from_records(results, columns=['context', 'retrieval', 'qa', 'run', 'exact_match', 'f1'])\n",
    "report_df"
   ]
  },
  {
   "cell_type": "code",
   "execution_count": 12,
   "metadata": {},
   "outputs": [
    {
     "data": {
      "text/html": [
       "<div>\n",
       "<style scoped>\n",
       "    .dataframe tbody tr th:only-of-type {\n",
       "        vertical-align: middle;\n",
       "    }\n",
       "\n",
       "    .dataframe tbody tr th {\n",
       "        vertical-align: top;\n",
       "    }\n",
       "\n",
       "    .dataframe thead th {\n",
       "        text-align: right;\n",
       "    }\n",
       "</style>\n",
       "<table border=\"1\" class=\"dataframe\">\n",
       "  <thead>\n",
       "    <tr style=\"text-align: right;\">\n",
       "      <th></th>\n",
       "      <th>exact_match</th>\n",
       "      <th>f1</th>\n",
       "    </tr>\n",
       "    <tr>\n",
       "      <th>qa</th>\n",
       "      <th></th>\n",
       "      <th></th>\n",
       "    </tr>\n",
       "  </thead>\n",
       "  <tbody>\n",
       "    <tr>\n",
       "      <th>direct</th>\n",
       "      <td>0.550000</td>\n",
       "      <td>0.652559</td>\n",
       "    </tr>\n",
       "    <tr>\n",
       "      <th>reasoning</th>\n",
       "      <td>0.530000</td>\n",
       "      <td>0.658066</td>\n",
       "    </tr>\n",
       "    <tr>\n",
       "      <th>reasoning+triplets</th>\n",
       "      <td>0.573333</td>\n",
       "      <td>0.699939</td>\n",
       "    </tr>\n",
       "    <tr>\n",
       "      <th>triplets</th>\n",
       "      <td>0.600000</td>\n",
       "      <td>0.697091</td>\n",
       "    </tr>\n",
       "  </tbody>\n",
       "</table>\n",
       "</div>"
      ],
      "text/plain": [
       "                    exact_match        f1\n",
       "qa                                       \n",
       "direct                 0.550000  0.652559\n",
       "reasoning              0.530000  0.658066\n",
       "reasoning+triplets     0.573333  0.699939\n",
       "triplets               0.600000  0.697091"
      ]
     },
     "execution_count": 12,
     "metadata": {},
     "output_type": "execute_result"
    }
   ],
   "source": [
    "report_df.drop(columns=['context', 'retrieval', 'run']).groupby(['qa']).mean()"
   ]
  },
  {
   "cell_type": "code",
   "execution_count": null,
   "metadata": {},
   "outputs": [],
   "source": []
  }
 ],
 "metadata": {
  "kernelspec": {
   "display_name": "python3",
   "language": "python",
   "name": "python3"
  },
  "language_info": {
   "codemirror_mode": {
    "name": "ipython",
    "version": 3
   },
   "file_extension": ".py",
   "mimetype": "text/x-python",
   "name": "python",
   "nbconvert_exporter": "python",
   "pygments_lexer": "ipython3",
   "version": "3.10.14"
  }
 },
 "nbformat": 4,
 "nbformat_minor": 4
}
