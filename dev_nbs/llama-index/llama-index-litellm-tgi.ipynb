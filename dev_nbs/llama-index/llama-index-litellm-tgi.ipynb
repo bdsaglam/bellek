{
 "cells": [
  {
   "cell_type": "code",
   "execution_count": 1,
   "metadata": {},
   "outputs": [],
   "source": [
    "from llama_index.llms import LiteLLM, ChatMessage\n",
    "\n",
    "llm = LiteLLM(\n",
    "    api_key=\"\", \n",
    "    api_base=\"http://localhost:8080/\",\n",
    "    model=\"huggingface/bdsaglam/llama-2-7b-chat-jerx\", \n",
    "    custom_llm_provider=\"huggingface\",\n",
    ")"
   ]
  },
  {
   "cell_type": "code",
   "execution_count": 6,
   "metadata": {},
   "outputs": [
    {
     "name": "stdout",
     "output_type": "stream",
     "text": [
      "assistant:  Houston Baptist University|city|Houston\n",
      "Houston Baptist University|media outlet|The Collegian (student newspaper)\n"
     ]
    }
   ],
   "source": [
    "system_prompt = \"\"\"<s>[INST] <<SYS>>\n",
    "You are a helpful assistant that extracts up to 5 entity-relation-entity triplets from given text. Use ' | ' as delimiter and provide one triplet per line. The entities in a triplet must be different.\n",
    "<</SYS>>\n",
    "\"\"\"\n",
    "example_user_message = \"Alaa Abdul Zahra plays for Al Shorta SC. His club is AL Kharaitiyat SC, which has its ground at, Al Khor. [/INST] \"\n",
    "\n",
    "example_assistant_message = \"\"\"Al Kharaitiyat SC|ground|Al Khor\n",
    "Alaa Abdul-Zahra|club|Al Kharaitiyat SC\n",
    "Alaa Abdul-Zahra|club|Al Shorta SC </s>\"\"\"\n",
    "\n",
    "messages = [\n",
    "    ChatMessage(role=\"system\", content=system_prompt),\n",
    "    ChatMessage(role=\"user\", content=example_user_message),\n",
    "    ChatMessage(role=\"assistant\", content=example_assistant_message),\n",
    "    ChatMessage(role=\"user\", content=\"<s>[INST] The Collegian is the bi-weekly official student publication of Houston Baptist University in Houston, Texas. [/INST] \"),\n",
    "]\n",
    "response = llm.chat(messages)\n",
    "print(response)"
   ]
  },
  {
   "cell_type": "code",
   "execution_count": null,
   "metadata": {},
   "outputs": [],
   "source": []
  }
 ],
 "metadata": {
  "kernelspec": {
   "display_name": "Python 3 (ipykernel)",
   "language": "python",
   "name": "python3"
  },
  "language_info": {
   "codemirror_mode": {
    "name": "ipython",
    "version": 3
   },
   "file_extension": ".py",
   "mimetype": "text/x-python",
   "name": "python",
   "nbconvert_exporter": "python",
   "pygments_lexer": "ipython3",
   "version": "3.10.12"
  },
  "orig_nbformat": 4
 },
 "nbformat": 4,
 "nbformat_minor": 2
}
