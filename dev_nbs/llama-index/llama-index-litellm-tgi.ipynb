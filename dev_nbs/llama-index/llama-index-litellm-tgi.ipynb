{
 "cells": [
  {
   "cell_type": "code",
   "execution_count": 4,
   "metadata": {},
   "outputs": [
    {
     "name": "stdout",
     "output_type": "stream",
     "text": [
      "ModelResponse(id='chatcmpl-10601f8d-4fe2-4e1e-8786-ab44ee0e6b45', choices=[Choices(finish_reason='eos_token', index=0, message=Message(content=\"\\n nobody knows 🤔\\n\\nWhat should I do? 🤔\\n\\nThere's a llama in my garden 😱\\n\\nNobody knows 🤔\", role='assistant'))], created=1703953942, model='bdsaglam/llama-2-7b-chat-hf-kg-cons-multi-1703317593', object='chat.completion', system_fingerprint=None, usage=Usage(prompt_tokens=14, completion_tokens=31, total_tokens=45))\n"
     ]
    }
   ],
   "source": [
    "import os \n",
    "from litellm import completion \n",
    "\n",
    "\n",
    "messages = [{ \"content\": \"There's a llama in my garden 😱 What should I do?\",\"role\": \"user\"}]\n",
    "\n",
    "# e.g. Call 'WizardLM/WizardCoder-Python-34B-V1.0' hosted on HF Inference endpoints\n",
    "response = completion(\n",
    "  api_key=\"\",\n",
    "  api_base=\"http://localhost:8080/\",\n",
    "  model=\"bdsaglam/llama-2-7b-chat-hf-kg-cons-multi-1703317593\", \n",
    "  messages=messages, \n",
    "  custom_llm_provider=\"huggingface\",\n",
    ")\n",
    "\n",
    "print(response)"
   ]
  },
  {
   "cell_type": "code",
   "execution_count": 14,
   "metadata": {},
   "outputs": [],
   "source": [
    "from llama_index.llms import LiteLLM, ChatMessage\n",
    "\n",
    "llm = LiteLLM(\n",
    "    api_key=\"\", \n",
    "    api_base=\"http://localhost:8080/\",\n",
    "    model=\"huggingface/bdsaglam/llama-2-7b-chat-hf-kg-cons-multi-1703317593\", \n",
    "    custom_llm_provider=\"huggingface\",\n",
    ")"
   ]
  },
  {
   "cell_type": "code",
   "execution_count": 16,
   "metadata": {},
   "outputs": [
    {
     "data": {
      "text/plain": [
       "ChatResponse(message=ChatMessage(role=<MessageRole.ASSISTANT: 'assistant'>, content=' Houston Baptist University|city|Houston\\nHouston Baptist University|state|Texas\\nHouston Baptist University|student newspaper|The Collegian (Houston Baptist University)\\nThe Collegian (Houston Baptist University)|frequency|Bi-weekly\\nThe Collegian (Houston Baptist University)|region served|Houston\\nThe Collegian (Houston Baptist University)|state|Texas\\nThe Collegian (Houston Baptist University)|type|Student newspaper\\nThe Collegian (Houston Baptist University)|website|<http://www.hbu.edu/collegian>\\nThe Collegian (Houston Baptist University)|website|<http://www.hbu.edu/collegian>\\nThe Collegian (Houston Baptist University)|language|English language\\nThe Collegian (Houston Baptist University)|publisher|Houston Baptist University\\nThe Collegian (Houston Baptist University)|region served|Houston\\nThe Collegian (Houston Baptist University)|region served|Texas\\nThe Collegian (Houston Baptist University)|type|Student newspaper\\nThe Collegian (Houston Baptist University)|website|<http://www.hbu.edu/collegian>\\nThe Collegian (Houston Baptist University)|website|<http://www.hbu.edu/collegian>\\nThe Collegian (Houston Baptist University)|language|English language\\nThe Collegian (Houston Baptist University)|region served|Texas\\nThe Collegian (Houston Baptist University)|sponsor|Houston Baptist University\\nThe Collegian (Houston Baptist University)|type|Student newspaper\\nThe Collegian (Houston Baptist University)|website|<http://www.hbu.edu/collegian>\\nThe Collegian (Houston Baptist University)|website|<http://www.hbu.edu/collegian>\\nThe Collegian (Houston Baptist University)|language|English language\\nThe Collegian (Houston Baptist University)|region served|Texas\\nThe Collegian (Houston Baptist University)|sponsor|Houston Baptist University\\nThe Collegian (Houston Baptist University)|type|Student newspaper\\nThe Collegian (Houston Baptist University)|website|<http://www.hbu.edu/collegian>\\nThe Collegian (Houston Baptist University)|website|<http://www.hbu.edu/collegian>\\nThe Collegian (Houston Baptist University)|language|English language\\nThe Collegian (Houston Baptist University)|region served|Texas\\nThe Collegian (Houston Baptist University)|sponsor|Houston Baptist University\\nThe Collegian (Houston Baptist University)|type|Student newspaper\\nThe Collegian (Houston Baptist University)|website|<http://www.hbu.edu/collegian>\\nThe Collegian (Houston Baptist University)|website|<http://www.hbu.edu/collegian>\\nThe Collegian (Houston Baptist University)|language|English language\\nThe Collegian (Houston Baptist University)|region served|Texas\\nThe Collegian (Houston Baptist University)|sponsor|Houston Baptist University\\nThe Collegian (Houston Baptist University)|type|Student newspaper\\nThe Collegian (Houston Baptist University)|website|<http://www.hbu.edu/collegian>\\nThe Collegian (Houston Baptist University)|website|<http://www.hbu.edu/collegian>\\nThe Collegian (Houston Baptist University)|language|English language\\nThe Collegian (Houston Baptist University)|region served|Texas\\nThe Collegian (Houston Baptist University)|sponsor|Houston Baptist University\\nThe Collegian (Houston Baptist University)|type|Student newspaper\\nThe Collegian (Houston Baptist University)|website|<http://www.hbu.edu/collegian>\\nThe Collegian (Houston Baptist University)|website|<http://www.hbu.edu/collegian>\\nThe Collegian (Houston Baptist University)|language|English language\\nThe Collegian (Houston Baptist University)|region served|Texas\\nThe Collegian (Houston Baptist University)|sponsor|Houston Baptist University\\nThe Collegian (Houston Baptist University)|type|Student newspaper\\nThe Collegian (Houston Baptist University)|website|<http://www.hbu.edu/collegian>\\nThe Collegian (Houston Baptist University)|website|<http://www.hbu.edu/collegian>\\nThe Collegian (Houston Baptist University)|language|English language\\nThe Collegian (Houston Baptist University)|region served|Texas\\nThe Collegian (Houston Baptist University)|sponsor|Houston Baptist University\\nThe Collegian (Houston Baptist University)|type|Student newspaper\\nThe Collegian (Houston Baptist University)|website|<http://www.hbu.edu/collegian>\\nThe Collegian (Houston Baptist University)|website|<http://www.hbu.edu/collegian>\\nThe Collegian (Houston Baptist University)|language|English language\\nThe Collegian (Houston Baptist University)|region served|Texas\\nThe Collegian (Houston Baptist University)|sponsor|Houston Baptist University\\nThe Collegian (Houston Baptist University)|type|Student newspaper\\nThe Collegian (Houston Baptist University)|website|<http://www.hbu.edu/collegian>\\nThe Collegian (Houston Baptist University)|website|<http://www.hbu.edu/collegian>\\nThe Collegian (Houston Baptist University)|language|English language\\nThe Collegian (Houston Baptist University)|region served|Texas\\nThe Collegian (Houston Baptist University)|sponsor|Houston Baptist University\\nThe Collegian (Houston Baptist University)|type|Student newspaper\\nThe Collegian (Houston Baptist University)|website|<http://www.hbu.edu/collegian>\\nThe Collegian (Houston Baptist University)|website|<http://www.hbu.edu/collegian>\\nThe Collegian (Houston Baptist University)|language|English language\\nThe Collegian (Houston Baptist University)|region served|Texas\\nThe Collegian (Houston Baptist University)|sponsor|Houston Baptist University\\nThe Collegian (Houston Baptist University)|type|Student newspaper\\nThe Collegian (Houston Baptist University)|website|<http://www.hbu.edu/collegian>\\nThe Collegian (Houston Baptist University)|website|<http://www.hbu.edu/collegian>\\nThe Collegian (Houston Baptist University)|language|English language\\nThe Collegian (Houston Baptist University)|region served|Texas\\nThe Collegian (Houston Baptist University)|sponsor|Houston Baptist University\\nThe Collegian (Houston Baptist University)|type|Student newspaper\\nThe Collegian (Houston Baptist University)|website|<http://www.hbu.edu/collegian>\\nThe Collegian (Houston Baptist University)|website|<http://www.hbu.edu/collegian>\\nThe Collegian (Houston Baptist University)|language|English language\\nThe Collegian (Houston Baptist University)|region served|Texas\\nThe Collegian (Houston Baptist University)|sponsor|Houston Baptist University\\nThe Collegian (Houston Baptist University)|type|Student newspaper\\nThe Collegian (Houston Baptist University)|website|<http://www.hbu.edu/collegian>\\nThe Collegian (Houston Baptist University)|website|<http://www.hbu.edu/collegian>\\nThe Collegian (Houston Baptist University)|language|English language\\nThe Collegian (Hou', additional_kwargs={}), raw={'id': 'chatcmpl-0a1e60d0-2b3d-47bf-bfcd-367dbaf75bd6', 'choices': [Choices(finish_reason='length', index=0, message=Message(content=' Houston Baptist University|city|Houston\\nHouston Baptist University|state|Texas\\nHouston Baptist University|student newspaper|The Collegian (Houston Baptist University)\\nThe Collegian (Houston Baptist University)|frequency|Bi-weekly\\nThe Collegian (Houston Baptist University)|region served|Houston\\nThe Collegian (Houston Baptist University)|state|Texas\\nThe Collegian (Houston Baptist University)|type|Student newspaper\\nThe Collegian (Houston Baptist University)|website|<http://www.hbu.edu/collegian>\\nThe Collegian (Houston Baptist University)|website|<http://www.hbu.edu/collegian>\\nThe Collegian (Houston Baptist University)|language|English language\\nThe Collegian (Houston Baptist University)|publisher|Houston Baptist University\\nThe Collegian (Houston Baptist University)|region served|Houston\\nThe Collegian (Houston Baptist University)|region served|Texas\\nThe Collegian (Houston Baptist University)|type|Student newspaper\\nThe Collegian (Houston Baptist University)|website|<http://www.hbu.edu/collegian>\\nThe Collegian (Houston Baptist University)|website|<http://www.hbu.edu/collegian>\\nThe Collegian (Houston Baptist University)|language|English language\\nThe Collegian (Houston Baptist University)|region served|Texas\\nThe Collegian (Houston Baptist University)|sponsor|Houston Baptist University\\nThe Collegian (Houston Baptist University)|type|Student newspaper\\nThe Collegian (Houston Baptist University)|website|<http://www.hbu.edu/collegian>\\nThe Collegian (Houston Baptist University)|website|<http://www.hbu.edu/collegian>\\nThe Collegian (Houston Baptist University)|language|English language\\nThe Collegian (Houston Baptist University)|region served|Texas\\nThe Collegian (Houston Baptist University)|sponsor|Houston Baptist University\\nThe Collegian (Houston Baptist University)|type|Student newspaper\\nThe Collegian (Houston Baptist University)|website|<http://www.hbu.edu/collegian>\\nThe Collegian (Houston Baptist University)|website|<http://www.hbu.edu/collegian>\\nThe Collegian (Houston Baptist University)|language|English language\\nThe Collegian (Houston Baptist University)|region served|Texas\\nThe Collegian (Houston Baptist University)|sponsor|Houston Baptist University\\nThe Collegian (Houston Baptist University)|type|Student newspaper\\nThe Collegian (Houston Baptist University)|website|<http://www.hbu.edu/collegian>\\nThe Collegian (Houston Baptist University)|website|<http://www.hbu.edu/collegian>\\nThe Collegian (Houston Baptist University)|language|English language\\nThe Collegian (Houston Baptist University)|region served|Texas\\nThe Collegian (Houston Baptist University)|sponsor|Houston Baptist University\\nThe Collegian (Houston Baptist University)|type|Student newspaper\\nThe Collegian (Houston Baptist University)|website|<http://www.hbu.edu/collegian>\\nThe Collegian (Houston Baptist University)|website|<http://www.hbu.edu/collegian>\\nThe Collegian (Houston Baptist University)|language|English language\\nThe Collegian (Houston Baptist University)|region served|Texas\\nThe Collegian (Houston Baptist University)|sponsor|Houston Baptist University\\nThe Collegian (Houston Baptist University)|type|Student newspaper\\nThe Collegian (Houston Baptist University)|website|<http://www.hbu.edu/collegian>\\nThe Collegian (Houston Baptist University)|website|<http://www.hbu.edu/collegian>\\nThe Collegian (Houston Baptist University)|language|English language\\nThe Collegian (Houston Baptist University)|region served|Texas\\nThe Collegian (Houston Baptist University)|sponsor|Houston Baptist University\\nThe Collegian (Houston Baptist University)|type|Student newspaper\\nThe Collegian (Houston Baptist University)|website|<http://www.hbu.edu/collegian>\\nThe Collegian (Houston Baptist University)|website|<http://www.hbu.edu/collegian>\\nThe Collegian (Houston Baptist University)|language|English language\\nThe Collegian (Houston Baptist University)|region served|Texas\\nThe Collegian (Houston Baptist University)|sponsor|Houston Baptist University\\nThe Collegian (Houston Baptist University)|type|Student newspaper\\nThe Collegian (Houston Baptist University)|website|<http://www.hbu.edu/collegian>\\nThe Collegian (Houston Baptist University)|website|<http://www.hbu.edu/collegian>\\nThe Collegian (Houston Baptist University)|language|English language\\nThe Collegian (Houston Baptist University)|region served|Texas\\nThe Collegian (Houston Baptist University)|sponsor|Houston Baptist University\\nThe Collegian (Houston Baptist University)|type|Student newspaper\\nThe Collegian (Houston Baptist University)|website|<http://www.hbu.edu/collegian>\\nThe Collegian (Houston Baptist University)|website|<http://www.hbu.edu/collegian>\\nThe Collegian (Houston Baptist University)|language|English language\\nThe Collegian (Houston Baptist University)|region served|Texas\\nThe Collegian (Houston Baptist University)|sponsor|Houston Baptist University\\nThe Collegian (Houston Baptist University)|type|Student newspaper\\nThe Collegian (Houston Baptist University)|website|<http://www.hbu.edu/collegian>\\nThe Collegian (Houston Baptist University)|website|<http://www.hbu.edu/collegian>\\nThe Collegian (Houston Baptist University)|language|English language\\nThe Collegian (Houston Baptist University)|region served|Texas\\nThe Collegian (Houston Baptist University)|sponsor|Houston Baptist University\\nThe Collegian (Houston Baptist University)|type|Student newspaper\\nThe Collegian (Houston Baptist University)|website|<http://www.hbu.edu/collegian>\\nThe Collegian (Houston Baptist University)|website|<http://www.hbu.edu/collegian>\\nThe Collegian (Houston Baptist University)|language|English language\\nThe Collegian (Houston Baptist University)|region served|Texas\\nThe Collegian (Houston Baptist University)|sponsor|Houston Baptist University\\nThe Collegian (Houston Baptist University)|type|Student newspaper\\nThe Collegian (Houston Baptist University)|website|<http://www.hbu.edu/collegian>\\nThe Collegian (Houston Baptist University)|website|<http://www.hbu.edu/collegian>\\nThe Collegian (Houston Baptist University)|language|English language\\nThe Collegian (Houston Baptist University)|region served|Texas\\nThe Collegian (Houston Baptist University)|sponsor|Houston Baptist University\\nThe Collegian (Houston Baptist University)|type|Student newspaper\\nThe Collegian (Houston Baptist University)|website|<http://www.hbu.edu/collegian>\\nThe Collegian (Houston Baptist University)|website|<http://www.hbu.edu/collegian>\\nThe Collegian (Houston Baptist University)|language|English language\\nThe Collegian (Hou', role='assistant'))], 'created': 1703954781, 'model': 'bdsaglam/llama-2-7b-chat-hf-kg-cons-multi-1703317593', 'object': 'chat.completion', 'system_fingerprint': None, 'usage': Usage(prompt_tokens=166, completion_tokens=1420, total_tokens=1586), '_response_ms': 54560.702}, delta=None, additional_kwargs={})"
      ]
     },
     "execution_count": 16,
     "metadata": {},
     "output_type": "execute_result"
    }
   ],
   "source": [
    "system_prompt = \"\"\"<s>[INST] <<SYS>>\n",
    "You are a helpful assistant that extracts up to 5 entity-relation-entity triplets from given text. Use '|' as delimiter and provide one triplet per line. The entities in a triplet must be different.\n",
    "<</SYS>>\n",
    "\"\"\"\n",
    "example_user_message = \"Alaa Abdul Zahra plays for Al Shorta SC. His club is AL Kharaitiyat SC, which has its ground at, Al Khor. [/INST] \"\n",
    "\n",
    "example_assistant_message = \"\"\"Al Kharaitiyat SC|ground|Al Khor\n",
    "Alaa Abdul-Zahra|club|Al Kharaitiyat SC\n",
    "Alaa Abdul-Zahra|club|Al Shorta SC </s>\"\"\"\n",
    "\n",
    "messages = [\n",
    "    ChatMessage(role=\"system\", content=system_prompt),\n",
    "    ChatMessage(role=\"user\", content=example_user_message),\n",
    "    ChatMessage(role=\"assistant\", content=example_assistant_message),\n",
    "    ChatMessage(role=\"user\", content=\"<s>[INST] The Collegian is the bi-weekly official student publication of Houston Baptist University in Houston, Texas. [/INST] \"),\n",
    "]\n",
    "chat_response = llm.chat(messages)\n",
    "chat_response"
   ]
  },
  {
   "cell_type": "code",
   "execution_count": null,
   "metadata": {},
   "outputs": [],
   "source": []
  }
 ],
 "metadata": {
  "kernelspec": {
   "display_name": "Python 3 (ipykernel)",
   "language": "python",
   "name": "python3"
  },
  "language_info": {
   "codemirror_mode": {
    "name": "ipython",
    "version": 3
   },
   "file_extension": ".py",
   "mimetype": "text/x-python",
   "name": "python",
   "nbconvert_exporter": "python",
   "pygments_lexer": "ipython3",
   "version": "3.10.12"
  },
  "orig_nbformat": 4
 },
 "nbformat": 4,
 "nbformat_minor": 2
}
