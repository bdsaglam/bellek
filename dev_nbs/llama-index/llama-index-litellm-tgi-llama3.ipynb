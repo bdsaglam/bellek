{
 "cells": [
  {
   "cell_type": "code",
   "execution_count": null,
   "metadata": {},
   "outputs": [],
   "source": [
    "from dotenv import load_dotenv\n",
    "load_dotenv()"
   ]
  },
  {
   "cell_type": "code",
   "execution_count": null,
   "metadata": {},
   "outputs": [],
   "source": [
    "import os\n",
    "from llama_index.llms import ChatMessage, LiteLLM\n",
    "\n",
    "llm = LiteLLM(\n",
    "    api_base=os.environ[\"OPENAI_API_BASE\"],\n",
    "    api_key=\"\",\n",
    "    model=\"llama-2-7b-chat\", \n",
    "    temperature=0.3,\n",
    "    additional_kwargs=dict(\n",
    "        custom_llm_provider=\"openai\", # so that messages are sent to proxy server as they are\n",
    "        # stop=[\"<|eot_id|>\", \"<|end_of_text|>\"],\n",
    "        # max_new_tokens=512,\n",
    "        # do_sample=True,\n",
    "        # temperature=0.0,\n",
    "        # top_k=10,\n",
    "        # top_n_tokens=5,\n",
    "        # top_p=0.95,\n",
    "    ),\n",
    ")"
   ]
  },
  {
   "cell_type": "code",
   "execution_count": null,
   "metadata": {},
   "outputs": [],
   "source": [
    "system_prompt = \"\"\"\n",
    "You are an excellent knowledge graph construction agent. Extract knowledge triplets in the form of (subject, relation, object) from user's messages. Avoid stopwords. Use ' | ' as delimiter and provide one triplet per line.\n",
    "\"\"\".strip()\n",
    "\n",
    "example_user_message = \"\"\"\n",
    "Alan B. Miller Hall which is located at 101 Ukrop Way was inaugurated on 2009-10-02. 20 Fenchurch Street is located in London, which is led by Boris Johnson. London is led by the European Parliament. Peter Stöger's club is the FC Admira Wacker Mödling. He is also manager of 1. FC Köln, a player for Favoritner AC and a member of the FK Austria Wien soccer club.\n",
    "\"\"\".strip()\n",
    "\n",
    "example_assistant_message = \"Alan B. Miller Hall | inauguration date | 2009-10-02\\nAlan B. Miller Hall | address | 101 Ukrop Way\\n20 Fenchurch Street | location | London\\nLondon | leader title | European Parliament\\nLondon | leader | Boris Johnson\\nPeter Stöger | club | FC Admira Wacker Mödling\\n1. FC Köln | manager | Peter Stöger\\nPeter Stöger | club | Favoritner AC\\nPeter Stöger | club | FK Austria Wien\"\n",
    "\n",
    "messages = [\n",
    "    ChatMessage(role=\"system\", content=system_prompt),\n",
    "    ChatMessage(role=\"user\", content=example_user_message),\n",
    "    ChatMessage(role=\"assistant\", content=example_assistant_message),\n",
    "    ChatMessage(\n",
    "        role=\"user\",\n",
    "        content=\"The Pacific Zen Institute (PZI), is a Zen Buddhist practice center in Santa Rosa, California. Established in 1999, it has several affiliate centers in the lineage of John Tarrant, a dharma heir of Robert Baker Aitken, and formerly of the Sanbo Kyodan school of Zen.\",\n",
    "    ),\n",
    "]\n",
    "response = llm.chat(\n",
    "    messages,\n",
    "    # temperature=0.0,\n",
    ")\n",
    "print(response)"
   ]
  },
  {
   "cell_type": "code",
   "execution_count": null,
   "metadata": {},
   "outputs": [],
   "source": []
  },
  {
   "cell_type": "code",
   "execution_count": null,
   "metadata": {},
   "outputs": [],
   "source": []
  }
 ],
 "metadata": {
  "kernelspec": {
   "display_name": "Python 3 (ipykernel)",
   "language": "python",
   "name": "python3"
  },
  "language_info": {
   "codemirror_mode": {
    "name": "ipython",
    "version": 3
   },
   "file_extension": ".py",
   "mimetype": "text/x-python",
   "name": "python",
   "nbconvert_exporter": "python",
   "pygments_lexer": "ipython3",
   "version": "3.10.12"
  },
  "orig_nbformat": 4
 },
 "nbformat": 4,
 "nbformat_minor": 2
}
