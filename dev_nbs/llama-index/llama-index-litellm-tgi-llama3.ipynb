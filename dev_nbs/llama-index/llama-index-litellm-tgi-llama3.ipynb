{
 "cells": [
  {
   "cell_type": "code",
   "execution_count": 1,
   "metadata": {},
   "outputs": [],
   "source": [
    "from llama_index.llms import LiteLLM, ChatMessage\n",
    "\n",
    "llm = LiteLLM(\n",
    "    api_key=\"\", \n",
    "    api_base=\"http://localhost:8080/\",\n",
    "    model=\"huggingface/bdsaglam/llama-3-8b-jerx\", \n",
    "    custom_llm_provider=\"huggingface\",\n",
    ")"
   ]
  },
  {
   "cell_type": "code",
   "execution_count": 14,
   "metadata": {},
   "outputs": [
    {
     "name": "stdout",
     "output_type": "stream",
     "text": [
      "assistant:  The Collegian (Houston Baptist University) | city | Houston\n",
      "Houston Baptist University | state | Texas\n",
      "The Collegian (Houston Baptist University) | publisher | Houston Baptist University\n",
      "The Collegian (Houston Baptist University) | frequency | Biweekly\n",
      "The Collegian (Houston Baptist University) | country | United States\n",
      "The Collegian (Houston Baptist University) | type | College newspaper\n",
      "The Collegian (Houston Baptist University) | campus | Houston Baptist University\n",
      "The Collegian (Houston Baptist University) | academic discipline | Journalism\n",
      "The Collegian (Houston Baptist University) | language | English language\n",
      "The Collegian (Houston Baptist University) | media type | Print\n",
      "The Collegian (Houston Baptist University) | category | College newspapers\n",
      "The Collegian (Houston Baptist University) | academic discipline | Mass media\n",
      "The Collegian (Houston Baptist University) | city | Houston\n",
      "The Collegian (Houston Baptist University) | country | United States\n",
      "The Collegian (Houston Baptist University) | state | Texas\n",
      "The Collegian (Houston Baptist University) | academic discipline | Journalism\n",
      "The Collegian (Houston Baptist University) | academic discipline | Mass Media\n",
      "The Collegian (Houston Baptist University) | academic discipline | Journalism\n",
      "The Collegian (Houston Baptist University) | academic discipline | Mass Media\n",
      "The Collegian (Houston Baptist University) | academic discipline | Journalism\n",
      "The Collegian (Houston Baptist University) | academic discipline | Mass Media\n",
      "The Collegian (Houston Baptist University) | academic discipline | Journalism\n",
      "The Collegian (Houston Baptist University) | academic discipline | Mass Media\n",
      "The Collegian (Houston Baptist University) | academic discipline | Journalism\n",
      "The Collegian (Houston Baptist University) | academic discipline | Mass Media\n",
      "The Collegian (Houston Baptist University) | academic discipline | Journalism\n",
      "The Collegian (Houston Baptist University) | academic discipline | Mass Media\n",
      "The Collegian (Houston Baptist University) | academic discipline | Journalism\n",
      "The Collegian (Houston Baptist University) | academic discipline | Mass Media\n",
      "The Collegian (Houston Baptist University) | academic discipline | Journalism\n",
      "The Collegian (Houston Baptist University) | academic discipline | Mass Media\n",
      "The Collegian (Houston Baptist University) | academic discipline | Journalism\n",
      "The Collegian (Houston Baptist University) | academic discipline | Mass Media\n",
      "The Collegian (Houston Baptist University) | academic discipline | Journalism\n",
      "The Collegian (Houston Baptist University) | academic discipline | Mass Media\n",
      "The Collegian (Houston Baptist University) | academic discipline | Journalism\n",
      "The Collegian (\n"
     ]
    }
   ],
   "source": [
    "system_prompt = \"\"\"\n",
    "You are an excellent knowledge graph construction agent. Extract knowledge triplets in the form of (subject, relation, object) from user's messages. Avoid stopwords. Use ' | ' as delimiter and provide one triplet per line.\n",
    "\"\"\".strip()\n",
    "\n",
    "example_user_message = (\n",
    "    \"Alaa Abdul Zahra plays for Al Shorta SC. His club is AL Kharaitiyat SC, which has its ground at, Al Khor.\"\n",
    ")\n",
    "\n",
    "example_assistant_message = \"\"\"Al Kharaitiyat SC|ground|Al Khor\n",
    "Alaa Abdul-Zahra|club|Al Kharaitiyat SC\n",
    "Alaa Abdul-Zahra|club|Al Shorta SC\"\"\"\n",
    "\n",
    "messages = [\n",
    "    ChatMessage(role=\"system\", content=system_prompt),\n",
    "    ChatMessage(role=\"user\", content=example_user_message),\n",
    "    ChatMessage(role=\"assistant\", content=example_assistant_message),\n",
    "    ChatMessage(\n",
    "        role=\"user\",\n",
    "        content=\"The Collegian is the bi-weekly official student publication of Houston Baptist University in Houston, Texas.\",\n",
    "    ),\n",
    "]\n",
    "response = llm.chat(\n",
    "    messages,\n",
    "    stop=[\"<|eot_id|>\", \"<|end_of_text|>\"],\n",
    "    max_new_tokens=512,\n",
    "    do_sample=False,\n",
    "    # temperature=0.0,\n",
    "    # top_k=10,\n",
    "    # top_n_tokens=5,\n",
    "    # top_p=0.95,\n",
    ")\n",
    "print(response)"
   ]
  },
  {
   "cell_type": "code",
   "execution_count": null,
   "metadata": {},
   "outputs": [],
   "source": []
  }
 ],
 "metadata": {
  "kernelspec": {
   "display_name": "Python 3 (ipykernel)",
   "language": "python",
   "name": "python3"
  },
  "language_info": {
   "codemirror_mode": {
    "name": "ipython",
    "version": 3
   },
   "file_extension": ".py",
   "mimetype": "text/x-python",
   "name": "python",
   "nbconvert_exporter": "python",
   "pygments_lexer": "ipython3",
   "version": "3.10.12"
  },
  "orig_nbformat": 4
 },
 "nbformat": 4,
 "nbformat_minor": 2
}
