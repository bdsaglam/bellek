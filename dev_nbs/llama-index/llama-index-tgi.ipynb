{
 "cells": [
  {
   "cell_type": "code",
   "execution_count": 1,
   "metadata": {},
   "outputs": [
    {
     "data": {
      "application/vnd.jupyter.widget-view+json": {
       "model_id": "7021de0e4438444685f451c0e9ead932",
       "version_major": 2,
       "version_minor": 0
      },
      "text/plain": [
       "Downloading readme:   0%|          | 0.00/472 [00:00<?, ?B/s]"
      ]
     },
     "metadata": {},
     "output_type": "display_data"
    },
    {
     "data": {
      "application/vnd.jupyter.widget-view+json": {
       "model_id": "ba86b733abee4011a7e0cfa438ffae70",
       "version_major": 2,
       "version_minor": 0
      },
      "text/plain": [
       "Downloading data:   0%|          | 0.00/4.36M [00:00<?, ?B/s]"
      ]
     },
     "metadata": {},
     "output_type": "display_data"
    },
    {
     "data": {
      "application/vnd.jupyter.widget-view+json": {
       "model_id": "750b7153d5bd45bab6994db6d781a9fb",
       "version_major": 2,
       "version_minor": 0
      },
      "text/plain": [
       "Downloading data:   0%|          | 0.00/554k [00:00<?, ?B/s]"
      ]
     },
     "metadata": {},
     "output_type": "display_data"
    },
    {
     "data": {
      "application/vnd.jupyter.widget-view+json": {
       "model_id": "7731a963463b4ec7a0b43e5712006138",
       "version_major": 2,
       "version_minor": 0
      },
      "text/plain": [
       "Downloading data:   0%|          | 0.00/858k [00:00<?, ?B/s]"
      ]
     },
     "metadata": {},
     "output_type": "display_data"
    },
    {
     "data": {
      "application/vnd.jupyter.widget-view+json": {
       "model_id": "f430544800994511b5ecc90b3753bbc3",
       "version_major": 2,
       "version_minor": 0
      },
      "text/plain": [
       "Generating train split:   0%|          | 0/11752 [00:00<?, ? examples/s]"
      ]
     },
     "metadata": {},
     "output_type": "display_data"
    },
    {
     "data": {
      "application/vnd.jupyter.widget-view+json": {
       "model_id": "1e01314bde094bfebd3eba4054d9eb9a",
       "version_major": 2,
       "version_minor": 0
      },
      "text/plain": [
       "Generating dev split:   0%|          | 0/1485 [00:00<?, ? examples/s]"
      ]
     },
     "metadata": {},
     "output_type": "display_data"
    },
    {
     "data": {
      "application/vnd.jupyter.widget-view+json": {
       "model_id": "a20a6d9e1722498db312a6d51673469c",
       "version_major": 2,
       "version_minor": 0
      },
      "text/plain": [
       "Generating test split:   0%|          | 0/2461 [00:00<?, ? examples/s]"
      ]
     },
     "metadata": {},
     "output_type": "display_data"
    }
   ],
   "source": [
    "from datasets import load_dataset\n",
    "\n",
    "ds = load_dataset(\"bdsaglam/web_nlg-erx-sft-multi-turn-llama2\", split=\"dev\")"
   ]
  },
  {
   "cell_type": "code",
   "execution_count": 3,
   "metadata": {},
   "outputs": [
    {
     "name": "stderr",
     "output_type": "stream",
     "text": [
      "/Users/bdsaglam/dev/repos/bellek/.venv/lib/python3.10/site-packages/pydantic/_internal/_fields.py:149: UserWarning: Field \"model_id\" has conflict with protected namespace \"model_\".\n",
      "\n",
      "You may be able to resolve this warning by setting `model_config['protected_namespaces'] = ()`.\n",
      "  warnings.warn(\n"
     ]
    }
   ],
   "source": [
    "from bellek.llama_index.llms import HuggingFaceTextGenInferenceLLM\n",
    "\n",
    "llm = HuggingFaceTextGenInferenceLLM(\n",
    "    inference_server_url=\"http://localhost:8080/\",\n",
    "    do_sample=False,\n",
    "    max_new_tokens=200,\n",
    "    repetition_penalty=1.0,\n",
    "    # top_k=50,\n",
    "    # top_p=1.0,\n",
    "    # typical_p=1.0,\n",
    "    # temperature=0.0,\n",
    ")"
   ]
  },
  {
   "cell_type": "code",
   "execution_count": 5,
   "metadata": {},
   "outputs": [
    {
     "name": "stderr",
     "output_type": "stream",
     "text": [
      "/Users/bdsaglam/dev/repos/bellek/.venv/lib/python3.10/site-packages/langchain_core/_api/deprecation.py:189: LangChainDeprecationWarning: The function `predict` was deprecated in LangChain 0.1.7 and will be removed in 0.2.0. Use invoke instead.\n",
      "  warn_deprecated(\n",
      "/Users/bdsaglam/dev/repos/bellek/.venv/lib/python3.10/site-packages/langchain_core/_api/deprecation.py:189: LangChainDeprecationWarning: The function `__call__` was deprecated in LangChain 0.1.7 and will be removed in 0.2.0. Use invoke instead.\n",
      "  warn_deprecated(\n"
     ]
    },
    {
     "name": "stdout",
     "output_type": "stream",
     "text": [
      "<s>[INST] <<SYS>>\n",
      "You are a helpful assistant that extracts up to 7 entity-relation-entity triplets from given text. Use '|' as delimiter and provide one triplet per line. The entities in a triplet must be different.\n",
      "\n",
      "<</SYS>>\n",
      "\n",
      "Meyer Werft built the AIDAstella which is operated by the AIDA Cruise Line. It is owned by Costa Crociere who are located in Genoa and have Carnival Corporation & plc as their parent company. [/INST] AIDAstella|builder|Meyer Werft\n",
      "AIDAstella|operator|AIDA Cruises\n",
      "AIDAstella|owner|Costa Crociere\n",
      "Costa Crociere|location|Genoa\n",
      "Costa Crociere|parent company|Carnival Corporation & plc </s><s>[INST] Ayam penyet (Javanese) includes squeezed/smashed fried chicken and is served with sambal. [/INST] Ayam penyet|country|Java\n",
      "Ayam penyet|main ingredient|Squeezed or smashed fried chicken served with sambal </s><s>[INST] The 1955 Dodge is made by the Dodge company and has a V8 engine, a 3-speed automatic transmission and a wheelbase of 120 inches. [/INST] \n",
      "1955 Dodge|engine|V8 engine\n",
      "1955 Dodge|manufacturer|Dodge\n",
      "1955 Dodge|transmission|3-speed automatic\n",
      "1955 Dodge|wheelbase|120.0 (inches) </s>\n",
      "--------------------------------------------------------------------------------\n",
      " Dodge|manufacturer|Dodge\n",
      "Dodge|model|1955 Dodge\n",
      "Dodge|engine|V8\n"
     ]
    }
   ],
   "source": [
    "i = 0\n",
    "example = ds[i]\n",
    "inpt, gt = example['text'].rsplit(\"[/INST] \", 1)\n",
    "inpt += \"[/INST] \"\n",
    "output = llm.complete(inpt)\n",
    "print(inpt)\n",
    "print(gt)\n",
    "print(\"-\"*80)\n",
    "print(output)"
   ]
  },
  {
   "cell_type": "code",
   "execution_count": null,
   "metadata": {},
   "outputs": [],
   "source": []
  }
 ],
 "metadata": {
  "kernelspec": {
   "display_name": ".venv",
   "language": "python",
   "name": "python3"
  },
  "language_info": {
   "codemirror_mode": {
    "name": "ipython",
    "version": 3
   },
   "file_extension": ".py",
   "mimetype": "text/x-python",
   "name": "python",
   "nbconvert_exporter": "python",
   "pygments_lexer": "ipython3",
   "version": "3.10.12"
  }
 },
 "nbformat": 4,
 "nbformat_minor": 2
}
