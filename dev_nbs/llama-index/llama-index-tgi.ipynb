{
 "cells": [
  {
   "cell_type": "code",
   "execution_count": 1,
   "metadata": {},
   "outputs": [
    {
     "data": {
      "application/vnd.jupyter.widget-view+json": {
       "model_id": "eb0f172f380c424297a959f5606d62a0",
       "version_major": 2,
       "version_minor": 0
      },
      "text/plain": [
       "Downloading data files:   0%|          | 0/3 [00:00<?, ?it/s]"
      ]
     },
     "metadata": {},
     "output_type": "display_data"
    },
    {
     "data": {
      "application/vnd.jupyter.widget-view+json": {
       "model_id": "d3161fc7ebe048cbae0dd50e3be54ddd",
       "version_major": 2,
       "version_minor": 0
      },
      "text/plain": [
       "Extracting data files:   0%|          | 0/3 [00:00<?, ?it/s]"
      ]
     },
     "metadata": {},
     "output_type": "display_data"
    },
    {
     "data": {
      "application/vnd.jupyter.widget-view+json": {
       "model_id": "5fcf930aaadf4adea8e6f4ebd2494bc5",
       "version_major": 2,
       "version_minor": 0
      },
      "text/plain": [
       "Generating train split:   0%|          | 0/11752 [00:00<?, ? examples/s]"
      ]
     },
     "metadata": {},
     "output_type": "display_data"
    },
    {
     "data": {
      "application/vnd.jupyter.widget-view+json": {
       "model_id": "bdba06b135ae4397b8a3ea65faeca946",
       "version_major": 2,
       "version_minor": 0
      },
      "text/plain": [
       "Generating dev split:   0%|          | 0/1484 [00:00<?, ? examples/s]"
      ]
     },
     "metadata": {},
     "output_type": "display_data"
    },
    {
     "data": {
      "application/vnd.jupyter.widget-view+json": {
       "model_id": "0e813fdb3a7c4804ab4d9f0c1e8fc11f",
       "version_major": 2,
       "version_minor": 0
      },
      "text/plain": [
       "Generating test split:   0%|          | 0/2460 [00:00<?, ? examples/s]"
      ]
     },
     "metadata": {},
     "output_type": "display_data"
    }
   ],
   "source": [
    "from datasets import load_dataset\n",
    "\n",
    "ds = load_dataset(\"bdsaglam/web_nlg-erx-sft-multi-turn-llama2\", split=\"dev[:10]\")"
   ]
  },
  {
   "cell_type": "code",
   "execution_count": 2,
   "metadata": {},
   "outputs": [
    {
     "name": "stderr",
     "output_type": "stream",
     "text": [
      "/Users/bdsaglam/dev/repos/bellek/.venv/lib/python3.10/site-packages/pydantic/_internal/_fields.py:149: UserWarning: Field \"model_id\" has conflict with protected namespace \"model_\".\n",
      "\n",
      "You may be able to resolve this warning by setting `model_config['protected_namespaces'] = ()`.\n",
      "  warnings.warn(\n"
     ]
    }
   ],
   "source": [
    "from bellek.llama_index.llms import HuggingFaceTextGenInferenceLLM\n",
    "\n",
    "llm = HuggingFaceTextGenInferenceLLM(\n",
    "    inference_server_url=\"http://localhost:8080/\",\n",
    "    do_sample=False,\n",
    "    max_new_tokens=200,\n",
    "    repetition_penalty=1.0,\n",
    "    # top_k=50,\n",
    "    # top_p=1.0,\n",
    "    # typical_p=1.0,\n",
    "    # temperature=0.0,\n",
    ")"
   ]
  },
  {
   "cell_type": "code",
   "execution_count": 5,
   "metadata": {},
   "outputs": [
    {
     "name": "stderr",
     "output_type": "stream",
     "text": [
      "/Users/bdsaglam/dev/repos/bellek/.venv/lib/python3.10/site-packages/langchain_core/_api/deprecation.py:189: LangChainDeprecationWarning: The function `predict` was deprecated in LangChain 0.1.7 and will be removed in 0.2.0. Use invoke instead.\n",
      "  warn_deprecated(\n",
      "/Users/bdsaglam/dev/repos/bellek/.venv/lib/python3.10/site-packages/langchain_core/_api/deprecation.py:189: LangChainDeprecationWarning: The function `__call__` was deprecated in LangChain 0.1.7 and will be removed in 0.2.0. Use invoke instead.\n",
      "  warn_deprecated(\n"
     ]
    },
    {
     "name": "stdout",
     "output_type": "stream",
     "text": [
      "<s>[INST] <<SYS>>\n",
      "You are a helpful assistant that extracts up to 5 entity-relation-entity triplets from given text. Use '|' as delimiter and provide one triplet per line. The entities in a triplet must be different.\n",
      "\n",
      "<</SYS>>\n",
      "\n",
      "Meyer Werft built the AIDAstella which is operated by the AIDA Cruise Line. It is owned by Costa Crociere who are located in Genoa and have Carnival Corporation & plc as their parent company. [/INST] AIDAstella|builder|Meyer Werft\n",
      "AIDAstella|operator|AIDA Cruises\n",
      "AIDAstella|owner|Costa Crociere\n",
      "Costa Crociere|location|Genoa\n",
      "Costa Crociere|parent company|Carnival Corporation & plc </s><s>[INST] Ayam penyet (Javanese) includes squeezed/smashed fried chicken and is served with sambal. [/INST] Ayam penyet|country|Java\n",
      "Ayam penyet|main ingredient|Squeezed or smashed fried chicken served with sambal </s><s>[INST] The 1955 Dodge is made by the Dodge company and has a V8 engine, a 3-speed automatic transmission and a wheelbase of 120 inches. [/INST] 1955 Dodge|engine|V8 engine\n",
      "1955 Dodge|manufacturer|Dodge\n",
      "1955 Dodge|transmission|3-speed automatic\n",
      "1955 Dodge|wheelbase|120.0 (inches) </s><s>[INST] Agremiação Sportiva Arapiraquense play in the Campeonato Brasileiro Série C league in Brazil, which has been won by Vila Nova Futebol Clube. Agremiacao Sportiva Arapiraquense's ground can hold 17000 fans and the team is managed by Vica. [/INST] \n",
      "Agremiação Sportiva Arapiraquense|league|Campeonato Brasileiro Série C\n",
      "Agremiação Sportiva Arapiraquense|manager|Vica\n",
      "Agremiação Sportiva Arapiraquense|number of members|17000\n",
      "Campeonato Brasileiro Série C|champions|Vila Nova Futebol Clube\n",
      "Campeonato Brasileiro Série C|country|Brazil </s>\n",
      "--------------------------------------------------------------------------------\n",
      " Agremiação Sportiva Arapiraquense|ground| capacity 17000\n",
      "Agremiação Sportiva Arapiraquense|league|Campeonato Brasileiro Série C\n",
      "Agremiação Sportiva Arapiraquense|manager|Vica\n",
      "Campeonato Brasileiro Série C|winner|Vila Nova Futebol Clube\n"
     ]
    }
   ],
   "source": [
    "i = 0\n",
    "example = ds[i]\n",
    "inpt, gt = example['text'].rsplit(\"[/INST] \", 1)\n",
    "inpt += \"[/INST] \"\n",
    "output = llm.complete(inpt)\n",
    "print(inpt)\n",
    "print(gt)\n",
    "print(\"-\"*80)\n",
    "print(output)"
   ]
  },
  {
   "cell_type": "code",
   "execution_count": null,
   "metadata": {},
   "outputs": [],
   "source": []
  }
 ],
 "metadata": {
  "kernelspec": {
   "display_name": ".venv",
   "language": "python",
   "name": "python3"
  },
  "language_info": {
   "codemirror_mode": {
    "name": "ipython",
    "version": 3
   },
   "file_extension": ".py",
   "mimetype": "text/x-python",
   "name": "python",
   "nbconvert_exporter": "python",
   "pygments_lexer": "ipython3",
   "version": "3.10.12"
  }
 },
 "nbformat": 4,
 "nbformat_minor": 2
}
