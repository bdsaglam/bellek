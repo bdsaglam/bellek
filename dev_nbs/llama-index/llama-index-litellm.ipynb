{
 "cells": [
  {
   "cell_type": "code",
   "execution_count": 5,
   "metadata": {},
   "outputs": [
    {
     "data": {
      "text/plain": [
       "True"
      ]
     },
     "execution_count": 5,
     "metadata": {},
     "output_type": "execute_result"
    }
   ],
   "source": [
    "from dotenv import load_dotenv\n",
    "load_dotenv()"
   ]
  },
  {
   "cell_type": "code",
   "execution_count": 24,
   "metadata": {},
   "outputs": [],
   "source": [
    "from llama_index.llms import ChatMessage, OpenAI\n",
    "\n",
    "llm = OpenAI(\n",
    "    model=\"gpt-4-turbo\", \n",
    "    temperature=0.0,\n",
    "    cache={\n",
    "            \"no-cache\": True # will not return a cached response \n",
    "        }\n",
    ")"
   ]
  },
  {
   "cell_type": "code",
   "execution_count": 26,
   "metadata": {},
   "outputs": [
    {
     "name": "stdout",
     "output_type": "stream",
     "text": [
      "assistant: Why don't scientists trust atoms?\n",
      "\n",
      "Because they make up everything!\n"
     ]
    }
   ],
   "source": [
    "messages = [ChatMessage(content=\"Tell me a joke.\", role=\"user\")]\n",
    "response = llm.chat(messages) \n",
    "print(response)"
   ]
  },
  {
   "cell_type": "code",
   "execution_count": 8,
   "metadata": {},
   "outputs": [
    {
     "data": {
      "text/plain": [
       "'How about organizing a \"Neighborhood Art Scavenger Hunt\"? \\n\\n- Firstly, spread the word among your neighbors and friends, inviting them to participate in this fun and interactive activity.\\n- Create a list of various art-related items or clues around your neighborhood, such as sculptures, murals, graffiti, or hidden art installations.\\n- Distribute the list and any necessary additional materials, such as maps or clues, to all participants.\\n- On a specified weekend day, everyone can head out individually or in small groups to explore the neighborhood and search for the designated artworks.\\n- Participants can mark off each item as they find it and take pictures or note interesting details about the artwork.\\n- To add an extra layer of creativity, encourage everyone to bring their own art supplies, and at each discovered art location, invite participants to create a small art piece inspired by what they found (such as a quick sketch, colorful graffiti tag, or photography composition).\\n- After a few hours of exploring, everyone can gather in a designated spot, like a local park, to share their findings and the art pieces created during the hunt. This could be done in person, if allowed, or through a virtual sharing platform like a dedicated webpage or video-conferencing tool.\\n- As a final touch, participants can vote for the most creative art piece and crown the winner, followed by some outdoor games, a picnic, or a small celebration to end the weekend activity with a joyful and artistic experience.\\n\\nThis neighborhood art scavenger hunt not only supports local artists, but also encourages community engagement, creativity, and exploration. It\\'s a wonderful way to spend the weekend, fostering connections and inspiring shared experiences among neighbors and friends.'"
      ]
     },
     "execution_count": 8,
     "metadata": {},
     "output_type": "execute_result"
    }
   ],
   "source": [
    "import os\n",
    "from openai import OpenAI\n",
    "\n",
    "client = OpenAI(\n",
    "    api_key=os.environ.get(\"OPENAI_API_KEY\"),\n",
    "    base_url=os.getenv(\"OPENAI_API_BASE\"),\n",
    ")\n",
    "\n",
    "chat_completion = client.chat.completions.create(\n",
    "    messages=[\n",
    "        {\n",
    "            \"role\": \"user\",\n",
    "            \"content\": \"Give a creative idea for weekend activity.\",\n",
    "        }\n",
    "    ],\n",
    "    model=\"gpt-3.5-turbo\",\n",
    "    # extra_headers={\n",
    "    #         \"no-cache\": True # will not return a cached response \n",
    "    #     }\n",
    ")\n",
    "chat_completion.choices[0].message.content"
   ]
  },
  {
   "cell_type": "code",
   "execution_count": null,
   "metadata": {},
   "outputs": [],
   "source": []
  }
 ],
 "metadata": {
  "kernelspec": {
   "display_name": "Python 3 (ipykernel)",
   "language": "python",
   "name": "python3"
  },
  "language_info": {
   "codemirror_mode": {
    "name": "ipython",
    "version": 3
   },
   "file_extension": ".py",
   "mimetype": "text/x-python",
   "name": "python",
   "nbconvert_exporter": "python",
   "pygments_lexer": "ipython3",
   "version": "3.10.12"
  },
  "orig_nbformat": 4
 },
 "nbformat": 4,
 "nbformat_minor": 2
}
