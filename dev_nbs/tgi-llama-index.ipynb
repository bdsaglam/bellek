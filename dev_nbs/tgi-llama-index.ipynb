{
 "cells": [
  {
   "cell_type": "code",
   "execution_count": 9,
   "metadata": {},
   "outputs": [],
   "source": [
    "from bellek.ml.llama_index import HuggingFaceTextGenInferenceLLM\n",
    "\n",
    "llm = HuggingFaceTextGenInferenceLLM(\n",
    "    inference_server_url=\"http://localhost:8080/\",\n",
    "    max_new_tokens=600,\n",
    "    # top_k=50,\n",
    "    # top_p=1.0,\n",
    "    # typical_p=1.0,\n",
    "    # temperature=0.0,\n",
    "    repetition_penalty=1.0,\n",
    "    do_sample=False\n",
    ")"
   ]
  },
  {
   "cell_type": "code",
   "execution_count": 12,
   "metadata": {},
   "outputs": [
    {
     "name": "stdout",
     "output_type": "stream",
     "text": [
      "<s>[INST] <<SYS>> You are a helpful assistant that extracts up to 3 entity-relation-entity triplets from given text. Use '|' as delimiter and provide one triplet per line. <</SYS>> Solo singer Alfredo Zitarrosa plays Candombe music. He was born in Montevideo and records for Odeon Records. [/INST] Alfredo Zitarrosa|background|solo singer Alfredo Zitarrosa|genre|Candombe Alfredo Zitarrosa|record label|Odeon Records Alfredo Zitarrosa|birth place|Montevideo </s><s>[INST] Colin Powell was a commander in the Gulf War, which Adam Holloway was part of. Adam Holloway was in the Grenadier Guards in the military, and began his career on 5th May 2005. [/INST] Adam Holloway|battle|Gulf War Gulf War|commander|Colin Powell Adam Holloway|active years start date|2005-05-05 Adam Holloway|military branch|Grenadier Guards </s><s>[INST] The Americans are the inhabitants of the United States and include the ethnic group of Asian Americans. The country is the location of Angola in Pleasant Township, part of Steuben County in Indiana. [/INST] United States|demonym|Americans Angola, Indiana|is part of|Pleasant Township, Steuben County, Indiana Angola, Indiana|country|United States United States|ethnic group|Asian Americans </s><s>[INST] The leader of Aarhus is Jacob Bundsgaard. [/INST]\n",
      " Aarhus|leader|Jacob Bundsgaard\n",
      "Aarhus|leader title|Mayor of Aarhus\n",
      "Aarhus|leader title|Community leader\n",
      "Aarhus|leader|Bendt Bendtsen\n"
     ]
    }
   ],
   "source": [
    "input = \"\"\"<s>[INST] <<SYS>> You are a helpful assistant that extracts up to 3 entity-relation-entity triplets from given text. Use '|' as delimiter and provide one triplet per line. <</SYS>> Solo singer Alfredo Zitarrosa plays Candombe music. He was born in Montevideo and records for Odeon Records. [/INST] Alfredo Zitarrosa|background|solo singer Alfredo Zitarrosa|genre|Candombe Alfredo Zitarrosa|record label|Odeon Records Alfredo Zitarrosa|birth place|Montevideo </s><s>[INST] Colin Powell was a commander in the Gulf War, which Adam Holloway was part of. Adam Holloway was in the Grenadier Guards in the military, and began his career on 5th May 2005. [/INST] Adam Holloway|battle|Gulf War Gulf War|commander|Colin Powell Adam Holloway|active years start date|2005-05-05 Adam Holloway|military branch|Grenadier Guards </s><s>[INST] The Americans are the inhabitants of the United States and include the ethnic group of Asian Americans. The country is the location of Angola in Pleasant Township, part of Steuben County in Indiana. [/INST] United States|demonym|Americans Angola, Indiana|is part of|Pleasant Township, Steuben County, Indiana Angola, Indiana|country|United States United States|ethnic group|Asian Americans </s><s>[INST] The leader of Aarhus is Jacob Bundsgaard. [/INST] \n",
    "\"\"\".strip()\n",
    "output = llm.complete(input)\n",
    "print(input)\n",
    "print(output)"
   ]
  },
  {
   "cell_type": "code",
   "execution_count": null,
   "metadata": {},
   "outputs": [],
   "source": []
  }
 ],
 "metadata": {
  "kernelspec": {
   "display_name": ".venv",
   "language": "python",
   "name": "python3"
  },
  "language_info": {
   "codemirror_mode": {
    "name": "ipython",
    "version": 3
   },
   "file_extension": ".py",
   "mimetype": "text/x-python",
   "name": "python",
   "nbconvert_exporter": "python",
   "pygments_lexer": "ipython3",
   "version": "3.10.4"
  }
 },
 "nbformat": 4,
 "nbformat_minor": 2
}
