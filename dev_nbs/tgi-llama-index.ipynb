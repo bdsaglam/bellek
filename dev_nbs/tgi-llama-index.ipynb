{
 "cells": [
  {
   "cell_type": "code",
   "execution_count": 13,
   "metadata": {},
   "outputs": [],
   "source": [
    "from bellek.ml.llama_index import HuggingFaceTextGenInferenceLLM\n",
    "\n",
    "llm = HuggingFaceTextGenInferenceLLM(\n",
    "    inference_server_url=\"http://localhost:8080/\",\n",
    "    max_new_tokens=600,\n",
    "    # top_k=50,\n",
    "    # top_p=1.0,\n",
    "    # typical_p=1.0,\n",
    "    # temperature=0.0,\n",
    "    # repetition_penalty=1.0,\n",
    ")"
   ]
  },
  {
   "cell_type": "code",
   "execution_count": 14,
   "metadata": {},
   "outputs": [
    {
     "name": "stdout",
     "output_type": "stream",
     "text": [
      "<s>[INST] <<SYS>>\n",
      "You are a helpful assistant.\n",
      "<</SYS>>\n",
      "Tell me 5 activities to do in Christmas with my family. Keep it in 100 words.[/INST]\n",
      "\n",
      "Of course! Here are 5 fun activities to do with your family during the Christmas season:\n",
      "\n",
      "1. Decorate the house together, hanging stockings by the fireplace and setting up a festive tree.\n",
      "2. Bake Christmas cookies and make them together, using fun shapes and decorations.\n",
      "3. Make a gingerbread house or other holiday-themed crafts, like paper snowflakes or handprint wreaths.\n",
      "4. Have a movie marathon of your favorite holiday films, snuggled up on the couch together.\n",
      "5. Go on a Christmas lights drive or walk around the neighborhood, admiring the decorations and festive displays.\n"
     ]
    }
   ],
   "source": [
    "input = \"\"\"<s>[INST] <<SYS>>\n",
    "You are a helpful assistant.\n",
    "<</SYS>>\n",
    "Tell me 5 activities to do in Christmas with my family. Keep it in 100 words.[/INST]\n",
    "\"\"\"\n",
    "output = llm.complete(input)\n",
    "print(input)\n",
    "print(output)"
   ]
  },
  {
   "cell_type": "code",
   "execution_count": null,
   "metadata": {},
   "outputs": [],
   "source": []
  }
 ],
 "metadata": {
  "kernelspec": {
   "display_name": ".venv",
   "language": "python",
   "name": "python3"
  },
  "language_info": {
   "codemirror_mode": {
    "name": "ipython",
    "version": 3
   },
   "file_extension": ".py",
   "mimetype": "text/x-python",
   "name": "python",
   "nbconvert_exporter": "python",
   "pygments_lexer": "ipython3",
   "version": "3.10.4"
  }
 },
 "nbformat": 4,
 "nbformat_minor": 2
}
