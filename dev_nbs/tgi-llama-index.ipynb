{
 "cells": [
  {
   "cell_type": "code",
   "execution_count": null,
   "metadata": {},
   "outputs": [],
   "source": [
    "from datasets import load_dataset\n",
    "\n",
    "ds = load_dataset(\"bdsaglam/web_nlg-erx-sft-multi-turn-llama2\", split=\"dev\")"
   ]
  },
  {
   "cell_type": "code",
   "execution_count": 15,
   "metadata": {},
   "outputs": [],
   "source": [
    "from bellek.ml.llama_index import HuggingFaceTextGenInferenceLLM\n",
    "\n",
    "llm = HuggingFaceTextGenInferenceLLM(\n",
    "    inference_server_url=\"http://localhost:8080/\",\n",
    "    do_sample=False,\n",
    "    max_new_tokens=200,\n",
    "    repetition_penalty=1.0,\n",
    "    # top_k=50,\n",
    "    # top_p=1.0,\n",
    "    # typical_p=1.0,\n",
    "    # temperature=0.0,\n",
    ")"
   ]
  },
  {
   "cell_type": "code",
   "execution_count": 16,
   "metadata": {},
   "outputs": [
    {
     "name": "stdout",
     "output_type": "stream",
     "text": [
      "<s>[INST] <<SYS>>\n",
      "You are a helpful assistant that extracts up to 6 entity-relation-entity triplets from given text. Use '|' as delimiter and provide one triplet per line.\n",
      "\n",
      "<</SYS>>\n",
      "\n",
      "Alaa Abdul Zahra plays for Al Shorta SC. His club is AL Kharaitiyat SC, which has its ground at, Al Khor. [/INST] Al Kharaitiyat SC|ground|Al Khor\n",
      "Alaa Abdul-Zahra|club|Al Kharaitiyat SC\n",
      "Alaa Abdul-Zahra|club|Al Shorta SC </s><s>[INST] Abner plays for the club, Real Madrid Castilla and the CD FAS club. [/INST] Abner (footballer)|club|C.D. FAS\n",
      "Abner (footballer)|club|Real Madrid Castilla </s><s>[INST] Jusuf Kalla is the leader of Indonesia where they serve the Javanese dish of Arem-arem. [/INST] Arem-arem|country|Indonesia\n",
      "Arem-arem|region|Javanese cuisine\n",
      "Indonesia|leader|Jusuf Kalla </s><s>[INST] Jean-Michel Aulas is the chairman of Olympique Lyonnais which play their home games at the Parc Olympique Lyonnais. Aleksandre Guruli, whose club is Olympique Lyonnais, used to play for FC Karpaty Lviv. [/INST] \n",
      "Aleksandre Guruli|club|FC Karpaty Lviv\n",
      "Aleksandre Guruli|club|Olympique Lyonnais\n",
      "Olympique Lyonnais|chairman|Jean-Michel Aulas\n",
      "Olympique Lyonnais|ground|Parc Olympique Lyonnais </s>\n",
      "--------------------------------------------------------------------------------\n",
      " Aleksandre Guruli|club|FC Karpaty Lviv\n",
      "Aleksandre Guruli|club|Olympique Lyonnais\n",
      "Olympique Lyonnais|chairman|Jean-Michel Aulas\n",
      "Olympique Lyonnais|ground|Parc Olympique Lyonnais\n",
      "Olympique Lyonnais|manager|Rudi Garcia\n",
      "Olympique Lyonnais|number of members|5000\n",
      "Olympique Lyonnais|season|2020–21 Ligue 1 (France)\n",
      "Olympique Lyonnais|stadium|Parc Olympique Lyonnais\n",
      "Olympique Lyonnais|type|Football club\n",
      "Parc Olympique Lyonnais|operator|Olympique Lyonnais\n",
      "Parc Olympique Lyonnais|tenant|Olympique Lyonnais\n",
      "Parc Olympique Lyonnais|operator|Olymp\n"
     ]
    }
   ],
   "source": [
    "i = 3001\n",
    "example = ds[i]\n",
    "inpt, gt = example['text'].rsplit(\"[/INST] \", 1)\n",
    "inpt += \"[/INST] \"\n",
    "output = llm.complete(inpt)\n",
    "print(inpt)\n",
    "print(gt)\n",
    "print(\"-\"*80)\n",
    "print(output)"
   ]
  },
  {
   "cell_type": "code",
   "execution_count": null,
   "metadata": {},
   "outputs": [],
   "source": []
  }
 ],
 "metadata": {
  "kernelspec": {
   "display_name": ".venv",
   "language": "python",
   "name": "python3"
  },
  "language_info": {
   "codemirror_mode": {
    "name": "ipython",
    "version": 3
   },
   "file_extension": ".py",
   "mimetype": "text/x-python",
   "name": "python",
   "nbconvert_exporter": "python",
   "pygments_lexer": "ipython3",
   "version": "3.10.4"
  }
 },
 "nbformat": 4,
 "nbformat_minor": 2
}
