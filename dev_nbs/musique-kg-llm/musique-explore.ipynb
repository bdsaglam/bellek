{
 "cells": [
  {
   "cell_type": "code",
   "execution_count": 1,
   "metadata": {},
   "outputs": [
    {
     "data": {
      "text/plain": [
       "True"
      ]
     },
     "execution_count": 1,
     "metadata": {},
     "output_type": "execute_result"
    }
   ],
   "source": [
    "from dotenv import load_dotenv\n",
    "load_dotenv()"
   ]
  },
  {
   "cell_type": "code",
   "execution_count": 3,
   "metadata": {},
   "outputs": [
    {
     "data": {
      "application/vnd.jupyter.widget-view+json": {
       "model_id": "093f480e504b4e3997f31edf66f0804c",
       "version_major": 2,
       "version_minor": 0
      },
      "text/plain": [
       "Downloading data:   0%|          | 0.00/241M [00:00<?, ?B/s]"
      ]
     },
     "metadata": {},
     "output_type": "display_data"
    },
    {
     "data": {
      "application/vnd.jupyter.widget-view+json": {
       "model_id": "6804ef2dfd3a4338959af657f223441d",
       "version_major": 2,
       "version_minor": 0
      },
      "text/plain": [
       "Downloading data:   0%|          | 0.00/30.4M [00:00<?, ?B/s]"
      ]
     },
     "metadata": {},
     "output_type": "display_data"
    },
    {
     "data": {
      "application/vnd.jupyter.widget-view+json": {
       "model_id": "65796f9448ba456bafb59b6a8bd3300c",
       "version_major": 2,
       "version_minor": 0
      },
      "text/plain": [
       "Generating train split:   0%|          | 0/19938 [00:00<?, ? examples/s]"
      ]
     },
     "metadata": {},
     "output_type": "display_data"
    },
    {
     "data": {
      "application/vnd.jupyter.widget-view+json": {
       "model_id": "99caafa653c44b93b0019ab39720b032",
       "version_major": 2,
       "version_minor": 0
      },
      "text/plain": [
       "Generating validation split:   0%|          | 0/2417 [00:00<?, ? examples/s]"
      ]
     },
     "metadata": {},
     "output_type": "display_data"
    }
   ],
   "source": [
    "from datasets import load_dataset\n",
    "\n",
    "dsd = load_dataset(\"bdsaglam/musique-raw\")"
   ]
  },
  {
   "cell_type": "code",
   "execution_count": 6,
   "metadata": {},
   "outputs": [
    {
     "data": {
      "text/plain": [
       "{'id': '2hop__482757_12019',\n",
       " 'paragraphs': [{'idx': 0,\n",
       "   'title': 'Pakistan Super League',\n",
       "   'paragraph_text': 'Pakistan Super League (Urdu: پاکستان سپر لیگ \\u202c \\u200e; PSL) is a Twenty20 cricket league, founded in Lahore on 9 September 2015 with five teams and now comprises six teams. Instead of operating as an association of independently owned teams, the league is a single entity in which each franchise is owned and controlled by investors.',\n",
       "   'is_supporting': False},\n",
       "  {'idx': 1,\n",
       "   'title': 'Serena Wilson',\n",
       "   'paragraph_text': 'Serena Wilson (August 8, 1933 – June 17, 2007), often known just as \"Serena\", was a well-known dancer, choreographer, and teacher who helped popularize belly dance in the United States. Serena\\'s work also helped legitimize the dance form and helped it to be perceived as more than burlesque or stripping. Serena danced in clubs in her younger years, opened her own studio, hosted her own television show, founded her own dance troupe, and was the author of several books about belly dance.',\n",
       "   'is_supporting': False},\n",
       "  {'idx': 2,\n",
       "   'title': 'Longman',\n",
       "   'paragraph_text': 'Longman, also known as Pearson Longman, is a publishing company founded in London, England, in 1724 and is owned by Pearson PLC.',\n",
       "   'is_supporting': False},\n",
       "  {'idx': 3,\n",
       "   'title': 'Bankhaus Lampe',\n",
       "   'paragraph_text': 'Bankhaus Lampe is a private bank in Germany, founded in 1852 and headquartered in Bielefeld. It is wholly owned by the Oetker Group. The bank owns 50% of Universal Investment.',\n",
       "   'is_supporting': False},\n",
       "  {'idx': 4,\n",
       "   'title': 'Publix',\n",
       "   'paragraph_text': 'Publix Super Markets, Inc., commonly known as Publix, is an employee - owned, American supermarket chain headquartered in Lakeland, Florida. Founded in 1930 by George W. Jenkins, Publix is a private corporation that is wholly owned by present and past employees. It is considered the largest employee - owned company in the world. Publix operates throughout the Southeastern United States, with locations in Florida (785), Georgia (186), Alabama (68), South Carolina (58), Tennessee (42), North Carolina (35), and Virginia (8).',\n",
       "   'is_supporting': False},\n",
       "  {'idx': 5,\n",
       "   'title': 'The Collegian (Houston Baptist University)',\n",
       "   'paragraph_text': 'The Collegian is the bi-weekly official student publication of Houston Baptist University in Houston, Texas. It was founded in 1963 as a newsletter, and adopted the newspaper format in 1990.',\n",
       "   'is_supporting': True},\n",
       "  {'idx': 6,\n",
       "   'title': 'The Collegian (Hillsdale College)',\n",
       "   'paragraph_text': \"The Collegian is the oldest college newspaper in Michigan. The paper's history traces back to 1878, when the Hillsdale Herald was first published. The administration started The Collegian in 1893 as a rival paper to the Herald.\",\n",
       "   'is_supporting': False},\n",
       "  {'idx': 7,\n",
       "   'title': 'List of Old Scotch Collegians',\n",
       "   'paragraph_text': 'This is a list of Old Scotch Collegians, who are notable former students of Scotch College in Melbourne, Victoria, Australia.',\n",
       "   'is_supporting': False},\n",
       "  {'idx': 8,\n",
       "   'title': 'Renaissance Broadcasting',\n",
       "   'paragraph_text': 'Renaissance Broadcasting, founded in 1982 by Michael Finkelstein, was a company that owned several UHF television stations, it was sold to Tribune Broadcasting in 1997. The company was headquartered in Greenwich, Connecticut.',\n",
       "   'is_supporting': False},\n",
       "  {'idx': 9,\n",
       "   'title': 'Houston',\n",
       "   'paragraph_text': \"Several private institutions of higher learning—ranging from liberal arts colleges, such as The University of St. Thomas, Houston's only Catholic university, to Rice University, the nationally recognized research university—are located within the city. Rice, with a total enrollment of slightly more than 6,000 students, has a number of distinguished graduate programs and research institutes, such as the James A. Baker Institute for Public Policy. Houston Baptist University, affiliated with the Baptist General Convention of Texas, offers bachelor's and graduate degrees. It was founded in 1960 and is located in the Sharpstown area in Southwest Houston.\",\n",
       "   'is_supporting': True},\n",
       "  {'idx': 10,\n",
       "   'title': 'France-Guyane',\n",
       "   'paragraph_text': 'France-Guyane is a daily, French-language newspaper headquartered in Cayenne, French Guiana. Founded in 1973, the newspaper is owned by \"French-Antilles\", which is controlled by the Groupe Hersant Média group.',\n",
       "   'is_supporting': False},\n",
       "  {'idx': 11,\n",
       "   'title': 'Bayou City Broadcasting',\n",
       "   'paragraph_text': 'Bayou City Broadcasting, LLC is a broadcasting company founded in December 2007 and owned by DuJuan McCoy. The company is based in The Woodlands, Texas.',\n",
       "   'is_supporting': False},\n",
       "  {'idx': 12,\n",
       "   'title': 'GKS Górnik 1979 Łęczna',\n",
       "   'paragraph_text': 'GKS Górnik 1979 Łęczna was a short-lived fan-owned phoenix club founded in 2011 by Górnik Łęczna fans who were unhappy with the name change to GKS Bogdanka. The club eventually changed its name back in 2013 but the fan owned counterpart has continued to operate in amateur football leagues until 2014.',\n",
       "   'is_supporting': False},\n",
       "  {'idx': 13,\n",
       "   'title': 'Broadway Federal Bank',\n",
       "   'paragraph_text': 'The Broadway Federal Bank is a community bank founded in 1946 and based in Los Angeles. As of 2011, it owned and operated three traditional branches and one loan production office.',\n",
       "   'is_supporting': False},\n",
       "  {'idx': 14,\n",
       "   'title': 'Gubernija',\n",
       "   'paragraph_text': 'Gubernija is a brewery in Lithuania. It is one of the oldest businesses in the world, having been founded in 1665. Gubernija is listed on the NASDAQ OMX Vilnius stock exchange. Unlike other Lithuanian breweries, Gubernija has its own pubs.',\n",
       "   'is_supporting': False},\n",
       "  {'idx': 15,\n",
       "   'title': 'Nordic Paper',\n",
       "   'paragraph_text': 'Nordic Paper AS is a Norwegian industrial company, operating in Norway and Sweden. It was founded in 2001 when \"Peterson Scanproof\", a branch of M. Peterson & Søn which consisted of production units in Greåker (formerly owned by Greaker Industrier) and Säffle, was merged with a paper factory in Geithus, owned by Norske Skog Union.',\n",
       "   'is_supporting': False},\n",
       "  {'idx': 16,\n",
       "   'title': 'Logica',\n",
       "   'paragraph_text': 'Logica was a multinational IT and management consultancy company headquartered in Reading, United Kingdom. Founded in 1969, the company became a wholly owned subsidiary of CGI Group in 2012.',\n",
       "   'is_supporting': False},\n",
       "  {'idx': 17,\n",
       "   'title': 'Skipton Business Finance',\n",
       "   'paragraph_text': 'Skipton Business Finance is a UK factoring and Invoice discounting company, founded and based in Skipton, North Yorkshire. It is a wholly owned subsidiary of Skipton Building Society.',\n",
       "   'is_supporting': False},\n",
       "  {'idx': 18,\n",
       "   'title': 'Brett Kearney',\n",
       "   'paragraph_text': 'Brett Kearney (born 29 September 1983 in Sydney, New South Wales), also known by the nickname of \"BK\", is an Australian professional rugby league footballer formerly with the Bradford Bulls in the Super League, now currently playing for the Collegians in the Illawarra Rugby League competition. A utility back, he has represented Country Origin and previously played for the South Sydney Rabbitohs and Cronulla.',\n",
       "   'is_supporting': False},\n",
       "  {'idx': 19,\n",
       "   'title': 'Grand Duchy of Baden State Railway',\n",
       "   'paragraph_text': 'The Grand Duchy of Baden was an independent state in what is now southwestern Germany until the creation of the German Empire in 1871. It had its own state-owned railway company, the Grand Duchy of Baden State Railways (\"Großherzoglich Badische Staatseisenbahnen or G.Bad.St.E.\"), which was founded in 1840. At the time when it was integrated into the Deutsche Reichsbahn in 1920, its network had an overall length of about .',\n",
       "   'is_supporting': False}],\n",
       " 'question': 'When was the institute that owned The Collegian founded?',\n",
       " 'question_decomposition': [{'id': 482757,\n",
       "   'question': 'The Collegian >> owned by',\n",
       "   'answer': 'Houston Baptist University',\n",
       "   'paragraph_support_idx': 5},\n",
       "  {'id': 12019,\n",
       "   'question': 'When was #1 founded?',\n",
       "   'answer': '1960',\n",
       "   'paragraph_support_idx': 9}],\n",
       " 'answer': '1960',\n",
       " 'answer_aliases': [],\n",
       " 'answerable': True}"
      ]
     },
     "execution_count": 6,
     "metadata": {},
     "output_type": "execute_result"
    }
   ],
   "source": [
    "dsd['train'][0]"
   ]
  },
  {
   "cell_type": "code",
   "execution_count": 8,
   "metadata": {},
   "outputs": [],
   "source": [
    "ds = dsd['train'].filter(lambda example: example['answerable'])"
   ]
  },
  {
   "cell_type": "code",
   "execution_count": 9,
   "metadata": {},
   "outputs": [
    {
     "data": {
      "application/vnd.jupyter.widget-view+json": {
       "model_id": "0b29e72e3b9243b183624b13315c7894",
       "version_major": 2,
       "version_minor": 0
      },
      "text/plain": [
       "Filter:   0%|          | 0/19938 [00:00<?, ? examples/s]"
      ]
     },
     "metadata": {},
     "output_type": "display_data"
    }
   ],
   "source": [
    "ds_3_hop = ds.filter(lambda example: len(example['question_decomposition'])==3)"
   ]
  },
  {
   "cell_type": "code",
   "execution_count": 10,
   "metadata": {},
   "outputs": [
    {
     "data": {
      "text/plain": [
       "{'id': '3hop2__30654_75297_89329',\n",
       " 'paragraphs': [{'idx': 0,\n",
       "   'title': 'Black people',\n",
       "   'paragraph_text': 'By that time, the majority of black people in the United States were native-born, so the use of the term \"African\" became problematic. Though initially a source of pride, many blacks feared that the use of African as an identity would be a hindrance to their fight for full citizenship in the US. They also felt that it would give ammunition to those who were advocating repatriating black people back to Africa. In 1835, black leaders called upon Black Americans to remove the title of \"African\" from their institutions and replace it with \"Negro\" or \"Colored American\". A few institutions chose to keep their historic names, such as the African Methodist Episcopal Church. African Americans popularly used the terms \"Negro\" or \"colored\" for themselves until the late 1960s.',\n",
       "   'is_supporting': False},\n",
       "  {'idx': 1,\n",
       "   'title': 'Takashinga Cricket Club',\n",
       "   'paragraph_text': 'Givemore Makoni told Cricinfo, \"We have changed the name to identify with ourselves and our community. We are a black club, and \\'Winstonians\\' does not identify with us in any way. \\'Takashinga\\' means we are brave and we will fight all the way. This symbolizes the black people of Zimbabwe who are no quitters at anything they set their mind on.\"',\n",
       "   'is_supporting': False},\n",
       "  {'idx': 2,\n",
       "   'title': 'United States Capitol',\n",
       "   'paragraph_text': \"United States Capitol United States Capitol, west front Show map of Central Washington, D.C. Show map of the US Show all General information Architectural style American neoclassicism Town or city Capitol Hill, Washington, D.C. Country United States Coordinates 38 ° 53 ′ 23.34719 ''N 77 ° 00 ′ 32.63606'' W \\ufeff / \\ufeff 38.8898186639 ° N 77.0090655722 ° W \\ufeff / 38.8898186639; - 77.0090655722 Coordinates: 38 ° 53 ′ 23.34719 ''N 77 ° 00 ′ 32.63606'' W \\ufeff / \\ufeff 38.8898186639 ° N 77.0090655722 ° W \\ufeff / 38.8898186639; - 77.0090655722 Construction started September 18, 1793 Completed 1800 Client Washington administration Technical details Floor count 5 Floor area 16.5 acres (6.7 ha) Design and construction Architect William Thornton, designer (see Architect of the Capitol) Website www.capitol.gov www.aoc.gov/us-capitol-building\",\n",
       "   'is_supporting': False},\n",
       "  {'idx': 3,\n",
       "   'title': 'Ryan Lackey',\n",
       "   'paragraph_text': \"Lackey returned to the US and located in San Francisco where he worked for a number of start-up companies before applying to Y Combinator. He was accepted into Y Combinator's Summer 2011 round. Lackey founded CryptoSeal, a VPN as a service start-up with a small group of people well known in the computer security community, and secured funding from Ron Conway and a well known venture capital fund. In June 2014, CryptoSeal was acquired by CloudFlare.\",\n",
       "   'is_supporting': False},\n",
       "  {'idx': 4,\n",
       "   'title': 'Bethel, Illinois',\n",
       "   'paragraph_text': 'Bethel is a former community in Clay County, Illinois, United States. Bethel was located in Songer Township, along a railroad line north of Greendale.',\n",
       "   'is_supporting': False},\n",
       "  {'idx': 5,\n",
       "   'title': \"Hadassah Women's Zionist Organization of America\",\n",
       "   'paragraph_text': \"330,000 members in the United States. Hadassah fundraises for community programs and health initiatives in Israel, including the Hadassah Medical Center, a leading research hospital in Israel renowned for its inclusion of and treatment for all religions and races in Jerusalem. In the US, the organization advocates on behalf of women's rights, religious autonomy and US-Israel diplomacy. In Israel, Hadassah supports health education and research, women's initiatives, schools and programs for underprivileged youth.\",\n",
       "   'is_supporting': False},\n",
       "  {'idx': 6,\n",
       "   'title': 'Tuntutuliak Airport',\n",
       "   'paragraph_text': 'Tuntutuliak Airport is a state-owned public-use airport located one nautical mile (1.85\\xa0km) south of the central business district of Tuntutuliak, in the Bethel Census Area of the U.S. state of Alaska.',\n",
       "   'is_supporting': False},\n",
       "  {'idx': 7,\n",
       "   'title': '759: Boy Scouts of Harlem',\n",
       "   'paragraph_text': 'The film premiered as a free community event on March 14, 2009 at the Schomburg Center for Research in Black Culture in Harlem on Malcolm X Boulevard. Two weeks later it screened on board the Intrepid Sea-Air-Space Museum in Manhattan, then on October 8, 2009 Senator Jeff Sessions and Senator Ben Nelson sponsored a screening on Capitol Hill. The film aired on public television stations around the country starting in August 2010, as presented by Maryland Public Television.',\n",
       "   'is_supporting': False},\n",
       "  {'idx': 8,\n",
       "   'title': 'Masha Hamilton',\n",
       "   'paragraph_text': 'Masha Hamilton is a United States journalist and the author of five novels. She founded two world literacy projects, and has worked as head of communications for the US Embassy in Afghanistan and the NGO Concern Worldwide US.',\n",
       "   'is_supporting': False},\n",
       "  {'idx': 9,\n",
       "   'title': 'Philadelphia',\n",
       "   'paragraph_text': \"The state government left Philadelphia in 1799, and the federal government was moved to Washington, DC in 1800 with completion of the White House and Capitol. The city remained the young nation's largest with a population of nearly 50,000 at the turn of the 19th century; it was a financial and cultural center. Before 1800, its free black community founded the African Methodist Episcopal Church (AME), the first independent black denomination in the country, and the first black Episcopal Church. The free black community also established many schools for its children, with the help of Quakers. New York City soon surpassed Philadelphia in population, but with the construction of roads, canals, and railroads, Philadelphia became the first major industrial city in the United States.\",\n",
       "   'is_supporting': True},\n",
       "  {'idx': 10,\n",
       "   'title': 'Germany',\n",
       "   'paragraph_text': \"In 2011, 33% of Germans were not members of officially recognised religious associations with special status. Irreligion in Germany is strongest in the former East Germany, which used to be predominantly Protestant before state atheism, and major metropolitan areas.A 2017 estimate even shows that 37.0% of the German population were nonconfessional.Islam is the second largest religion in the country. In the 2011 census, 1.9% of the census population (1.52 million people) gave their religion as Islam, but this figure is deemed unreliable because a disproportionate number of adherents of this religion (and other religions, such as Judaism) are likely to have made use of their right not to answer the question. Figures from Religionswissenschaftlicher Medien- und Informationsdienst suggest a figure of 4.4 to 4.7 million (around 5.5% of the population) in 2015. A study conducted by the Federal Office for Migration and Refugees found that between 2011 and 2015 the Muslim population rose by 1.2 million people, mostly due to immigration. Most of the Muslims are Sunnis and Alevites from Turkey, but there are a small number of Shi'ites, Ahmadiyyas and other denominations.Other religions comprising less than one per cent of Germany's population are Buddhism with 270,000 adherents, Judaism with 200,000 adherents, and Hinduism with some 100,000 adherents. All other religious communities in Germany have fewer than 50,000 adherents each.\",\n",
       "   'is_supporting': False},\n",
       "  {'idx': 11,\n",
       "   'title': 'Yupiit School District',\n",
       "   'paragraph_text': 'The Yupiit School District serves students in the Akiachak, Akiak, and Tuluksak communities in the Bethel Census Area of the U.S. state of Alaska.',\n",
       "   'is_supporting': False},\n",
       "  {'idx': 12,\n",
       "   'title': 'Platinum Airport',\n",
       "   'paragraph_text': 'Platinum Airport is a state-owned public-use airport located in Platinum, in the Bethel Census Area of the U.S. state of Alaska.',\n",
       "   'is_supporting': False},\n",
       "  {'idx': 13,\n",
       "   'title': 'Nigeria',\n",
       "   'paragraph_text': \"Among Christians, the Pew Research survey found that 74% were Protestant, 25% were Catholic, and 1% belonged to other Christian denominations, including a small Orthodox Christian community. In terms of Nigeria's major ethnic groups, the Hausa ethnic group (predominant in the north) was found to be 95% Muslim and 5% Christian, the Yoruba tribe (predominant in the west) was 55% Muslim, 35% Christian and 10% adherents of other religions, while the Igbos (predominant in the east) and the Ijaw (south) were 98% Christian, with 2% practising traditional religions. The middle belt of Nigeria contains the largest number of minority ethnic groups in Nigeria, who were found to be mostly Christians and members of traditional religions, with a small proportion of Muslims.\",\n",
       "   'is_supporting': False},\n",
       "  {'idx': 14,\n",
       "   'title': 'Mother Bethel A.M.E. Church',\n",
       "   'paragraph_text': \"The church was organized by African - American members of St. George's Methodist Church who walked out due to racial segregation in the worship services. Mother Bethel was one of the first African - American churches in the United States, dedicated July 29, 1794, by Bishop Francis Asbury. On October 12, 1794, Reverend Robert Blackwell announced that the congregation was received in full fellowship in the Methodist Episcopal Church. In 1816 Rev Richard Allen brought together other black Methodist congregations from the region to organize the new African Methodist Episcopal Church denomination. He was elected bishop of this denomination. After the American Civil War, its missionaries went to the South to help freedmen and planted many new churches in the region.\",\n",
       "   'is_supporting': True},\n",
       "  {'idx': 15,\n",
       "   'title': 'Longworth House Office Building',\n",
       "   'paragraph_text': 'The Longworth House Office Building (LHOB) is one of three office buildings used by the United States House of Representatives. The building is located south of the Capitol, bounded by Independence Avenue, New Jersey Avenue, C Street S.E., and South Capitol Street, in southeast Washington. It covers an area of and has a total of 251 congressional offices and suites, five large committee rooms, seven small committee rooms, and a large assembly room now used by the Ways and Means Committee.',\n",
       "   'is_supporting': False},\n",
       "  {'idx': 16,\n",
       "   'title': 'Black Mark Production',\n",
       "   'paragraph_text': 'Black Mark Production (founded 1991) is an independent record label originally based in Berlin, later on with offices in Stockholm, Toronto and New York City etc. Black Mark Productions today is a worldwide operating business placed in Villa Hammerheart, Bruzaholm, Sweden, that specializes in extreme metal releases, perhaps best known for its close connection to Quorthon, leader of the defining black metal band Bathory until his death in 2004. As Quorthon himself has stated several times, it was often speculated that he had something to do with the business and operation of Black Mark Productions, except for the concept and name of the label, which would be referenced in the title of the 1987 release \"Under the Sign of the Black Mark\". Quorthon received permission from the Tyfon Grammofon label - which was owned by Börje \"Boss\" Forsberg and featured Bathory - to use his own proxy-label on all Bathory albums, along with a unique 666-X serial number, starting with the self-titled debut album from 1984, but the label wasn\\'t founded as a separate entity before 1991. Who did found it remains disputed, but many point to Boss Forsberg.',\n",
       "   'is_supporting': False},\n",
       "  {'idx': 17,\n",
       "   'title': 'Mount Bethel, Pennsylvania',\n",
       "   'paragraph_text': 'Mount Bethel is an unincorporated community in Upper Mount Bethel Township in Northampton County, Pennsylvania, United States. Mount Bethel is located along Pennsylvania Route 611 north of the intersection with Pennsylvania Route 512.',\n",
       "   'is_supporting': False},\n",
       "  {'idx': 18,\n",
       "   'title': 'Bethel College (Kentucky)',\n",
       "   'paragraph_text': \"The institution opened as Bethel Female High School in Hopkinsville, while the Russellville campus opened as Russellville Male Academy. The Hopkinsville campus changed its name to Bethel College for Women four years later in 1858, taking in students continuing with the program. The college changed its name again in 1917; the Russelville campus became Bethel College, and the Hopkinsville campus Bethel Women's Jr. College. In 1951, the college became co-educational and changed its name to simply Bethel College. It closed in 1964, with the Hopkinsville campus razed in 1966. The last commencement for the Russellville campus was held on January 20, 1933.\",\n",
       "   'is_supporting': False},\n",
       "  {'idx': 19,\n",
       "   'title': 'United States Capitol',\n",
       "   'paragraph_text': \"Prior to establishing the nation's capital in Washington, D.C., the United States Congress and its predecessors had met in Philadelphia (Independence Hall and Congress Hall), New York City (Federal Hall), and a number of other locations (York, Pennsylvania; Lancaster, Pennsylvania; Maryland State House in Annapolis, Maryland; and Nassau Hall in Princeton, New Jersey). In September 1774, the First Continental Congress brought together delegates from the colonies in Philadelphia, followed by the Second Continental Congress, which met from May 1775 to March 1781.\",\n",
       "   'is_supporting': True}],\n",
       " 'question': 'Who started the Bethel branch of the religion founded by the black community in the city that used to be the US capitol?',\n",
       " 'question_decomposition': [{'id': 30654,\n",
       "   'question': 'What religion did the black community found?',\n",
       "   'answer': 'African Methodist Episcopal Church',\n",
       "   'paragraph_support_idx': 9},\n",
       "  {'id': 75297,\n",
       "   'question': 'where did the us capitol used to be',\n",
       "   'answer': 'Philadelphia,',\n",
       "   'paragraph_support_idx': 19},\n",
       "  {'id': 89329,\n",
       "   'question': 'who started the bethel #1 in #2',\n",
       "   'answer': 'Bishop Francis Asbury',\n",
       "   'paragraph_support_idx': 14}],\n",
       " 'answer': 'Bishop Francis Asbury',\n",
       " 'answer_aliases': ['Francis Asbury'],\n",
       " 'answerable': True}"
      ]
     },
     "execution_count": 10,
     "metadata": {},
     "output_type": "execute_result"
    }
   ],
   "source": [
    "ds_3_hop[0]"
   ]
  },
  {
   "cell_type": "code",
   "execution_count": null,
   "metadata": {},
   "outputs": [],
   "source": []
  }
 ],
 "metadata": {
  "kernelspec": {
   "display_name": ".venv",
   "language": "python",
   "name": "python3"
  },
  "language_info": {
   "codemirror_mode": {
    "name": "ipython",
    "version": 3
   },
   "file_extension": ".py",
   "mimetype": "text/x-python",
   "name": "python",
   "nbconvert_exporter": "python",
   "pygments_lexer": "ipython3",
   "version": "3.10.12"
  }
 },
 "nbformat": 4,
 "nbformat_minor": 2
}
