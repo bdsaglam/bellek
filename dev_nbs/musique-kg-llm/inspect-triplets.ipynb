{
 "cells": [
  {
   "cell_type": "code",
   "execution_count": 3,
   "metadata": {},
   "outputs": [
    {
     "data": {
      "text/plain": [
       "True"
      ]
     },
     "execution_count": 3,
     "metadata": {},
     "output_type": "execute_result"
    }
   ],
   "source": [
    "from dotenv import load_dotenv\n",
    "load_dotenv()"
   ]
  },
  {
   "cell_type": "code",
   "execution_count": 4,
   "metadata": {},
   "outputs": [],
   "source": [
    "import nest_asyncio\n",
    "nest_asyncio.apply()"
   ]
  },
  {
   "cell_type": "code",
   "execution_count": 5,
   "metadata": {},
   "outputs": [],
   "source": [
    "from pathlib import Path\n",
    "\n",
    "import pandas as pd\n",
    "\n",
    "from bellek.utils import set_seed\n",
    "\n",
    "set_seed(42)"
   ]
  },
  {
   "cell_type": "code",
   "execution_count": 6,
   "metadata": {},
   "outputs": [],
   "source": [
    "DATA_DIRECTORY = Path('/Users/bdsaglam/dev/repos/bellek/data')"
   ]
  },
  {
   "cell_type": "code",
   "execution_count": 7,
   "metadata": {},
   "outputs": [],
   "source": [
    "jerx_inference_df = pd.read_json(DATA_DIRECTORY / 'raw/musique-evaluation/jerx-inferences/llama3-base.jsonl', lines=True)\n",
    "jerx_inference_df.set_index(\"id\", inplace=True)"
   ]
  },
  {
   "cell_type": "code",
   "execution_count": 11,
   "metadata": {},
   "outputs": [
    {
     "name": "stdout",
     "output_type": "stream",
     "text": [
      "The Place and the Time | type | compilation album\n",
      "The Place and the Time | content | demos, outtakes, alternative versions, live versions\n",
      "The Place and the Time | artist | Moby Grape\n",
      "The Place and the Time | release year | 2009\n",
      "The Place and the Time | format | CD, double LP\n",
      "Great Grape | compilation album | Columbia Records\n",
      "Great Grape | release year | 1972\n",
      "Great Grape | source albums | Moby Grape, Wow, Moby Grape '69\n",
      "Moby Grape | album | Columbia Records\n",
      "20 Granite Creek | album | Reprise Records\n"
     ]
    }
   ],
   "source": [
    "for generation in jerx_inference_df.loc['2hop__235471_565925'].iloc[[0, 6]]['generation'].values:\n",
    "    print(generation)"
   ]
  },
  {
   "cell_type": "code",
   "execution_count": null,
   "metadata": {},
   "outputs": [],
   "source": []
  }
 ],
 "metadata": {
  "kernelspec": {
   "display_name": "python3",
   "language": "python",
   "name": "python3"
  },
  "language_info": {
   "codemirror_mode": {
    "name": "ipython",
    "version": 3
   },
   "file_extension": ".py",
   "mimetype": "text/x-python",
   "name": "python",
   "nbconvert_exporter": "python",
   "pygments_lexer": "ipython3",
   "version": "3.10.12"
  }
 },
 "nbformat": 4,
 "nbformat_minor": 4
}
