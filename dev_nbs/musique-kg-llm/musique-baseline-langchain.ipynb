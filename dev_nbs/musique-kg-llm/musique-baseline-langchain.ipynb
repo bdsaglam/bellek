{
 "cells": [
  {
   "cell_type": "code",
   "execution_count": 1,
   "metadata": {},
   "outputs": [
    {
     "data": {
      "text/plain": [
       "True"
      ]
     },
     "execution_count": 1,
     "metadata": {},
     "output_type": "execute_result"
    }
   ],
   "source": [
    "from dotenv import load_dotenv\n",
    "load_dotenv()"
   ]
  },
  {
   "cell_type": "code",
   "execution_count": 2,
   "metadata": {},
   "outputs": [],
   "source": [
    "from langchain.globals import set_llm_cache\n",
    "from langchain.cache import SQLiteCache\n",
    "set_llm_cache(SQLiteCache(database_path=\"/tmp/langchain-cache.db\"))"
   ]
  },
  {
   "cell_type": "code",
   "execution_count": 3,
   "metadata": {},
   "outputs": [],
   "source": [
    "import pandas as pd\n",
    "\n",
    "df = pd.read_json('/Users/bdsaglam/knowledge/bellek/data/generated/musique-kg-llm/train/dataset.jsonl', orient='records', lines=True)\n",
    "df = df.iloc[:100]"
   ]
  },
  {
   "cell_type": "code",
   "execution_count": 4,
   "metadata": {},
   "outputs": [],
   "source": [
    "def make_docs(example, only_supporting=False):\n",
    "    ps = example[\"paragraphs\"]\n",
    "    for p in ps:\n",
    "        if only_supporting and not p[\"is_supporting\"]:\n",
    "            continue\n",
    "        idx = p[\"idx\"]\n",
    "        title = p[\"title\"]\n",
    "        body = p[\"paragraph_text\"]\n",
    "        is_supporting = p[\"is_supporting\"]\n",
    "        text = f\"# {title}\\n{body}\"\n",
    "        yield dict(\n",
    "            text=text,\n",
    "            metadata={\"parent_id\": example[\"id\"], \"idx\": idx, \"is_supporting\": is_supporting},\n",
    "        )"
   ]
  },
  {
   "cell_type": "code",
   "execution_count": 5,
   "metadata": {},
   "outputs": [],
   "source": [
    "def present_example(example, predicted_answer):\n",
    "    text = \"\\n\\n\".join([p[\"paragraph_text\"] for p in example['paragraphs']])\n",
    "    print(\"=\"*80)\n",
    "    print(\"Question:\", example[\"question\"])\n",
    "    print(\"Reference Answer:\", example['answer'])\n",
    "    print(\"Predicted Answer:\", predicted_answer)\n",
    "    print(\"-\"*80)\n",
    "    print(\"Paragraphs\")\n",
    "    print(text)"
   ]
  },
  {
   "cell_type": "code",
   "execution_count": 6,
   "metadata": {},
   "outputs": [],
   "source": [
    "from langchain.chat_models import ChatOpenAI\n",
    "from langchain.prompts import ChatPromptTemplate\n",
    "\n",
    "llm = ChatOpenAI(model=\"gpt-3.5-turbo\", temperature=0.1)\n",
    "\n",
    "SYSTEM_PROMPT = \"\"\"You are a helpful assistant that answers user's questions about the given text in 2-4 words.\n",
    "# Text\n",
    "{text}\n",
    "\"\"\"\n",
    "prompt = ChatPromptTemplate.from_messages([\n",
    "    (\"system\", SYSTEM_PROMPT),\n",
    "    (\"user\", \"{question}\")\n",
    "])\n",
    "\n",
    "chain = prompt | llm "
   ]
  },
  {
   "cell_type": "code",
   "execution_count": 7,
   "metadata": {},
   "outputs": [],
   "source": [
    "def answer(example):\n",
    "    documents = list(make_docs(example, only_supporting=False))\n",
    "    text = \"\\n\\n\".join([doc[\"text\"] for doc in documents])\n",
    "    return chain.invoke({\"text\": text, \"question\": example['question']}).content"
   ]
  },
  {
   "cell_type": "code",
   "execution_count": 8,
   "metadata": {},
   "outputs": [],
   "source": [
    "df['predicted_answer'] = df.apply(answer, axis=1)\n",
    "df.to_json('/Users/bdsaglam/knowledge/bellek/data/generated/musique-kg-llm/train/baseline.jsonl', orient='records', lines=True)"
   ]
  },
  {
   "cell_type": "code",
   "execution_count": 9,
   "metadata": {},
   "outputs": [],
   "source": [
    "from difflib import SequenceMatcher\n",
    "\n",
    "def similarity(a, b):\n",
    "    return SequenceMatcher(None, a, b).ratio()\n",
    "\n",
    "def fuzzy_match(a, b, threshold=0.7):\n",
    "    return similarity(a, b) >= threshold\n",
    "\n",
    "def is_correct(example):\n",
    "    return (example[\"answer\"] in example[\"predicted_answer\"]) or (\n",
    "        fuzzy_match(example[\"predicted_answer\"], example[\"answer\"])\n",
    "    )"
   ]
  },
  {
   "cell_type": "code",
   "execution_count": 10,
   "metadata": {},
   "outputs": [
    {
     "data": {
      "text/plain": [
       "0.48"
      ]
     },
     "execution_count": 10,
     "metadata": {},
     "output_type": "execute_result"
    }
   ],
   "source": [
    "df[\"is_correct\"] = df.apply(is_correct, axis=1)\n",
    "df[\"is_correct\"].mean()"
   ]
  },
  {
   "cell_type": "code",
   "execution_count": 11,
   "metadata": {},
   "outputs": [
    {
     "data": {
      "text/html": [
       "<div>\n",
       "<style scoped>\n",
       "    .dataframe tbody tr th:only-of-type {\n",
       "        vertical-align: middle;\n",
       "    }\n",
       "\n",
       "    .dataframe tbody tr th {\n",
       "        vertical-align: top;\n",
       "    }\n",
       "\n",
       "    .dataframe thead th {\n",
       "        text-align: right;\n",
       "    }\n",
       "</style>\n",
       "<table border=\"1\" class=\"dataframe\">\n",
       "  <thead>\n",
       "    <tr style=\"text-align: right;\">\n",
       "      <th></th>\n",
       "      <th>id</th>\n",
       "      <th>question</th>\n",
       "      <th>answer</th>\n",
       "      <th>predicted_answer</th>\n",
       "      <th>is_correct</th>\n",
       "    </tr>\n",
       "  </thead>\n",
       "  <tbody>\n",
       "    <tr>\n",
       "      <th>0</th>\n",
       "      <td>2hop__128801_205185</td>\n",
       "      <td>What county is the town where KNFM is licensed...</td>\n",
       "      <td>Midland County</td>\n",
       "      <td>Midland County</td>\n",
       "      <td>True</td>\n",
       "    </tr>\n",
       "    <tr>\n",
       "      <th>1</th>\n",
       "      <td>2hop__719559_217649</td>\n",
       "      <td>What's the record label of the artist who put ...</td>\n",
       "      <td>Warner Bros.</td>\n",
       "      <td>Columbia Records</td>\n",
       "      <td>False</td>\n",
       "    </tr>\n",
       "    <tr>\n",
       "      <th>2</th>\n",
       "      <td>2hop__128806_205185</td>\n",
       "      <td>What region is the town where KQRX is liscense...</td>\n",
       "      <td>Midland County</td>\n",
       "      <td>Midland, Texas is the capital of the region wh...</td>\n",
       "      <td>False</td>\n",
       "    </tr>\n",
       "    <tr>\n",
       "      <th>3</th>\n",
       "      <td>2hop__837090_278127</td>\n",
       "      <td>What is the record label of the Do It Again pe...</td>\n",
       "      <td>Roc-A-Fella Records</td>\n",
       "      <td>Roc-A-Fella Records</td>\n",
       "      <td>True</td>\n",
       "    </tr>\n",
       "    <tr>\n",
       "      <th>4</th>\n",
       "      <td>2hop__128895_11424</td>\n",
       "      <td>How many households were there in the town WPU...</td>\n",
       "      <td>15,504</td>\n",
       "      <td>15,504 households.</td>\n",
       "      <td>True</td>\n",
       "    </tr>\n",
       "    <tr>\n",
       "      <th>...</th>\n",
       "      <td>...</td>\n",
       "      <td>...</td>\n",
       "      <td>...</td>\n",
       "      <td>...</td>\n",
       "      <td>...</td>\n",
       "    </tr>\n",
       "    <tr>\n",
       "      <th>95</th>\n",
       "      <td>2hop__651488_94210</td>\n",
       "      <td>Who was the place where Pieta is located desig...</td>\n",
       "      <td>Giorgio Vasari</td>\n",
       "      <td>Pietà (Perugino) - Pietro Perugino</td>\n",
       "      <td>False</td>\n",
       "    </tr>\n",
       "    <tr>\n",
       "      <th>96</th>\n",
       "      <td>2hop__362083_467995</td>\n",
       "      <td>What is the record label of the performer of M...</td>\n",
       "      <td>RCA Records</td>\n",
       "      <td>Lotus (Christina Aguilera album)</td>\n",
       "      <td>False</td>\n",
       "    </tr>\n",
       "    <tr>\n",
       "      <th>97</th>\n",
       "      <td>2hop__525596_543261</td>\n",
       "      <td>The Roman Catholic Diocese of Jim Norton's bir...</td>\n",
       "      <td>Delaware</td>\n",
       "      <td>North Carolina</td>\n",
       "      <td>False</td>\n",
       "    </tr>\n",
       "    <tr>\n",
       "      <th>98</th>\n",
       "      <td>2hop__394596_8607</td>\n",
       "      <td>What metro area is JAKAZiD's birthplace a part...</td>\n",
       "      <td>South Hampshire</td>\n",
       "      <td>Portsmouth, England is not mentioned in the gi...</td>\n",
       "      <td>False</td>\n",
       "    </tr>\n",
       "    <tr>\n",
       "      <th>99</th>\n",
       "      <td>2hop__415654_46042</td>\n",
       "      <td>Where is the rainforest located in the country...</td>\n",
       "      <td>slopes of the Sierra de Luquillo mountains</td>\n",
       "      <td>Puerto Rico</td>\n",
       "      <td>False</td>\n",
       "    </tr>\n",
       "  </tbody>\n",
       "</table>\n",
       "<p>100 rows × 5 columns</p>\n",
       "</div>"
      ],
      "text/plain": [
       "                     id                                           question  \\\n",
       "0   2hop__128801_205185  What county is the town where KNFM is licensed...   \n",
       "1   2hop__719559_217649  What's the record label of the artist who put ...   \n",
       "2   2hop__128806_205185  What region is the town where KQRX is liscense...   \n",
       "3   2hop__837090_278127  What is the record label of the Do It Again pe...   \n",
       "4    2hop__128895_11424  How many households were there in the town WPU...   \n",
       "..                  ...                                                ...   \n",
       "95   2hop__651488_94210  Who was the place where Pieta is located desig...   \n",
       "96  2hop__362083_467995  What is the record label of the performer of M...   \n",
       "97  2hop__525596_543261  The Roman Catholic Diocese of Jim Norton's bir...   \n",
       "98    2hop__394596_8607  What metro area is JAKAZiD's birthplace a part...   \n",
       "99   2hop__415654_46042  Where is the rainforest located in the country...   \n",
       "\n",
       "                                        answer  \\\n",
       "0                               Midland County   \n",
       "1                                 Warner Bros.   \n",
       "2                               Midland County   \n",
       "3                          Roc-A-Fella Records   \n",
       "4                                       15,504   \n",
       "..                                         ...   \n",
       "95                              Giorgio Vasari   \n",
       "96                                 RCA Records   \n",
       "97                                    Delaware   \n",
       "98                             South Hampshire   \n",
       "99  slopes of the Sierra de Luquillo mountains   \n",
       "\n",
       "                                     predicted_answer  is_correct  \n",
       "0                                      Midland County        True  \n",
       "1                                    Columbia Records       False  \n",
       "2   Midland, Texas is the capital of the region wh...       False  \n",
       "3                                 Roc-A-Fella Records        True  \n",
       "4                                  15,504 households.        True  \n",
       "..                                                ...         ...  \n",
       "95                 Pietà (Perugino) - Pietro Perugino       False  \n",
       "96                   Lotus (Christina Aguilera album)       False  \n",
       "97                                     North Carolina       False  \n",
       "98  Portsmouth, England is not mentioned in the gi...       False  \n",
       "99                                        Puerto Rico       False  \n",
       "\n",
       "[100 rows x 5 columns]"
      ]
     },
     "execution_count": 11,
     "metadata": {},
     "output_type": "execute_result"
    }
   ],
   "source": [
    "df[['id', 'question', 'answer', 'predicted_answer', 'is_correct']]"
   ]
  },
  {
   "cell_type": "code",
   "execution_count": null,
   "metadata": {},
   "outputs": [],
   "source": []
  }
 ],
 "metadata": {
  "kernelspec": {
   "display_name": ".venv",
   "language": "python",
   "name": "python3"
  },
  "language_info": {
   "codemirror_mode": {
    "name": "ipython",
    "version": 3
   },
   "file_extension": ".py",
   "mimetype": "text/x-python",
   "name": "python",
   "nbconvert_exporter": "python",
   "pygments_lexer": "ipython3",
   "version": "3.10.4"
  }
 },
 "nbformat": 4,
 "nbformat_minor": 2
}
