{
 "cells": [
  {
   "cell_type": "code",
   "execution_count": 1,
   "metadata": {},
   "outputs": [
    {
     "data": {
      "text/plain": [
       "True"
      ]
     },
     "execution_count": 1,
     "metadata": {},
     "output_type": "execute_result"
    }
   ],
   "source": [
    "from dotenv import load_dotenv\n",
    "load_dotenv()"
   ]
  },
  {
   "cell_type": "code",
   "execution_count": 2,
   "metadata": {},
   "outputs": [],
   "source": [
    "import json\n",
    "import pandas as pd\n",
    "from pathlib import Path\n",
    "from copy import deepcopy\n",
    "from functools import partial\n",
    "\n",
    "from bellek.utils import set_seed, jprint\n",
    "from bellek.musique.eval import calculate_metrics, compare_answers\n",
    "\n",
    "set_seed(89)"
   ]
  },
  {
   "cell_type": "code",
   "execution_count": 3,
   "metadata": {},
   "outputs": [],
   "source": [
    "from tqdm.auto import tqdm\n",
    "tqdm.pandas()"
   ]
  },
  {
   "cell_type": "code",
   "execution_count": 6,
   "metadata": {},
   "outputs": [],
   "source": [
    "def report_scores(pred_path: Path):\n",
    "\n",
    "    df = pd.read_json('../../data/generated/musique-evaluation/dataset.jsonl', orient='records', lines=True).iloc[100:200]\n",
    "    baseline_df = pd.read_json(pred_path, orient='records', lines=True)\n",
    "    df = pd.merge(df, baseline_df.drop(columns=['predicted_support_idxs', 'predicted_answerable']), on='id', suffixes=('', ''))\n",
    "    df = compare_answers(df)\n",
    "    scores = calculate_metrics(df)\n",
    "    print(\"-\"*80)\n",
    "    print(pred_path.stem.replace('musique_ans_v1.0_', ''))\n",
    "    jprint(scores)"
   ]
  },
  {
   "cell_type": "code",
   "execution_count": 7,
   "metadata": {},
   "outputs": [
    {
     "name": "stdout",
     "output_type": "stream",
     "text": [
      "--------------------------------------------------------------------------------\n",
      "dev_select_answer_model_predictions\n",
      "{\n",
      "  \"exact_match\": 0.44,\n",
      "  \"f1\": 0.5455868388406016\n",
      "}\n",
      "--------------------------------------------------------------------------------\n",
      "dev_step_execution_by_select_answer_model_predictions\n",
      "{\n",
      "  \"exact_match\": 0.64,\n",
      "  \"f1\": 0.6975436720142603\n",
      "}\n",
      "--------------------------------------------------------------------------------\n",
      "dev_end2end_model_predictions\n",
      "{\n",
      "  \"exact_match\": 0.36,\n",
      "  \"f1\": 0.44844027653699586\n",
      "}\n",
      "--------------------------------------------------------------------------------\n",
      "dev_step_execution_by_end2end_model_predictions\n",
      "{\n",
      "  \"exact_match\": 0.62,\n",
      "  \"f1\": 0.6934616127978412\n",
      "}\n"
     ]
    }
   ],
   "source": [
    "BASELINE_PREDS_DIR = Path('/Users/bdsaglam/dev/repos/bellek/tmp/predictions/')\n",
    "\n",
    "for pred_path in BASELINE_PREDS_DIR.glob('musique_ans_v1.0_*.jsonl'):\n",
    "    report_scores(pred_path)"
   ]
  },
  {
   "cell_type": "code",
   "execution_count": null,
   "metadata": {},
   "outputs": [],
   "source": []
  }
 ],
 "metadata": {
  "kernelspec": {
   "display_name": "python3",
   "language": "python",
   "name": "python3"
  },
  "language_info": {
   "codemirror_mode": {
    "name": "ipython",
    "version": 3
   },
   "file_extension": ".py",
   "mimetype": "text/x-python",
   "name": "python",
   "nbconvert_exporter": "python",
   "pygments_lexer": "ipython3",
   "version": "3.10.12"
  }
 },
 "nbformat": 4,
 "nbformat_minor": 4
}
