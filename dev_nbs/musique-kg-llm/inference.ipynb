{
  "cells": [
    {
      "cell_type": "code",
      "execution_count": 1,
      "metadata": {},
      "outputs": [
        {
          "data": {
            "text/plain": [
              "True"
            ]
          },
          "execution_count": 1,
          "metadata": {},
          "output_type": "execute_result"
        }
      ],
      "source": [
        "from dotenv import load_dotenv\n",
        "load_dotenv()"
      ]
    },
    {
      "cell_type": "code",
      "execution_count": 2,
      "metadata": {
        "id": "oooSUtbzz0jw"
      },
      "outputs": [],
      "source": [
        "import logging\n",
        "import os\n",
        "import sys\n",
        "import json\n",
        "from pathlib import Path\n",
        "\n",
        "import numpy as np\n",
        "import pandas as pd\n",
        "\n",
        "from IPython.display import Markdown, display\n",
        "\n",
        "logging.basicConfig(stream=sys.stdout, level=logging.INFO)"
      ]
    },
    {
      "cell_type": "code",
      "execution_count": 3,
      "metadata": {},
      "outputs": [],
      "source": [
        "from langchain.globals import set_llm_cache\n",
        "from langchain.cache import SQLiteCache\n",
        "\n",
        "set_llm_cache(SQLiteCache(database_path=\"/tmp/langchain-cache.db\"))"
      ]
    },
    {
      "cell_type": "code",
      "execution_count": 4,
      "metadata": {},
      "outputs": [],
      "source": [
        "DATA_DIR = Path('../../data/musique-llama2/')\n",
        "DATA_DIR.mkdir(exist_ok=True, parents=True)"
      ]
    },
    {
      "cell_type": "markdown",
      "metadata": {
        "id": "EMQP7d770d-w"
      },
      "source": [
        "## Dataset"
      ]
    },
    {
      "cell_type": "code",
      "execution_count": 5,
      "metadata": {
        "id": "auQ5_5hutT1W"
      },
      "outputs": [],
      "source": [
        "from datasets import load_dataset, DatasetDict\n",
        "\n",
        "raw_dsd = load_dataset(\"bdsaglam/musique-answerable-2hop-subset\")"
      ]
    },
    {
      "cell_type": "code",
      "execution_count": 6,
      "metadata": {
        "id": "QI-p4Q0HUFkH"
      },
      "outputs": [
        {
          "data": {
            "text/plain": [
              "DatasetDict({\n",
              "    train: Dataset({\n",
              "        features: ['id', 'paragraphs', 'question', 'question_decomposition', 'answer', 'answer_aliases', 'answerable', 'text'],\n",
              "        num_rows: 10\n",
              "    })\n",
              "    validation: Dataset({\n",
              "        features: ['id', 'paragraphs', 'question', 'question_decomposition', 'answer', 'answer_aliases', 'answerable', 'text'],\n",
              "        num_rows: 10\n",
              "    })\n",
              "})"
            ]
          },
          "execution_count": 6,
          "metadata": {},
          "output_type": "execute_result"
        }
      ],
      "source": [
        "n = 10\n",
        "dsd = DatasetDict({\n",
        "    'train': raw_dsd['train'].select(range(n)),\n",
        "    'validation': raw_dsd['validation'].select(range(n)),\n",
        "})\n",
        "dsd"
      ]
    },
    {
      "cell_type": "code",
      "execution_count": 7,
      "metadata": {
        "id": "rRPG3gwMiFj3"
      },
      "outputs": [
        {
          "name": "stdout",
          "output_type": "stream",
          "text": [
            "What county is the town where KNFM is licensed the capital of?\n",
            "   Q: What town is KNFM liscensed in?\n",
            "   P.11: KNFM (92.3 FM), branded as \"Lonestar 92\", is a Country music formatted radio station that serves the Midland–Odessa metropolitan area. The station broadcasts on FM frequency 92.3 and is under ownership of Townsquare Media.\n",
            "   A: Midland\n",
            "   Q: #1 >> capital of\n",
            "   P.1: Midland is a city in and the county seat of Midland County, Texas, United States, on the Southern Plains of the state's western area. A small portion of the city extends into Martin County.\n",
            "   A: Midland County\n"
          ]
        }
      ],
      "source": [
        "def present_example(example, show_context=False):\n",
        "    print(example['question'])\n",
        "    paragraphs = [p['paragraph_text'] for p in example['paragraphs']]\n",
        "    for qd in example['question_decomposition']:\n",
        "        question = qd['question']\n",
        "        idx = qd['paragraph_support_idx']\n",
        "        answer = qd['answer']\n",
        "        print('  ', f'Q: {question}')\n",
        "        print('  ', f\"P.{idx}:\", paragraphs[idx])\n",
        "        print('  ', f'A: {answer}')\n",
        "    if show_context:\n",
        "        print(\"\\nAll paragraphs\")\n",
        "        print('\\n'.join(paragraphs))\n",
        "\n",
        "present_example(dsd['train'][0])"
      ]
    },
    {
      "cell_type": "markdown",
      "metadata": {},
      "source": [
        "## Question answering with LLM and KG"
      ]
    },
    {
      "cell_type": "code",
      "execution_count": 8,
      "metadata": {},
      "outputs": [],
      "source": [
        "from llama_index.llms import OpenAI\n",
        "from llama_index import ServiceContext"
      ]
    },
    {
      "cell_type": "code",
      "execution_count": 9,
      "metadata": {},
      "outputs": [
        {
          "name": "stdout",
          "output_type": "stream",
          "text": [
            "What's the record label of the artist who put out Me and Julio Down by the Schoolyard?\n",
            "   Q: Me and Julio Down by the Schoolyard >> performer\n",
            "   P.1: \"Me and Julio Down by the Schoolyard\" is a song by American singer-songwriter Paul Simon. It was the second single from his second self-titled studio album (1972), released on Columbia Records.\n",
            "   A: Paul Simon\n",
            "   Q: #1 >> record label\n",
            "   P.9: The Rhythm of the Saints is the eighth solo studio album by American singer-songwriter Paul Simon, released on October 16, 1990 on Warner Bros. Like its predecessor, \"Graceland\" (1986), the album gained commercial success and received mostly favorable reviews from critics.\n",
            "   A: Warner Bros.\n",
            "\n",
            "All paragraphs\n",
            "Antoine Marchand is a record label established in 2003 by the Dutch early music performer Ton Koopman. Antoine Marchand is the French translation of Ton Koopman. The label is distributed by Dutch Jazz and classics distributor Challenge.\n",
            "\"Me and Julio Down by the Schoolyard\" is a song by American singer-songwriter Paul Simon. It was the second single from his second self-titled studio album (1972), released on Columbia Records.\n",
            "Top and Bottom Brass is an album by trumpeter Clark Terry featuring performances recorded in early 1959 and originally released on the Riverside label.\n",
            "Carryin' On is an album by American jazz guitarist Grant Green featuring performances recorded in 1969 and released on the Blue Note label. The album marked Green's return to the Blue Note label and embracing a jazz-funk style that he would play for the rest of his life.\n",
            "Benson & Farrell is the fourteenth album by American guitarist George Benson and jazz saxophonist and flutist Joe Farrell featuring performances recorded in 1976 and released on the CTI label.\n",
            "Collaboration is an album by American jazz group the Modern Jazz Quartet with Brazilian guitarist Laurindo Almeida featuring performances recorded at Webster Hall in 1964 and released on the Atlantic label.\n",
            "African Venus is an album by American jazz saxophonist Dewey Redman featuring performances recorded in 1992 and released on the Evidence label.\n",
            "Jamal Plays Jamal is an album by American jazz pianist Ahmad Jamal featuring performances recorded in 1974 and released on the 20th Century label.\n",
            "Work Time is an album by jazz saxophonist Sonny Rollins, recorded for the Prestige label, featuring performances by Rollins with Ray Bryant, George Morrow, and Max Roach.\n",
            "The Rhythm of the Saints is the eighth solo studio album by American singer-songwriter Paul Simon, released on October 16, 1990 on Warner Bros. Like its predecessor, \"Graceland\" (1986), the album gained commercial success and received mostly favorable reviews from critics.\n",
            "Nirvana is an album by jazz flautist Herbie Mann with Bill Evans's Trio featuring Chuck Israels and Paul Motian, released in 1964 on the Atlantic label and featuring performances recorded in 1961 and 1962.\n",
            "The Voice That Is! is an album by American jazz vocalist Johnny Hartman featuring performances recorded in 1964 for the Impulse! label.\n",
            "Fly with the Wind is a 1976 album by jazz pianist McCoy Tyner, his ninth to be released on the Milestone label. It was recorded in January 1976 and features performances by Tyner with band and string section.\n",
            "Bach to the Blues is an album performed by the Ramsey Lewis Trio that was recorded in 1964 and released on the Argo label.\n",
            "Easterly Winds is an album by American jazz pianist Jack Wilson featuring performances recorded and released on the Blue Note label in 1967.\n",
            "Matador is an album by American jazz trumpeter Kenny Dorham featuring performances recorded in 1962 and released on the United Artists label.\n",
            "Really Big! is the second album by saxophonist Jimmy Heath featuring big band performances recorded in 1960 and originally released on the Riverside label.\n",
            "The Opening is a live album by American jazz pianist Mal Waldron featuring a performance recorded in Paris in 1970 and released on the French Futura label.\n",
            "Red and Black in Willisau is a live album by American jazz saxophonist Dewey Redman and drummer Ed Blackwell featuring performances recorded at the Willisau Jazz Festival in 1980 for the Italian Black Saint label.\n",
            "Straight No Filter is an album by jazz saxophonist Hank Mobley, recorded mostly in 1963 but not released on the Blue Note label until 1985. The albums compiles performances recorded at four different sessions from 1963 to 1966.\n"
          ]
        }
      ],
      "source": [
        "SAMPLE_IDX = 1\n",
        "example = dsd['train'][SAMPLE_IDX]\n",
        "SAMPLE_DIR = DATA_DIR / f\"sample-{SAMPLE_IDX}\"\n",
        "SAMPLE_DIR.mkdir(exist_ok=True, parents=True)\n",
        "with open(SAMPLE_DIR / \"example.json\", 'w') as f: \n",
        "    json.dump(example, f, ensure_ascii=False, indent=2)\n",
        "\n",
        "present_example(example, show_context=True)"
      ]
    },
    {
      "cell_type": "markdown",
      "metadata": {},
      "source": [
        "### Question decomposition"
      ]
    },
    {
      "cell_type": "code",
      "execution_count": 10,
      "metadata": {},
      "outputs": [],
      "source": [
        "from bellek.ml.llm.qdecomp import make_question_decomposer\n",
        "\n",
        "qdecomposer = make_question_decomposer()"
      ]
    },
    {
      "cell_type": "code",
      "execution_count": 11,
      "metadata": {},
      "outputs": [
        {
          "name": "stdout",
          "output_type": "stream",
          "text": [
            "INFO:httpx:HTTP Request: POST https://api.openai.com/v1/chat/completions \"HTTP/1.1 200 OK\"\n",
            "What's the record label of the artist who put out Me and Julio Down by the Schoolyard?\n",
            "\n",
            "Groundtruth\n",
            "  Me and Julio Down by the Schoolyard >> performer\n",
            "  #1 >> record label\n",
            "\n",
            "Prediction\n",
            "  Who is the artist who released \"Me and Julio Down by the Schoolyard\"?\n",
            "  What is the record label of #1?\n"
          ]
        }
      ],
      "source": [
        "sub_questions = qdecomposer(question=example['question'])\n",
        "pred_q_decomp = {\"question_decomposition\": [{\"question\": q} for q in sub_questions]}\n",
        "with open(SAMPLE_DIR / 'question-decomposition-pred.json', 'w') as f: \n",
        "    json.dump(pred_q_decomp, f, ensure_ascii=False, indent=2)\n",
        "\n",
        "print(example['question'])\n",
        "print()\n",
        "print(\"Groundtruth\")\n",
        "for qd in example['question_decomposition']:\n",
        "    print('  ' + qd['question'])\n",
        "print()\n",
        "print(\"Prediction\")\n",
        "for question in sub_questions:\n",
        "    print('  ' + question)"
      ]
    },
    {
      "cell_type": "markdown",
      "metadata": {
        "id": "xmlpfWCpTeBb"
      },
      "source": [
        "### Knowledge graph construction"
      ]
    },
    {
      "cell_type": "code",
      "execution_count": 12,
      "metadata": {},
      "outputs": [],
      "source": [
        "from llama_index import Document\n",
        "\n",
        "def make_docs(example, only_supporting=False):\n",
        "    ps = example['paragraphs']\n",
        "    for p in ps:\n",
        "        if only_supporting and not p[\"is_supporting\"]:\n",
        "            continue\n",
        "        idx = p[\"idx\"]\n",
        "        title = p[\"title\"]\n",
        "        body = p[\"paragraph_text\"]\n",
        "        is_supporting = p[\"is_supporting\"]\n",
        "        text = f\"# {title}\\n{body}\"\n",
        "        yield Document(text=text, metadata=dict(idx=idx, is_supporting=is_supporting))"
      ]
    },
    {
      "cell_type": "code",
      "execution_count": 13,
      "metadata": {},
      "outputs": [
        {
          "data": {
            "text/plain": [
              "[Document(id_='a3571f3a-9837-4c6e-9676-d5c59981b4f3', embedding=None, metadata={'idx': 1, 'is_supporting': True}, excluded_embed_metadata_keys=[], excluded_llm_metadata_keys=[], relationships={}, hash='b9009e56fbc823bc6167ce02e7d54be748e60258f69045b8fd708eef5c459f7e', text='# Me and Julio Down by the Schoolyard\\n\"Me and Julio Down by the Schoolyard\" is a song by American singer-songwriter Paul Simon. It was the second single from his second self-titled studio album (1972), released on Columbia Records.', start_char_idx=None, end_char_idx=None, text_template='{metadata_str}\\n\\n{content}', metadata_template='{key}: {value}', metadata_seperator='\\n'),\n",
              " Document(id_='97086c03-8bbf-44cf-b148-17ccba2d545e', embedding=None, metadata={'idx': 9, 'is_supporting': True}, excluded_embed_metadata_keys=[], excluded_llm_metadata_keys=[], relationships={}, hash='c7aaf254b05bfce52f4f47eeb86c86c854c996c8722c01442ae2cb696d9588c1', text='# The Rhythm of the Saints\\nThe Rhythm of the Saints is the eighth solo studio album by American singer-songwriter Paul Simon, released on October 16, 1990 on Warner Bros. Like its predecessor, \"Graceland\" (1986), the album gained commercial success and received mostly favorable reviews from critics.', start_char_idx=None, end_char_idx=None, text_template='{metadata_str}\\n\\n{content}', metadata_template='{key}: {value}', metadata_seperator='\\n')]"
            ]
          },
          "execution_count": 13,
          "metadata": {},
          "output_type": "execute_result"
        }
      ],
      "source": [
        "list(make_docs(example, only_supporting=True))"
      ]
    },
    {
      "cell_type": "code",
      "execution_count": 14,
      "metadata": {},
      "outputs": [],
      "source": [
        "from llama_index.prompts.base import Prompt\n",
        "from llama_index.prompts.prompt_type import PromptType\n",
        "\n",
        "KG_TRIPLET_EXTRACT_TMPL = \"\"\"<s>[INST] <<SYS>>\n",
        "You are a helpful assistant that extracts up to {max_knowledge_triplets}  entity-relation-entity triplets from given text. Use '|' as delimiter and provide one triplet per line.\n",
        "<</SYS>>\n",
        "Alaa Abdul Zahra plays for Al Shorta SC. His club is AL Kharaitiyat SC, which has its ground at, Al Khor. [/INST] Al Kharaitiyat SC|ground|Al Khor\n",
        "Alaa Abdul-Zahra|club|Al Kharaitiyat SC\n",
        "Alaa Abdul-Zahra|club|Al Shorta SC </s><s>[INST] {text} [/INST] \"\"\"\n",
        "\n",
        "KG_TRIPLET_EXTRACT_PROMPT = Prompt(\n",
        "    KG_TRIPLET_EXTRACT_TMPL, \n",
        "    prompt_type=PromptType.KNOWLEDGE_TRIPLET_EXTRACT,\n",
        ")"
      ]
    },
    {
      "cell_type": "code",
      "execution_count": 15,
      "metadata": {},
      "outputs": [],
      "source": [
        "import kuzu\n",
        "from bellek.kuzu import KuzuGraphStore\n",
        "from llama_index import KnowledgeGraphIndex\n",
        "from llama_index.storage.storage_context import StorageContext"
      ]
    },
    {
      "cell_type": "code",
      "execution_count": 16,
      "metadata": {},
      "outputs": [
        {
          "name": "stdout",
          "output_type": "stream",
          "text": [
            "Building the knowledge graph for the sample...\n",
            "INFO:httpx:HTTP Request: POST https://api.openai.com/v1/chat/completions \"HTTP/1.1 200 OK\"\n",
            "INFO:httpx:HTTP Request: POST https://api.openai.com/v1/chat/completions \"HTTP/1.1 200 OK\"\n"
          ]
        }
      ],
      "source": [
        "# knowledge graph database\n",
        "kg_db_path = SAMPLE_DIR / \"kg\"\n",
        "db = kuzu.Database(str(kg_db_path))\n",
        "graph_store = KuzuGraphStore(db)\n",
        "storage_context = StorageContext.from_defaults(graph_store=graph_store)\n",
        "\n",
        "# documents to index into knowledge graph\n",
        "documents = list(make_docs(example, only_supporting=True))\n",
        "\n",
        "# language model to use for triplet extraction\n",
        "llm = OpenAI(temperature=0, model=\"gpt-3.5-turbo\")\n",
        "kg_service_context = ServiceContext.from_defaults(llm=llm)\n",
        "\n",
        "# index documents\n",
        "if False and kg_db_path.exists():\n",
        "    print(\"Loading the knowledge graph for the sample...\")\n",
        "    index = KnowledgeGraphIndex(\n",
        "        storage_context=storage_context,\n",
        "        service_context=kg_service_context,\n",
        "        include_embeddings=False,\n",
        "    )\n",
        "else:\n",
        "    print(\"Building the knowledge graph for the sample...\")\n",
        "    index = KnowledgeGraphIndex.from_documents(\n",
        "        documents=documents,\n",
        "        max_triplets_per_chunk=10,\n",
        "        storage_context=storage_context,\n",
        "        service_context=kg_service_context,\n",
        "        # include_embeddings=False,\n",
        "        # kg_triple_extract_template=KG_TRIPLET_EXTRACT_PROMPT,\n",
        "    )\n"
      ]
    },
    {
      "cell_type": "code",
      "execution_count": 17,
      "metadata": {},
      "outputs": [],
      "source": [
        "from pyvis.network import Network\n",
        "\n",
        "g = index.get_networkx_graph()\n",
        "net = Network(notebook=True, cdn_resources=\"in_line\", directed=True)\n",
        "net.from_nx(g)\n",
        "net.save_graph(str(SAMPLE_DIR / f\"kg.html\"))"
      ]
    },
    {
      "cell_type": "markdown",
      "metadata": {},
      "source": [
        "### Query"
      ]
    },
    {
      "cell_type": "code",
      "execution_count": 18,
      "metadata": {},
      "outputs": [],
      "source": [
        "query_engine = index.as_query_engine(\n",
        "    include_text=True, \n",
        "    response_mode=\"simple_summarize\",\n",
        "    verbose=True,\n",
        ")\n",
        "\n",
        "original_text_qa_prompt = query_engine.get_prompts()['response_synthesizer:text_qa_template']\n",
        "text_qa_prompt_user_msg_content = \"\"\"Context information is below.\n",
        "---------------------\n",
        "{context_str}\n",
        "---------------------\n",
        "Given the context information and not prior knowledge, answer the query.\n",
        "Query: {query_str}\n",
        "Answer in 2-4 words: \"\"\"\n",
        "original_text_qa_prompt.conditionals[0][1].message_templates[1].content = text_qa_prompt_user_msg_content\n",
        "query_engine.update_prompts({'response_synthesizer:text_qa_template': original_text_qa_prompt})"
      ]
    },
    {
      "cell_type": "code",
      "execution_count": 19,
      "metadata": {},
      "outputs": [
        {
          "name": "stdout",
          "output_type": "stream",
          "text": [
            "INFO:httpx:HTTP Request: POST https://api.openai.com/v1/chat/completions \"HTTP/1.1 200 OK\"\n",
            "\u001b[1;3;32mExtracted keywords: ['\"Me and Julio Down by the Schoolyard\"', 'artist', 'Down', 'Me', 'Julio', 'released', 'Schoolyard']\n",
            "\u001b[0mWARNING:llama_index.indices.knowledge_graph.retrievers:Index was not constructed with embeddings, skipping embedding usage...\n",
            "INFO:llama_index.indices.knowledge_graph.retrievers:> Querying with idx: dbfc5dab-e0c9-4cce-820d-8051d2b77881: # Me and Julio Down by the Schoolyard\n",
            "\"Me and Julio Down by the Schoolyard\" i...\n",
            "\u001b[1;3;34mKG context:\n",
            "The following are knowledge sequence in max depth 2 in the form of directed graph like:\n",
            "`subject -[predicate]->, object, <-[predicate_next_hop]-, object_next_hop ...`\n",
            "['\"Me and Julio Down by the Schoolyard\"', 'is song by', 'Paul Simon']\n",
            "['\"Me and Julio Down by the Schoolyard\"', 'is song by', 'Paul Simon', 'is singer-songwriter of', '\"Me and Julio Down by the Schoolyard\"']\n",
            "['\"Me and Julio Down by the Schoolyard\"', 'is song by', 'Paul Simon', 'released on', 'Columbia Records']\n",
            "['\"Me and Julio Down by the Schoolyard\"', 'is song by', 'Paul Simon', 'released', 'second self-titled studio album']\n",
            "['\"Me and Julio Down by the Schoolyard\"', 'is song by', 'Paul Simon', 'is', 'American singer-songwriter']\n",
            "['\"Me and Julio Down by the Schoolyard\"', 'is song by', 'Paul Simon', 'released', 'The Rhythm of the Saints']\n",
            "\u001b[0mINFO:httpx:HTTP Request: POST https://api.openai.com/v1/chat/completions \"HTTP/1.1 200 OK\"\n",
            "INFO:httpx:HTTP Request: POST https://api.openai.com/v1/chat/completions \"HTTP/1.1 200 OK\"\n",
            "\u001b[1;3;32mExtracted keywords: ['label', 'Paul', 'Simon', 'Paul Simon', 'record label', 'record']\n",
            "\u001b[0mWARNING:llama_index.indices.knowledge_graph.retrievers:Index was not constructed with embeddings, skipping embedding usage...\n",
            "INFO:llama_index.indices.knowledge_graph.retrievers:> Querying with idx: b65dacc1-e486-4e97-a94a-166d1519f8c3: # The Rhythm of the Saints\n",
            "The Rhythm of the Saints is the eighth solo studio...\n",
            "INFO:llama_index.indices.knowledge_graph.retrievers:> Querying with idx: dbfc5dab-e0c9-4cce-820d-8051d2b77881: # Me and Julio Down by the Schoolyard\n",
            "\"Me and Julio Down by the Schoolyard\" i...\n",
            "\u001b[1;3;34mKG context:\n",
            "The following are knowledge sequence in max depth 2 in the form of directed graph like:\n",
            "`subject -[predicate]->, object, <-[predicate_next_hop]-, object_next_hop ...`\n",
            "['Paul Simon', 'released', 'second self-titled studio album', 'is album of', 'Paul Simon']\n",
            "['Paul Simon', 'is singer-songwriter of', '\"Me and Julio Down by the Schoolyard\"', 'is song by', 'Paul Simon']\n",
            "['Paul Simon', 'released on', 'Columbia Records', 'released', '\"Me and Julio Down by the Schoolyard\"']\n",
            "['Paul Simon', 'is singer-songwriter of', '\"Me and Julio Down by the Schoolyard\"']\n",
            "['Paul Simon', 'released on', 'Columbia Records']\n",
            "['Paul Simon', 'released on', 'Columbia Records', 'released', 'second self-titled studio album']\n",
            "['Paul Simon', 'released', 'second self-titled studio album']\n",
            "['Paul Simon', 'released', 'second self-titled studio album', 'was released in', '1972']\n",
            "['Paul Simon', 'released on', 'Columbia Records', 'released', '1972']\n",
            "['Paul Simon', 'is', 'American singer-songwriter']\n",
            "['Paul Simon', 'released', 'The Rhythm of the Saints']\n",
            "['Paul Simon', 'released', 'The Rhythm of the Saints', 'is', 'eighth solo studio album']\n",
            "['Paul Simon', 'released', 'The Rhythm of the Saints', 'gained', 'commercial success']\n",
            "['Paul Simon', 'released', 'The Rhythm of the Saints', 'received', 'mostly favorable reviews']\n",
            "\u001b[0mINFO:httpx:HTTP Request: POST https://api.openai.com/v1/chat/completions \"HTTP/1.1 200 OK\"\n"
          ]
        }
      ],
      "source": [
        "hop1_question = sub_questions[0]\n",
        "hop1_answer = query_engine.query(hop1_question).response\n",
        "hop2_question = sub_questions[1].replace(\"#1\", hop1_answer)\n",
        "hop2_answer = query_engine.query(hop2_question).response"
      ]
    },
    {
      "cell_type": "code",
      "execution_count": 20,
      "metadata": {},
      "outputs": [
        {
          "name": "stdout",
          "output_type": "stream",
          "text": [
            "What's the record label of the artist who put out Me and Julio Down by the Schoolyard?\n",
            "> Me and Julio Down by the Schoolyard >> performer\n",
            "     Paul Simon\n",
            "> #1 >> record label\n",
            "     Warner Bros.\n"
          ]
        }
      ],
      "source": [
        "print(example['question'])\n",
        "for qd in example['question_decomposition']:\n",
        "    print('>', qd['question'])\n",
        "    print(' '*4, qd['answer'])"
      ]
    },
    {
      "cell_type": "code",
      "execution_count": 21,
      "metadata": {},
      "outputs": [
        {
          "name": "stdout",
          "output_type": "stream",
          "text": [
            "What's the record label of the artist who put out Me and Julio Down by the Schoolyard?\n",
            "> Who is the artist who released \"Me and Julio Down by the Schoolyard\"?\n",
            "     Paul Simon\n",
            "> What is the record label of Paul Simon?\n",
            "     Columbia Records\n"
          ]
        }
      ],
      "source": [
        "print(example['question'])\n",
        "print('>', hop1_question)\n",
        "print(' '*4, hop1_answer)\n",
        "print('>', hop2_question)\n",
        "print(' '*4, hop2_answer)"
      ]
    },
    {
      "cell_type": "code",
      "execution_count": 24,
      "metadata": {},
      "outputs": [
        {
          "name": "stdout",
          "output_type": "stream",
          "text": [
            "What's the record label of the artist who put out Me and Julio Down by the Schoolyard?\n",
            "   Q: Me and Julio Down by the Schoolyard >> performer\n",
            "   P.1: \"Me and Julio Down by the Schoolyard\" is a song by American singer-songwriter Paul Simon. It was the second single from his second self-titled studio album (1972), released on Columbia Records.\n",
            "   A: Paul Simon\n",
            "   Q: #1 >> record label\n",
            "   P.9: The Rhythm of the Saints is the eighth solo studio album by American singer-songwriter Paul Simon, released on October 16, 1990 on Warner Bros. Like its predecessor, \"Graceland\" (1986), the album gained commercial success and received mostly favorable reviews from critics.\n",
            "   A: Warner Bros.\n",
            "\n",
            "All paragraphs\n",
            "Antoine Marchand is a record label established in 2003 by the Dutch early music performer Ton Koopman. Antoine Marchand is the French translation of Ton Koopman. The label is distributed by Dutch Jazz and classics distributor Challenge.\n",
            "\"Me and Julio Down by the Schoolyard\" is a song by American singer-songwriter Paul Simon. It was the second single from his second self-titled studio album (1972), released on Columbia Records.\n",
            "Top and Bottom Brass is an album by trumpeter Clark Terry featuring performances recorded in early 1959 and originally released on the Riverside label.\n",
            "Carryin' On is an album by American jazz guitarist Grant Green featuring performances recorded in 1969 and released on the Blue Note label. The album marked Green's return to the Blue Note label and embracing a jazz-funk style that he would play for the rest of his life.\n",
            "Benson & Farrell is the fourteenth album by American guitarist George Benson and jazz saxophonist and flutist Joe Farrell featuring performances recorded in 1976 and released on the CTI label.\n",
            "Collaboration is an album by American jazz group the Modern Jazz Quartet with Brazilian guitarist Laurindo Almeida featuring performances recorded at Webster Hall in 1964 and released on the Atlantic label.\n",
            "African Venus is an album by American jazz saxophonist Dewey Redman featuring performances recorded in 1992 and released on the Evidence label.\n",
            "Jamal Plays Jamal is an album by American jazz pianist Ahmad Jamal featuring performances recorded in 1974 and released on the 20th Century label.\n",
            "Work Time is an album by jazz saxophonist Sonny Rollins, recorded for the Prestige label, featuring performances by Rollins with Ray Bryant, George Morrow, and Max Roach.\n",
            "The Rhythm of the Saints is the eighth solo studio album by American singer-songwriter Paul Simon, released on October 16, 1990 on Warner Bros. Like its predecessor, \"Graceland\" (1986), the album gained commercial success and received mostly favorable reviews from critics.\n",
            "Nirvana is an album by jazz flautist Herbie Mann with Bill Evans's Trio featuring Chuck Israels and Paul Motian, released in 1964 on the Atlantic label and featuring performances recorded in 1961 and 1962.\n",
            "The Voice That Is! is an album by American jazz vocalist Johnny Hartman featuring performances recorded in 1964 for the Impulse! label.\n",
            "Fly with the Wind is a 1976 album by jazz pianist McCoy Tyner, his ninth to be released on the Milestone label. It was recorded in January 1976 and features performances by Tyner with band and string section.\n",
            "Bach to the Blues is an album performed by the Ramsey Lewis Trio that was recorded in 1964 and released on the Argo label.\n",
            "Easterly Winds is an album by American jazz pianist Jack Wilson featuring performances recorded and released on the Blue Note label in 1967.\n",
            "Matador is an album by American jazz trumpeter Kenny Dorham featuring performances recorded in 1962 and released on the United Artists label.\n",
            "Really Big! is the second album by saxophonist Jimmy Heath featuring big band performances recorded in 1960 and originally released on the Riverside label.\n",
            "The Opening is a live album by American jazz pianist Mal Waldron featuring a performance recorded in Paris in 1970 and released on the French Futura label.\n",
            "Red and Black in Willisau is a live album by American jazz saxophonist Dewey Redman and drummer Ed Blackwell featuring performances recorded at the Willisau Jazz Festival in 1980 for the Italian Black Saint label.\n",
            "Straight No Filter is an album by jazz saxophonist Hank Mobley, recorded mostly in 1963 but not released on the Blue Note label until 1985. The albums compiles performances recorded at four different sessions from 1963 to 1966.\n"
          ]
        }
      ],
      "source": [
        "present_example(example, show_context=True)"
      ]
    },
    {
      "cell_type": "code",
      "execution_count": null,
      "metadata": {},
      "outputs": [],
      "source": []
    }
  ],
  "metadata": {
    "colab": {
      "gpuType": "T4",
      "private_outputs": true,
      "provenance": []
    },
    "kernelspec": {
      "display_name": "Python 3",
      "name": "python3"
    },
    "language_info": {
      "codemirror_mode": {
        "name": "ipython",
        "version": 3
      },
      "file_extension": ".py",
      "mimetype": "text/x-python",
      "name": "python",
      "nbconvert_exporter": "python",
      "pygments_lexer": "ipython3",
      "version": "3.10.4"
    }
  },
  "nbformat": 4,
  "nbformat_minor": 0
}
