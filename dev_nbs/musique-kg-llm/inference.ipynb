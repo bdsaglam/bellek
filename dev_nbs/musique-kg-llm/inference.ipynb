{
  "cells": [
    {
      "cell_type": "code",
      "execution_count": 1,
      "metadata": {},
      "outputs": [
        {
          "data": {
            "text/plain": [
              "True"
            ]
          },
          "execution_count": 1,
          "metadata": {},
          "output_type": "execute_result"
        }
      ],
      "source": [
        "from dotenv import load_dotenv\n",
        "load_dotenv()"
      ]
    },
    {
      "cell_type": "code",
      "execution_count": 2,
      "metadata": {
        "id": "oooSUtbzz0jw"
      },
      "outputs": [],
      "source": [
        "import logging\n",
        "import os\n",
        "import sys\n",
        "import json\n",
        "from pathlib import Path\n",
        "\n",
        "import numpy as np\n",
        "import pandas as pd\n",
        "\n",
        "from IPython.display import Markdown, display\n",
        "\n",
        "logging.basicConfig(stream=sys.stdout, level=logging.INFO)"
      ]
    },
    {
      "cell_type": "code",
      "execution_count": 3,
      "metadata": {},
      "outputs": [],
      "source": [
        "from langchain.globals import set_llm_cache\n",
        "from langchain.cache import SQLiteCache\n",
        "\n",
        "set_llm_cache(SQLiteCache(database_path=\"/tmp/langchain-cache.db\"))"
      ]
    },
    {
      "cell_type": "code",
      "execution_count": 4,
      "metadata": {},
      "outputs": [],
      "source": [
        "DATA_DIR = Path('../../tmp/data/musique-llama2/')\n",
        "DATA_DIR.mkdir(exist_ok=True, parents=True)"
      ]
    },
    {
      "cell_type": "markdown",
      "metadata": {
        "id": "EMQP7d770d-w"
      },
      "source": [
        "## Dataset"
      ]
    },
    {
      "cell_type": "code",
      "execution_count": 5,
      "metadata": {
        "id": "auQ5_5hutT1W"
      },
      "outputs": [],
      "source": [
        "from datasets import load_dataset, DatasetDict\n",
        "\n",
        "raw_dsd = load_dataset(\"bdsaglam/musique-answerable-2hop-subset\")"
      ]
    },
    {
      "cell_type": "code",
      "execution_count": 6,
      "metadata": {
        "id": "QI-p4Q0HUFkH"
      },
      "outputs": [
        {
          "data": {
            "text/plain": [
              "DatasetDict({\n",
              "    train: Dataset({\n",
              "        features: ['id', 'paragraphs', 'question', 'question_decomposition', 'answer', 'answer_aliases', 'answerable', 'text'],\n",
              "        num_rows: 10\n",
              "    })\n",
              "    validation: Dataset({\n",
              "        features: ['id', 'paragraphs', 'question', 'question_decomposition', 'answer', 'answer_aliases', 'answerable', 'text'],\n",
              "        num_rows: 10\n",
              "    })\n",
              "})"
            ]
          },
          "execution_count": 6,
          "metadata": {},
          "output_type": "execute_result"
        }
      ],
      "source": [
        "n = 10\n",
        "dsd = DatasetDict({\n",
        "    'train': raw_dsd['train'].select(range(n)),\n",
        "    'validation': raw_dsd['validation'].select(range(n)),\n",
        "})\n",
        "dsd"
      ]
    },
    {
      "cell_type": "code",
      "execution_count": 43,
      "metadata": {},
      "outputs": [
        {
          "data": {
            "application/vnd.jupyter.widget-view+json": {
              "model_id": "e521ca06ca15486abd8353e9db5d4353",
              "version_major": 2,
              "version_minor": 0
            },
            "text/plain": [
              "Creating json from Arrow format:   0%|          | 0/1 [00:00<?, ?ba/s]"
            ]
          },
          "metadata": {},
          "output_type": "display_data"
        },
        {
          "data": {
            "text/plain": [
              "93684"
            ]
          },
          "execution_count": 43,
          "metadata": {},
          "output_type": "execute_result"
        }
      ],
      "source": [
        "dsd['train'].to_json('./temp.json')"
      ]
    },
    {
      "cell_type": "code",
      "execution_count": 7,
      "metadata": {
        "id": "rRPG3gwMiFj3"
      },
      "outputs": [
        {
          "name": "stdout",
          "output_type": "stream",
          "text": [
            "What county is the town where KNFM is licensed the capital of?\n",
            "   Q: What town is KNFM liscensed in?\n",
            "   P.11: KNFM (92.3 FM), branded as \"Lonestar 92\", is a Country music formatted radio station that serves the Midland–Odessa metropolitan area. The station broadcasts on FM frequency 92.3 and is under ownership of Townsquare Media.\n",
            "   A: Midland\n",
            "   Q: #1 >> capital of\n",
            "   P.1: Midland is a city in and the county seat of Midland County, Texas, United States, on the Southern Plains of the state's western area. A small portion of the city extends into Martin County.\n",
            "   A: Midland County\n"
          ]
        }
      ],
      "source": [
        "def present_example(example, show_context=False):\n",
        "    print(example['question'])\n",
        "    paragraphs = [p['paragraph_text'] for p in example['paragraphs']]\n",
        "    for qd in example['question_decomposition']:\n",
        "        question = qd['question']\n",
        "        idx = qd['paragraph_support_idx']\n",
        "        answer = qd['answer']\n",
        "        print('  ', f'Q: {question}')\n",
        "        print('  ', f\"P.{idx}:\", paragraphs[idx])\n",
        "        print('  ', f'A: {answer}')\n",
        "    if show_context:\n",
        "        print(\"\\nAll paragraphs\")\n",
        "        print('\\n'.join(paragraphs))\n",
        "\n",
        "present_example(dsd['train'][0])"
      ]
    },
    {
      "cell_type": "markdown",
      "metadata": {},
      "source": [
        "## Question answering with LLM and KG"
      ]
    },
    {
      "cell_type": "code",
      "execution_count": 8,
      "metadata": {},
      "outputs": [],
      "source": [
        "from llama_index.llms import OpenAI\n",
        "from llama_index import ServiceContext"
      ]
    },
    {
      "cell_type": "code",
      "execution_count": 24,
      "metadata": {},
      "outputs": [
        {
          "name": "stdout",
          "output_type": "stream",
          "text": [
            "What is the record label of the Do It Again performer?\n",
            "   Q: Do It Again >> performer\n",
            "   P.16: \"Do It Again (Put Ya Hands Up)\" is the lead single from rapper Jay-Z's fourth album \"Vol. 3... Life and Times of S. Carter\". The song features production by Rockwilder, including guest vocals by Amil and Beanie Sigel.\n",
            "   A: Jay-Z\n",
            "   Q: #1 >> record label\n",
            "   P.1: Christión was a male duo featuring brothers Kenni Ski and Allen Anthony, the first R&B act to be signed to Jay-Z's Roc-A-Fella Records. They released their single \"Full of Smoke\" on Roc-A-Fella in 1996, reaching #53 on the Hot 100 and #15 on the R&B chart.\n",
            "   A: Roc-A-Fella Records\n",
            "\n",
            "All paragraphs\n",
            "The Opening is a live album by American jazz pianist Mal Waldron featuring a performance recorded in Paris in 1970 and released on the French Futura label.\n",
            "Christión was a male duo featuring brothers Kenni Ski and Allen Anthony, the first R&B act to be signed to Jay-Z's Roc-A-Fella Records. They released their single \"Full of Smoke\" on Roc-A-Fella in 1996, reaching #53 on the Hot 100 and #15 on the R&B chart.\n",
            "Groovin' High is an album by American jazz saxophonist Booker Ervin featuring performances recorded in 1963 and 1964 for the Prestige label.\n",
            "Red and Black in Willisau is a live album by American jazz saxophonist Dewey Redman and drummer Ed Blackwell featuring performances recorded at the Willisau Jazz Festival in 1980 for the Italian Black Saint label.\n",
            "Carryin' On is an album by American jazz guitarist Grant Green featuring performances recorded in 1969 and released on the Blue Note label. The album marked Green's return to the Blue Note label and embracing a jazz-funk style that he would play for the rest of his life.\n",
            "Fly with the Wind is a 1976 album by jazz pianist McCoy Tyner, his ninth to be released on the Milestone label. It was recorded in January 1976 and features performances by Tyner with band and string section.\n",
            "Really Big! is the second album by saxophonist Jimmy Heath featuring big band performances recorded in 1960 and originally released on the Riverside label.\n",
            "Matador is an album by American jazz trumpeter Kenny Dorham featuring performances recorded in 1962 and released on the United Artists label.\n",
            "Top and Bottom Brass is an album by trumpeter Clark Terry featuring performances recorded in early 1959 and originally released on the Riverside label.\n",
            "Easterly Winds is an album by American jazz pianist Jack Wilson featuring performances recorded and released on the Blue Note label in 1967.\n",
            "The Voice That Is! is an album by American jazz vocalist Johnny Hartman featuring performances recorded in 1964 for the Impulse! label.\n",
            "Straight No Filter is an album by jazz saxophonist Hank Mobley, recorded mostly in 1963 but not released on the Blue Note label until 1985. The albums compiles performances recorded at four different sessions from 1963 to 1966.\n",
            "Collaboration is an album by American jazz group the Modern Jazz Quartet with Brazilian guitarist Laurindo Almeida featuring performances recorded at Webster Hall in 1964 and released on the Atlantic label.\n",
            "African Venus is an album by American jazz saxophonist Dewey Redman featuring performances recorded in 1992 and released on the Evidence label.\n",
            "Bach to the Blues is an album performed by the Ramsey Lewis Trio that was recorded in 1964 and released on the Argo label.\n",
            "Antoine Marchand is a record label established in 2003 by the Dutch early music performer Ton Koopman. Antoine Marchand is the French translation of Ton Koopman. The label is distributed by Dutch Jazz and classics distributor Challenge.\n",
            "\"Do It Again (Put Ya Hands Up)\" is the lead single from rapper Jay-Z's fourth album \"Vol. 3... Life and Times of S. Carter\". The song features production by Rockwilder, including guest vocals by Amil and Beanie Sigel.\n",
            "Jamal Plays Jamal is an album by American jazz pianist Ahmad Jamal featuring performances recorded in 1974 and released on the 20th Century label.\n",
            "Benson & Farrell is the fourteenth album by American guitarist George Benson and jazz saxophonist and flutist Joe Farrell featuring performances recorded in 1976 and released on the CTI label.\n",
            "30th Anniversary Tour: Live is the fourth live album by George Thorogood and the Destroyers. It was recorded on May 4, 2004 at the Royal Concert Hall in Nottingham, England, and on October 19, 2004 on the Eagle Records label. The performance was also released on DVD, and as a CD/DVD collectors' edition.\n"
          ]
        }
      ],
      "source": [
        "SAMPLE_IDX = 3\n",
        "example = dsd['train'][SAMPLE_IDX]\n",
        "SAMPLE_DIR = DATA_DIR / f\"sample-{SAMPLE_IDX}\"\n",
        "SAMPLE_DIR.mkdir(exist_ok=True, parents=True)\n",
        "with open(SAMPLE_DIR / \"example.json\", 'w') as f: \n",
        "    json.dump(example, f, ensure_ascii=False, indent=2)\n",
        "\n",
        "present_example(example, show_context=True)"
      ]
    },
    {
      "cell_type": "markdown",
      "metadata": {},
      "source": [
        "### Question decomposition"
      ]
    },
    {
      "cell_type": "code",
      "execution_count": 25,
      "metadata": {},
      "outputs": [],
      "source": [
        "from bellek.ml.llm.qdecomp import make_question_decomposer\n",
        "\n",
        "qdecomposer = make_question_decomposer()"
      ]
    },
    {
      "cell_type": "code",
      "execution_count": 26,
      "metadata": {},
      "outputs": [
        {
          "name": "stdout",
          "output_type": "stream",
          "text": [
            "INFO:httpx:HTTP Request: POST https://api.openai.com/v1/chat/completions \"HTTP/1.1 200 OK\"\n",
            "What is the record label of the Do It Again performer?\n",
            "\n",
            "Groundtruth\n",
            "  Do It Again >> performer\n",
            "  #1 >> record label\n",
            "\n",
            "Prediction\n",
            "  Who is the performer of the song \"Do It Again\"?\n",
            "  What is the record label of #1?\n"
          ]
        }
      ],
      "source": [
        "sub_questions = qdecomposer(question=example['question'])\n",
        "pred_q_decomp = {\"question_decomposition\": [{\"question\": q} for q in sub_questions]}\n",
        "with open(SAMPLE_DIR / 'question-decomposition-pred.json', 'w') as f: \n",
        "    json.dump(pred_q_decomp, f, ensure_ascii=False, indent=2)\n",
        "\n",
        "print(example['question'])\n",
        "print()\n",
        "print(\"Groundtruth\")\n",
        "for qd in example['question_decomposition']:\n",
        "    print('  ' + qd['question'])\n",
        "print()\n",
        "print(\"Prediction\")\n",
        "for question in sub_questions:\n",
        "    print('  ' + question)"
      ]
    },
    {
      "cell_type": "markdown",
      "metadata": {
        "id": "xmlpfWCpTeBb"
      },
      "source": [
        "### Knowledge graph construction"
      ]
    },
    {
      "cell_type": "code",
      "execution_count": 27,
      "metadata": {},
      "outputs": [],
      "source": [
        "from llama_index import Document\n",
        "\n",
        "def make_docs(example, only_supporting=False):\n",
        "    ps = example['paragraphs']\n",
        "    for p in ps:\n",
        "        if only_supporting and not p[\"is_supporting\"]:\n",
        "            continue\n",
        "        idx = p[\"idx\"]\n",
        "        title = p[\"title\"]\n",
        "        body = p[\"paragraph_text\"]\n",
        "        is_supporting = p[\"is_supporting\"]\n",
        "        text = f\"# {title}\\n{body}\"\n",
        "        yield Document(text=text, metadata=dict(idx=idx, is_supporting=is_supporting))"
      ]
    },
    {
      "cell_type": "code",
      "execution_count": 28,
      "metadata": {},
      "outputs": [
        {
          "data": {
            "text/plain": [
              "[Document(id_='17d6cf86-3f5f-4912-bb2e-2212952ae847', embedding=None, metadata={'idx': 1, 'is_supporting': True}, excluded_embed_metadata_keys=[], excluded_llm_metadata_keys=[], relationships={}, hash='0ef6a826ed972648506d37b30b32d4d8e6b8d6c72c2c1e70fa6e23996080a5c3', text='# Christión\\nChristión was a male duo featuring brothers Kenni Ski and Allen Anthony, the first R&B act to be signed to Jay-Z\\'s Roc-A-Fella Records. They released their single \"Full of Smoke\" on Roc-A-Fella in 1996, reaching #53 on the Hot 100 and #15 on the R&B chart.', start_char_idx=None, end_char_idx=None, text_template='{metadata_str}\\n\\n{content}', metadata_template='{key}: {value}', metadata_seperator='\\n'),\n",
              " Document(id_='f782834e-5cb5-42e0-a8fc-ad6d5379481f', embedding=None, metadata={'idx': 16, 'is_supporting': True}, excluded_embed_metadata_keys=[], excluded_llm_metadata_keys=[], relationships={}, hash='518414da957e0c1717c5290ccd1a8ccc5fb2d8567c803a25027e741bbf702726', text='# Do It Again (Put Ya Hands Up)\\n\"Do It Again (Put Ya Hands Up)\" is the lead single from rapper Jay-Z\\'s fourth album \"Vol. 3... Life and Times of S. Carter\". The song features production by Rockwilder, including guest vocals by Amil and Beanie Sigel.', start_char_idx=None, end_char_idx=None, text_template='{metadata_str}\\n\\n{content}', metadata_template='{key}: {value}', metadata_seperator='\\n')]"
            ]
          },
          "execution_count": 28,
          "metadata": {},
          "output_type": "execute_result"
        }
      ],
      "source": [
        "list(make_docs(example, only_supporting=True))"
      ]
    },
    {
      "cell_type": "code",
      "execution_count": 29,
      "metadata": {},
      "outputs": [],
      "source": [
        "from llama_index.prompts.base import Prompt\n",
        "from llama_index.prompts.prompt_type import PromptType\n",
        "\n",
        "KG_TRIPLET_EXTRACT_TMPL = \"\"\"<s>[INST] <<SYS>>\n",
        "You are a helpful assistant that extracts up to {max_knowledge_triplets}  entity-relation-entity triplets from given text. Use '|' as delimiter and provide one triplet per line.\n",
        "<</SYS>>\n",
        "Alaa Abdul Zahra plays for Al Shorta SC. His club is AL Kharaitiyat SC, which has its ground at, Al Khor. [/INST] Al Kharaitiyat SC|ground|Al Khor\n",
        "Alaa Abdul-Zahra|club|Al Kharaitiyat SC\n",
        "Alaa Abdul-Zahra|club|Al Shorta SC </s><s>[INST] {text} [/INST] \"\"\"\n",
        "\n",
        "KG_TRIPLET_EXTRACT_PROMPT = Prompt(\n",
        "    KG_TRIPLET_EXTRACT_TMPL, \n",
        "    prompt_type=PromptType.KNOWLEDGE_TRIPLET_EXTRACT,\n",
        ")"
      ]
    },
    {
      "cell_type": "code",
      "execution_count": 30,
      "metadata": {},
      "outputs": [],
      "source": [
        "import kuzu\n",
        "from bellek.kuzu import KuzuGraphStore\n",
        "from llama_index import KnowledgeGraphIndex\n",
        "from llama_index.storage.storage_context import StorageContext"
      ]
    },
    {
      "cell_type": "code",
      "execution_count": 31,
      "metadata": {},
      "outputs": [],
      "source": [
        "from llama_index.embeddings.huggingface import HuggingFaceEmbedding\n",
        "\n",
        "embed_model = HuggingFaceEmbedding('sentence-transformers/all-MiniLM-L6-v2')"
      ]
    },
    {
      "cell_type": "code",
      "execution_count": 32,
      "metadata": {},
      "outputs": [
        {
          "name": "stdout",
          "output_type": "stream",
          "text": [
            "Building the knowledge graph for the sample...\n",
            "INFO:httpx:HTTP Request: POST https://api.openai.com/v1/chat/completions \"HTTP/1.1 200 OK\"\n",
            "INFO:httpx:HTTP Request: POST https://api.openai.com/v1/chat/completions \"HTTP/1.1 200 OK\"\n"
          ]
        }
      ],
      "source": [
        "# knowledge graph database\n",
        "kg_db_path = SAMPLE_DIR / \"kg\"\n",
        "db = kuzu.Database(str(kg_db_path))\n",
        "graph_store = KuzuGraphStore(db)\n",
        "storage_context = StorageContext.from_defaults(graph_store=graph_store)\n",
        "\n",
        "# documents to index into knowledge graph\n",
        "documents = list(make_docs(example, only_supporting=True))\n",
        "\n",
        "# language model to use for triplet extraction\n",
        "llm = OpenAI(temperature=0, model=\"gpt-3.5-turbo\")\n",
        "kg_service_context = ServiceContext.from_defaults(\n",
        "    llm=llm,\n",
        "    embed_model=embed_model,\n",
        ")\n",
        "\n",
        "# index documents\n",
        "if False and kg_db_path.exists():\n",
        "    print(\"Loading the knowledge graph for the sample...\")\n",
        "    index = KnowledgeGraphIndex(\n",
        "        storage_context=storage_context,\n",
        "        service_context=kg_service_context,\n",
        "        include_embeddings=False,\n",
        "    )\n",
        "else:\n",
        "    print(\"Building the knowledge graph for the sample...\")\n",
        "    index = KnowledgeGraphIndex.from_documents(\n",
        "        documents=documents,\n",
        "        max_triplets_per_chunk=10,\n",
        "        storage_context=storage_context,\n",
        "        service_context=kg_service_context,\n",
        "        include_embeddings=True,\n",
        "        # kg_triple_extract_template=KG_TRIPLET_EXTRACT_PROMPT,\n",
        "    )\n"
      ]
    },
    {
      "cell_type": "code",
      "execution_count": 33,
      "metadata": {},
      "outputs": [],
      "source": [
        "from pyvis.network import Network\n",
        "\n",
        "g = index.get_networkx_graph()\n",
        "net = Network(notebook=True, cdn_resources=\"in_line\", directed=True)\n",
        "net.from_nx(g)\n",
        "net.save_graph(str(SAMPLE_DIR / f\"kg.html\"))"
      ]
    },
    {
      "cell_type": "markdown",
      "metadata": {},
      "source": [
        "### Query"
      ]
    },
    {
      "cell_type": "code",
      "execution_count": 34,
      "metadata": {},
      "outputs": [],
      "source": [
        "query_engine = index.as_query_engine(\n",
        "    include_text=True, \n",
        "    embedding_mode=\"hybrid\",\n",
        "    response_mode=\"simple_summarize\",\n",
        "    verbose=True,\n",
        ")\n",
        "\n",
        "original_text_qa_prompt = query_engine.get_prompts()['response_synthesizer:text_qa_template']\n",
        "text_qa_prompt_user_msg_content = \"\"\"Context information is below.\n",
        "---------------------\n",
        "{context_str}\n",
        "---------------------\n",
        "Given the context information and not prior knowledge, answer the query.\n",
        "Query: {query_str}\n",
        "Answer in 2-4 words: \"\"\"\n",
        "original_text_qa_prompt.conditionals[0][1].message_templates[1].content = text_qa_prompt_user_msg_content\n",
        "query_engine.update_prompts({'response_synthesizer:text_qa_template': original_text_qa_prompt})"
      ]
    },
    {
      "cell_type": "code",
      "execution_count": 35,
      "metadata": {},
      "outputs": [
        {
          "name": "stdout",
          "output_type": "stream",
          "text": [
            "INFO:httpx:HTTP Request: POST https://api.openai.com/v1/chat/completions \"HTTP/1.1 200 OK\"\n",
            "\u001b[1;3;32mExtracted keywords: ['\"Do It Again\"', 'performer', 'Again', 'Do', 'It', 'song']\n",
            "\u001b[0m\u001b[1;3;34mKG context:\n",
            "The following are knowledge sequence in max depth 2 in the form of directed graph like:\n",
            "`subject -[predicate]->, object, <-[predicate_next_hop]-, object_next_hop ...`\n",
            "('\"Do It Again (Put Ya Hands Up)\"', 'features', 'guest vocals')\n",
            "('\"Do It Again (Put Ya Hands Up)\"', 'is', 'the lead single')\n",
            "\u001b[0mINFO:httpx:HTTP Request: POST https://api.openai.com/v1/chat/completions \"HTTP/1.1 200 OK\"\n",
            "INFO:httpx:HTTP Request: POST https://api.openai.com/v1/chat/completions \"HTTP/1.1 200 OK\"\n",
            "\u001b[1;3;32mExtracted keywords: ['record', 'label', 'lead', 'record label', 'lead single', 'single']\n",
            "\u001b[0mINFO:llama_index.indices.knowledge_graph.retrievers:> Querying with idx: e9e14795-a671-4fe0-83f2-ee85359ff03d: # Do It Again (Put Ya Hands Up)\n",
            "\"Do It Again (Put Ya Hands Up)\" is the lead s...\n",
            "\u001b[1;3;34mKG context:\n",
            "The following are knowledge sequence in max depth 2 in the form of directed graph like:\n",
            "`subject -[predicate]->, object, <-[predicate_next_hop]-, object_next_hop ...`\n",
            "('Jay-Z', 'is the lead single from', '\"Vol. 3... Life and Times of S. Carter\"')\n",
            "('\"Do It Again (Put Ya Hands Up)\"', 'is', 'the lead single')\n",
            "\u001b[0mINFO:httpx:HTTP Request: POST https://api.openai.com/v1/chat/completions \"HTTP/1.1 200 OK\"\n"
          ]
        }
      ],
      "source": [
        "hop1_question = sub_questions[0]\n",
        "hop1_answer = query_engine.query(hop1_question).response\n",
        "hop2_question = sub_questions[1].replace(\"#1\", hop1_answer)\n",
        "hop2_answer = query_engine.query(hop2_question).response"
      ]
    },
    {
      "cell_type": "code",
      "execution_count": 36,
      "metadata": {},
      "outputs": [
        {
          "name": "stdout",
          "output_type": "stream",
          "text": [
            "What is the record label of the Do It Again performer?\n",
            "> Do It Again >> performer\n",
            "     Jay-Z\n",
            "> #1 >> record label\n",
            "     Roc-A-Fella Records\n"
          ]
        }
      ],
      "source": [
        "print(example['question'])\n",
        "for qd in example['question_decomposition']:\n",
        "    print('>', qd['question'])\n",
        "    print(' '*4, qd['answer'])"
      ]
    },
    {
      "cell_type": "code",
      "execution_count": 37,
      "metadata": {},
      "outputs": [
        {
          "name": "stdout",
          "output_type": "stream",
          "text": [
            "What is the record label of the Do It Again performer?\n",
            "> Who is the performer of the song \"Do It Again\"?\n",
            "     the lead single\n",
            "> What is the record label of the lead single?\n",
            "     Rockwilder\n"
          ]
        }
      ],
      "source": [
        "print(example['question'])\n",
        "print('>', hop1_question)\n",
        "print(' '*4, hop1_answer)\n",
        "print('>', hop2_question)\n",
        "print(' '*4, hop2_answer)"
      ]
    },
    {
      "cell_type": "code",
      "execution_count": 38,
      "metadata": {},
      "outputs": [
        {
          "name": "stdout",
          "output_type": "stream",
          "text": [
            "What is the record label of the Do It Again performer?\n",
            "   Q: Do It Again >> performer\n",
            "   P.16: \"Do It Again (Put Ya Hands Up)\" is the lead single from rapper Jay-Z's fourth album \"Vol. 3... Life and Times of S. Carter\". The song features production by Rockwilder, including guest vocals by Amil and Beanie Sigel.\n",
            "   A: Jay-Z\n",
            "   Q: #1 >> record label\n",
            "   P.1: Christión was a male duo featuring brothers Kenni Ski and Allen Anthony, the first R&B act to be signed to Jay-Z's Roc-A-Fella Records. They released their single \"Full of Smoke\" on Roc-A-Fella in 1996, reaching #53 on the Hot 100 and #15 on the R&B chart.\n",
            "   A: Roc-A-Fella Records\n",
            "\n",
            "All paragraphs\n",
            "The Opening is a live album by American jazz pianist Mal Waldron featuring a performance recorded in Paris in 1970 and released on the French Futura label.\n",
            "Christión was a male duo featuring brothers Kenni Ski and Allen Anthony, the first R&B act to be signed to Jay-Z's Roc-A-Fella Records. They released their single \"Full of Smoke\" on Roc-A-Fella in 1996, reaching #53 on the Hot 100 and #15 on the R&B chart.\n",
            "Groovin' High is an album by American jazz saxophonist Booker Ervin featuring performances recorded in 1963 and 1964 for the Prestige label.\n",
            "Red and Black in Willisau is a live album by American jazz saxophonist Dewey Redman and drummer Ed Blackwell featuring performances recorded at the Willisau Jazz Festival in 1980 for the Italian Black Saint label.\n",
            "Carryin' On is an album by American jazz guitarist Grant Green featuring performances recorded in 1969 and released on the Blue Note label. The album marked Green's return to the Blue Note label and embracing a jazz-funk style that he would play for the rest of his life.\n",
            "Fly with the Wind is a 1976 album by jazz pianist McCoy Tyner, his ninth to be released on the Milestone label. It was recorded in January 1976 and features performances by Tyner with band and string section.\n",
            "Really Big! is the second album by saxophonist Jimmy Heath featuring big band performances recorded in 1960 and originally released on the Riverside label.\n",
            "Matador is an album by American jazz trumpeter Kenny Dorham featuring performances recorded in 1962 and released on the United Artists label.\n",
            "Top and Bottom Brass is an album by trumpeter Clark Terry featuring performances recorded in early 1959 and originally released on the Riverside label.\n",
            "Easterly Winds is an album by American jazz pianist Jack Wilson featuring performances recorded and released on the Blue Note label in 1967.\n",
            "The Voice That Is! is an album by American jazz vocalist Johnny Hartman featuring performances recorded in 1964 for the Impulse! label.\n",
            "Straight No Filter is an album by jazz saxophonist Hank Mobley, recorded mostly in 1963 but not released on the Blue Note label until 1985. The albums compiles performances recorded at four different sessions from 1963 to 1966.\n",
            "Collaboration is an album by American jazz group the Modern Jazz Quartet with Brazilian guitarist Laurindo Almeida featuring performances recorded at Webster Hall in 1964 and released on the Atlantic label.\n",
            "African Venus is an album by American jazz saxophonist Dewey Redman featuring performances recorded in 1992 and released on the Evidence label.\n",
            "Bach to the Blues is an album performed by the Ramsey Lewis Trio that was recorded in 1964 and released on the Argo label.\n",
            "Antoine Marchand is a record label established in 2003 by the Dutch early music performer Ton Koopman. Antoine Marchand is the French translation of Ton Koopman. The label is distributed by Dutch Jazz and classics distributor Challenge.\n",
            "\"Do It Again (Put Ya Hands Up)\" is the lead single from rapper Jay-Z's fourth album \"Vol. 3... Life and Times of S. Carter\". The song features production by Rockwilder, including guest vocals by Amil and Beanie Sigel.\n",
            "Jamal Plays Jamal is an album by American jazz pianist Ahmad Jamal featuring performances recorded in 1974 and released on the 20th Century label.\n",
            "Benson & Farrell is the fourteenth album by American guitarist George Benson and jazz saxophonist and flutist Joe Farrell featuring performances recorded in 1976 and released on the CTI label.\n",
            "30th Anniversary Tour: Live is the fourth live album by George Thorogood and the Destroyers. It was recorded on May 4, 2004 at the Royal Concert Hall in Nottingham, England, and on October 19, 2004 on the Eagle Records label. The performance was also released on DVD, and as a CD/DVD collectors' edition.\n"
          ]
        }
      ],
      "source": [
        "present_example(example, show_context=True)"
      ]
    },
    {
      "cell_type": "code",
      "execution_count": null,
      "metadata": {},
      "outputs": [],
      "source": []
    }
  ],
  "metadata": {
    "colab": {
      "gpuType": "T4",
      "private_outputs": true,
      "provenance": []
    },
    "kernelspec": {
      "display_name": "Python 3",
      "name": "python3"
    },
    "language_info": {
      "codemirror_mode": {
        "name": "ipython",
        "version": 3
      },
      "file_extension": ".py",
      "mimetype": "text/x-python",
      "name": "python",
      "nbconvert_exporter": "python",
      "pygments_lexer": "ipython3",
      "version": "3.10.4"
    }
  },
  "nbformat": 4,
  "nbformat_minor": 0
}
