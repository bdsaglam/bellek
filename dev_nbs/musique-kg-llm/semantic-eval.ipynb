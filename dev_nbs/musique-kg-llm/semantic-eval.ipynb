{
 "cells": [
  {
   "cell_type": "code",
   "execution_count": null,
   "metadata": {},
   "outputs": [
    {
     "data": {
      "text/plain": [
       "True"
      ]
     },
     "execution_count": null,
     "metadata": {},
     "output_type": "execute_result"
    }
   ],
   "source": [
    "from dotenv import load_dotenv\n",
    "load_dotenv()"
   ]
  },
  {
   "cell_type": "code",
   "execution_count": null,
   "metadata": {},
   "outputs": [],
   "source": [
    "import os\n",
    "from functools import partial\n",
    "from pathlib import Path\n",
    "\n",
    "import pandas as pd\n",
    "from openai import OpenAI\n",
    "\n",
    "from bellek.utils import jprint\n",
    "from bellek.utils import set_seed\n",
    "\n",
    "set_seed(42)"
   ]
  },
  {
   "cell_type": "code",
   "execution_count": null,
   "metadata": {},
   "outputs": [],
   "source": [
    "from tqdm.auto import tqdm\n",
    "tqdm.pandas()"
   ]
  },
  {
   "cell_type": "markdown",
   "metadata": {},
   "source": [
    "## Dataset"
   ]
  },
  {
   "cell_type": "code",
   "execution_count": null,
   "metadata": {},
   "outputs": [
    {
     "name": "stdout",
     "output_type": "stream",
     "text": [
      "1252\n"
     ]
    },
    {
     "data": {
      "text/html": [
       "<div>\n",
       "<style scoped>\n",
       "    .dataframe tbody tr th:only-of-type {\n",
       "        vertical-align: middle;\n",
       "    }\n",
       "\n",
       "    .dataframe tbody tr th {\n",
       "        vertical-align: top;\n",
       "    }\n",
       "\n",
       "    .dataframe thead th {\n",
       "        text-align: right;\n",
       "    }\n",
       "</style>\n",
       "<table border=\"1\" class=\"dataframe\">\n",
       "  <thead>\n",
       "    <tr style=\"text-align: right;\">\n",
       "      <th></th>\n",
       "      <th>id</th>\n",
       "      <th>paragraphs</th>\n",
       "      <th>answer</th>\n",
       "      <th>answer_aliases</th>\n",
       "      <th>answerable</th>\n",
       "      <th>answers</th>\n",
       "      <th>question</th>\n",
       "      <th>question_decomposition</th>\n",
       "    </tr>\n",
       "  </thead>\n",
       "  <tbody>\n",
       "    <tr>\n",
       "      <th>0</th>\n",
       "      <td>2hop__131818_161450</td>\n",
       "      <td>[{'idx': 0, 'title': 'Maria Carrillo High Scho...</td>\n",
       "      <td>in the north-east of the country south of the ...</td>\n",
       "      <td>[Caspian Sea, in the north-east of the country...</td>\n",
       "      <td>True</td>\n",
       "      <td>[Caspian Sea, in the north-east of the country...</td>\n",
       "      <td>Where is the Voshmgir District located?</td>\n",
       "      <td>[{'id': 131818, 'question': 'In which province...</td>\n",
       "    </tr>\n",
       "    <tr>\n",
       "      <th>1</th>\n",
       "      <td>2hop__444265_82341</td>\n",
       "      <td>[{'idx': 0, 'title': 'Ocala, Florida', 'paragr...</td>\n",
       "      <td>in Northern Florida</td>\n",
       "      <td>[in Northern Florida, Northern Florida]</td>\n",
       "      <td>True</td>\n",
       "      <td>[in Northern Florida, Northern Florida]</td>\n",
       "      <td>In what part of Florida is Tom Denney's birthp...</td>\n",
       "      <td>[{'id': 444265, 'question': 'Where was Tom Den...</td>\n",
       "    </tr>\n",
       "    <tr>\n",
       "      <th>2</th>\n",
       "      <td>2hop__711946_269414</td>\n",
       "      <td>[{'idx': 0, 'title': 'Wild Thing (Tone Lōc son...</td>\n",
       "      <td>Kill Rock Stars</td>\n",
       "      <td>[Kill Rock Stars]</td>\n",
       "      <td>True</td>\n",
       "      <td>[Kill Rock Stars]</td>\n",
       "      <td>What record label is the performer who release...</td>\n",
       "      <td>[{'id': 711946, 'question': 'Who released All ...</td>\n",
       "    </tr>\n",
       "    <tr>\n",
       "      <th>3</th>\n",
       "      <td>2hop__311931_417706</td>\n",
       "      <td>[{'idx': 0, 'title': 'The Main Attraction (alb...</td>\n",
       "      <td>Attic Records</td>\n",
       "      <td>[Attic, Attic Records]</td>\n",
       "      <td>True</td>\n",
       "      <td>[Attic, Attic Records]</td>\n",
       "      <td>What record label does the performer of Emotio...</td>\n",
       "      <td>[{'id': 311931, 'question': 'Who is the perfor...</td>\n",
       "    </tr>\n",
       "    <tr>\n",
       "      <th>4</th>\n",
       "      <td>2hop__809785_606637</td>\n",
       "      <td>[{'idx': 0, 'title': 'The Main Attraction (alb...</td>\n",
       "      <td>Secret City Records</td>\n",
       "      <td>[Secret City Records]</td>\n",
       "      <td>True</td>\n",
       "      <td>[Secret City Records]</td>\n",
       "      <td>What record label does the performer of Advent...</td>\n",
       "      <td>[{'id': 809785, 'question': 'Who is the perfor...</td>\n",
       "    </tr>\n",
       "  </tbody>\n",
       "</table>\n",
       "</div>"
      ],
      "text/plain": [
       "                    id                                         paragraphs  \\\n",
       "0  2hop__131818_161450  [{'idx': 0, 'title': 'Maria Carrillo High Scho...   \n",
       "1   2hop__444265_82341  [{'idx': 0, 'title': 'Ocala, Florida', 'paragr...   \n",
       "2  2hop__711946_269414  [{'idx': 0, 'title': 'Wild Thing (Tone Lōc son...   \n",
       "3  2hop__311931_417706  [{'idx': 0, 'title': 'The Main Attraction (alb...   \n",
       "4  2hop__809785_606637  [{'idx': 0, 'title': 'The Main Attraction (alb...   \n",
       "\n",
       "                                              answer  \\\n",
       "0  in the north-east of the country south of the ...   \n",
       "1                                in Northern Florida   \n",
       "2                                    Kill Rock Stars   \n",
       "3                                      Attic Records   \n",
       "4                                Secret City Records   \n",
       "\n",
       "                                      answer_aliases  answerable  \\\n",
       "0  [Caspian Sea, in the north-east of the country...        True   \n",
       "1            [in Northern Florida, Northern Florida]        True   \n",
       "2                                  [Kill Rock Stars]        True   \n",
       "3                             [Attic, Attic Records]        True   \n",
       "4                              [Secret City Records]        True   \n",
       "\n",
       "                                             answers  \\\n",
       "0  [Caspian Sea, in the north-east of the country...   \n",
       "1            [in Northern Florida, Northern Florida]   \n",
       "2                                  [Kill Rock Stars]   \n",
       "3                             [Attic, Attic Records]   \n",
       "4                              [Secret City Records]   \n",
       "\n",
       "                                            question  \\\n",
       "0            Where is the Voshmgir District located?   \n",
       "1  In what part of Florida is Tom Denney's birthp...   \n",
       "2  What record label is the performer who release...   \n",
       "3  What record label does the performer of Emotio...   \n",
       "4  What record label does the performer of Advent...   \n",
       "\n",
       "                              question_decomposition  \n",
       "0  [{'id': 131818, 'question': 'In which province...  \n",
       "1  [{'id': 444265, 'question': 'Where was Tom Den...  \n",
       "2  [{'id': 711946, 'question': 'Who released All ...  \n",
       "3  [{'id': 311931, 'question': 'Who is the perfor...  \n",
       "4  [{'id': 809785, 'question': 'Who is the perfor...  "
      ]
     },
     "execution_count": null,
     "metadata": {},
     "output_type": "execute_result"
    }
   ],
   "source": [
    "df = pd.read_json('../../data/generated/musique-evaluation/dataset.jsonl', orient='records', lines=True)\n",
    "qd_df = pd.read_json('../../data/generated/musique-evaluation/question-decomposition.jsonl', orient='records', lines=True)\n",
    "df = pd.merge(df.drop(columns=['question', 'question_decomposition']), qd_df, on='id', suffixes=('', ''))\n",
    "print(len(df))\n",
    "df.head()"
   ]
  },
  {
   "cell_type": "code",
   "execution_count": null,
   "metadata": {},
   "outputs": [
    {
     "name": "stdout",
     "output_type": "stream",
     "text": [
      "25038\n"
     ]
    },
    {
     "data": {
      "text/html": [
       "<div>\n",
       "<style scoped>\n",
       "    .dataframe tbody tr th:only-of-type {\n",
       "        vertical-align: middle;\n",
       "    }\n",
       "\n",
       "    .dataframe tbody tr th {\n",
       "        vertical-align: top;\n",
       "    }\n",
       "\n",
       "    .dataframe thead th {\n",
       "        text-align: right;\n",
       "    }\n",
       "</style>\n",
       "<table border=\"1\" class=\"dataframe\">\n",
       "  <thead>\n",
       "    <tr style=\"text-align: right;\">\n",
       "      <th></th>\n",
       "      <th>id</th>\n",
       "      <th>paragraph_idx</th>\n",
       "      <th>paragraph_text</th>\n",
       "      <th>paragraph_title</th>\n",
       "      <th>is_supporting</th>\n",
       "      <th>text</th>\n",
       "      <th>input</th>\n",
       "      <th>generation</th>\n",
       "    </tr>\n",
       "  </thead>\n",
       "  <tbody>\n",
       "    <tr>\n",
       "      <th>0</th>\n",
       "      <td>2hop__131818_161450</td>\n",
       "      <td>0</td>\n",
       "      <td>Maria Carrillo High School is a public high sc...</td>\n",
       "      <td>Maria Carrillo High School</td>\n",
       "      <td>False</td>\n",
       "      <td># Maria Carrillo High School\\nMaria Carrillo H...</td>\n",
       "      <td>[{'content': 'You are an excellent knowledge g...</td>\n",
       "      <td>Maria Carrillo High School | location | Santa ...</td>\n",
       "    </tr>\n",
       "    <tr>\n",
       "      <th>1</th>\n",
       "      <td>2hop__131818_161450</td>\n",
       "      <td>1</td>\n",
       "      <td>Golestān Province (Persian: استان گلستان‎, Ost...</td>\n",
       "      <td>Golestan Province</td>\n",
       "      <td>True</td>\n",
       "      <td># Golestan Province\\nGolestān Province (Persia...</td>\n",
       "      <td>[{'content': 'You are an excellent knowledge g...</td>\n",
       "      <td>Golestan Province | location | north-east of I...</td>\n",
       "    </tr>\n",
       "    <tr>\n",
       "      <th>2</th>\n",
       "      <td>2hop__131818_161450</td>\n",
       "      <td>2</td>\n",
       "      <td>Voshmgir District () is a district (bakhsh) in...</td>\n",
       "      <td>Voshmgir District</td>\n",
       "      <td>True</td>\n",
       "      <td># Voshmgir District\\nVoshmgir District () is a...</td>\n",
       "      <td>[{'content': 'You are an excellent knowledge g...</td>\n",
       "      <td>Voshmgir District | location | Aqqala County, ...</td>\n",
       "    </tr>\n",
       "    <tr>\n",
       "      <th>3</th>\n",
       "      <td>2hop__131818_161450</td>\n",
       "      <td>3</td>\n",
       "      <td>52 Heroor is a village in the southern state o...</td>\n",
       "      <td>52 Heroor</td>\n",
       "      <td>False</td>\n",
       "      <td># 52 Heroor\\n52 Heroor is a village in the sou...</td>\n",
       "      <td>[{'content': 'You are an excellent knowledge g...</td>\n",
       "      <td>52 Heroor | location | Karnataka, India\\n52 He...</td>\n",
       "    </tr>\n",
       "    <tr>\n",
       "      <th>4</th>\n",
       "      <td>2hop__131818_161450</td>\n",
       "      <td>4</td>\n",
       "      <td>Vennaimalai is a village of Karur District loc...</td>\n",
       "      <td>Vennaimalai</td>\n",
       "      <td>False</td>\n",
       "      <td># Vennaimalai\\nVennaimalai is a village of Kar...</td>\n",
       "      <td>[{'content': 'You are an excellent knowledge g...</td>\n",
       "      <td>Vennaimalai | location | Karur District\\nVenna...</td>\n",
       "    </tr>\n",
       "  </tbody>\n",
       "</table>\n",
       "</div>"
      ],
      "text/plain": [
       "                    id  paragraph_idx  \\\n",
       "0  2hop__131818_161450              0   \n",
       "1  2hop__131818_161450              1   \n",
       "2  2hop__131818_161450              2   \n",
       "3  2hop__131818_161450              3   \n",
       "4  2hop__131818_161450              4   \n",
       "\n",
       "                                      paragraph_text  \\\n",
       "0  Maria Carrillo High School is a public high sc...   \n",
       "1  Golestān Province (Persian: استان گلستان‎, Ost...   \n",
       "2  Voshmgir District () is a district (bakhsh) in...   \n",
       "3  52 Heroor is a village in the southern state o...   \n",
       "4  Vennaimalai is a village of Karur District loc...   \n",
       "\n",
       "              paragraph_title  is_supporting  \\\n",
       "0  Maria Carrillo High School          False   \n",
       "1           Golestan Province           True   \n",
       "2           Voshmgir District           True   \n",
       "3                   52 Heroor          False   \n",
       "4                 Vennaimalai          False   \n",
       "\n",
       "                                                text  \\\n",
       "0  # Maria Carrillo High School\\nMaria Carrillo H...   \n",
       "1  # Golestan Province\\nGolestān Province (Persia...   \n",
       "2  # Voshmgir District\\nVoshmgir District () is a...   \n",
       "3  # 52 Heroor\\n52 Heroor is a village in the sou...   \n",
       "4  # Vennaimalai\\nVennaimalai is a village of Kar...   \n",
       "\n",
       "                                               input  \\\n",
       "0  [{'content': 'You are an excellent knowledge g...   \n",
       "1  [{'content': 'You are an excellent knowledge g...   \n",
       "2  [{'content': 'You are an excellent knowledge g...   \n",
       "3  [{'content': 'You are an excellent knowledge g...   \n",
       "4  [{'content': 'You are an excellent knowledge g...   \n",
       "\n",
       "                                          generation  \n",
       "0  Maria Carrillo High School | location | Santa ...  \n",
       "1  Golestan Province | location | north-east of I...  \n",
       "2  Voshmgir District | location | Aqqala County, ...  \n",
       "3  52 Heroor | location | Karnataka, India\\n52 He...  \n",
       "4  Vennaimalai | location | Karur District\\nVenna...  "
      ]
     },
     "execution_count": null,
     "metadata": {},
     "output_type": "execute_result"
    }
   ],
   "source": [
    "jerx_file = Path(\"../../data/raw/musique-evaluation/jerx-inferences/llama3-base.jsonl\")\n",
    "jerx_df = pd.read_json(jerx_file, lines=True)\n",
    "print(len(jerx_df))\n",
    "jerx_df.head()"
   ]
  },
  {
   "cell_type": "code",
   "execution_count": null,
   "metadata": {},
   "outputs": [],
   "source": [
    "jerx_mapping = {(row['id'], row['paragraph_idx']): row['generation'] for _, row in jerx_df.iterrows()}\n",
    "\n",
    "def extract_triplets(example: dict):\n",
    "    example[\"triplets_str\"] = [jerx_mapping[(example['id'], p['idx'])].strip() for p in example['paragraphs']]\n",
    "    return example"
   ]
  },
  {
   "cell_type": "code",
   "execution_count": null,
   "metadata": {},
   "outputs": [
    {
     "data": {
      "text/html": [
       "<div>\n",
       "<style scoped>\n",
       "    .dataframe tbody tr th:only-of-type {\n",
       "        vertical-align: middle;\n",
       "    }\n",
       "\n",
       "    .dataframe tbody tr th {\n",
       "        vertical-align: top;\n",
       "    }\n",
       "\n",
       "    .dataframe thead th {\n",
       "        text-align: right;\n",
       "    }\n",
       "</style>\n",
       "<table border=\"1\" class=\"dataframe\">\n",
       "  <thead>\n",
       "    <tr style=\"text-align: right;\">\n",
       "      <th></th>\n",
       "      <th>id</th>\n",
       "      <th>paragraphs</th>\n",
       "      <th>answer</th>\n",
       "      <th>answer_aliases</th>\n",
       "      <th>answerable</th>\n",
       "      <th>answers</th>\n",
       "      <th>question</th>\n",
       "      <th>question_decomposition</th>\n",
       "      <th>triplets_str</th>\n",
       "    </tr>\n",
       "  </thead>\n",
       "  <tbody>\n",
       "    <tr>\n",
       "      <th>0</th>\n",
       "      <td>2hop__131818_161450</td>\n",
       "      <td>[{'idx': 0, 'title': 'Maria Carrillo High Scho...</td>\n",
       "      <td>in the north-east of the country south of the ...</td>\n",
       "      <td>[Caspian Sea, in the north-east of the country...</td>\n",
       "      <td>True</td>\n",
       "      <td>[Caspian Sea, in the north-east of the country...</td>\n",
       "      <td>Where is the Voshmgir District located?</td>\n",
       "      <td>[{'id': 131818, 'question': 'In which province...</td>\n",
       "      <td>[Maria Carrillo High School | location | Santa...</td>\n",
       "    </tr>\n",
       "    <tr>\n",
       "      <th>1</th>\n",
       "      <td>2hop__444265_82341</td>\n",
       "      <td>[{'idx': 0, 'title': 'Ocala, Florida', 'paragr...</td>\n",
       "      <td>in Northern Florida</td>\n",
       "      <td>[in Northern Florida, Northern Florida]</td>\n",
       "      <td>True</td>\n",
       "      <td>[in Northern Florida, Northern Florida]</td>\n",
       "      <td>In what part of Florida is Tom Denney's birthp...</td>\n",
       "      <td>[{'id': 444265, 'question': 'Where was Tom Den...</td>\n",
       "      <td>[Ocala | location | Florida\\nOcala | location ...</td>\n",
       "    </tr>\n",
       "    <tr>\n",
       "      <th>2</th>\n",
       "      <td>2hop__711946_269414</td>\n",
       "      <td>[{'idx': 0, 'title': 'Wild Thing (Tone Lōc son...</td>\n",
       "      <td>Kill Rock Stars</td>\n",
       "      <td>[Kill Rock Stars]</td>\n",
       "      <td>True</td>\n",
       "      <td>[Kill Rock Stars]</td>\n",
       "      <td>What record label is the performer who release...</td>\n",
       "      <td>[{'id': 711946, 'question': 'Who released All ...</td>\n",
       "      <td>[Wild Thing | song by | Tone Lōc\\nWild Thing |...</td>\n",
       "    </tr>\n",
       "    <tr>\n",
       "      <th>3</th>\n",
       "      <td>2hop__311931_417706</td>\n",
       "      <td>[{'idx': 0, 'title': 'The Main Attraction (alb...</td>\n",
       "      <td>Attic Records</td>\n",
       "      <td>[Attic, Attic Records]</td>\n",
       "      <td>True</td>\n",
       "      <td>[Attic, Attic Records]</td>\n",
       "      <td>What record label does the performer of Emotio...</td>\n",
       "      <td>[{'id': 311931, 'question': 'Who is the perfor...</td>\n",
       "      <td>[The Main Attraction | type | album\\nThe Main ...</td>\n",
       "    </tr>\n",
       "    <tr>\n",
       "      <th>4</th>\n",
       "      <td>2hop__809785_606637</td>\n",
       "      <td>[{'idx': 0, 'title': 'The Main Attraction (alb...</td>\n",
       "      <td>Secret City Records</td>\n",
       "      <td>[Secret City Records]</td>\n",
       "      <td>True</td>\n",
       "      <td>[Secret City Records]</td>\n",
       "      <td>What record label does the performer of Advent...</td>\n",
       "      <td>[{'id': 809785, 'question': 'Who is the perfor...</td>\n",
       "      <td>[The Main Attraction (album) | artist | Grant ...</td>\n",
       "    </tr>\n",
       "  </tbody>\n",
       "</table>\n",
       "</div>"
      ],
      "text/plain": [
       "                    id                                         paragraphs  \\\n",
       "0  2hop__131818_161450  [{'idx': 0, 'title': 'Maria Carrillo High Scho...   \n",
       "1   2hop__444265_82341  [{'idx': 0, 'title': 'Ocala, Florida', 'paragr...   \n",
       "2  2hop__711946_269414  [{'idx': 0, 'title': 'Wild Thing (Tone Lōc son...   \n",
       "3  2hop__311931_417706  [{'idx': 0, 'title': 'The Main Attraction (alb...   \n",
       "4  2hop__809785_606637  [{'idx': 0, 'title': 'The Main Attraction (alb...   \n",
       "\n",
       "                                              answer  \\\n",
       "0  in the north-east of the country south of the ...   \n",
       "1                                in Northern Florida   \n",
       "2                                    Kill Rock Stars   \n",
       "3                                      Attic Records   \n",
       "4                                Secret City Records   \n",
       "\n",
       "                                      answer_aliases  answerable  \\\n",
       "0  [Caspian Sea, in the north-east of the country...        True   \n",
       "1            [in Northern Florida, Northern Florida]        True   \n",
       "2                                  [Kill Rock Stars]        True   \n",
       "3                             [Attic, Attic Records]        True   \n",
       "4                              [Secret City Records]        True   \n",
       "\n",
       "                                             answers  \\\n",
       "0  [Caspian Sea, in the north-east of the country...   \n",
       "1            [in Northern Florida, Northern Florida]   \n",
       "2                                  [Kill Rock Stars]   \n",
       "3                             [Attic, Attic Records]   \n",
       "4                              [Secret City Records]   \n",
       "\n",
       "                                            question  \\\n",
       "0            Where is the Voshmgir District located?   \n",
       "1  In what part of Florida is Tom Denney's birthp...   \n",
       "2  What record label is the performer who release...   \n",
       "3  What record label does the performer of Emotio...   \n",
       "4  What record label does the performer of Advent...   \n",
       "\n",
       "                              question_decomposition  \\\n",
       "0  [{'id': 131818, 'question': 'In which province...   \n",
       "1  [{'id': 444265, 'question': 'Where was Tom Den...   \n",
       "2  [{'id': 711946, 'question': 'Who released All ...   \n",
       "3  [{'id': 311931, 'question': 'Who is the perfor...   \n",
       "4  [{'id': 809785, 'question': 'Who is the perfor...   \n",
       "\n",
       "                                        triplets_str  \n",
       "0  [Maria Carrillo High School | location | Santa...  \n",
       "1  [Ocala | location | Florida\\nOcala | location ...  \n",
       "2  [Wild Thing | song by | Tone Lōc\\nWild Thing |...  \n",
       "3  [The Main Attraction | type | album\\nThe Main ...  \n",
       "4  [The Main Attraction (album) | artist | Grant ...  "
      ]
     },
     "execution_count": null,
     "metadata": {},
     "output_type": "execute_result"
    }
   ],
   "source": [
    "df = df.apply(extract_triplets, axis=1)\n",
    "df.head()"
   ]
  },
  {
   "cell_type": "code",
   "execution_count": null,
   "metadata": {},
   "outputs": [
    {
     "data": {
      "text/plain": [
       "id                                                       2hop__444265_82341\n",
       "paragraphs                [{'idx': 0, 'title': 'Ocala, Florida', 'paragr...\n",
       "answer                                                  in Northern Florida\n",
       "answer_aliases                      [in Northern Florida, Northern Florida]\n",
       "answerable                                                             True\n",
       "answers                             [in Northern Florida, Northern Florida]\n",
       "question                  In what part of Florida is Tom Denney's birthp...\n",
       "question_decomposition    [{'id': 444265, 'question': 'Where was Tom Den...\n",
       "triplets_str              [Ocala | location | Florida\\nOcala | location ...\n",
       "Name: 1, dtype: object"
      ]
     },
     "execution_count": null,
     "metadata": {},
     "output_type": "execute_result"
    }
   ],
   "source": [
    "i = 1\n",
    "row = df.iloc[i]\n",
    "row"
   ]
  },
  {
   "cell_type": "code",
   "execution_count": null,
   "metadata": {},
   "outputs": [
    {
     "name": "stdout",
     "output_type": "stream",
     "text": [
      "Ocala | location | Florida\n",
      "Ocala | location type | Northern Florida\n",
      "Ocala | population | 57,468\n",
      "Ocala | ranking | 45th (most populated city in Florida)\n",
      "================================================================================\n",
      "Jasmine Estates | location | Pasco County, Florida\n",
      "Jasmine Estates | type | Census-designated place\n",
      "Jasmine Estates | population | 18,989\n",
      "Jasmine Estates | census year | 2010\n",
      "================================================================================\n",
      "Ridgecrest | location | Pinellas County, Florida, United States\n",
      "Ridgecrest | type | Census-designated place (CDP)\n",
      "Ridgecrest | population | 2,558 (2010 census)\n",
      "================================================================================\n",
      "Villas | location | Lee County, Florida\n",
      "Villas | type | census designated place (CDP)\n",
      "Villas | population | 11,346\n",
      "Villas | part of | Cape Coral-Fort Myers, Florida Metropolitan Statistical Area\n",
      "================================================================================\n",
      "Lacoochee | location | Pasco County, Florida, United States\n",
      "Lacoochee | population | 1345\n",
      "Lacoochee | type | Census-designated place (CDP)\n",
      "================================================================================\n",
      "Solana, Florida | location | Charlotte County, Florida, United States\n",
      "Solana, Florida | type | Unincorporated community and census-designated place\n",
      "Solana, Florida | population | 742\n",
      "Solana, Florida | metropolitan area | Punta Gorda, Florida Metropolitan Statistical Area\n",
      "================================================================================\n",
      "Tamiami | location | Miami-Dade County, Florida\n",
      "Tamiami | location | Florida\n",
      "Tamiami | population | 55,271 (2010 census)\n",
      "================================================================================\n",
      "Gladeview | location | Miami-Dade County, Florida\n",
      "Gladeview | type | Census-designated place (CDP)\n",
      "Gladeview | population | 11,535 (2010)\n",
      "================================================================================\n",
      "Golden Lakes | location | Palm Beach County, Florida\n",
      "Golden Lakes | type | Census-designated place (CDP)\n",
      "Golden Lakes | population | 6,694\n",
      "Golden Lakes | census year | 2000\n",
      "================================================================================\n",
      "Zephyrhills North | location | Pasco County, Florida\n",
      "Zephyrhills North | type | Census-designated place (CDP)\n",
      "Zephyrhills North | population | 2,544 (2000 census)\n",
      "================================================================================\n",
      "East Palatka | location | Florida\n",
      "East Palatka | type | Census-designated place\n",
      "East Palatka | county | Putnam County\n",
      "East Palatka | population | 1654\n",
      "East Palatka | census year | 2010\n",
      "================================================================================\n",
      "West DeLand | location | Florida\n",
      "West DeLand | location county | Volusia County\n",
      "West DeLand | population | 3,535\n",
      "West DeLand | census designation | Census-Designated Place\n",
      "================================================================================\n",
      "Tom Denney | birth date | November 23, 1982\n",
      "Tom Denney | birth place | Ocala, Florida\n",
      "Tom Denney | profession | musician\n",
      "Tom Denney | affiliation | A Day to Remember (founding member)\n",
      "Tom Denney | role | ex-lead guitarist\n",
      "================================================================================\n",
      "Royal Palm Estates | location | Palm Beach County, Florida, United States\n",
      "Royal Palm Estates | type | Census-designated place (CDP)\n",
      "Royal Palm Estates | population | 3,583 (2000 census)\n",
      "================================================================================\n",
      "Kendall Green | location | Pompano Beach, Florida\n",
      "Kendall Green | former type | Census-designated place (CDP)\n",
      "Kendall Green | location | Broward County, Florida\n",
      "================================================================================\n",
      "Princeton, Florida | type | Unincorporated community\n",
      "Princeton, Florida | location | Miami-Dade County, Florida, United States\n",
      "Princeton, Florida | population | 22,038\n",
      "Princeton, Florida | census-designated place | Yes\n",
      "================================================================================\n",
      "South Beach | location | Indian River County, Florida\n",
      "South Beach | rank | 10th in Florida by per capita income\n",
      "South Beach | population | 3,501\n",
      "South Beach | census-designated place | city\n",
      "================================================================================\n",
      "Ives Estates | location | Miami-Dade County, Florida, United States\n",
      "Ives Estates | type | Census-designated place (CDP)\n",
      "Ives Estates | population | 17,586\n",
      "================================================================================\n",
      "Tom Hammonds | profession | Basketball player\n",
      "Tom Hammonds | profession | Drag racer\n",
      "Tom Hammonds | birthdate | March 27, 1967\n",
      "Tom Hammonds | birthplace | Fort Walton Beach, Florida\n",
      "================================================================================\n",
      "Dildo Key | location | Florida Bay\n",
      "Dildo Key | location | Everglades National Park\n",
      "Dildo Key | location | Florida\n",
      "Dildo Cactus | species | Acanthocereus tetragonus\n",
      "Dildo Key | named after | Dildo Cactus\n",
      "================================================================================\n"
     ]
    }
   ],
   "source": [
    "for triplets in row['triplets_str']:\n",
    "    print(triplets) \n",
    "    print(\"=\"*80)"
   ]
  },
  {
   "cell_type": "code",
   "execution_count": null,
   "metadata": {},
   "outputs": [
    {
     "name": "stdout",
     "output_type": "stream",
     "text": [
      "In what part of Florida is Tom Denney's birthplace located?\n"
     ]
    }
   ],
   "source": [
    "print(row['question'])"
   ]
  },
  {
   "cell_type": "code",
   "execution_count": null,
   "metadata": {},
   "outputs": [
    {
     "name": "stdout",
     "output_type": "stream",
     "text": [
      "Where was Tom Denney born?\n",
      "In what part of Florida is #1 located?\n"
     ]
    }
   ],
   "source": [
    "print(row['question_decomposition'][0]['question'])\n",
    "print(row['question_decomposition'][1]['question'])"
   ]
  },
  {
   "cell_type": "code",
   "execution_count": null,
   "metadata": {},
   "outputs": [
    {
     "data": {
      "text/plain": [
       "{'id': 444265,\n",
       " 'question': 'Where was Tom Denney born?',\n",
       " 'answer': 'Ocala',\n",
       " 'paragraph_support_idx': 12}"
      ]
     },
     "execution_count": null,
     "metadata": {},
     "output_type": "execute_result"
    }
   ],
   "source": [
    "row['question_decomposition'][0]"
   ]
  },
  {
   "cell_type": "markdown",
   "metadata": {},
   "source": [
    "## Search"
   ]
  },
  {
   "cell_type": "code",
   "execution_count": null,
   "metadata": {},
   "outputs": [
    {
     "name": "stderr",
     "output_type": "stream",
     "text": [
      "/Users/bdsaglam/dev/repos/bellek/.venv/lib/python3.10/site-packages/huggingface_hub/file_download.py:1132: FutureWarning: `resume_download` is deprecated and will be removed in version 1.0.0. Downloads always resume when possible. If you want to force a new download, use `force_download=True`.\n",
      "  warnings.warn(\n"
     ]
    }
   ],
   "source": [
    "from sentence_transformers import SentenceTransformer\n",
    "\n",
    "model = SentenceTransformer(\"all-MiniLM-L6-v2\")\n",
    "\n",
    "def search(docs: list[dict], query: str, top_k: int = 3):\n",
    "    embeddings = model.encode([doc['text'] for doc in docs])\n",
    "    query_vectors = model.encode([query])\n",
    "    similarities = model.similarity(embeddings, query_vectors)\n",
    "    sorted_indices = similarities.argsort(dim=0, descending=True)\n",
    "    return [docs[i] for i in sorted_indices[:top_k]]"
   ]
  },
  {
   "cell_type": "code",
   "execution_count": null,
   "metadata": {},
   "outputs": [
    {
     "name": "stdout",
     "output_type": "stream",
     "text": [
      "Ocala (/ oʊ ˈkælə / oh - KAL - ə) is a city located in Northern Florida. As of the 2013 census, its population, estimated by the United States Census Bureau, was 57,468, making it the 45th most populated city in Florida.\n"
     ]
    }
   ],
   "source": [
    "docs = [{'text': p['paragraph_text'], **p} for p in row['paragraphs']]\n",
    "print(docs[0]['text'])"
   ]
  },
  {
   "cell_type": "code",
   "execution_count": null,
   "metadata": {},
   "outputs": [
    {
     "data": {
      "text/plain": [
       "'Where was Tom Denney born?'"
      ]
     },
     "execution_count": null,
     "metadata": {},
     "output_type": "execute_result"
    }
   ],
   "source": [
    "question = row['question_decomposition'][0]['question']\n",
    "question"
   ]
  },
  {
   "cell_type": "code",
   "execution_count": null,
   "metadata": {},
   "outputs": [
    {
     "data": {
      "text/plain": [
       "[{'text': 'Tom Denney (born November 23, 1982) is an American musician from Ocala, Florida. Denney is a founding member and the ex-lead guitarist of A Day to Remember. He has since parted ways with the band and now produces at his own recording studio.',\n",
       "  'idx': 12,\n",
       "  'title': 'Tom Denney',\n",
       "  'paragraph_text': 'Tom Denney (born November 23, 1982) is an American musician from Ocala, Florida. Denney is a founding member and the ex-lead guitarist of A Day to Remember. He has since parted ways with the band and now produces at his own recording studio.',\n",
       "  'is_supporting': True},\n",
       " {'text': 'Tom Edward Hammonds (born March 27, 1967) is a retired American professional basketball player and National Hot Rod Association drag racer. He was born in Fort Walton Beach, Florida, and attended Crestview High School in Crestview, Florida.',\n",
       "  'idx': 18,\n",
       "  'title': 'Tom Hammonds',\n",
       "  'paragraph_text': 'Tom Edward Hammonds (born March 27, 1967) is a retired American professional basketball player and National Hot Rod Association drag racer. He was born in Fort Walton Beach, Florida, and attended Crestview High School in Crestview, Florida.',\n",
       "  'is_supporting': False},\n",
       " {'text': 'Ridgecrest is a census-designated place (CDP) in Pinellas County, Florida, United States. The population was 2,558 at the 2010 census.',\n",
       "  'idx': 2,\n",
       "  'title': 'Ridgecrest, Florida',\n",
       "  'paragraph_text': 'Ridgecrest is a census-designated place (CDP) in Pinellas County, Florida, United States. The population was 2,558 at the 2010 census.',\n",
       "  'is_supporting': False}]"
      ]
     },
     "execution_count": null,
     "metadata": {},
     "output_type": "execute_result"
    }
   ],
   "source": [
    "search(docs, question, top_k=3)"
   ]
  },
  {
   "cell_type": "code",
   "execution_count": null,
   "metadata": {},
   "outputs": [],
   "source": [
    "def retrieval(row):\n",
    "    docs = [{'text': p['paragraph_text'], **p} for p in row['paragraphs']]\n",
    "    query1 = row['question_decomposition'][0]['question']\n",
    "    query2 = row['question_decomposition'][1]['question'].replace(\"#1\", row['question_decomposition'][0]['answer'])\n",
    "    for i, qd, query  in zip(range(1,3), row['question_decomposition'], [query1, query2]):\n",
    "        results = search(docs, query, top_k = len(row['paragraphs']))\n",
    "        retrieved_docs_ids = [result['idx'] for result in results]\n",
    "        row[f'target_doc_idx_{i}'] = qd['paragraph_support_idx']\n",
    "        row[f'retrieved_doc_ids_{i}'] = retrieved_docs_ids\n",
    "        row[f'target_retrieval_pos_{i}'] = retrieved_docs_ids.index(qd['paragraph_support_idx'])\n",
    "    return row"
   ]
  },
  {
   "cell_type": "code",
   "execution_count": null,
   "metadata": {},
   "outputs": [
    {
     "data": {
      "application/vnd.jupyter.widget-view+json": {
       "model_id": "0fec4203641f4c51b8b01386150c08cd",
       "version_major": 2,
       "version_minor": 0
      },
      "text/plain": [
       "  0%|          | 0/1252 [00:00<?, ?it/s]"
      ]
     },
     "metadata": {},
     "output_type": "display_data"
    }
   ],
   "source": [
    "df = df.progress_apply(retrieval, axis=1)"
   ]
  },
  {
   "cell_type": "code",
   "execution_count": null,
   "metadata": {},
   "outputs": [
    {
     "data": {
      "text/html": [
       "<div>\n",
       "<style scoped>\n",
       "    .dataframe tbody tr th:only-of-type {\n",
       "        vertical-align: middle;\n",
       "    }\n",
       "\n",
       "    .dataframe tbody tr th {\n",
       "        vertical-align: top;\n",
       "    }\n",
       "\n",
       "    .dataframe thead th {\n",
       "        text-align: right;\n",
       "    }\n",
       "</style>\n",
       "<table border=\"1\" class=\"dataframe\">\n",
       "  <thead>\n",
       "    <tr style=\"text-align: right;\">\n",
       "      <th></th>\n",
       "      <th>id</th>\n",
       "      <th>paragraphs</th>\n",
       "      <th>answer</th>\n",
       "      <th>answer_aliases</th>\n",
       "      <th>answerable</th>\n",
       "      <th>answers</th>\n",
       "      <th>question</th>\n",
       "      <th>question_decomposition</th>\n",
       "      <th>triplets_str</th>\n",
       "      <th>target_doc_idx_1</th>\n",
       "      <th>retrieved_doc_ids_1</th>\n",
       "      <th>target_retrieval_pos_1</th>\n",
       "      <th>target_doc_idx_2</th>\n",
       "      <th>retrieved_doc_ids_2</th>\n",
       "      <th>target_retrieval_pos_2</th>\n",
       "    </tr>\n",
       "  </thead>\n",
       "  <tbody>\n",
       "    <tr>\n",
       "      <th>0</th>\n",
       "      <td>2hop__131818_161450</td>\n",
       "      <td>[{'idx': 0, 'title': 'Maria Carrillo High Scho...</td>\n",
       "      <td>in the north-east of the country south of the ...</td>\n",
       "      <td>[Caspian Sea, in the north-east of the country...</td>\n",
       "      <td>True</td>\n",
       "      <td>[Caspian Sea, in the north-east of the country...</td>\n",
       "      <td>Where is the Voshmgir District located?</td>\n",
       "      <td>[{'id': 131818, 'question': 'In which province...</td>\n",
       "      <td>[Maria Carrillo High School | location | Santa...</td>\n",
       "      <td>2</td>\n",
       "      <td>[2, 19, 16, 1, 18, 5, 7, 3, 15, 14, 4, 17, 6, ...</td>\n",
       "      <td>0</td>\n",
       "      <td>1</td>\n",
       "      <td>[1, 2, 4, 14, 5, 16, 19, 6, 9, 8, 7, 3, 10, 18...</td>\n",
       "      <td>0</td>\n",
       "    </tr>\n",
       "    <tr>\n",
       "      <th>1</th>\n",
       "      <td>2hop__444265_82341</td>\n",
       "      <td>[{'idx': 0, 'title': 'Ocala, Florida', 'paragr...</td>\n",
       "      <td>in Northern Florida</td>\n",
       "      <td>[in Northern Florida, Northern Florida]</td>\n",
       "      <td>True</td>\n",
       "      <td>[in Northern Florida, Northern Florida]</td>\n",
       "      <td>In what part of Florida is Tom Denney's birthp...</td>\n",
       "      <td>[{'id': 444265, 'question': 'Where was Tom Den...</td>\n",
       "      <td>[Ocala | location | Florida\\nOcala | location ...</td>\n",
       "      <td>12</td>\n",
       "      <td>[12, 18, 2, 5, 14, 6, 11, 9, 17, 16, 7, 10, 19...</td>\n",
       "      <td>0</td>\n",
       "      <td>0</td>\n",
       "      <td>[0, 1, 9, 2, 15, 4, 6, 19, 14, 10, 7, 11, 3, 1...</td>\n",
       "      <td>0</td>\n",
       "    </tr>\n",
       "    <tr>\n",
       "      <th>2</th>\n",
       "      <td>2hop__711946_269414</td>\n",
       "      <td>[{'idx': 0, 'title': 'Wild Thing (Tone Lōc son...</td>\n",
       "      <td>Kill Rock Stars</td>\n",
       "      <td>[Kill Rock Stars]</td>\n",
       "      <td>True</td>\n",
       "      <td>[Kill Rock Stars]</td>\n",
       "      <td>What record label is the performer who release...</td>\n",
       "      <td>[{'id': 711946, 'question': 'Who released All ...</td>\n",
       "      <td>[Wild Thing | song by | Tone Lōc\\nWild Thing |...</td>\n",
       "      <td>3</td>\n",
       "      <td>[3, 0, 8, 10, 17, 19, 18, 13, 5, 15, 1, 2, 14,...</td>\n",
       "      <td>0</td>\n",
       "      <td>4</td>\n",
       "      <td>[4, 3, 19, 6, 7, 15, 1, 10, 18, 12, 5, 13, 17,...</td>\n",
       "      <td>0</td>\n",
       "    </tr>\n",
       "    <tr>\n",
       "      <th>3</th>\n",
       "      <td>2hop__311931_417706</td>\n",
       "      <td>[{'idx': 0, 'title': 'The Main Attraction (alb...</td>\n",
       "      <td>Attic Records</td>\n",
       "      <td>[Attic, Attic Records]</td>\n",
       "      <td>True</td>\n",
       "      <td>[Attic, Attic Records]</td>\n",
       "      <td>What record label does the performer of Emotio...</td>\n",
       "      <td>[{'id': 311931, 'question': 'Who is the perfor...</td>\n",
       "      <td>[The Main Attraction | type | album\\nThe Main ...</td>\n",
       "      <td>10</td>\n",
       "      <td>[10, 1, 16, 18, 19, 9, 0, 14, 6, 7, 17, 4, 11,...</td>\n",
       "      <td>0</td>\n",
       "      <td>8</td>\n",
       "      <td>[8, 10, 11, 12, 15, 4, 5, 13, 14, 17, 7, 9, 0,...</td>\n",
       "      <td>0</td>\n",
       "    </tr>\n",
       "    <tr>\n",
       "      <th>4</th>\n",
       "      <td>2hop__809785_606637</td>\n",
       "      <td>[{'idx': 0, 'title': 'The Main Attraction (alb...</td>\n",
       "      <td>Secret City Records</td>\n",
       "      <td>[Secret City Records]</td>\n",
       "      <td>True</td>\n",
       "      <td>[Secret City Records]</td>\n",
       "      <td>What record label does the performer of Advent...</td>\n",
       "      <td>[{'id': 809785, 'question': 'Who is the perfor...</td>\n",
       "      <td>[The Main Attraction (album) | artist | Grant ...</td>\n",
       "      <td>15</td>\n",
       "      <td>[15, 14, 3, 16, 0, 2, 6, 17, 13, 9, 18, 19, 5,...</td>\n",
       "      <td>0</td>\n",
       "      <td>18</td>\n",
       "      <td>[15, 18, 9, 4, 19, 6, 1, 5, 2, 13, 12, 3, 10, ...</td>\n",
       "      <td>1</td>\n",
       "    </tr>\n",
       "  </tbody>\n",
       "</table>\n",
       "</div>"
      ],
      "text/plain": [
       "                    id                                         paragraphs  \\\n",
       "0  2hop__131818_161450  [{'idx': 0, 'title': 'Maria Carrillo High Scho...   \n",
       "1   2hop__444265_82341  [{'idx': 0, 'title': 'Ocala, Florida', 'paragr...   \n",
       "2  2hop__711946_269414  [{'idx': 0, 'title': 'Wild Thing (Tone Lōc son...   \n",
       "3  2hop__311931_417706  [{'idx': 0, 'title': 'The Main Attraction (alb...   \n",
       "4  2hop__809785_606637  [{'idx': 0, 'title': 'The Main Attraction (alb...   \n",
       "\n",
       "                                              answer  \\\n",
       "0  in the north-east of the country south of the ...   \n",
       "1                                in Northern Florida   \n",
       "2                                    Kill Rock Stars   \n",
       "3                                      Attic Records   \n",
       "4                                Secret City Records   \n",
       "\n",
       "                                      answer_aliases  answerable  \\\n",
       "0  [Caspian Sea, in the north-east of the country...        True   \n",
       "1            [in Northern Florida, Northern Florida]        True   \n",
       "2                                  [Kill Rock Stars]        True   \n",
       "3                             [Attic, Attic Records]        True   \n",
       "4                              [Secret City Records]        True   \n",
       "\n",
       "                                             answers  \\\n",
       "0  [Caspian Sea, in the north-east of the country...   \n",
       "1            [in Northern Florida, Northern Florida]   \n",
       "2                                  [Kill Rock Stars]   \n",
       "3                             [Attic, Attic Records]   \n",
       "4                              [Secret City Records]   \n",
       "\n",
       "                                            question  \\\n",
       "0            Where is the Voshmgir District located?   \n",
       "1  In what part of Florida is Tom Denney's birthp...   \n",
       "2  What record label is the performer who release...   \n",
       "3  What record label does the performer of Emotio...   \n",
       "4  What record label does the performer of Advent...   \n",
       "\n",
       "                              question_decomposition  \\\n",
       "0  [{'id': 131818, 'question': 'In which province...   \n",
       "1  [{'id': 444265, 'question': 'Where was Tom Den...   \n",
       "2  [{'id': 711946, 'question': 'Who released All ...   \n",
       "3  [{'id': 311931, 'question': 'Who is the perfor...   \n",
       "4  [{'id': 809785, 'question': 'Who is the perfor...   \n",
       "\n",
       "                                        triplets_str  target_doc_idx_1  \\\n",
       "0  [Maria Carrillo High School | location | Santa...                 2   \n",
       "1  [Ocala | location | Florida\\nOcala | location ...                12   \n",
       "2  [Wild Thing | song by | Tone Lōc\\nWild Thing |...                 3   \n",
       "3  [The Main Attraction | type | album\\nThe Main ...                10   \n",
       "4  [The Main Attraction (album) | artist | Grant ...                15   \n",
       "\n",
       "                                 retrieved_doc_ids_1  target_retrieval_pos_1  \\\n",
       "0  [2, 19, 16, 1, 18, 5, 7, 3, 15, 14, 4, 17, 6, ...                       0   \n",
       "1  [12, 18, 2, 5, 14, 6, 11, 9, 17, 16, 7, 10, 19...                       0   \n",
       "2  [3, 0, 8, 10, 17, 19, 18, 13, 5, 15, 1, 2, 14,...                       0   \n",
       "3  [10, 1, 16, 18, 19, 9, 0, 14, 6, 7, 17, 4, 11,...                       0   \n",
       "4  [15, 14, 3, 16, 0, 2, 6, 17, 13, 9, 18, 19, 5,...                       0   \n",
       "\n",
       "   target_doc_idx_2                                retrieved_doc_ids_2  \\\n",
       "0                 1  [1, 2, 4, 14, 5, 16, 19, 6, 9, 8, 7, 3, 10, 18...   \n",
       "1                 0  [0, 1, 9, 2, 15, 4, 6, 19, 14, 10, 7, 11, 3, 1...   \n",
       "2                 4  [4, 3, 19, 6, 7, 15, 1, 10, 18, 12, 5, 13, 17,...   \n",
       "3                 8  [8, 10, 11, 12, 15, 4, 5, 13, 14, 17, 7, 9, 0,...   \n",
       "4                18  [15, 18, 9, 4, 19, 6, 1, 5, 2, 13, 12, 3, 10, ...   \n",
       "\n",
       "   target_retrieval_pos_2  \n",
       "0                       0  \n",
       "1                       0  \n",
       "2                       0  \n",
       "3                       0  \n",
       "4                       1  "
      ]
     },
     "execution_count": null,
     "metadata": {},
     "output_type": "execute_result"
    }
   ],
   "source": [
    "df.head()"
   ]
  },
  {
   "cell_type": "code",
   "execution_count": null,
   "metadata": {},
   "outputs": [
    {
     "data": {
      "text/html": [
       "<div>\n",
       "<style scoped>\n",
       "    .dataframe tbody tr th:only-of-type {\n",
       "        vertical-align: middle;\n",
       "    }\n",
       "\n",
       "    .dataframe tbody tr th {\n",
       "        vertical-align: top;\n",
       "    }\n",
       "\n",
       "    .dataframe thead th {\n",
       "        text-align: right;\n",
       "    }\n",
       "</style>\n",
       "<table border=\"1\" class=\"dataframe\">\n",
       "  <thead>\n",
       "    <tr style=\"text-align: right;\">\n",
       "      <th></th>\n",
       "      <th>target_retrieval_pos_1</th>\n",
       "      <th>target_retrieval_pos_2</th>\n",
       "    </tr>\n",
       "  </thead>\n",
       "  <tbody>\n",
       "    <tr>\n",
       "      <th>count</th>\n",
       "      <td>1252.000000</td>\n",
       "      <td>1252.000000</td>\n",
       "    </tr>\n",
       "    <tr>\n",
       "      <th>mean</th>\n",
       "      <td>1.144569</td>\n",
       "      <td>0.990415</td>\n",
       "    </tr>\n",
       "    <tr>\n",
       "      <th>std</th>\n",
       "      <td>2.992241</td>\n",
       "      <td>2.379617</td>\n",
       "    </tr>\n",
       "    <tr>\n",
       "      <th>min</th>\n",
       "      <td>0.000000</td>\n",
       "      <td>0.000000</td>\n",
       "    </tr>\n",
       "    <tr>\n",
       "      <th>50%</th>\n",
       "      <td>0.000000</td>\n",
       "      <td>0.000000</td>\n",
       "    </tr>\n",
       "    <tr>\n",
       "      <th>75%</th>\n",
       "      <td>1.000000</td>\n",
       "      <td>1.000000</td>\n",
       "    </tr>\n",
       "    <tr>\n",
       "      <th>90%</th>\n",
       "      <td>4.000000</td>\n",
       "      <td>3.000000</td>\n",
       "    </tr>\n",
       "    <tr>\n",
       "      <th>95%</th>\n",
       "      <td>7.000000</td>\n",
       "      <td>6.000000</td>\n",
       "    </tr>\n",
       "    <tr>\n",
       "      <th>max</th>\n",
       "      <td>19.000000</td>\n",
       "      <td>19.000000</td>\n",
       "    </tr>\n",
       "  </tbody>\n",
       "</table>\n",
       "</div>"
      ],
      "text/plain": [
       "       target_retrieval_pos_1  target_retrieval_pos_2\n",
       "count             1252.000000             1252.000000\n",
       "mean                 1.144569                0.990415\n",
       "std                  2.992241                2.379617\n",
       "min                  0.000000                0.000000\n",
       "50%                  0.000000                0.000000\n",
       "75%                  1.000000                1.000000\n",
       "90%                  4.000000                3.000000\n",
       "95%                  7.000000                6.000000\n",
       "max                 19.000000               19.000000"
      ]
     },
     "execution_count": null,
     "metadata": {},
     "output_type": "execute_result"
    }
   ],
   "source": [
    "df[['target_retrieval_pos_1', 'target_retrieval_pos_2']].describe(percentiles=[.5, .75, .9, .95])"
   ]
  },
  {
   "cell_type": "code",
   "execution_count": null,
   "metadata": {},
   "outputs": [
    {
     "data": {
      "text/plain": [
       "<Axes: >"
      ]
     },
     "execution_count": null,
     "metadata": {},
     "output_type": "execute_result"
    },
    {
     "data": {
      "image/png": "[encoded data removed]",
      "text/plain": [
       "<Figure size 640x480 with 1 Axes>"
      ]
     },
     "metadata": {},
     "output_type": "display_data"
    }
   ],
   "source": [
    "df['target_retrieval_pos_1'].hist()"
   ]
  },
  {
   "cell_type": "code",
   "execution_count": null,
   "metadata": {},
   "outputs": [
    {
     "data": {
      "text/plain": [
       "<Axes: >"
      ]
     },
     "execution_count": null,
     "metadata": {},
     "output_type": "execute_result"
    },
    {
     "data": {
      "image/png": "[encoded data removed]",
      "text/plain": [
       "<Figure size 640x480 with 1 Axes>"
      ]
     },
     "metadata": {},
     "output_type": "display_data"
    }
   ],
   "source": [
    "df['target_retrieval_pos_2'].hist()"
   ]
  },
  {
   "cell_type": "code",
   "execution_count": null,
   "metadata": {},
   "outputs": [],
   "source": []
  }
 ],
 "metadata": {
  "kernelspec": {
   "display_name": "python3",
   "language": "python",
   "name": "python3"
  },
  "language_info": {
   "name": "python",
   "version": "3.10.12"
  }
 },
 "nbformat": 4,
 "nbformat_minor": 4
}
