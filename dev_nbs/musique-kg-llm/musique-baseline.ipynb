{
 "cells": [
  {
   "cell_type": "code",
   "execution_count": 1,
   "metadata": {},
   "outputs": [
    {
     "data": {
      "text/plain": [
       "True"
      ]
     },
     "execution_count": 1,
     "metadata": {},
     "output_type": "execute_result"
    }
   ],
   "source": [
    "from dotenv import load_dotenv\n",
    "load_dotenv()"
   ]
  },
  {
   "cell_type": "code",
   "execution_count": 2,
   "metadata": {},
   "outputs": [
    {
     "name": "stderr",
     "output_type": "stream",
     "text": [
      "/Users/bdsaglam/knowledge/bellek/.venv/lib/python3.10/site-packages/pydantic/_internal/_config.py:219: PydanticDeprecatedSince20: Support for class-based `config` is deprecated, use ConfigDict instead. Deprecated in Pydantic V2.0 to be removed in V3.0. See Pydantic V2 Migration Guide at https://errors.pydantic.dev/2.1.1/migration/\n",
      "  warnings.warn(DEPRECATION_MESSAGE, DeprecationWarning)\n",
      "/Users/bdsaglam/knowledge/bellek/.venv/lib/python3.10/site-packages/litellm/proxy/_types.py:83: PydanticDeprecatedSince20: `pydantic.config.Extra` is deprecated, use literal values instead (e.g. `extra='allow'`). Deprecated in Pydantic V2.0 to be removed in V3.0. See Pydantic V2 Migration Guide at https://errors.pydantic.dev/2.1.1/migration/\n",
      "  extra = Extra.allow  # Allow extra fields\n",
      "/Users/bdsaglam/knowledge/bellek/.venv/lib/python3.10/site-packages/litellm/proxy/_types.py:86: PydanticDeprecatedSince20: Pydantic V1 style `@root_validator` validators are deprecated. You should migrate to Pydantic V2 style `@model_validator` validators, see the migration guide for more details. Deprecated in Pydantic V2.0 to be removed in V3.0. See Pydantic V2 Migration Guide at https://errors.pydantic.dev/2.1.1/migration/\n",
      "  @root_validator(pre=True)\n",
      "/Users/bdsaglam/knowledge/bellek/.venv/lib/python3.10/site-packages/litellm/proxy/_types.py:111: PydanticDeprecatedSince20: Pydantic V1 style `@root_validator` validators are deprecated. You should migrate to Pydantic V2 style `@model_validator` validators, see the migration guide for more details. Deprecated in Pydantic V2.0 to be removed in V3.0. See Pydantic V2 Migration Guide at https://errors.pydantic.dev/2.1.1/migration/\n",
      "  @root_validator(pre=True)\n",
      "/Users/bdsaglam/knowledge/bellek/.venv/lib/python3.10/site-packages/wandb/env.py:16: DeprecationWarning: The distutils package is deprecated and slated for removal in Python 3.12. Use setuptools or check PEP 632 for potential alternatives\n",
      "  from distutils.util import strtobool\n"
     ]
    }
   ],
   "source": [
    "import pandas as pd\n",
    "import weaviate\n",
    "from llama_index import Document, ServiceContext\n",
    "from llama_index.prompts.base import Prompt\n",
    "from llama_index.prompts.prompt_type import PromptType\n",
    "from llama_index import VectorStoreIndex\n",
    "from llama_index.embeddings.huggingface import HuggingFaceEmbedding\n",
    "from llama_index.vector_stores import WeaviateVectorStore\n",
    "from llama_index.storage.storage_context import StorageContext\n",
    "from llama_index.llms import OpenAI\n",
    "from llama_index.llms import LangChainLLM"
   ]
  },
  {
   "cell_type": "code",
   "execution_count": 3,
   "metadata": {},
   "outputs": [],
   "source": [
    "df = pd.read_json('/Users/bdsaglam/knowledge/bellek/data/generated/musique-kg-llm/train/dataset.jsonl', orient='records', lines=True)"
   ]
  },
  {
   "cell_type": "code",
   "execution_count": 4,
   "metadata": {},
   "outputs": [],
   "source": [
    "def make_docs(example, only_supporting=False):\n",
    "    ps = example[\"paragraphs\"]\n",
    "    for p in ps:\n",
    "        if only_supporting and not p[\"is_supporting\"]:\n",
    "            continue\n",
    "        idx = p[\"idx\"]\n",
    "        title = p[\"title\"]\n",
    "        body = p[\"paragraph_text\"]\n",
    "        is_supporting = p[\"is_supporting\"]\n",
    "        text = f\"# {title}\\n{body}\"\n",
    "        yield Document(\n",
    "            text=text,\n",
    "            metadata={\"parent_id\": example[\"id\"], \"idx\": idx, \"is_supporting\": is_supporting},\n",
    "            excluded_llm_metadata_keys=[\"parent_id\", \"idx\", \"is_supporting\"],\n",
    "        )"
   ]
  },
  {
   "cell_type": "code",
   "execution_count": 5,
   "metadata": {},
   "outputs": [],
   "source": [
    "weaviate_client = weaviate.Client(\"http://localhost:8080\")\n",
    "vector_store = WeaviateVectorStore(weaviate_client=weaviate_client)\n",
    "storage_context = StorageContext.from_defaults(vector_store=vector_store)"
   ]
  },
  {
   "cell_type": "code",
   "execution_count": 6,
   "metadata": {},
   "outputs": [
    {
     "name": "stderr",
     "output_type": "stream",
     "text": [
      "/Users/bdsaglam/knowledge/bellek/.venv/lib/python3.10/site-packages/huggingface_hub/inference/_text_generation.py:121: PydanticDeprecatedSince20: Pydantic V1 style `@validator` validators are deprecated. You should migrate to Pydantic V2 style `@field_validator` validators, see the migration guide for more details. Deprecated in Pydantic V2.0 to be removed in V3.0. See Pydantic V2 Migration Guide at https://errors.pydantic.dev/2.1.1/migration/\n",
      "  @validator(\"best_of\")\n",
      "/Users/bdsaglam/knowledge/bellek/.venv/lib/python3.10/site-packages/huggingface_hub/inference/_text_generation.py:140: PydanticDeprecatedSince20: Pydantic V1 style `@validator` validators are deprecated. You should migrate to Pydantic V2 style `@field_validator` validators, see the migration guide for more details. Deprecated in Pydantic V2.0 to be removed in V3.0. See Pydantic V2 Migration Guide at https://errors.pydantic.dev/2.1.1/migration/\n",
      "  @validator(\"repetition_penalty\")\n",
      "/Users/bdsaglam/knowledge/bellek/.venv/lib/python3.10/site-packages/huggingface_hub/inference/_text_generation.py:146: PydanticDeprecatedSince20: Pydantic V1 style `@validator` validators are deprecated. You should migrate to Pydantic V2 style `@field_validator` validators, see the migration guide for more details. Deprecated in Pydantic V2.0 to be removed in V3.0. See Pydantic V2 Migration Guide at https://errors.pydantic.dev/2.1.1/migration/\n",
      "  @validator(\"seed\")\n",
      "/Users/bdsaglam/knowledge/bellek/.venv/lib/python3.10/site-packages/huggingface_hub/inference/_text_generation.py:152: PydanticDeprecatedSince20: Pydantic V1 style `@validator` validators are deprecated. You should migrate to Pydantic V2 style `@field_validator` validators, see the migration guide for more details. Deprecated in Pydantic V2.0 to be removed in V3.0. See Pydantic V2 Migration Guide at https://errors.pydantic.dev/2.1.1/migration/\n",
      "  @validator(\"temperature\")\n",
      "/Users/bdsaglam/knowledge/bellek/.venv/lib/python3.10/site-packages/huggingface_hub/inference/_text_generation.py:158: PydanticDeprecatedSince20: Pydantic V1 style `@validator` validators are deprecated. You should migrate to Pydantic V2 style `@field_validator` validators, see the migration guide for more details. Deprecated in Pydantic V2.0 to be removed in V3.0. See Pydantic V2 Migration Guide at https://errors.pydantic.dev/2.1.1/migration/\n",
      "  @validator(\"top_k\")\n",
      "/Users/bdsaglam/knowledge/bellek/.venv/lib/python3.10/site-packages/huggingface_hub/inference/_text_generation.py:164: PydanticDeprecatedSince20: Pydantic V1 style `@validator` validators are deprecated. You should migrate to Pydantic V2 style `@field_validator` validators, see the migration guide for more details. Deprecated in Pydantic V2.0 to be removed in V3.0. See Pydantic V2 Migration Guide at https://errors.pydantic.dev/2.1.1/migration/\n",
      "  @validator(\"top_p\")\n",
      "/Users/bdsaglam/knowledge/bellek/.venv/lib/python3.10/site-packages/huggingface_hub/inference/_text_generation.py:170: PydanticDeprecatedSince20: Pydantic V1 style `@validator` validators are deprecated. You should migrate to Pydantic V2 style `@field_validator` validators, see the migration guide for more details. Deprecated in Pydantic V2.0 to be removed in V3.0. See Pydantic V2 Migration Guide at https://errors.pydantic.dev/2.1.1/migration/\n",
      "  @validator(\"truncate\")\n",
      "/Users/bdsaglam/knowledge/bellek/.venv/lib/python3.10/site-packages/huggingface_hub/inference/_text_generation.py:176: PydanticDeprecatedSince20: Pydantic V1 style `@validator` validators are deprecated. You should migrate to Pydantic V2 style `@field_validator` validators, see the migration guide for more details. Deprecated in Pydantic V2.0 to be removed in V3.0. See Pydantic V2 Migration Guide at https://errors.pydantic.dev/2.1.1/migration/\n",
      "  @validator(\"typical_p\")\n",
      "/Users/bdsaglam/knowledge/bellek/.venv/lib/python3.10/site-packages/huggingface_hub/inference/_text_generation.py:204: PydanticDeprecatedSince20: Pydantic V1 style `@validator` validators are deprecated. You should migrate to Pydantic V2 style `@field_validator` validators, see the migration guide for more details. Deprecated in Pydantic V2.0 to be removed in V3.0. See Pydantic V2 Migration Guide at https://errors.pydantic.dev/2.1.1/migration/\n",
      "  @validator(\"inputs\")\n",
      "/Users/bdsaglam/knowledge/bellek/.venv/lib/python3.10/site-packages/huggingface_hub/inference/_text_generation.py:210: PydanticDeprecatedSince20: Pydantic V1 style `@validator` validators are deprecated. You should migrate to Pydantic V2 style `@field_validator` validators, see the migration guide for more details. Deprecated in Pydantic V2.0 to be removed in V3.0. See Pydantic V2 Migration Guide at https://errors.pydantic.dev/2.1.1/migration/\n",
      "  @validator(\"stream\")\n",
      "/Users/bdsaglam/knowledge/bellek/.venv/lib/python3.10/site-packages/langchain_core/prompts/prompt.py:200: DeprecationWarning: `input_variables' is deprecated and ignored.\n",
      "  warnings.warn(\n"
     ]
    }
   ],
   "source": [
    "llm = OpenAI(model='gpt-3.5-turbo', temperature=0)\n",
    "embed_model = HuggingFaceEmbedding(\"sentence-transformers/all-MiniLM-L6-v2\")\n",
    "service_context = ServiceContext.from_defaults(llm=llm, embed_model=embed_model)"
   ]
  },
  {
   "cell_type": "code",
   "execution_count": 7,
   "metadata": {},
   "outputs": [],
   "source": [
    "def make_query_engine(example):\n",
    "    documents = list(make_docs(example, only_supporting=False))\n",
    "    index = VectorStoreIndex.from_documents(documents, storage_context=storage_context)\n",
    "    system_prompt = (\n",
    "        \"You are a helpful assistant that answers the question about the given text in 2-4 words.\"\n",
    "    )\n",
    "    query_engine = index.as_query_engine(\n",
    "        service_context=service_context,\n",
    "        vector_store_query_mode=\"hybrid\",\n",
    "        alpha=0.7,\n",
    "        similarity_top_k=3,\n",
    "        system_prompt=system_prompt,\n",
    "    )\n",
    "    return query_engine"
   ]
  },
  {
   "cell_type": "code",
   "execution_count": 8,
   "metadata": {},
   "outputs": [],
   "source": [
    "def answer(example):\n",
    "    query_engine = make_query_engine(example)\n",
    "    return query_engine.query(example['question']).response"
   ]
  },
  {
   "cell_type": "code",
   "execution_count": 9,
   "metadata": {},
   "outputs": [],
   "source": [
    "df['predicted_answer'] = df.apply(answer, axis=1)\n",
    "df.to_json('/Users/bdsaglam/knowledge/bellek/data/generated/musique-kg-llm/train/baseline-weaviate.jsonl', orient='records', lines=True)"
   ]
  },
  {
   "cell_type": "code",
   "execution_count": 10,
   "metadata": {},
   "outputs": [],
   "source": [
    "from difflib import SequenceMatcher\n",
    "\n",
    "def similarity(a, b):\n",
    "    return SequenceMatcher(None, a, b).ratio()\n",
    "\n",
    "def fuzzy_match(a, b, threshold=0.7):\n",
    "    return similarity(a, b) >= threshold\n",
    "\n",
    "def is_correct(example):\n",
    "    return (example[\"answer\"] in example[\"predicted_answer\"]) or (\n",
    "        fuzzy_match(example[\"predicted_answer\"], example[\"answer\"])\n",
    "    )"
   ]
  },
  {
   "cell_type": "code",
   "execution_count": 11,
   "metadata": {},
   "outputs": [
    {
     "data": {
      "text/plain": [
       "0.17"
      ]
     },
     "execution_count": 11,
     "metadata": {},
     "output_type": "execute_result"
    }
   ],
   "source": [
    "df[\"is_correct\"] = df.apply(is_correct, axis=1)\n",
    "df[\"is_correct\"].mean()"
   ]
  },
  {
   "cell_type": "code",
   "execution_count": 12,
   "metadata": {},
   "outputs": [
    {
     "data": {
      "text/html": [
       "<div>\n",
       "<style scoped>\n",
       "    .dataframe tbody tr th:only-of-type {\n",
       "        vertical-align: middle;\n",
       "    }\n",
       "\n",
       "    .dataframe tbody tr th {\n",
       "        vertical-align: top;\n",
       "    }\n",
       "\n",
       "    .dataframe thead th {\n",
       "        text-align: right;\n",
       "    }\n",
       "</style>\n",
       "<table border=\"1\" class=\"dataframe\">\n",
       "  <thead>\n",
       "    <tr style=\"text-align: right;\">\n",
       "      <th></th>\n",
       "      <th>id</th>\n",
       "      <th>question</th>\n",
       "      <th>answer</th>\n",
       "      <th>predicted_answer</th>\n",
       "      <th>is_correct</th>\n",
       "    </tr>\n",
       "  </thead>\n",
       "  <tbody>\n",
       "    <tr>\n",
       "      <th>0</th>\n",
       "      <td>2hop__128801_205185</td>\n",
       "      <td>What county is the town where KNFM is licensed...</td>\n",
       "      <td>Midland County</td>\n",
       "      <td>The town where KNFM is licensed is not the cap...</td>\n",
       "      <td>False</td>\n",
       "    </tr>\n",
       "    <tr>\n",
       "      <th>1</th>\n",
       "      <td>2hop__719559_217649</td>\n",
       "      <td>What's the record label of the artist who put ...</td>\n",
       "      <td>Warner Bros.</td>\n",
       "      <td>The record label of the artist who put out \"Me...</td>\n",
       "      <td>False</td>\n",
       "    </tr>\n",
       "    <tr>\n",
       "      <th>2</th>\n",
       "      <td>2hop__128806_205185</td>\n",
       "      <td>What region is the town where KQRX is liscense...</td>\n",
       "      <td>Midland County</td>\n",
       "      <td>The town where KQRX is licensed is not mention...</td>\n",
       "      <td>False</td>\n",
       "    </tr>\n",
       "    <tr>\n",
       "      <th>3</th>\n",
       "      <td>2hop__837090_278127</td>\n",
       "      <td>What is the record label of the Do It Again pe...</td>\n",
       "      <td>Roc-A-Fella Records</td>\n",
       "      <td>The record label of the performer of \"Do It Ag...</td>\n",
       "      <td>False</td>\n",
       "    </tr>\n",
       "    <tr>\n",
       "      <th>4</th>\n",
       "      <td>2hop__128895_11424</td>\n",
       "      <td>How many households were there in the town WPU...</td>\n",
       "      <td>15,504</td>\n",
       "      <td>The number of households in the town WPUR is l...</td>\n",
       "      <td>False</td>\n",
       "    </tr>\n",
       "    <tr>\n",
       "      <th>...</th>\n",
       "      <td>...</td>\n",
       "      <td>...</td>\n",
       "      <td>...</td>\n",
       "      <td>...</td>\n",
       "      <td>...</td>\n",
       "    </tr>\n",
       "    <tr>\n",
       "      <th>95</th>\n",
       "      <td>2hop__651488_94210</td>\n",
       "      <td>Who was the place where Pieta is located desig...</td>\n",
       "      <td>Giorgio Vasari</td>\n",
       "      <td>Le Corbusier</td>\n",
       "      <td>False</td>\n",
       "    </tr>\n",
       "    <tr>\n",
       "      <th>96</th>\n",
       "      <td>2hop__362083_467995</td>\n",
       "      <td>What is the record label of the performer of M...</td>\n",
       "      <td>RCA Records</td>\n",
       "      <td>The record label of the performer of \"Make the...</td>\n",
       "      <td>False</td>\n",
       "    </tr>\n",
       "    <tr>\n",
       "      <th>97</th>\n",
       "      <td>2hop__525596_543261</td>\n",
       "      <td>The Roman Catholic Diocese of Jim Norton's bir...</td>\n",
       "      <td>Delaware</td>\n",
       "      <td>I'm sorry, but I couldn't find any information...</td>\n",
       "      <td>False</td>\n",
       "    </tr>\n",
       "    <tr>\n",
       "      <th>98</th>\n",
       "      <td>2hop__394596_8607</td>\n",
       "      <td>What metro area is JAKAZiD's birthplace a part...</td>\n",
       "      <td>South Hampshire</td>\n",
       "      <td>The birthplace of JAKAZiD is part of the Ports...</td>\n",
       "      <td>False</td>\n",
       "    </tr>\n",
       "    <tr>\n",
       "      <th>99</th>\n",
       "      <td>2hop__415654_46042</td>\n",
       "      <td>Where is the rainforest located in the country...</td>\n",
       "      <td>slopes of the Sierra de Luquillo mountains</td>\n",
       "      <td>The rainforest in the country where El Cimarro...</td>\n",
       "      <td>True</td>\n",
       "    </tr>\n",
       "  </tbody>\n",
       "</table>\n",
       "<p>100 rows × 5 columns</p>\n",
       "</div>"
      ],
      "text/plain": [
       "                     id                                           question  \\\n",
       "0   2hop__128801_205185  What county is the town where KNFM is licensed...   \n",
       "1   2hop__719559_217649  What's the record label of the artist who put ...   \n",
       "2   2hop__128806_205185  What region is the town where KQRX is liscense...   \n",
       "3   2hop__837090_278127  What is the record label of the Do It Again pe...   \n",
       "4    2hop__128895_11424  How many households were there in the town WPU...   \n",
       "..                  ...                                                ...   \n",
       "95   2hop__651488_94210  Who was the place where Pieta is located desig...   \n",
       "96  2hop__362083_467995  What is the record label of the performer of M...   \n",
       "97  2hop__525596_543261  The Roman Catholic Diocese of Jim Norton's bir...   \n",
       "98    2hop__394596_8607  What metro area is JAKAZiD's birthplace a part...   \n",
       "99   2hop__415654_46042  Where is the rainforest located in the country...   \n",
       "\n",
       "                                        answer  \\\n",
       "0                               Midland County   \n",
       "1                                 Warner Bros.   \n",
       "2                               Midland County   \n",
       "3                          Roc-A-Fella Records   \n",
       "4                                       15,504   \n",
       "..                                         ...   \n",
       "95                              Giorgio Vasari   \n",
       "96                                 RCA Records   \n",
       "97                                    Delaware   \n",
       "98                             South Hampshire   \n",
       "99  slopes of the Sierra de Luquillo mountains   \n",
       "\n",
       "                                     predicted_answer  is_correct  \n",
       "0   The town where KNFM is licensed is not the cap...       False  \n",
       "1   The record label of the artist who put out \"Me...       False  \n",
       "2   The town where KQRX is licensed is not mention...       False  \n",
       "3   The record label of the performer of \"Do It Ag...       False  \n",
       "4   The number of households in the town WPUR is l...       False  \n",
       "..                                                ...         ...  \n",
       "95                                       Le Corbusier       False  \n",
       "96  The record label of the performer of \"Make the...       False  \n",
       "97  I'm sorry, but I couldn't find any information...       False  \n",
       "98  The birthplace of JAKAZiD is part of the Ports...       False  \n",
       "99  The rainforest in the country where El Cimarro...        True  \n",
       "\n",
       "[100 rows x 5 columns]"
      ]
     },
     "execution_count": 12,
     "metadata": {},
     "output_type": "execute_result"
    }
   ],
   "source": [
    "df[['id', 'question', 'answer', 'predicted_answer', 'is_correct']]"
   ]
  }
 ],
 "metadata": {
  "kernelspec": {
   "display_name": ".venv",
   "language": "python",
   "name": "python3"
  },
  "language_info": {
   "codemirror_mode": {
    "name": "ipython",
    "version": 3
   },
   "file_extension": ".py",
   "mimetype": "text/x-python",
   "name": "python",
   "nbconvert_exporter": "python",
   "pygments_lexer": "ipython3",
   "version": "3.10.4"
  }
 },
 "nbformat": 4,
 "nbformat_minor": 2
}
