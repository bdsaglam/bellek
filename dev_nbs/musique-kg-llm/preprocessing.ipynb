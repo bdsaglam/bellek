{
 "cells": [
  {
   "cell_type": "code",
   "execution_count": null,
   "id": "382d897e-c88b-4af5-bcbf-df8a74497166",
   "metadata": {},
   "outputs": [],
   "source": [
    "from datasets import load_dataset\n",
    "\n",
    "dataset_config = {\n",
    "    \"path\": \"bdsaglam/musique-answerable-2hop\",\n",
    "    \"split\": \"train[:200]\"\n",
    "}\n",
    "\n",
    "ds = load_dataset(**dataset_config)"
   ]
  },
  {
   "cell_type": "code",
   "execution_count": null,
   "id": "b9e2824c-7e11-4567-9b95-46348e25c105",
   "metadata": {},
   "outputs": [
    {
     "data": {
      "application/vnd.jupyter.widget-view+json": {
       "model_id": "286feb10aa9c47cead1e70e9764f291d",
       "version_major": 2,
       "version_minor": 0
      },
      "text/plain": [
       "Filter:   0%|          | 0/200 [00:00<?, ? examples/s]"
      ]
     },
     "metadata": {},
     "output_type": "display_data"
    }
   ],
   "source": [
    "def is_question_about_record_label(example):\n",
    "    question = example['question']\n",
    "    keywords = [\"record label\"]\n",
    "    return any(keyword in question.lower() for keyword in keywords)\n",
    "    \n",
    "new_ds = ds.filter(lambda example: not is_question_about_record_label(example))"
   ]
  },
  {
   "cell_type": "code",
   "execution_count": null,
   "id": "1818c72f-a39d-4a00-8ba5-27792c7f1f42",
   "metadata": {},
   "outputs": [
    {
     "data": {
      "text/plain": [
       "(200, 143)"
      ]
     },
     "execution_count": null,
     "metadata": {},
     "output_type": "execute_result"
    }
   ],
   "source": [
    "len(ds), len(new_ds)"
   ]
  },
  {
   "cell_type": "code",
   "execution_count": null,
   "id": "40e1849d-0265-4b37-9e46-e5186729f26d",
   "metadata": {},
   "outputs": [],
   "source": []
  }
 ],
 "metadata": {
  "kernelspec": {
   "display_name": "python3",
   "language": "python",
   "name": "python3"
  }
 },
 "nbformat": 4,
 "nbformat_minor": 5
}
