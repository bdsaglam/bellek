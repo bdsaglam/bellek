{
 "cells": [
  {
   "cell_type": "code",
   "execution_count": 1,
   "metadata": {},
   "outputs": [],
   "source": [
    "import json\n",
    "from pathlib import Path\n",
    "import pandas as pd "
   ]
  },
  {
   "cell_type": "code",
   "execution_count": 2,
   "metadata": {},
   "outputs": [],
   "source": [
    "DATA_DIR = Path(\"../../data/generated/research-mhqa-evaluation/\")"
   ]
  },
  {
   "cell_type": "code",
   "execution_count": 4,
   "metadata": {},
   "outputs": [
    {
     "data": {
      "text/html": [
       "<div>\n",
       "<style scoped>\n",
       "    .dataframe tbody tr th:only-of-type {\n",
       "        vertical-align: middle;\n",
       "    }\n",
       "\n",
       "    .dataframe tbody tr th {\n",
       "        vertical-align: top;\n",
       "    }\n",
       "\n",
       "    .dataframe thead th {\n",
       "        text-align: right;\n",
       "    }\n",
       "</style>\n",
       "<table border=\"1\" class=\"dataframe\">\n",
       "  <thead>\n",
       "    <tr style=\"text-align: right;\">\n",
       "      <th></th>\n",
       "      <th>id</th>\n",
       "      <th>n_hops</th>\n",
       "      <th>answer</th>\n",
       "      <th>hops</th>\n",
       "      <th>predicted_answer</th>\n",
       "      <th>reference_answers</th>\n",
       "      <th>exact_match</th>\n",
       "      <th>f1</th>\n",
       "      <th>fuzzy_match</th>\n",
       "    </tr>\n",
       "  </thead>\n",
       "  <tbody>\n",
       "    <tr>\n",
       "      <th>0</th>\n",
       "      <td>2hop__482757_12019</td>\n",
       "      <td>2</td>\n",
       "      <td>1960</td>\n",
       "      <td>[{'question': 'When was the institute that own...</td>\n",
       "      <td>1960</td>\n",
       "      <td>[1960]</td>\n",
       "      <td>1</td>\n",
       "      <td>1.0</td>\n",
       "      <td>1</td>\n",
       "    </tr>\n",
       "    <tr>\n",
       "      <th>1</th>\n",
       "      <td>2hop__129292_160863</td>\n",
       "      <td>2</td>\n",
       "      <td>1994</td>\n",
       "      <td>[{'question': 'What year saw the creation of t...</td>\n",
       "      <td>1994</td>\n",
       "      <td>[1994]</td>\n",
       "      <td>1</td>\n",
       "      <td>1.0</td>\n",
       "      <td>1</td>\n",
       "    </tr>\n",
       "    <tr>\n",
       "      <th>2</th>\n",
       "      <td>2hop__679261_120616</td>\n",
       "      <td>2</td>\n",
       "      <td>1999</td>\n",
       "      <td>[{'question': 'When was the abolishment of the...</td>\n",
       "      <td>1999</td>\n",
       "      <td>[1999]</td>\n",
       "      <td>1</td>\n",
       "      <td>1.0</td>\n",
       "      <td>1</td>\n",
       "    </tr>\n",
       "    <tr>\n",
       "      <th>3</th>\n",
       "      <td>2hop__813857_127131</td>\n",
       "      <td>2</td>\n",
       "      <td>1998</td>\n",
       "      <td>[{'question': 'When was the publisher of Crux ...</td>\n",
       "      <td>1998</td>\n",
       "      <td>[1998]</td>\n",
       "      <td>1</td>\n",
       "      <td>1.0</td>\n",
       "      <td>1</td>\n",
       "    </tr>\n",
       "    <tr>\n",
       "      <th>4</th>\n",
       "      <td>2hop__144408_215084</td>\n",
       "      <td>2</td>\n",
       "      <td>Not mentioned.</td>\n",
       "      <td>[{'question': 'Jan Šindel's was born in what c...</td>\n",
       "      <td>Not mentioned.</td>\n",
       "      <td>[cze, cz, Czech Republic, CZE]</td>\n",
       "      <td>0</td>\n",
       "      <td>0.0</td>\n",
       "      <td>0</td>\n",
       "    </tr>\n",
       "  </tbody>\n",
       "</table>\n",
       "</div>"
      ],
      "text/plain": [
       "                    id  n_hops          answer  \\\n",
       "0   2hop__482757_12019       2            1960   \n",
       "1  2hop__129292_160863       2            1994   \n",
       "2  2hop__679261_120616       2            1999   \n",
       "3  2hop__813857_127131       2            1998   \n",
       "4  2hop__144408_215084       2  Not mentioned.   \n",
       "\n",
       "                                                hops predicted_answer  \\\n",
       "0  [{'question': 'When was the institute that own...             1960   \n",
       "1  [{'question': 'What year saw the creation of t...             1994   \n",
       "2  [{'question': 'When was the abolishment of the...             1999   \n",
       "3  [{'question': 'When was the publisher of Crux ...             1998   \n",
       "4  [{'question': 'Jan Šindel's was born in what c...   Not mentioned.   \n",
       "\n",
       "                reference_answers  exact_match   f1  fuzzy_match  \n",
       "0                          [1960]            1  1.0            1  \n",
       "1                          [1994]            1  1.0            1  \n",
       "2                          [1999]            1  1.0            1  \n",
       "3                          [1998]            1  1.0            1  \n",
       "4  [cze, cz, Czech Republic, CZE]            0  0.0            0  "
      ]
     },
     "execution_count": 4,
     "metadata": {},
     "output_type": "execute_result"
    }
   ],
   "source": [
    "df = pd.read_json(DATA_DIR / \"reports/results.jsonl\", lines=True)\n",
    "df.head()"
   ]
  },
  {
   "cell_type": "code",
   "execution_count": 5,
   "metadata": {},
   "outputs": [
    {
     "data": {
      "text/plain": [
       "dict_keys(['id', 'n_hops', 'answer', 'hops', 'predicted_answer', 'reference_answers', 'exact_match', 'f1', 'fuzzy_match'])"
      ]
     },
     "execution_count": 5,
     "metadata": {},
     "output_type": "execute_result"
    }
   ],
   "source": [
    "record = df.iloc[0].to_dict()\n",
    "record.keys()"
   ]
  },
  {
   "cell_type": "code",
   "execution_count": null,
   "metadata": {},
   "outputs": [],
   "source": []
  }
 ],
 "metadata": {
  "kernelspec": {
   "display_name": "baris",
   "language": "python",
   "name": "python3"
  },
  "language_info": {
   "codemirror_mode": {
    "name": "ipython",
    "version": 3
   },
   "file_extension": ".py",
   "mimetype": "text/x-python",
   "name": "python",
   "nbconvert_exporter": "python",
   "pygments_lexer": "ipython3",
   "version": "3.10.14"
  }
 },
 "nbformat": 4,
 "nbformat_minor": 2
}
