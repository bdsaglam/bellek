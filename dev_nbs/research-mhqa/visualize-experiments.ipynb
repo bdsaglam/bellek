{
 "cells": [
  {
   "cell_type": "code",
   "execution_count": 11,
   "metadata": {},
   "outputs": [],
   "source": [
    "import json\n",
    "from pathlib import Path\n",
    "import pandas as pd "
   ]
  },
  {
   "cell_type": "code",
   "execution_count": 18,
   "metadata": {},
   "outputs": [],
   "source": [
    "def extract_experiments(filepath: Path):\n",
    "    with open(filepath) as f:\n",
    "        data = json.load(f)\n",
    "    \n",
    "    for item in data:\n",
    "        if item['name'] != 'master':\n",
    "            continue\n",
    "\n",
    "        for experiment in item['experiments']:\n",
    "            for rev in experiment.get(\"revs\", []):\n",
    "                params = next(iter(rev['data'].get('params', {}).values()), {}).get(\"data\")\n",
    "                metrics = next(iter(rev['data'].get('metrics', {}).values()), {}).get(\"data\")\n",
    "                yield {\n",
    "                    'name': rev['name'],\n",
    "                    'params': params,\n",
    "                    'metrics': metrics,\n",
    "                }"
   ]
  },
  {
   "cell_type": "code",
   "execution_count": 27,
   "metadata": {},
   "outputs": [
    {
     "data": {
      "text/plain": [
       "{'name': 'cte-3',\n",
       " 'params': {'prompt': 'cte',\n",
       "  'model': 'gpt-3.5-turbo',\n",
       "  'temperature': 0.1,\n",
       "  'run': 3},\n",
       " 'metrics': {'exact_match': 0.58,\n",
       "  'f1': 0.718793650793651,\n",
       "  'fuzzy_match': 0.66}}"
      ]
     },
     "execution_count": 27,
     "metadata": {},
     "output_type": "execute_result"
    }
   ],
   "source": [
    "experiments = list(extract_experiments(Path('dvc-experiments-export.json')))\n",
    "experiments[0]"
   ]
  },
  {
   "cell_type": "code",
   "execution_count": 30,
   "metadata": {},
   "outputs": [
    {
     "data": {
      "text/html": [
       "<div>\n",
       "<style scoped>\n",
       "    .dataframe tbody tr th:only-of-type {\n",
       "        vertical-align: middle;\n",
       "    }\n",
       "\n",
       "    .dataframe tbody tr th {\n",
       "        vertical-align: top;\n",
       "    }\n",
       "\n",
       "    .dataframe thead th {\n",
       "        text-align: right;\n",
       "    }\n",
       "</style>\n",
       "<table border=\"1\" class=\"dataframe\">\n",
       "  <thead>\n",
       "    <tr style=\"text-align: right;\">\n",
       "      <th></th>\n",
       "      <th>name</th>\n",
       "      <th>params.prompt</th>\n",
       "      <th>params.model</th>\n",
       "      <th>params.temperature</th>\n",
       "      <th>params.run</th>\n",
       "      <th>metrics.exact_match</th>\n",
       "      <th>metrics.f1</th>\n",
       "      <th>metrics.fuzzy_match</th>\n",
       "    </tr>\n",
       "  </thead>\n",
       "  <tbody>\n",
       "    <tr>\n",
       "      <th>2</th>\n",
       "      <td>cte-1</td>\n",
       "      <td>cte</td>\n",
       "      <td>gpt-3.5-turbo</td>\n",
       "      <td>0.1</td>\n",
       "      <td>1</td>\n",
       "      <td>0.54</td>\n",
       "      <td>0.673749</td>\n",
       "      <td>0.61</td>\n",
       "    </tr>\n",
       "    <tr>\n",
       "      <th>1</th>\n",
       "      <td>cte-2</td>\n",
       "      <td>cte</td>\n",
       "      <td>gpt-3.5-turbo</td>\n",
       "      <td>0.1</td>\n",
       "      <td>2</td>\n",
       "      <td>0.58</td>\n",
       "      <td>0.711287</td>\n",
       "      <td>0.64</td>\n",
       "    </tr>\n",
       "    <tr>\n",
       "      <th>0</th>\n",
       "      <td>cte-3</td>\n",
       "      <td>cte</td>\n",
       "      <td>gpt-3.5-turbo</td>\n",
       "      <td>0.1</td>\n",
       "      <td>3</td>\n",
       "      <td>0.58</td>\n",
       "      <td>0.718794</td>\n",
       "      <td>0.66</td>\n",
       "    </tr>\n",
       "    <tr>\n",
       "      <th>5</th>\n",
       "      <td>standard-1</td>\n",
       "      <td>standard</td>\n",
       "      <td>gpt-3.5-turbo</td>\n",
       "      <td>0.1</td>\n",
       "      <td>1</td>\n",
       "      <td>0.49</td>\n",
       "      <td>0.608839</td>\n",
       "      <td>0.56</td>\n",
       "    </tr>\n",
       "    <tr>\n",
       "      <th>4</th>\n",
       "      <td>standard-2</td>\n",
       "      <td>standard</td>\n",
       "      <td>gpt-3.5-turbo</td>\n",
       "      <td>0.1</td>\n",
       "      <td>2</td>\n",
       "      <td>0.46</td>\n",
       "      <td>0.561866</td>\n",
       "      <td>0.53</td>\n",
       "    </tr>\n",
       "    <tr>\n",
       "      <th>3</th>\n",
       "      <td>standard-3</td>\n",
       "      <td>standard</td>\n",
       "      <td>gpt-3.5-turbo</td>\n",
       "      <td>0.1</td>\n",
       "      <td>3</td>\n",
       "      <td>0.48</td>\n",
       "      <td>0.579714</td>\n",
       "      <td>0.55</td>\n",
       "    </tr>\n",
       "  </tbody>\n",
       "</table>\n",
       "</div>"
      ],
      "text/plain": [
       "         name params.prompt   params.model  params.temperature  params.run  \\\n",
       "2       cte-1           cte  gpt-3.5-turbo                 0.1           1   \n",
       "1       cte-2           cte  gpt-3.5-turbo                 0.1           2   \n",
       "0       cte-3           cte  gpt-3.5-turbo                 0.1           3   \n",
       "5  standard-1      standard  gpt-3.5-turbo                 0.1           1   \n",
       "4  standard-2      standard  gpt-3.5-turbo                 0.1           2   \n",
       "3  standard-3      standard  gpt-3.5-turbo                 0.1           3   \n",
       "\n",
       "   metrics.exact_match  metrics.f1  metrics.fuzzy_match  \n",
       "2                 0.54    0.673749                 0.61  \n",
       "1                 0.58    0.711287                 0.64  \n",
       "0                 0.58    0.718794                 0.66  \n",
       "5                 0.49    0.608839                 0.56  \n",
       "4                 0.46    0.561866                 0.53  \n",
       "3                 0.48    0.579714                 0.55  "
      ]
     },
     "execution_count": 30,
     "metadata": {},
     "output_type": "execute_result"
    }
   ],
   "source": [
    "df = pd.json_normalize(experiments).sort_values('name')\n",
    "df"
   ]
  },
  {
   "cell_type": "code",
   "execution_count": null,
   "metadata": {},
   "outputs": [],
   "source": []
  }
 ],
 "metadata": {
  "kernelspec": {
   "display_name": "baris",
   "language": "python",
   "name": "python3"
  },
  "language_info": {
   "codemirror_mode": {
    "name": "ipython",
    "version": 3
   },
   "file_extension": ".py",
   "mimetype": "text/x-python",
   "name": "python",
   "nbconvert_exporter": "python",
   "pygments_lexer": "ipython3",
   "version": "3.10.14"
  }
 },
 "nbformat": 4,
 "nbformat_minor": 2
}
