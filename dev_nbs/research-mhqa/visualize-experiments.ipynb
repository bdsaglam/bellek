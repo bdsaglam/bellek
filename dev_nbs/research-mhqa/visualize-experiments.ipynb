{
 "cells": [
  {
   "cell_type": "code",
   "execution_count": 1,
   "metadata": {},
   "outputs": [],
   "source": [
    "import pandas as pd "
   ]
  },
  {
   "cell_type": "code",
   "execution_count": 2,
   "metadata": {},
   "outputs": [],
   "source": [
    "def extract_experiments(experiment_states):\n",
    "    for exp_state in experiment_states:\n",
    "        if exp_state.rev == 'workspace':\n",
    "            continue\n",
    "            \n",
    "        experiments = exp_state.experiments or []\n",
    "\n",
    "        for experiment in experiments:\n",
    "            revs = experiment.revs or []\n",
    "            for rev in revs:\n",
    "                params = next(iter(rev.data.params.values()), {}).get(\"data\")\n",
    "                metrics = next(iter(rev.data.metrics.values()), {}).get(\"data\")\n",
    "                yield {\n",
    "                    'commit': exp_state.rev,\n",
    "                    'id': rev.rev,\n",
    "                    'name': rev.name,\n",
    "                    'params': params,\n",
    "                    'metrics': metrics,\n",
    "                }"
   ]
  },
  {
   "cell_type": "code",
   "execution_count": 3,
   "metadata": {},
   "outputs": [],
   "source": [
    "from dvc.repo import Repo\n",
    "\n",
    "# Initialize a DVC Repo object\n",
    "repo = Repo()\n",
    "\n",
    "# Get the experiments\n",
    "experiments = list(extract_experiments(repo.experiments.show(num=100)))"
   ]
  },
  {
   "cell_type": "code",
   "execution_count": null,
   "metadata": {},
   "outputs": [],
   "source": [
    "df = (\n",
    "    pd.json_normalize(experiments)\n",
    "    .sort_values([\"params.model\", \"params.prompt\", \"params.temperature\", \"params.run\"])\n",
    "    .drop(columns=[\"commit\", \"id\"])\n",
    ")\n",
    "# mask = df[\"params.model\"].str.contains(\"tgi\")\n",
    "# df.loc[mask]\n",
    "df"
   ]
  }
 ],
 "metadata": {
  "kernelspec": {
   "display_name": "baris",
   "language": "python",
   "name": "python3"
  },
  "language_info": {
   "codemirror_mode": {
    "name": "ipython",
    "version": 3
   },
   "file_extension": ".py",
   "mimetype": "text/x-python",
   "name": "python",
   "nbconvert_exporter": "python",
   "pygments_lexer": "ipython3",
   "version": "3.10.14"
  }
 },
 "nbformat": 4,
 "nbformat_minor": 2
}
