{
 "cells": [
  {
   "cell_type": "code",
   "execution_count": 1,
   "metadata": {},
   "outputs": [
    {
     "data": {
      "text/plain": [
       "True"
      ]
     },
     "execution_count": 1,
     "metadata": {},
     "output_type": "execute_result"
    }
   ],
   "source": [
    "from dotenv import load_dotenv\n",
    "\n",
    "load_dotenv()"
   ]
  },
  {
   "cell_type": "code",
   "execution_count": 2,
   "metadata": {},
   "outputs": [],
   "source": [
    "import dspy\n",
    "from dspy.evaluate import Evaluate\n",
    "from dspy.teleprompt import BootstrapFewShot"
   ]
  },
  {
   "cell_type": "code",
   "execution_count": 3,
   "metadata": {},
   "outputs": [],
   "source": [
    "lm = dspy.LM('openai/gpt-4o-mini')\n",
    "dspy.configure(lm=lm)"
   ]
  },
  {
   "cell_type": "code",
   "execution_count": 4,
   "metadata": {},
   "outputs": [
    {
     "data": {
      "text/plain": [
       "DatasetDict({\n",
       "    train: Dataset({\n",
       "        features: ['id', 'paragraphs', 'question', 'question_decomposition', 'answer', 'answer_aliases', 'answerable'],\n",
       "        num_rows: 19938\n",
       "    })\n",
       "    validation: Dataset({\n",
       "        features: ['id', 'paragraphs', 'question', 'question_decomposition', 'answer', 'answer_aliases', 'answerable'],\n",
       "        num_rows: 2417\n",
       "    })\n",
       "})"
      ]
     },
     "execution_count": 4,
     "metadata": {},
     "output_type": "execute_result"
    }
   ],
   "source": [
    "from datasets import load_dataset\n",
    "\n",
    "dsd = load_dataset('bdsaglam/musique', 'answerable')\n",
    "dsd"
   ]
  },
  {
   "cell_type": "code",
   "execution_count": 5,
   "metadata": {},
   "outputs": [],
   "source": [
    "def make_example(record):\n",
    "    decomposition = '\\n'.join([f\"{i+1}. {item['question']}\" for i, item in enumerate(record[\"question_decomposition\"])])\n",
    "    return dspy.Example(\n",
    "        question=record[\"question\"],\n",
    "        decomposition=decomposition,\n",
    "    ).with_inputs(\"question\")"
   ]
  },
  {
   "cell_type": "code",
   "execution_count": 6,
   "metadata": {},
   "outputs": [
    {
     "data": {
      "text/plain": [
       "Example({'question': 'When was the institute that owned The Collegian founded?', 'decomposition': '1. The Collegian >> owned by\\n2. When was #1 founded?'}) (input_keys={'question'})"
      ]
     },
     "execution_count": 6,
     "metadata": {},
     "output_type": "execute_result"
    }
   ],
   "source": [
    "make_example(dsd['train'][0])"
   ]
  },
  {
   "cell_type": "code",
   "execution_count": 7,
   "metadata": {},
   "outputs": [],
   "source": [
    "from itertools import islice\n",
    "\n",
    "trainset = [make_example(record) for record in islice(iter(dsd['train']), 100)]\n",
    "evalset = [make_example(record) for record in islice(iter(dsd['validation']), 100)]"
   ]
  },
  {
   "cell_type": "code",
   "execution_count": 8,
   "metadata": {},
   "outputs": [
    {
     "data": {
      "text/plain": [
       "{'question': 'When was the institute that owned The Collegian founded?',\n",
       " 'decomposition': '1. The Collegian >> owned by\\n2. When was #1 founded?'}"
      ]
     },
     "execution_count": 8,
     "metadata": {},
     "output_type": "execute_result"
    }
   ],
   "source": [
    "dict(trainset[0])"
   ]
  },
  {
   "cell_type": "code",
   "execution_count": 9,
   "metadata": {},
   "outputs": [],
   "source": [
    "# Update the Signature\n",
    "class DecomposeQuestion(dspy.Signature):\n",
    "    \"\"\"Decompose a complex question into simpler sub-questions.\"\"\"\n",
    "\n",
    "    question: str = dspy.InputField()\n",
    "    decomposition: str = dspy.OutputField(desc=\"Enumerated list of sub-questions, using '#n >>' notation for dependent questions\")\n",
    "\n",
    "\n",
    "# Update the Module\n",
    "class QuestionDecompositionModule(dspy.Module):\n",
    "    def __init__(self):\n",
    "        super().__init__()\n",
    "        self.decompose = dspy.ChainOfThought(DecomposeQuestion)\n",
    "\n",
    "    def forward(self, question):\n",
    "        pred = self.decompose(question=question)\n",
    "        return dspy.Prediction(decomposition=pred.decomposition)\n",
    "\n",
    "def split_subquestions(decomposition_str):\n",
    "    for line in decomposition_str.split(\"\\n\"):\n",
    "        if line.strip():\n",
    "            parts = line.split(\". \", 1)\n",
    "            if len(parts) == 1:\n",
    "                return parts[0].strip\n",
    "            elif len(parts) == 2:\n",
    "                yield parts[1].strip()\n",
    "            else:\n",
    "                raise ValueError(f\"Invalid decomposition line: {line}\")\n",
    "\n",
    "\n",
    "# Update the evaluation function\n",
    "def evaluate_decomposition(example, pred, trace=None):\n",
    "    gold_sub_questions = list(split_subquestions(example.decomposition))\n",
    "    pred_sub_questions = list(split_subquestions(pred.decomposition))\n",
    "    \n",
    "    assert len(gold_sub_questions), \"Gold decomposition is empty.\"\n",
    "\n",
    "    exact_matches = len([1 for gold, pred in zip(gold_sub_questions, pred_sub_questions) if gold == pred])\n",
    "    accuracy = exact_matches / len(gold_sub_questions)\n",
    "    return accuracy"
   ]
  },
  {
   "cell_type": "code",
   "execution_count": 10,
   "metadata": {},
   "outputs": [
    {
     "name": "stderr",
     "output_type": "stream",
     "text": [
      "  0%|          | 0/100 [00:00<?, ?it/s]Traceback (most recent call last):\n",
      "  File \"/Users/bdsaglam/dev/repos/bellek/.venv/lib/python3.10/site-packages/litellm/caching.py\", line 559, in add_cache\n",
      "    self.cache.set_cache(cache_key, cached_data, **kwargs)\n",
      "AttributeError: 'Cache' object has no attribute 'cache'\n",
      "  1%|          | 1/100 [00:01<02:48,  1.70s/it]Traceback (most recent call last):\n",
      "  File \"/Users/bdsaglam/dev/repos/bellek/.venv/lib/python3.10/site-packages/litellm/caching.py\", line 559, in add_cache\n",
      "    self.cache.set_cache(cache_key, cached_data, **kwargs)\n",
      "AttributeError: 'Cache' object has no attribute 'cache'\n",
      "  2%|▏         | 2/100 [00:03<02:40,  1.64s/it]Traceback (most recent call last):\n",
      "  File \"/Users/bdsaglam/dev/repos/bellek/.venv/lib/python3.10/site-packages/litellm/caching.py\", line 559, in add_cache\n",
      "    self.cache.set_cache(cache_key, cached_data, **kwargs)\n",
      "AttributeError: 'Cache' object has no attribute 'cache'\n",
      "  3%|▎         | 3/100 [00:04<02:38,  1.64s/it]Traceback (most recent call last):\n",
      "  File \"/Users/bdsaglam/dev/repos/bellek/.venv/lib/python3.10/site-packages/litellm/caching.py\", line 559, in add_cache\n",
      "    self.cache.set_cache(cache_key, cached_data, **kwargs)\n",
      "AttributeError: 'Cache' object has no attribute 'cache'\n",
      "  4%|▍         | 4/100 [00:06<02:38,  1.65s/it]Traceback (most recent call last):\n",
      "  File \"/Users/bdsaglam/dev/repos/bellek/.venv/lib/python3.10/site-packages/litellm/caching.py\", line 559, in add_cache\n",
      "    self.cache.set_cache(cache_key, cached_data, **kwargs)\n",
      "AttributeError: 'Cache' object has no attribute 'cache'\n",
      "  5%|▌         | 5/100 [00:08<02:35,  1.63s/it]Traceback (most recent call last):\n",
      "  File \"/Users/bdsaglam/dev/repos/bellek/.venv/lib/python3.10/site-packages/litellm/caching.py\", line 559, in add_cache\n",
      "    self.cache.set_cache(cache_key, cached_data, **kwargs)\n",
      "AttributeError: 'Cache' object has no attribute 'cache'\n",
      "  6%|▌         | 6/100 [00:09<02:24,  1.54s/it]Traceback (most recent call last):\n",
      "  File \"/Users/bdsaglam/dev/repos/bellek/.venv/lib/python3.10/site-packages/litellm/caching.py\", line 559, in add_cache\n",
      "    self.cache.set_cache(cache_key, cached_data, **kwargs)\n",
      "AttributeError: 'Cache' object has no attribute 'cache'\n",
      "  7%|▋         | 7/100 [00:11<02:24,  1.55s/it]Traceback (most recent call last):\n",
      "  File \"/Users/bdsaglam/dev/repos/bellek/.venv/lib/python3.10/site-packages/litellm/caching.py\", line 559, in add_cache\n",
      "    self.cache.set_cache(cache_key, cached_data, **kwargs)\n",
      "AttributeError: 'Cache' object has no attribute 'cache'\n",
      "  8%|▊         | 8/100 [00:12<02:20,  1.53s/it]Traceback (most recent call last):\n",
      "  File \"/Users/bdsaglam/dev/repos/bellek/.venv/lib/python3.10/site-packages/litellm/caching.py\", line 559, in add_cache\n",
      "    self.cache.set_cache(cache_key, cached_data, **kwargs)\n",
      "AttributeError: 'Cache' object has no attribute 'cache'\n",
      "  9%|▉         | 9/100 [00:14<02:31,  1.67s/it]Traceback (most recent call last):\n",
      "  File \"/Users/bdsaglam/dev/repos/bellek/.venv/lib/python3.10/site-packages/litellm/caching.py\", line 559, in add_cache\n",
      "    self.cache.set_cache(cache_key, cached_data, **kwargs)\n",
      "AttributeError: 'Cache' object has no attribute 'cache'\n",
      " 10%|█         | 10/100 [00:16<02:39,  1.78s/it]Traceback (most recent call last):\n",
      "  File \"/Users/bdsaglam/dev/repos/bellek/.venv/lib/python3.10/site-packages/litellm/caching.py\", line 559, in add_cache\n",
      "    self.cache.set_cache(cache_key, cached_data, **kwargs)\n",
      "AttributeError: 'Cache' object has no attribute 'cache'\n",
      " 11%|█         | 11/100 [00:18<02:37,  1.76s/it]Traceback (most recent call last):\n",
      "  File \"/Users/bdsaglam/dev/repos/bellek/.venv/lib/python3.10/site-packages/litellm/caching.py\", line 559, in add_cache\n",
      "    self.cache.set_cache(cache_key, cached_data, **kwargs)\n",
      "AttributeError: 'Cache' object has no attribute 'cache'\n",
      " 12%|█▏        | 12/100 [00:19<02:31,  1.73s/it]Traceback (most recent call last):\n",
      "  File \"/Users/bdsaglam/dev/repos/bellek/.venv/lib/python3.10/site-packages/litellm/caching.py\", line 559, in add_cache\n",
      "    self.cache.set_cache(cache_key, cached_data, **kwargs)\n",
      "AttributeError: 'Cache' object has no attribute 'cache'\n",
      " 13%|█▎        | 13/100 [00:21<02:30,  1.73s/it]Traceback (most recent call last):\n",
      "  File \"/Users/bdsaglam/dev/repos/bellek/.venv/lib/python3.10/site-packages/litellm/caching.py\", line 559, in add_cache\n",
      "    self.cache.set_cache(cache_key, cached_data, **kwargs)\n",
      "AttributeError: 'Cache' object has no attribute 'cache'\n",
      " 14%|█▍        | 14/100 [00:23<02:30,  1.75s/it]Traceback (most recent call last):\n",
      "  File \"/Users/bdsaglam/dev/repos/bellek/.venv/lib/python3.10/site-packages/litellm/caching.py\", line 559, in add_cache\n",
      "    self.cache.set_cache(cache_key, cached_data, **kwargs)\n",
      "AttributeError: 'Cache' object has no attribute 'cache'\n",
      " 15%|█▌        | 15/100 [00:25<02:35,  1.83s/it]Traceback (most recent call last):\n",
      "  File \"/Users/bdsaglam/dev/repos/bellek/.venv/lib/python3.10/site-packages/litellm/caching.py\", line 559, in add_cache\n",
      "    self.cache.set_cache(cache_key, cached_data, **kwargs)\n",
      "AttributeError: 'Cache' object has no attribute 'cache'\n",
      " 16%|█▌        | 16/100 [00:27<02:25,  1.73s/it]Traceback (most recent call last):\n",
      "  File \"/Users/bdsaglam/dev/repos/bellek/.venv/lib/python3.10/site-packages/litellm/caching.py\", line 559, in add_cache\n",
      "    self.cache.set_cache(cache_key, cached_data, **kwargs)\n",
      "AttributeError: 'Cache' object has no attribute 'cache'\n",
      " 17%|█▋        | 17/100 [00:28<02:21,  1.70s/it]Traceback (most recent call last):\n",
      "  File \"/Users/bdsaglam/dev/repos/bellek/.venv/lib/python3.10/site-packages/litellm/caching.py\", line 559, in add_cache\n",
      "    self.cache.set_cache(cache_key, cached_data, **kwargs)\n",
      "AttributeError: 'Cache' object has no attribute 'cache'\n",
      " 18%|█▊        | 18/100 [00:30<02:21,  1.72s/it]Traceback (most recent call last):\n",
      "  File \"/Users/bdsaglam/dev/repos/bellek/.venv/lib/python3.10/site-packages/litellm/caching.py\", line 559, in add_cache\n",
      "    self.cache.set_cache(cache_key, cached_data, **kwargs)\n",
      "AttributeError: 'Cache' object has no attribute 'cache'\n",
      " 19%|█▉        | 19/100 [00:32<02:26,  1.80s/it]Traceback (most recent call last):\n",
      "  File \"/Users/bdsaglam/dev/repos/bellek/.venv/lib/python3.10/site-packages/litellm/caching.py\", line 559, in add_cache\n",
      "    self.cache.set_cache(cache_key, cached_data, **kwargs)\n",
      "AttributeError: 'Cache' object has no attribute 'cache'\n",
      " 20%|██        | 20/100 [00:33<02:13,  1.67s/it]Traceback (most recent call last):\n",
      "  File \"/Users/bdsaglam/dev/repos/bellek/.venv/lib/python3.10/site-packages/litellm/caching.py\", line 559, in add_cache\n",
      "    self.cache.set_cache(cache_key, cached_data, **kwargs)\n",
      "AttributeError: 'Cache' object has no attribute 'cache'\n",
      " 21%|██        | 21/100 [00:35<02:01,  1.54s/it]Traceback (most recent call last):\n",
      "  File \"/Users/bdsaglam/dev/repos/bellek/.venv/lib/python3.10/site-packages/litellm/caching.py\", line 559, in add_cache\n",
      "    self.cache.set_cache(cache_key, cached_data, **kwargs)\n",
      "AttributeError: 'Cache' object has no attribute 'cache'\n",
      " 22%|██▏       | 22/100 [00:37<02:11,  1.69s/it]"
     ]
    },
    {
     "name": "stdout",
     "output_type": "stream",
     "text": [
      "Bootstrapped 4 full traces after 23 examples in round 0.\n",
      "Question Decomposition module compiled and optimized\n"
     ]
    },
    {
     "name": "stderr",
     "output_type": "stream",
     "text": [
      "\n"
     ]
    }
   ],
   "source": [
    "# ## 6. Implement the optimization process\n",
    "# Initialize the uncompiled question decomposition module\n",
    "uncompiled_qd = QuestionDecompositionModule()\n",
    "\n",
    "# Set up the teleprompter\n",
    "teleprompter = BootstrapFewShot(metric=evaluate_decomposition)\n",
    "\n",
    "# Compile and optimize the question decomposition module\n",
    "compiled_qd = teleprompter.compile(uncompiled_qd, trainset=trainset)\n",
    "\n",
    "print(\"Question Decomposition module compiled and optimized\")"
   ]
  },
  {
   "cell_type": "code",
   "execution_count": 11,
   "metadata": {},
   "outputs": [
    {
     "name": "stdout",
     "output_type": "stream",
     "text": [
      "Average Metric: 0.0 / 1  (0.0):   1%|          | 1/100 [00:01<02:39,  1.61s/it]"
     ]
    },
    {
     "name": "stderr",
     "output_type": "stream",
     "text": [
      "Traceback (most recent call last):\n",
      "  File \"/Users/bdsaglam/dev/repos/bellek/.venv/lib/python3.10/site-packages/litellm/caching.py\", line 559, in add_cache\n",
      "    self.cache.set_cache(cache_key, cached_data, **kwargs)\n",
      "AttributeError: 'Cache' object has no attribute 'cache'\n"
     ]
    },
    {
     "name": "stdout",
     "output_type": "stream",
     "text": [
      "Average Metric: 0.0 / 2  (0.0):   2%|▏         | 2/100 [00:03<03:11,  1.96s/it]"
     ]
    },
    {
     "name": "stderr",
     "output_type": "stream",
     "text": [
      "Traceback (most recent call last):\n",
      "  File \"/Users/bdsaglam/dev/repos/bellek/.venv/lib/python3.10/site-packages/litellm/caching.py\", line 559, in add_cache\n",
      "    self.cache.set_cache(cache_key, cached_data, **kwargs)\n",
      "AttributeError: 'Cache' object has no attribute 'cache'\n"
     ]
    },
    {
     "name": "stdout",
     "output_type": "stream",
     "text": [
      "Average Metric: 0.0 / 3  (0.0):   3%|▎         | 3/100 [00:05<03:08,  1.95s/it]"
     ]
    },
    {
     "name": "stderr",
     "output_type": "stream",
     "text": [
      "Traceback (most recent call last):\n",
      "  File \"/Users/bdsaglam/dev/repos/bellek/.venv/lib/python3.10/site-packages/litellm/caching.py\", line 559, in add_cache\n",
      "    self.cache.set_cache(cache_key, cached_data, **kwargs)\n",
      "AttributeError: 'Cache' object has no attribute 'cache'\n"
     ]
    },
    {
     "name": "stdout",
     "output_type": "stream",
     "text": [
      "Average Metric: 0.0 / 4  (0.0):   4%|▍         | 4/100 [00:08<03:23,  2.12s/it]"
     ]
    },
    {
     "name": "stderr",
     "output_type": "stream",
     "text": [
      "Traceback (most recent call last):\n",
      "  File \"/Users/bdsaglam/dev/repos/bellek/.venv/lib/python3.10/site-packages/litellm/caching.py\", line 559, in add_cache\n",
      "    self.cache.set_cache(cache_key, cached_data, **kwargs)\n",
      "AttributeError: 'Cache' object has no attribute 'cache'\n"
     ]
    },
    {
     "name": "stdout",
     "output_type": "stream",
     "text": [
      "Average Metric: 0.0 / 5  (0.0):   5%|▌         | 5/100 [00:10<03:24,  2.15s/it]"
     ]
    },
    {
     "name": "stderr",
     "output_type": "stream",
     "text": [
      "Traceback (most recent call last):\n",
      "  File \"/Users/bdsaglam/dev/repos/bellek/.venv/lib/python3.10/site-packages/litellm/caching.py\", line 559, in add_cache\n",
      "    self.cache.set_cache(cache_key, cached_data, **kwargs)\n",
      "AttributeError: 'Cache' object has no attribute 'cache'\n"
     ]
    },
    {
     "name": "stdout",
     "output_type": "stream",
     "text": [
      "Average Metric: 0.0 / 6  (0.0):   6%|▌         | 6/100 [00:12<03:27,  2.21s/it]"
     ]
    },
    {
     "name": "stderr",
     "output_type": "stream",
     "text": [
      "Traceback (most recent call last):\n",
      "  File \"/Users/bdsaglam/dev/repos/bellek/.venv/lib/python3.10/site-packages/litellm/caching.py\", line 559, in add_cache\n",
      "    self.cache.set_cache(cache_key, cached_data, **kwargs)\n",
      "AttributeError: 'Cache' object has no attribute 'cache'\n"
     ]
    },
    {
     "name": "stdout",
     "output_type": "stream",
     "text": [
      "Average Metric: 0.0 / 7  (0.0):   7%|▋         | 7/100 [00:15<03:37,  2.34s/it]"
     ]
    },
    {
     "name": "stderr",
     "output_type": "stream",
     "text": [
      "Traceback (most recent call last):\n",
      "  File \"/Users/bdsaglam/dev/repos/bellek/.venv/lib/python3.10/site-packages/litellm/caching.py\", line 559, in add_cache\n",
      "    self.cache.set_cache(cache_key, cached_data, **kwargs)\n",
      "AttributeError: 'Cache' object has no attribute 'cache'\n"
     ]
    },
    {
     "name": "stdout",
     "output_type": "stream",
     "text": [
      "Average Metric: 0.0 / 8  (0.0):   8%|▊         | 8/100 [00:18<03:51,  2.52s/it]"
     ]
    },
    {
     "name": "stderr",
     "output_type": "stream",
     "text": [
      "Traceback (most recent call last):\n",
      "  File \"/Users/bdsaglam/dev/repos/bellek/.venv/lib/python3.10/site-packages/litellm/caching.py\", line 559, in add_cache\n",
      "    self.cache.set_cache(cache_key, cached_data, **kwargs)\n",
      "AttributeError: 'Cache' object has no attribute 'cache'\n"
     ]
    },
    {
     "name": "stdout",
     "output_type": "stream",
     "text": [
      "Average Metric: 0.0 / 9  (0.0):   9%|▉         | 9/100 [00:20<03:40,  2.42s/it]"
     ]
    },
    {
     "name": "stderr",
     "output_type": "stream",
     "text": [
      "Traceback (most recent call last):\n",
      "  File \"/Users/bdsaglam/dev/repos/bellek/.venv/lib/python3.10/site-packages/litellm/caching.py\", line 559, in add_cache\n",
      "    self.cache.set_cache(cache_key, cached_data, **kwargs)\n",
      "AttributeError: 'Cache' object has no attribute 'cache'\n"
     ]
    },
    {
     "name": "stdout",
     "output_type": "stream",
     "text": [
      "Average Metric: 0.0 / 10  (0.0):  10%|█         | 10/100 [00:22<03:16,  2.18s/it]"
     ]
    },
    {
     "name": "stderr",
     "output_type": "stream",
     "text": [
      "Traceback (most recent call last):\n",
      "  File \"/Users/bdsaglam/dev/repos/bellek/.venv/lib/python3.10/site-packages/litellm/caching.py\", line 559, in add_cache\n",
      "    self.cache.set_cache(cache_key, cached_data, **kwargs)\n",
      "AttributeError: 'Cache' object has no attribute 'cache'\n"
     ]
    },
    {
     "name": "stdout",
     "output_type": "stream",
     "text": [
      "Average Metric: 0.0 / 11  (0.0):  11%|█         | 11/100 [00:23<03:01,  2.04s/it]"
     ]
    },
    {
     "name": "stderr",
     "output_type": "stream",
     "text": [
      "Traceback (most recent call last):\n",
      "  File \"/Users/bdsaglam/dev/repos/bellek/.venv/lib/python3.10/site-packages/litellm/caching.py\", line 559, in add_cache\n",
      "    self.cache.set_cache(cache_key, cached_data, **kwargs)\n",
      "AttributeError: 'Cache' object has no attribute 'cache'\n"
     ]
    },
    {
     "name": "stdout",
     "output_type": "stream",
     "text": [
      "Average Metric: 0.0 / 12  (0.0):  12%|█▏        | 12/100 [00:25<02:45,  1.88s/it]"
     ]
    },
    {
     "name": "stderr",
     "output_type": "stream",
     "text": [
      "Traceback (most recent call last):\n",
      "  File \"/Users/bdsaglam/dev/repos/bellek/.venv/lib/python3.10/site-packages/litellm/caching.py\", line 559, in add_cache\n",
      "    self.cache.set_cache(cache_key, cached_data, **kwargs)\n",
      "AttributeError: 'Cache' object has no attribute 'cache'\n"
     ]
    },
    {
     "name": "stdout",
     "output_type": "stream",
     "text": [
      "Average Metric: 0.0 / 13  (0.0):  13%|█▎        | 13/100 [00:27<02:45,  1.91s/it]"
     ]
    },
    {
     "name": "stderr",
     "output_type": "stream",
     "text": [
      "Traceback (most recent call last):\n",
      "  File \"/Users/bdsaglam/dev/repos/bellek/.venv/lib/python3.10/site-packages/litellm/caching.py\", line 559, in add_cache\n",
      "    self.cache.set_cache(cache_key, cached_data, **kwargs)\n",
      "AttributeError: 'Cache' object has no attribute 'cache'\n"
     ]
    },
    {
     "name": "stdout",
     "output_type": "stream",
     "text": [
      "Average Metric: 0.0 / 14  (0.0):  14%|█▍        | 14/100 [00:29<02:51,  2.00s/it]"
     ]
    },
    {
     "name": "stderr",
     "output_type": "stream",
     "text": [
      "Traceback (most recent call last):\n",
      "  File \"/Users/bdsaglam/dev/repos/bellek/.venv/lib/python3.10/site-packages/litellm/caching.py\", line 559, in add_cache\n",
      "    self.cache.set_cache(cache_key, cached_data, **kwargs)\n",
      "AttributeError: 'Cache' object has no attribute 'cache'\n"
     ]
    },
    {
     "name": "stdout",
     "output_type": "stream",
     "text": [
      "Average Metric: 0.0 / 15  (0.0):  15%|█▌        | 15/100 [00:31<02:52,  2.02s/it]"
     ]
    },
    {
     "name": "stderr",
     "output_type": "stream",
     "text": [
      "Traceback (most recent call last):\n",
      "  File \"/Users/bdsaglam/dev/repos/bellek/.venv/lib/python3.10/site-packages/litellm/caching.py\", line 559, in add_cache\n",
      "    self.cache.set_cache(cache_key, cached_data, **kwargs)\n",
      "AttributeError: 'Cache' object has no attribute 'cache'\n"
     ]
    },
    {
     "name": "stdout",
     "output_type": "stream",
     "text": [
      "Average Metric: 0.0 / 16  (0.0):  16%|█▌        | 16/100 [00:33<02:40,  1.91s/it]"
     ]
    },
    {
     "name": "stderr",
     "output_type": "stream",
     "text": [
      "Traceback (most recent call last):\n",
      "  File \"/Users/bdsaglam/dev/repos/bellek/.venv/lib/python3.10/site-packages/litellm/caching.py\", line 559, in add_cache\n",
      "    self.cache.set_cache(cache_key, cached_data, **kwargs)\n",
      "AttributeError: 'Cache' object has no attribute 'cache'\n"
     ]
    },
    {
     "name": "stdout",
     "output_type": "stream",
     "text": [
      "Average Metric: 0.0 / 17  (0.0):  17%|█▋        | 17/100 [00:37<03:41,  2.67s/it]"
     ]
    },
    {
     "name": "stderr",
     "output_type": "stream",
     "text": [
      "Traceback (most recent call last):\n",
      "  File \"/Users/bdsaglam/dev/repos/bellek/.venv/lib/python3.10/site-packages/litellm/caching.py\", line 559, in add_cache\n",
      "    self.cache.set_cache(cache_key, cached_data, **kwargs)\n",
      "AttributeError: 'Cache' object has no attribute 'cache'\n"
     ]
    },
    {
     "name": "stdout",
     "output_type": "stream",
     "text": [
      "Average Metric: 0.0 / 18  (0.0):  18%|█▊        | 18/100 [00:39<03:09,  2.31s/it]"
     ]
    },
    {
     "name": "stderr",
     "output_type": "stream",
     "text": [
      "Traceback (most recent call last):\n",
      "  File \"/Users/bdsaglam/dev/repos/bellek/.venv/lib/python3.10/site-packages/litellm/caching.py\", line 559, in add_cache\n",
      "    self.cache.set_cache(cache_key, cached_data, **kwargs)\n",
      "AttributeError: 'Cache' object has no attribute 'cache'\n"
     ]
    },
    {
     "name": "stdout",
     "output_type": "stream",
     "text": [
      "Average Metric: 0.0 / 19  (0.0):  19%|█▉        | 19/100 [00:40<02:55,  2.17s/it]"
     ]
    },
    {
     "name": "stderr",
     "output_type": "stream",
     "text": [
      "Traceback (most recent call last):\n",
      "  File \"/Users/bdsaglam/dev/repos/bellek/.venv/lib/python3.10/site-packages/litellm/caching.py\", line 559, in add_cache\n",
      "    self.cache.set_cache(cache_key, cached_data, **kwargs)\n",
      "AttributeError: 'Cache' object has no attribute 'cache'\n"
     ]
    },
    {
     "name": "stdout",
     "output_type": "stream",
     "text": [
      "Average Metric: 0.0 / 20  (0.0):  20%|██        | 20/100 [00:43<02:52,  2.16s/it]"
     ]
    },
    {
     "name": "stderr",
     "output_type": "stream",
     "text": [
      "Traceback (most recent call last):\n",
      "  File \"/Users/bdsaglam/dev/repos/bellek/.venv/lib/python3.10/site-packages/litellm/caching.py\", line 559, in add_cache\n",
      "    self.cache.set_cache(cache_key, cached_data, **kwargs)\n",
      "AttributeError: 'Cache' object has no attribute 'cache'\n"
     ]
    },
    {
     "name": "stdout",
     "output_type": "stream",
     "text": [
      "Average Metric: 0.0 / 21  (0.0):  21%|██        | 21/100 [00:44<02:44,  2.08s/it]"
     ]
    },
    {
     "name": "stderr",
     "output_type": "stream",
     "text": [
      "Traceback (most recent call last):\n",
      "  File \"/Users/bdsaglam/dev/repos/bellek/.venv/lib/python3.10/site-packages/litellm/caching.py\", line 559, in add_cache\n",
      "    self.cache.set_cache(cache_key, cached_data, **kwargs)\n",
      "AttributeError: 'Cache' object has no attribute 'cache'\n"
     ]
    },
    {
     "name": "stdout",
     "output_type": "stream",
     "text": [
      "Average Metric: 0.0 / 22  (0.0):  22%|██▏       | 22/100 [00:49<03:41,  2.84s/it]"
     ]
    },
    {
     "name": "stderr",
     "output_type": "stream",
     "text": [
      "Traceback (most recent call last):\n",
      "  File \"/Users/bdsaglam/dev/repos/bellek/.venv/lib/python3.10/site-packages/litellm/caching.py\", line 559, in add_cache\n",
      "    self.cache.set_cache(cache_key, cached_data, **kwargs)\n",
      "AttributeError: 'Cache' object has no attribute 'cache'\n"
     ]
    },
    {
     "name": "stdout",
     "output_type": "stream",
     "text": [
      "Average Metric: 0.0 / 23  (0.0):  23%|██▎       | 23/100 [00:51<03:13,  2.51s/it]"
     ]
    },
    {
     "name": "stderr",
     "output_type": "stream",
     "text": [
      "Traceback (most recent call last):\n",
      "  File \"/Users/bdsaglam/dev/repos/bellek/.venv/lib/python3.10/site-packages/litellm/caching.py\", line 559, in add_cache\n",
      "    self.cache.set_cache(cache_key, cached_data, **kwargs)\n",
      "AttributeError: 'Cache' object has no attribute 'cache'\n"
     ]
    },
    {
     "name": "stdout",
     "output_type": "stream",
     "text": [
      "Average Metric: 0.0 / 24  (0.0):  24%|██▍       | 24/100 [00:53<03:07,  2.47s/it]"
     ]
    },
    {
     "name": "stderr",
     "output_type": "stream",
     "text": [
      "Traceback (most recent call last):\n",
      "  File \"/Users/bdsaglam/dev/repos/bellek/.venv/lib/python3.10/site-packages/litellm/caching.py\", line 559, in add_cache\n",
      "    self.cache.set_cache(cache_key, cached_data, **kwargs)\n",
      "AttributeError: 'Cache' object has no attribute 'cache'\n"
     ]
    },
    {
     "name": "stdout",
     "output_type": "stream",
     "text": [
      "Average Metric: 0.0 / 25  (0.0):  25%|██▌       | 25/100 [00:55<02:44,  2.20s/it]"
     ]
    },
    {
     "name": "stderr",
     "output_type": "stream",
     "text": [
      "Traceback (most recent call last):\n",
      "  File \"/Users/bdsaglam/dev/repos/bellek/.venv/lib/python3.10/site-packages/litellm/caching.py\", line 559, in add_cache\n",
      "    self.cache.set_cache(cache_key, cached_data, **kwargs)\n",
      "AttributeError: 'Cache' object has no attribute 'cache'\n"
     ]
    },
    {
     "name": "stdout",
     "output_type": "stream",
     "text": [
      "Average Metric: 0.0 / 26  (0.0):  26%|██▌       | 26/100 [00:57<02:40,  2.17s/it]"
     ]
    },
    {
     "name": "stderr",
     "output_type": "stream",
     "text": [
      "Traceback (most recent call last):\n",
      "  File \"/Users/bdsaglam/dev/repos/bellek/.venv/lib/python3.10/site-packages/litellm/caching.py\", line 559, in add_cache\n",
      "    self.cache.set_cache(cache_key, cached_data, **kwargs)\n",
      "AttributeError: 'Cache' object has no attribute 'cache'\n"
     ]
    },
    {
     "name": "stdout",
     "output_type": "stream",
     "text": [
      "Average Metric: 0.0 / 27  (0.0):  27%|██▋       | 27/100 [00:59<02:40,  2.19s/it]"
     ]
    },
    {
     "name": "stderr",
     "output_type": "stream",
     "text": [
      "Traceback (most recent call last):\n",
      "  File \"/Users/bdsaglam/dev/repos/bellek/.venv/lib/python3.10/site-packages/litellm/caching.py\", line 559, in add_cache\n",
      "    self.cache.set_cache(cache_key, cached_data, **kwargs)\n",
      "AttributeError: 'Cache' object has no attribute 'cache'\n"
     ]
    },
    {
     "name": "stdout",
     "output_type": "stream",
     "text": [
      "Average Metric: 0.0 / 28  (0.0):  28%|██▊       | 28/100 [01:01<02:32,  2.11s/it]"
     ]
    },
    {
     "name": "stderr",
     "output_type": "stream",
     "text": [
      "Traceback (most recent call last):\n",
      "  File \"/Users/bdsaglam/dev/repos/bellek/.venv/lib/python3.10/site-packages/litellm/caching.py\", line 559, in add_cache\n",
      "    self.cache.set_cache(cache_key, cached_data, **kwargs)\n",
      "AttributeError: 'Cache' object has no attribute 'cache'\n"
     ]
    },
    {
     "name": "stdout",
     "output_type": "stream",
     "text": [
      "Average Metric: 0.0 / 29  (0.0):  29%|██▉       | 29/100 [01:02<02:13,  1.88s/it]"
     ]
    },
    {
     "name": "stderr",
     "output_type": "stream",
     "text": [
      "Traceback (most recent call last):\n",
      "  File \"/Users/bdsaglam/dev/repos/bellek/.venv/lib/python3.10/site-packages/litellm/caching.py\", line 559, in add_cache\n",
      "    self.cache.set_cache(cache_key, cached_data, **kwargs)\n",
      "AttributeError: 'Cache' object has no attribute 'cache'\n"
     ]
    },
    {
     "name": "stdout",
     "output_type": "stream",
     "text": [
      "Average Metric: 0.0 / 30  (0.0):  30%|███       | 30/100 [01:04<02:04,  1.79s/it]"
     ]
    },
    {
     "name": "stderr",
     "output_type": "stream",
     "text": [
      "Traceback (most recent call last):\n",
      "  File \"/Users/bdsaglam/dev/repos/bellek/.venv/lib/python3.10/site-packages/litellm/caching.py\", line 559, in add_cache\n",
      "    self.cache.set_cache(cache_key, cached_data, **kwargs)\n",
      "AttributeError: 'Cache' object has no attribute 'cache'\n"
     ]
    },
    {
     "name": "stdout",
     "output_type": "stream",
     "text": [
      "Average Metric: 0.0 / 31  (0.0):  31%|███       | 31/100 [01:06<02:06,  1.83s/it]"
     ]
    },
    {
     "name": "stderr",
     "output_type": "stream",
     "text": [
      "Traceback (most recent call last):\n",
      "  File \"/Users/bdsaglam/dev/repos/bellek/.venv/lib/python3.10/site-packages/litellm/caching.py\", line 559, in add_cache\n",
      "    self.cache.set_cache(cache_key, cached_data, **kwargs)\n",
      "AttributeError: 'Cache' object has no attribute 'cache'\n"
     ]
    },
    {
     "name": "stdout",
     "output_type": "stream",
     "text": [
      "Average Metric: 0.0 / 32  (0.0):  32%|███▏      | 32/100 [01:08<02:13,  1.97s/it]"
     ]
    },
    {
     "name": "stderr",
     "output_type": "stream",
     "text": [
      "Traceback (most recent call last):\n",
      "  File \"/Users/bdsaglam/dev/repos/bellek/.venv/lib/python3.10/site-packages/litellm/caching.py\", line 559, in add_cache\n",
      "    self.cache.set_cache(cache_key, cached_data, **kwargs)\n",
      "AttributeError: 'Cache' object has no attribute 'cache'\n"
     ]
    },
    {
     "name": "stdout",
     "output_type": "stream",
     "text": [
      "Average Metric: 0.0 / 33  (0.0):  33%|███▎      | 33/100 [01:10<02:17,  2.06s/it]"
     ]
    },
    {
     "name": "stderr",
     "output_type": "stream",
     "text": [
      "Traceback (most recent call last):\n",
      "  File \"/Users/bdsaglam/dev/repos/bellek/.venv/lib/python3.10/site-packages/litellm/caching.py\", line 559, in add_cache\n",
      "    self.cache.set_cache(cache_key, cached_data, **kwargs)\n",
      "AttributeError: 'Cache' object has no attribute 'cache'\n"
     ]
    },
    {
     "name": "stdout",
     "output_type": "stream",
     "text": [
      "Average Metric: 0.0 / 34  (0.0):  34%|███▍      | 34/100 [01:12<02:11,  1.99s/it]"
     ]
    },
    {
     "name": "stderr",
     "output_type": "stream",
     "text": [
      "Traceback (most recent call last):\n",
      "  File \"/Users/bdsaglam/dev/repos/bellek/.venv/lib/python3.10/site-packages/litellm/caching.py\", line 559, in add_cache\n",
      "    self.cache.set_cache(cache_key, cached_data, **kwargs)\n",
      "AttributeError: 'Cache' object has no attribute 'cache'\n"
     ]
    },
    {
     "name": "stdout",
     "output_type": "stream",
     "text": [
      "Average Metric: 0.0 / 35  (0.0):  35%|███▌      | 35/100 [01:14<02:07,  1.97s/it]"
     ]
    },
    {
     "name": "stderr",
     "output_type": "stream",
     "text": [
      "Traceback (most recent call last):\n",
      "  File \"/Users/bdsaglam/dev/repos/bellek/.venv/lib/python3.10/site-packages/litellm/caching.py\", line 559, in add_cache\n",
      "    self.cache.set_cache(cache_key, cached_data, **kwargs)\n",
      "AttributeError: 'Cache' object has no attribute 'cache'\n"
     ]
    },
    {
     "name": "stdout",
     "output_type": "stream",
     "text": [
      "Average Metric: 0.0 / 36  (0.0):  36%|███▌      | 36/100 [01:16<01:59,  1.87s/it]"
     ]
    },
    {
     "name": "stderr",
     "output_type": "stream",
     "text": [
      "Traceback (most recent call last):\n",
      "  File \"/Users/bdsaglam/dev/repos/bellek/.venv/lib/python3.10/site-packages/litellm/caching.py\", line 559, in add_cache\n",
      "    self.cache.set_cache(cache_key, cached_data, **kwargs)\n",
      "AttributeError: 'Cache' object has no attribute 'cache'\n"
     ]
    },
    {
     "name": "stdout",
     "output_type": "stream",
     "text": [
      "Average Metric: 0.0 / 37  (0.0):  37%|███▋      | 37/100 [01:19<02:21,  2.25s/it]"
     ]
    },
    {
     "name": "stderr",
     "output_type": "stream",
     "text": [
      "Traceback (most recent call last):\n",
      "  File \"/Users/bdsaglam/dev/repos/bellek/.venv/lib/python3.10/site-packages/litellm/caching.py\", line 559, in add_cache\n",
      "    self.cache.set_cache(cache_key, cached_data, **kwargs)\n",
      "AttributeError: 'Cache' object has no attribute 'cache'\n"
     ]
    },
    {
     "name": "stdout",
     "output_type": "stream",
     "text": [
      "Average Metric: 0.0 / 38  (0.0):  38%|███▊      | 38/100 [01:21<02:08,  2.06s/it]"
     ]
    },
    {
     "name": "stderr",
     "output_type": "stream",
     "text": [
      "Traceback (most recent call last):\n",
      "  File \"/Users/bdsaglam/dev/repos/bellek/.venv/lib/python3.10/site-packages/litellm/caching.py\", line 559, in add_cache\n",
      "    self.cache.set_cache(cache_key, cached_data, **kwargs)\n",
      "AttributeError: 'Cache' object has no attribute 'cache'\n"
     ]
    },
    {
     "name": "stdout",
     "output_type": "stream",
     "text": [
      "Average Metric: 0.0 / 39  (0.0):  39%|███▉      | 39/100 [01:22<01:59,  1.97s/it]"
     ]
    },
    {
     "name": "stderr",
     "output_type": "stream",
     "text": [
      "Traceback (most recent call last):\n",
      "  File \"/Users/bdsaglam/dev/repos/bellek/.venv/lib/python3.10/site-packages/litellm/caching.py\", line 559, in add_cache\n",
      "    self.cache.set_cache(cache_key, cached_data, **kwargs)\n",
      "AttributeError: 'Cache' object has no attribute 'cache'\n"
     ]
    },
    {
     "name": "stdout",
     "output_type": "stream",
     "text": [
      "Average Metric: 0.0 / 40  (0.0):  40%|████      | 40/100 [01:25<02:07,  2.13s/it]"
     ]
    },
    {
     "name": "stderr",
     "output_type": "stream",
     "text": [
      "Traceback (most recent call last):\n",
      "  File \"/Users/bdsaglam/dev/repos/bellek/.venv/lib/python3.10/site-packages/litellm/caching.py\", line 559, in add_cache\n",
      "    self.cache.set_cache(cache_key, cached_data, **kwargs)\n",
      "AttributeError: 'Cache' object has no attribute 'cache'\n"
     ]
    },
    {
     "name": "stdout",
     "output_type": "stream",
     "text": [
      "Average Metric: 0.0 / 41  (0.0):  41%|████      | 41/100 [01:26<01:54,  1.95s/it]"
     ]
    },
    {
     "name": "stderr",
     "output_type": "stream",
     "text": [
      "Traceback (most recent call last):\n",
      "  File \"/Users/bdsaglam/dev/repos/bellek/.venv/lib/python3.10/site-packages/litellm/caching.py\", line 559, in add_cache\n",
      "    self.cache.set_cache(cache_key, cached_data, **kwargs)\n",
      "AttributeError: 'Cache' object has no attribute 'cache'\n"
     ]
    },
    {
     "name": "stdout",
     "output_type": "stream",
     "text": [
      "Average Metric: 0.0 / 42  (0.0):  42%|████▏     | 42/100 [01:28<01:50,  1.91s/it]"
     ]
    },
    {
     "name": "stderr",
     "output_type": "stream",
     "text": [
      "Traceback (most recent call last):\n",
      "  File \"/Users/bdsaglam/dev/repos/bellek/.venv/lib/python3.10/site-packages/litellm/caching.py\", line 559, in add_cache\n",
      "    self.cache.set_cache(cache_key, cached_data, **kwargs)\n",
      "AttributeError: 'Cache' object has no attribute 'cache'\n"
     ]
    },
    {
     "name": "stdout",
     "output_type": "stream",
     "text": [
      "Average Metric: 0.0 / 43  (0.0):  43%|████▎     | 43/100 [01:30<01:43,  1.81s/it]"
     ]
    },
    {
     "name": "stderr",
     "output_type": "stream",
     "text": [
      "Traceback (most recent call last):\n",
      "  File \"/Users/bdsaglam/dev/repos/bellek/.venv/lib/python3.10/site-packages/litellm/caching.py\", line 559, in add_cache\n",
      "    self.cache.set_cache(cache_key, cached_data, **kwargs)\n",
      "AttributeError: 'Cache' object has no attribute 'cache'\n"
     ]
    },
    {
     "name": "stdout",
     "output_type": "stream",
     "text": [
      "Average Metric: 0.0 / 44  (0.0):  44%|████▍     | 44/100 [01:31<01:39,  1.78s/it]"
     ]
    },
    {
     "name": "stderr",
     "output_type": "stream",
     "text": [
      "Traceback (most recent call last):\n",
      "  File \"/Users/bdsaglam/dev/repos/bellek/.venv/lib/python3.10/site-packages/litellm/caching.py\", line 559, in add_cache\n",
      "    self.cache.set_cache(cache_key, cached_data, **kwargs)\n",
      "AttributeError: 'Cache' object has no attribute 'cache'\n"
     ]
    },
    {
     "name": "stdout",
     "output_type": "stream",
     "text": [
      "Average Metric: 0.0 / 45  (0.0):  45%|████▌     | 45/100 [01:33<01:37,  1.77s/it]"
     ]
    },
    {
     "name": "stderr",
     "output_type": "stream",
     "text": [
      "Traceback (most recent call last):\n",
      "  File \"/Users/bdsaglam/dev/repos/bellek/.venv/lib/python3.10/site-packages/litellm/caching.py\", line 559, in add_cache\n",
      "    self.cache.set_cache(cache_key, cached_data, **kwargs)\n",
      "AttributeError: 'Cache' object has no attribute 'cache'\n"
     ]
    },
    {
     "name": "stdout",
     "output_type": "stream",
     "text": [
      "Average Metric: 0.0 / 46  (0.0):  46%|████▌     | 46/100 [01:35<01:29,  1.66s/it]"
     ]
    },
    {
     "name": "stderr",
     "output_type": "stream",
     "text": [
      "Traceback (most recent call last):\n",
      "  File \"/Users/bdsaglam/dev/repos/bellek/.venv/lib/python3.10/site-packages/litellm/caching.py\", line 559, in add_cache\n",
      "    self.cache.set_cache(cache_key, cached_data, **kwargs)\n",
      "AttributeError: 'Cache' object has no attribute 'cache'\n"
     ]
    },
    {
     "name": "stdout",
     "output_type": "stream",
     "text": [
      "Average Metric: 0.0 / 47  (0.0):  47%|████▋     | 47/100 [01:37<01:34,  1.79s/it]"
     ]
    },
    {
     "name": "stderr",
     "output_type": "stream",
     "text": [
      "Traceback (most recent call last):\n",
      "  File \"/Users/bdsaglam/dev/repos/bellek/.venv/lib/python3.10/site-packages/litellm/caching.py\", line 559, in add_cache\n",
      "    self.cache.set_cache(cache_key, cached_data, **kwargs)\n",
      "AttributeError: 'Cache' object has no attribute 'cache'\n"
     ]
    },
    {
     "name": "stdout",
     "output_type": "stream",
     "text": [
      "Average Metric: 0.0 / 48  (0.0):  48%|████▊     | 48/100 [01:38<01:28,  1.70s/it]"
     ]
    },
    {
     "name": "stderr",
     "output_type": "stream",
     "text": [
      "Traceback (most recent call last):\n",
      "  File \"/Users/bdsaglam/dev/repos/bellek/.venv/lib/python3.10/site-packages/litellm/caching.py\", line 559, in add_cache\n",
      "    self.cache.set_cache(cache_key, cached_data, **kwargs)\n",
      "AttributeError: 'Cache' object has no attribute 'cache'\n"
     ]
    },
    {
     "name": "stdout",
     "output_type": "stream",
     "text": [
      "Average Metric: 0.0 / 49  (0.0):  49%|████▉     | 49/100 [01:40<01:24,  1.65s/it]"
     ]
    },
    {
     "name": "stderr",
     "output_type": "stream",
     "text": [
      "Traceback (most recent call last):\n",
      "  File \"/Users/bdsaglam/dev/repos/bellek/.venv/lib/python3.10/site-packages/litellm/caching.py\", line 559, in add_cache\n",
      "    self.cache.set_cache(cache_key, cached_data, **kwargs)\n",
      "AttributeError: 'Cache' object has no attribute 'cache'\n"
     ]
    },
    {
     "name": "stdout",
     "output_type": "stream",
     "text": [
      "Average Metric: 0.0 / 50  (0.0):  50%|█████     | 50/100 [01:42<01:25,  1.72s/it]"
     ]
    },
    {
     "name": "stderr",
     "output_type": "stream",
     "text": [
      "Traceback (most recent call last):\n",
      "  File \"/Users/bdsaglam/dev/repos/bellek/.venv/lib/python3.10/site-packages/litellm/caching.py\", line 559, in add_cache\n",
      "    self.cache.set_cache(cache_key, cached_data, **kwargs)\n",
      "AttributeError: 'Cache' object has no attribute 'cache'\n"
     ]
    },
    {
     "name": "stdout",
     "output_type": "stream",
     "text": [
      "Average Metric: 0.0 / 51  (0.0):  51%|█████     | 51/100 [01:45<01:42,  2.10s/it]"
     ]
    },
    {
     "name": "stderr",
     "output_type": "stream",
     "text": [
      "Traceback (most recent call last):\n",
      "  File \"/Users/bdsaglam/dev/repos/bellek/.venv/lib/python3.10/site-packages/litellm/caching.py\", line 559, in add_cache\n",
      "    self.cache.set_cache(cache_key, cached_data, **kwargs)\n",
      "AttributeError: 'Cache' object has no attribute 'cache'\n"
     ]
    },
    {
     "name": "stdout",
     "output_type": "stream",
     "text": [
      "Average Metric: 0.0 / 52  (0.0):  52%|█████▏    | 52/100 [01:46<01:36,  2.02s/it]"
     ]
    },
    {
     "name": "stderr",
     "output_type": "stream",
     "text": [
      "Traceback (most recent call last):\n",
      "  File \"/Users/bdsaglam/dev/repos/bellek/.venv/lib/python3.10/site-packages/litellm/caching.py\", line 559, in add_cache\n",
      "    self.cache.set_cache(cache_key, cached_data, **kwargs)\n",
      "AttributeError: 'Cache' object has no attribute 'cache'\n"
     ]
    },
    {
     "name": "stdout",
     "output_type": "stream",
     "text": [
      "Average Metric: 0.0 / 53  (0.0):  53%|█████▎    | 53/100 [01:48<01:32,  1.97s/it]"
     ]
    },
    {
     "name": "stderr",
     "output_type": "stream",
     "text": [
      "Traceback (most recent call last):\n",
      "  File \"/Users/bdsaglam/dev/repos/bellek/.venv/lib/python3.10/site-packages/litellm/caching.py\", line 559, in add_cache\n",
      "    self.cache.set_cache(cache_key, cached_data, **kwargs)\n",
      "AttributeError: 'Cache' object has no attribute 'cache'\n"
     ]
    },
    {
     "name": "stdout",
     "output_type": "stream",
     "text": [
      "Average Metric: 0.0 / 54  (0.0):  54%|█████▍    | 54/100 [01:50<01:21,  1.78s/it]"
     ]
    },
    {
     "name": "stderr",
     "output_type": "stream",
     "text": [
      "Traceback (most recent call last):\n",
      "  File \"/Users/bdsaglam/dev/repos/bellek/.venv/lib/python3.10/site-packages/litellm/caching.py\", line 559, in add_cache\n",
      "    self.cache.set_cache(cache_key, cached_data, **kwargs)\n",
      "AttributeError: 'Cache' object has no attribute 'cache'\n"
     ]
    },
    {
     "name": "stdout",
     "output_type": "stream",
     "text": [
      "Average Metric: 0.0 / 55  (0.0):  55%|█████▌    | 55/100 [01:51<01:15,  1.69s/it]"
     ]
    },
    {
     "name": "stderr",
     "output_type": "stream",
     "text": [
      "Traceback (most recent call last):\n",
      "  File \"/Users/bdsaglam/dev/repos/bellek/.venv/lib/python3.10/site-packages/litellm/caching.py\", line 559, in add_cache\n",
      "    self.cache.set_cache(cache_key, cached_data, **kwargs)\n",
      "AttributeError: 'Cache' object has no attribute 'cache'\n"
     ]
    },
    {
     "name": "stdout",
     "output_type": "stream",
     "text": [
      "Average Metric: 0.0 / 56  (0.0):  56%|█████▌    | 56/100 [01:53<01:14,  1.70s/it]"
     ]
    },
    {
     "name": "stderr",
     "output_type": "stream",
     "text": [
      "Traceback (most recent call last):\n",
      "  File \"/Users/bdsaglam/dev/repos/bellek/.venv/lib/python3.10/site-packages/litellm/caching.py\", line 559, in add_cache\n",
      "    self.cache.set_cache(cache_key, cached_data, **kwargs)\n",
      "AttributeError: 'Cache' object has no attribute 'cache'\n"
     ]
    },
    {
     "name": "stdout",
     "output_type": "stream",
     "text": [
      "Average Metric: 0.0 / 57  (0.0):  57%|█████▋    | 57/100 [01:54<01:07,  1.58s/it]"
     ]
    },
    {
     "name": "stderr",
     "output_type": "stream",
     "text": [
      "Traceback (most recent call last):\n",
      "  File \"/Users/bdsaglam/dev/repos/bellek/.venv/lib/python3.10/site-packages/litellm/caching.py\", line 559, in add_cache\n",
      "    self.cache.set_cache(cache_key, cached_data, **kwargs)\n",
      "AttributeError: 'Cache' object has no attribute 'cache'\n"
     ]
    },
    {
     "name": "stdout",
     "output_type": "stream",
     "text": [
      "Average Metric: 0.0 / 58  (0.0):  58%|█████▊    | 58/100 [01:55<01:02,  1.49s/it]"
     ]
    },
    {
     "name": "stderr",
     "output_type": "stream",
     "text": [
      "Traceback (most recent call last):\n",
      "  File \"/Users/bdsaglam/dev/repos/bellek/.venv/lib/python3.10/site-packages/litellm/caching.py\", line 559, in add_cache\n",
      "    self.cache.set_cache(cache_key, cached_data, **kwargs)\n",
      "AttributeError: 'Cache' object has no attribute 'cache'\n"
     ]
    },
    {
     "name": "stdout",
     "output_type": "stream",
     "text": [
      "Average Metric: 0.0 / 59  (0.0):  59%|█████▉    | 59/100 [01:57<01:04,  1.56s/it]"
     ]
    },
    {
     "name": "stderr",
     "output_type": "stream",
     "text": [
      "Traceback (most recent call last):\n",
      "  File \"/Users/bdsaglam/dev/repos/bellek/.venv/lib/python3.10/site-packages/litellm/caching.py\", line 559, in add_cache\n",
      "    self.cache.set_cache(cache_key, cached_data, **kwargs)\n",
      "AttributeError: 'Cache' object has no attribute 'cache'\n"
     ]
    },
    {
     "name": "stdout",
     "output_type": "stream",
     "text": [
      "Average Metric: 0.0 / 60  (0.0):  60%|██████    | 60/100 [01:59<01:05,  1.63s/it]"
     ]
    },
    {
     "name": "stderr",
     "output_type": "stream",
     "text": [
      "Traceback (most recent call last):\n",
      "  File \"/Users/bdsaglam/dev/repos/bellek/.venv/lib/python3.10/site-packages/litellm/caching.py\", line 559, in add_cache\n",
      "    self.cache.set_cache(cache_key, cached_data, **kwargs)\n",
      "AttributeError: 'Cache' object has no attribute 'cache'\n"
     ]
    },
    {
     "name": "stdout",
     "output_type": "stream",
     "text": [
      "Average Metric: 0.0 / 61  (0.0):  61%|██████    | 61/100 [02:01<01:08,  1.76s/it]"
     ]
    },
    {
     "name": "stderr",
     "output_type": "stream",
     "text": [
      "Traceback (most recent call last):\n",
      "  File \"/Users/bdsaglam/dev/repos/bellek/.venv/lib/python3.10/site-packages/litellm/caching.py\", line 559, in add_cache\n",
      "    self.cache.set_cache(cache_key, cached_data, **kwargs)\n",
      "AttributeError: 'Cache' object has no attribute 'cache'\n"
     ]
    },
    {
     "name": "stdout",
     "output_type": "stream",
     "text": [
      "Average Metric: 0.0 / 62  (0.0):  62%|██████▏   | 62/100 [02:03<01:08,  1.81s/it]"
     ]
    },
    {
     "name": "stderr",
     "output_type": "stream",
     "text": [
      "Traceback (most recent call last):\n",
      "  File \"/Users/bdsaglam/dev/repos/bellek/.venv/lib/python3.10/site-packages/litellm/caching.py\", line 559, in add_cache\n",
      "    self.cache.set_cache(cache_key, cached_data, **kwargs)\n",
      "AttributeError: 'Cache' object has no attribute 'cache'\n"
     ]
    },
    {
     "name": "stdout",
     "output_type": "stream",
     "text": [
      "Average Metric: 0.0 / 63  (0.0):  63%|██████▎   | 63/100 [02:04<01:03,  1.71s/it]"
     ]
    },
    {
     "name": "stderr",
     "output_type": "stream",
     "text": [
      "Traceback (most recent call last):\n",
      "  File \"/Users/bdsaglam/dev/repos/bellek/.venv/lib/python3.10/site-packages/litellm/caching.py\", line 559, in add_cache\n",
      "    self.cache.set_cache(cache_key, cached_data, **kwargs)\n",
      "AttributeError: 'Cache' object has no attribute 'cache'\n"
     ]
    },
    {
     "name": "stdout",
     "output_type": "stream",
     "text": [
      "Average Metric: 0.0 / 64  (0.0):  64%|██████▍   | 64/100 [02:06<00:58,  1.62s/it]"
     ]
    },
    {
     "name": "stderr",
     "output_type": "stream",
     "text": [
      "Traceback (most recent call last):\n",
      "  File \"/Users/bdsaglam/dev/repos/bellek/.venv/lib/python3.10/site-packages/litellm/caching.py\", line 559, in add_cache\n",
      "    self.cache.set_cache(cache_key, cached_data, **kwargs)\n",
      "AttributeError: 'Cache' object has no attribute 'cache'\n"
     ]
    },
    {
     "name": "stdout",
     "output_type": "stream",
     "text": [
      "Average Metric: 0.0 / 65  (0.0):  65%|██████▌   | 65/100 [02:07<00:55,  1.57s/it]"
     ]
    },
    {
     "name": "stderr",
     "output_type": "stream",
     "text": [
      "Traceback (most recent call last):\n",
      "  File \"/Users/bdsaglam/dev/repos/bellek/.venv/lib/python3.10/site-packages/litellm/caching.py\", line 559, in add_cache\n",
      "    self.cache.set_cache(cache_key, cached_data, **kwargs)\n",
      "AttributeError: 'Cache' object has no attribute 'cache'\n"
     ]
    },
    {
     "name": "stdout",
     "output_type": "stream",
     "text": [
      "Average Metric: 0.0 / 66  (0.0):  66%|██████▌   | 66/100 [02:09<00:52,  1.55s/it]"
     ]
    },
    {
     "name": "stderr",
     "output_type": "stream",
     "text": [
      "Traceback (most recent call last):\n",
      "  File \"/Users/bdsaglam/dev/repos/bellek/.venv/lib/python3.10/site-packages/litellm/caching.py\", line 559, in add_cache\n",
      "    self.cache.set_cache(cache_key, cached_data, **kwargs)\n",
      "AttributeError: 'Cache' object has no attribute 'cache'\n"
     ]
    },
    {
     "name": "stdout",
     "output_type": "stream",
     "text": [
      "Average Metric: 0.0 / 67  (0.0):  67%|██████▋   | 67/100 [02:10<00:51,  1.55s/it]"
     ]
    },
    {
     "name": "stderr",
     "output_type": "stream",
     "text": [
      "Traceback (most recent call last):\n",
      "  File \"/Users/bdsaglam/dev/repos/bellek/.venv/lib/python3.10/site-packages/litellm/caching.py\", line 559, in add_cache\n",
      "    self.cache.set_cache(cache_key, cached_data, **kwargs)\n",
      "AttributeError: 'Cache' object has no attribute 'cache'\n"
     ]
    },
    {
     "name": "stdout",
     "output_type": "stream",
     "text": [
      "Average Metric: 0.0 / 68  (0.0):  68%|██████▊   | 68/100 [02:15<01:18,  2.46s/it]"
     ]
    },
    {
     "name": "stderr",
     "output_type": "stream",
     "text": [
      "Traceback (most recent call last):\n",
      "  File \"/Users/bdsaglam/dev/repos/bellek/.venv/lib/python3.10/site-packages/litellm/caching.py\", line 559, in add_cache\n",
      "    self.cache.set_cache(cache_key, cached_data, **kwargs)\n",
      "AttributeError: 'Cache' object has no attribute 'cache'\n"
     ]
    },
    {
     "name": "stdout",
     "output_type": "stream",
     "text": [
      "Average Metric: 0.0 / 69  (0.0):  69%|██████▉   | 69/100 [02:16<01:07,  2.18s/it]"
     ]
    },
    {
     "name": "stderr",
     "output_type": "stream",
     "text": [
      "Traceback (most recent call last):\n",
      "  File \"/Users/bdsaglam/dev/repos/bellek/.venv/lib/python3.10/site-packages/litellm/caching.py\", line 559, in add_cache\n",
      "    self.cache.set_cache(cache_key, cached_data, **kwargs)\n",
      "AttributeError: 'Cache' object has no attribute 'cache'\n"
     ]
    },
    {
     "name": "stdout",
     "output_type": "stream",
     "text": [
      "Average Metric: 0.0 / 70  (0.0):  70%|███████   | 70/100 [02:18<01:02,  2.08s/it]"
     ]
    },
    {
     "name": "stderr",
     "output_type": "stream",
     "text": [
      "Traceback (most recent call last):\n",
      "  File \"/Users/bdsaglam/dev/repos/bellek/.venv/lib/python3.10/site-packages/litellm/caching.py\", line 559, in add_cache\n",
      "    self.cache.set_cache(cache_key, cached_data, **kwargs)\n",
      "AttributeError: 'Cache' object has no attribute 'cache'\n"
     ]
    },
    {
     "name": "stdout",
     "output_type": "stream",
     "text": [
      "Average Metric: 0.0 / 71  (0.0):  71%|███████   | 71/100 [02:20<00:55,  1.90s/it]"
     ]
    },
    {
     "name": "stderr",
     "output_type": "stream",
     "text": [
      "Traceback (most recent call last):\n",
      "  File \"/Users/bdsaglam/dev/repos/bellek/.venv/lib/python3.10/site-packages/litellm/caching.py\", line 559, in add_cache\n",
      "    self.cache.set_cache(cache_key, cached_data, **kwargs)\n",
      "AttributeError: 'Cache' object has no attribute 'cache'\n"
     ]
    },
    {
     "name": "stdout",
     "output_type": "stream",
     "text": [
      "Average Metric: 0.0 / 72  (0.0):  72%|███████▏  | 72/100 [02:22<00:54,  1.96s/it]"
     ]
    },
    {
     "name": "stderr",
     "output_type": "stream",
     "text": [
      "Traceback (most recent call last):\n",
      "  File \"/Users/bdsaglam/dev/repos/bellek/.venv/lib/python3.10/site-packages/litellm/caching.py\", line 559, in add_cache\n",
      "    self.cache.set_cache(cache_key, cached_data, **kwargs)\n",
      "AttributeError: 'Cache' object has no attribute 'cache'\n"
     ]
    },
    {
     "name": "stdout",
     "output_type": "stream",
     "text": [
      "Average Metric: 0.0 / 73  (0.0):  73%|███████▎  | 73/100 [02:25<01:05,  2.41s/it]"
     ]
    },
    {
     "name": "stderr",
     "output_type": "stream",
     "text": [
      "Traceback (most recent call last):\n",
      "  File \"/Users/bdsaglam/dev/repos/bellek/.venv/lib/python3.10/site-packages/litellm/caching.py\", line 559, in add_cache\n",
      "    self.cache.set_cache(cache_key, cached_data, **kwargs)\n",
      "AttributeError: 'Cache' object has no attribute 'cache'\n"
     ]
    },
    {
     "name": "stdout",
     "output_type": "stream",
     "text": [
      "Average Metric: 0.0 / 74  (0.0):  74%|███████▍  | 74/100 [02:27<00:55,  2.15s/it]"
     ]
    },
    {
     "name": "stderr",
     "output_type": "stream",
     "text": [
      "Traceback (most recent call last):\n",
      "  File \"/Users/bdsaglam/dev/repos/bellek/.venv/lib/python3.10/site-packages/litellm/caching.py\", line 559, in add_cache\n",
      "    self.cache.set_cache(cache_key, cached_data, **kwargs)\n",
      "AttributeError: 'Cache' object has no attribute 'cache'\n"
     ]
    },
    {
     "name": "stdout",
     "output_type": "stream",
     "text": [
      "Average Metric: 0.0 / 75  (0.0):  75%|███████▌  | 75/100 [02:29<00:52,  2.10s/it]"
     ]
    },
    {
     "name": "stderr",
     "output_type": "stream",
     "text": [
      "Traceback (most recent call last):\n",
      "  File \"/Users/bdsaglam/dev/repos/bellek/.venv/lib/python3.10/site-packages/litellm/caching.py\", line 559, in add_cache\n",
      "    self.cache.set_cache(cache_key, cached_data, **kwargs)\n",
      "AttributeError: 'Cache' object has no attribute 'cache'\n"
     ]
    },
    {
     "name": "stdout",
     "output_type": "stream",
     "text": [
      "Average Metric: 0.0 / 76  (0.0):  76%|███████▌  | 76/100 [02:30<00:46,  1.93s/it]"
     ]
    },
    {
     "name": "stderr",
     "output_type": "stream",
     "text": [
      "Traceback (most recent call last):\n",
      "  File \"/Users/bdsaglam/dev/repos/bellek/.venv/lib/python3.10/site-packages/litellm/caching.py\", line 559, in add_cache\n",
      "    self.cache.set_cache(cache_key, cached_data, **kwargs)\n",
      "AttributeError: 'Cache' object has no attribute 'cache'\n"
     ]
    },
    {
     "name": "stdout",
     "output_type": "stream",
     "text": [
      "Average Metric: 0.0 / 77  (0.0):  77%|███████▋  | 77/100 [02:32<00:43,  1.90s/it]"
     ]
    },
    {
     "name": "stderr",
     "output_type": "stream",
     "text": [
      "Traceback (most recent call last):\n",
      "  File \"/Users/bdsaglam/dev/repos/bellek/.venv/lib/python3.10/site-packages/litellm/caching.py\", line 559, in add_cache\n",
      "    self.cache.set_cache(cache_key, cached_data, **kwargs)\n",
      "AttributeError: 'Cache' object has no attribute 'cache'\n"
     ]
    },
    {
     "name": "stdout",
     "output_type": "stream",
     "text": [
      "Average Metric: 0.0 / 78  (0.0):  78%|███████▊  | 78/100 [02:34<00:44,  2.01s/it]"
     ]
    },
    {
     "name": "stderr",
     "output_type": "stream",
     "text": [
      "Traceback (most recent call last):\n",
      "  File \"/Users/bdsaglam/dev/repos/bellek/.venv/lib/python3.10/site-packages/litellm/caching.py\", line 559, in add_cache\n",
      "    self.cache.set_cache(cache_key, cached_data, **kwargs)\n",
      "AttributeError: 'Cache' object has no attribute 'cache'\n"
     ]
    },
    {
     "name": "stdout",
     "output_type": "stream",
     "text": [
      "Average Metric: 0.0 / 79  (0.0):  79%|███████▉  | 79/100 [02:36<00:41,  1.96s/it]"
     ]
    },
    {
     "name": "stderr",
     "output_type": "stream",
     "text": [
      "Traceback (most recent call last):\n",
      "  File \"/Users/bdsaglam/dev/repos/bellek/.venv/lib/python3.10/site-packages/litellm/caching.py\", line 559, in add_cache\n",
      "    self.cache.set_cache(cache_key, cached_data, **kwargs)\n",
      "AttributeError: 'Cache' object has no attribute 'cache'\n"
     ]
    },
    {
     "name": "stdout",
     "output_type": "stream",
     "text": [
      "Average Metric: 0.0 / 80  (0.0):  80%|████████  | 80/100 [02:38<00:40,  2.01s/it]"
     ]
    },
    {
     "name": "stderr",
     "output_type": "stream",
     "text": [
      "Traceback (most recent call last):\n",
      "  File \"/Users/bdsaglam/dev/repos/bellek/.venv/lib/python3.10/site-packages/litellm/caching.py\", line 559, in add_cache\n",
      "    self.cache.set_cache(cache_key, cached_data, **kwargs)\n",
      "AttributeError: 'Cache' object has no attribute 'cache'\n"
     ]
    },
    {
     "name": "stdout",
     "output_type": "stream",
     "text": [
      "Average Metric: 0.0 / 81  (0.0):  81%|████████  | 81/100 [02:40<00:38,  2.02s/it]"
     ]
    },
    {
     "name": "stderr",
     "output_type": "stream",
     "text": [
      "Traceback (most recent call last):\n",
      "  File \"/Users/bdsaglam/dev/repos/bellek/.venv/lib/python3.10/site-packages/litellm/caching.py\", line 559, in add_cache\n",
      "    self.cache.set_cache(cache_key, cached_data, **kwargs)\n",
      "AttributeError: 'Cache' object has no attribute 'cache'\n"
     ]
    },
    {
     "name": "stdout",
     "output_type": "stream",
     "text": [
      "Average Metric: 0.0 / 82  (0.0):  82%|████████▏ | 82/100 [02:43<00:40,  2.26s/it]"
     ]
    },
    {
     "name": "stderr",
     "output_type": "stream",
     "text": [
      "Traceback (most recent call last):\n",
      "  File \"/Users/bdsaglam/dev/repos/bellek/.venv/lib/python3.10/site-packages/litellm/caching.py\", line 559, in add_cache\n",
      "    self.cache.set_cache(cache_key, cached_data, **kwargs)\n",
      "AttributeError: 'Cache' object has no attribute 'cache'\n"
     ]
    },
    {
     "name": "stdout",
     "output_type": "stream",
     "text": [
      "Average Metric: 0.0 / 83  (0.0):  83%|████████▎ | 83/100 [02:45<00:36,  2.17s/it]"
     ]
    },
    {
     "name": "stderr",
     "output_type": "stream",
     "text": [
      "Traceback (most recent call last):\n",
      "  File \"/Users/bdsaglam/dev/repos/bellek/.venv/lib/python3.10/site-packages/litellm/caching.py\", line 559, in add_cache\n",
      "    self.cache.set_cache(cache_key, cached_data, **kwargs)\n",
      "AttributeError: 'Cache' object has no attribute 'cache'\n"
     ]
    },
    {
     "name": "stdout",
     "output_type": "stream",
     "text": [
      "Average Metric: 0.0 / 84  (0.0):  84%|████████▍ | 84/100 [02:47<00:34,  2.18s/it]"
     ]
    },
    {
     "name": "stderr",
     "output_type": "stream",
     "text": [
      "Traceback (most recent call last):\n",
      "  File \"/Users/bdsaglam/dev/repos/bellek/.venv/lib/python3.10/site-packages/litellm/caching.py\", line 559, in add_cache\n",
      "    self.cache.set_cache(cache_key, cached_data, **kwargs)\n",
      "AttributeError: 'Cache' object has no attribute 'cache'\n"
     ]
    },
    {
     "name": "stdout",
     "output_type": "stream",
     "text": [
      "Average Metric: 0.0 / 85  (0.0):  85%|████████▌ | 85/100 [02:50<00:32,  2.17s/it]"
     ]
    },
    {
     "name": "stderr",
     "output_type": "stream",
     "text": [
      "Traceback (most recent call last):\n",
      "  File \"/Users/bdsaglam/dev/repos/bellek/.venv/lib/python3.10/site-packages/litellm/caching.py\", line 559, in add_cache\n",
      "    self.cache.set_cache(cache_key, cached_data, **kwargs)\n",
      "AttributeError: 'Cache' object has no attribute 'cache'\n"
     ]
    },
    {
     "name": "stdout",
     "output_type": "stream",
     "text": [
      "Average Metric: 0.0 / 86  (0.0):  86%|████████▌ | 86/100 [02:52<00:29,  2.11s/it]"
     ]
    },
    {
     "name": "stderr",
     "output_type": "stream",
     "text": [
      "Traceback (most recent call last):\n",
      "  File \"/Users/bdsaglam/dev/repos/bellek/.venv/lib/python3.10/site-packages/litellm/caching.py\", line 559, in add_cache\n",
      "    self.cache.set_cache(cache_key, cached_data, **kwargs)\n",
      "AttributeError: 'Cache' object has no attribute 'cache'\n"
     ]
    },
    {
     "name": "stdout",
     "output_type": "stream",
     "text": [
      "Average Metric: 0.0 / 87  (0.0):  87%|████████▋ | 87/100 [02:54<00:27,  2.11s/it]"
     ]
    },
    {
     "name": "stderr",
     "output_type": "stream",
     "text": [
      "Traceback (most recent call last):\n",
      "  File \"/Users/bdsaglam/dev/repos/bellek/.venv/lib/python3.10/site-packages/litellm/caching.py\", line 559, in add_cache\n",
      "    self.cache.set_cache(cache_key, cached_data, **kwargs)\n",
      "AttributeError: 'Cache' object has no attribute 'cache'\n"
     ]
    },
    {
     "name": "stdout",
     "output_type": "stream",
     "text": [
      "Average Metric: 0.0 / 88  (0.0):  88%|████████▊ | 88/100 [02:55<00:22,  1.87s/it]"
     ]
    },
    {
     "name": "stderr",
     "output_type": "stream",
     "text": [
      "Traceback (most recent call last):\n",
      "  File \"/Users/bdsaglam/dev/repos/bellek/.venv/lib/python3.10/site-packages/litellm/caching.py\", line 559, in add_cache\n",
      "    self.cache.set_cache(cache_key, cached_data, **kwargs)\n",
      "AttributeError: 'Cache' object has no attribute 'cache'\n"
     ]
    },
    {
     "name": "stdout",
     "output_type": "stream",
     "text": [
      "Average Metric: 0.0 / 89  (0.0):  89%|████████▉ | 89/100 [02:57<00:19,  1.81s/it]"
     ]
    },
    {
     "name": "stderr",
     "output_type": "stream",
     "text": [
      "Traceback (most recent call last):\n",
      "  File \"/Users/bdsaglam/dev/repos/bellek/.venv/lib/python3.10/site-packages/litellm/caching.py\", line 559, in add_cache\n",
      "    self.cache.set_cache(cache_key, cached_data, **kwargs)\n",
      "AttributeError: 'Cache' object has no attribute 'cache'\n"
     ]
    },
    {
     "name": "stdout",
     "output_type": "stream",
     "text": [
      "Average Metric: 0.0 / 90  (0.0):  90%|█████████ | 90/100 [02:59<00:18,  1.90s/it]"
     ]
    },
    {
     "name": "stderr",
     "output_type": "stream",
     "text": [
      "Traceback (most recent call last):\n",
      "  File \"/Users/bdsaglam/dev/repos/bellek/.venv/lib/python3.10/site-packages/litellm/caching.py\", line 559, in add_cache\n",
      "    self.cache.set_cache(cache_key, cached_data, **kwargs)\n",
      "AttributeError: 'Cache' object has no attribute 'cache'\n"
     ]
    },
    {
     "name": "stdout",
     "output_type": "stream",
     "text": [
      "Average Metric: 0.0 / 91  (0.0):  91%|█████████ | 91/100 [03:00<00:16,  1.81s/it]"
     ]
    },
    {
     "name": "stderr",
     "output_type": "stream",
     "text": [
      "Traceback (most recent call last):\n",
      "  File \"/Users/bdsaglam/dev/repos/bellek/.venv/lib/python3.10/site-packages/litellm/caching.py\", line 559, in add_cache\n",
      "    self.cache.set_cache(cache_key, cached_data, **kwargs)\n",
      "AttributeError: 'Cache' object has no attribute 'cache'\n"
     ]
    },
    {
     "name": "stdout",
     "output_type": "stream",
     "text": [
      "Average Metric: 0.0 / 92  (0.0):  92%|█████████▏| 92/100 [03:02<00:13,  1.67s/it]"
     ]
    },
    {
     "name": "stderr",
     "output_type": "stream",
     "text": [
      "Traceback (most recent call last):\n",
      "  File \"/Users/bdsaglam/dev/repos/bellek/.venv/lib/python3.10/site-packages/litellm/caching.py\", line 559, in add_cache\n",
      "    self.cache.set_cache(cache_key, cached_data, **kwargs)\n",
      "AttributeError: 'Cache' object has no attribute 'cache'\n"
     ]
    },
    {
     "name": "stdout",
     "output_type": "stream",
     "text": [
      "Average Metric: 0.0 / 93  (0.0):  93%|█████████▎| 93/100 [03:03<00:11,  1.66s/it]"
     ]
    },
    {
     "name": "stderr",
     "output_type": "stream",
     "text": [
      "Traceback (most recent call last):\n",
      "  File \"/Users/bdsaglam/dev/repos/bellek/.venv/lib/python3.10/site-packages/litellm/caching.py\", line 559, in add_cache\n",
      "    self.cache.set_cache(cache_key, cached_data, **kwargs)\n",
      "AttributeError: 'Cache' object has no attribute 'cache'\n"
     ]
    },
    {
     "name": "stdout",
     "output_type": "stream",
     "text": [
      "Average Metric: 0.0 / 94  (0.0):  94%|█████████▍| 94/100 [03:05<00:09,  1.66s/it]"
     ]
    },
    {
     "name": "stderr",
     "output_type": "stream",
     "text": [
      "Traceback (most recent call last):\n",
      "  File \"/Users/bdsaglam/dev/repos/bellek/.venv/lib/python3.10/site-packages/litellm/caching.py\", line 559, in add_cache\n",
      "    self.cache.set_cache(cache_key, cached_data, **kwargs)\n",
      "AttributeError: 'Cache' object has no attribute 'cache'\n"
     ]
    },
    {
     "name": "stdout",
     "output_type": "stream",
     "text": [
      "Average Metric: 0.0 / 95  (0.0):  95%|█████████▌| 95/100 [03:07<00:08,  1.71s/it]"
     ]
    },
    {
     "name": "stderr",
     "output_type": "stream",
     "text": [
      "Traceback (most recent call last):\n",
      "  File \"/Users/bdsaglam/dev/repos/bellek/.venv/lib/python3.10/site-packages/litellm/caching.py\", line 559, in add_cache\n",
      "    self.cache.set_cache(cache_key, cached_data, **kwargs)\n",
      "AttributeError: 'Cache' object has no attribute 'cache'\n"
     ]
    },
    {
     "name": "stdout",
     "output_type": "stream",
     "text": [
      "Average Metric: 0.0 / 96  (0.0):  96%|█████████▌| 96/100 [03:08<00:06,  1.67s/it]"
     ]
    },
    {
     "name": "stderr",
     "output_type": "stream",
     "text": [
      "Traceback (most recent call last):\n",
      "  File \"/Users/bdsaglam/dev/repos/bellek/.venv/lib/python3.10/site-packages/litellm/caching.py\", line 559, in add_cache\n",
      "    self.cache.set_cache(cache_key, cached_data, **kwargs)\n",
      "AttributeError: 'Cache' object has no attribute 'cache'\n"
     ]
    },
    {
     "name": "stdout",
     "output_type": "stream",
     "text": [
      "Average Metric: 0.0 / 97  (0.0):  97%|█████████▋| 97/100 [03:10<00:04,  1.64s/it]"
     ]
    },
    {
     "name": "stderr",
     "output_type": "stream",
     "text": [
      "Traceback (most recent call last):\n",
      "  File \"/Users/bdsaglam/dev/repos/bellek/.venv/lib/python3.10/site-packages/litellm/caching.py\", line 559, in add_cache\n",
      "    self.cache.set_cache(cache_key, cached_data, **kwargs)\n",
      "AttributeError: 'Cache' object has no attribute 'cache'\n"
     ]
    },
    {
     "name": "stdout",
     "output_type": "stream",
     "text": [
      "Average Metric: 0.0 / 98  (0.0):  98%|█████████▊| 98/100 [03:11<00:03,  1.61s/it]"
     ]
    },
    {
     "name": "stderr",
     "output_type": "stream",
     "text": [
      "Traceback (most recent call last):\n",
      "  File \"/Users/bdsaglam/dev/repos/bellek/.venv/lib/python3.10/site-packages/litellm/caching.py\", line 559, in add_cache\n",
      "    self.cache.set_cache(cache_key, cached_data, **kwargs)\n",
      "AttributeError: 'Cache' object has no attribute 'cache'\n"
     ]
    },
    {
     "name": "stdout",
     "output_type": "stream",
     "text": [
      "Average Metric: 0.0 / 99  (0.0):  99%|█████████▉| 99/100 [03:13<00:01,  1.68s/it]"
     ]
    },
    {
     "name": "stderr",
     "output_type": "stream",
     "text": [
      "Traceback (most recent call last):\n",
      "  File \"/Users/bdsaglam/dev/repos/bellek/.venv/lib/python3.10/site-packages/litellm/caching.py\", line 559, in add_cache\n",
      "    self.cache.set_cache(cache_key, cached_data, **kwargs)\n",
      "AttributeError: 'Cache' object has no attribute 'cache'\n"
     ]
    },
    {
     "name": "stdout",
     "output_type": "stream",
     "text": [
      "Average Metric: 0.0 / 100  (0.0): 100%|██████████| 100/100 [03:15<00:00,  1.95s/it]"
     ]
    },
    {
     "name": "stderr",
     "output_type": "stream",
     "text": [
      "Traceback (most recent call last):\n",
      "  File \"/Users/bdsaglam/dev/repos/bellek/.venv/lib/python3.10/site-packages/litellm/caching.py\", line 559, in add_cache\n",
      "    self.cache.set_cache(cache_key, cached_data, **kwargs)\n",
      "AttributeError: 'Cache' object has no attribute 'cache'\n"
     ]
    },
    {
     "name": "stdout",
     "output_type": "stream",
     "text": [
      "\n",
      "Uncompiled Question Decomposition Module Score: 0.0\n",
      "Average Metric: 0.0 / 1  (0.0):   1%|          | 1/100 [00:01<02:36,  1.58s/it]"
     ]
    },
    {
     "name": "stderr",
     "output_type": "stream",
     "text": [
      "Traceback (most recent call last):\n",
      "  File \"/Users/bdsaglam/dev/repos/bellek/.venv/lib/python3.10/site-packages/litellm/caching.py\", line 559, in add_cache\n",
      "    self.cache.set_cache(cache_key, cached_data, **kwargs)\n",
      "AttributeError: 'Cache' object has no attribute 'cache'\n"
     ]
    },
    {
     "name": "stdout",
     "output_type": "stream",
     "text": [
      "Average Metric: 0.0 / 2  (0.0):   2%|▏         | 2/100 [00:03<02:26,  1.49s/it]"
     ]
    },
    {
     "name": "stderr",
     "output_type": "stream",
     "text": [
      "Traceback (most recent call last):\n",
      "  File \"/Users/bdsaglam/dev/repos/bellek/.venv/lib/python3.10/site-packages/litellm/caching.py\", line 559, in add_cache\n",
      "    self.cache.set_cache(cache_key, cached_data, **kwargs)\n",
      "AttributeError: 'Cache' object has no attribute 'cache'\n"
     ]
    },
    {
     "name": "stdout",
     "output_type": "stream",
     "text": [
      "Average Metric: 0.0 / 3  (0.0):   3%|▎         | 3/100 [00:04<02:22,  1.47s/it]"
     ]
    },
    {
     "name": "stderr",
     "output_type": "stream",
     "text": [
      "Traceback (most recent call last):\n",
      "  File \"/Users/bdsaglam/dev/repos/bellek/.venv/lib/python3.10/site-packages/litellm/caching.py\", line 559, in add_cache\n",
      "    self.cache.set_cache(cache_key, cached_data, **kwargs)\n",
      "AttributeError: 'Cache' object has no attribute 'cache'\n"
     ]
    },
    {
     "name": "stdout",
     "output_type": "stream",
     "text": [
      "Average Metric: 0.0 / 4  (0.0):   4%|▍         | 4/100 [00:05<02:15,  1.41s/it]"
     ]
    },
    {
     "name": "stderr",
     "output_type": "stream",
     "text": [
      "Traceback (most recent call last):\n",
      "  File \"/Users/bdsaglam/dev/repos/bellek/.venv/lib/python3.10/site-packages/litellm/caching.py\", line 559, in add_cache\n",
      "    self.cache.set_cache(cache_key, cached_data, **kwargs)\n",
      "AttributeError: 'Cache' object has no attribute 'cache'\n"
     ]
    },
    {
     "name": "stdout",
     "output_type": "stream",
     "text": [
      "Average Metric: 0.0 / 5  (0.0):   5%|▌         | 5/100 [00:07<02:10,  1.38s/it]"
     ]
    },
    {
     "name": "stderr",
     "output_type": "stream",
     "text": [
      "Traceback (most recent call last):\n",
      "  File \"/Users/bdsaglam/dev/repos/bellek/.venv/lib/python3.10/site-packages/litellm/caching.py\", line 559, in add_cache\n",
      "    self.cache.set_cache(cache_key, cached_data, **kwargs)\n",
      "AttributeError: 'Cache' object has no attribute 'cache'\n"
     ]
    },
    {
     "name": "stdout",
     "output_type": "stream",
     "text": [
      "Average Metric: 0.0 / 6  (0.0):   6%|▌         | 6/100 [00:08<02:12,  1.41s/it]"
     ]
    },
    {
     "name": "stderr",
     "output_type": "stream",
     "text": [
      "Traceback (most recent call last):\n",
      "  File \"/Users/bdsaglam/dev/repos/bellek/.venv/lib/python3.10/site-packages/litellm/caching.py\", line 559, in add_cache\n",
      "    self.cache.set_cache(cache_key, cached_data, **kwargs)\n",
      "AttributeError: 'Cache' object has no attribute 'cache'\n"
     ]
    },
    {
     "name": "stdout",
     "output_type": "stream",
     "text": [
      "Average Metric: 0.0 / 7  (0.0):   7%|▋         | 7/100 [00:10<02:38,  1.70s/it]"
     ]
    },
    {
     "name": "stderr",
     "output_type": "stream",
     "text": [
      "Traceback (most recent call last):\n",
      "  File \"/Users/bdsaglam/dev/repos/bellek/.venv/lib/python3.10/site-packages/litellm/caching.py\", line 559, in add_cache\n",
      "    self.cache.set_cache(cache_key, cached_data, **kwargs)\n",
      "AttributeError: 'Cache' object has no attribute 'cache'\n"
     ]
    },
    {
     "name": "stdout",
     "output_type": "stream",
     "text": [
      "Average Metric: 0.0 / 8  (0.0):   8%|▊         | 8/100 [00:12<02:47,  1.82s/it]"
     ]
    },
    {
     "name": "stderr",
     "output_type": "stream",
     "text": [
      "Traceback (most recent call last):\n",
      "  File \"/Users/bdsaglam/dev/repos/bellek/.venv/lib/python3.10/site-packages/litellm/caching.py\", line 559, in add_cache\n",
      "    self.cache.set_cache(cache_key, cached_data, **kwargs)\n",
      "AttributeError: 'Cache' object has no attribute 'cache'\n"
     ]
    },
    {
     "name": "stdout",
     "output_type": "stream",
     "text": [
      "Average Metric: 0.0 / 9  (0.0):   9%|▉         | 9/100 [00:15<02:56,  1.94s/it]"
     ]
    },
    {
     "name": "stderr",
     "output_type": "stream",
     "text": [
      "Traceback (most recent call last):\n",
      "  File \"/Users/bdsaglam/dev/repos/bellek/.venv/lib/python3.10/site-packages/litellm/caching.py\", line 559, in add_cache\n",
      "    self.cache.set_cache(cache_key, cached_data, **kwargs)\n",
      "AttributeError: 'Cache' object has no attribute 'cache'\n"
     ]
    },
    {
     "name": "stdout",
     "output_type": "stream",
     "text": [
      "Average Metric: 0.0 / 10  (0.0):  10%|█         | 10/100 [00:16<02:45,  1.84s/it]"
     ]
    },
    {
     "name": "stderr",
     "output_type": "stream",
     "text": [
      "Traceback (most recent call last):\n",
      "  File \"/Users/bdsaglam/dev/repos/bellek/.venv/lib/python3.10/site-packages/litellm/caching.py\", line 559, in add_cache\n",
      "    self.cache.set_cache(cache_key, cached_data, **kwargs)\n",
      "AttributeError: 'Cache' object has no attribute 'cache'\n"
     ]
    },
    {
     "name": "stdout",
     "output_type": "stream",
     "text": [
      "Average Metric: 0.0 / 11  (0.0):  11%|█         | 11/100 [00:18<02:47,  1.88s/it]"
     ]
    },
    {
     "name": "stderr",
     "output_type": "stream",
     "text": [
      "Traceback (most recent call last):\n",
      "  File \"/Users/bdsaglam/dev/repos/bellek/.venv/lib/python3.10/site-packages/litellm/caching.py\", line 559, in add_cache\n",
      "    self.cache.set_cache(cache_key, cached_data, **kwargs)\n",
      "AttributeError: 'Cache' object has no attribute 'cache'\n"
     ]
    },
    {
     "name": "stdout",
     "output_type": "stream",
     "text": [
      "Average Metric: 0.0 / 12  (0.0):  12%|█▏        | 12/100 [00:20<02:29,  1.70s/it]"
     ]
    },
    {
     "name": "stderr",
     "output_type": "stream",
     "text": [
      "Traceback (most recent call last):\n",
      "  File \"/Users/bdsaglam/dev/repos/bellek/.venv/lib/python3.10/site-packages/litellm/caching.py\", line 559, in add_cache\n",
      "    self.cache.set_cache(cache_key, cached_data, **kwargs)\n",
      "AttributeError: 'Cache' object has no attribute 'cache'\n"
     ]
    },
    {
     "name": "stdout",
     "output_type": "stream",
     "text": [
      "Average Metric: 0.0 / 13  (0.0):  13%|█▎        | 13/100 [00:21<02:19,  1.61s/it]"
     ]
    },
    {
     "name": "stderr",
     "output_type": "stream",
     "text": [
      "Traceback (most recent call last):\n",
      "  File \"/Users/bdsaglam/dev/repos/bellek/.venv/lib/python3.10/site-packages/litellm/caching.py\", line 559, in add_cache\n",
      "    self.cache.set_cache(cache_key, cached_data, **kwargs)\n",
      "AttributeError: 'Cache' object has no attribute 'cache'\n"
     ]
    },
    {
     "name": "stdout",
     "output_type": "stream",
     "text": [
      "Average Metric: 0.0 / 14  (0.0):  14%|█▍        | 14/100 [00:23<02:30,  1.75s/it]"
     ]
    },
    {
     "name": "stderr",
     "output_type": "stream",
     "text": [
      "Traceback (most recent call last):\n",
      "  File \"/Users/bdsaglam/dev/repos/bellek/.venv/lib/python3.10/site-packages/litellm/caching.py\", line 559, in add_cache\n",
      "    self.cache.set_cache(cache_key, cached_data, **kwargs)\n",
      "AttributeError: 'Cache' object has no attribute 'cache'\n"
     ]
    },
    {
     "name": "stdout",
     "output_type": "stream",
     "text": [
      "Average Metric: 0.0 / 15  (0.0):  15%|█▌        | 15/100 [00:24<02:14,  1.58s/it]"
     ]
    },
    {
     "name": "stderr",
     "output_type": "stream",
     "text": [
      "Traceback (most recent call last):\n",
      "  File \"/Users/bdsaglam/dev/repos/bellek/.venv/lib/python3.10/site-packages/litellm/caching.py\", line 559, in add_cache\n",
      "    self.cache.set_cache(cache_key, cached_data, **kwargs)\n",
      "AttributeError: 'Cache' object has no attribute 'cache'\n"
     ]
    },
    {
     "name": "stdout",
     "output_type": "stream",
     "text": [
      "Average Metric: 0.0 / 16  (0.0):  16%|█▌        | 16/100 [00:26<02:08,  1.52s/it]"
     ]
    },
    {
     "name": "stderr",
     "output_type": "stream",
     "text": [
      "Traceback (most recent call last):\n",
      "  File \"/Users/bdsaglam/dev/repos/bellek/.venv/lib/python3.10/site-packages/litellm/caching.py\", line 559, in add_cache\n",
      "    self.cache.set_cache(cache_key, cached_data, **kwargs)\n",
      "AttributeError: 'Cache' object has no attribute 'cache'\n"
     ]
    },
    {
     "name": "stdout",
     "output_type": "stream",
     "text": [
      "Average Metric: 0.0 / 17  (0.0):  17%|█▋        | 17/100 [00:27<02:02,  1.48s/it]"
     ]
    },
    {
     "name": "stderr",
     "output_type": "stream",
     "text": [
      "Traceback (most recent call last):\n",
      "  File \"/Users/bdsaglam/dev/repos/bellek/.venv/lib/python3.10/site-packages/litellm/caching.py\", line 559, in add_cache\n",
      "    self.cache.set_cache(cache_key, cached_data, **kwargs)\n",
      "AttributeError: 'Cache' object has no attribute 'cache'\n"
     ]
    },
    {
     "name": "stdout",
     "output_type": "stream",
     "text": [
      "Average Metric: 0.0 / 18  (0.0):  18%|█▊        | 18/100 [00:28<01:59,  1.46s/it]"
     ]
    },
    {
     "name": "stderr",
     "output_type": "stream",
     "text": [
      "Traceback (most recent call last):\n",
      "  File \"/Users/bdsaglam/dev/repos/bellek/.venv/lib/python3.10/site-packages/litellm/caching.py\", line 559, in add_cache\n",
      "    self.cache.set_cache(cache_key, cached_data, **kwargs)\n",
      "AttributeError: 'Cache' object has no attribute 'cache'\n"
     ]
    },
    {
     "name": "stdout",
     "output_type": "stream",
     "text": [
      "Average Metric: 0.0 / 19  (0.0):  19%|█▉        | 19/100 [00:31<02:31,  1.87s/it]"
     ]
    },
    {
     "name": "stderr",
     "output_type": "stream",
     "text": [
      "Traceback (most recent call last):\n",
      "  File \"/Users/bdsaglam/dev/repos/bellek/.venv/lib/python3.10/site-packages/litellm/caching.py\", line 559, in add_cache\n",
      "    self.cache.set_cache(cache_key, cached_data, **kwargs)\n",
      "AttributeError: 'Cache' object has no attribute 'cache'\n"
     ]
    },
    {
     "name": "stdout",
     "output_type": "stream",
     "text": [
      "Average Metric: 0.0 / 20  (0.0):  20%|██        | 20/100 [00:33<02:17,  1.72s/it]"
     ]
    },
    {
     "name": "stderr",
     "output_type": "stream",
     "text": [
      "Traceback (most recent call last):\n",
      "  File \"/Users/bdsaglam/dev/repos/bellek/.venv/lib/python3.10/site-packages/litellm/caching.py\", line 559, in add_cache\n",
      "    self.cache.set_cache(cache_key, cached_data, **kwargs)\n",
      "AttributeError: 'Cache' object has no attribute 'cache'\n"
     ]
    },
    {
     "name": "stdout",
     "output_type": "stream",
     "text": [
      "Average Metric: 0.0 / 21  (0.0):  21%|██        | 21/100 [00:34<02:07,  1.61s/it]"
     ]
    },
    {
     "name": "stderr",
     "output_type": "stream",
     "text": [
      "Traceback (most recent call last):\n",
      "  File \"/Users/bdsaglam/dev/repos/bellek/.venv/lib/python3.10/site-packages/litellm/caching.py\", line 559, in add_cache\n",
      "    self.cache.set_cache(cache_key, cached_data, **kwargs)\n",
      "AttributeError: 'Cache' object has no attribute 'cache'\n"
     ]
    },
    {
     "name": "stdout",
     "output_type": "stream",
     "text": [
      "Average Metric: 0.0 / 22  (0.0):  22%|██▏       | 22/100 [00:35<02:02,  1.57s/it]"
     ]
    },
    {
     "name": "stderr",
     "output_type": "stream",
     "text": [
      "Traceback (most recent call last):\n",
      "  File \"/Users/bdsaglam/dev/repos/bellek/.venv/lib/python3.10/site-packages/litellm/caching.py\", line 559, in add_cache\n",
      "    self.cache.set_cache(cache_key, cached_data, **kwargs)\n",
      "AttributeError: 'Cache' object has no attribute 'cache'\n"
     ]
    },
    {
     "name": "stdout",
     "output_type": "stream",
     "text": [
      "Average Metric: 0.0 / 23  (0.0):  23%|██▎       | 23/100 [00:37<01:54,  1.49s/it]"
     ]
    },
    {
     "name": "stderr",
     "output_type": "stream",
     "text": [
      "Traceback (most recent call last):\n",
      "  File \"/Users/bdsaglam/dev/repos/bellek/.venv/lib/python3.10/site-packages/litellm/caching.py\", line 559, in add_cache\n",
      "    self.cache.set_cache(cache_key, cached_data, **kwargs)\n",
      "AttributeError: 'Cache' object has no attribute 'cache'\n"
     ]
    },
    {
     "name": "stdout",
     "output_type": "stream",
     "text": [
      "Average Metric: 0.0 / 24  (0.0):  24%|██▍       | 24/100 [00:38<01:51,  1.46s/it]"
     ]
    },
    {
     "name": "stderr",
     "output_type": "stream",
     "text": [
      "Traceback (most recent call last):\n",
      "  File \"/Users/bdsaglam/dev/repos/bellek/.venv/lib/python3.10/site-packages/litellm/caching.py\", line 559, in add_cache\n",
      "    self.cache.set_cache(cache_key, cached_data, **kwargs)\n",
      "AttributeError: 'Cache' object has no attribute 'cache'\n"
     ]
    },
    {
     "name": "stdout",
     "output_type": "stream",
     "text": [
      "Average Metric: 0.0 / 25  (0.0):  25%|██▌       | 25/100 [00:39<01:43,  1.38s/it]"
     ]
    },
    {
     "name": "stderr",
     "output_type": "stream",
     "text": [
      "Traceback (most recent call last):\n",
      "  File \"/Users/bdsaglam/dev/repos/bellek/.venv/lib/python3.10/site-packages/litellm/caching.py\", line 559, in add_cache\n",
      "    self.cache.set_cache(cache_key, cached_data, **kwargs)\n",
      "AttributeError: 'Cache' object has no attribute 'cache'\n"
     ]
    },
    {
     "name": "stdout",
     "output_type": "stream",
     "text": [
      "Average Metric: 0.0 / 26  (0.0):  26%|██▌       | 26/100 [00:41<01:43,  1.40s/it]"
     ]
    },
    {
     "name": "stderr",
     "output_type": "stream",
     "text": [
      "Traceback (most recent call last):\n",
      "  File \"/Users/bdsaglam/dev/repos/bellek/.venv/lib/python3.10/site-packages/litellm/caching.py\", line 559, in add_cache\n",
      "    self.cache.set_cache(cache_key, cached_data, **kwargs)\n",
      "AttributeError: 'Cache' object has no attribute 'cache'\n"
     ]
    },
    {
     "name": "stdout",
     "output_type": "stream",
     "text": [
      "Average Metric: 0.0 / 27  (0.0):  27%|██▋       | 27/100 [00:42<01:42,  1.41s/it]"
     ]
    },
    {
     "name": "stderr",
     "output_type": "stream",
     "text": [
      "Traceback (most recent call last):\n",
      "  File \"/Users/bdsaglam/dev/repos/bellek/.venv/lib/python3.10/site-packages/litellm/caching.py\", line 559, in add_cache\n",
      "    self.cache.set_cache(cache_key, cached_data, **kwargs)\n",
      "AttributeError: 'Cache' object has no attribute 'cache'\n"
     ]
    },
    {
     "name": "stdout",
     "output_type": "stream",
     "text": [
      "Average Metric: 0.0 / 28  (0.0):  28%|██▊       | 28/100 [00:43<01:38,  1.37s/it]"
     ]
    },
    {
     "name": "stderr",
     "output_type": "stream",
     "text": [
      "Traceback (most recent call last):\n",
      "  File \"/Users/bdsaglam/dev/repos/bellek/.venv/lib/python3.10/site-packages/litellm/caching.py\", line 559, in add_cache\n",
      "    self.cache.set_cache(cache_key, cached_data, **kwargs)\n",
      "AttributeError: 'Cache' object has no attribute 'cache'\n"
     ]
    },
    {
     "name": "stdout",
     "output_type": "stream",
     "text": [
      "Average Metric: 0.0 / 29  (0.0):  29%|██▉       | 29/100 [00:45<01:36,  1.36s/it]"
     ]
    },
    {
     "name": "stderr",
     "output_type": "stream",
     "text": [
      "Traceback (most recent call last):\n",
      "  File \"/Users/bdsaglam/dev/repos/bellek/.venv/lib/python3.10/site-packages/litellm/caching.py\", line 559, in add_cache\n",
      "    self.cache.set_cache(cache_key, cached_data, **kwargs)\n",
      "AttributeError: 'Cache' object has no attribute 'cache'\n"
     ]
    },
    {
     "name": "stdout",
     "output_type": "stream",
     "text": [
      "Average Metric: 0.0 / 30  (0.0):  30%|███       | 30/100 [00:46<01:36,  1.38s/it]"
     ]
    },
    {
     "name": "stderr",
     "output_type": "stream",
     "text": [
      "Traceback (most recent call last):\n",
      "  File \"/Users/bdsaglam/dev/repos/bellek/.venv/lib/python3.10/site-packages/litellm/caching.py\", line 559, in add_cache\n",
      "    self.cache.set_cache(cache_key, cached_data, **kwargs)\n",
      "AttributeError: 'Cache' object has no attribute 'cache'\n"
     ]
    },
    {
     "name": "stdout",
     "output_type": "stream",
     "text": [
      "Average Metric: 0.0 / 31  (0.0):  31%|███       | 31/100 [00:47<01:33,  1.35s/it]"
     ]
    },
    {
     "name": "stderr",
     "output_type": "stream",
     "text": [
      "Traceback (most recent call last):\n",
      "  File \"/Users/bdsaglam/dev/repos/bellek/.venv/lib/python3.10/site-packages/litellm/caching.py\", line 559, in add_cache\n",
      "    self.cache.set_cache(cache_key, cached_data, **kwargs)\n",
      "AttributeError: 'Cache' object has no attribute 'cache'\n"
     ]
    },
    {
     "name": "stdout",
     "output_type": "stream",
     "text": [
      "Average Metric: 0.0 / 32  (0.0):  32%|███▏      | 32/100 [00:49<01:28,  1.30s/it]"
     ]
    },
    {
     "name": "stderr",
     "output_type": "stream",
     "text": [
      "Traceback (most recent call last):\n",
      "  File \"/Users/bdsaglam/dev/repos/bellek/.venv/lib/python3.10/site-packages/litellm/caching.py\", line 559, in add_cache\n",
      "    self.cache.set_cache(cache_key, cached_data, **kwargs)\n",
      "AttributeError: 'Cache' object has no attribute 'cache'\n"
     ]
    },
    {
     "name": "stdout",
     "output_type": "stream",
     "text": [
      "Average Metric: 0.0 / 33  (0.0):  33%|███▎      | 33/100 [00:50<01:32,  1.38s/it]"
     ]
    },
    {
     "name": "stderr",
     "output_type": "stream",
     "text": [
      "Traceback (most recent call last):\n",
      "  File \"/Users/bdsaglam/dev/repos/bellek/.venv/lib/python3.10/site-packages/litellm/caching.py\", line 559, in add_cache\n",
      "    self.cache.set_cache(cache_key, cached_data, **kwargs)\n",
      "AttributeError: 'Cache' object has no attribute 'cache'\n"
     ]
    },
    {
     "name": "stdout",
     "output_type": "stream",
     "text": [
      "Average Metric: 0.0 / 34  (0.0):  34%|███▍      | 34/100 [00:52<01:29,  1.35s/it]"
     ]
    },
    {
     "name": "stderr",
     "output_type": "stream",
     "text": [
      "Traceback (most recent call last):\n",
      "  File \"/Users/bdsaglam/dev/repos/bellek/.venv/lib/python3.10/site-packages/litellm/caching.py\", line 559, in add_cache\n",
      "    self.cache.set_cache(cache_key, cached_data, **kwargs)\n",
      "AttributeError: 'Cache' object has no attribute 'cache'\n"
     ]
    },
    {
     "name": "stdout",
     "output_type": "stream",
     "text": [
      "Average Metric: 0.0 / 35  (0.0):  35%|███▌      | 35/100 [00:53<01:27,  1.34s/it]"
     ]
    },
    {
     "name": "stderr",
     "output_type": "stream",
     "text": [
      "Traceback (most recent call last):\n",
      "  File \"/Users/bdsaglam/dev/repos/bellek/.venv/lib/python3.10/site-packages/litellm/caching.py\", line 559, in add_cache\n",
      "    self.cache.set_cache(cache_key, cached_data, **kwargs)\n",
      "AttributeError: 'Cache' object has no attribute 'cache'\n"
     ]
    },
    {
     "name": "stdout",
     "output_type": "stream",
     "text": [
      "Average Metric: 0.0 / 36  (0.0):  36%|███▌      | 36/100 [00:54<01:24,  1.31s/it]"
     ]
    },
    {
     "name": "stderr",
     "output_type": "stream",
     "text": [
      "Traceback (most recent call last):\n",
      "  File \"/Users/bdsaglam/dev/repos/bellek/.venv/lib/python3.10/site-packages/litellm/caching.py\", line 559, in add_cache\n",
      "    self.cache.set_cache(cache_key, cached_data, **kwargs)\n",
      "AttributeError: 'Cache' object has no attribute 'cache'\n"
     ]
    },
    {
     "name": "stdout",
     "output_type": "stream",
     "text": [
      "Average Metric: 0.0 / 37  (0.0):  37%|███▋      | 37/100 [00:55<01:18,  1.25s/it]"
     ]
    },
    {
     "name": "stderr",
     "output_type": "stream",
     "text": [
      "Traceback (most recent call last):\n",
      "  File \"/Users/bdsaglam/dev/repos/bellek/.venv/lib/python3.10/site-packages/litellm/caching.py\", line 559, in add_cache\n",
      "    self.cache.set_cache(cache_key, cached_data, **kwargs)\n",
      "AttributeError: 'Cache' object has no attribute 'cache'\n"
     ]
    },
    {
     "name": "stdout",
     "output_type": "stream",
     "text": [
      "Average Metric: 0.0 / 38  (0.0):  38%|███▊      | 38/100 [00:56<01:17,  1.25s/it]"
     ]
    },
    {
     "name": "stderr",
     "output_type": "stream",
     "text": [
      "Traceback (most recent call last):\n",
      "  File \"/Users/bdsaglam/dev/repos/bellek/.venv/lib/python3.10/site-packages/litellm/caching.py\", line 559, in add_cache\n",
      "    self.cache.set_cache(cache_key, cached_data, **kwargs)\n",
      "AttributeError: 'Cache' object has no attribute 'cache'\n"
     ]
    },
    {
     "name": "stdout",
     "output_type": "stream",
     "text": [
      "Average Metric: 0.0 / 39  (0.0):  39%|███▉      | 39/100 [00:58<01:18,  1.28s/it]"
     ]
    },
    {
     "name": "stderr",
     "output_type": "stream",
     "text": [
      "Traceback (most recent call last):\n",
      "  File \"/Users/bdsaglam/dev/repos/bellek/.venv/lib/python3.10/site-packages/litellm/caching.py\", line 559, in add_cache\n",
      "    self.cache.set_cache(cache_key, cached_data, **kwargs)\n",
      "AttributeError: 'Cache' object has no attribute 'cache'\n"
     ]
    },
    {
     "name": "stdout",
     "output_type": "stream",
     "text": [
      "Average Metric: 0.0 / 40  (0.0):  40%|████      | 40/100 [00:59<01:18,  1.31s/it]"
     ]
    },
    {
     "name": "stderr",
     "output_type": "stream",
     "text": [
      "Traceback (most recent call last):\n",
      "  File \"/Users/bdsaglam/dev/repos/bellek/.venv/lib/python3.10/site-packages/litellm/caching.py\", line 559, in add_cache\n",
      "    self.cache.set_cache(cache_key, cached_data, **kwargs)\n",
      "AttributeError: 'Cache' object has no attribute 'cache'\n"
     ]
    },
    {
     "name": "stdout",
     "output_type": "stream",
     "text": [
      "Average Metric: 0.0 / 41  (0.0):  41%|████      | 41/100 [01:01<01:18,  1.33s/it]"
     ]
    },
    {
     "name": "stderr",
     "output_type": "stream",
     "text": [
      "Traceback (most recent call last):\n",
      "  File \"/Users/bdsaglam/dev/repos/bellek/.venv/lib/python3.10/site-packages/litellm/caching.py\", line 559, in add_cache\n",
      "    self.cache.set_cache(cache_key, cached_data, **kwargs)\n",
      "AttributeError: 'Cache' object has no attribute 'cache'\n"
     ]
    },
    {
     "name": "stdout",
     "output_type": "stream",
     "text": [
      "Average Metric: 0.0 / 42  (0.0):  42%|████▏     | 42/100 [01:02<01:20,  1.39s/it]"
     ]
    },
    {
     "name": "stderr",
     "output_type": "stream",
     "text": [
      "Traceback (most recent call last):\n",
      "  File \"/Users/bdsaglam/dev/repos/bellek/.venv/lib/python3.10/site-packages/litellm/caching.py\", line 559, in add_cache\n",
      "    self.cache.set_cache(cache_key, cached_data, **kwargs)\n",
      "AttributeError: 'Cache' object has no attribute 'cache'\n"
     ]
    },
    {
     "name": "stdout",
     "output_type": "stream",
     "text": [
      "Average Metric: 0.0 / 43  (0.0):  43%|████▎     | 43/100 [01:03<01:16,  1.34s/it]"
     ]
    },
    {
     "name": "stderr",
     "output_type": "stream",
     "text": [
      "Traceback (most recent call last):\n",
      "  File \"/Users/bdsaglam/dev/repos/bellek/.venv/lib/python3.10/site-packages/litellm/caching.py\", line 559, in add_cache\n",
      "    self.cache.set_cache(cache_key, cached_data, **kwargs)\n",
      "AttributeError: 'Cache' object has no attribute 'cache'\n"
     ]
    },
    {
     "name": "stdout",
     "output_type": "stream",
     "text": [
      "Average Metric: 0.0 / 44  (0.0):  44%|████▍     | 44/100 [01:05<01:24,  1.51s/it]"
     ]
    },
    {
     "name": "stderr",
     "output_type": "stream",
     "text": [
      "Traceback (most recent call last):\n",
      "  File \"/Users/bdsaglam/dev/repos/bellek/.venv/lib/python3.10/site-packages/litellm/caching.py\", line 559, in add_cache\n",
      "    self.cache.set_cache(cache_key, cached_data, **kwargs)\n",
      "AttributeError: 'Cache' object has no attribute 'cache'\n"
     ]
    },
    {
     "name": "stdout",
     "output_type": "stream",
     "text": [
      "Average Metric: 0.0 / 45  (0.0):  45%|████▌     | 45/100 [01:07<01:21,  1.49s/it]"
     ]
    },
    {
     "name": "stderr",
     "output_type": "stream",
     "text": [
      "Traceback (most recent call last):\n",
      "  File \"/Users/bdsaglam/dev/repos/bellek/.venv/lib/python3.10/site-packages/litellm/caching.py\", line 559, in add_cache\n",
      "    self.cache.set_cache(cache_key, cached_data, **kwargs)\n",
      "AttributeError: 'Cache' object has no attribute 'cache'\n"
     ]
    },
    {
     "name": "stdout",
     "output_type": "stream",
     "text": [
      "Average Metric: 0.0 / 46  (0.0):  46%|████▌     | 46/100 [01:08<01:17,  1.43s/it]"
     ]
    },
    {
     "name": "stderr",
     "output_type": "stream",
     "text": [
      "Traceback (most recent call last):\n",
      "  File \"/Users/bdsaglam/dev/repos/bellek/.venv/lib/python3.10/site-packages/litellm/caching.py\", line 559, in add_cache\n",
      "    self.cache.set_cache(cache_key, cached_data, **kwargs)\n",
      "AttributeError: 'Cache' object has no attribute 'cache'\n"
     ]
    },
    {
     "name": "stdout",
     "output_type": "stream",
     "text": [
      "Average Metric: 0.0 / 47  (0.0):  47%|████▋     | 47/100 [01:09<01:17,  1.47s/it]"
     ]
    },
    {
     "name": "stderr",
     "output_type": "stream",
     "text": [
      "Traceback (most recent call last):\n",
      "  File \"/Users/bdsaglam/dev/repos/bellek/.venv/lib/python3.10/site-packages/litellm/caching.py\", line 559, in add_cache\n",
      "    self.cache.set_cache(cache_key, cached_data, **kwargs)\n",
      "AttributeError: 'Cache' object has no attribute 'cache'\n"
     ]
    },
    {
     "name": "stdout",
     "output_type": "stream",
     "text": [
      "Average Metric: 0.0 / 48  (0.0):  48%|████▊     | 48/100 [01:11<01:18,  1.51s/it]"
     ]
    },
    {
     "name": "stderr",
     "output_type": "stream",
     "text": [
      "Traceback (most recent call last):\n",
      "  File \"/Users/bdsaglam/dev/repos/bellek/.venv/lib/python3.10/site-packages/litellm/caching.py\", line 559, in add_cache\n",
      "    self.cache.set_cache(cache_key, cached_data, **kwargs)\n",
      "AttributeError: 'Cache' object has no attribute 'cache'\n"
     ]
    },
    {
     "name": "stdout",
     "output_type": "stream",
     "text": [
      "Average Metric: 0.0 / 49  (0.0):  49%|████▉     | 49/100 [01:12<01:14,  1.45s/it]"
     ]
    },
    {
     "name": "stderr",
     "output_type": "stream",
     "text": [
      "Traceback (most recent call last):\n",
      "  File \"/Users/bdsaglam/dev/repos/bellek/.venv/lib/python3.10/site-packages/litellm/caching.py\", line 559, in add_cache\n",
      "    self.cache.set_cache(cache_key, cached_data, **kwargs)\n",
      "AttributeError: 'Cache' object has no attribute 'cache'\n"
     ]
    },
    {
     "name": "stdout",
     "output_type": "stream",
     "text": [
      "Average Metric: 0.0 / 50  (0.0):  50%|█████     | 50/100 [01:14<01:11,  1.43s/it]"
     ]
    },
    {
     "name": "stderr",
     "output_type": "stream",
     "text": [
      "Traceback (most recent call last):\n",
      "  File \"/Users/bdsaglam/dev/repos/bellek/.venv/lib/python3.10/site-packages/litellm/caching.py\", line 559, in add_cache\n",
      "    self.cache.set_cache(cache_key, cached_data, **kwargs)\n",
      "AttributeError: 'Cache' object has no attribute 'cache'\n"
     ]
    },
    {
     "name": "stdout",
     "output_type": "stream",
     "text": [
      "Average Metric: 0.0 / 51  (0.0):  51%|█████     | 51/100 [01:15<01:08,  1.40s/it]"
     ]
    },
    {
     "name": "stderr",
     "output_type": "stream",
     "text": [
      "Traceback (most recent call last):\n",
      "  File \"/Users/bdsaglam/dev/repos/bellek/.venv/lib/python3.10/site-packages/litellm/caching.py\", line 559, in add_cache\n",
      "    self.cache.set_cache(cache_key, cached_data, **kwargs)\n",
      "AttributeError: 'Cache' object has no attribute 'cache'\n"
     ]
    },
    {
     "name": "stdout",
     "output_type": "stream",
     "text": [
      "Average Metric: 0.0 / 52  (0.0):  52%|█████▏    | 52/100 [01:17<01:09,  1.44s/it]"
     ]
    },
    {
     "name": "stderr",
     "output_type": "stream",
     "text": [
      "Traceback (most recent call last):\n",
      "  File \"/Users/bdsaglam/dev/repos/bellek/.venv/lib/python3.10/site-packages/litellm/caching.py\", line 559, in add_cache\n",
      "    self.cache.set_cache(cache_key, cached_data, **kwargs)\n",
      "AttributeError: 'Cache' object has no attribute 'cache'\n"
     ]
    },
    {
     "name": "stdout",
     "output_type": "stream",
     "text": [
      "Average Metric: 0.0 / 53  (0.0):  53%|█████▎    | 53/100 [01:18<01:07,  1.43s/it]"
     ]
    },
    {
     "name": "stderr",
     "output_type": "stream",
     "text": [
      "Traceback (most recent call last):\n",
      "  File \"/Users/bdsaglam/dev/repos/bellek/.venv/lib/python3.10/site-packages/litellm/caching.py\", line 559, in add_cache\n",
      "    self.cache.set_cache(cache_key, cached_data, **kwargs)\n",
      "AttributeError: 'Cache' object has no attribute 'cache'\n"
     ]
    },
    {
     "name": "stdout",
     "output_type": "stream",
     "text": [
      "Average Metric: 0.0 / 54  (0.0):  54%|█████▍    | 54/100 [01:20<01:07,  1.46s/it]"
     ]
    },
    {
     "name": "stderr",
     "output_type": "stream",
     "text": [
      "Traceback (most recent call last):\n",
      "  File \"/Users/bdsaglam/dev/repos/bellek/.venv/lib/python3.10/site-packages/litellm/caching.py\", line 559, in add_cache\n",
      "    self.cache.set_cache(cache_key, cached_data, **kwargs)\n",
      "AttributeError: 'Cache' object has no attribute 'cache'\n"
     ]
    },
    {
     "name": "stdout",
     "output_type": "stream",
     "text": [
      "Average Metric: 0.0 / 55  (0.0):  55%|█████▌    | 55/100 [01:21<01:05,  1.45s/it]"
     ]
    },
    {
     "name": "stderr",
     "output_type": "stream",
     "text": [
      "Traceback (most recent call last):\n",
      "  File \"/Users/bdsaglam/dev/repos/bellek/.venv/lib/python3.10/site-packages/litellm/caching.py\", line 559, in add_cache\n",
      "    self.cache.set_cache(cache_key, cached_data, **kwargs)\n",
      "AttributeError: 'Cache' object has no attribute 'cache'\n"
     ]
    },
    {
     "name": "stdout",
     "output_type": "stream",
     "text": [
      "Average Metric: 0.5 / 56  (0.9):  56%|█████▌    | 56/100 [01:22<01:02,  1.41s/it]"
     ]
    },
    {
     "name": "stderr",
     "output_type": "stream",
     "text": [
      "Traceback (most recent call last):\n",
      "  File \"/Users/bdsaglam/dev/repos/bellek/.venv/lib/python3.10/site-packages/litellm/caching.py\", line 559, in add_cache\n",
      "    self.cache.set_cache(cache_key, cached_data, **kwargs)\n",
      "AttributeError: 'Cache' object has no attribute 'cache'\n"
     ]
    },
    {
     "name": "stdout",
     "output_type": "stream",
     "text": [
      "Average Metric: 0.5 / 57  (0.9):  57%|█████▋    | 57/100 [01:24<00:59,  1.37s/it]"
     ]
    },
    {
     "name": "stderr",
     "output_type": "stream",
     "text": [
      "Traceback (most recent call last):\n",
      "  File \"/Users/bdsaglam/dev/repos/bellek/.venv/lib/python3.10/site-packages/litellm/caching.py\", line 559, in add_cache\n",
      "    self.cache.set_cache(cache_key, cached_data, **kwargs)\n",
      "AttributeError: 'Cache' object has no attribute 'cache'\n"
     ]
    },
    {
     "name": "stdout",
     "output_type": "stream",
     "text": [
      "Average Metric: 0.5 / 58  (0.9):  58%|█████▊    | 58/100 [01:25<00:56,  1.35s/it]"
     ]
    },
    {
     "name": "stderr",
     "output_type": "stream",
     "text": [
      "Traceback (most recent call last):\n",
      "  File \"/Users/bdsaglam/dev/repos/bellek/.venv/lib/python3.10/site-packages/litellm/caching.py\", line 559, in add_cache\n",
      "    self.cache.set_cache(cache_key, cached_data, **kwargs)\n",
      "AttributeError: 'Cache' object has no attribute 'cache'\n"
     ]
    },
    {
     "name": "stdout",
     "output_type": "stream",
     "text": [
      "Average Metric: 0.5 / 59  (0.8):  59%|█████▉    | 59/100 [01:26<00:55,  1.36s/it]"
     ]
    },
    {
     "name": "stderr",
     "output_type": "stream",
     "text": [
      "Traceback (most recent call last):\n",
      "  File \"/Users/bdsaglam/dev/repos/bellek/.venv/lib/python3.10/site-packages/litellm/caching.py\", line 559, in add_cache\n",
      "    self.cache.set_cache(cache_key, cached_data, **kwargs)\n",
      "AttributeError: 'Cache' object has no attribute 'cache'\n"
     ]
    },
    {
     "name": "stdout",
     "output_type": "stream",
     "text": [
      "Average Metric: 0.5 / 60  (0.8):  60%|██████    | 60/100 [01:28<00:54,  1.36s/it]"
     ]
    },
    {
     "name": "stderr",
     "output_type": "stream",
     "text": [
      "Traceback (most recent call last):\n",
      "  File \"/Users/bdsaglam/dev/repos/bellek/.venv/lib/python3.10/site-packages/litellm/caching.py\", line 559, in add_cache\n",
      "    self.cache.set_cache(cache_key, cached_data, **kwargs)\n",
      "AttributeError: 'Cache' object has no attribute 'cache'\n"
     ]
    },
    {
     "name": "stdout",
     "output_type": "stream",
     "text": [
      "Average Metric: 0.5 / 61  (0.8):  61%|██████    | 61/100 [01:29<00:55,  1.42s/it]"
     ]
    },
    {
     "name": "stderr",
     "output_type": "stream",
     "text": [
      "Traceback (most recent call last):\n",
      "  File \"/Users/bdsaglam/dev/repos/bellek/.venv/lib/python3.10/site-packages/litellm/caching.py\", line 559, in add_cache\n",
      "    self.cache.set_cache(cache_key, cached_data, **kwargs)\n",
      "AttributeError: 'Cache' object has no attribute 'cache'\n"
     ]
    },
    {
     "name": "stdout",
     "output_type": "stream",
     "text": [
      "Average Metric: 0.5 / 62  (0.8):  62%|██████▏   | 62/100 [01:31<00:59,  1.57s/it]"
     ]
    },
    {
     "name": "stderr",
     "output_type": "stream",
     "text": [
      "Traceback (most recent call last):\n",
      "  File \"/Users/bdsaglam/dev/repos/bellek/.venv/lib/python3.10/site-packages/litellm/caching.py\", line 559, in add_cache\n",
      "    self.cache.set_cache(cache_key, cached_data, **kwargs)\n",
      "AttributeError: 'Cache' object has no attribute 'cache'\n"
     ]
    },
    {
     "name": "stdout",
     "output_type": "stream",
     "text": [
      "Average Metric: 0.5 / 63  (0.8):  63%|██████▎   | 63/100 [01:35<01:20,  2.18s/it]"
     ]
    },
    {
     "name": "stderr",
     "output_type": "stream",
     "text": [
      "Traceback (most recent call last):\n",
      "  File \"/Users/bdsaglam/dev/repos/bellek/.venv/lib/python3.10/site-packages/litellm/caching.py\", line 559, in add_cache\n",
      "    self.cache.set_cache(cache_key, cached_data, **kwargs)\n",
      "AttributeError: 'Cache' object has no attribute 'cache'\n"
     ]
    },
    {
     "name": "stdout",
     "output_type": "stream",
     "text": [
      "Average Metric: 0.5 / 64  (0.8):  64%|██████▍   | 64/100 [01:36<01:09,  1.93s/it]"
     ]
    },
    {
     "name": "stderr",
     "output_type": "stream",
     "text": [
      "Traceback (most recent call last):\n",
      "  File \"/Users/bdsaglam/dev/repos/bellek/.venv/lib/python3.10/site-packages/litellm/caching.py\", line 559, in add_cache\n",
      "    self.cache.set_cache(cache_key, cached_data, **kwargs)\n",
      "AttributeError: 'Cache' object has no attribute 'cache'\n"
     ]
    },
    {
     "name": "stdout",
     "output_type": "stream",
     "text": [
      "Average Metric: 0.5 / 65  (0.8):  65%|██████▌   | 65/100 [01:38<01:03,  1.82s/it]"
     ]
    },
    {
     "name": "stderr",
     "output_type": "stream",
     "text": [
      "Traceback (most recent call last):\n",
      "  File \"/Users/bdsaglam/dev/repos/bellek/.venv/lib/python3.10/site-packages/litellm/caching.py\", line 559, in add_cache\n",
      "    self.cache.set_cache(cache_key, cached_data, **kwargs)\n",
      "AttributeError: 'Cache' object has no attribute 'cache'\n"
     ]
    },
    {
     "name": "stdout",
     "output_type": "stream",
     "text": [
      "Average Metric: 0.5 / 66  (0.8):  66%|██████▌   | 66/100 [01:39<00:57,  1.70s/it]"
     ]
    },
    {
     "name": "stderr",
     "output_type": "stream",
     "text": [
      "Traceback (most recent call last):\n",
      "  File \"/Users/bdsaglam/dev/repos/bellek/.venv/lib/python3.10/site-packages/litellm/caching.py\", line 559, in add_cache\n",
      "    self.cache.set_cache(cache_key, cached_data, **kwargs)\n",
      "AttributeError: 'Cache' object has no attribute 'cache'\n"
     ]
    },
    {
     "name": "stdout",
     "output_type": "stream",
     "text": [
      "Average Metric: 0.5 / 67  (0.7):  67%|██████▋   | 67/100 [01:41<00:58,  1.78s/it]"
     ]
    },
    {
     "name": "stderr",
     "output_type": "stream",
     "text": [
      "Traceback (most recent call last):\n",
      "  File \"/Users/bdsaglam/dev/repos/bellek/.venv/lib/python3.10/site-packages/litellm/caching.py\", line 559, in add_cache\n",
      "    self.cache.set_cache(cache_key, cached_data, **kwargs)\n",
      "AttributeError: 'Cache' object has no attribute 'cache'\n"
     ]
    },
    {
     "name": "stdout",
     "output_type": "stream",
     "text": [
      "Average Metric: 1.0 / 68  (1.5):  68%|██████▊   | 68/100 [01:43<00:56,  1.78s/it]"
     ]
    },
    {
     "name": "stderr",
     "output_type": "stream",
     "text": [
      "Traceback (most recent call last):\n",
      "  File \"/Users/bdsaglam/dev/repos/bellek/.venv/lib/python3.10/site-packages/litellm/caching.py\", line 559, in add_cache\n",
      "    self.cache.set_cache(cache_key, cached_data, **kwargs)\n",
      "AttributeError: 'Cache' object has no attribute 'cache'\n"
     ]
    },
    {
     "name": "stdout",
     "output_type": "stream",
     "text": [
      "Average Metric: 1.0 / 69  (1.4):  69%|██████▉   | 69/100 [01:44<00:50,  1.64s/it]"
     ]
    },
    {
     "name": "stderr",
     "output_type": "stream",
     "text": [
      "Traceback (most recent call last):\n",
      "  File \"/Users/bdsaglam/dev/repos/bellek/.venv/lib/python3.10/site-packages/litellm/caching.py\", line 559, in add_cache\n",
      "    self.cache.set_cache(cache_key, cached_data, **kwargs)\n",
      "AttributeError: 'Cache' object has no attribute 'cache'\n"
     ]
    },
    {
     "name": "stdout",
     "output_type": "stream",
     "text": [
      "Average Metric: 1.0 / 70  (1.4):  70%|███████   | 70/100 [01:46<00:46,  1.56s/it]"
     ]
    },
    {
     "name": "stderr",
     "output_type": "stream",
     "text": [
      "Traceback (most recent call last):\n",
      "  File \"/Users/bdsaglam/dev/repos/bellek/.venv/lib/python3.10/site-packages/litellm/caching.py\", line 559, in add_cache\n",
      "    self.cache.set_cache(cache_key, cached_data, **kwargs)\n",
      "AttributeError: 'Cache' object has no attribute 'cache'\n"
     ]
    },
    {
     "name": "stdout",
     "output_type": "stream",
     "text": [
      "Average Metric: 1.0 / 71  (1.4):  71%|███████   | 71/100 [01:47<00:46,  1.60s/it]"
     ]
    },
    {
     "name": "stderr",
     "output_type": "stream",
     "text": [
      "Traceback (most recent call last):\n",
      "  File \"/Users/bdsaglam/dev/repos/bellek/.venv/lib/python3.10/site-packages/litellm/caching.py\", line 559, in add_cache\n",
      "    self.cache.set_cache(cache_key, cached_data, **kwargs)\n",
      "AttributeError: 'Cache' object has no attribute 'cache'\n"
     ]
    },
    {
     "name": "stdout",
     "output_type": "stream",
     "text": [
      "Average Metric: 1.0 / 72  (1.4):  72%|███████▏  | 72/100 [01:49<00:43,  1.55s/it]"
     ]
    },
    {
     "name": "stderr",
     "output_type": "stream",
     "text": [
      "Traceback (most recent call last):\n",
      "  File \"/Users/bdsaglam/dev/repos/bellek/.venv/lib/python3.10/site-packages/litellm/caching.py\", line 559, in add_cache\n",
      "    self.cache.set_cache(cache_key, cached_data, **kwargs)\n",
      "AttributeError: 'Cache' object has no attribute 'cache'\n"
     ]
    },
    {
     "name": "stdout",
     "output_type": "stream",
     "text": [
      "Average Metric: 1.0 / 73  (1.4):  73%|███████▎  | 73/100 [01:50<00:40,  1.52s/it]"
     ]
    },
    {
     "name": "stderr",
     "output_type": "stream",
     "text": [
      "Traceback (most recent call last):\n",
      "  File \"/Users/bdsaglam/dev/repos/bellek/.venv/lib/python3.10/site-packages/litellm/caching.py\", line 559, in add_cache\n",
      "    self.cache.set_cache(cache_key, cached_data, **kwargs)\n",
      "AttributeError: 'Cache' object has no attribute 'cache'\n"
     ]
    },
    {
     "name": "stdout",
     "output_type": "stream",
     "text": [
      "Average Metric: 1.0 / 74  (1.4):  74%|███████▍  | 74/100 [01:51<00:36,  1.42s/it]"
     ]
    },
    {
     "name": "stderr",
     "output_type": "stream",
     "text": [
      "Traceback (most recent call last):\n",
      "  File \"/Users/bdsaglam/dev/repos/bellek/.venv/lib/python3.10/site-packages/litellm/caching.py\", line 559, in add_cache\n",
      "    self.cache.set_cache(cache_key, cached_data, **kwargs)\n",
      "AttributeError: 'Cache' object has no attribute 'cache'\n"
     ]
    },
    {
     "name": "stdout",
     "output_type": "stream",
     "text": [
      "Average Metric: 1.0 / 75  (1.3):  75%|███████▌  | 75/100 [01:53<00:36,  1.47s/it]"
     ]
    },
    {
     "name": "stderr",
     "output_type": "stream",
     "text": [
      "Traceback (most recent call last):\n",
      "  File \"/Users/bdsaglam/dev/repos/bellek/.venv/lib/python3.10/site-packages/litellm/caching.py\", line 559, in add_cache\n",
      "    self.cache.set_cache(cache_key, cached_data, **kwargs)\n",
      "AttributeError: 'Cache' object has no attribute 'cache'\n"
     ]
    },
    {
     "name": "stdout",
     "output_type": "stream",
     "text": [
      "Average Metric: 1.0 / 76  (1.3):  76%|███████▌  | 76/100 [01:55<00:37,  1.58s/it]"
     ]
    },
    {
     "name": "stderr",
     "output_type": "stream",
     "text": [
      "Traceback (most recent call last):\n",
      "  File \"/Users/bdsaglam/dev/repos/bellek/.venv/lib/python3.10/site-packages/litellm/caching.py\", line 559, in add_cache\n",
      "    self.cache.set_cache(cache_key, cached_data, **kwargs)\n",
      "AttributeError: 'Cache' object has no attribute 'cache'\n"
     ]
    },
    {
     "name": "stdout",
     "output_type": "stream",
     "text": [
      "Average Metric: 1.0 / 77  (1.3):  77%|███████▋  | 77/100 [01:56<00:34,  1.51s/it]"
     ]
    },
    {
     "name": "stderr",
     "output_type": "stream",
     "text": [
      "Traceback (most recent call last):\n",
      "  File \"/Users/bdsaglam/dev/repos/bellek/.venv/lib/python3.10/site-packages/litellm/caching.py\", line 559, in add_cache\n",
      "    self.cache.set_cache(cache_key, cached_data, **kwargs)\n",
      "AttributeError: 'Cache' object has no attribute 'cache'\n"
     ]
    },
    {
     "name": "stdout",
     "output_type": "stream",
     "text": [
      "Average Metric: 1.0 / 78  (1.3):  78%|███████▊  | 78/100 [01:58<00:36,  1.64s/it]"
     ]
    },
    {
     "name": "stderr",
     "output_type": "stream",
     "text": [
      "Traceback (most recent call last):\n",
      "  File \"/Users/bdsaglam/dev/repos/bellek/.venv/lib/python3.10/site-packages/litellm/caching.py\", line 559, in add_cache\n",
      "    self.cache.set_cache(cache_key, cached_data, **kwargs)\n",
      "AttributeError: 'Cache' object has no attribute 'cache'\n"
     ]
    },
    {
     "name": "stdout",
     "output_type": "stream",
     "text": [
      "Average Metric: 1.0 / 79  (1.3):  79%|███████▉  | 79/100 [02:00<00:39,  1.88s/it]"
     ]
    },
    {
     "name": "stderr",
     "output_type": "stream",
     "text": [
      "Traceback (most recent call last):\n",
      "  File \"/Users/bdsaglam/dev/repos/bellek/.venv/lib/python3.10/site-packages/litellm/caching.py\", line 559, in add_cache\n",
      "    self.cache.set_cache(cache_key, cached_data, **kwargs)\n",
      "AttributeError: 'Cache' object has no attribute 'cache'\n"
     ]
    },
    {
     "name": "stdout",
     "output_type": "stream",
     "text": [
      "Average Metric: 1.0 / 80  (1.2):  80%|████████  | 80/100 [02:02<00:37,  1.88s/it]"
     ]
    },
    {
     "name": "stderr",
     "output_type": "stream",
     "text": [
      "Traceback (most recent call last):\n",
      "  File \"/Users/bdsaglam/dev/repos/bellek/.venv/lib/python3.10/site-packages/litellm/caching.py\", line 559, in add_cache\n",
      "    self.cache.set_cache(cache_key, cached_data, **kwargs)\n",
      "AttributeError: 'Cache' object has no attribute 'cache'\n"
     ]
    },
    {
     "name": "stdout",
     "output_type": "stream",
     "text": [
      "Average Metric: 1.0 / 81  (1.2):  81%|████████  | 81/100 [02:04<00:34,  1.83s/it]"
     ]
    },
    {
     "name": "stderr",
     "output_type": "stream",
     "text": [
      "Traceback (most recent call last):\n",
      "  File \"/Users/bdsaglam/dev/repos/bellek/.venv/lib/python3.10/site-packages/litellm/caching.py\", line 559, in add_cache\n",
      "    self.cache.set_cache(cache_key, cached_data, **kwargs)\n",
      "AttributeError: 'Cache' object has no attribute 'cache'\n"
     ]
    },
    {
     "name": "stdout",
     "output_type": "stream",
     "text": [
      "Average Metric: 1.0 / 82  (1.2):  82%|████████▏ | 82/100 [02:06<00:34,  1.90s/it]"
     ]
    },
    {
     "name": "stderr",
     "output_type": "stream",
     "text": [
      "Traceback (most recent call last):\n",
      "  File \"/Users/bdsaglam/dev/repos/bellek/.venv/lib/python3.10/site-packages/litellm/caching.py\", line 559, in add_cache\n",
      "    self.cache.set_cache(cache_key, cached_data, **kwargs)\n",
      "AttributeError: 'Cache' object has no attribute 'cache'\n"
     ]
    },
    {
     "name": "stdout",
     "output_type": "stream",
     "text": [
      "Average Metric: 1.0 / 83  (1.2):  83%|████████▎ | 83/100 [02:08<00:34,  2.01s/it]"
     ]
    },
    {
     "name": "stderr",
     "output_type": "stream",
     "text": [
      "Traceback (most recent call last):\n",
      "  File \"/Users/bdsaglam/dev/repos/bellek/.venv/lib/python3.10/site-packages/litellm/caching.py\", line 559, in add_cache\n",
      "    self.cache.set_cache(cache_key, cached_data, **kwargs)\n",
      "AttributeError: 'Cache' object has no attribute 'cache'\n"
     ]
    },
    {
     "name": "stdout",
     "output_type": "stream",
     "text": [
      "Average Metric: 1.0 / 84  (1.2):  84%|████████▍ | 84/100 [02:10<00:30,  1.92s/it]"
     ]
    },
    {
     "name": "stderr",
     "output_type": "stream",
     "text": [
      "Traceback (most recent call last):\n",
      "  File \"/Users/bdsaglam/dev/repos/bellek/.venv/lib/python3.10/site-packages/litellm/caching.py\", line 559, in add_cache\n",
      "    self.cache.set_cache(cache_key, cached_data, **kwargs)\n",
      "AttributeError: 'Cache' object has no attribute 'cache'\n"
     ]
    },
    {
     "name": "stdout",
     "output_type": "stream",
     "text": [
      "Average Metric: 1.5 / 85  (1.8):  85%|████████▌ | 85/100 [02:12<00:27,  1.83s/it]"
     ]
    },
    {
     "name": "stderr",
     "output_type": "stream",
     "text": [
      "Traceback (most recent call last):\n",
      "  File \"/Users/bdsaglam/dev/repos/bellek/.venv/lib/python3.10/site-packages/litellm/caching.py\", line 559, in add_cache\n",
      "    self.cache.set_cache(cache_key, cached_data, **kwargs)\n",
      "AttributeError: 'Cache' object has no attribute 'cache'\n"
     ]
    },
    {
     "name": "stdout",
     "output_type": "stream",
     "text": [
      "Average Metric: 2.0 / 86  (2.3):  86%|████████▌ | 86/100 [02:14<00:25,  1.85s/it]"
     ]
    },
    {
     "name": "stderr",
     "output_type": "stream",
     "text": [
      "Traceback (most recent call last):\n",
      "  File \"/Users/bdsaglam/dev/repos/bellek/.venv/lib/python3.10/site-packages/litellm/caching.py\", line 559, in add_cache\n",
      "    self.cache.set_cache(cache_key, cached_data, **kwargs)\n",
      "AttributeError: 'Cache' object has no attribute 'cache'\n"
     ]
    },
    {
     "name": "stdout",
     "output_type": "stream",
     "text": [
      "Average Metric: 2.0 / 87  (2.3):  87%|████████▋ | 87/100 [02:16<00:25,  1.93s/it]"
     ]
    },
    {
     "name": "stderr",
     "output_type": "stream",
     "text": [
      "Traceback (most recent call last):\n",
      "  File \"/Users/bdsaglam/dev/repos/bellek/.venv/lib/python3.10/site-packages/litellm/caching.py\", line 559, in add_cache\n",
      "    self.cache.set_cache(cache_key, cached_data, **kwargs)\n",
      "AttributeError: 'Cache' object has no attribute 'cache'\n"
     ]
    },
    {
     "name": "stdout",
     "output_type": "stream",
     "text": [
      "Average Metric: 2.0 / 88  (2.3):  88%|████████▊ | 88/100 [02:17<00:21,  1.80s/it]"
     ]
    },
    {
     "name": "stderr",
     "output_type": "stream",
     "text": [
      "Traceback (most recent call last):\n",
      "  File \"/Users/bdsaglam/dev/repos/bellek/.venv/lib/python3.10/site-packages/litellm/caching.py\", line 559, in add_cache\n",
      "    self.cache.set_cache(cache_key, cached_data, **kwargs)\n",
      "AttributeError: 'Cache' object has no attribute 'cache'\n"
     ]
    },
    {
     "name": "stdout",
     "output_type": "stream",
     "text": [
      "Average Metric: 2.5 / 89  (2.8):  89%|████████▉ | 89/100 [02:19<00:18,  1.67s/it]"
     ]
    },
    {
     "name": "stderr",
     "output_type": "stream",
     "text": [
      "Traceback (most recent call last):\n",
      "  File \"/Users/bdsaglam/dev/repos/bellek/.venv/lib/python3.10/site-packages/litellm/caching.py\", line 559, in add_cache\n",
      "    self.cache.set_cache(cache_key, cached_data, **kwargs)\n",
      "AttributeError: 'Cache' object has no attribute 'cache'\n"
     ]
    },
    {
     "name": "stdout",
     "output_type": "stream",
     "text": [
      "Average Metric: 2.5 / 90  (2.8):  90%|█████████ | 90/100 [02:20<00:16,  1.69s/it]"
     ]
    },
    {
     "name": "stderr",
     "output_type": "stream",
     "text": [
      "Traceback (most recent call last):\n",
      "  File \"/Users/bdsaglam/dev/repos/bellek/.venv/lib/python3.10/site-packages/litellm/caching.py\", line 559, in add_cache\n",
      "    self.cache.set_cache(cache_key, cached_data, **kwargs)\n",
      "AttributeError: 'Cache' object has no attribute 'cache'\n"
     ]
    },
    {
     "name": "stdout",
     "output_type": "stream",
     "text": [
      "Average Metric: 2.5 / 91  (2.7):  91%|█████████ | 91/100 [02:22<00:14,  1.59s/it]"
     ]
    },
    {
     "name": "stderr",
     "output_type": "stream",
     "text": [
      "Traceback (most recent call last):\n",
      "  File \"/Users/bdsaglam/dev/repos/bellek/.venv/lib/python3.10/site-packages/litellm/caching.py\", line 559, in add_cache\n",
      "    self.cache.set_cache(cache_key, cached_data, **kwargs)\n",
      "AttributeError: 'Cache' object has no attribute 'cache'\n"
     ]
    },
    {
     "name": "stdout",
     "output_type": "stream",
     "text": [
      "Average Metric: 2.5 / 92  (2.7):  92%|█████████▏| 92/100 [02:23<00:12,  1.52s/it]"
     ]
    },
    {
     "name": "stderr",
     "output_type": "stream",
     "text": [
      "Traceback (most recent call last):\n",
      "  File \"/Users/bdsaglam/dev/repos/bellek/.venv/lib/python3.10/site-packages/litellm/caching.py\", line 559, in add_cache\n",
      "    self.cache.set_cache(cache_key, cached_data, **kwargs)\n",
      "AttributeError: 'Cache' object has no attribute 'cache'\n"
     ]
    },
    {
     "name": "stdout",
     "output_type": "stream",
     "text": [
      "Average Metric: 2.5 / 93  (2.7):  93%|█████████▎| 93/100 [02:24<00:10,  1.48s/it]"
     ]
    },
    {
     "name": "stderr",
     "output_type": "stream",
     "text": [
      "Traceback (most recent call last):\n",
      "  File \"/Users/bdsaglam/dev/repos/bellek/.venv/lib/python3.10/site-packages/litellm/caching.py\", line 559, in add_cache\n",
      "    self.cache.set_cache(cache_key, cached_data, **kwargs)\n",
      "AttributeError: 'Cache' object has no attribute 'cache'\n"
     ]
    },
    {
     "name": "stdout",
     "output_type": "stream",
     "text": [
      "Average Metric: 2.5 / 94  (2.7):  94%|█████████▍| 94/100 [02:26<00:08,  1.44s/it]"
     ]
    },
    {
     "name": "stderr",
     "output_type": "stream",
     "text": [
      "Traceback (most recent call last):\n",
      "  File \"/Users/bdsaglam/dev/repos/bellek/.venv/lib/python3.10/site-packages/litellm/caching.py\", line 559, in add_cache\n",
      "    self.cache.set_cache(cache_key, cached_data, **kwargs)\n",
      "AttributeError: 'Cache' object has no attribute 'cache'\n"
     ]
    },
    {
     "name": "stdout",
     "output_type": "stream",
     "text": [
      "Average Metric: 2.5 / 95  (2.6):  95%|█████████▌| 95/100 [02:27<00:06,  1.39s/it]"
     ]
    },
    {
     "name": "stderr",
     "output_type": "stream",
     "text": [
      "Traceback (most recent call last):\n",
      "  File \"/Users/bdsaglam/dev/repos/bellek/.venv/lib/python3.10/site-packages/litellm/caching.py\", line 559, in add_cache\n",
      "    self.cache.set_cache(cache_key, cached_data, **kwargs)\n",
      "AttributeError: 'Cache' object has no attribute 'cache'\n"
     ]
    },
    {
     "name": "stdout",
     "output_type": "stream",
     "text": [
      "Average Metric: 2.5 / 96  (2.6):  96%|█████████▌| 96/100 [02:30<00:07,  1.87s/it]"
     ]
    },
    {
     "name": "stderr",
     "output_type": "stream",
     "text": [
      "Traceback (most recent call last):\n",
      "  File \"/Users/bdsaglam/dev/repos/bellek/.venv/lib/python3.10/site-packages/litellm/caching.py\", line 559, in add_cache\n",
      "    self.cache.set_cache(cache_key, cached_data, **kwargs)\n",
      "AttributeError: 'Cache' object has no attribute 'cache'\n"
     ]
    },
    {
     "name": "stdout",
     "output_type": "stream",
     "text": [
      "Average Metric: 2.5 / 97  (2.6):  97%|█████████▋| 97/100 [02:32<00:05,  1.88s/it]"
     ]
    },
    {
     "name": "stderr",
     "output_type": "stream",
     "text": [
      "Traceback (most recent call last):\n",
      "  File \"/Users/bdsaglam/dev/repos/bellek/.venv/lib/python3.10/site-packages/litellm/caching.py\", line 559, in add_cache\n",
      "    self.cache.set_cache(cache_key, cached_data, **kwargs)\n",
      "AttributeError: 'Cache' object has no attribute 'cache'\n"
     ]
    },
    {
     "name": "stdout",
     "output_type": "stream",
     "text": [
      "Average Metric: 2.5 / 98  (2.6):  98%|█████████▊| 98/100 [02:34<00:03,  1.82s/it]"
     ]
    },
    {
     "name": "stderr",
     "output_type": "stream",
     "text": [
      "Traceback (most recent call last):\n",
      "  File \"/Users/bdsaglam/dev/repos/bellek/.venv/lib/python3.10/site-packages/litellm/caching.py\", line 559, in add_cache\n",
      "    self.cache.set_cache(cache_key, cached_data, **kwargs)\n",
      "AttributeError: 'Cache' object has no attribute 'cache'\n"
     ]
    },
    {
     "name": "stdout",
     "output_type": "stream",
     "text": [
      "Average Metric: 2.5 / 99  (2.5):  99%|█████████▉| 99/100 [02:35<00:01,  1.79s/it]"
     ]
    },
    {
     "name": "stderr",
     "output_type": "stream",
     "text": [
      "Traceback (most recent call last):\n",
      "  File \"/Users/bdsaglam/dev/repos/bellek/.venv/lib/python3.10/site-packages/litellm/caching.py\", line 559, in add_cache\n",
      "    self.cache.set_cache(cache_key, cached_data, **kwargs)\n",
      "AttributeError: 'Cache' object has no attribute 'cache'\n"
     ]
    },
    {
     "name": "stdout",
     "output_type": "stream",
     "text": [
      "Average Metric: 2.5 / 100  (2.5): 100%|██████████| 100/100 [02:37<00:00,  1.58s/it]\n",
      "Compiled Question Decomposition Module Score: 2.5\n",
      "Error analysis for uncompiled Question Decomposition module:\n",
      "Total errors: 100\n",
      "\n",
      "Sample of errors:\n",
      "Original Question: Who is the spouse of the Green performer?\n",
      "True Decomposition: 1. Green >> performer\n",
      "2. #1 >> spouse\n",
      "Predicted Decomposition: #1 >> Who is the Green performer?\n",
      "#2 >> What is the name of the spouse of the identified Green performer?\n",
      "\n",
      "Original Question: Who founded the company that distributed the film UHF?\n",
      "True Decomposition: 1. UHF >> distributed by\n",
      "2. #1 >> founded by\n",
      "Predicted Decomposition: #1 >> What company distributed the film UHF?\n",
      "#2 >> Who were the founders of Orion Pictures?\n",
      "#3 >> When was Orion Pictures founded?\n",
      "#4 >> What is the significance of Orion Pictures in the film industry?\n",
      "\n",
      "Original Question: What administrative territorial entity is the owner of Ciudad Deportiva located?\n",
      "True Decomposition: 1. Ciudad Deportiva >> owned by\n",
      "2. #1 >> located in the administrative territorial entity\n",
      "Predicted Decomposition: #1 >> What is the geographical location of Ciudad Deportiva?\n",
      "#2 >> What administrative divisions exist in the area where Ciudad Deportiva is located?\n",
      "#3 >> Who is the governing body or authority for the administrative division identified in #2?\n",
      "\n",
      "Original Question: Where is Ulrich Walter's employer headquartered?\n",
      "True Decomposition: 1. Ulrich Walter >> employer\n",
      "2. #1 >> headquarters location\n",
      "Predicted Decomposition: #1 >> Who is Ulrich Walter?\n",
      "#2 >> What is the name of Ulrich Walter's employer?\n",
      "#3 >> Where is the headquarters of Ulrich Walter's employer located?\n",
      "\n",
      "Original Question: Which company owns the manufacturer of Learjet 60?\n",
      "True Decomposition: 1. Learjet 60 >> manufacturer\n",
      "2. #1 >> owned by\n",
      "Predicted Decomposition: #1 >> What is the name of the manufacturer of the Learjet 60?\n",
      "#2 >> What is the ownership history of the manufacturer of the Learjet 60?\n",
      "#3 >> Which company currently owns the manufacturer of the Learjet 60?\n",
      "\n",
      "\n",
      "Error analysis for compiled Question Decomposition module:\n",
      "Total errors: 95\n",
      "\n",
      "Sample of errors:\n",
      "Original Question: Who is the spouse of the Green performer?\n",
      "True Decomposition: 1. Green >> performer\n",
      "2. #1 >> spouse\n",
      "Predicted Decomposition: 1. Who is the Green performer?\n",
      "2. What is the name of #1's spouse?\n",
      "\n",
      "Original Question: Who founded the company that distributed the film UHF?\n",
      "True Decomposition: 1. UHF >> distributed by\n",
      "2. #1 >> founded by\n",
      "Predicted Decomposition: 1. What company distributed the film UHF?\n",
      "2. Who founded #1?\n",
      "\n",
      "Original Question: What administrative territorial entity is the owner of Ciudad Deportiva located?\n",
      "True Decomposition: 1. Ciudad Deportiva >> owned by\n",
      "2. #1 >> located in the administrative territorial entity\n",
      "Predicted Decomposition: 1. Who is the owner of Ciudad Deportiva?\n",
      "2. What administrative territorial entity does #1 belong to?\n",
      "\n",
      "Original Question: Where is Ulrich Walter's employer headquartered?\n",
      "True Decomposition: 1. Ulrich Walter >> employer\n",
      "2. #1 >> headquarters location\n",
      "Predicted Decomposition: 1. Who is Ulrich Walter's employer?\n",
      "2. Where is #1 headquartered?\n",
      "\n",
      "Original Question: Which company owns the manufacturer of Learjet 60?\n",
      "True Decomposition: 1. Learjet 60 >> manufacturer\n",
      "2. #1 >> owned by\n",
      "Predicted Decomposition: 1. Who is the manufacturer of the Learjet 60?\n",
      "2. Which company owns #1?\n",
      "\n",
      "[('decompose', Predict(StringSignature(question -> reasoning, decomposition\n",
      "    instructions='Decompose a complex question into simpler sub-questions.'\n",
      "    question = Field(annotation=str required=True json_schema_extra={'__dspy_field_type': 'input', 'prefix': 'Question:', 'desc': '${question}'})\n",
      "    reasoning = Field(annotation=str required=True json_schema_extra={'prefix': \"Reasoning: Let's think step by step in order to\", 'desc': '${reasoning}', '__dspy_field_type': 'output'})\n",
      "    decomposition = Field(annotation=str required=True json_schema_extra={'desc': \"Enumerated list of sub-questions, using '#n >>' notation for dependent questions\", '__dspy_field_type': 'output', 'prefix': 'Decomposition:'})\n",
      ")))]\n"
     ]
    },
    {
     "name": "stderr",
     "output_type": "stream",
     "text": [
      "Traceback (most recent call last):\n",
      "  File \"/Users/bdsaglam/dev/repos/bellek/.venv/lib/python3.10/site-packages/litellm/caching.py\", line 559, in add_cache\n",
      "    self.cache.set_cache(cache_key, cached_data, **kwargs)\n",
      "AttributeError: 'Cache' object has no attribute 'cache'\n"
     ]
    }
   ],
   "source": [
    "# Set up the evaluation function\n",
    "evaluate_qd = Evaluate(devset=evalset, metric=evaluate_decomposition, num_threads=1, display_progress=True)\n",
    "\n",
    "# Evaluate the uncompiled question decomposition module\n",
    "uncompiled_score = evaluate_qd(uncompiled_qd)\n",
    "print(f\"Uncompiled Question Decomposition Module Score: {uncompiled_score}\")\n",
    "\n",
    "# Evaluate the compiled question decomposition module\n",
    "compiled_score = evaluate_qd(compiled_qd)\n",
    "print(f\"Compiled Question Decomposition Module Score: {compiled_score}\")\n",
    "\n",
    "\n",
    "# ## 8. (Optional) Error Analysis\n",
    "\n",
    "\n",
    "def perform_error_analysis(qd_module, dataset, num_samples=5):\n",
    "    errors = []\n",
    "    for example in dataset:\n",
    "        pred = qd_module(question=example.question)\n",
    "        if not evaluate_decomposition(example, pred):\n",
    "            errors.append((example, pred))\n",
    "    \n",
    "    print(f\"Total errors: {len(errors)}\")\n",
    "    print(\"\\nSample of errors:\")\n",
    "    for example, pred in errors[:num_samples]:\n",
    "        print(f\"Original Question: {example.question}\")\n",
    "        print(f\"# True Decomposition\\n{example.decomposition}\")\n",
    "        print(f\"# Predicted Decomposition\\n{pred.decomposition}\")\n",
    "        print()\n",
    "\n",
    "print(\"Error analysis for uncompiled Question Decomposition module:\")\n",
    "perform_error_analysis(uncompiled_qd, evalset)\n",
    "\n",
    "print(\"\\nError analysis for compiled Question Decomposition module:\")\n",
    "perform_error_analysis(compiled_qd, evalset)\n",
    "\n",
    "\n",
    "compiled_qd.predictors()[0]\n",
    "\n",
    "\n",
    "compiled_qd.save('compiled-qd.json')"
   ]
  },
  {
   "cell_type": "code",
   "execution_count": null,
   "metadata": {},
   "outputs": [],
   "source": []
  }
 ],
 "metadata": {
  "kernelspec": {
   "display_name": ".venv",
   "language": "python",
   "name": "python3"
  },
  "language_info": {
   "codemirror_mode": {
    "name": "ipython",
    "version": 3
   },
   "file_extension": ".py",
   "mimetype": "text/x-python",
   "name": "python",
   "nbconvert_exporter": "python",
   "pygments_lexer": "ipython3",
   "version": "3.10.12"
  }
 },
 "nbformat": 4,
 "nbformat_minor": 2
}
