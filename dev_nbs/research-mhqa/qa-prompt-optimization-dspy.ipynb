{
 "cells": [
  {
   "cell_type": "markdown",
   "metadata": {},
   "source": [
    "# DSPy Question Answering Pipeline\n",
    "\n",
    "This notebook implements a DSPy pipeline for optimizing question answering prompts."
   ]
  },
  {
   "cell_type": "markdown",
   "metadata": {},
   "source": [
    "## 1. Set up the environment"
   ]
  },
  {
   "cell_type": "code",
   "execution_count": 1,
   "metadata": {},
   "outputs": [],
   "source": [
    "import dspy\n",
    "from dspy.evaluate import Evaluate\n",
    "from dspy.teleprompt import BootstrapFewShot\n",
    "\n",
    "# Configure the Language Model\n",
    "turbo = dspy.OpenAI(model='gpt-3.5-turbo')\n",
    "dspy.settings.configure(lm=turbo)"
   ]
  },
  {
   "cell_type": "markdown",
   "metadata": {},
   "source": [
    "## 2. Load and preprocess the datasets"
   ]
  },
  {
   "cell_type": "code",
   "execution_count": 18,
   "metadata": {},
   "outputs": [
    {
     "name": "stdout",
     "output_type": "stream",
     "text": [
      "Loaded 100 training examples and 10 evaluation examples\n"
     ]
    }
   ],
   "source": [
    "import json\n",
    "from dspy import Example\n",
    "\n",
    "class CustomDataLoader:\n",
    "    def __init__(self, file_path):\n",
    "        self.file_path = file_path\n",
    "    \n",
    "    def load(self):\n",
    "        dataset = []\n",
    "        with open(self.file_path, 'r') as f:\n",
    "            for line in f:\n",
    "                record = json.loads(line)\n",
    "                supporting_paragraphs = [p for p in record['paragraphs'] if p['is_supporting']]\n",
    "                context = \"\\n\\n\".join([p['paragraph_text'] for p in supporting_paragraphs])\n",
    "                example = Example(\n",
    "                    question=record['question'],\n",
    "                    context=context,\n",
    "                    answers=record['answers']\n",
    "                ).with_inputs('question', 'context')\n",
    "                dataset.append(example)\n",
    "        return dataset\n",
    "\n",
    "# Load datasets\n",
    "train_loader = CustomDataLoader('../../data/generated/musique-common/base-dataset-train.jsonl')\n",
    "eval_loader = CustomDataLoader('../../data/generated/musique-common/base-dataset-validation.jsonl')\n",
    "\n",
    "trainset = train_loader.load()[:100]\n",
    "evalset = eval_loader.load()[:10]\n",
    "\n",
    "print(f\"Loaded {len(trainset)} training examples and {len(evalset)} evaluation examples\")"
   ]
  },
  {
   "cell_type": "markdown",
   "metadata": {},
   "source": [
    "## 3. Define Signatures"
   ]
  },
  {
   "cell_type": "code",
   "execution_count": 19,
   "metadata": {},
   "outputs": [],
   "source": [
    "class GenerateAnswer(dspy.Signature):\n",
    "    \"\"\"Answer questions based on the given context.\"\"\"\n",
    "    context = dspy.InputField(desc=\"The context to use for answering the question.\")\n",
    "    question = dspy.InputField()\n",
    "    answer = dspy.OutputField(desc=\"The factual answer to the question.\")"
   ]
  },
  {
   "cell_type": "markdown",
   "metadata": {},
   "source": [
    "## 4. Build the Pipeline"
   ]
  },
  {
   "cell_type": "code",
   "execution_count": 20,
   "metadata": {},
   "outputs": [],
   "source": [
    "class QAModule(dspy.Module):\n",
    "    def __init__(self):\n",
    "        super().__init__()\n",
    "        self.generate_answer = dspy.ChainOfThought(GenerateAnswer)\n",
    "\n",
    "    def forward(self, question, context):\n",
    "        pred = self.generate_answer(context=context, question=question)\n",
    "        return dspy.Prediction(answer=pred.answer)"
   ]
  },
  {
   "cell_type": "markdown",
   "metadata": {},
   "source": [
    "## 5. Define the optimization metric"
   ]
  },
  {
   "cell_type": "code",
   "execution_count": 23,
   "metadata": {},
   "outputs": [],
   "source": [
    "from dspy.evaluate import answer_exact_match_str\n",
    "\n",
    "def evaluate_answer(example, pred, trace=None):\n",
    "    return answer_exact_match_str(pred.answer, example.answers, frac=0.8)"
   ]
  },
  {
   "cell_type": "markdown",
   "metadata": {},
   "source": [
    "## 6. Implement the optimization process"
   ]
  },
  {
   "cell_type": "code",
   "execution_count": 24,
   "metadata": {},
   "outputs": [
    {
     "name": "stderr",
     "output_type": "stream",
     "text": [
      " 10%|█         | 10/100 [00:07<01:04,  1.40it/s]"
     ]
    },
    {
     "name": "stdout",
     "output_type": "stream",
     "text": [
      "Bootstrapped 4 full traces after 11 examples in round 0.\n",
      "QA module compiled and optimized\n"
     ]
    },
    {
     "name": "stderr",
     "output_type": "stream",
     "text": [
      "\n"
     ]
    }
   ],
   "source": [
    "# Initialize the uncompiled QA module\n",
    "uncompiled_qa = QAModule()\n",
    "\n",
    "# Set up the teleprompter\n",
    "teleprompter = BootstrapFewShot(metric=evaluate_answer)\n",
    "\n",
    "# Compile and optimize the QA module\n",
    "compiled_qa = teleprompter.compile(uncompiled_qa, trainset=trainset)\n",
    "\n",
    "print(\"QA module compiled and optimized\")"
   ]
  },
  {
   "cell_type": "markdown",
   "metadata": {},
   "source": [
    "## 7. Evaluate the pipeline"
   ]
  },
  {
   "cell_type": "code",
   "execution_count": 25,
   "metadata": {},
   "outputs": [
    {
     "name": "stdout",
     "output_type": "stream",
     "text": [
      "Average Metric: 1 / 10  (10.0): 100%|██████████| 10/10 [00:12<00:00,  1.21s/it]\n",
      "Uncompiled QA Module Score: 10.0\n",
      "Average Metric: 3 / 10  (30.0): 100%|██████████| 10/10 [00:12<00:00,  1.25s/it]\n",
      "Compiled QA Module Score: 30.0\n"
     ]
    }
   ],
   "source": [
    "# Set up the evaluation function\n",
    "evaluate_qa = Evaluate(devset=evalset, metric=evaluate_answer, num_threads=1, display_progress=True)\n",
    "\n",
    "# Evaluate the uncompiled QA module\n",
    "uncompiled_score = evaluate_qa(uncompiled_qa)\n",
    "print(f\"Uncompiled QA Module Score: {uncompiled_score}\")\n",
    "\n",
    "# Evaluate the compiled QA module\n",
    "compiled_score = evaluate_qa(compiled_qa)\n",
    "print(f\"Compiled QA Module Score: {compiled_score}\")"
   ]
  },
  {
   "cell_type": "markdown",
   "metadata": {},
   "source": [
    "## 8. (Optional) Error Analysis"
   ]
  },
  {
   "cell_type": "code",
   "execution_count": 27,
   "metadata": {},
   "outputs": [
    {
     "name": "stdout",
     "output_type": "stream",
     "text": [
      "Error analysis for uncompiled QA module:\n",
      "Total errors: 9\n",
      "\n",
      "Sample of errors:\n",
      "Question: Where is the Voshmgir District located?\n",
      "True Answer: ['Caspian Sea', 'in the north-east of the country south of the Caspian Sea']\n",
      "Predicted Answer: The Voshmgir District is located in Aqqala County, Golestan Province, Iran.\n",
      "\n",
      "Question: In what part of Florida is Tom Denney's birthplace located?\n",
      "True Answer: ['in Northern Florida', 'Northern Florida']\n",
      "Predicted Answer: Tom Denney's birthplace is located in Ocala, Florida.\n",
      "\n",
      "Question: What record label is the performer who released All Your Faded Things on?\n",
      "True Answer: ['Kill Rock Stars']\n",
      "Predicted Answer: Cold Crush Records\n",
      "\n",
      "Question: What record label does the performer of Emotional Rain belong to?\n",
      "True Answer: ['Attic', 'Attic Records']\n",
      "Predicted Answer: The performer of Emotional Rain, Lee Aaron, belongs to A&M Records in Canada and Koch Entertainment in Europe.\n",
      "\n",
      "Question: Of which watercourse is the river the Willemsbrug crosses over the mouth?\n",
      "True Answer: ['Het Scheur']\n",
      "Predicted Answer: The river that the Willemsbrug crosses over at its mouth is the Nieuwe Maas.\n",
      "\n",
      "\n",
      "Error analysis for compiled QA module:\n",
      "Total errors: 7\n",
      "\n",
      "Sample of errors:\n",
      "Question: Where is the Voshmgir District located?\n",
      "True Answer: ['Caspian Sea', 'in the north-east of the country south of the Caspian Sea']\n",
      "Predicted Answer: Golestan Province, Iran\n",
      "\n",
      "Question: What record label is the performer who released All Your Faded Things on?\n",
      "True Answer: ['Kill Rock Stars']\n",
      "Predicted Answer: Cold Crush Records\n",
      "\n",
      "Question: What record label does the performer of Emotional Rain belong to?\n",
      "True Answer: ['Attic', 'Attic Records']\n",
      "Predicted Answer: A&M Records\n",
      "\n",
      "Question: Of which watercourse is the river the Willemsbrug crosses over the mouth?\n",
      "True Answer: ['Het Scheur']\n",
      "Predicted Answer: Nieuwe Maas\n",
      "\n",
      "Question: What is the record label for the band which performed Pythons?\n",
      "True Answer: ['Kanine Records']\n",
      "Predicted Answer: Sire Records\n",
      "\n"
     ]
    }
   ],
   "source": [
    "def perform_error_analysis(qa_module, dataset, num_samples=5):\n",
    "    errors = []\n",
    "    for example in dataset:\n",
    "        pred = qa_module(question=example.question, context=example.context)\n",
    "        if not evaluate_answer(example, pred):\n",
    "            errors.append((example, pred))\n",
    "    \n",
    "    print(f\"Total errors: {len(errors)}\")\n",
    "    print(\"\\nSample of errors:\")\n",
    "    for example, pred in errors[:num_samples]:\n",
    "        print(f\"Question: {example.question}\")\n",
    "        print(f\"True Answer: {example.answers}\")\n",
    "        print(f\"Predicted Answer: {pred.answer}\")\n",
    "        print()\n",
    "\n",
    "print(\"Error analysis for uncompiled QA module:\")\n",
    "perform_error_analysis(uncompiled_qa, evalset)\n",
    "\n",
    "print(\"\\nError analysis for compiled QA module:\")\n",
    "perform_error_analysis(compiled_qa, evalset)"
   ]
  },
  {
   "cell_type": "code",
   "execution_count": 48,
   "metadata": {},
   "outputs": [
    {
     "data": {
      "text/plain": [
       "Predict(StringSignature(context, question -> rationale, answer\n",
       "    instructions='Answer questions based on the given context.'\n",
       "    context = Field(annotation=str required=True json_schema_extra={'desc': 'The context to use for answering the question.', '__dspy_field_type': 'input', 'prefix': 'Context:'})\n",
       "    question = Field(annotation=str required=True json_schema_extra={'__dspy_field_type': 'input', 'prefix': 'Question:', 'desc': '${question}'})\n",
       "    rationale = Field(annotation=str required=True json_schema_extra={'prefix': \"Reasoning: Let's think step by step in order to\", 'desc': '${produce the answer}. We ...', '__dspy_field_type': 'output'})\n",
       "    answer = Field(annotation=str required=True json_schema_extra={'desc': 'The factual answer to the question.', '__dspy_field_type': 'output', 'prefix': 'Answer:'})\n",
       "))"
      ]
     },
     "execution_count": 48,
     "metadata": {},
     "output_type": "execute_result"
    }
   ],
   "source": [
    "compiled_qa.predictors()[0]"
   ]
  },
  {
   "cell_type": "code",
   "execution_count": 49,
   "metadata": {},
   "outputs": [
    {
     "name": "stdout",
     "output_type": "stream",
     "text": [
      "[('generate_answer', Predict(StringSignature(context, question -> rationale, answer\n",
      "    instructions='Answer questions based on the given context.'\n",
      "    context = Field(annotation=str required=True json_schema_extra={'desc': 'The context to use for answering the question.', '__dspy_field_type': 'input', 'prefix': 'Context:'})\n",
      "    question = Field(annotation=str required=True json_schema_extra={'__dspy_field_type': 'input', 'prefix': 'Question:', 'desc': '${question}'})\n",
      "    rationale = Field(annotation=str required=True json_schema_extra={'prefix': \"Reasoning: Let's think step by step in order to\", 'desc': '${produce the answer}. We ...', '__dspy_field_type': 'output'})\n",
      "    answer = Field(annotation=str required=True json_schema_extra={'desc': 'The factual answer to the question.', '__dspy_field_type': 'output', 'prefix': 'Answer:'})\n",
      ")))]\n"
     ]
    }
   ],
   "source": [
    "compiled_qa.save('compiled-qa.json')"
   ]
  },
  {
   "cell_type": "code",
   "execution_count": null,
   "metadata": {},
   "outputs": [],
   "source": []
  }
 ],
 "metadata": {
  "kernelspec": {
   "display_name": "baris",
   "language": "python",
   "name": "python3"
  },
  "language_info": {
   "codemirror_mode": {
    "name": "ipython",
    "version": 3
   },
   "file_extension": ".py",
   "mimetype": "text/x-python",
   "name": "python",
   "nbconvert_exporter": "python",
   "pygments_lexer": "ipython3",
   "version": "3.10.14"
  }
 },
 "nbformat": 4,
 "nbformat_minor": 2
}
