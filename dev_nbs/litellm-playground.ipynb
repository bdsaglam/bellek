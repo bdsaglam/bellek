{
 "cells": [
  {
   "cell_type": "code",
   "execution_count": 7,
   "metadata": {},
   "outputs": [
    {
     "data": {
      "text/plain": [
       "True"
      ]
     },
     "execution_count": 7,
     "metadata": {},
     "output_type": "execute_result"
    }
   ],
   "source": [
    "from dotenv import load_dotenv\n",
    "load_dotenv()"
   ]
  },
  {
   "cell_type": "code",
   "execution_count": 8,
   "metadata": {},
   "outputs": [],
   "source": [
    "from openai import OpenAI\n",
    "\n",
    "# set OPENAI_BASE_URL to LiteLLM server endpoint\n",
    "# set OPENAI_API_KEY to LiteLLM server API key\n",
    "client = OpenAI()"
   ]
  },
  {
   "cell_type": "code",
   "execution_count": 18,
   "metadata": {},
   "outputs": [],
   "source": [
    "from textwrap import wrap\n",
    "def test_model(model: str = \"gpt-4o-mini\"):\n",
    "    response = client.chat.completions.create(\n",
    "        model=model,\n",
    "        messages=[\n",
    "            {\"role\": \"user\", \"content\": \"Tell me a joke about water boilers.\"},\n",
    "        ],\n",
    "    )\n",
    "    print('\\n'.join(wrap(response.choices[0].message.content, width=80)))"
   ]
  },
  {
   "cell_type": "code",
   "execution_count": 19,
   "metadata": {},
   "outputs": [
    {
     "name": "stdout",
     "output_type": "stream",
     "text": [
      "Why did the water boiler break up with the radiator?  Because it found someone\n",
      "hotter!\n"
     ]
    }
   ],
   "source": [
    "test_model(\"gpt-4o-mini\")"
   ]
  },
  {
   "cell_type": "code",
   "execution_count": 20,
   "metadata": {},
   "outputs": [
    {
     "name": "stdout",
     "output_type": "stream",
     "text": [
      "Here's one:  Why did the water boiler go to therapy?  Because it was feeling a\n",
      "little \"steamed\"!  Hope that one \"perked\" you up!\n"
     ]
    }
   ],
   "source": [
    "test_model(\"llama3-70b-groq\")"
   ]
  },
  {
   "cell_type": "code",
   "execution_count": 21,
   "metadata": {},
   "outputs": [
    {
     "name": "stdout",
     "output_type": "stream",
     "text": [
      "Here's one:  Why did the water boiler go to therapy?  Because it was feeling a\n",
      "little \"steamed\" up!  Hope that made you smile!\n"
     ]
    }
   ],
   "source": [
    "test_model(\"llama3-70b-groq\")"
   ]
  },
  {
   "cell_type": "code",
   "execution_count": 22,
   "metadata": {},
   "outputs": [
    {
     "name": "stdout",
     "output_type": "stream",
     "text": [
      "Why did the water boiler go to therapy?  Because it was feeling a little\n",
      "\"steamed\"!\n"
     ]
    }
   ],
   "source": [
    "test_model(\"llama3-8b-togetherai\")"
   ]
  }
 ],
 "metadata": {
  "kernelspec": {
   "display_name": "baris",
   "language": "python",
   "name": "python3"
  },
  "language_info": {
   "codemirror_mode": {
    "name": "ipython",
    "version": 3
   },
   "file_extension": ".py",
   "mimetype": "text/x-python",
   "name": "python",
   "nbconvert_exporter": "python",
   "pygments_lexer": "ipython3",
   "version": "3.10.14"
  }
 },
 "nbformat": 4,
 "nbformat_minor": 2
}
