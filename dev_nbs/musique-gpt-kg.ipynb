{
  "cells": [
    {
      "cell_type": "code",
      "execution_count": 11,
      "metadata": {},
      "outputs": [
        {
          "data": {
            "text/plain": [
              "True"
            ]
          },
          "execution_count": 11,
          "metadata": {},
          "output_type": "execute_result"
        }
      ],
      "source": [
        "from dotenv import load_dotenv\n",
        "\n",
        "load_dotenv()"
      ]
    },
    {
      "cell_type": "code",
      "execution_count": 1,
      "metadata": {
        "id": "oooSUtbzz0jw"
      },
      "outputs": [],
      "source": [
        "import os\n",
        "import json\n",
        "from pathlib import Path\n",
        "\n",
        "import numpy as np\n",
        "import pandas as pd\n",
        "import torch"
      ]
    },
    {
      "cell_type": "code",
      "execution_count": 3,
      "metadata": {},
      "outputs": [],
      "source": [
        "DATA_DIR = Path('../data/musique/')"
      ]
    },
    {
      "cell_type": "markdown",
      "metadata": {
        "id": "EMQP7d770d-w"
      },
      "source": [
        "## Dataset"
      ]
    },
    {
      "cell_type": "code",
      "execution_count": 4,
      "metadata": {
        "id": "auQ5_5hutT1W"
      },
      "outputs": [
        {
          "data": {
            "text/plain": [
              "DatasetDict({\n",
              "    train: Dataset({\n",
              "        features: ['id', 'paragraphs', 'question', 'question_decomposition', 'answer', 'answerable'],\n",
              "        num_rows: 19938\n",
              "    })\n",
              "    validation: Dataset({\n",
              "        features: ['id', 'paragraphs', 'question', 'question_decomposition', 'answer', 'answerable'],\n",
              "        num_rows: 2417\n",
              "    })\n",
              "})"
            ]
          },
          "execution_count": 4,
          "metadata": {},
          "output_type": "execute_result"
        }
      ],
      "source": [
        "from datasets import load_dataset, DatasetDict\n",
        "\n",
        "raw_dsd = load_dataset('bdsaglam/musique', 'answerable')\n",
        "raw_dsd"
      ]
    },
    {
      "cell_type": "code",
      "execution_count": 5,
      "metadata": {
        "id": "CZXbA9ilSxKU"
      },
      "outputs": [
        {
          "data": {
            "text/plain": [
              "dict_keys(['id', 'paragraphs', 'question', 'question_decomposition', 'answer', 'answerable'])"
            ]
          },
          "execution_count": 5,
          "metadata": {},
          "output_type": "execute_result"
        }
      ],
      "source": [
        "raw_dsd['train'][0].keys()"
      ]
    },
    {
      "cell_type": "code",
      "execution_count": 6,
      "metadata": {
        "id": "g8ZYabVDTcav"
      },
      "outputs": [
        {
          "data": {
            "text/plain": [
              "dict_keys(['idx', 'title', 'paragraph_text', 'is_supporting'])"
            ]
          },
          "execution_count": 6,
          "metadata": {},
          "output_type": "execute_result"
        }
      ],
      "source": [
        "raw_dsd['train'][0]['paragraphs'].keys()"
      ]
    },
    {
      "cell_type": "code",
      "execution_count": 7,
      "metadata": {
        "id": "Ey7KrwjAwugQ"
      },
      "outputs": [
        {
          "data": {
            "text/plain": [
              "'Pakistan Super League (Urdu: پاکستان سپر لیگ \\u202c \\u200e; PSL) is a Twenty20 cricket league, founded in Lahore on 9 September 2015 with five teams and now comprises six teams. Instead of operating as an association of independently owned teams, the league is a single entity in which each franchise is owned and controlled by investors.'"
            ]
          },
          "execution_count": 7,
          "metadata": {},
          "output_type": "execute_result"
        }
      ],
      "source": [
        "raw_dsd['train'][0]['paragraphs']['paragraph_text'][0]"
      ]
    },
    {
      "cell_type": "code",
      "execution_count": 8,
      "metadata": {
        "id": "QI-p4Q0HUFkH"
      },
      "outputs": [
        {
          "data": {
            "text/plain": [
              "DatasetDict({\n",
              "    train: Dataset({\n",
              "        features: ['id', 'paragraphs', 'question', 'question_decomposition', 'answer', 'answerable'],\n",
              "        num_rows: 100\n",
              "    })\n",
              "    validation: Dataset({\n",
              "        features: ['id', 'paragraphs', 'question', 'question_decomposition', 'answer', 'answerable'],\n",
              "        num_rows: 100\n",
              "    })\n",
              "})"
            ]
          },
          "execution_count": 8,
          "metadata": {},
          "output_type": "execute_result"
        }
      ],
      "source": [
        "n = 100\n",
        "dsd = DatasetDict({\n",
        "    'train': raw_dsd['train'].select(range(n)),\n",
        "    'validation': raw_dsd['validation'].select(range(n)),\n",
        "})\n",
        "dsd"
      ]
    },
    {
      "cell_type": "code",
      "execution_count": 9,
      "metadata": {
        "id": "rRPG3gwMiFj3"
      },
      "outputs": [],
      "source": [
        "def present_example(example, show_context=False):\n",
        "    print(example['question'])\n",
        "    paragraphs = example['paragraphs']['paragraph_text']\n",
        "    for q, a, idx in zip(example['question_decomposition']['question'], example['question_decomposition']['answer'], example['question_decomposition']['paragraph_support_idx']):\n",
        "        print('  ', f'Q: {q}')\n",
        "        print('  ', f\"P.{idx}:\", paragraphs[idx])\n",
        "        print('  ', f'A: {a}')\n",
        "    if show_context:\n",
        "        print(\"\\nAll paragraphs\")\n",
        "        print('\\n'.join(paragraphs))"
      ]
    },
    {
      "cell_type": "markdown",
      "metadata": {},
      "source": [
        "### Question decomposition"
      ]
    },
    {
      "cell_type": "code",
      "execution_count": 10,
      "metadata": {},
      "outputs": [],
      "source": [
        "import langchain\n",
        "from langchain.chains import LLMChain\n",
        "from langchain.chat_models import ChatOpenAI\n",
        "from langchain.schema import (\n",
        "    AIMessage,\n",
        "    HumanMessage,\n",
        "    SystemMessage\n",
        ")\n",
        "from langchain.prompts import PromptTemplate\n",
        "from langchain.prompts.chat import (\n",
        "    ChatPromptTemplate,\n",
        "    SystemMessagePromptTemplate,\n",
        "    HumanMessagePromptTemplate,\n",
        ")\n",
        "\n",
        "from langchain.cache import InMemoryCache\n",
        "\n",
        "langchain.llm_cache = InMemoryCache()"
      ]
    },
    {
      "cell_type": "code",
      "execution_count": 43,
      "metadata": {},
      "outputs": [],
      "source": [
        "QD_PROMPT_TEMPLATE = \"\"\"\n",
        "Decompose the given question into 2 sub-questions such that when sub-questions are answered, the original question can be answered correctly.\n",
        "The second subquestion must refer to the answer of the first question by `#1` as in the examples below. Do not create open-ended sub-questions like \"Who is ...\" or \"How is ...\".\n",
        "\n",
        "Question: What year saw the creation of the region where the county of Hertfordshire is located?\n",
        "Sub-questions:\n",
        "1. In which state is Hertfordshire located?\n",
        "2. When was #1 birthed?\n",
        "\n",
        "Question: When was the institute that owned The Collegian founded?\n",
        "Sub-questions:\n",
        "1. Which institute does own The Collegian?\n",
        "2. When #1 founded?\n",
        "\n",
        "\"\"\".strip()\n",
        "\n",
        "\n",
        "def parse_sub_questions(output: str):\n",
        "    flag = False\n",
        "    for line in output.splitlines():\n",
        "        if line.lower().startswith('sub-questions'):\n",
        "            flag = True\n",
        "            continue\n",
        "        if flag:\n",
        "            yield line.split('.', 1)[-1].strip()\n",
        "\n",
        "\n",
        "def make_question_decomposer(model: str = 'gpt-3.5-turbo', temperature: float = 0):\n",
        "    system_message_prompt = SystemMessagePromptTemplate.from_template(QD_PROMPT_TEMPLATE)\n",
        "    human_message_prompt = HumanMessagePromptTemplate.from_template(\"Question: {question}\")\n",
        "    chat_prompt = ChatPromptTemplate.from_messages([system_message_prompt, human_message_prompt])\n",
        "    llm = ChatOpenAI(temperature=temperature, model=model)\n",
        "    chain = LLMChain(llm=llm, prompt=chat_prompt)\n",
        "    def func(question):\n",
        "        out = chain.run(question=question)\n",
        "        return list(parse_sub_questions(out))\n",
        "    return func\n",
        "\n",
        "qdecomposer = make_question_decomposer()"
      ]
    },
    {
      "cell_type": "markdown",
      "metadata": {
        "id": "xmlpfWCpTeBb"
      },
      "source": [
        "### Question answering with KG"
      ]
    },
    {
      "cell_type": "code",
      "execution_count": 44,
      "metadata": {},
      "outputs": [],
      "source": [
        "from llama_index import Document\n",
        "\n",
        "def make_docs(example, only_supporting=False):\n",
        "    ps = example['paragraphs']\n",
        "    for idx, title, body, is_supporting in zip(ps['idx'], ps['title'], ps['paragraph_text'], ps['is_supporting']):\n",
        "        if only_supporting and not is_supporting:\n",
        "            continue\n",
        "        text = f\"# {title}\\n{body}\"\n",
        "        yield Document(text=text, metadata=dict(idx=idx, is_supporting=is_supporting))"
      ]
    },
    {
      "cell_type": "code",
      "execution_count": 45,
      "metadata": {},
      "outputs": [
        {
          "name": "stdout",
          "output_type": "stream",
          "text": [
            "INFO:sentence_transformers.SentenceTransformer:Load pretrained SentenceTransformer: sentence-transformers/all-mpnet-base-v2\n",
            "INFO:sentence_transformers.SentenceTransformer:Use pytorch device: cpu\n"
          ]
        }
      ],
      "source": [
        "import logging\n",
        "import sys\n",
        "from langchain.embeddings import HuggingFaceEmbeddings\n",
        "from llama_index.llms import OpenAI\n",
        "from llama_index import ServiceContext\n",
        "from llama_index import LangchainEmbedding\n",
        "\n",
        "logging.basicConfig(stream=sys.stdout, level=logging.INFO)\n",
        "\n",
        "# define LLM\n",
        "embedding_llm = LangchainEmbedding(\n",
        "    HuggingFaceEmbeddings(),\n",
        "    embed_batch_size=1,\n",
        ")\n",
        "llm = OpenAI(temperature=0, model=\"gpt-3.5-turbo\")\n",
        "service_context = ServiceContext.from_defaults(llm=llm, chunk_size=512, embed_model=embedding_llm)"
      ]
    },
    {
      "cell_type": "code",
      "execution_count": 46,
      "metadata": {},
      "outputs": [],
      "source": [
        "import kuzu\n",
        "\n",
        "from llama_index.graph_stores import KuzuGraphStore\n",
        "from llama_index import KnowledgeGraphIndex\n",
        "from llama_index.llms import OpenAI\n",
        "from llama_index.storage.storage_context import StorageContext\n",
        "from IPython.display import Markdown, display"
      ]
    },
    {
      "cell_type": "code",
      "execution_count": 179,
      "metadata": {},
      "outputs": [],
      "source": [
        "SAMPLE_IDX = 18\n",
        "example = dsd['train'][SAMPLE_IDX]"
      ]
    },
    {
      "cell_type": "code",
      "execution_count": 180,
      "metadata": {},
      "outputs": [
        {
          "name": "stdout",
          "output_type": "stream",
          "text": [
            "When did the country formerly known as Zaire become independent?\n",
            "   Q: zaire is the former name of which african nation\n",
            "   P.14: Zaire (/ zɑːˈɪər /), officially the Republic of Zaire (French: République du Zaïre; French pronunciation: ​ (za. iʁ)), was the name for the Democratic Republic of the Congo that existed between 1971 and 1997 in Central Africa. The country was a one - party totalitarian dictatorship, run by Mobutu Sese Seko and his ruling Popular Movement of the Revolution party. Zaire was established following Mobutu's seizure of power in a military coup in 1965, following five years of political upheaval following independence known as the Congo Crisis. Zaire had a strongly centralist constitution and foreign assets were nationalised. The period is sometimes referred to as the Second Congolese Republic.\n",
            "   A: the Democratic Republic of the Congo\n",
            "   Q: when did #1 become independent\n",
            "   P.8: After an uprising by the Congolese people, Belgium surrendered to the independence of the Congo in 1960. However, the Congo remained unstable because tribal leaders had more power than the central government. Prime Minister Patrice Lumumba tried to restore order with the aid of the Soviet Union as part of the Cold War, causing the United States to support a coup led by Colonel Joseph Mobutu in 1965. Mobutu quickly seized complete power of the Congo and renamed the country Zaire. He sought to Africanize the country, changing his own name to Mobutu Sese Seko, and demanded that African citizens change their Western names to traditional African names. Mobutu sought to repress any opposition to his rule, in which he successfully did throughout the 1980s. However, with his regime weakened in the 1990s, Mobutu was forced to agree to a power - sharing government with the opposition party. Mobutu remained the head of state and promised elections within the next two years that never took place.\n",
            "   A: 1960\n",
            "\n",
            "All paragraphs\n",
            "Beginning around 2005, drug traffickers based in Latin America began to use Guinea-Bissau, along with several neighboring West African nations, as a transshipment point to Europe for cocaine. The nation was described by a United Nations official as being at risk for becoming a \"narco-state\". The government and the military have done little to stop drug trafficking, which increased after the 2012 coup d'état.\n",
            "On 9 July 2011 South Sudan became the 54th independent country in Africa and since 14 July 2011, South Sudan is the 193rd member of the United Nations. On 27 July 2011 South Sudan became the 54th country to join the African Union.\n",
            "Yannick Nyanga (born 19 December 1983 in Kinshasa, Zaire) is a professional rugby union player who plays flanker for Racing 92 and France, and is also known for his long tenure at Toulouse. He was a part of the victorious French team of the 2006 Six Nations Championship.\n",
            "The Caine Prize for African Writing is an annual literary award for the best original short story by an African writer, whether in Africa or elsewhere, published in the English language. The £10,000 prize was founded in the United Kingdom in 2000, and was named in memory of Sir Michael Harris Caine, former Chairman of Booker Group plc. Because of the Caine Prize's connection to the Booker Prize, the award is sometimes called the \"African Booker\".\n",
            "The flag of Kenya (Swahili: Bendera ya Kenya) is a tricolour of black, red, and green with two white edges imposed with an red, white and black Maasai shield and two crossed spears. The flag is based on that of Kenya African National Union and was officially adopted on 12 December 1963 after Kenya's independence.\n",
            "Name Elected Left office Party Dipico! Manne Dipico 000000001994 - 05 - 07 - 0000 7 May 1994 30 April 2004 African National Congress Peters! Elizabeth Dipuo Peters 000000002004 - 04 - 30 - 0000 30 April 2004 6 May 2009 African National Congress Jenkins! Hazel Jenkins 000000002009 - 05 - 06 - 0000 6 May 2009 26 February 2012 African National Congress Cjiekella! Grizelda Cjiekella (acting) 000000002012 - 02 - 26 - 0000 26 February 2012 2 April 2013 African National Congress Lucas! Sylvia Lucas (acting until 23 May) 000000002013 - 04 - 02 - 0000 2 April 2013 incumbent African National Congress\n",
            "Namibia follows a largely independent foreign policy, with persisting affiliations with states that aided the independence struggle, including Cuba. With a small army and a fragile economy, the Namibian Government's principal foreign policy concern is developing strengthened ties within the Southern African region. A dynamic member of the Southern African Development Community, Namibia is a vocal advocate for greater regional integration. Namibia became the 160th member of the UN on 23 April 1990. On its independence it became the fiftieth member of the Commonwealth of Nations.\n",
            "The State Security Council (SSC) was formed in South Africa in 1972 to advise the government on the country's national policy and strategy concerning security, its implementation and determining security priorities. Its role changed through the prime ministerships of John Vorster and PW Botha (later State President), being little used during the formers and during the latter’s, controlling all aspects of South African public's lives by becoming the Cabinet. During those years he would implement a Total National Strategy, Total Counter-revolutionary Strategy and finally in the mid-eighties, established the National Security Management System (NSMS). After FW de Klerk's rise to the role of State President, the Cabinet would eventually regain control of the management of the country. After the 1994 elections a committee called National Intelligence Co-ordinating Committee was formed to advise the South African president on security and intelligence as well as its implementation.\n",
            "After an uprising by the Congolese people, Belgium surrendered to the independence of the Congo in 1960. However, the Congo remained unstable because tribal leaders had more power than the central government. Prime Minister Patrice Lumumba tried to restore order with the aid of the Soviet Union as part of the Cold War, causing the United States to support a coup led by Colonel Joseph Mobutu in 1965. Mobutu quickly seized complete power of the Congo and renamed the country Zaire. He sought to Africanize the country, changing his own name to Mobutu Sese Seko, and demanded that African citizens change their Western names to traditional African names. Mobutu sought to repress any opposition to his rule, in which he successfully did throughout the 1980s. However, with his regime weakened in the 1990s, Mobutu was forced to agree to a power - sharing government with the opposition party. Mobutu remained the head of state and promised elections within the next two years that never took place.\n",
            "David Hardt is an American Politician from the State of Texas. He is the former President of the Young Democrats of America (2007–2009), a former member of the Democratic National Committee and Executive Committee of the DNC. He was elected as the President of the Dallas County Young Democrats in 2005, which during his tenure grew to become the second largest chapter of Young Democrats in the Nation.\n",
            "John Moeti (born 30 August 1967) is a South African former footballer who played at both professional and international levels as a midfielder. Moeti played club football for Orlando Pirates and SuperSport United; he also earned 29 caps for the South African national side between 1995 and 1999, scoring one goal. Moeti won the CAF Champions League in 1995 when Pirates defeated ASEC Mimosas of Ivory Coast in the final. He was part of the squad that won the 1996 African Cup of Nations.\n",
            "Federal Republic of Yugoslavia, formed as a joint state by only Montenegro and Serbia after the breakup of Yugoslavia, from 1992–2002 (due to UN ban allowed to compete as Independent Olympic Participants at the 1992 Summer Olympics and was not allowed to compete at 1994 Winter Olympics)Two of the successor nations (Croatia and Slovenia) began to compete as independent teams at the Olympics starting at the 1992 Winter Games and Bosnia and Herzegovina at the 1992 Summer Games and as of the 2008 Summer Olympics, all six successor nations, former socialist republics, have participated independently. Kosovo, a former autonomous province, made its Olympic debut as an independent national team at the 2016 Summer Olympics.\n",
            "The George Lewis Seaton House, located at 404 South Royal Street in Alexandria, Virginia and listed in the National Register of Historic Places, is the former home of George Lewis Seaton, a nineteenth-century African-American civic and political leader.\n",
            "Robert Garth Pettitt (14 August 1932—29 May 1992) was a British civil servant in the Foreign and Commonwealth Office, and subsequently worked at the Overseas Development Authority. His work was vital for the process of becoming independent for a number of former British territories in the Pacific.\n",
            "Zaire (/ zɑːˈɪər /), officially the Republic of Zaire (French: République du Zaïre; French pronunciation: ​ (za. iʁ)), was the name for the Democratic Republic of the Congo that existed between 1971 and 1997 in Central Africa. The country was a one - party totalitarian dictatorship, run by Mobutu Sese Seko and his ruling Popular Movement of the Revolution party. Zaire was established following Mobutu's seizure of power in a military coup in 1965, following five years of political upheaval following independence known as the Congo Crisis. Zaire had a strongly centralist constitution and foreign assets were nationalised. The period is sometimes referred to as the Second Congolese Republic.\n",
            "Jirès Kembo Ekoko (born 8 January 1988) is a French Congolese footballer who plays as a striker for Turkish club Bursaspor. His father is Kembo Uba Kembo, who played for DR Congo (formerly Zaire) national team in the 1974 FIFA World Cup. Born in the Democratic Republic of the Congo, Kembo Ekoko is a former youth international for France.\n",
            "Ahmed Faras () (born 7 December 1946 in Mohammedia) is a former Moroccan striker. He was named African Footballer of the Year in 1975, and spent all of his playing career with his native Chabab Mohammédia.\n",
            "The 2010 FIFA World Cup was the 19th FIFA World Cup, the world championship for men's national association football teams. It took place in South Africa from 11 June to 11 July 2010. The bidding process for hosting the tournament finals was open only to African nations. In 2004, the international football federation, FIFA, selected South Africa over Egypt and Morocco to become the first African nation to host the finals.\n",
            "The South African Defence Force (SADF) comprised the South African armed forces from 1957 until 1994. Shortly before the state reconstituted itself as a republic in 1961, the former Union Defence Force was officially succeeded by the SADF, which was established by the Defence Act (No. 44) of 1957. The SADF, in turn, was superseded by the South African National Defence Force in 1994.\n",
            "Tshibumba Kanda-Matulu (1947 in Élisabethville, Belgian Congo – 1981 in Zaire), commonly abbreviated to TKM, was a noted artist and painter from Zaire (the modern-day Democratic Republic of the Congo). TKM worked within the style termed \"African popular art\" or \"genre painting\" and is known for his prolific paintings depicting key moments of Congolese history as they appeared in folk memory. TKM disappeared in 1981 and is believed to have been killed in rioting.\n"
          ]
        }
      ],
      "source": [
        "SAMPLE_DIR = DATA_DIR / f\"sample-{SAMPLE_IDX}\"\n",
        "SAMPLE_DIR.mkdir(exist_ok=True, parents=True)\n",
        "with open(SAMPLE_DIR / \"example.json\", 'w') as f: \n",
        "    json.dump(example, f, ensure_ascii=False, indent=2)\n",
        "\n",
        "present_example(example, show_context=True)"
      ]
    },
    {
      "cell_type": "code",
      "execution_count": 181,
      "metadata": {},
      "outputs": [
        {
          "name": "stdout",
          "output_type": "stream",
          "text": [
            "Groundtruth\n",
            "['zaire is the former name of which african nation', 'when did #1 become independent']\n",
            "\n",
            "Prediction\n",
            "When did the country formerly known as Zaire become independent?\n",
            "  What is the current name of the country formerly known as Zaire?\n",
            "  When did #1 gain independence?\n"
          ]
        }
      ],
      "source": [
        "subquestions = qdecomposer(question=example['question'])\n",
        "\n",
        "decomp = {\n",
        "    'question': example['question'],\n",
        "    'subquestions': subquestions,\n",
        "}\n",
        "with open(SAMPLE_DIR / 'question-decomp.json', 'w') as f: \n",
        "    json.dump(decomp, f, ensure_ascii=False, indent=2)\n",
        "\n",
        "\n",
        "print(\"Groundtruth\")\n",
        "print(example['question_decomposition']['question'])\n",
        "print()\n",
        "print(\"Prediction\")\n",
        "print(example['question'])\n",
        "for q in subquestions:\n",
        "    print('  ' + q)\n"
      ]
    },
    {
      "cell_type": "code",
      "execution_count": 182,
      "metadata": {},
      "outputs": [],
      "source": [
        "# Hand-crafted\n",
        "\n",
        "KG_TRIPLET_EXTRACT_TMPL = \"\"\"\n",
        "Some text is provided below. Given the text, extract up to {max_knowledge_triplets}  knowledge triplets in the form of (subject, predicate, object) that might be relevant to the following question.\n",
        "Prioritize triplets that:\n",
        "1. Offer temporal information like 'founded in,' 'created on,' 'abolished in,' etc.\n",
        "2. Provide spatial details such as 'located in,' 'borders,' 'from,' etc.\n",
        "3. Show ownership or affiliation via terms like 'owned by,' 'affiliated with,' 'publisher of,' etc.\n",
        "4. Offer identification or categorization like 'is,' 'are,' 'was,' etc.\n",
        "Avoid stopwords.\n",
        "---------------------\n",
        "Example:\n",
        "Question: When was the institute that owned The Collegian founded?\n",
        "Text: The Collegian is the bi-weekly official student publication of Houston Baptist University in Houston, Texas.\n",
        "Triplets:\n",
        "(The Collegian, is, bi-weekly official student publication)\n",
        "(The Collegian, owned by, Houston Baptist University)\n",
        "(Houston Baptist University, in, Houston)\n",
        "(Houston, in, Texas)\n",
        "---------------------\n",
        "Question: {question}\n",
        "Text: {text}\n",
        "Triplets:\n",
        "\"\"\".strip()"
      ]
    },
    {
      "cell_type": "code",
      "execution_count": 183,
      "metadata": {},
      "outputs": [
        {
          "name": "stdout",
          "output_type": "stream",
          "text": [
            "Some text is provided below. Given the text, extract up to {max_knowledge_triplets}  knowledge triplets in the form of (subject, predicate, object) that might be relevant to the following question.\n",
            "Prioritize triplets that:\n",
            "1. Offer temporal information like 'founded in,' 'created on,' 'abolished in,' etc.\n",
            "2. Provide spatial details such as 'located in,' 'borders,' 'from,' etc.\n",
            "3. Show ownership or affiliation via terms like 'owned by,' 'affiliated with,' 'publisher of,' etc.\n",
            "4. Offer identification or categorization like 'is,' 'are,' 'was,' etc.\n",
            "Avoid stopwords.\n",
            "---------------------\n",
            "Example:\n",
            "Question: When was the institute that owned The Collegian founded?\n",
            "Text: The Collegian is the bi-weekly official student publication of Houston Baptist University in Houston, Texas.\n",
            "Triplets:\n",
            "(The Collegian, is, bi-weekly official student publication)\n",
            "(The Collegian, owned by, Houston Baptist University)\n",
            "(Houston Baptist University, in, Houston)\n",
            "(Houston, in, Texas)\n",
            "---------------------\n",
            "Question: {question}\n",
            "Text: {text}\n",
            "Triplets:\n"
          ]
        }
      ],
      "source": [
        "print(KG_TRIPLET_EXTRACT_TMPL)"
      ]
    },
    {
      "cell_type": "code",
      "execution_count": 184,
      "metadata": {},
      "outputs": [],
      "source": [
        "from llama_index.prompts.base import Prompt\n",
        "from llama_index.prompts.prompt_type import PromptType\n",
        "\n",
        "KG_TRIPLET_EXTRACT_PROMPT = Prompt(\n",
        "    KG_TRIPLET_EXTRACT_TMPL, \n",
        "    prompt_type=PromptType.KNOWLEDGE_TRIPLET_EXTRACT,\n",
        ")\n",
        "\n",
        "def make_kg_extract_prompt(question: str):\n",
        "    if \"{question}\" in KG_TRIPLET_EXTRACT_TMPL:\n",
        "        return KG_TRIPLET_EXTRACT_PROMPT.partial_format(question=question)\n",
        "    return KG_TRIPLET_EXTRACT_PROMPT"
      ]
    },
    {
      "cell_type": "code",
      "execution_count": 185,
      "metadata": {},
      "outputs": [
        {
          "name": "stdout",
          "output_type": "stream",
          "text": [
            "Building the knowledge graph for the sample...\n"
          ]
        },
        {
          "data": {
            "application/vnd.jupyter.widget-view+json": {
              "model_id": "1fb2c1e7bb9b48279e122c21eb4afe28",
              "version_major": 2,
              "version_minor": 0
            },
            "text/plain": [
              "Batches:   0%|          | 0/1 [00:00<?, ?it/s]"
            ]
          },
          "metadata": {},
          "output_type": "display_data"
        },
        {
          "data": {
            "application/vnd.jupyter.widget-view+json": {
              "model_id": "c85b013763394340ba3c61a7f88e5f80",
              "version_major": 2,
              "version_minor": 0
            },
            "text/plain": [
              "Batches:   0%|          | 0/1 [00:00<?, ?it/s]"
            ]
          },
          "metadata": {},
          "output_type": "display_data"
        },
        {
          "data": {
            "application/vnd.jupyter.widget-view+json": {
              "model_id": "b43f3d51eefc4f96a3752d6d32f9fc47",
              "version_major": 2,
              "version_minor": 0
            },
            "text/plain": [
              "Batches:   0%|          | 0/1 [00:00<?, ?it/s]"
            ]
          },
          "metadata": {},
          "output_type": "display_data"
        },
        {
          "data": {
            "application/vnd.jupyter.widget-view+json": {
              "model_id": "33cfd87d3ccc42f2a550ef71c4193ef8",
              "version_major": 2,
              "version_minor": 0
            },
            "text/plain": [
              "Batches:   0%|          | 0/1 [00:00<?, ?it/s]"
            ]
          },
          "metadata": {},
          "output_type": "display_data"
        },
        {
          "data": {
            "application/vnd.jupyter.widget-view+json": {
              "model_id": "ab28bbbfb08c4271b1787073b1b637a4",
              "version_major": 2,
              "version_minor": 0
            },
            "text/plain": [
              "Batches:   0%|          | 0/1 [00:00<?, ?it/s]"
            ]
          },
          "metadata": {},
          "output_type": "display_data"
        },
        {
          "data": {
            "application/vnd.jupyter.widget-view+json": {
              "model_id": "ea79213336a440669dd9067ae28146f5",
              "version_major": 2,
              "version_minor": 0
            },
            "text/plain": [
              "Batches:   0%|          | 0/1 [00:00<?, ?it/s]"
            ]
          },
          "metadata": {},
          "output_type": "display_data"
        },
        {
          "data": {
            "application/vnd.jupyter.widget-view+json": {
              "model_id": "1143a0e6c3234efc935785389750f7b9",
              "version_major": 2,
              "version_minor": 0
            },
            "text/plain": [
              "Batches:   0%|          | 0/1 [00:00<?, ?it/s]"
            ]
          },
          "metadata": {},
          "output_type": "display_data"
        },
        {
          "data": {
            "application/vnd.jupyter.widget-view+json": {
              "model_id": "27685b5039c54cd2940b650fafac53ba",
              "version_major": 2,
              "version_minor": 0
            },
            "text/plain": [
              "Batches:   0%|          | 0/1 [00:00<?, ?it/s]"
            ]
          },
          "metadata": {},
          "output_type": "display_data"
        },
        {
          "data": {
            "application/vnd.jupyter.widget-view+json": {
              "model_id": "c47d3f2cc7dc4577ab502e46534b0023",
              "version_major": 2,
              "version_minor": 0
            },
            "text/plain": [
              "Batches:   0%|          | 0/1 [00:00<?, ?it/s]"
            ]
          },
          "metadata": {},
          "output_type": "display_data"
        },
        {
          "data": {
            "application/vnd.jupyter.widget-view+json": {
              "model_id": "4acc40662c944b57ad93dfcfe5832d03",
              "version_major": 2,
              "version_minor": 0
            },
            "text/plain": [
              "Batches:   0%|          | 0/1 [00:00<?, ?it/s]"
            ]
          },
          "metadata": {},
          "output_type": "display_data"
        },
        {
          "data": {
            "application/vnd.jupyter.widget-view+json": {
              "model_id": "d472e5a3221f44f1b0d734ef923d0d33",
              "version_major": 2,
              "version_minor": 0
            },
            "text/plain": [
              "Batches:   0%|          | 0/1 [00:00<?, ?it/s]"
            ]
          },
          "metadata": {},
          "output_type": "display_data"
        },
        {
          "data": {
            "application/vnd.jupyter.widget-view+json": {
              "model_id": "6268a408af6f49b7a0bf041947cbf803",
              "version_major": 2,
              "version_minor": 0
            },
            "text/plain": [
              "Batches:   0%|          | 0/1 [00:00<?, ?it/s]"
            ]
          },
          "metadata": {},
          "output_type": "display_data"
        },
        {
          "data": {
            "application/vnd.jupyter.widget-view+json": {
              "model_id": "48f4dc5257d14b1abaf85ace2cc8be2e",
              "version_major": 2,
              "version_minor": 0
            },
            "text/plain": [
              "Batches:   0%|          | 0/1 [00:00<?, ?it/s]"
            ]
          },
          "metadata": {},
          "output_type": "display_data"
        },
        {
          "data": {
            "application/vnd.jupyter.widget-view+json": {
              "model_id": "e4ed38446b964d26a3f89fe05935c65b",
              "version_major": 2,
              "version_minor": 0
            },
            "text/plain": [
              "Batches:   0%|          | 0/1 [00:00<?, ?it/s]"
            ]
          },
          "metadata": {},
          "output_type": "display_data"
        },
        {
          "data": {
            "application/vnd.jupyter.widget-view+json": {
              "model_id": "aa4aa6b048264e48b7bc5aa738af0615",
              "version_major": 2,
              "version_minor": 0
            },
            "text/plain": [
              "Batches:   0%|          | 0/1 [00:00<?, ?it/s]"
            ]
          },
          "metadata": {},
          "output_type": "display_data"
        },
        {
          "data": {
            "application/vnd.jupyter.widget-view+json": {
              "model_id": "783052ac57ca487b8b4d510d1f6d89f9",
              "version_major": 2,
              "version_minor": 0
            },
            "text/plain": [
              "Batches:   0%|          | 0/1 [00:00<?, ?it/s]"
            ]
          },
          "metadata": {},
          "output_type": "display_data"
        },
        {
          "data": {
            "application/vnd.jupyter.widget-view+json": {
              "model_id": "a4bca428eef34953a7b53f7d06911043",
              "version_major": 2,
              "version_minor": 0
            },
            "text/plain": [
              "Batches:   0%|          | 0/1 [00:00<?, ?it/s]"
            ]
          },
          "metadata": {},
          "output_type": "display_data"
        },
        {
          "data": {
            "application/vnd.jupyter.widget-view+json": {
              "model_id": "40b8bbffdde9405f977774eb7ac07369",
              "version_major": 2,
              "version_minor": 0
            },
            "text/plain": [
              "Batches:   0%|          | 0/1 [00:00<?, ?it/s]"
            ]
          },
          "metadata": {},
          "output_type": "display_data"
        },
        {
          "data": {
            "application/vnd.jupyter.widget-view+json": {
              "model_id": "605befd6998b457f83f3cbe8bc7b337b",
              "version_major": 2,
              "version_minor": 0
            },
            "text/plain": [
              "Batches:   0%|          | 0/1 [00:00<?, ?it/s]"
            ]
          },
          "metadata": {},
          "output_type": "display_data"
        }
      ],
      "source": [
        "kg_db_path = SAMPLE_DIR / \"kg\"\n",
        "db = kuzu.Database(str(kg_db_path))\n",
        "graph_store = KuzuGraphStore(db)\n",
        "storage_context = StorageContext.from_defaults(graph_store=graph_store)\n",
        "documents = list(make_docs(example, only_supporting=True))\n",
        "if False and kg_db_path.exists():\n",
        "    print(\"Loading the knowledge graph for the sample...\")\n",
        "    index = KnowledgeGraphIndex(\n",
        "        storage_context=storage_context,\n",
        "        service_context=service_context,\n",
        "        include_embeddings=True,\n",
        "    )\n",
        "else:\n",
        "    print(\"Building the knowledge graph for the sample...\")\n",
        "    index = KnowledgeGraphIndex.from_documents(\n",
        "        documents,\n",
        "        max_triplets_per_chunk=10,\n",
        "        storage_context=storage_context,\n",
        "        service_context=service_context,\n",
        "        include_embeddings=True,\n",
        "        kg_triple_extract_template=make_kg_extract_prompt(example['question'])\n",
        "    )\n"
      ]
    },
    {
      "cell_type": "code",
      "execution_count": 186,
      "metadata": {},
      "outputs": [],
      "source": [
        "from pyvis.network import Network\n",
        "\n",
        "g = index.get_networkx_graph()\n",
        "net = Network(notebook=True, cdn_resources=\"in_line\", directed=True)\n",
        "net.from_nx(g)\n",
        "net.save_graph(str(SAMPLE_DIR / f\"kg.html\"))"
      ]
    },
    {
      "cell_type": "code",
      "execution_count": 187,
      "metadata": {},
      "outputs": [
        {
          "name": "stdout",
          "output_type": "stream",
          "text": [
            "\n",
            "Context information is below.\n",
            "---------------------\n",
            "{context_str}\n",
            "---------------------\n",
            "Given the context information and not prior knowledge, answer the question with one phrase, i.e. it shouldn't be a sentence. If the answer is not in the context, output N/A.\n",
            "Question: {query_str}\n",
            "Answer in one phrase: \n",
            "\n"
          ]
        }
      ],
      "source": [
        "query_engine = index.as_query_engine(include_text=False, response_mode=\"simple_summarize\")\n",
        "\n",
        "print(query_engine._response_synthesizer._text_qa_template.prompt.template)\n",
        "query_engine._response_synthesizer._text_qa_template.prompt.template = \"\"\"\n",
        "Context information is below.\n",
        "---------------------\n",
        "{context_str}\n",
        "---------------------\n",
        "Given the context information and not prior knowledge, answer the question with one phrase, i.e. it shouldn't be a sentence. If the answer is not in the context, output N/A.\n",
        "Question: {query_str}\n",
        "Answer in one phrase: \n",
        "\"\"\""
      ]
    },
    {
      "cell_type": "code",
      "execution_count": 188,
      "metadata": {},
      "outputs": [
        {
          "name": "stdout",
          "output_type": "stream",
          "text": [
            "When did the country formerly known as Zaire become independent?\n",
            ">  What is the current name of the country formerly known as Zaire?\n",
            "INFO:llama_index.indices.knowledge_graph.retriever:> Starting query: What is the current name of the country formerly known as Zaire?\n",
            "INFO:llama_index.indices.knowledge_graph.retriever:> Query keywords: ['formerly known', 'current name', 'country', 'name', 'current', 'Zaire', 'formerly', 'known']\n"
          ]
        },
        {
          "data": {
            "application/vnd.jupyter.widget-view+json": {
              "model_id": "e955297897cd4d7887f2bd3d632d45b3",
              "version_major": 2,
              "version_minor": 0
            },
            "text/plain": [
              "Batches:   0%|          | 0/1 [00:00<?, ?it/s]"
            ]
          },
          "metadata": {},
          "output_type": "display_data"
        },
        {
          "name": "stdout",
          "output_type": "stream",
          "text": [
            "INFO:llama_index.indices.knowledge_graph.retriever:> Extracted relationships: The following are knowledge sequence in max depth 2 in the form of `subject [predicate, object, predicate_next_hop, object_next_hop ...]`\n",
            "Zaire ['run by', 'Mobutu Sese Seko', 'leader of', 'Popular Movement of the Revolution party']\n",
            "Zaire ['renamed to', 'Zaire', 'sometimes referred to as', 'Second Congolese Republic']\n",
            "Zaire ['renamed to', 'Zaire', 'established following', \"Mobutu's seizure of power\"]\n",
            "Zaire ['following', 'five years of political upheaval', 'known as', 'Congo Crisis']\n",
            "Zaire ['renamed to', 'Zaire', 'following', 'five years of political upheaval']\n",
            "Zaire ['established following', \"Mobutu's seizure of power\", 'in', '1965']\n",
            "Zaire ['renamed to', 'Zaire', 'officially known as', 'Republic of Zaire']\n",
            "Zaire ['renamed to', 'Zaire', 'existed between', '1971 and 1997']\n",
            "Zaire ['sometimes referred to as', 'Second Congolese Republic']\n",
            "Zaire ['established following', \"Mobutu's seizure of power\"]\n",
            "Zaire ['renamed to', 'Zaire', 'run by', 'Mobutu Sese Seko']\n",
            "Zaire ['following', 'five years of political upheaval']\n",
            "Zaire ['renamed to', 'Zaire', 'in', 'Central Africa']\n",
            "('Zaire', 'officially known as', 'Republic of Zaire')\n",
            "Zaire ['renamed to', 'Zaire', 'renamed to', 'Zaire']\n",
            "Zaire ['renamed to', 'Zaire', 'renamed', 'country']\n",
            "Zaire ['officially known as', 'Republic of Zaire']\n",
            "Zaire ['existed between', '1971 and 1997']\n",
            "Zaire ['run by', 'Mobutu Sese Seko']\n",
            "('Zaire', 'renamed', 'country')\n",
            "Zaire ['in', 'Central Africa']\n",
            "Zaire ['renamed to', 'Zaire']\n",
            "Zaire ['renamed', 'country']\n",
            "<  The current name of the country formerly known as Zaire is not provided in the given context. I'm sorry, but I can't answer the question based on the provided information.\n"
          ]
        }
      ],
      "source": [
        "print(example['question'])\n",
        "hop1_question = subquestions[0]\n",
        "print('> ', hop1_question)\n",
        "hop1_answer = query_engine.query(hop1_question).response\n",
        "print('< ', hop1_answer)"
      ]
    },
    {
      "cell_type": "code",
      "execution_count": 189,
      "metadata": {},
      "outputs": [
        {
          "name": "stdout",
          "output_type": "stream",
          "text": [
            ">  When did The current name of the country formerly known as Zaire is not provided in the given context. I'm sorry, but I can't answer the question based on the provided information. gain independence?\n",
            "INFO:llama_index.indices.knowledge_graph.retriever:> Starting query: When did The current name of the country formerly known as Zaire is not provided in the given context. I'm sorry, but I can't answer the question based on the provided information. gain independence?\n",
            "INFO:llama_index.indices.knowledge_graph.retriever:> Query keywords: ['current name', 'independence', 'name', 'country', 'formerly', 'formerly known', 'current', 'Zaire', 'known']\n"
          ]
        },
        {
          "data": {
            "application/vnd.jupyter.widget-view+json": {
              "model_id": "d8a187b889da41b2867b2009ef0fca97",
              "version_major": 2,
              "version_minor": 0
            },
            "text/plain": [
              "Batches:   0%|          | 0/1 [00:00<?, ?it/s]"
            ]
          },
          "metadata": {},
          "output_type": "display_data"
        },
        {
          "name": "stdout",
          "output_type": "stream",
          "text": [
            "INFO:llama_index.indices.knowledge_graph.retriever:> Extracted relationships: The following are knowledge sequence in max depth 2 in the form of `subject [predicate, object, predicate_next_hop, object_next_hop ...]`\n",
            "Zaire ['run by', 'Mobutu Sese Seko', 'leader of', 'Popular Movement of the Revolution party']\n",
            "Zaire ['renamed to', 'Zaire', 'sometimes referred to as', 'Second Congolese Republic']\n",
            "Zaire ['renamed to', 'Zaire', 'established following', \"Mobutu's seizure of power\"]\n",
            "Zaire ['following', 'five years of political upheaval', 'known as', 'Congo Crisis']\n",
            "Zaire ['renamed to', 'Zaire', 'following', 'five years of political upheaval']\n",
            "Zaire ['established following', \"Mobutu's seizure of power\", 'in', '1965']\n",
            "Zaire ['renamed to', 'Zaire', 'officially known as', 'Republic of Zaire']\n",
            "Zaire ['renamed to', 'Zaire', 'existed between', '1971 and 1997']\n",
            "Zaire ['sometimes referred to as', 'Second Congolese Republic']\n",
            "Zaire ['established following', \"Mobutu's seizure of power\"]\n",
            "Zaire ['renamed to', 'Zaire', 'run by', 'Mobutu Sese Seko']\n",
            "Zaire ['following', 'five years of political upheaval']\n",
            "Zaire ['renamed to', 'Zaire', 'in', 'Central Africa']\n",
            "('Zaire', 'officially known as', 'Republic of Zaire')\n",
            "Zaire ['renamed to', 'Zaire', 'renamed to', 'Zaire']\n",
            "Zaire ['renamed to', 'Zaire', 'renamed', 'country']\n",
            "Zaire ['officially known as', 'Republic of Zaire']\n",
            "Zaire ['existed between', '1971 and 1997']\n",
            "Zaire ['run by', 'Mobutu Sese Seko']\n",
            "('Zaire', 'renamed', 'country')\n",
            "Zaire ['in', 'Central Africa']\n",
            "Zaire ['renamed to', 'Zaire']\n",
            "Zaire ['renamed', 'country']\n",
            "<  I'm sorry, but I can't answer the question based on the provided information.\n"
          ]
        }
      ],
      "source": [
        "hop2_question = subquestions[1].replace(\"#1\", hop1_answer)\n",
        "print('> ',hop2_question)\n",
        "hop2_answer = query_engine.query(hop2_question).response\n",
        "print('< ',hop2_answer)"
      ]
    },
    {
      "cell_type": "code",
      "execution_count": 190,
      "metadata": {},
      "outputs": [
        {
          "name": "stdout",
          "output_type": "stream",
          "text": [
            "['the Democratic Republic of the Congo', '1960']\n"
          ]
        }
      ],
      "source": [
        "print(example['question_decomposition']['answer'])"
      ]
    },
    {
      "cell_type": "code",
      "execution_count": null,
      "metadata": {},
      "outputs": [],
      "source": []
    }
  ],
  "metadata": {
    "colab": {
      "gpuType": "T4",
      "private_outputs": true,
      "provenance": []
    },
    "kernelspec": {
      "display_name": "Python 3",
      "name": "python3"
    },
    "language_info": {
      "codemirror_mode": {
        "name": "ipython",
        "version": 3
      },
      "file_extension": ".py",
      "mimetype": "text/x-python",
      "name": "python",
      "nbconvert_exporter": "python",
      "pygments_lexer": "ipython3",
      "version": "3.10.4"
    }
  },
  "nbformat": 4,
  "nbformat_minor": 0
}
