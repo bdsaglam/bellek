{
 "cells": [
  {
   "cell_type": "code",
   "execution_count": 1,
   "metadata": {},
   "outputs": [],
   "source": [
    "import random\n",
    "from datasets import load_dataset\n",
    "import numpy as np\n",
    "import pandas as pd"
   ]
  },
  {
   "cell_type": "code",
   "execution_count": 2,
   "metadata": {},
   "outputs": [
    {
     "data": {
      "text/plain": [
       "DatasetDict({\n",
       "    train: Dataset({\n",
       "        features: ['id', 'paragraphs', 'question', 'question_decomposition', 'answer', 'answer_aliases', 'answerable'],\n",
       "        num_rows: 19938\n",
       "    })\n",
       "    validation: Dataset({\n",
       "        features: ['id', 'paragraphs', 'question', 'question_decomposition', 'answer', 'answer_aliases', 'answerable'],\n",
       "        num_rows: 2417\n",
       "    })\n",
       "})"
      ]
     },
     "execution_count": 2,
     "metadata": {},
     "output_type": "execute_result"
    }
   ],
   "source": [
    "ds = load_dataset(\"bdsaglam/musique\", \"answerable\")\n",
    "ds"
   ]
  },
  {
   "cell_type": "code",
   "execution_count": 3,
   "metadata": {},
   "outputs": [
    {
     "data": {
      "text/plain": [
       "DatasetDict({\n",
       "    train: Dataset({\n",
       "        features: ['id', 'paragraphs', 'question', 'question_decomposition', 'answer', 'answer_aliases', 'answerable', 'n_hops'],\n",
       "        num_rows: 19938\n",
       "    })\n",
       "    validation: Dataset({\n",
       "        features: ['id', 'paragraphs', 'question', 'question_decomposition', 'answer', 'answer_aliases', 'answerable', 'n_hops'],\n",
       "        num_rows: 2417\n",
       "    })\n",
       "})"
      ]
     },
     "execution_count": 3,
     "metadata": {},
     "output_type": "execute_result"
    }
   ],
   "source": [
    "ds = ds.map(lambda x: {'n_hops': len(x['question_decomposition'])})\n",
    "ds"
   ]
  },
  {
   "cell_type": "code",
   "execution_count": 4,
   "metadata": {},
   "outputs": [
    {
     "data": {
      "text/plain": [
       "2    14376\n",
       "3     4387\n",
       "4     1175\n",
       "Name: count, dtype: int64"
      ]
     },
     "execution_count": 4,
     "metadata": {},
     "output_type": "execute_result"
    }
   ],
   "source": [
    "pd.Series(ds['train']['n_hops']).value_counts()"
   ]
  },
  {
   "cell_type": "code",
   "execution_count": 5,
   "metadata": {},
   "outputs": [
    {
     "data": {
      "text/plain": [
       "2    1252\n",
       "3     760\n",
       "4     405\n",
       "Name: count, dtype: int64"
      ]
     },
     "execution_count": 5,
     "metadata": {},
     "output_type": "execute_result"
    }
   ],
   "source": [
    "pd.Series(ds['validation']['n_hops']).value_counts()"
   ]
  },
  {
   "cell_type": "code",
   "execution_count": 6,
   "metadata": {},
   "outputs": [],
   "source": [
    "# filter in examples with 4 hops\n",
    "mds = ds.filter(lambda x: x['n_hops'] == 4)"
   ]
  },
  {
   "cell_type": "code",
   "execution_count": 7,
   "metadata": {},
   "outputs": [],
   "source": [
    "def print_example(example):\n",
    "    print(f\"Question: {example['question']}\")\n",
    "    for i, d in enumerate(example['question_decomposition']):\n",
    "        subq = d['question']\n",
    "        print(f\"  {i+1}. {subq}\")"
   ]
  },
  {
   "cell_type": "code",
   "execution_count": 8,
   "metadata": {},
   "outputs": [
    {
     "name": "stdout",
     "output_type": "stream",
     "text": [
      "Question: What did Goring believe the operator of battleships from the country of the military that follows the Reichswehr would gain with further support?\n",
      "  1. Reichswehr >> follows\n",
      "  2. #1 >> country\n",
      "  3. list of battleships of #2 >> operator\n",
      "  4. What did Goring believe the #3 would gain with further support?\n",
      "\n",
      "Question: Of the countries in the São Lourenço River's continent, what is the most popular sport in the one that provided the most legal immigrants in 2013?\n",
      "  1. São Lourenço River >> mouth of the watercourse\n",
      "  2. Which continent is #1 on?\n",
      "  3. Of all the countries in #2 , which provided the most legal immigrants in 2013?\n",
      "  4. what is the most popular sport in #3\n",
      "\n",
      "Question: What is the total area of the capitol of the state where Georges Doriot was educated?\n",
      "  1. Georges Doriot >> educated at\n",
      "  2. #1 >> located in the administrative territorial entity\n",
      "  3. What is the capital of #2 ?\n",
      "  4. What is the total area of #3 ?\n",
      "\n",
      "Question: Who was the mother of the ruler, under whom the empire that conquered the country who acquired New France from France, reached its greatest extent?\n",
      "  1. Which country acquired New France from France?\n",
      "  2. Who foreign group conquered #1 around AD 43?\n",
      "  3. when did #2 reach its greatest extent\n",
      "  4. Who is #3 's mother?\n",
      "\n",
      "Question: What is the death city of the leader of the largest country in Europe by square miles after the collapse of the country dominating eastern Europe after world war ii?\n",
      "  1. what is the largest country in europe by square miles\n",
      "  2. what country dominated eastern europe after world war ii\n",
      "  3. who became leader of #1 after the collapse of #2\n",
      "  4. #3 >> place of death\n",
      "\n"
     ]
    }
   ],
   "source": [
    "# choose 5 random examples and print them. be aware mds is a HF dataset\n",
    "\n",
    "for i in range(5):\n",
    "    idx = random.randint(0, len(mds['train']) - 1)\n",
    "    print_example(mds['train'][idx])\n",
    "    print()"
   ]
  },
  {
   "cell_type": "code",
   "execution_count": 11,
   "metadata": {},
   "outputs": [],
   "source": [
    "# a function that samples from the dataset with equal distribution of n_hops\n",
    "def sample_evenly(dataset, n_samples):\n",
    "    n_hops = np.unique(dataset['n_hops'])\n",
    "    samples_per_hop = n_samples // len(n_hops)\n",
    "    for hop in n_hops:\n",
    "        hop_samples = dataset.filter(lambda x: x['n_hops'] == hop).shuffle().select(range(samples_per_hop))\n",
    "        yield from hop_samples"
   ]
  },
  {
   "cell_type": "code",
   "execution_count": 12,
   "metadata": {},
   "outputs": [
    {
     "data": {
      "application/vnd.jupyter.widget-view+json": {
       "model_id": "99637a2f8b2149218fc869f19807ba01",
       "version_major": 2,
       "version_minor": 0
      },
      "text/plain": [
       "Filter:   0%|          | 0/19938 [00:00<?, ? examples/s]"
      ]
     },
     "metadata": {},
     "output_type": "display_data"
    },
    {
     "data": {
      "application/vnd.jupyter.widget-view+json": {
       "model_id": "f5994238460c4abdbecce007589591da",
       "version_major": 2,
       "version_minor": 0
      },
      "text/plain": [
       "Filter:   0%|          | 0/19938 [00:00<?, ? examples/s]"
      ]
     },
     "metadata": {},
     "output_type": "display_data"
    },
    {
     "data": {
      "application/vnd.jupyter.widget-view+json": {
       "model_id": "a530df1b80bf4f8db52169b9701120fb",
       "version_major": 2,
       "version_minor": 0
      },
      "text/plain": [
       "Filter:   0%|          | 0/19938 [00:00<?, ? examples/s]"
      ]
     },
     "metadata": {},
     "output_type": "display_data"
    }
   ],
   "source": [
    "samples = list(sample_evenly(ds['train'], 10))"
   ]
  },
  {
   "cell_type": "code",
   "execution_count": null,
   "metadata": {},
   "outputs": [],
   "source": []
  }
 ],
 "metadata": {
  "kernelspec": {
   "display_name": "baris",
   "language": "python",
   "name": "python3"
  },
  "language_info": {
   "codemirror_mode": {
    "name": "ipython",
    "version": 3
   },
   "file_extension": ".py",
   "mimetype": "text/x-python",
   "name": "python",
   "nbconvert_exporter": "python",
   "pygments_lexer": "ipython3",
   "version": "3.10.14"
  }
 },
 "nbformat": 4,
 "nbformat_minor": 2
}
