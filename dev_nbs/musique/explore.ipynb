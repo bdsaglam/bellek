{
 "cells": [
  {
   "cell_type": "code",
   "execution_count": 6,
   "metadata": {},
   "outputs": [],
   "source": [
    "import random\n",
    "from datasets import load_dataset\n",
    "import numpy as np\n",
    "import pandas as pd"
   ]
  },
  {
   "cell_type": "code",
   "execution_count": 2,
   "metadata": {},
   "outputs": [
    {
     "data": {
      "text/plain": [
       "DatasetDict({\n",
       "    train: Dataset({\n",
       "        features: ['id', 'paragraphs', 'question', 'question_decomposition', 'answer', 'answer_aliases', 'answerable'],\n",
       "        num_rows: 19938\n",
       "    })\n",
       "    validation: Dataset({\n",
       "        features: ['id', 'paragraphs', 'question', 'question_decomposition', 'answer', 'answer_aliases', 'answerable'],\n",
       "        num_rows: 2417\n",
       "    })\n",
       "})"
      ]
     },
     "execution_count": 2,
     "metadata": {},
     "output_type": "execute_result"
    }
   ],
   "source": [
    "ds = load_dataset(\"bdsaglam/musique\", \"answerable\")\n",
    "ds"
   ]
  },
  {
   "cell_type": "code",
   "execution_count": 3,
   "metadata": {},
   "outputs": [
    {
     "data": {
      "application/vnd.jupyter.widget-view+json": {
       "model_id": "4925d150a467413aac0462d1ce69443a",
       "version_major": 2,
       "version_minor": 0
      },
      "text/plain": [
       "Map:   0%|          | 0/19938 [00:00<?, ? examples/s]"
      ]
     },
     "metadata": {},
     "output_type": "display_data"
    },
    {
     "data": {
      "application/vnd.jupyter.widget-view+json": {
       "model_id": "8e409d4ec9b74cc5b2addd27cc6d4a17",
       "version_major": 2,
       "version_minor": 0
      },
      "text/plain": [
       "Map:   0%|          | 0/2417 [00:00<?, ? examples/s]"
      ]
     },
     "metadata": {},
     "output_type": "display_data"
    },
    {
     "data": {
      "text/plain": [
       "DatasetDict({\n",
       "    train: Dataset({\n",
       "        features: ['id', 'paragraphs', 'question', 'question_decomposition', 'answer', 'answer_aliases', 'answerable', 'n_hops'],\n",
       "        num_rows: 19938\n",
       "    })\n",
       "    validation: Dataset({\n",
       "        features: ['id', 'paragraphs', 'question', 'question_decomposition', 'answer', 'answer_aliases', 'answerable', 'n_hops'],\n",
       "        num_rows: 2417\n",
       "    })\n",
       "})"
      ]
     },
     "execution_count": 3,
     "metadata": {},
     "output_type": "execute_result"
    }
   ],
   "source": [
    "ds = ds.map(lambda x: {'n_hops': len(x['question_decomposition'])})\n",
    "ds"
   ]
  },
  {
   "cell_type": "code",
   "execution_count": 9,
   "metadata": {},
   "outputs": [
    {
     "data": {
      "text/plain": [
       "2    14376\n",
       "3     4387\n",
       "4     1175\n",
       "Name: count, dtype: int64"
      ]
     },
     "execution_count": 9,
     "metadata": {},
     "output_type": "execute_result"
    }
   ],
   "source": [
    "pd.Series(ds['train']['n_hops']).value_counts()"
   ]
  },
  {
   "cell_type": "code",
   "execution_count": 10,
   "metadata": {},
   "outputs": [
    {
     "data": {
      "text/plain": [
       "2    1252\n",
       "3     760\n",
       "4     405\n",
       "Name: count, dtype: int64"
      ]
     },
     "execution_count": 10,
     "metadata": {},
     "output_type": "execute_result"
    }
   ],
   "source": [
    "pd.Series(ds['validation']['n_hops']).value_counts()"
   ]
  },
  {
   "cell_type": "code",
   "execution_count": 11,
   "metadata": {},
   "outputs": [
    {
     "data": {
      "application/vnd.jupyter.widget-view+json": {
       "model_id": "4e8a5e45b2714b3b9b45df5108dd2e0e",
       "version_major": 2,
       "version_minor": 0
      },
      "text/plain": [
       "Filter:   0%|          | 0/19938 [00:00<?, ? examples/s]"
      ]
     },
     "metadata": {},
     "output_type": "display_data"
    },
    {
     "data": {
      "application/vnd.jupyter.widget-view+json": {
       "model_id": "dec9d5d05545479e936cd98c308e17d1",
       "version_major": 2,
       "version_minor": 0
      },
      "text/plain": [
       "Filter:   0%|          | 0/2417 [00:00<?, ? examples/s]"
      ]
     },
     "metadata": {},
     "output_type": "display_data"
    }
   ],
   "source": [
    "# filter in examples with 4 hops\n",
    "mds = ds.filter(lambda x: x['n_hops'] == 4)"
   ]
  },
  {
   "cell_type": "code",
   "execution_count": 22,
   "metadata": {},
   "outputs": [],
   "source": [
    "def print_example(example):\n",
    "    print(f\"Question: {example['question']}\")\n",
    "    for i, d in enumerate(example['question_decomposition']):\n",
    "        subq = d['question']\n",
    "        print(f\"  {i+1}. {subq}\")"
   ]
  },
  {
   "cell_type": "code",
   "execution_count": 24,
   "metadata": {},
   "outputs": [
    {
     "name": "stdout",
     "output_type": "stream",
     "text": [
      "Question: Who was the father of the first explorer to reach Asia by sailing west across the body of water in which you can find Sakalua?\n",
      "  1. Sakalua >> part of\n",
      "  2. #1 >> located in or next to body of water\n",
      "  3. who led the first expedition to reach asia by sailing west across #2\n",
      "  4. Who fathered #3 ?\n",
      "\n",
      "Question: In which state is Kattalai in the country having the birth city of the producer of The Mystic Masseur?\n",
      "  1. The Mystic Masseur >> producer\n",
      "  2. #1 >> place of birth\n",
      "  3. in which country is the city of #2\n",
      "  4. Kattalai, #3 >> located in the administrative territorial entity\n",
      "\n",
      "Question: A region being the middle leg of the journey from England to the continent provides coffee to most of the world to the Americas. What nation provided the most legal immigrants to the US City filming the tv show Gotham in this region?\n",
      "  1. where does most of the world get its coffee\n",
      "  2. the middle leg of the journey from england to #1 to the americas\n",
      "  3. where is the tv show gotham filmed at\n",
      "  4. What nation provided the most legal immigrants to #3 in the #2 ?\n",
      "\n",
      "Question: In which country is the prefecture serving as the largest base for shooting films and TV dramas located in the country where Zeng Jize lived?\n",
      "  1. In which country did Zeng Jize live?\n",
      "  2. What is the largest base of shooting films and TV dramas in #1 ?\n",
      "  3. #2 >> contains administrative territorial entity\n",
      "  4. #3 >> country\n",
      "\n",
      "Question: What year was hazardous working conditions limited to children, in the former colonial holding on the continent that also contains Aruba, that was governed by the country where Modicus plays.\n",
      "  1. Aruba >> continent\n",
      "  2. Modicus >> country\n",
      "  3. what was the colonial holding in #1 that was governed by #2\n",
      "  4. What year was hazardous working conditions limited to children in #3 ?\n",
      "\n"
     ]
    }
   ],
   "source": [
    "# choose 5 random examples and print them. be aware mds is a HF dataset\n",
    "\n",
    "for i in range(5):\n",
    "    idx = random.randint(0, len(mds['train']) - 1)\n",
    "    print_example(mds['train'][idx])\n",
    "    print()"
   ]
  },
  {
   "cell_type": "code",
   "execution_count": null,
   "metadata": {},
   "outputs": [],
   "source": []
  }
 ],
 "metadata": {
  "kernelspec": {
   "display_name": "baris",
   "language": "python",
   "name": "python3"
  },
  "language_info": {
   "codemirror_mode": {
    "name": "ipython",
    "version": 3
   },
   "file_extension": ".py",
   "mimetype": "text/x-python",
   "name": "python",
   "nbconvert_exporter": "python",
   "pygments_lexer": "ipython3",
   "version": "3.10.14"
  }
 },
 "nbformat": 4,
 "nbformat_minor": 2
}
