{
  "cells": [
    {
      "cell_type": "code",
      "execution_count": 9,
      "metadata": {
        "id": "OFf1l_dZtZJz"
      },
      "outputs": [],
      "source": [
        "import json\n",
        "from datasets import Dataset, DatasetDict"
      ]
    },
    {
      "cell_type": "code",
      "execution_count": 4,
      "metadata": {
        "id": "ubh17DRGvKUT"
      },
      "outputs": [
        {
          "data": {
            "text/plain": [
              "7405"
            ]
          },
          "execution_count": 4,
          "metadata": {},
          "output_type": "execute_result"
        }
      ],
      "source": [
        "with open('../../tmp/hotpotqa/hotpot_dev_distractor_v1.json') as f:\n",
        "    hotpotqa_distractor_samples = json.load(f)\n",
        "len(hotpotqa_distractor_samples)"
      ]
    },
    {
      "cell_type": "code",
      "execution_count": 17,
      "metadata": {},
      "outputs": [],
      "source": [
        "def dedup_consecutive(sequence: list) -> list:\n",
        "    \"\"\"deduplicate consecutive items if same\"\"\"\n",
        "    deduped = []\n",
        "    for item in sequence:\n",
        "        if not deduped or item != deduped[-1]:\n",
        "            deduped.append(item)\n",
        "    return deduped\n",
        "\n",
        "assert dedup_consecutive([1, 1, 2, 3, 2, 4, 4]) == [1, 2, 3, 2, 4]\n",
        "assert dedup_consecutive([]) == []"
      ]
    },
    {
      "cell_type": "code",
      "execution_count": 22,
      "metadata": {
        "id": "l8dbEqX3x1_s"
      },
      "outputs": [],
      "source": [
        "def convert_hotpotqa_to_musique(hotpotqa_sample):\n",
        "    musique_sample = {\n",
        "        \"id\": hotpotqa_sample[\"_id\"],\n",
        "        \"paragraphs\": [],\n",
        "        \"question\": hotpotqa_sample[\"question\"],\n",
        "        \"question_decomposition\": [],\n",
        "        \"answer\": hotpotqa_sample[\"answer\"],\n",
        "        \"answer_aliases\": [],\n",
        "        \"answerable\": True\n",
        "    }\n",
        "\n",
        "    # Step 1: Process Context Paragraphs\n",
        "    supporting_paragraph_titles = [sf[0] for sf in hotpotqa_sample[\"supporting_facts\"]]\n",
        "    for idx, (title, sentences) in enumerate(hotpotqa_sample[\"context\"]):\n",
        "        paragraph_text = \"\".join(sentences)  # Concatenate sentences into paragraph\n",
        "        is_supporting = title in supporting_paragraph_titles\n",
        "        paragraph = {\n",
        "            \"idx\": idx,\n",
        "            \"is_supporting\": is_supporting,\n",
        "            \"paragraph_text\": paragraph_text,\n",
        "            \"title\": title\n",
        "        }\n",
        "        musique_sample[\"paragraphs\"].append(paragraph)\n",
        "\n",
        "    # Step 2: Question Decomposition (as per given structure, skipping as we have no decomposition info)\n",
        "    supporting_paragraph_titles_deduped = dedup_consecutive(supporting_paragraph_titles)\n",
        "    for idx, title in enumerate(supporting_paragraph_titles_deduped):\n",
        "        # Find the paragraph index in the context list that matches the supporting fact title\n",
        "        paragraph_support_idx = next(p['idx'] for p in musique_sample[\"paragraphs\"] if title == p['title'])\n",
        "        question_decomposition = {\n",
        "            \"answer\": \"\",\n",
        "            \"id\": idx,\n",
        "            \"paragraph_support_idx\": paragraph_support_idx,\n",
        "            \"question\": hotpotqa_sample[\"question\"]  # Keeping the original question since no decomposition exists\n",
        "        }\n",
        "        musique_sample[\"question_decomposition\"].append(question_decomposition)\n",
        "\n",
        "    return musique_sample\n"
      ]
    },
    {
      "cell_type": "code",
      "execution_count": 23,
      "metadata": {},
      "outputs": [
        {
          "data": {
            "text/plain": [
              "{'_id': '5a8c7595554299585d9e36b6',\n",
              " 'answer': 'Chief of Protocol',\n",
              " 'question': 'What government position was held by the woman who portrayed Corliss Archer in the film Kiss and Tell?',\n",
              " 'supporting_facts': [['Kiss and Tell (1945 film)', 0],\n",
              "  ['Shirley Temple', 0],\n",
              "  ['Shirley Temple', 1]],\n",
              " 'context': [['Meet Corliss Archer',\n",
              "   [\"Meet Corliss Archer, a program from radio's Golden Age, ran from January 7, 1943 to September 30, 1956.\",\n",
              "    ' Although it was CBS\\'s answer to NBC\\'s popular \"A Date with Judy\", it was also broadcast by NBC in 1948 as a summer replacement for \"The Bob Hope Show\".',\n",
              "    ' From October 3, 1952 to June 26, 1953, it aired on ABC, finally returning to CBS.',\n",
              "    \" Despite the program's long run, fewer than 24 episodes are known to exist.\"]],\n",
              "  ['Shirley Temple',\n",
              "   [\"Shirley Temple Black (April 23, 1928 – February 10, 2014) was an American actress, singer, dancer, businesswoman, and diplomat who was Hollywood's number one box-office draw as a child actress from 1935 to 1938.\",\n",
              "    ' As an adult, she was named United States ambassador to Ghana and to Czechoslovakia and also served as Chief of Protocol of the United States.']],\n",
              "  ['Janet Waldo',\n",
              "   ['Janet Marie Waldo (February 4, 1920 – June 12, 2016) was an American radio and voice actress.',\n",
              "    ' She is best known in animation for voicing Judy Jetson, Nancy in \"Shazzan\", Penelope Pitstop, and Josie in \"Josie and the Pussycats\", and on radio as the title character in \"Meet Corliss Archer\".']],\n",
              "  ['Meet Corliss Archer (TV series)',\n",
              "   ['Meet Corliss Archer is an American television sitcom that aired on CBS (July 13, 1951 - August 10, 1951) and in syndication via the Ziv Company from April to December 1954.',\n",
              "    ' The program was an adaptation of the radio series of the same name, which was based on a series of short stories by F. Hugh Herbert.']],\n",
              "  ['Lord High Treasurer',\n",
              "   ['The post of Lord High Treasurer or Lord Treasurer was an English government position and has been a British government position since the Acts of Union of 1707.',\n",
              "    ' A holder of the post would be the third-highest-ranked Great Officer of State, below the Lord High Steward and the Lord High Chancellor.']],\n",
              "  ['A Kiss for Corliss',\n",
              "   ['A Kiss for Corliss is a 1949 American comedy film directed by Richard Wallace and written by Howard Dimsdale.',\n",
              "    ' It stars Shirley Temple in her final starring role as well as her final film appearance.',\n",
              "    ' It is a sequel to the 1945 film \"Kiss and Tell\".',\n",
              "    ' \"A Kiss for Corliss\" was retitled \"Almost a Bride\" before release and this title appears in the title sequence.',\n",
              "    ' The film was released on November 25, 1949, by United Artists.']],\n",
              "  ['Kiss and Tell (1945 film)',\n",
              "   ['Kiss and Tell is a 1945 American comedy film starring then 17-year-old Shirley Temple as Corliss Archer.',\n",
              "    ' In the film, two teenage girls cause their respective parents much concern when they start to become interested in boys.',\n",
              "    \" The parents' bickering about which girl is the worse influence causes more problems than it solves.\"]],\n",
              "  ['Secretary of State for Constitutional Affairs',\n",
              "   ['The office of Secretary of State for Constitutional Affairs was a British Government position, created in 2003.',\n",
              "    \" Certain functions of the Lord Chancellor which related to the Lord Chancellor's Department were transferred to the Secretary of State.\",\n",
              "    ' At a later date further functions were also transferred to the Secretary of State for Constitutional Affairs from the First Secretary of State, a position within the government held by the Deputy Prime Minister.']],\n",
              "  ['Village accountant',\n",
              "   ['The Village Accountant (variously known as \"Patwari\", \"Talati\", \"Patel\", \"Karnam\", \"Adhikari\", \"Shanbogaru\",\"Patnaik\" etc.) is an administrative government position found in rural parts of the Indian sub-continent.',\n",
              "    ' The office and the officeholder are called the \"patwari\" in Telangana, Bengal, North India and in Pakistan while in Sindh it is called \"tapedar\".',\n",
              "    ' The position is known as the \"karnam\" in Andhra Pradesh, \"patnaik\" in Orissa or \"adhikari\" in Tamil Nadu, while it is commonly known as the \"talati\" in Karnataka, Gujarat and Maharashtra.',\n",
              "    ' The position was known as the \"kulkarni\" in Northern Karnataka and Maharashtra.',\n",
              "    ' The position was known as the \"shanbogaru\" in South Karnataka.']],\n",
              "  ['Charles Craft',\n",
              "   ['Charles Craft (May 9, 1902 – September 19, 1968) was an English-born American film and television editor.',\n",
              "    ' Born in the county of Hampshire in England on May 9, 1902, Craft would enter the film industry in Hollywood in 1927.',\n",
              "    ' The first film he edited was the Universal Pictures silent film, \"Painting the Town\".',\n",
              "    ' Over the next 25 years, Craft would edit 90 feature-length films.',\n",
              "    ' In the early 1950s he would switch his focus to the small screen, his first show being \"Racket Squad\", from 1951–53, for which he was the main editor, editing 93 of the 98 episodes.',\n",
              "    ' He would work on several other series during the 1950s, including \"Meet Corliss Archer\" (1954), \"Science Fiction Theatre\" (1955–56), and \"Highway Patrol\" (1955–57).',\n",
              "    ' In the late 1950s and early 1960s he was one of the main editors on \"Sea Hunt\", starring Lloyd Bridges, editing over half of the episodes.',\n",
              "    ' His final film work would be editing \"Flipper\\'s New Adventure\" (1964, the sequel to 1963\\'s \"Flipper\".',\n",
              "    ' When the film was made into a television series, Craft would begin the editing duties on that show, editing the first 28 episodes before he retired in 1966.',\n",
              "    ' Craft died on September 19, 1968 in Los Angeles, California.']]],\n",
              " 'type': 'bridge',\n",
              " 'level': 'hard'}"
            ]
          },
          "execution_count": 23,
          "metadata": {},
          "output_type": "execute_result"
        }
      ],
      "source": [
        "hotpotqa_sample = hotpotqa_distractor_samples[1]\n",
        "hotpotqa_sample"
      ]
    },
    {
      "cell_type": "code",
      "execution_count": 24,
      "metadata": {
        "id": "4y9oyttHv0Lw"
      },
      "outputs": [
        {
          "data": {
            "text/plain": [
              "{'id': '5a8c7595554299585d9e36b6',\n",
              " 'paragraphs': [{'idx': 0,\n",
              "   'is_supporting': False,\n",
              "   'paragraph_text': 'Meet Corliss Archer, a program from radio\\'s Golden Age, ran from January 7, 1943 to September 30, 1956. Although it was CBS\\'s answer to NBC\\'s popular \"A Date with Judy\", it was also broadcast by NBC in 1948 as a summer replacement for \"The Bob Hope Show\". From October 3, 1952 to June 26, 1953, it aired on ABC, finally returning to CBS. Despite the program\\'s long run, fewer than 24 episodes are known to exist.',\n",
              "   'title': 'Meet Corliss Archer'},\n",
              "  {'idx': 1,\n",
              "   'is_supporting': True,\n",
              "   'paragraph_text': \"Shirley Temple Black (April 23, 1928 – February 10, 2014) was an American actress, singer, dancer, businesswoman, and diplomat who was Hollywood's number one box-office draw as a child actress from 1935 to 1938. As an adult, she was named United States ambassador to Ghana and to Czechoslovakia and also served as Chief of Protocol of the United States.\",\n",
              "   'title': 'Shirley Temple'},\n",
              "  {'idx': 2,\n",
              "   'is_supporting': False,\n",
              "   'paragraph_text': 'Janet Marie Waldo (February 4, 1920 – June 12, 2016) was an American radio and voice actress. She is best known in animation for voicing Judy Jetson, Nancy in \"Shazzan\", Penelope Pitstop, and Josie in \"Josie and the Pussycats\", and on radio as the title character in \"Meet Corliss Archer\".',\n",
              "   'title': 'Janet Waldo'},\n",
              "  {'idx': 3,\n",
              "   'is_supporting': False,\n",
              "   'paragraph_text': 'Meet Corliss Archer is an American television sitcom that aired on CBS (July 13, 1951 - August 10, 1951) and in syndication via the Ziv Company from April to December 1954. The program was an adaptation of the radio series of the same name, which was based on a series of short stories by F. Hugh Herbert.',\n",
              "   'title': 'Meet Corliss Archer (TV series)'},\n",
              "  {'idx': 4,\n",
              "   'is_supporting': False,\n",
              "   'paragraph_text': 'The post of Lord High Treasurer or Lord Treasurer was an English government position and has been a British government position since the Acts of Union of 1707. A holder of the post would be the third-highest-ranked Great Officer of State, below the Lord High Steward and the Lord High Chancellor.',\n",
              "   'title': 'Lord High Treasurer'},\n",
              "  {'idx': 5,\n",
              "   'is_supporting': False,\n",
              "   'paragraph_text': 'A Kiss for Corliss is a 1949 American comedy film directed by Richard Wallace and written by Howard Dimsdale. It stars Shirley Temple in her final starring role as well as her final film appearance. It is a sequel to the 1945 film \"Kiss and Tell\". \"A Kiss for Corliss\" was retitled \"Almost a Bride\" before release and this title appears in the title sequence. The film was released on November 25, 1949, by United Artists.',\n",
              "   'title': 'A Kiss for Corliss'},\n",
              "  {'idx': 6,\n",
              "   'is_supporting': True,\n",
              "   'paragraph_text': \"Kiss and Tell is a 1945 American comedy film starring then 17-year-old Shirley Temple as Corliss Archer. In the film, two teenage girls cause their respective parents much concern when they start to become interested in boys. The parents' bickering about which girl is the worse influence causes more problems than it solves.\",\n",
              "   'title': 'Kiss and Tell (1945 film)'},\n",
              "  {'idx': 7,\n",
              "   'is_supporting': False,\n",
              "   'paragraph_text': \"The office of Secretary of State for Constitutional Affairs was a British Government position, created in 2003. Certain functions of the Lord Chancellor which related to the Lord Chancellor's Department were transferred to the Secretary of State. At a later date further functions were also transferred to the Secretary of State for Constitutional Affairs from the First Secretary of State, a position within the government held by the Deputy Prime Minister.\",\n",
              "   'title': 'Secretary of State for Constitutional Affairs'},\n",
              "  {'idx': 8,\n",
              "   'is_supporting': False,\n",
              "   'paragraph_text': 'The Village Accountant (variously known as \"Patwari\", \"Talati\", \"Patel\", \"Karnam\", \"Adhikari\", \"Shanbogaru\",\"Patnaik\" etc.) is an administrative government position found in rural parts of the Indian sub-continent. The office and the officeholder are called the \"patwari\" in Telangana, Bengal, North India and in Pakistan while in Sindh it is called \"tapedar\". The position is known as the \"karnam\" in Andhra Pradesh, \"patnaik\" in Orissa or \"adhikari\" in Tamil Nadu, while it is commonly known as the \"talati\" in Karnataka, Gujarat and Maharashtra. The position was known as the \"kulkarni\" in Northern Karnataka and Maharashtra. The position was known as the \"shanbogaru\" in South Karnataka.',\n",
              "   'title': 'Village accountant'},\n",
              "  {'idx': 9,\n",
              "   'is_supporting': False,\n",
              "   'paragraph_text': 'Charles Craft (May 9, 1902 – September 19, 1968) was an English-born American film and television editor. Born in the county of Hampshire in England on May 9, 1902, Craft would enter the film industry in Hollywood in 1927. The first film he edited was the Universal Pictures silent film, \"Painting the Town\". Over the next 25 years, Craft would edit 90 feature-length films. In the early 1950s he would switch his focus to the small screen, his first show being \"Racket Squad\", from 1951–53, for which he was the main editor, editing 93 of the 98 episodes. He would work on several other series during the 1950s, including \"Meet Corliss Archer\" (1954), \"Science Fiction Theatre\" (1955–56), and \"Highway Patrol\" (1955–57). In the late 1950s and early 1960s he was one of the main editors on \"Sea Hunt\", starring Lloyd Bridges, editing over half of the episodes. His final film work would be editing \"Flipper\\'s New Adventure\" (1964, the sequel to 1963\\'s \"Flipper\". When the film was made into a television series, Craft would begin the editing duties on that show, editing the first 28 episodes before he retired in 1966. Craft died on September 19, 1968 in Los Angeles, California.',\n",
              "   'title': 'Charles Craft'}],\n",
              " 'question': 'What government position was held by the woman who portrayed Corliss Archer in the film Kiss and Tell?',\n",
              " 'question_decomposition': [{'answer': '',\n",
              "   'id': 0,\n",
              "   'paragraph_support_idx': 6,\n",
              "   'question': 'What government position was held by the woman who portrayed Corliss Archer in the film Kiss and Tell?'},\n",
              "  {'answer': '',\n",
              "   'id': 1,\n",
              "   'paragraph_support_idx': 1,\n",
              "   'question': 'What government position was held by the woman who portrayed Corliss Archer in the film Kiss and Tell?'}],\n",
              " 'answer': 'Chief of Protocol',\n",
              " 'answer_aliases': [],\n",
              " 'answerable': True}"
            ]
          },
          "execution_count": 24,
          "metadata": {},
          "output_type": "execute_result"
        }
      ],
      "source": [
        "musique_sample = convert_hotpotqa_to_musique(hotpotqa_sample)\n",
        "musique_sample"
      ]
    },
    {
      "cell_type": "code",
      "execution_count": 25,
      "metadata": {
        "id": "wnWxDYDByFPM"
      },
      "outputs": [
        {
          "data": {
            "application/vnd.jupyter.widget-view+json": {
              "model_id": "382e9833fb2b46f5bb5cea8f2c325f35",
              "version_major": 2,
              "version_minor": 0
            },
            "text/plain": [
              "Uploading the dataset shards:   0%|          | 0/1 [00:00<?, ?it/s]"
            ]
          },
          "metadata": {},
          "output_type": "display_data"
        },
        {
          "data": {
            "application/vnd.jupyter.widget-view+json": {
              "model_id": "20a54b9b42fd4ec1a868405f73bf7388",
              "version_major": 2,
              "version_minor": 0
            },
            "text/plain": [
              "Creating parquet from Arrow format:   0%|          | 0/8 [00:00<?, ?ba/s]"
            ]
          },
          "metadata": {},
          "output_type": "display_data"
        },
        {
          "data": {
            "text/plain": [
              "CommitInfo(commit_url='https://huggingface.co/datasets/bdsaglam/hotpotqa-distractor/commit/0db9d87d3306b7b14f2b289a040e416b7baf3654', commit_message='Upload dataset', commit_description='', oid='0db9d87d3306b7b14f2b289a040e416b7baf3654', pr_url=None, pr_revision=None, pr_num=None)"
            ]
          },
          "execution_count": 25,
          "metadata": {},
          "output_type": "execute_result"
        }
      ],
      "source": [
        "# Convert the list of HotPotQA samples to MuSiQue format and create a HuggingFace dataset\n",
        "musique_samples = [convert_hotpotqa_to_musique(sample) for sample in hotpotqa_distractor_samples]\n",
        "dataset = Dataset.from_list(musique_samples)\n",
        "\n",
        "dataset_dict = DatasetDict({\"validation\": dataset})\n",
        "\n",
        "dataset_dict.push_to_hub(\"bdsaglam/hotpotqa-distractor\")"
      ]
    },
    {
      "cell_type": "code",
      "execution_count": null,
      "metadata": {
        "id": "k8uE4-2Kyr4O"
      },
      "outputs": [],
      "source": []
    }
  ],
  "metadata": {
    "colab": {
      "private_outputs": true,
      "provenance": []
    },
    "kernelspec": {
      "display_name": ".venv",
      "language": "python",
      "name": "python3"
    },
    "language_info": {
      "codemirror_mode": {
        "name": "ipython",
        "version": 3
      },
      "file_extension": ".py",
      "mimetype": "text/x-python",
      "name": "python",
      "nbconvert_exporter": "python",
      "pygments_lexer": "ipython3",
      "version": "3.10.12"
    }
  },
  "nbformat": 4,
  "nbformat_minor": 0
}
