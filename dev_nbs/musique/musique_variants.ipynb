{
 "cells": [
  {
   "cell_type": "code",
   "execution_count": 1,
   "metadata": {},
   "outputs": [],
   "source": [
    "from datasets import load_dataset, DatasetDict"
   ]
  },
  {
   "cell_type": "code",
   "execution_count": 7,
   "metadata": {},
   "outputs": [],
   "source": [
    "def publish_nhop_variant(path: str, config_name: str, n_hop: int):\n",
    "    dsd = load_dataset(path, config_name)\n",
    "    target_dsd = DatasetDict()\n",
    "    for split, ds in dsd.items():\n",
    "        target_dsd[split] = ds.filter(lambda example: len(example['question_decomposition']) == n_hop)\n",
    "    target_dsd.push_to_hub(f\"{path}-{n_hop}hop\", config_name=config_name)"
   ]
  },
  {
   "cell_type": "code",
   "execution_count": null,
   "metadata": {},
   "outputs": [],
   "source": [
    "publish_nhop_variant(\"bdsaglam/musique\", \"default\", 2)\n",
    "publish_nhop_variant(\"bdsaglam/musique\", \"answerable\", 2)"
   ]
  }
 ],
 "metadata": {
  "kernelspec": {
   "display_name": ".venv",
   "language": "python",
   "name": "python3"
  },
  "language_info": {
   "codemirror_mode": {
    "name": "ipython",
    "version": 3
   },
   "file_extension": ".py",
   "mimetype": "text/x-python",
   "name": "python",
   "nbconvert_exporter": "python",
   "pygments_lexer": "ipython3",
   "version": "3.10.12"
  }
 },
 "nbformat": 4,
 "nbformat_minor": 2
}
