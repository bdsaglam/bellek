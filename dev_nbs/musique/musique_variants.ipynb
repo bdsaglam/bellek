{
 "cells": [
  {
   "cell_type": "code",
   "execution_count": 1,
   "metadata": {},
   "outputs": [],
   "source": [
    "from bellek.utils import set_seed\n",
    "import numpy as np\n",
    "from datasets import load_dataset, DatasetDict, Dataset\n",
    "\n",
    "set_seed(89)"
   ]
  },
  {
   "cell_type": "markdown",
   "metadata": {},
   "source": [
    "## N-hop variants"
   ]
  },
  {
   "cell_type": "code",
   "execution_count": 2,
   "metadata": {},
   "outputs": [],
   "source": [
    "def publish_nhop_variant(path: str, config_name: str, n_hop: int):\n",
    "    dsd = load_dataset(path, config_name)\n",
    "    target_dsd = DatasetDict()\n",
    "    for split, ds in dsd.items():\n",
    "        target_dsd[split] = ds.filter(lambda example: len(example['question_decomposition']) == n_hop)\n",
    "    target_dsd.push_to_hub(f\"{path}-{n_hop}hop\", config_name=config_name)"
   ]
  },
  {
   "cell_type": "code",
   "execution_count": 3,
   "metadata": {},
   "outputs": [],
   "source": [
    "# publish_nhop_variant(\"bdsaglam/musique\", \"default\", 2)\n",
    "# publish_nhop_variant(\"bdsaglam/musique\", \"answerable\", 2)"
   ]
  },
  {
   "cell_type": "markdown",
   "metadata": {},
   "source": [
    "## Mini version with equal distribution of number of hops"
   ]
  },
  {
   "cell_type": "code",
   "execution_count": 4,
   "metadata": {},
   "outputs": [],
   "source": [
    "# a function that samples from the dataset with equal distribution of n_hops\n",
    "def sample_evenly(dataset, n_samples):\n",
    "    dataset = dataset.map(lambda x: {'n_hops': len(x['question_decomposition'])})\n",
    "    n_hops = np.unique(dataset['n_hops'])\n",
    "    samples_per_hop = n_samples // len(n_hops)\n",
    "    for hop in n_hops:\n",
    "        hop_samples = dataset.filter(lambda x: x['n_hops'] == hop).shuffle().select(range(samples_per_hop))\n",
    "        yield from hop_samples"
   ]
  },
  {
   "cell_type": "code",
   "execution_count": 7,
   "metadata": {},
   "outputs": [],
   "source": [
    "def publish_mini_variant(path: str, config_name: str, n_samples: int):\n",
    "    dsd = load_dataset(path, config_name)\n",
    "    target_dsd = DatasetDict()\n",
    "    for split, ds in dsd.items():\n",
    "        target_dsd[split] = Dataset.from_list(list(sample_evenly(ds, n_samples)))\n",
    "    target_dsd.push_to_hub(f\"{path}-mini\", config_name=config_name)"
   ]
  },
  {
   "cell_type": "code",
   "execution_count": null,
   "metadata": {},
   "outputs": [],
   "source": [
    "publish_mini_variant(\"bdsaglam/musique\", \"default\", 300)\n",
    "publish_mini_variant(\"bdsaglam/musique\", \"answerable\", 300)"
   ]
  },
  {
   "cell_type": "markdown",
   "metadata": {},
   "source": [
    "## The subset used in my thesis"
   ]
  },
  {
   "cell_type": "code",
   "execution_count": 8,
   "metadata": {},
   "outputs": [],
   "source": [
    "from bellek.musique.constants import ABLATION_RECORD_IDS\n",
    "\n",
    "def publish_thesis_variant(path: str, config_name: str):\n",
    "    dsd = load_dataset(path, config_name)\n",
    "    target_dsd = DatasetDict()\n",
    "    for split, ds in dsd.items():\n",
    "        target_dsd[split] = ds.filter(lambda x: x['id'] in ABLATION_RECORD_IDS)\n",
    "    target_dsd.push_to_hub(f\"{path}-thesis\", config_name=config_name)"
   ]
  },
  {
   "cell_type": "code",
   "execution_count": null,
   "metadata": {},
   "outputs": [],
   "source": [
    "publish_thesis_variant(\"bdsaglam/musique\", \"answerable\")"
   ]
  },
  {
   "cell_type": "code",
   "execution_count": null,
   "metadata": {},
   "outputs": [],
   "source": []
  }
 ],
 "metadata": {
  "kernelspec": {
   "display_name": ".venv",
   "language": "python",
   "name": "python3"
  },
  "language_info": {
   "codemirror_mode": {
    "name": "ipython",
    "version": 3
   },
   "file_extension": ".py",
   "mimetype": "text/x-python",
   "name": "python",
   "nbconvert_exporter": "python",
   "pygments_lexer": "ipython3",
   "version": "3.10.12"
  }
 },
 "nbformat": 4,
 "nbformat_minor": 2
}
