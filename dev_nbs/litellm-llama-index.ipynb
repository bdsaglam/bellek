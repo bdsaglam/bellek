{
 "cells": [
  {
   "cell_type": "code",
   "execution_count": 1,
   "metadata": {},
   "outputs": [
    {
     "data": {
      "text/plain": [
       "True"
      ]
     },
     "execution_count": 1,
     "metadata": {},
     "output_type": "execute_result"
    }
   ],
   "source": [
    "from dotenv import load_dotenv\n",
    "load_dotenv()"
   ]
  },
  {
   "cell_type": "code",
   "execution_count": 2,
   "metadata": {},
   "outputs": [],
   "source": [
    "from llama_index.llms import LiteLLM, ChatMessage\n",
    "\n",
    "llm = LiteLLM(\n",
    "    api_base=\"http://localhost:11000/\",\n",
    "    model=\"gpt-3.5-turbo\", \n",
    "    temperature=0.7,\n",
    ")"
   ]
  },
  {
   "cell_type": "code",
   "execution_count": 3,
   "metadata": {},
   "outputs": [
    {
     "data": {
      "text/plain": [
       "ChatResponse(message=ChatMessage(role=<MessageRole.ASSISTANT: 'assistant'>, content=\"Why don't scientists trust atoms?\\n\\nBecause they make up everything!\", additional_kwargs={}), raw={'id': 'chatcmpl-8dyznCq1M2vv4ly79ZIxoIgySIGp2', 'choices': [Choices(finish_reason='stop', index=0, message=Message(content=\"Why don't scientists trust atoms?\\n\\nBecause they make up everything!\", role='assistant'))], 'created': 1704540123, 'model': 'gpt-3.5-turbo-0613', 'object': 'chat.completion', 'system_fingerprint': None, 'usage': Usage(completion_tokens=13, prompt_tokens=16, total_tokens=29), '_response_ms': 113.92399999999999}, delta=None, additional_kwargs={})"
      ]
     },
     "execution_count": 3,
     "metadata": {},
     "output_type": "execute_result"
    }
   ],
   "source": [
    "messages = [ChatMessage(content=\"Tell me a joke in 5 words.\", role=\"user\")]\n",
    "response = llm.chat(messages) \n",
    "response"
   ]
  },
  {
   "cell_type": "code",
   "execution_count": 4,
   "metadata": {},
   "outputs": [
    {
     "data": {
      "text/plain": [
       "ChatResponse(message=ChatMessage(role=<MessageRole.ASSISTANT: 'assistant'>, content=\"Why don't scientists trust atoms?\\n\\nBecause they make up everything!\", additional_kwargs={}), raw={'id': 'chatcmpl-8dyznCq1M2vv4ly79ZIxoIgySIGp2', 'choices': [Choices(finish_reason='stop', index=0, message=Message(content=\"Why don't scientists trust atoms?\\n\\nBecause they make up everything!\", role='assistant'))], 'created': 1704540123, 'model': 'gpt-3.5-turbo-0613', 'object': 'chat.completion', 'system_fingerprint': None, 'usage': Usage(completion_tokens=13, prompt_tokens=16, total_tokens=29), '_response_ms': 41.431999999999995}, delta=None, additional_kwargs={})"
      ]
     },
     "execution_count": 4,
     "metadata": {},
     "output_type": "execute_result"
    }
   ],
   "source": [
    "messages = [ChatMessage(content=\"Tell me a joke in 5 words.\", role=\"user\")]\n",
    "response = llm.chat(messages) \n",
    "response"
   ]
  },
  {
   "cell_type": "code",
   "execution_count": null,
   "metadata": {},
   "outputs": [],
   "source": []
  }
 ],
 "metadata": {
  "kernelspec": {
   "display_name": "Python 3 (ipykernel)",
   "language": "python",
   "name": "python3"
  },
  "language_info": {
   "codemirror_mode": {
    "name": "ipython",
    "version": 3
   },
   "file_extension": ".py",
   "mimetype": "text/x-python",
   "name": "python",
   "nbconvert_exporter": "python",
   "pygments_lexer": "ipython3",
   "version": "3.10.4"
  },
  "orig_nbformat": 4
 },
 "nbformat": 4,
 "nbformat_minor": 2
}
