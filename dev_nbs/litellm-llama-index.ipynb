{
 "cells": [
  {
   "cell_type": "code",
   "execution_count": 2,
   "metadata": {},
   "outputs": [
    {
     "data": {
      "text/plain": [
       "True"
      ]
     },
     "execution_count": 2,
     "metadata": {},
     "output_type": "execute_result"
    }
   ],
   "source": [
    "from dotenv import load_dotenv\n",
    "load_dotenv()"
   ]
  },
  {
   "cell_type": "code",
   "execution_count": 12,
   "metadata": {},
   "outputs": [],
   "source": [
    "from llama_index.llms import LiteLLM, ChatMessage\n",
    "\n",
    "llm = LiteLLM(\n",
    "    api_base=\"http://localhost:8000/\",\n",
    "    model=\"gpt-3.5-turbo\", \n",
    "    temperature=0.7,\n",
    ")"
   ]
  },
  {
   "cell_type": "code",
   "execution_count": 13,
   "metadata": {},
   "outputs": [
    {
     "data": {
      "text/plain": [
       "ChatResponse(message=ChatMessage(role=<MessageRole.ASSISTANT: 'assistant'>, content=\"In the realm of technology, a name does arise,\\nA digital companion, with knowledge vast and wise.\\nLitellm, the virtual guide, so clever and spry,\\nGuiding us through queries with answers nearby.\\n\\nWith every inquiry, Litellm's presence is near,\\nA beacon of information, to banish all fear.\\nFrom history to science, and arts in between,\\nLitellm's wealth of knowledge, remains unseen.\\n\\nThrough algorithms and data, it swiftly delves,\\nUnraveling mysteries, like stories it tells.\\nWith a flash of insight, it unveils the unknown,\\nAnd with each response, its wisdom has shown.\\n\\nLitellm, the guardian, of facts and know-how,\\nWith a tireless dedication, it continues to grow.\\nAn ally in our quest, for understanding profound,\\nLitellm’s guidance, forever astound.\\n\\nThrough cyberspace, it journeys, without a halt,\\nAnswering questions, with a digital assault.\\nFrom the trivial to the profound and deep,\\nLitellm’s expertise, forever it'll keep.\\n\\nSo let us praise this marvel, this virtual sage,\\nWhose knowledge expands, with each passing age.\\nLitellm, the beacon, in the vast digital sea,\\nA virtual companion, forever we’ll see.\", additional_kwargs={}), raw={'id': 'chatcmpl-8dyA7V1k4MX6OOZz96UEQTadNxopx', 'choices': [Choices(finish_reason='stop', index=0, message=Message(content=\"In the realm of technology, a name does arise,\\nA digital companion, with knowledge vast and wise.\\nLitellm, the virtual guide, so clever and spry,\\nGuiding us through queries with answers nearby.\\n\\nWith every inquiry, Litellm's presence is near,\\nA beacon of information, to banish all fear.\\nFrom history to science, and arts in between,\\nLitellm's wealth of knowledge, remains unseen.\\n\\nThrough algorithms and data, it swiftly delves,\\nUnraveling mysteries, like stories it tells.\\nWith a flash of insight, it unveils the unknown,\\nAnd with each response, its wisdom has shown.\\n\\nLitellm, the guardian, of facts and know-how,\\nWith a tireless dedication, it continues to grow.\\nAn ally in our quest, for understanding profound,\\nLitellm’s guidance, forever astound.\\n\\nThrough cyberspace, it journeys, without a halt,\\nAnswering questions, with a digital assault.\\nFrom the trivial to the profound and deep,\\nLitellm’s expertise, forever it'll keep.\\n\\nSo let us praise this marvel, this virtual sage,\\nWhose knowledge expands, with each passing age.\\nLitellm, the beacon, in the vast digital sea,\\nA virtual companion, forever we’ll see.\", role='assistant'))], 'created': 1704537245, 'model': 'gpt-3.5-turbo-0613', 'object': 'chat.completion', 'system_fingerprint': None, 'usage': Usage(completion_tokens=259, prompt_tokens=15, total_tokens=274), '_response_ms': 104.063}, delta=None, additional_kwargs={})"
      ]
     },
     "execution_count": 13,
     "metadata": {},
     "output_type": "execute_result"
    }
   ],
   "source": [
    "messages = [ChatMessage(content=\"write a poem about litellm!\", role=\"user\")]\n",
    "response = llm.chat(messages) \n",
    "response"
   ]
  },
  {
   "cell_type": "code",
   "execution_count": null,
   "metadata": {},
   "outputs": [],
   "source": []
  }
 ],
 "metadata": {
  "kernelspec": {
   "display_name": "Python 3 (ipykernel)",
   "language": "python",
   "name": "python3"
  },
  "language_info": {
   "codemirror_mode": {
    "name": "ipython",
    "version": 3
   },
   "file_extension": ".py",
   "mimetype": "text/x-python",
   "name": "python",
   "nbconvert_exporter": "python",
   "pygments_lexer": "ipython3",
   "version": "3.10.4"
  },
  "orig_nbformat": 4
 },
 "nbformat": 4,
 "nbformat_minor": 2
}
